{
  "nbformat": 4,
  "nbformat_minor": 0,
  "metadata": {
    "colab": {
      "name": "TrivagoFeatureEngineering.ipynb",
      "provenance": [],
      "toc_visible": true,
      "include_colab_link": true
    },
    "kernelspec": {
      "name": "python3",
      "display_name": "Python 3"
    },
    "language_info": {
      "codemirror_mode": {
        "name": "ipython",
        "version": 3
      },
      "file_extension": ".py",
      "mimetype": "text/x-python",
      "name": "python",
      "nbconvert_exporter": "python",
      "pygments_lexer": "ipython3",
      "version": "3.7.3"
    },
    "accelerator": "GPU"
  },
  "cells": [
    {
      "cell_type": "markdown",
      "metadata": {
        "id": "view-in-github",
        "colab_type": "text"
      },
      "source": [
        "<a href=\"https://colab.research.google.com/github/ZeyadSabbah/TrivagoRecommenderSystem/blob/master/TrivagoFeatureEngineering_cuDF.ipynb\" target=\"_parent\"><img src=\"https://colab.research.google.com/assets/colab-badge.svg\" alt=\"Open In Colab\"/></a>"
      ]
    },
    {
      "cell_type": "markdown",
      "metadata": {
        "id": "t9xOcTOs-egL",
        "colab_type": "text"
      },
      "source": [
        "# Feature Engineering"
      ]
    },
    {
      "cell_type": "markdown",
      "metadata": {
        "id": "v69U4HIGKMAw",
        "colab_type": "text"
      },
      "source": [
        "## Mounting to Drive"
      ]
    },
    {
      "cell_type": "code",
      "metadata": {
        "id": "qKOJSxSSKU2s",
        "colab_type": "code",
        "colab": {
          "base_uri": "https://localhost:8080/",
          "height": 128
        },
        "outputId": "e89678da-02b4-4359-d985-54e77f8be3b0"
      },
      "source": [
        "from google.colab import drive\n",
        "drive.mount('/content/drive')"
      ],
      "execution_count": 6,
      "outputs": [
        {
          "output_type": "stream",
          "text": [
            "Go to this URL in a browser: https://accounts.google.com/o/oauth2/auth?client_id=947318989803-6bn6qk8qdgf4n4g3pfee6491hc0brc4i.apps.googleusercontent.com&redirect_uri=urn%3aietf%3awg%3aoauth%3a2.0%3aoob&response_type=code&scope=email%20https%3a%2f%2fwww.googleapis.com%2fauth%2fdocs.test%20https%3a%2f%2fwww.googleapis.com%2fauth%2fdrive%20https%3a%2f%2fwww.googleapis.com%2fauth%2fdrive.photos.readonly%20https%3a%2f%2fwww.googleapis.com%2fauth%2fpeopleapi.readonly\n",
            "\n",
            "Enter your authorization code:\n",
            "··········\n",
            "Mounted at /content/drive\n"
          ],
          "name": "stdout"
        }
      ]
    },
    {
      "cell_type": "code",
      "metadata": {
        "id": "MuIGFI6lWj4z",
        "colab_type": "code",
        "colab": {
          "base_uri": "https://localhost:8080/",
          "height": 35
        },
        "outputId": "5a417b73-653f-461d-e9f0-63326041b020"
      },
      "source": [
        "%cd /content/drive/My Drive/Trivago/Project/TrivagoRecommenderSystem"
      ],
      "execution_count": 7,
      "outputs": [
        {
          "output_type": "stream",
          "text": [
            "/content/drive/My Drive/Trivago/Project/TrivagoRecommenderSystem\n"
          ],
          "name": "stdout"
        }
      ]
    },
    {
      "cell_type": "markdown",
      "metadata": {
        "id": "erJzSzQAKI_E",
        "colab_type": "text"
      },
      "source": [
        "## Loading Libraries & Datasets"
      ]
    },
    {
      "cell_type": "code",
      "metadata": {
        "id": "4W-Uu4f8Wqb2",
        "colab_type": "code",
        "colab": {
          "base_uri": "https://localhost:8080/",
          "height": 254
        },
        "outputId": "368d1349-6ca2-47b8-ea3a-14db6919038f"
      },
      "source": [
        "!pip install cudf-cuda100\n",
        "!cp /usr/local/lib/python3.6/dist-packages/librmm.so .\n",
        "import os  \n",
        "os.environ['NUMBAPRO_NVVM']='/usr/local/cuda-10.0/nvvm/lib64/libnvvm.so'  \n",
        "os.environ['NUMBAPRO_LIBDEVICE']='/usr/local/cuda-10.0/nvvm/libdevice'"
      ],
      "execution_count": 2,
      "outputs": [
        {
          "output_type": "stream",
          "text": [
            "Requirement already satisfied: cudf-cuda100 in /usr/local/lib/python3.6/dist-packages (0.6.1)\n",
            "Requirement already satisfied: cffi>=1.0.0 in /usr/local/lib/python3.6/dist-packages (from cudf-cuda100) (1.14.0)\n",
            "Requirement already satisfied: pyarrow==0.12.1 in /usr/local/lib/python3.6/dist-packages (from cudf-cuda100) (0.12.1)\n",
            "Requirement already satisfied: pandas>=0.23.4 in /usr/local/lib/python3.6/dist-packages (from cudf-cuda100) (0.25.3)\n",
            "Requirement already satisfied: cython<0.30,>=0.29 in /usr/local/lib/python3.6/dist-packages (from cudf-cuda100) (0.29.15)\n",
            "Requirement already satisfied: nvstrings-cuda100 in /usr/local/lib/python3.6/dist-packages (from cudf-cuda100) (0.3.0.post1)\n",
            "Requirement already satisfied: numpy>=1.14 in /usr/local/lib/python3.6/dist-packages (from cudf-cuda100) (1.17.5)\n",
            "Requirement already satisfied: pycparser==2.19 in /usr/local/lib/python3.6/dist-packages (from cudf-cuda100) (2.19)\n",
            "Requirement already satisfied: numba<0.42,>=0.40.0 in /usr/local/lib/python3.6/dist-packages (from cudf-cuda100) (0.41.0)\n",
            "Requirement already satisfied: six>=1.0.0 in /usr/local/lib/python3.6/dist-packages (from pyarrow==0.12.1->cudf-cuda100) (1.12.0)\n",
            "Requirement already satisfied: pytz>=2017.2 in /usr/local/lib/python3.6/dist-packages (from pandas>=0.23.4->cudf-cuda100) (2018.9)\n",
            "Requirement already satisfied: python-dateutil>=2.6.1 in /usr/local/lib/python3.6/dist-packages (from pandas>=0.23.4->cudf-cuda100) (2.6.1)\n",
            "Requirement already satisfied: llvmlite>=0.26.0dev0 in /usr/local/lib/python3.6/dist-packages (from numba<0.42,>=0.40.0->cudf-cuda100) (0.31.0)\n"
          ],
          "name": "stdout"
        }
      ]
    },
    {
      "cell_type": "code",
      "metadata": {
        "id": "9Zp_jIpNFgiF",
        "colab_type": "code",
        "colab": {}
      },
      "source": [
        "import cudf \n",
        "import pandas as pd\n",
        "import numpy as np\n",
        "from datetime import datetime\n",
        "from datetime import timedelta\n",
        "import math\n",
        "import matplotlib.pyplot as plt\n",
        "from datetime import datetime\n",
        "import re\n",
        "import random\n",
        "from sklearn.preprocessing import OneHotEncoder\n",
        "from sklearn.metrics.pairwise import cosine_similarity\n",
        "from collections import Counter\n",
        "from sklearn.preprocessing import MultiLabelBinarizer"
      ],
      "execution_count": 0,
      "outputs": []
    },
    {
      "cell_type": "code",
      "metadata": {
        "id": "7YcDzyEZFgiS",
        "colab_type": "code",
        "colab": {}
      },
      "source": [
        "item_metadata_filepath = '../../Datasets/raw_data/item_metadata.csv'\n",
        "item_metadata = pd.read_csv(item_metadata_filepath)\n",
        "\n",
        "train_filepath = '../../Datasets/clean_data/train.csv'\n",
        "train = pd.read_csv(train_filepath)"
      ],
      "execution_count": 0,
      "outputs": []
    },
    {
      "cell_type": "markdown",
      "metadata": {
        "id": "fHwyV10cPz9S",
        "colab_type": "text"
      },
      "source": [
        "## Important Dataframes Preparation"
      ]
    },
    {
      "cell_type": "markdown",
      "metadata": {
        "id": "laMcu0RZQBOV",
        "colab_type": "text"
      },
      "source": [
        "In engineer global features from the train dataset, which will be most of the cases around either clickouts or final click out examples (instances), two dataframes of them will be created."
      ]
    },
    {
      "cell_type": "markdown",
      "metadata": {
        "id": "Y1XiWUXTQ8nc",
        "colab_type": "text"
      },
      "source": [
        "In order to get representative global values to the items, duplicated  must be removed. Rows would not all be duplicated because of some attributes such as timestamp, reference, and step."
      ]
    },
    {
      "cell_type": "code",
      "metadata": {
        "id": "xKleerFyfcgy",
        "colab_type": "code",
        "colab": {
          "base_uri": "https://localhost:8080/",
          "height": 35
        },
        "outputId": "505cb8cf-ecf5-4968-8749-77dd44b3c352"
      },
      "source": [
        "train.timestamp.mean()"
      ],
      "execution_count": 18,
      "outputs": [
        {
          "output_type": "execute_result",
          "data": {
            "text/plain": [
              "1541304055.15172"
            ]
          },
          "metadata": {
            "tags": []
          },
          "execution_count": 18
        }
      ]
    },
    {
      "cell_type": "code",
      "metadata": {
        "id": "Q3XkeVC_gkd_",
        "colab_type": "code",
        "colab": {}
      },
      "source": [
        "train.drop_column('Unnamed: 0')"
      ],
      "execution_count": 0,
      "outputs": []
    },
    {
      "cell_type": "code",
      "metadata": {
        "id": "miZM75r4it8N",
        "colab_type": "code",
        "colab": {}
      },
      "source": [
        "Xpd = pd.DataFrame()"
      ],
      "execution_count": 0,
      "outputs": []
    },
    {
      "cell_type": "code",
      "metadata": {
        "id": "fbln83P0ixwH",
        "colab_type": "code",
        "colab": {
          "base_uri": "https://localhost:8080/",
          "height": 171
        },
        "outputId": "505a38d5-2179-47a2-f7b1-d8d6eff3d27f"
      },
      "source": [
        "pd.from_cudf(item_metadata)"
      ],
      "execution_count": 41,
      "outputs": [
        {
          "output_type": "error",
          "ename": "AttributeError",
          "evalue": "ignored",
          "traceback": [
            "\u001b[0;31m---------------------------------------------------------------------------\u001b[0m",
            "\u001b[0;31mAttributeError\u001b[0m                            Traceback (most recent call last)",
            "\u001b[0;32m<ipython-input-41-8e2121c649b8>\u001b[0m in \u001b[0;36m<module>\u001b[0;34m()\u001b[0m\n\u001b[0;32m----> 1\u001b[0;31m \u001b[0mpd\u001b[0m\u001b[0;34m.\u001b[0m\u001b[0mfrom_cudf\u001b[0m\u001b[0;34m(\u001b[0m\u001b[0mitem_metadata\u001b[0m\u001b[0;34m)\u001b[0m\u001b[0;34m\u001b[0m\u001b[0;34m\u001b[0m\u001b[0m\n\u001b[0m",
            "\u001b[0;31mAttributeError\u001b[0m: module 'pandas' has no attribute 'from_cudf'"
          ]
        }
      ]
    },
    {
      "cell_type": "code",
      "metadata": {
        "id": "KWDB-RD4FgjK",
        "colab_type": "code",
        "colab": {
          "base_uri": "https://localhost:8080/",
          "height": 225
        },
        "outputId": "0079465b-0ee5-4a31-e88c-2cffa28f6682"
      },
      "source": [
        "train.drop('Unnamed: 0', axis=1, inplace=True)\n",
        "ClickoutDF = train[train.action_type=='clickout item']\n",
        "FinalClickoutDF = train[train.action_type=='clickout item'].groupby('session_id').tail(1)\n",
        "ClickoutUniqueDF = ClickoutDF.drop_duplicates(subset=['session_id', 'impressions'], keep='first')"
      ],
      "execution_count": 32,
      "outputs": [
        {
          "output_type": "error",
          "ename": "TypeError",
          "evalue": "ignored",
          "traceback": [
            "\u001b[0;31m---------------------------------------------------------------------------\u001b[0m",
            "\u001b[0;31mTypeError\u001b[0m                                 Traceback (most recent call last)",
            "\u001b[0;32m<ipython-input-32-c7e51270b62a>\u001b[0m in \u001b[0;36m<module>\u001b[0;34m()\u001b[0m\n\u001b[0;32m----> 1\u001b[0;31m \u001b[0mtrain\u001b[0m\u001b[0;34m.\u001b[0m\u001b[0mdrop\u001b[0m\u001b[0;34m(\u001b[0m\u001b[0;34m'Unnamed: 0'\u001b[0m\u001b[0;34m,\u001b[0m \u001b[0maxis\u001b[0m\u001b[0;34m=\u001b[0m\u001b[0;36m1\u001b[0m\u001b[0;34m,\u001b[0m \u001b[0minplace\u001b[0m\u001b[0;34m=\u001b[0m\u001b[0;32mTrue\u001b[0m\u001b[0;34m)\u001b[0m\u001b[0;34m\u001b[0m\u001b[0;34m\u001b[0m\u001b[0m\n\u001b[0m\u001b[1;32m      2\u001b[0m \u001b[0mClickoutDF\u001b[0m \u001b[0;34m=\u001b[0m \u001b[0mtrain\u001b[0m\u001b[0;34m[\u001b[0m\u001b[0mtrain\u001b[0m\u001b[0;34m.\u001b[0m\u001b[0maction_type\u001b[0m\u001b[0;34m==\u001b[0m\u001b[0;34m'clickout item'\u001b[0m\u001b[0;34m]\u001b[0m\u001b[0;34m\u001b[0m\u001b[0;34m\u001b[0m\u001b[0m\n\u001b[1;32m      3\u001b[0m \u001b[0mFinalClickoutDF\u001b[0m \u001b[0;34m=\u001b[0m \u001b[0mtrain\u001b[0m\u001b[0;34m[\u001b[0m\u001b[0mtrain\u001b[0m\u001b[0;34m.\u001b[0m\u001b[0maction_type\u001b[0m\u001b[0;34m==\u001b[0m\u001b[0;34m'clickout item'\u001b[0m\u001b[0;34m]\u001b[0m\u001b[0;34m.\u001b[0m\u001b[0mgroupby\u001b[0m\u001b[0;34m(\u001b[0m\u001b[0;34m'session_id'\u001b[0m\u001b[0;34m)\u001b[0m\u001b[0;34m.\u001b[0m\u001b[0mtail\u001b[0m\u001b[0;34m(\u001b[0m\u001b[0;36m1\u001b[0m\u001b[0;34m)\u001b[0m\u001b[0;34m\u001b[0m\u001b[0;34m\u001b[0m\u001b[0m\n\u001b[1;32m      4\u001b[0m \u001b[0mClickoutUniqueDF\u001b[0m \u001b[0;34m=\u001b[0m \u001b[0mClickoutDF\u001b[0m\u001b[0;34m.\u001b[0m\u001b[0mdrop_duplicates\u001b[0m\u001b[0;34m(\u001b[0m\u001b[0msubset\u001b[0m\u001b[0;34m=\u001b[0m\u001b[0;34m[\u001b[0m\u001b[0;34m'session_id'\u001b[0m\u001b[0;34m,\u001b[0m \u001b[0;34m'impressions'\u001b[0m\u001b[0;34m]\u001b[0m\u001b[0;34m,\u001b[0m \u001b[0mkeep\u001b[0m\u001b[0;34m=\u001b[0m\u001b[0;34m'first'\u001b[0m\u001b[0;34m)\u001b[0m\u001b[0;34m\u001b[0m\u001b[0;34m\u001b[0m\u001b[0m\n",
            "\u001b[0;31mTypeError\u001b[0m: drop() got an unexpected keyword argument 'axis'"
          ]
        }
      ]
    },
    {
      "cell_type": "markdown",
      "metadata": {
        "id": "F7aOzD-qFgib",
        "colab_type": "text"
      },
      "source": [
        "## Item Global Features\n",
        "### Number of Properties"
      ]
    },
    {
      "cell_type": "code",
      "metadata": {
        "id": "uKawZ83AFgif",
        "colab_type": "code",
        "colab": {},
        "outputId": "83d58b87-dfec-410b-fc13-161d91ca15a3"
      },
      "source": [
        "item_metadata.properties = item_metadata.properties.apply(lambda x: x.split('|'))\n",
        "item_metadata['NumberOfProperties'] = item_metadata.properties.apply(lambda x: len(x))\n",
        "item_metadata.head()"
      ],
      "execution_count": 0,
      "outputs": [
        {
          "output_type": "execute_result",
          "data": {
            "text/html": [
              "<div>\n",
              "<style scoped>\n",
              "    .dataframe tbody tr th:only-of-type {\n",
              "        vertical-align: middle;\n",
              "    }\n",
              "\n",
              "    .dataframe tbody tr th {\n",
              "        vertical-align: top;\n",
              "    }\n",
              "\n",
              "    .dataframe thead th {\n",
              "        text-align: right;\n",
              "    }\n",
              "</style>\n",
              "<table border=\"1\" class=\"dataframe\">\n",
              "  <thead>\n",
              "    <tr style=\"text-align: right;\">\n",
              "      <th></th>\n",
              "      <th>item_id</th>\n",
              "      <th>properties</th>\n",
              "      <th>NumberOfProperties</th>\n",
              "    </tr>\n",
              "  </thead>\n",
              "  <tbody>\n",
              "    <tr>\n",
              "      <th>0</th>\n",
              "      <td>5101</td>\n",
              "      <td>[Satellite TV, Golf Course, Airport Shuttle, C...</td>\n",
              "      <td>62</td>\n",
              "    </tr>\n",
              "    <tr>\n",
              "      <th>1</th>\n",
              "      <td>5416</td>\n",
              "      <td>[Satellite TV, Cosmetic Mirror, Safe (Hotel), ...</td>\n",
              "      <td>46</td>\n",
              "    </tr>\n",
              "    <tr>\n",
              "      <th>2</th>\n",
              "      <td>5834</td>\n",
              "      <td>[Satellite TV, Cosmetic Mirror, Safe (Hotel), ...</td>\n",
              "      <td>40</td>\n",
              "    </tr>\n",
              "    <tr>\n",
              "      <th>3</th>\n",
              "      <td>5910</td>\n",
              "      <td>[Satellite TV, Sailing, Cosmetic Mirror, Telep...</td>\n",
              "      <td>41</td>\n",
              "    </tr>\n",
              "    <tr>\n",
              "      <th>4</th>\n",
              "      <td>6066</td>\n",
              "      <td>[Satellite TV, Sailing, Diving, Cosmetic Mirro...</td>\n",
              "      <td>85</td>\n",
              "    </tr>\n",
              "  </tbody>\n",
              "</table>\n",
              "</div>"
            ],
            "text/plain": [
              "   item_id                                         properties  \\\n",
              "0     5101  [Satellite TV, Golf Course, Airport Shuttle, C...   \n",
              "1     5416  [Satellite TV, Cosmetic Mirror, Safe (Hotel), ...   \n",
              "2     5834  [Satellite TV, Cosmetic Mirror, Safe (Hotel), ...   \n",
              "3     5910  [Satellite TV, Sailing, Cosmetic Mirror, Telep...   \n",
              "4     6066  [Satellite TV, Sailing, Diving, Cosmetic Mirro...   \n",
              "\n",
              "   NumberOfProperties  \n",
              "0                  62  \n",
              "1                  46  \n",
              "2                  40  \n",
              "3                  41  \n",
              "4                  85  "
            ]
          },
          "metadata": {
            "tags": []
          },
          "execution_count": 3
        }
      ]
    },
    {
      "cell_type": "code",
      "metadata": {
        "id": "_KEWtPQTFgir",
        "colab_type": "code",
        "colab": {},
        "outputId": "4fb04564-e3c9-48b7-8b09-2f7695cf0ef6"
      },
      "source": [
        "#getting total number of unique properties across all items\n",
        "AllPropertiesList = item_metadata.properties.tolist()\n",
        "\n",
        "AllPropertiesFlatList = []\n",
        "for sublist in AllPropertiesList:\n",
        "    for item in sublist:\n",
        "        AllPropertiesFlatList.append(item)\n",
        "        \n",
        "print('Number of unique properties is', len(set(AllPropertiesFlatList)))"
      ],
      "execution_count": 0,
      "outputs": [
        {
          "output_type": "stream",
          "text": [
            "Number of unique properties is 157\n"
          ],
          "name": "stdout"
        }
      ]
    },
    {
      "cell_type": "markdown",
      "metadata": {
        "id": "jic5BPFfFgiy",
        "colab_type": "text"
      },
      "source": [
        "### Items Properties Similarities\n",
        "The purpose is to get cosine similarity between items. The maximum 25 items out of the list can be extracted as a dataframe and cosine similarity can be obtained in order to get the similar items to the ones the user had interacted with to be listed on the top of the list.  "
      ]
    },
    {
      "cell_type": "code",
      "metadata": {
        "scrolled": true,
        "id": "upvpoHnMFgi1",
        "colab_type": "code",
        "colab": {},
        "outputId": "54b35a30-8620-4d70-af08-ae1a0cde0ee8"
      },
      "source": [
        "item_metadata.properties = item_metadata.properties.apply(lambda x: tuple(x))\n",
        "\n",
        "one_hot = MultiLabelBinarizer()\n",
        "\n",
        "properties_encoded = one_hot.fit_transform(item_metadata.properties.values.tolist())\n",
        "\n",
        "properties_encodedDF = pd.DataFrame(properties_encoded)\n",
        "\n",
        "#changing column names\n",
        "properties_list = one_hot.classes_.tolist()\n",
        "for i in range(len(properties_list)):\n",
        "    properties_encodedDF = properties_encodedDF.rename(columns={i:properties_list[i]})\n",
        "\n",
        "#creating a column of the item id to get the similarity between items\n",
        "item_metadata.item_id = item_metadata.item_id.apply(lambda x: str(x))\n",
        "properties_encodedDF['item_id'] = item_metadata.item_id\n",
        "\n",
        "properties_encodedDF.head()"
      ],
      "execution_count": 0,
      "outputs": [
        {
          "output_type": "execute_result",
          "data": {
            "text/html": [
              "<div>\n",
              "<style scoped>\n",
              "    .dataframe tbody tr th:only-of-type {\n",
              "        vertical-align: middle;\n",
              "    }\n",
              "\n",
              "    .dataframe tbody tr th {\n",
              "        vertical-align: top;\n",
              "    }\n",
              "\n",
              "    .dataframe thead th {\n",
              "        text-align: right;\n",
              "    }\n",
              "</style>\n",
              "<table border=\"1\" class=\"dataframe\">\n",
              "  <thead>\n",
              "    <tr style=\"text-align: right;\">\n",
              "      <th></th>\n",
              "      <th>1 Star</th>\n",
              "      <th>2 Star</th>\n",
              "      <th>3 Star</th>\n",
              "      <th>4 Star</th>\n",
              "      <th>5 Star</th>\n",
              "      <th>Accessible Hotel</th>\n",
              "      <th>Accessible Parking</th>\n",
              "      <th>Adults Only</th>\n",
              "      <th>Air Conditioning</th>\n",
              "      <th>Airport Hotel</th>\n",
              "      <th>...</th>\n",
              "      <th>Terrace (Hotel)</th>\n",
              "      <th>Theme Hotel</th>\n",
              "      <th>Towels</th>\n",
              "      <th>Very Good Rating</th>\n",
              "      <th>Volleyball</th>\n",
              "      <th>Washing Machine</th>\n",
              "      <th>Water Slide</th>\n",
              "      <th>Wheelchair Accessible</th>\n",
              "      <th>WiFi (Public Areas)</th>\n",
              "      <th>WiFi (Rooms)</th>\n",
              "    </tr>\n",
              "  </thead>\n",
              "  <tbody>\n",
              "    <tr>\n",
              "      <th>0</th>\n",
              "      <td>0</td>\n",
              "      <td>0</td>\n",
              "      <td>0</td>\n",
              "      <td>1</td>\n",
              "      <td>0</td>\n",
              "      <td>1</td>\n",
              "      <td>1</td>\n",
              "      <td>0</td>\n",
              "      <td>1</td>\n",
              "      <td>0</td>\n",
              "      <td>...</td>\n",
              "      <td>1</td>\n",
              "      <td>0</td>\n",
              "      <td>0</td>\n",
              "      <td>0</td>\n",
              "      <td>0</td>\n",
              "      <td>0</td>\n",
              "      <td>0</td>\n",
              "      <td>0</td>\n",
              "      <td>1</td>\n",
              "      <td>1</td>\n",
              "    </tr>\n",
              "    <tr>\n",
              "      <th>1</th>\n",
              "      <td>0</td>\n",
              "      <td>0</td>\n",
              "      <td>0</td>\n",
              "      <td>1</td>\n",
              "      <td>0</td>\n",
              "      <td>0</td>\n",
              "      <td>0</td>\n",
              "      <td>0</td>\n",
              "      <td>0</td>\n",
              "      <td>0</td>\n",
              "      <td>...</td>\n",
              "      <td>1</td>\n",
              "      <td>0</td>\n",
              "      <td>0</td>\n",
              "      <td>1</td>\n",
              "      <td>0</td>\n",
              "      <td>0</td>\n",
              "      <td>0</td>\n",
              "      <td>1</td>\n",
              "      <td>1</td>\n",
              "      <td>1</td>\n",
              "    </tr>\n",
              "    <tr>\n",
              "      <th>2</th>\n",
              "      <td>0</td>\n",
              "      <td>0</td>\n",
              "      <td>1</td>\n",
              "      <td>0</td>\n",
              "      <td>0</td>\n",
              "      <td>0</td>\n",
              "      <td>0</td>\n",
              "      <td>0</td>\n",
              "      <td>0</td>\n",
              "      <td>0</td>\n",
              "      <td>...</td>\n",
              "      <td>1</td>\n",
              "      <td>0</td>\n",
              "      <td>0</td>\n",
              "      <td>1</td>\n",
              "      <td>0</td>\n",
              "      <td>0</td>\n",
              "      <td>0</td>\n",
              "      <td>0</td>\n",
              "      <td>1</td>\n",
              "      <td>1</td>\n",
              "    </tr>\n",
              "    <tr>\n",
              "      <th>3</th>\n",
              "      <td>0</td>\n",
              "      <td>0</td>\n",
              "      <td>0</td>\n",
              "      <td>1</td>\n",
              "      <td>0</td>\n",
              "      <td>0</td>\n",
              "      <td>0</td>\n",
              "      <td>0</td>\n",
              "      <td>0</td>\n",
              "      <td>0</td>\n",
              "      <td>...</td>\n",
              "      <td>1</td>\n",
              "      <td>0</td>\n",
              "      <td>0</td>\n",
              "      <td>0</td>\n",
              "      <td>0</td>\n",
              "      <td>0</td>\n",
              "      <td>0</td>\n",
              "      <td>0</td>\n",
              "      <td>1</td>\n",
              "      <td>0</td>\n",
              "    </tr>\n",
              "    <tr>\n",
              "      <th>4</th>\n",
              "      <td>0</td>\n",
              "      <td>0</td>\n",
              "      <td>0</td>\n",
              "      <td>1</td>\n",
              "      <td>0</td>\n",
              "      <td>1</td>\n",
              "      <td>1</td>\n",
              "      <td>0</td>\n",
              "      <td>0</td>\n",
              "      <td>0</td>\n",
              "      <td>...</td>\n",
              "      <td>1</td>\n",
              "      <td>0</td>\n",
              "      <td>1</td>\n",
              "      <td>0</td>\n",
              "      <td>1</td>\n",
              "      <td>0</td>\n",
              "      <td>0</td>\n",
              "      <td>1</td>\n",
              "      <td>1</td>\n",
              "      <td>1</td>\n",
              "    </tr>\n",
              "  </tbody>\n",
              "</table>\n",
              "<p>5 rows × 157 columns</p>\n",
              "</div>"
            ],
            "text/plain": [
              "   1 Star  2 Star  3 Star  4 Star  5 Star  Accessible Hotel  \\\n",
              "0       0       0       0       1       0                 1   \n",
              "1       0       0       0       1       0                 0   \n",
              "2       0       0       1       0       0                 0   \n",
              "3       0       0       0       1       0                 0   \n",
              "4       0       0       0       1       0                 1   \n",
              "\n",
              "   Accessible Parking  Adults Only  Air Conditioning  Airport Hotel  ...  \\\n",
              "0                   1            0                 1              0  ...   \n",
              "1                   0            0                 0              0  ...   \n",
              "2                   0            0                 0              0  ...   \n",
              "3                   0            0                 0              0  ...   \n",
              "4                   1            0                 0              0  ...   \n",
              "\n",
              "   Terrace (Hotel)  Theme Hotel  Towels  Very Good Rating  Volleyball  \\\n",
              "0                1            0       0                 0           0   \n",
              "1                1            0       0                 1           0   \n",
              "2                1            0       0                 1           0   \n",
              "3                1            0       0                 0           0   \n",
              "4                1            0       1                 0           1   \n",
              "\n",
              "   Washing Machine  Water Slide  Wheelchair Accessible  WiFi (Public Areas)  \\\n",
              "0                0            0                      0                    1   \n",
              "1                0            0                      1                    1   \n",
              "2                0            0                      0                    1   \n",
              "3                0            0                      0                    1   \n",
              "4                0            0                      1                    1   \n",
              "\n",
              "   WiFi (Rooms)  \n",
              "0             1  \n",
              "1             1  \n",
              "2             1  \n",
              "3             0  \n",
              "4             1  \n",
              "\n",
              "[5 rows x 157 columns]"
            ]
          },
          "metadata": {
            "tags": []
          },
          "execution_count": 6
        }
      ]
    },
    {
      "cell_type": "code",
      "metadata": {
        "id": "55-zbqmpFgi_",
        "colab_type": "code",
        "colab": {},
        "outputId": "ec571a05-02c2-44dc-df69-ecceedd872f1"
      },
      "source": [
        "cosine_similarity(properties_encodedDF.set_index('item_id').iloc[0:25])[0]"
      ],
      "execution_count": 0,
      "outputs": [
        {
          "output_type": "execute_result",
          "data": {
            "text/plain": [
              "array([1.        , 0.69283044, 0.6024145 , 0.69419307, 0.74385528,\n",
              "       0.62604751, 0.7220817 , 0.75202407, 0.72586619, 0.77491695,\n",
              "       0.68469194, 0.56796183, 0.65036141, 0.7573052 , 0.68861713,\n",
              "       0.73636183, 0.5528638 , 0.66628253, 0.65991202, 0.68250015,\n",
              "       0.74691014, 0.756971  , 0.57473697, 0.61833711, 0.5265603 ])"
            ]
          },
          "metadata": {
            "tags": []
          },
          "execution_count": 137
        }
      ]
    },
    {
      "cell_type": "markdown",
      "metadata": {
        "id": "J8kcaIOEFgjH",
        "colab_type": "text"
      },
      "source": [
        "It needs to be discussed for further implementation."
      ]
    },
    {
      "cell_type": "markdown",
      "metadata": {
        "id": "a3_zkXYmFgjJ",
        "colab_type": "text"
      },
      "source": [
        "## Number of Times in Impressions\n",
        "The purpose of this feature is to check how many times an item had been shown to users in the list."
      ]
    },
    {
      "cell_type": "markdown",
      "metadata": {
        "id": "2a0n6qeSFgjd",
        "colab_type": "text"
      },
      "source": [
        "Finding number of times an item has been mentioned in a list."
      ]
    },
    {
      "cell_type": "code",
      "metadata": {
        "id": "hqDgSatzFgj0",
        "colab_type": "code",
        "colab": {},
        "outputId": "451cf685-d771-4573-fcd0-c946cdee33cf"
      },
      "source": [
        "AllImpressionsList = ClickoutUniqueDF.impressions.apply(lambda x:x.split('|'))\n",
        "\n",
        "AllImpressionsFlatList = []\n",
        "for sublist in AllImpressionsList:\n",
        "    for item in sublist:\n",
        "        AllImpressionsFlatList.append(item)\n",
        "\n",
        "InImpressionsCounter = Counter(AllImpressionsFlatList)\n",
        "InImpressionsDF = pd.DataFrame.from_dict(InImpressionsCounter, orient='index').reset_index()\\\n",
        "                              .rename(columns={'index':'item_id', 0:'NumberInImpressions'})\n",
        "InImpressionsDF.head()"
      ],
      "execution_count": 0,
      "outputs": [
        {
          "output_type": "execute_result",
          "data": {
            "text/html": [
              "<div>\n",
              "<style scoped>\n",
              "    .dataframe tbody tr th:only-of-type {\n",
              "        vertical-align: middle;\n",
              "    }\n",
              "\n",
              "    .dataframe tbody tr th {\n",
              "        vertical-align: top;\n",
              "    }\n",
              "\n",
              "    .dataframe thead th {\n",
              "        text-align: right;\n",
              "    }\n",
              "</style>\n",
              "<table border=\"1\" class=\"dataframe\">\n",
              "  <thead>\n",
              "    <tr style=\"text-align: right;\">\n",
              "      <th></th>\n",
              "      <th>item_id</th>\n",
              "      <th>NumberInImpressions</th>\n",
              "    </tr>\n",
              "  </thead>\n",
              "  <tbody>\n",
              "    <tr>\n",
              "      <th>0</th>\n",
              "      <td>3400638</td>\n",
              "      <td>492</td>\n",
              "    </tr>\n",
              "    <tr>\n",
              "      <th>1</th>\n",
              "      <td>1253714</td>\n",
              "      <td>84</td>\n",
              "    </tr>\n",
              "    <tr>\n",
              "      <th>2</th>\n",
              "      <td>3367857</td>\n",
              "      <td>161</td>\n",
              "    </tr>\n",
              "    <tr>\n",
              "      <th>3</th>\n",
              "      <td>5100540</td>\n",
              "      <td>179</td>\n",
              "    </tr>\n",
              "    <tr>\n",
              "      <th>4</th>\n",
              "      <td>1088584</td>\n",
              "      <td>147</td>\n",
              "    </tr>\n",
              "  </tbody>\n",
              "</table>\n",
              "</div>"
            ],
            "text/plain": [
              "   item_id  NumberInImpressions\n",
              "0  3400638                  492\n",
              "1  1253714                   84\n",
              "2  3367857                  161\n",
              "3  5100540                  179\n",
              "4  1088584                  147"
            ]
          },
          "metadata": {
            "tags": []
          },
          "execution_count": 10
        }
      ]
    },
    {
      "cell_type": "code",
      "metadata": {
        "id": "MilO4jYIFgj5",
        "colab_type": "code",
        "colab": {},
        "outputId": "7eb31dea-0fa1-4837-88af-bef89104afa0"
      },
      "source": [
        "InImpressionsDF.item_id.nunique(), len(InImpressionsDF), item_metadata.item_id.nunique()"
      ],
      "execution_count": 0,
      "outputs": [
        {
          "output_type": "execute_result",
          "data": {
            "text/plain": [
              "(815092, 815092, 927142)"
            ]
          },
          "metadata": {
            "tags": []
          },
          "execution_count": 11
        }
      ]
    },
    {
      "cell_type": "markdown",
      "metadata": {
        "id": "h8aULpmpFgkA",
        "colab_type": "text"
      },
      "source": [
        "Number of items in this dataframe is less than the number of items in item_metadata, that's because some of the items had not been mentioned in the impressions list."
      ]
    },
    {
      "cell_type": "code",
      "metadata": {
        "scrolled": true,
        "id": "WRayg1swFgkD",
        "colab_type": "code",
        "colab": {},
        "outputId": "04de715c-edf4-4dd9-b96c-4a4924435241"
      },
      "source": [
        "#left joining\n",
        "item_metadata = item_metadata.merge(InImpressionsDF, on='item_id', how='left')\n",
        "\n",
        "#filling NaN values with zeros\n",
        "item_metadata.NoInImpressions = item_metadata.NumberInImpressions.fillna(0)\n",
        "\n",
        "item_metadata.head()"
      ],
      "execution_count": 0,
      "outputs": [
        {
          "output_type": "execute_result",
          "data": {
            "text/html": [
              "<div>\n",
              "<style scoped>\n",
              "    .dataframe tbody tr th:only-of-type {\n",
              "        vertical-align: middle;\n",
              "    }\n",
              "\n",
              "    .dataframe tbody tr th {\n",
              "        vertical-align: top;\n",
              "    }\n",
              "\n",
              "    .dataframe thead th {\n",
              "        text-align: right;\n",
              "    }\n",
              "</style>\n",
              "<table border=\"1\" class=\"dataframe\">\n",
              "  <thead>\n",
              "    <tr style=\"text-align: right;\">\n",
              "      <th></th>\n",
              "      <th>item_id</th>\n",
              "      <th>properties</th>\n",
              "      <th>NumberOfProperties</th>\n",
              "      <th>NumberInImpressions</th>\n",
              "    </tr>\n",
              "  </thead>\n",
              "  <tbody>\n",
              "    <tr>\n",
              "      <th>0</th>\n",
              "      <td>5101</td>\n",
              "      <td>(Satellite TV, Golf Course, Airport Shuttle, C...</td>\n",
              "      <td>62</td>\n",
              "      <td>89.0</td>\n",
              "    </tr>\n",
              "    <tr>\n",
              "      <th>1</th>\n",
              "      <td>5416</td>\n",
              "      <td>(Satellite TV, Cosmetic Mirror, Safe (Hotel), ...</td>\n",
              "      <td>46</td>\n",
              "      <td>63.0</td>\n",
              "    </tr>\n",
              "    <tr>\n",
              "      <th>2</th>\n",
              "      <td>5834</td>\n",
              "      <td>(Satellite TV, Cosmetic Mirror, Safe (Hotel), ...</td>\n",
              "      <td>40</td>\n",
              "      <td>157.0</td>\n",
              "    </tr>\n",
              "    <tr>\n",
              "      <th>3</th>\n",
              "      <td>5910</td>\n",
              "      <td>(Satellite TV, Sailing, Cosmetic Mirror, Telep...</td>\n",
              "      <td>41</td>\n",
              "      <td>112.0</td>\n",
              "    </tr>\n",
              "    <tr>\n",
              "      <th>4</th>\n",
              "      <td>6066</td>\n",
              "      <td>(Satellite TV, Sailing, Diving, Cosmetic Mirro...</td>\n",
              "      <td>85</td>\n",
              "      <td>54.0</td>\n",
              "    </tr>\n",
              "  </tbody>\n",
              "</table>\n",
              "</div>"
            ],
            "text/plain": [
              "  item_id                                         properties  \\\n",
              "0    5101  (Satellite TV, Golf Course, Airport Shuttle, C...   \n",
              "1    5416  (Satellite TV, Cosmetic Mirror, Safe (Hotel), ...   \n",
              "2    5834  (Satellite TV, Cosmetic Mirror, Safe (Hotel), ...   \n",
              "3    5910  (Satellite TV, Sailing, Cosmetic Mirror, Telep...   \n",
              "4    6066  (Satellite TV, Sailing, Diving, Cosmetic Mirro...   \n",
              "\n",
              "   NumberOfProperties  NumberInImpressions  \n",
              "0                  62                 89.0  \n",
              "1                  46                 63.0  \n",
              "2                  40                157.0  \n",
              "3                  41                112.0  \n",
              "4                  85                 54.0  "
            ]
          },
          "metadata": {
            "tags": []
          },
          "execution_count": 12
        }
      ]
    },
    {
      "cell_type": "markdown",
      "metadata": {
        "id": "ae_M8pVzFgkI",
        "colab_type": "text"
      },
      "source": [
        "## Number of Times in Reference\n",
        "The purpose of this feature is to check how many times an item has been mentioned in the Reference attribute in the whole train set. "
      ]
    },
    {
      "cell_type": "code",
      "metadata": {
        "id": "8bk3WxlYFgkK",
        "colab_type": "code",
        "colab": {},
        "outputId": "f616713e-1d4c-485a-a33b-22a51ce34e2a"
      },
      "source": [
        "InReferencesCounter = Counter(train.reference.values.tolist())\n",
        "InReferencesDF = pd.DataFrame.from_dict(InReferencesCounter, orient='index').reset_index()\\\n",
        "                              .rename(columns={'index':'item_id', 0:'NumberInReferences'})\n",
        "\n",
        "InReferencesDF.head()"
      ],
      "execution_count": 0,
      "outputs": [
        {
          "output_type": "execute_result",
          "data": {
            "text/html": [
              "<div>\n",
              "<style scoped>\n",
              "    .dataframe tbody tr th:only-of-type {\n",
              "        vertical-align: middle;\n",
              "    }\n",
              "\n",
              "    .dataframe tbody tr th {\n",
              "        vertical-align: top;\n",
              "    }\n",
              "\n",
              "    .dataframe thead th {\n",
              "        text-align: right;\n",
              "    }\n",
              "</style>\n",
              "<table border=\"1\" class=\"dataframe\">\n",
              "  <thead>\n",
              "    <tr style=\"text-align: right;\">\n",
              "      <th></th>\n",
              "      <th>item_id</th>\n",
              "      <th>NumberInReferences</th>\n",
              "    </tr>\n",
              "  </thead>\n",
              "  <tbody>\n",
              "    <tr>\n",
              "      <th>0</th>\n",
              "      <td>Newtown</td>\n",
              "      <td>16</td>\n",
              "    </tr>\n",
              "    <tr>\n",
              "      <th>1</th>\n",
              "      <td>666856</td>\n",
              "      <td>26</td>\n",
              "    </tr>\n",
              "    <tr>\n",
              "      <th>2</th>\n",
              "      <td>109038</td>\n",
              "      <td>253</td>\n",
              "    </tr>\n",
              "    <tr>\n",
              "      <th>3</th>\n",
              "      <td>Surry Hills</td>\n",
              "      <td>21</td>\n",
              "    </tr>\n",
              "    <tr>\n",
              "      <th>4</th>\n",
              "      <td>1257342</td>\n",
              "      <td>74</td>\n",
              "    </tr>\n",
              "  </tbody>\n",
              "</table>\n",
              "</div>"
            ],
            "text/plain": [
              "       item_id  NumberInReferences\n",
              "0      Newtown                  16\n",
              "1       666856                  26\n",
              "2       109038                 253\n",
              "3  Surry Hills                  21\n",
              "4      1257342                  74"
            ]
          },
          "metadata": {
            "tags": []
          },
          "execution_count": 15
        }
      ]
    },
    {
      "cell_type": "code",
      "metadata": {
        "id": "7tPSDS_fFgkS",
        "colab_type": "code",
        "colab": {},
        "outputId": "052638cd-f191-49bc-f158-f5e117068640"
      },
      "source": [
        "#left joining\n",
        "item_metadata = item_metadata.merge(InReferencesDF, on='item_id', how='left')\n",
        "\n",
        "#filling NaN values with zeros\n",
        "item_metadata.NumberInReferences = item_metadata.NumberInReferences.fillna(0)\n",
        "\n",
        "item_metadata.head()"
      ],
      "execution_count": 0,
      "outputs": [
        {
          "output_type": "execute_result",
          "data": {
            "text/html": [
              "<div>\n",
              "<style scoped>\n",
              "    .dataframe tbody tr th:only-of-type {\n",
              "        vertical-align: middle;\n",
              "    }\n",
              "\n",
              "    .dataframe tbody tr th {\n",
              "        vertical-align: top;\n",
              "    }\n",
              "\n",
              "    .dataframe thead th {\n",
              "        text-align: right;\n",
              "    }\n",
              "</style>\n",
              "<table border=\"1\" class=\"dataframe\">\n",
              "  <thead>\n",
              "    <tr style=\"text-align: right;\">\n",
              "      <th></th>\n",
              "      <th>item_id</th>\n",
              "      <th>properties</th>\n",
              "      <th>NumberOfProperties</th>\n",
              "      <th>NumberInImpressions</th>\n",
              "      <th>NumberInReferences</th>\n",
              "    </tr>\n",
              "  </thead>\n",
              "  <tbody>\n",
              "    <tr>\n",
              "      <th>0</th>\n",
              "      <td>5101</td>\n",
              "      <td>(Satellite TV, Golf Course, Airport Shuttle, C...</td>\n",
              "      <td>62</td>\n",
              "      <td>89.0</td>\n",
              "      <td>14.0</td>\n",
              "    </tr>\n",
              "    <tr>\n",
              "      <th>1</th>\n",
              "      <td>5416</td>\n",
              "      <td>(Satellite TV, Cosmetic Mirror, Safe (Hotel), ...</td>\n",
              "      <td>46</td>\n",
              "      <td>63.0</td>\n",
              "      <td>43.0</td>\n",
              "    </tr>\n",
              "    <tr>\n",
              "      <th>2</th>\n",
              "      <td>5834</td>\n",
              "      <td>(Satellite TV, Cosmetic Mirror, Safe (Hotel), ...</td>\n",
              "      <td>40</td>\n",
              "      <td>157.0</td>\n",
              "      <td>102.0</td>\n",
              "    </tr>\n",
              "    <tr>\n",
              "      <th>3</th>\n",
              "      <td>5910</td>\n",
              "      <td>(Satellite TV, Sailing, Cosmetic Mirror, Telep...</td>\n",
              "      <td>41</td>\n",
              "      <td>112.0</td>\n",
              "      <td>96.0</td>\n",
              "    </tr>\n",
              "    <tr>\n",
              "      <th>4</th>\n",
              "      <td>6066</td>\n",
              "      <td>(Satellite TV, Sailing, Diving, Cosmetic Mirro...</td>\n",
              "      <td>85</td>\n",
              "      <td>54.0</td>\n",
              "      <td>47.0</td>\n",
              "    </tr>\n",
              "  </tbody>\n",
              "</table>\n",
              "</div>"
            ],
            "text/plain": [
              "  item_id                                         properties  \\\n",
              "0    5101  (Satellite TV, Golf Course, Airport Shuttle, C...   \n",
              "1    5416  (Satellite TV, Cosmetic Mirror, Safe (Hotel), ...   \n",
              "2    5834  (Satellite TV, Cosmetic Mirror, Safe (Hotel), ...   \n",
              "3    5910  (Satellite TV, Sailing, Cosmetic Mirror, Telep...   \n",
              "4    6066  (Satellite TV, Sailing, Diving, Cosmetic Mirro...   \n",
              "\n",
              "   NumberOfProperties  NumberInImpressions  NumberInReferences  \n",
              "0                  62                 89.0                14.0  \n",
              "1                  46                 63.0                43.0  \n",
              "2                  40                157.0               102.0  \n",
              "3                  41                112.0                96.0  \n",
              "4                  85                 54.0                47.0  "
            ]
          },
          "metadata": {
            "tags": []
          },
          "execution_count": 17
        }
      ]
    },
    {
      "cell_type": "markdown",
      "metadata": {
        "id": "zoVGRxYHFgkZ",
        "colab_type": "text"
      },
      "source": [
        "## Number of Times in Clickout\n",
        "The purpose of this feature is to check how many times an item has been clicked out"
      ]
    },
    {
      "cell_type": "code",
      "metadata": {
        "id": "90brQsHdFgkb",
        "colab_type": "code",
        "colab": {},
        "outputId": "7992257f-3e2c-4f72-aa20-c3cc0751af67"
      },
      "source": [
        "InClickoutCounter = Counter(ClickoutDF.reference.values.tolist())\n",
        "InClickoutDF = pd.DataFrame.from_dict(InClickoutCounter, orient='index').reset_index()\\\n",
        "                              .rename(columns={'index':'item_id', 0:'NumberAsClickout'})\n",
        "\n",
        "InClickoutDF.head()"
      ],
      "execution_count": 0,
      "outputs": [
        {
          "output_type": "execute_result",
          "data": {
            "text/html": [
              "<div>\n",
              "<style scoped>\n",
              "    .dataframe tbody tr th:only-of-type {\n",
              "        vertical-align: middle;\n",
              "    }\n",
              "\n",
              "    .dataframe tbody tr th {\n",
              "        vertical-align: top;\n",
              "    }\n",
              "\n",
              "    .dataframe thead th {\n",
              "        text-align: right;\n",
              "    }\n",
              "</style>\n",
              "<table border=\"1\" class=\"dataframe\">\n",
              "  <thead>\n",
              "    <tr style=\"text-align: right;\">\n",
              "      <th></th>\n",
              "      <th>item_id</th>\n",
              "      <th>NumberInClickout</th>\n",
              "    </tr>\n",
              "  </thead>\n",
              "  <tbody>\n",
              "    <tr>\n",
              "      <th>0</th>\n",
              "      <td>109038</td>\n",
              "      <td>53</td>\n",
              "    </tr>\n",
              "    <tr>\n",
              "      <th>1</th>\n",
              "      <td>1257342</td>\n",
              "      <td>20</td>\n",
              "    </tr>\n",
              "    <tr>\n",
              "      <th>2</th>\n",
              "      <td>2795374</td>\n",
              "      <td>42</td>\n",
              "    </tr>\n",
              "    <tr>\n",
              "      <th>3</th>\n",
              "      <td>1032816</td>\n",
              "      <td>4</td>\n",
              "    </tr>\n",
              "    <tr>\n",
              "      <th>4</th>\n",
              "      <td>65685</td>\n",
              "      <td>3</td>\n",
              "    </tr>\n",
              "  </tbody>\n",
              "</table>\n",
              "</div>"
            ],
            "text/plain": [
              "   item_id  NumberInClickout\n",
              "0   109038                53\n",
              "1  1257342                20\n",
              "2  2795374                42\n",
              "3  1032816                 4\n",
              "4    65685                 3"
            ]
          },
          "metadata": {
            "tags": []
          },
          "execution_count": 19
        }
      ]
    },
    {
      "cell_type": "code",
      "metadata": {
        "id": "V3mWF_azFgkf",
        "colab_type": "code",
        "colab": {},
        "outputId": "84f710ce-f798-436f-9536-26a924eaa559"
      },
      "source": [
        "#left joining\n",
        "item_metadata = item_metadata.merge(InClickoutDF, on='item_id', how='left')\n",
        "\n",
        "#filling NaN values with zeros\n",
        "item_metadata.NumberInClickout = item_metadata.NumberInClickout.fillna(0)\n",
        "\n",
        "item_metadata.head()"
      ],
      "execution_count": 0,
      "outputs": [
        {
          "output_type": "execute_result",
          "data": {
            "text/html": [
              "<div>\n",
              "<style scoped>\n",
              "    .dataframe tbody tr th:only-of-type {\n",
              "        vertical-align: middle;\n",
              "    }\n",
              "\n",
              "    .dataframe tbody tr th {\n",
              "        vertical-align: top;\n",
              "    }\n",
              "\n",
              "    .dataframe thead th {\n",
              "        text-align: right;\n",
              "    }\n",
              "</style>\n",
              "<table border=\"1\" class=\"dataframe\">\n",
              "  <thead>\n",
              "    <tr style=\"text-align: right;\">\n",
              "      <th></th>\n",
              "      <th>item_id</th>\n",
              "      <th>properties</th>\n",
              "      <th>NumberOfProperties</th>\n",
              "      <th>NumberInImpressions</th>\n",
              "      <th>NumberInReferences</th>\n",
              "      <th>NumberInClickout</th>\n",
              "    </tr>\n",
              "  </thead>\n",
              "  <tbody>\n",
              "    <tr>\n",
              "      <th>0</th>\n",
              "      <td>5101</td>\n",
              "      <td>(Satellite TV, Golf Course, Airport Shuttle, C...</td>\n",
              "      <td>62</td>\n",
              "      <td>89.0</td>\n",
              "      <td>14.0</td>\n",
              "      <td>7.0</td>\n",
              "    </tr>\n",
              "    <tr>\n",
              "      <th>1</th>\n",
              "      <td>5416</td>\n",
              "      <td>(Satellite TV, Cosmetic Mirror, Safe (Hotel), ...</td>\n",
              "      <td>46</td>\n",
              "      <td>63.0</td>\n",
              "      <td>43.0</td>\n",
              "      <td>6.0</td>\n",
              "    </tr>\n",
              "    <tr>\n",
              "      <th>2</th>\n",
              "      <td>5834</td>\n",
              "      <td>(Satellite TV, Cosmetic Mirror, Safe (Hotel), ...</td>\n",
              "      <td>40</td>\n",
              "      <td>157.0</td>\n",
              "      <td>102.0</td>\n",
              "      <td>12.0</td>\n",
              "    </tr>\n",
              "    <tr>\n",
              "      <th>3</th>\n",
              "      <td>5910</td>\n",
              "      <td>(Satellite TV, Sailing, Cosmetic Mirror, Telep...</td>\n",
              "      <td>41</td>\n",
              "      <td>112.0</td>\n",
              "      <td>96.0</td>\n",
              "      <td>5.0</td>\n",
              "    </tr>\n",
              "    <tr>\n",
              "      <th>4</th>\n",
              "      <td>6066</td>\n",
              "      <td>(Satellite TV, Sailing, Diving, Cosmetic Mirro...</td>\n",
              "      <td>85</td>\n",
              "      <td>54.0</td>\n",
              "      <td>47.0</td>\n",
              "      <td>8.0</td>\n",
              "    </tr>\n",
              "  </tbody>\n",
              "</table>\n",
              "</div>"
            ],
            "text/plain": [
              "  item_id                                         properties  \\\n",
              "0    5101  (Satellite TV, Golf Course, Airport Shuttle, C...   \n",
              "1    5416  (Satellite TV, Cosmetic Mirror, Safe (Hotel), ...   \n",
              "2    5834  (Satellite TV, Cosmetic Mirror, Safe (Hotel), ...   \n",
              "3    5910  (Satellite TV, Sailing, Cosmetic Mirror, Telep...   \n",
              "4    6066  (Satellite TV, Sailing, Diving, Cosmetic Mirro...   \n",
              "\n",
              "   NumberOfProperties  NumberInImpressions  NumberInReferences  \\\n",
              "0                  62                 89.0                14.0   \n",
              "1                  46                 63.0                43.0   \n",
              "2                  40                157.0               102.0   \n",
              "3                  41                112.0                96.0   \n",
              "4                  85                 54.0                47.0   \n",
              "\n",
              "   NumberInClickout  \n",
              "0               7.0  \n",
              "1               6.0  \n",
              "2              12.0  \n",
              "3               5.0  \n",
              "4               8.0  "
            ]
          },
          "metadata": {
            "tags": []
          },
          "execution_count": 20
        }
      ]
    },
    {
      "cell_type": "markdown",
      "metadata": {
        "id": "t-ZSBJIxFgkj",
        "colab_type": "text"
      },
      "source": [
        "## Number of Time in Final Clickout\n",
        "The purpose of this feature is to get the number of times an item had been mentioned as a final clickout."
      ]
    },
    {
      "cell_type": "code",
      "metadata": {
        "id": "g5sMoSRZFgkm",
        "colab_type": "code",
        "colab": {},
        "outputId": "dd859726-5a02-4525-9677-1051d40eae04"
      },
      "source": [
        "FinalClickoutDF\n",
        "InFinalClickoutCounter = Counter(FinalClickoutDF.reference.values.tolist())\n",
        "InFinalClickoutDF = pd.DataFrame.from_dict(InFinalClickoutCounter, orient='index').reset_index()\\\n",
        "                              .rename(columns={'index':'item_id', 0:'NumberAsFinalClickout'})\n",
        "\n",
        "InFinalClickoutDF.head()"
      ],
      "execution_count": 0,
      "outputs": [
        {
          "output_type": "execute_result",
          "data": {
            "text/html": [
              "<div>\n",
              "<style scoped>\n",
              "    .dataframe tbody tr th:only-of-type {\n",
              "        vertical-align: middle;\n",
              "    }\n",
              "\n",
              "    .dataframe tbody tr th {\n",
              "        vertical-align: top;\n",
              "    }\n",
              "\n",
              "    .dataframe thead th {\n",
              "        text-align: right;\n",
              "    }\n",
              "</style>\n",
              "<table border=\"1\" class=\"dataframe\">\n",
              "  <thead>\n",
              "    <tr style=\"text-align: right;\">\n",
              "      <th></th>\n",
              "      <th>item_id</th>\n",
              "      <th>NumberAsFinalClickout</th>\n",
              "    </tr>\n",
              "  </thead>\n",
              "  <tbody>\n",
              "    <tr>\n",
              "      <th>0</th>\n",
              "      <td>1257342</td>\n",
              "      <td>7</td>\n",
              "    </tr>\n",
              "    <tr>\n",
              "      <th>1</th>\n",
              "      <td>2795374</td>\n",
              "      <td>18</td>\n",
              "    </tr>\n",
              "    <tr>\n",
              "      <th>2</th>\n",
              "      <td>1032816</td>\n",
              "      <td>1</td>\n",
              "    </tr>\n",
              "    <tr>\n",
              "      <th>3</th>\n",
              "      <td>1320460</td>\n",
              "      <td>1</td>\n",
              "    </tr>\n",
              "    <tr>\n",
              "      <th>4</th>\n",
              "      <td>3143258</td>\n",
              "      <td>11</td>\n",
              "    </tr>\n",
              "  </tbody>\n",
              "</table>\n",
              "</div>"
            ],
            "text/plain": [
              "   item_id  NumberAsFinalClickout\n",
              "0  1257342                      7\n",
              "1  2795374                     18\n",
              "2  1032816                      1\n",
              "3  1320460                      1\n",
              "4  3143258                     11"
            ]
          },
          "metadata": {
            "tags": []
          },
          "execution_count": 24
        }
      ]
    },
    {
      "cell_type": "code",
      "metadata": {
        "id": "KD_vcoWPFgky",
        "colab_type": "code",
        "colab": {},
        "outputId": "c89ada06-dcb7-4642-a337-a7a44631b51c"
      },
      "source": [
        "#left joining\n",
        "item_metadata = item_metadata.merge(InFinalClickoutDF, on='item_id', how='left')\n",
        "\n",
        "#filling NaN values with zeros\n",
        "item_metadata.NumberAsFinalClickout = item_metadata.NumberAsFinalClickout.fillna(0)\n",
        "\n",
        "item_metadata.head()"
      ],
      "execution_count": 0,
      "outputs": [
        {
          "output_type": "execute_result",
          "data": {
            "text/html": [
              "<div>\n",
              "<style scoped>\n",
              "    .dataframe tbody tr th:only-of-type {\n",
              "        vertical-align: middle;\n",
              "    }\n",
              "\n",
              "    .dataframe tbody tr th {\n",
              "        vertical-align: top;\n",
              "    }\n",
              "\n",
              "    .dataframe thead th {\n",
              "        text-align: right;\n",
              "    }\n",
              "</style>\n",
              "<table border=\"1\" class=\"dataframe\">\n",
              "  <thead>\n",
              "    <tr style=\"text-align: right;\">\n",
              "      <th></th>\n",
              "      <th>item_id</th>\n",
              "      <th>properties</th>\n",
              "      <th>NumberOfProperties</th>\n",
              "      <th>NumberInImpressions</th>\n",
              "      <th>NumberInReferences</th>\n",
              "      <th>NumberInClickout</th>\n",
              "      <th>NumberInFinalClickout</th>\n",
              "      <th>NumberAsFinalClickout</th>\n",
              "    </tr>\n",
              "  </thead>\n",
              "  <tbody>\n",
              "    <tr>\n",
              "      <th>0</th>\n",
              "      <td>5101</td>\n",
              "      <td>(Satellite TV, Golf Course, Airport Shuttle, C...</td>\n",
              "      <td>62</td>\n",
              "      <td>89.0</td>\n",
              "      <td>14.0</td>\n",
              "      <td>7.0</td>\n",
              "      <td>4.0</td>\n",
              "      <td>4.0</td>\n",
              "    </tr>\n",
              "    <tr>\n",
              "      <th>1</th>\n",
              "      <td>5416</td>\n",
              "      <td>(Satellite TV, Cosmetic Mirror, Safe (Hotel), ...</td>\n",
              "      <td>46</td>\n",
              "      <td>63.0</td>\n",
              "      <td>43.0</td>\n",
              "      <td>6.0</td>\n",
              "      <td>2.0</td>\n",
              "      <td>2.0</td>\n",
              "    </tr>\n",
              "    <tr>\n",
              "      <th>2</th>\n",
              "      <td>5834</td>\n",
              "      <td>(Satellite TV, Cosmetic Mirror, Safe (Hotel), ...</td>\n",
              "      <td>40</td>\n",
              "      <td>157.0</td>\n",
              "      <td>102.0</td>\n",
              "      <td>12.0</td>\n",
              "      <td>1.0</td>\n",
              "      <td>1.0</td>\n",
              "    </tr>\n",
              "    <tr>\n",
              "      <th>3</th>\n",
              "      <td>5910</td>\n",
              "      <td>(Satellite TV, Sailing, Cosmetic Mirror, Telep...</td>\n",
              "      <td>41</td>\n",
              "      <td>112.0</td>\n",
              "      <td>96.0</td>\n",
              "      <td>5.0</td>\n",
              "      <td>3.0</td>\n",
              "      <td>3.0</td>\n",
              "    </tr>\n",
              "    <tr>\n",
              "      <th>4</th>\n",
              "      <td>6066</td>\n",
              "      <td>(Satellite TV, Sailing, Diving, Cosmetic Mirro...</td>\n",
              "      <td>85</td>\n",
              "      <td>54.0</td>\n",
              "      <td>47.0</td>\n",
              "      <td>8.0</td>\n",
              "      <td>6.0</td>\n",
              "      <td>6.0</td>\n",
              "    </tr>\n",
              "  </tbody>\n",
              "</table>\n",
              "</div>"
            ],
            "text/plain": [
              "  item_id                                         properties  \\\n",
              "0    5101  (Satellite TV, Golf Course, Airport Shuttle, C...   \n",
              "1    5416  (Satellite TV, Cosmetic Mirror, Safe (Hotel), ...   \n",
              "2    5834  (Satellite TV, Cosmetic Mirror, Safe (Hotel), ...   \n",
              "3    5910  (Satellite TV, Sailing, Cosmetic Mirror, Telep...   \n",
              "4    6066  (Satellite TV, Sailing, Diving, Cosmetic Mirro...   \n",
              "\n",
              "   NumberOfProperties  NumberInImpressions  NumberInReferences  \\\n",
              "0                  62                 89.0                14.0   \n",
              "1                  46                 63.0                43.0   \n",
              "2                  40                157.0               102.0   \n",
              "3                  41                112.0                96.0   \n",
              "4                  85                 54.0                47.0   \n",
              "\n",
              "   NumberInClickout  NumberInFinalClickout  NumberAsFinalClickout  \n",
              "0               7.0                    4.0                    4.0  \n",
              "1               6.0                    2.0                    2.0  \n",
              "2              12.0                    1.0                    1.0  \n",
              "3               5.0                    3.0                    3.0  \n",
              "4               8.0                    6.0                    6.0  "
            ]
          },
          "metadata": {
            "tags": []
          },
          "execution_count": 25
        }
      ]
    },
    {
      "cell_type": "code",
      "metadata": {
        "id": "xD8ZuRZRFgk4",
        "colab_type": "code",
        "colab": {},
        "outputId": "99b02620-1d64-4dbd-eb3b-025fd90d92af"
      },
      "source": [
        "item_metadata.head()"
      ],
      "execution_count": 0,
      "outputs": [
        {
          "output_type": "execute_result",
          "data": {
            "text/html": [
              "<div>\n",
              "<style scoped>\n",
              "    .dataframe tbody tr th:only-of-type {\n",
              "        vertical-align: middle;\n",
              "    }\n",
              "\n",
              "    .dataframe tbody tr th {\n",
              "        vertical-align: top;\n",
              "    }\n",
              "\n",
              "    .dataframe thead th {\n",
              "        text-align: right;\n",
              "    }\n",
              "</style>\n",
              "<table border=\"1\" class=\"dataframe\">\n",
              "  <thead>\n",
              "    <tr style=\"text-align: right;\">\n",
              "      <th></th>\n",
              "      <th>item_id</th>\n",
              "      <th>properties</th>\n",
              "      <th>NumberOfProperties</th>\n",
              "      <th>NumberInImpressions</th>\n",
              "      <th>NumberInReferences</th>\n",
              "      <th>NumberInClickout</th>\n",
              "      <th>NumberAsFinalClickout</th>\n",
              "    </tr>\n",
              "  </thead>\n",
              "  <tbody>\n",
              "    <tr>\n",
              "      <th>0</th>\n",
              "      <td>5101</td>\n",
              "      <td>(Satellite TV, Golf Course, Airport Shuttle, C...</td>\n",
              "      <td>62</td>\n",
              "      <td>89.0</td>\n",
              "      <td>14.0</td>\n",
              "      <td>7.0</td>\n",
              "      <td>4.0</td>\n",
              "    </tr>\n",
              "    <tr>\n",
              "      <th>1</th>\n",
              "      <td>5416</td>\n",
              "      <td>(Satellite TV, Cosmetic Mirror, Safe (Hotel), ...</td>\n",
              "      <td>46</td>\n",
              "      <td>63.0</td>\n",
              "      <td>43.0</td>\n",
              "      <td>6.0</td>\n",
              "      <td>2.0</td>\n",
              "    </tr>\n",
              "    <tr>\n",
              "      <th>2</th>\n",
              "      <td>5834</td>\n",
              "      <td>(Satellite TV, Cosmetic Mirror, Safe (Hotel), ...</td>\n",
              "      <td>40</td>\n",
              "      <td>157.0</td>\n",
              "      <td>102.0</td>\n",
              "      <td>12.0</td>\n",
              "      <td>1.0</td>\n",
              "    </tr>\n",
              "    <tr>\n",
              "      <th>3</th>\n",
              "      <td>5910</td>\n",
              "      <td>(Satellite TV, Sailing, Cosmetic Mirror, Telep...</td>\n",
              "      <td>41</td>\n",
              "      <td>112.0</td>\n",
              "      <td>96.0</td>\n",
              "      <td>5.0</td>\n",
              "      <td>3.0</td>\n",
              "    </tr>\n",
              "    <tr>\n",
              "      <th>4</th>\n",
              "      <td>6066</td>\n",
              "      <td>(Satellite TV, Sailing, Diving, Cosmetic Mirro...</td>\n",
              "      <td>85</td>\n",
              "      <td>54.0</td>\n",
              "      <td>47.0</td>\n",
              "      <td>8.0</td>\n",
              "      <td>6.0</td>\n",
              "    </tr>\n",
              "  </tbody>\n",
              "</table>\n",
              "</div>"
            ],
            "text/plain": [
              "  item_id                                         properties  \\\n",
              "0    5101  (Satellite TV, Golf Course, Airport Shuttle, C...   \n",
              "1    5416  (Satellite TV, Cosmetic Mirror, Safe (Hotel), ...   \n",
              "2    5834  (Satellite TV, Cosmetic Mirror, Safe (Hotel), ...   \n",
              "3    5910  (Satellite TV, Sailing, Cosmetic Mirror, Telep...   \n",
              "4    6066  (Satellite TV, Sailing, Diving, Cosmetic Mirro...   \n",
              "\n",
              "   NumberOfProperties  NumberInImpressions  NumberInReferences  \\\n",
              "0                  62                 89.0                14.0   \n",
              "1                  46                 63.0                43.0   \n",
              "2                  40                157.0               102.0   \n",
              "3                  41                112.0                96.0   \n",
              "4                  85                 54.0                47.0   \n",
              "\n",
              "   NumberInClickout  NumberAsFinalClickout  \n",
              "0               7.0                    4.0  \n",
              "1               6.0                    2.0  \n",
              "2              12.0                    1.0  \n",
              "3               5.0                    3.0  \n",
              "4               8.0                    6.0  "
            ]
          },
          "metadata": {
            "tags": []
          },
          "execution_count": 27
        }
      ]
    },
    {
      "cell_type": "markdown",
      "metadata": {
        "id": "9LWxefutFgk_",
        "colab_type": "text"
      },
      "source": [
        "The next step would be dividing the NumberAsFinalClickout by the other 3, in order to get FinalClickout Relativity"
      ]
    },
    {
      "cell_type": "markdown",
      "metadata": {
        "id": "EO0SubJ-FglA",
        "colab_type": "text"
      },
      "source": [
        "## Final Clickout To Impressions\n",
        "The purpose of this feature is to get item's rate of clicking out when listed to the user."
      ]
    },
    {
      "cell_type": "code",
      "metadata": {
        "id": "ZDHJPlJvFglB",
        "colab_type": "code",
        "colab": {},
        "outputId": "7820fdca-0bca-4c1b-b5b1-5f72d66b689a"
      },
      "source": [
        "FClickoutToImpressions = item_metadata.NumberAsFinalClickout/item_metadata.NumberInImpressions\n",
        "FClickoutToImpressions.head()"
      ],
      "execution_count": 0,
      "outputs": [
        {
          "output_type": "execute_result",
          "data": {
            "text/plain": [
              "0    0.044944\n",
              "1    0.031746\n",
              "2    0.006369\n",
              "3    0.026786\n",
              "4    0.111111\n",
              "dtype: float64"
            ]
          },
          "metadata": {
            "tags": []
          },
          "execution_count": 32
        }
      ]
    },
    {
      "cell_type": "code",
      "metadata": {
        "id": "clMCXWXaFglI",
        "colab_type": "code",
        "colab": {},
        "outputId": "31f5cf2e-0307-4f8d-d79c-ce70c715c464"
      },
      "source": [
        "#adding attribute\n",
        "item_metadata['FClickoutToImpressions'] = FClickoutToImpressions\n",
        "item_metadata.head(1)"
      ],
      "execution_count": 0,
      "outputs": [
        {
          "output_type": "execute_result",
          "data": {
            "text/html": [
              "<div>\n",
              "<style scoped>\n",
              "    .dataframe tbody tr th:only-of-type {\n",
              "        vertical-align: middle;\n",
              "    }\n",
              "\n",
              "    .dataframe tbody tr th {\n",
              "        vertical-align: top;\n",
              "    }\n",
              "\n",
              "    .dataframe thead th {\n",
              "        text-align: right;\n",
              "    }\n",
              "</style>\n",
              "<table border=\"1\" class=\"dataframe\">\n",
              "  <thead>\n",
              "    <tr style=\"text-align: right;\">\n",
              "      <th></th>\n",
              "      <th>item_id</th>\n",
              "      <th>properties</th>\n",
              "      <th>NumberOfProperties</th>\n",
              "      <th>NumberInImpressions</th>\n",
              "      <th>NumberInReferences</th>\n",
              "      <th>NumberInClickout</th>\n",
              "      <th>NumberAsFinalClickout</th>\n",
              "      <th>FClickoutToImpressions</th>\n",
              "    </tr>\n",
              "  </thead>\n",
              "  <tbody>\n",
              "    <tr>\n",
              "      <th>0</th>\n",
              "      <td>5101</td>\n",
              "      <td>(Satellite TV, Golf Course, Airport Shuttle, C...</td>\n",
              "      <td>62</td>\n",
              "      <td>89.0</td>\n",
              "      <td>14.0</td>\n",
              "      <td>7.0</td>\n",
              "      <td>4.0</td>\n",
              "      <td>0.044944</td>\n",
              "    </tr>\n",
              "  </tbody>\n",
              "</table>\n",
              "</div>"
            ],
            "text/plain": [
              "  item_id                                         properties  \\\n",
              "0    5101  (Satellite TV, Golf Course, Airport Shuttle, C...   \n",
              "\n",
              "   NumberOfProperties  NumberInImpressions  NumberInReferences  \\\n",
              "0                  62                 89.0                14.0   \n",
              "\n",
              "   NumberInClickout  NumberAsFinalClickout  FClickoutToImpressions  \n",
              "0               7.0                    4.0                0.044944  "
            ]
          },
          "metadata": {
            "tags": []
          },
          "execution_count": 34
        }
      ]
    },
    {
      "cell_type": "markdown",
      "metadata": {
        "id": "Zr0TO-QQFglP",
        "colab_type": "text"
      },
      "source": [
        "## Final Clickout To References\n",
        "The purpose of this feature is to get item's rate of clicking out when it was interacted with."
      ]
    },
    {
      "cell_type": "code",
      "metadata": {
        "id": "G-tMA8gvFglQ",
        "colab_type": "code",
        "colab": {},
        "outputId": "5981d7bf-6382-46eb-e0a1-b7852b36263b"
      },
      "source": [
        "FClickoutToReferences = item_metadata.NumberAsFinalClickout/item_metadata.NumberInReferences\n",
        "FClickoutToReferences.head()"
      ],
      "execution_count": 0,
      "outputs": [
        {
          "output_type": "execute_result",
          "data": {
            "text/plain": [
              "0    0.285714\n",
              "1    0.046512\n",
              "2    0.009804\n",
              "3    0.031250\n",
              "4    0.127660\n",
              "dtype: float64"
            ]
          },
          "metadata": {
            "tags": []
          },
          "execution_count": 35
        }
      ]
    },
    {
      "cell_type": "code",
      "metadata": {
        "id": "pZcwFvwxFglW",
        "colab_type": "code",
        "colab": {},
        "outputId": "4dfa809d-feee-49e3-ea22-e2c78a6112ab"
      },
      "source": [
        "#adding attribute\n",
        "item_metadata['FClickoutToReferences'] = FClickoutToReferences\n",
        "item_metadata.head(1)"
      ],
      "execution_count": 0,
      "outputs": [
        {
          "output_type": "execute_result",
          "data": {
            "text/html": [
              "<div>\n",
              "<style scoped>\n",
              "    .dataframe tbody tr th:only-of-type {\n",
              "        vertical-align: middle;\n",
              "    }\n",
              "\n",
              "    .dataframe tbody tr th {\n",
              "        vertical-align: top;\n",
              "    }\n",
              "\n",
              "    .dataframe thead th {\n",
              "        text-align: right;\n",
              "    }\n",
              "</style>\n",
              "<table border=\"1\" class=\"dataframe\">\n",
              "  <thead>\n",
              "    <tr style=\"text-align: right;\">\n",
              "      <th></th>\n",
              "      <th>item_id</th>\n",
              "      <th>properties</th>\n",
              "      <th>NumberOfProperties</th>\n",
              "      <th>NumberInImpressions</th>\n",
              "      <th>NumberInReferences</th>\n",
              "      <th>NumberInClickout</th>\n",
              "      <th>NumberAsFinalClickout</th>\n",
              "      <th>FClickoutToImpressions</th>\n",
              "      <th>FClickoutToReferences</th>\n",
              "    </tr>\n",
              "  </thead>\n",
              "  <tbody>\n",
              "    <tr>\n",
              "      <th>0</th>\n",
              "      <td>5101</td>\n",
              "      <td>(Satellite TV, Golf Course, Airport Shuttle, C...</td>\n",
              "      <td>62</td>\n",
              "      <td>89.0</td>\n",
              "      <td>14.0</td>\n",
              "      <td>7.0</td>\n",
              "      <td>4.0</td>\n",
              "      <td>0.044944</td>\n",
              "      <td>0.285714</td>\n",
              "    </tr>\n",
              "  </tbody>\n",
              "</table>\n",
              "</div>"
            ],
            "text/plain": [
              "  item_id                                         properties  \\\n",
              "0    5101  (Satellite TV, Golf Course, Airport Shuttle, C...   \n",
              "\n",
              "   NumberOfProperties  NumberInImpressions  NumberInReferences  \\\n",
              "0                  62                 89.0                14.0   \n",
              "\n",
              "   NumberInClickout  NumberAsFinalClickout  FClickoutToImpressions  \\\n",
              "0               7.0                    4.0                0.044944   \n",
              "\n",
              "   FClickoutToReferences  \n",
              "0               0.285714  "
            ]
          },
          "metadata": {
            "tags": []
          },
          "execution_count": 36
        }
      ]
    },
    {
      "cell_type": "markdown",
      "metadata": {
        "id": "ay5eOy6kFgla",
        "colab_type": "text"
      },
      "source": [
        "## Final Clickout To Clickout\n",
        "The purpose of this feature is to get item's rate of clickout when it was clicked out before."
      ]
    },
    {
      "cell_type": "code",
      "metadata": {
        "id": "heNu3JTCFglb",
        "colab_type": "code",
        "colab": {},
        "outputId": "9385d614-67ef-4689-d679-b0c85284ce3a"
      },
      "source": [
        "FClickoutToClickout = item_metadata.NumberAsFinalClickout/item_metadata.NumberInClickout\n",
        "FClickoutToClickout.head()"
      ],
      "execution_count": 0,
      "outputs": [
        {
          "output_type": "execute_result",
          "data": {
            "text/plain": [
              "0    0.571429\n",
              "1    0.333333\n",
              "2    0.083333\n",
              "3    0.600000\n",
              "4    0.750000\n",
              "dtype: float64"
            ]
          },
          "metadata": {
            "tags": []
          },
          "execution_count": 37
        }
      ]
    },
    {
      "cell_type": "code",
      "metadata": {
        "id": "2eU8ik8aFgle",
        "colab_type": "code",
        "colab": {},
        "outputId": "db051de5-b64f-4f1c-b568-e091ca80b491"
      },
      "source": [
        "#adding attribute\n",
        "item_metadata['FClickoutToClickout'] = FClickoutToClickout\n",
        "item_metadata.head(1)"
      ],
      "execution_count": 0,
      "outputs": [
        {
          "output_type": "execute_result",
          "data": {
            "text/html": [
              "<div>\n",
              "<style scoped>\n",
              "    .dataframe tbody tr th:only-of-type {\n",
              "        vertical-align: middle;\n",
              "    }\n",
              "\n",
              "    .dataframe tbody tr th {\n",
              "        vertical-align: top;\n",
              "    }\n",
              "\n",
              "    .dataframe thead th {\n",
              "        text-align: right;\n",
              "    }\n",
              "</style>\n",
              "<table border=\"1\" class=\"dataframe\">\n",
              "  <thead>\n",
              "    <tr style=\"text-align: right;\">\n",
              "      <th></th>\n",
              "      <th>item_id</th>\n",
              "      <th>properties</th>\n",
              "      <th>NumberOfProperties</th>\n",
              "      <th>NumberInImpressions</th>\n",
              "      <th>NumberInReferences</th>\n",
              "      <th>NumberInClickout</th>\n",
              "      <th>NumberAsFinalClickout</th>\n",
              "      <th>FClickoutToImpressions</th>\n",
              "      <th>FClickoutToReferences</th>\n",
              "      <th>FClickoutToClickout</th>\n",
              "    </tr>\n",
              "  </thead>\n",
              "  <tbody>\n",
              "    <tr>\n",
              "      <th>0</th>\n",
              "      <td>5101</td>\n",
              "      <td>(Satellite TV, Golf Course, Airport Shuttle, C...</td>\n",
              "      <td>62</td>\n",
              "      <td>89.0</td>\n",
              "      <td>14.0</td>\n",
              "      <td>7.0</td>\n",
              "      <td>4.0</td>\n",
              "      <td>0.044944</td>\n",
              "      <td>0.285714</td>\n",
              "      <td>0.571429</td>\n",
              "    </tr>\n",
              "  </tbody>\n",
              "</table>\n",
              "</div>"
            ],
            "text/plain": [
              "  item_id                                         properties  \\\n",
              "0    5101  (Satellite TV, Golf Course, Airport Shuttle, C...   \n",
              "\n",
              "   NumberOfProperties  NumberInImpressions  NumberInReferences  \\\n",
              "0                  62                 89.0                14.0   \n",
              "\n",
              "   NumberInClickout  NumberAsFinalClickout  FClickoutToImpressions  \\\n",
              "0               7.0                    4.0                0.044944   \n",
              "\n",
              "   FClickoutToReferences  FClickoutToClickout  \n",
              "0               0.285714             0.571429  "
            ]
          },
          "metadata": {
            "tags": []
          },
          "execution_count": 38
        }
      ]
    },
    {
      "cell_type": "markdown",
      "metadata": {
        "id": "Yh-EGsV-Fgln",
        "colab_type": "text"
      },
      "source": [
        "## Item's Average Rank\n",
        "The purpose of this feature is to get item's position in the list provided to the user across the train set.  \n",
        "Since the purpose is to get the average rank across the lists shown to users, an important notice which is that some sessions have different reference and click outs, which provides the same impression list. Duplicated impressions lists in each session should be dropped. (Same thing applies to price as well.)"
      ]
    },
    {
      "cell_type": "code",
      "metadata": {
        "id": "YmoIpqsrFglp",
        "colab_type": "code",
        "colab": {
          "base_uri": "https://localhost:8080/",
          "height": 115
        },
        "outputId": "4ef27315-07e0-4882-8b55-780d03bf69c4"
      },
      "source": [
        "# using All Clickout dataframe, but the one with the unique impressions for each session for this feature\n",
        "ClickoutUniqueDF.head(1)"
      ],
      "execution_count": 7,
      "outputs": [
        {
          "output_type": "execute_result",
          "data": {
            "text/html": [
              "<div>\n",
              "<style scoped>\n",
              "    .dataframe tbody tr th:only-of-type {\n",
              "        vertical-align: middle;\n",
              "    }\n",
              "\n",
              "    .dataframe tbody tr th {\n",
              "        vertical-align: top;\n",
              "    }\n",
              "\n",
              "    .dataframe thead th {\n",
              "        text-align: right;\n",
              "    }\n",
              "</style>\n",
              "<table border=\"1\" class=\"dataframe\">\n",
              "  <thead>\n",
              "    <tr style=\"text-align: right;\">\n",
              "      <th></th>\n",
              "      <th>user_id</th>\n",
              "      <th>session_id</th>\n",
              "      <th>timestamp</th>\n",
              "      <th>step</th>\n",
              "      <th>action_type</th>\n",
              "      <th>reference</th>\n",
              "      <th>platform</th>\n",
              "      <th>city</th>\n",
              "      <th>device</th>\n",
              "      <th>current_filters</th>\n",
              "      <th>impressions</th>\n",
              "      <th>prices</th>\n",
              "    </tr>\n",
              "  </thead>\n",
              "  <tbody>\n",
              "    <tr>\n",
              "      <th>13</th>\n",
              "      <td>00RL8Z82B2Z1</td>\n",
              "      <td>aff3928535f48</td>\n",
              "      <td>1541037543</td>\n",
              "      <td>14</td>\n",
              "      <td>clickout item</td>\n",
              "      <td>109038</td>\n",
              "      <td>AU</td>\n",
              "      <td>Sydney, Australia</td>\n",
              "      <td>mobile</td>\n",
              "      <td>NaN</td>\n",
              "      <td>3400638|1253714|3367857|5100540|1088584|666916...</td>\n",
              "      <td>95|66|501|112|95|100|101|72|82|56|56|143|70|25...</td>\n",
              "    </tr>\n",
              "  </tbody>\n",
              "</table>\n",
              "</div>"
            ],
            "text/plain": [
              "         user_id  ...                                             prices\n",
              "13  00RL8Z82B2Z1  ...  95|66|501|112|95|100|101|72|82|56|56|143|70|25...\n",
              "\n",
              "[1 rows x 12 columns]"
            ]
          },
          "metadata": {
            "tags": []
          },
          "execution_count": 7
        }
      ]
    },
    {
      "cell_type": "code",
      "metadata": {
        "id": "IHEIpKxHTKZL",
        "colab_type": "code",
        "colab": {
          "base_uri": "https://localhost:8080/",
          "height": 235
        },
        "outputId": "84ba205c-be77-4595-c0b7-8f4e9c43dcf4"
      },
      "source": [
        "UniqueSessionImpressionsDF = ClickoutUniqueDF[['session_id', 'impressions']]\n",
        "UniqueSessionImpressionsDF.impressions.str.len()"
      ],
      "execution_count": 8,
      "outputs": [
        {
          "output_type": "execute_result",
          "data": {
            "text/plain": [
              "13          188\n",
              "15          181\n",
              "115         193\n",
              "121         166\n",
              "176         172\n",
              "           ... \n",
              "13019503    158\n",
              "13019508    177\n",
              "13019530    199\n",
              "13019534    167\n",
              "13019552    176\n",
              "Name: impressions, Length: 882072, dtype: int64"
            ]
          },
          "metadata": {
            "tags": []
          },
          "execution_count": 8
        }
      ]
    },
    {
      "cell_type": "code",
      "metadata": {
        "id": "iRRbugCgTRK6",
        "colab_type": "code",
        "colab": {
          "base_uri": "https://localhost:8080/",
          "height": 235
        },
        "outputId": "e30cc20b-4e57-4ba6-d3d8-fb1cfafffb64"
      },
      "source": [
        "UniqueSessionImpressionsDF.impressions.str.len()"
      ],
      "execution_count": 15,
      "outputs": [
        {
          "output_type": "execute_result",
          "data": {
            "text/plain": [
              "13          25\n",
              "15          25\n",
              "115         25\n",
              "121         25\n",
              "176         25\n",
              "            ..\n",
              "13019503    25\n",
              "13019508    25\n",
              "13019530    25\n",
              "13019534    25\n",
              "13019552    25\n",
              "Name: impressions, Length: 882072, dtype: int64"
            ]
          },
          "metadata": {
            "tags": []
          },
          "execution_count": 15
        }
      ]
    },
    {
      "cell_type": "code",
      "metadata": {
        "id": "ecdQpwqSFglv",
        "colab_type": "code",
        "colab": {
          "base_uri": "https://localhost:8080/",
          "height": 126
        },
        "outputId": "7adb6905-6c78-4b3f-ecab-bf800edb312b"
      },
      "source": [
        "UniqueSessionImpressionsDF = ClickoutUniqueDF[['session_id', 'impressions']]\n",
        "UniqueSessionImpressionsDF.impressions = UniqueSessionImpressionsDF.impressions.apply(lambda x: x.split('|'))\n",
        "pd.DataFrame({'session_id':UniqueSessionImpressionsDF.session_id.repeat(UniqueSessionImpressionsDF.impressions.str.len()),\n",
        "              'item_id':UniqueSessionImpressionsDF.impressions.sum()})"
      ],
      "execution_count": 0,
      "outputs": [
        {
          "output_type": "stream",
          "text": [
            "/usr/local/lib/python3.6/dist-packages/pandas/core/generic.py:5208: SettingWithCopyWarning: \n",
            "A value is trying to be set on a copy of a slice from a DataFrame.\n",
            "Try using .loc[row_indexer,col_indexer] = value instead\n",
            "\n",
            "See the caveats in the documentation: http://pandas.pydata.org/pandas-docs/stable/user_guide/indexing.html#returning-a-view-versus-a-copy\n",
            "  self[name] = value\n"
          ],
          "name": "stderr"
        }
      ]
    },
    {
      "cell_type": "code",
      "metadata": {
        "id": "tHGJ3xAxFgmA",
        "colab_type": "code",
        "colab": {},
        "outputId": "4a71ded5-0bc7-47fe-c03c-3d04ca0dbccd"
      },
      "source": [
        "pd.DataFrame({'session_id':ClickoutUniqueDF[['session_id', 'impressions']].impressions.apply(lambda x: x.split('|'))"
      ],
      "execution_count": 0,
      "outputs": [
        {
          "output_type": "execute_result",
          "data": {
            "text/plain": [
              "13          [3400638, 1253714, 3367857, 5100540, 1088584, ...\n",
              "15          [55109, 129343, 54824, 2297972, 109014, 125734...\n",
              "115         [2795374, 5582964, 1088390, 2781070, 1258068, ...\n",
              "121         [12693, 46363, 81657, 18448, 47687, 152913, 18...\n",
              "176         [1306936, 56482, 2842358, 6881276, 65685, 6325...\n",
              "180         [1258184, 3866722, 8929970, 2315702, 116619, 1...\n",
              "181         [2349076, 2552514, 7159866, 3898458, 1846017, ...\n",
              "184         [6721, 6724, 40109, 147227, 80983, 6719, 40718...\n",
              "188         [22953, 22951, 22947, 22949, 8774118, 45527, 8...\n",
              "196         [129881, 36161, 36249, 464421, 302607, 36401, ...\n",
              "230         [8561, 8564, 8568, 8586, 8588, 102080, 8613, 5...\n",
              "236         [2603858, 1765201, 1844107, 99445, 99438, 2219...\n",
              "237         [921237, 147262, 42194, 9051714, 42109, 42125,...\n",
              "240                      [2035675, 4095738, 4933410, 9167996]\n",
              "260         [104499, 104710, 104724, 164677, 960133, 58165...\n",
              "264         [9172186, 6816668, 4497388, 1827505, 2066390, ...\n",
              "280         [47767, 959737, 3191226, 1362528, 1950827, 150...\n",
              "281         [43007, 42365, 42884, 349051, 489031, 488961, ...\n",
              "284         [42365, 42407, 42884, 42964, 43007, 349026, 34...\n",
              "312         [43007, 42884, 932627, 3496252, 488961, 42365,...\n",
              "429         [1045290, 3135752, 1372961, 1369024, 3384308, ...\n",
              "452         [9164598, 1400686, 2216204, 2817576, 4775794, ...\n",
              "471         [69086, 8533, 925367, 58949, 61049, 8581, 8517...\n",
              "475         [8621, 77124, 8624, 2851635, 488501, 1810141, ...\n",
              "479         [8602, 8568, 8621, 8561, 57049, 8564, 8586, 85...\n",
              "523         [2303306, 4041114, 5830856, 111534, 109353, 57...\n",
              "526         [5016850, 2068758, 1771981, 2303306, 2733700, ...\n",
              "534         [1236209, 131152, 1322948, 7500, 439106, 7499,...\n",
              "548         [327111, 2217612, 492491, 505751, 5101488, 206...\n",
              "577         [6924590, 43910, 101019, 44160, 44872, 44350, ...\n",
              "                                  ...                        \n",
              "13019248    [86359, 4573624, 51479, 7818446, 9726252, 1034...\n",
              "13019249    [811761, 4794432, 2893183, 2932846, 2261580, 7...\n",
              "13019251    [4834976, 97645, 1265311, 4695574, 4245112, 12...\n",
              "13019304    [1265311, 4834976, 5443562, 38940, 4821722, 39...\n",
              "13019307    [2298560, 45471, 45152, 4906236, 925345, 93160...\n",
              "13019308    [80170, 5952196, 1570171, 4050638, 1965785, 20...\n",
              "13019311    [1490755, 1137717, 1488093, 9310, 15927, 67239...\n",
              "13019312    [103600, 2150816, 103555, 2111996, 980293, 103...\n",
              "13019315    [3875176, 40779, 7348344, 40719, 755331, 10948...\n",
              "13019328    [95794, 109339, 3148916, 97505, 104706, 434201...\n",
              "13019329    [95794, 109339, 3148916, 2924213, 1668389, 104...\n",
              "13019340    [1108295, 6623552, 1236111, 34550, 34556, 3455...\n",
              "13019344    [1398634, 10907042, 10218812, 10276592, 101608...\n",
              "13019352    [54859, 1182740, 55077, 105079, 1320172, 35051...\n",
              "13019362    [3505194, 1320172, 55134, 8114588, 14848, 5494...\n",
              "13019370    [54878, 54884, 54939, 2174602, 4646574, 450601...\n",
              "13019389    [8312, 2767604, 7345350, 4341420, 8317, 8320, ...\n",
              "13019396    [693841, 2402030, 8153130, 6276246, 3755330, 3...\n",
              "13019426    [2199498, 2258162, 1826617, 1771183, 1771251, ...\n",
              "13019428    [1710093, 1819803, 894301, 155829, 429456, 253...\n",
              "13019483    [1700901, 6675008, 5681204, 7012304, 8916, 273...\n",
              "13019484    [8898, 5742368, 9226924, 897635, 3217130, 8906...\n",
              "13019485    [2713516, 203851, 203861, 203951, 320736, 3207...\n",
              "13019490    [996355, 191826, 40377, 201066, 951795, 914561...\n",
              "13019500    [3137008, 74152, 3741160, 77251, 3478738, 6356...\n",
              "13019503    [356281, 66787, 59205, 1390544, 73104, 4944066...\n",
              "13019508    [3133696, 50220, 207081, 50584, 48487, 82196, ...\n",
              "13019530    [3811156, 2337580, 8787688, 9920906, 1553743, ...\n",
              "13019534    [8640, 8816, 8791, 2298566, 1811137, 8708, 674...\n",
              "13019552    [6617798, 1263420, 9567886, 1161323, 149768, 1...\n",
              "Name: impressions, Length: 882072, dtype: object"
            ]
          },
          "metadata": {
            "tags": []
          },
          "execution_count": 50
        }
      ]
    },
    {
      "cell_type": "markdown",
      "metadata": {
        "id": "YnQxWbO_FgmH",
        "colab_type": "text"
      },
      "source": [
        "## Item's Average Price Final Clickout\n",
        "The purpose of this feature is to get item's average price accross the train set."
      ]
    },
    {
      "cell_type": "code",
      "metadata": {
        "id": "M2lacun2FgmJ",
        "colab_type": "code",
        "colab": {}
      },
      "source": [
        ""
      ],
      "execution_count": 0,
      "outputs": []
    },
    {
      "cell_type": "markdown",
      "metadata": {
        "id": "AsfTBIjSFgmP",
        "colab_type": "text"
      },
      "source": [
        "**Unkown cells"
      ]
    },
    {
      "cell_type": "code",
      "metadata": {
        "id": "eMo3pY4LFgmQ",
        "colab_type": "code",
        "colab": {}
      },
      "source": [
        "#loading train set\n",
        "ReferenceTrain = pd.read_csv('/content/drive/My Drive/Trivago/Clean Dataset/train.csv')\n",
        "ReferenceTrain = ReferenceTrain.drop(columns='Unnamed: 0')\n",
        "\n",
        "#converting words values in referenc into NaN\n",
        "ReferenceTrain.reference = ReferenceTrain.reference.apply(lambda x: pd.to_numeric(x, errors='coerce')).dropna().astype(int).apply(lambda x: str(x))\n",
        "\n",
        "#dropping NaN in reference\n",
        "ReferenceTrain = ReferenceTrain.drop(ReferenceTrain[ReferenceTrain.reference.isna()].index.tolist())\n",
        "\n",
        "#what I meant by the previous step\n",
        "train.reference, ReferenceTrain.reference"
      ],
      "execution_count": 0,
      "outputs": []
    },
    {
      "cell_type": "code",
      "metadata": {
        "id": "hBKD85KMFgmX",
        "colab_type": "code",
        "colab": {}
      },
      "source": [
        "ReferenceTimeSpent = (ReferenceTrain.groupby(['session_id', 'reference']).timestamp.max() \n",
        "                      - ReferenceTrain.groupby(['session_id', 'reference']).timestamp.min())\n",
        "ReferenceTimeSpent"
      ],
      "execution_count": 0,
      "outputs": []
    },
    {
      "cell_type": "code",
      "metadata": {
        "id": "8UW7wePMFgme",
        "colab_type": "code",
        "colab": {}
      },
      "source": [
        "ReferenceTrain.to_csv('train_ref.csv')                  #DO NOT RUN BEFORE INVESTIGATING FOR THE BEST PRACTICES\n",
        "!cp train_ref.csv '/content/drive/My Drive/Trivago/Clean Dataset/'"
      ],
      "execution_count": 0,
      "outputs": []
    },
    {
      "cell_type": "markdown",
      "metadata": {
        "id": "25qls0N8Fgmk",
        "colab_type": "text"
      },
      "source": [
        "##Feature Engineering"
      ]
    },
    {
      "cell_type": "markdown",
      "metadata": {
        "id": "bIifGEnkFgmm",
        "colab_type": "text"
      },
      "source": [
        "###Items Interacted With & Number of Interactions"
      ]
    },
    {
      "cell_type": "markdown",
      "metadata": {
        "id": "mdnX4ZYPFgmo",
        "colab_type": "text"
      },
      "source": [
        "Taking a sample of the training set to perform trials"
      ]
    },
    {
      "cell_type": "code",
      "metadata": {
        "id": "7nt5b5MVFgmq",
        "colab_type": "code",
        "colab": {}
      },
      "source": [
        "trainlet = train.iloc[0:10000]\n",
        "\n",
        "#getting session_id with no clickouts\n",
        "session_idNoClickouts = list(set(trainlet.session_id.unique()) - set(trainlet[trainlet.action_type == 'clickout item'].session_id.unique()))\n",
        "\n",
        "#dropping sessions with no clickouts\n",
        "trainlet = trainlet[~trainlet.session_id.isin(session_idNoClickouts)].drop(columns='Unnamed: 0')\n",
        "\n",
        "#will be working on a grouped by sample, having the count of steps for each reference got interacted with\n",
        "trainlet1 = trainlet.groupby(['session_id', 'reference'], sort=False).step.count().to_frame()\n",
        "\n",
        "#converting an session_id as index into a column\n",
        "trainlet1.reset_index(level=0, inplace=True)\n",
        "\n",
        "#converting an reference as index into a column\n",
        "trainlet1.reset_index(level=0, inplace=True)\n",
        "\n",
        "#changing order of columns\n",
        "trainlet1 = trainlet1[['session_id', 'reference','step']]\n",
        "\n",
        "#takng a look\n",
        "trainlet1.reference.head(10)"
      ],
      "execution_count": 0,
      "outputs": []
    },
    {
      "cell_type": "code",
      "metadata": {
        "id": "56dECI6DFgm1",
        "colab_type": "code",
        "colab": {}
      },
      "source": [
        "#converting alphabetic values in reference attribute into NaN by converting all values into numeric, then again converting values into string\n",
        "trainlet1.reference = trainlet1.reference.apply(lambda x: pd.to_numeric(x, errors='coerce')).dropna().astype(int).apply(lambda x: str(x))\n",
        "\n",
        "#taking a look\n",
        "trainlet1.reference.head(10)"
      ],
      "execution_count": 0,
      "outputs": []
    },
    {
      "cell_type": "code",
      "metadata": {
        "id": "Dov1tG2kFgm-",
        "colab_type": "code",
        "colab": {}
      },
      "source": [
        "#for the sake of comparison creating another version of trainlet by repeating the previous steps\n",
        "trainlet0 = trainlet.groupby(['session_id', 'reference'], sort=False).step.count().to_frame()\n",
        "trainlet0.reset_index(level=0, inplace=True)\n",
        "trainlet0.reset_index(level=0, inplace=True)\n",
        "trainlet0 = trainlet0[['session_id', 'reference','step']]\n",
        "\n",
        "#taking a look\n",
        "trainlet0"
      ],
      "execution_count": 0,
      "outputs": []
    },
    {
      "cell_type": "code",
      "metadata": {
        "id": "Q4PmpWqoFgnD",
        "colab_type": "code",
        "colab": {}
      },
      "source": [
        "#changing the name of attribute step into NumberOfInteractions\n",
        "trainlet0 = trainlet0.rename(columns = {'step':'NumberOfInteractions'})\n",
        "trainlet1 = trainlet1.rename(columns = {'step':'NumberOfInteractions'})\n",
        "\n",
        "#taking a look\n",
        "trainlet1"
      ],
      "execution_count": 0,
      "outputs": []
    },
    {
      "cell_type": "code",
      "metadata": {
        "id": "r-781fUOFgnI",
        "colab_type": "code",
        "colab": {}
      },
      "source": [
        "#for future use before dropping the NaN values, getting the indeces of the word values in reference attribute\n",
        "#getting the index of words values in reference attribute\n",
        "WordsInReferenceIndex = list(pd.isnull(trainlet1).any(1).nonzero())[0].tolist()\n",
        "\n",
        "#getting reference with words dataframe\n",
        "ReferenceWordsDF = trainlet0.iloc[WordsInReferenceIndex, :]  #for future**"
      ],
      "execution_count": 0,
      "outputs": []
    },
    {
      "cell_type": "code",
      "metadata": {
        "id": "gfMUcdj8FgnX",
        "colab_type": "code",
        "colab": {}
      },
      "source": [
        "#dropping NaN values(rows)\n",
        "trainlet1 = trainlet1.dropna()\n",
        "\n",
        "#taking a look\n",
        "trainlet1"
      ],
      "execution_count": 0,
      "outputs": []
    },
    {
      "cell_type": "code",
      "metadata": {
        "id": "l2PfIW5pFgnf",
        "colab_type": "code",
        "colab": {}
      },
      "source": [
        "#getting reference and Number of interactions lists\n",
        "InteractedWithItems = trainlet1.groupby('session_id', sort=False)['reference'].apply(list)\n",
        "NumberOfInteractions = trainlet1.groupby('session_id', sort=False)['NumberOfInteractions'].apply(list)\n",
        "\n",
        "#taking a look\n",
        "InteractedWithItems, NumberOfInteractions"
      ],
      "execution_count": 0,
      "outputs": []
    },
    {
      "cell_type": "code",
      "metadata": {
        "id": "sqwy_m9fFgnn",
        "colab_type": "code",
        "colab": {}
      },
      "source": [
        "#converting series into lists\n",
        "InteractedWithItems = InteractedWithItems.tolist()\n",
        "NumberOfInteractions = NumberOfInteractions.tolist()"
      ],
      "execution_count": 0,
      "outputs": []
    },
    {
      "cell_type": "markdown",
      "metadata": {
        "id": "TGS_WCcoFgns",
        "colab_type": "text"
      },
      "source": [
        "Adding the two attributes to trainlet"
      ]
    },
    {
      "cell_type": "code",
      "metadata": {
        "id": "itQadgjrFgnu",
        "colab_type": "code",
        "colab": {}
      },
      "source": [
        "#getting a list of indeces InteractedWithItems and NumberOfInteractions should be left joined to\n",
        "FinalClickoutIndex = trainlet[trainlet.action_type=='clickout item'].groupby('session_id').tail(1).index.tolist()\n",
        "\n",
        "#creating InteractedWithItems dataframe\n",
        "InteractedWithItemsDF = pd.DataFrame({'FinalClickoutIndex':FinalClickoutIndex, 'InteractedWitItems':InteractedWithItems,\n",
        "                                      'NumberOfInteractions':NumberOfInteractions}).set_index('FinalClickoutIndex')\n",
        "\n",
        "#left join on dataset\n",
        "trainlet = trainlet.join(InteractedWithItemsDF)\n",
        "trainlet"
      ],
      "execution_count": 0,
      "outputs": []
    },
    {
      "cell_type": "markdown",
      "metadata": {
        "id": "yxdRVfECFgn0",
        "colab_type": "text"
      },
      "source": [
        "###Time Spent"
      ]
    },
    {
      "cell_type": "markdown",
      "metadata": {
        "id": "EDhWpPMkFgn2",
        "colab_type": "text"
      },
      "source": [
        "Creating a time spent attribute for each reference within a session."
      ]
    },
    {
      "cell_type": "code",
      "metadata": {
        "id": "-nqvMGVRFgn3",
        "colab_type": "code",
        "colab": {}
      },
      "source": [
        "#This should be a seperate function\n",
        "\n",
        "#getting session_id with no clickouts\n",
        "session_idNoClickouts = list(set(trainlet.session_id.unique()) - set(trainlet[trainlet.action_type == 'clickout item'].session_id.unique()))\n",
        "\n",
        "#dropping sessions with no clickouts\n",
        "trainlet = trainlet[~trainlet.session_id.isin(session_idNoClickouts)].drop(columns='Unnamed: 0')\n",
        "\n",
        "#obtaining the seconds spent on a reference by subtracting the time started viewing the item till the time of last interaction with the item\n",
        "time_spent = trainlet.groupby(['session_id', 'reference'], sort=False).timestamp.apply(lambda x:(x.max() - x.min())).to_frame()\n",
        "\n",
        "#converting an session_id as index into a column\n",
        "time_spent.reset_index(level=0, inplace=True)\n",
        "\n",
        "#converting an reference as index into a column\n",
        "time_spent.reset_index(level=0, inplace=True)\n",
        "\n",
        "#changing order of columns\n",
        "time_spent = time_spent[['session_id', 'reference','timestamp']]\n",
        "\n",
        "#changing the timestamp into SecondsSpent\n",
        "time_spent = time_spent.rename(columns = {'timestamp':'SecondsSpent'})\n",
        "\n",
        "#converting alphabetic values in reference attribute into NaN by converting all values into numeric, then again converting values into string\n",
        "time_spent.reference = time_spent.reference.apply(lambda x: pd.to_numeric(x, errors='coerce')).dropna().astype(int).apply(lambda x: str(x))\n",
        "\n",
        "#dropping NaN values(rows)\n",
        "time_spent = time_spent.dropna()\n",
        "\n",
        "#getting time spent of interactions lists\n",
        "SecondsSpent = time_spent.groupby('session_id', sort=False)['SecondsSpent'].apply(list)\n",
        "\n",
        "#converting into list\n",
        "SecondsSpent = SecondsSpent.tolist()\n",
        "\n",
        "#getting a list of indeces SecondsSpent to be left joined\n",
        "FinalClickoutIndex = trainlet[trainlet.action_type=='clickout item'].groupby('session_id').tail(1).index.tolist()\n",
        "\n",
        "#creating Seconds dataframe\n",
        "SecondsSpentDF = pd.DataFrame({'FinalClickoutIndex':FinalClickoutIndex, 'SecondsSpent':SecondsSpent}).set_index('FinalClickoutIndex')\n",
        "\n",
        "#left join on dataset\n",
        "trainlet = trainlet.join(SecondsSpentDF)\n",
        "trainlet"
      ],
      "execution_count": 0,
      "outputs": []
    },
    {
      "cell_type": "code",
      "metadata": {
        "id": "erR0HMspFgn9",
        "colab_type": "code",
        "colab": {}
      },
      "source": [
        "time_spent.groupby('session_id', sort=False)['SecondsSpent'].apply(list)"
      ],
      "execution_count": 0,
      "outputs": []
    },
    {
      "cell_type": "code",
      "metadata": {
        "id": "prVNR-dVFgoD",
        "colab_type": "code",
        "colab": {}
      },
      "source": [
        "SecondsSpent = time_spent.groupby('session_id', sort=False)['SecondsSpent'].apply(list)"
      ],
      "execution_count": 0,
      "outputs": []
    },
    {
      "cell_type": "code",
      "metadata": {
        "id": "zKy7tnFRFgoL",
        "colab_type": "code",
        "colab": {}
      },
      "source": [
        "#creating a function\n",
        "def SecondsSpent(dataset):\n",
        "  #getting session_id with no clickouts\n",
        "  session_idNoClickouts = list(set(dataset.session_id.unique()) - set(dataset[dataset.action_type == 'clickout item'].session_id.unique()))\n",
        "\n",
        "  #dropping sessions with no clickouts\n",
        "  dataset = dataset[~dataset.session_id.isin(session_idNoClickouts)].drop(columns='Unnamed: 0')\n",
        "\n",
        "  #obtaining the seconds spent on a reference by subtracting the time started viewing the item till the time of last interaction with the item\n",
        "  time_spent = dataset.groupby(['session_id', 'reference'], sort=False).timestamp.apply(lambda x:(x.max() - x.min())).to_frame()\n",
        "\n",
        "  #converting an session_id as index into a column\n",
        "  time_spent.reset_index(level=0, inplace=True)\n",
        "\n",
        "  #converting an reference as index into a column\n",
        "  time_spent.reset_index(level=0, inplace=True)\n",
        "\n",
        "  #changing order of columns\n",
        "  time_spent = time_spent[['session_id', 'reference','timestamp']]\n",
        "\n",
        "  #changing the timestamp into SecondsSpent\n",
        "  time_spent = time_spent.rename(columns = {'timestamp':'SecondsSpent'})\n",
        "\n",
        "  #converting alphabetic values in reference attribute into NaN by converting all values into numeric, then again converting values into string\n",
        "  time_spent.reference = time_spent.reference.apply(lambda x: pd.to_numeric(x, errors='coerce')).dropna().astype(int).apply(lambda x: str(x))\n",
        "\n",
        "  #dropping NaN values(rows)\n",
        "  time_spent = time_spent.dropna()\n",
        "\n",
        "  #getting time spent of interactions lists\n",
        "  SecondsSpent = time_spent.groupby('session_id', sort=False)['SecondsSpent'].apply(list)\n",
        "\n",
        "  #converting into list\n",
        "  SecondsSpent = SecondsSpent.tolist()\n",
        "\n",
        "  #getting a list of indeces SecondsSpent to be left joined\n",
        "  FinalClickoutIndex = dataset[dataset.action_type=='clickout item'].groupby('session_id').tail(1).index.tolist()\n",
        "\n",
        "  #creating Seconds dataframe\n",
        "  SecondsSpentDF = pd.DataFrame({'FinalClickoutIndex':FinalClickoutIndex, 'SecondsSpent':SecondsSpent}).set_index('FinalClickoutIndex')\n",
        "\n",
        "  #left join on dataset\n",
        "  dataset = dataset.join(SecondsSpentDF)\n",
        "return dataset"
      ],
      "execution_count": 0,
      "outputs": []
    },
    {
      "cell_type": "code",
      "metadata": {
        "id": "1sy799iTFgoR",
        "colab_type": "code",
        "colab": {}
      },
      "source": [
        "trainlet2 = train.iloc[0:10000]\n",
        "trainlet2.head()"
      ],
      "execution_count": 0,
      "outputs": []
    },
    {
      "cell_type": "code",
      "metadata": {
        "id": "1NijoKPmFgoV",
        "colab_type": "code",
        "colab": {}
      },
      "source": [
        "SecondsSpent(trainlet2)"
      ],
      "execution_count": 0,
      "outputs": []
    },
    {
      "cell_type": "code",
      "metadata": {
        "id": "3kSjtE3sFgof",
        "colab_type": "code",
        "colab": {}
      },
      "source": [
        "pd.DataFrame({'FinalClickoutIndex':FinalClickoutIndex, 'SecondsSpent':SecondsSpent}).set_index('FinalClickoutIndex')"
      ],
      "execution_count": 0,
      "outputs": []
    },
    {
      "cell_type": "code",
      "metadata": {
        "id": "n1ulcMSRFgok",
        "colab_type": "code",
        "colab": {}
      },
      "source": [
        "trainlet[trainlet.action_type=='clickout item'].groupby('session_id').tail(1).index.tolist()"
      ],
      "execution_count": 0,
      "outputs": []
    },
    {
      "cell_type": "code",
      "metadata": {
        "id": "wsier5JMFgon",
        "colab_type": "code",
        "colab": {}
      },
      "source": [
        "#dropping NaN values(rows)\n",
        "trainlet1 = trainlet1.dropna()\n",
        "\n",
        "#taking a look\n",
        "trainlet1"
      ],
      "execution_count": 0,
      "outputs": []
    },
    {
      "cell_type": "code",
      "metadata": {
        "id": "Ny4clytHFgoq",
        "colab_type": "code",
        "colab": {}
      },
      "source": [
        "#getting a list of values of time spent on each reference in a session\n",
        "time_spent_values = time_spent.values\n",
        "\n",
        "#getting the index of the time_spent_values in dataset\n",
        "index = trainlet.groupby(['session_id', 'reference'], sort=False).tail(1).index\n",
        "\n",
        "#creating a dataframe for a left join on train set\n",
        "time_spent_df = pd.DataFrame({'index':index, 'seconds_spent':time_spent_values})\n",
        "time_spent_df.head(2)"
      ],
      "execution_count": 0,
      "outputs": []
    },
    {
      "cell_type": "code",
      "metadata": {
        "id": "3Ao5fdAyFgot",
        "colab_type": "code",
        "colab": {}
      },
      "source": [
        "#making the index column as the index for dataframe\n",
        "time_spent_df = time_spent_df.set_index('index')\n",
        "\n",
        "#left join to train set on index\n",
        "train = train.join(time_spent_df)\n",
        "train.head(15)"
      ],
      "execution_count": 0,
      "outputs": []
    },
    {
      "cell_type": "code",
      "metadata": {
        "id": "fSEu2nsXFgo0",
        "colab_type": "code",
        "colab": {}
      },
      "source": [
        "#exporting dataframe to Google drive  DO NOT RUN THIS CELL UNLESS MODIFIED\n",
        "train.to_csv('train.csv')"
      ],
      "execution_count": 0,
      "outputs": []
    },
    {
      "cell_type": "code",
      "metadata": {
        "id": "KXa9VqDJFgo6",
        "colab_type": "code",
        "colab": {}
      },
      "source": [
        "#loading file                         DO NOT RUN THIS CELL UNLESS MODIFIED (SEARCH FOR BEST PRACTICES IN THIS CASE)   \n",
        "train = pd.read_csv('/content/drive/My Drive/Trivago/Clean Dataset/train.csv')\n",
        "train.head(15)"
      ],
      "execution_count": 0,
      "outputs": []
    },
    {
      "cell_type": "markdown",
      "metadata": {
        "id": "Wy6apT9fFgo_",
        "colab_type": "text"
      },
      "source": [
        "###Price"
      ]
    },
    {
      "cell_type": "code",
      "metadata": {
        "id": "tVcm1qAjFgpB",
        "colab_type": "code",
        "colab": {}
      },
      "source": [
        "Taking a session as an example, if there are three unique references. If we had the ones that have the same impressions which are the first two, and we get a table out of the impressions and prices, we will find that they have the same price exactly.\n",
        "By proceeding with the KNN on this table(features can later on be added, and analysis on how different properties matter), we can have a list of 5 items at least(which are the most important) and go from there.\t"
      ],
      "execution_count": 0,
      "outputs": []
    },
    {
      "cell_type": "code",
      "metadata": {
        "id": "IoUGTQHCFgpE",
        "colab_type": "code",
        "colab": {}
      },
      "source": [
        "len(train[train.session_id == 'aff3928535f48'][train.action_type == 'clickout item'].tail(1).impressions.values[0].split('|'))"
      ],
      "execution_count": 0,
      "outputs": []
    },
    {
      "cell_type": "code",
      "metadata": {
        "id": "3UFS_QaFFgpP",
        "colab_type": "code",
        "colab": {}
      },
      "source": [
        "items = train[train.session_id == 'aff3928535f48'][train.action_type == 'clickout item'].tail(1).impressions.values[0].split('|')"
      ],
      "execution_count": 0,
      "outputs": []
    },
    {
      "cell_type": "code",
      "metadata": {
        "id": "H07RrUU2FgpT",
        "colab_type": "code",
        "colab": {}
      },
      "source": [
        "all_interacted_with_items = train[train.session_id == 'aff3928535f48'].reference.unique().tolist()\n",
        "interacted_with_items = []\n",
        "interacted_with_items_prices = []\n",
        "for item in all_interacted_with_items:\n",
        "  for i in range(len(impression)):\n",
        "    if item == impression[i]:\n",
        "        interacted_with_items.append(item)\n",
        "        print(item)\n",
        "        interacted_with_items_prices.append(price[i])\n",
        "        print(price[i])"
      ],
      "execution_count": 0,
      "outputs": []
    },
    {
      "cell_type": "code",
      "metadata": {
        "id": "HFFBL8OVFgpe",
        "colab_type": "code",
        "colab": {}
      },
      "source": [
        "for item in all_interacted_with_items:\n",
        "  for i in range(len(impression)):\n",
        "    if item == impression[i]:\n",
        "      print(item)"
      ],
      "execution_count": 0,
      "outputs": []
    },
    {
      "cell_type": "code",
      "metadata": {
        "id": "udHTZrPNFgpo",
        "colab_type": "code",
        "colab": {}
      },
      "source": [
        "all_interacted_with_items"
      ],
      "execution_count": 0,
      "outputs": []
    },
    {
      "cell_type": "code",
      "metadata": {
        "id": "xuyRm-cGFgpw",
        "colab_type": "code",
        "colab": {}
      },
      "source": [
        "def impression_price(session_id):               #the isssue with this function is that ignores the first clickouts\n",
        "                                                #(there are valuable infromation that can be extracted)\n",
        "  try:                                          #some of the functions don't apply on the some sessions\n",
        "    impression = train[train.session_id == session_id][train.action_type == 'clickout item'].tail(1).impressions.values[0].split('|')\n",
        "    price = train[train.session_id == session_id][train.action_type == 'clickout item'].tail(1).prices.values[0].split('|')\n",
        "    price = list(map(int, price))               #converting list of strings into integers\n",
        "    clickout_item = train[train.session_id == session_id][train.action_type == 'clickout item'].tail(1).reference.values[0]\n",
        "    all_interacted_with_items = train[train.session_id == session_id].reference.unique().tolist()\n",
        "    for i in range(len(impression)):            #getting the clickout item\n",
        "      if clickout_item == impression[i]:\n",
        "        rank = i\n",
        "    interacted_with_items = []\n",
        "    interacted_with_items_prices = []\n",
        "    for item in all_interacted_with_items:      #getting interacted with items\n",
        "      for i in range(len(impression)):\n",
        "        if item == impression[i]:\n",
        "          interacted_with_items.append(item)\n",
        "          interacted_with_items_prices.append(price[i])\n",
        "    plt.figure(figsize=(10,8))\n",
        "    plt.title('Impressions and Prices', fontsize=30)\n",
        "    plt.xlabel('Impressions', fontsize=20)\n",
        "    plt.ylabel('Price', fontsize=20)\n",
        "    plt.xticks(rotation=90)\n",
        "    plt.plot(impression, price, 'o')\n",
        "    plt.plot(interacted_with_items, interacted_with_items_prices, 'o', color='red')\n",
        "    plt.plot(clickout_item, price[rank] , 'o', color='black')\n",
        "  except:\n",
        "    pass\n",
        "\n",
        "listOfSessions = random.choices(train.session_id.unique(), k=10)\n",
        "for session_id in listOfSessions:\n",
        "  impression_price(session_id)\n"
      ],
      "execution_count": 0,
      "outputs": []
    },
    {
      "cell_type": "markdown",
      "metadata": {
        "id": "fYBM5wirFgp4",
        "colab_type": "text"
      },
      "source": [
        "TRY \\ to have a the code running normally in a well organized shape"
      ]
    },
    {
      "cell_type": "code",
      "metadata": {
        "id": "mITnJTBaFgp8",
        "colab_type": "code",
        "colab": {}
      },
      "source": [
        "listOfSessions = train.session_id.unique()[0:100]\n",
        "for session_id in listOfSessions:\n",
        "  impression_price(session_id)"
      ],
      "execution_count": 0,
      "outputs": []
    },
    {
      "cell_type": "markdown",
      "metadata": {
        "id": "msHzx4rfFgqE",
        "colab_type": "text"
      },
      "source": [
        "Impressions shown on the graphs are put in a order of the rank provided by Trivago last list. After taking a quick look at the graphs (sample), I can see a pattern of having the black dot (clickout item) somewhere close to the red dots, at least not very far away. \n",
        "I'll need to validate that the features prices and ranks play an important role of user choice eventually."
      ]
    }
  ]
}