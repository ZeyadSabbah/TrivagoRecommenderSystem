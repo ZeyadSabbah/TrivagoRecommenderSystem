{
 "cells": [
  {
   "cell_type": "markdown",
   "metadata": {},
   "source": [
    "# Trivago dataset EDA"
   ]
  },
  {
   "cell_type": "markdown",
   "metadata": {
    "colab_type": "text",
    "id": "sBljJ4HZqFBX"
   },
   "source": [
    "## Loading Libraries & Datasets"
   ]
  },
  {
   "cell_type": "code",
   "execution_count": 42,
   "metadata": {
    "colab": {},
    "colab_type": "code",
    "id": "Qb0zSLmkDlVb"
   },
   "outputs": [],
   "source": [
    "import pandas as pd\n",
    "import numpy as np\n",
    "from datetime import datetime\n",
    "from datetime import timedelta\n",
    "import math\n",
    "import matplotlib.pyplot as plt\n",
    "from datetime import datetime\n",
    "import re\n",
    "import random"
   ]
  },
  {
   "cell_type": "code",
   "execution_count": 40,
   "metadata": {
    "colab": {},
    "colab_type": "code",
    "id": "LLt4DmlfDzrj"
   },
   "outputs": [],
   "source": [
    "item_metadata_filepath = '../raw_data/item_metadata.csv'\n",
    "submission_popular_filepath = '../raw_data/submission_popular.csv'\n",
    "train_filepath = '../raw_data/train.csv'\n",
    "test_filepath = '../raw_data/test.csv'"
   ]
  },
  {
   "cell_type": "code",
   "execution_count": 43,
   "metadata": {
    "colab": {},
    "colab_type": "code",
    "id": "0VnrfKWLFdk9",
    "scrolled": true
   },
   "outputs": [],
   "source": [
    "submission_popular = pd.read_csv(submission_popular_filepath)\n",
    "item_metadata = pd.read_csv(item_metadata_filepath)\n",
    "train = pd.read_csv(train_filepath)\n",
    "test = pd.read_csv(test_filepath)"
   ]
  },
  {
   "cell_type": "markdown",
   "metadata": {
    "colab_type": "text",
    "id": "NmNnM6fhqPK_"
   },
   "source": [
    "## Understanding Different Satasets"
   ]
  },
  {
   "cell_type": "markdown",
   "metadata": {
    "colab_type": "text",
    "id": "gqROlpDui41N"
   },
   "source": [
    "### test"
   ]
  },
  {
   "cell_type": "code",
   "execution_count": 7,
   "metadata": {
    "colab": {
     "base_uri": "https://localhost:8080/",
     "height": 524
    },
    "colab_type": "code",
    "executionInfo": {
     "elapsed": 854,
     "status": "ok",
     "timestamp": 1581597368407,
     "user": {
      "displayName": "Zeyad Sabbah",
      "photoUrl": "https://lh3.googleusercontent.com/a-/AAuE7mCWyF9CghKcdnVGr84tRaYwPH0IEtaKjAE1o5R9dw=s64",
      "userId": "03977300836188616390"
     },
     "user_tz": 300
    },
    "id": "vVcEB4bIi-2J",
    "outputId": "ec336828-f28b-45d5-9798-9846e761980f"
   },
   "outputs": [
    {
     "data": {
      "text/html": [
       "<div>\n",
       "<style scoped>\n",
       "    .dataframe tbody tr th:only-of-type {\n",
       "        vertical-align: middle;\n",
       "    }\n",
       "\n",
       "    .dataframe tbody tr th {\n",
       "        vertical-align: top;\n",
       "    }\n",
       "\n",
       "    .dataframe thead th {\n",
       "        text-align: right;\n",
       "    }\n",
       "</style>\n",
       "<table border=\"1\" class=\"dataframe\">\n",
       "  <thead>\n",
       "    <tr style=\"text-align: right;\">\n",
       "      <th></th>\n",
       "      <th>user_id</th>\n",
       "      <th>session_id</th>\n",
       "      <th>timestamp</th>\n",
       "      <th>step</th>\n",
       "      <th>action_type</th>\n",
       "      <th>reference</th>\n",
       "      <th>platform</th>\n",
       "      <th>city</th>\n",
       "      <th>device</th>\n",
       "      <th>current_filters</th>\n",
       "      <th>impressions</th>\n",
       "      <th>prices</th>\n",
       "    </tr>\n",
       "  </thead>\n",
       "  <tbody>\n",
       "    <tr>\n",
       "      <th>0</th>\n",
       "      <td>004A07DM0IDW</td>\n",
       "      <td>1d688ec168932</td>\n",
       "      <td>1541555614</td>\n",
       "      <td>1</td>\n",
       "      <td>interaction item image</td>\n",
       "      <td>2059240</td>\n",
       "      <td>CO</td>\n",
       "      <td>Santa Marta, Colombia</td>\n",
       "      <td>mobile</td>\n",
       "      <td>NaN</td>\n",
       "      <td>NaN</td>\n",
       "      <td>NaN</td>\n",
       "    </tr>\n",
       "    <tr>\n",
       "      <th>1</th>\n",
       "      <td>004A07DM0IDW</td>\n",
       "      <td>1d688ec168932</td>\n",
       "      <td>1541555614</td>\n",
       "      <td>2</td>\n",
       "      <td>interaction item image</td>\n",
       "      <td>2059240</td>\n",
       "      <td>CO</td>\n",
       "      <td>Santa Marta, Colombia</td>\n",
       "      <td>mobile</td>\n",
       "      <td>NaN</td>\n",
       "      <td>NaN</td>\n",
       "      <td>NaN</td>\n",
       "    </tr>\n",
       "    <tr>\n",
       "      <th>2</th>\n",
       "      <td>004A07DM0IDW</td>\n",
       "      <td>1d688ec168932</td>\n",
       "      <td>1541555696</td>\n",
       "      <td>3</td>\n",
       "      <td>clickout item</td>\n",
       "      <td>1050068</td>\n",
       "      <td>CO</td>\n",
       "      <td>Santa Marta, Colombia</td>\n",
       "      <td>mobile</td>\n",
       "      <td>NaN</td>\n",
       "      <td>2059240|2033381|1724779|127131|399441|103357|1...</td>\n",
       "      <td>70|46|48|76|65|65|106|66|87|43|52|44|60|61|50|...</td>\n",
       "    </tr>\n",
       "    <tr>\n",
       "      <th>3</th>\n",
       "      <td>004A07DM0IDW</td>\n",
       "      <td>1d688ec168932</td>\n",
       "      <td>1541555707</td>\n",
       "      <td>4</td>\n",
       "      <td>clickout item</td>\n",
       "      <td>1050068</td>\n",
       "      <td>CO</td>\n",
       "      <td>Santa Marta, Colombia</td>\n",
       "      <td>mobile</td>\n",
       "      <td>NaN</td>\n",
       "      <td>2059240|2033381|1724779|127131|399441|103357|1...</td>\n",
       "      <td>70|46|48|76|65|65|106|66|87|43|52|44|60|61|50|...</td>\n",
       "    </tr>\n",
       "    <tr>\n",
       "      <th>4</th>\n",
       "      <td>004A07DM0IDW</td>\n",
       "      <td>1d688ec168932</td>\n",
       "      <td>1541555717</td>\n",
       "      <td>5</td>\n",
       "      <td>clickout item</td>\n",
       "      <td>1050068</td>\n",
       "      <td>CO</td>\n",
       "      <td>Santa Marta, Colombia</td>\n",
       "      <td>mobile</td>\n",
       "      <td>NaN</td>\n",
       "      <td>2059240|2033381|1724779|127131|399441|103357|1...</td>\n",
       "      <td>70|46|48|76|65|65|106|66|87|43|52|44|60|61|50|...</td>\n",
       "    </tr>\n",
       "    <tr>\n",
       "      <th>5</th>\n",
       "      <td>004A07DM0IDW</td>\n",
       "      <td>1d688ec168932</td>\n",
       "      <td>1541555792</td>\n",
       "      <td>6</td>\n",
       "      <td>clickout item</td>\n",
       "      <td>3241426</td>\n",
       "      <td>CO</td>\n",
       "      <td>Santa Marta, Colombia</td>\n",
       "      <td>mobile</td>\n",
       "      <td>NaN</td>\n",
       "      <td>2059240|2033381|1724779|127131|399441|103357|1...</td>\n",
       "      <td>70|46|48|76|65|65|106|66|87|43|52|44|60|61|50|...</td>\n",
       "    </tr>\n",
       "    <tr>\n",
       "      <th>6</th>\n",
       "      <td>004A07DM0IDW</td>\n",
       "      <td>1d688ec168932</td>\n",
       "      <td>1541555799</td>\n",
       "      <td>7</td>\n",
       "      <td>clickout item</td>\n",
       "      <td>NaN</td>\n",
       "      <td>CO</td>\n",
       "      <td>Santa Marta, Colombia</td>\n",
       "      <td>mobile</td>\n",
       "      <td>NaN</td>\n",
       "      <td>2059240|2033381|1724779|127131|399441|103357|1...</td>\n",
       "      <td>70|46|48|76|65|65|106|66|87|43|52|44|60|61|50|...</td>\n",
       "    </tr>\n",
       "  </tbody>\n",
       "</table>\n",
       "</div>"
      ],
      "text/plain": [
       "        user_id  ...                                             prices\n",
       "0  004A07DM0IDW  ...                                                NaN\n",
       "1  004A07DM0IDW  ...                                                NaN\n",
       "2  004A07DM0IDW  ...  70|46|48|76|65|65|106|66|87|43|52|44|60|61|50|...\n",
       "3  004A07DM0IDW  ...  70|46|48|76|65|65|106|66|87|43|52|44|60|61|50|...\n",
       "4  004A07DM0IDW  ...  70|46|48|76|65|65|106|66|87|43|52|44|60|61|50|...\n",
       "5  004A07DM0IDW  ...  70|46|48|76|65|65|106|66|87|43|52|44|60|61|50|...\n",
       "6  004A07DM0IDW  ...  70|46|48|76|65|65|106|66|87|43|52|44|60|61|50|...\n",
       "\n",
       "[7 rows x 12 columns]"
      ]
     },
     "execution_count": 7,
     "metadata": {
      "tags": []
     },
     "output_type": "execute_result"
    }
   ],
   "source": [
    "test[test['session_id'] == '1d688ec168932']"
   ]
  },
  {
   "cell_type": "markdown",
   "metadata": {
    "colab_type": "text",
    "id": "_AxdHwt1jLaA"
   },
   "source": [
    "The reference value in the last index is removed, this is the label that the prediction metrics is calculated upon.\n",
    "The prediction should be on value of the impression list, the metric used to evaluate submissions is mean reciprocal rank.\n",
    "\n",
    "**Example:**\n",
    "\n",
    "\n",
    "**query 1:**\n",
    "\n",
    "impressions = [100, 101, 102, 103, 104, 105]\n",
    "\n",
    "clicked_item_id = 102\n",
    "\n",
    "submission = [101, 103, 104, 102, 105, 100]\n",
    "\n",
    "reciprocal rank = 0.25\n",
    "\n",
    "\n",
    "\n",
    "\n",
    "**query 2:**\n",
    "\n",
    "impression = [101, 103, 104, 100, 105]\n",
    "\n",
    "clicked_item_id = 105\n",
    "\n",
    "submission = [103, 105, 101, 100, 104]\n",
    "\n",
    "reciprocal rank = 0.5\n",
    "\n",
    "mrr = (0.25 + 0.5) / 2 = 0.375"
   ]
  },
  {
   "cell_type": "code",
   "execution_count": 15,
   "metadata": {
    "colab": {
     "base_uri": "https://localhost:8080/",
     "height": 51
    },
    "colab_type": "code",
    "executionInfo": {
     "elapsed": 1075,
     "status": "ok",
     "timestamp": 1581597930260,
     "user": {
      "displayName": "Zeyad Sabbah",
      "photoUrl": "https://lh3.googleusercontent.com/a-/AAuE7mCWyF9CghKcdnVGr84tRaYwPH0IEtaKjAE1o5R9dw=s64",
      "userId": "03977300836188616390"
     },
     "user_tz": 300
    },
    "id": "WHKzs3vlkc5Q",
    "outputId": "eadbffeb-86fe-4c9b-a8d5-16cc6bd8c1db"
   },
   "outputs": [
    {
     "name": "stdout",
     "output_type": "stream",
     "text": [
      "Number of unique sessions 291381 .\n",
      "Number of unique sessions that have a clickout 275679 .\n"
     ]
    }
   ],
   "source": [
    "print('Number of unique sessions', test.session_id.nunique(), '.\\nNumber of unique sessions that have a clickout',\n",
    "      test[test.action_type=='clickout item'].session_id.nunique(),'.')"
   ]
  },
  {
   "cell_type": "markdown",
   "metadata": {
    "colab_type": "text",
    "id": "pb_taxNik_Nx"
   },
   "source": [
    "Clickout here means that there times submissions don't actually have labels. These kinds of sessions should be removed from the datasets as the clickoutout item refers to being a label. A proper function should be handling sessions without any clickouts in the action_type attribute."
   ]
  },
  {
   "cell_type": "markdown",
   "metadata": {
    "colab_type": "text",
    "id": "rtGG15v0idk8"
   },
   "source": [
    "### submission_popular"
   ]
  },
  {
   "cell_type": "markdown",
   "metadata": {
    "colab_type": "text",
    "id": "Z1l2UzxIisX_"
   },
   "source": [
    "This is the form on how the test set predictions should be submitted."
   ]
  },
  {
   "cell_type": "code",
   "execution_count": 5,
   "metadata": {
    "colab": {
     "base_uri": "https://localhost:8080/",
     "height": 204
    },
    "colab_type": "code",
    "executionInfo": {
     "elapsed": 748,
     "status": "ok",
     "timestamp": 1581597227173,
     "user": {
      "displayName": "Zeyad Sabbah",
      "photoUrl": "https://lh3.googleusercontent.com/a-/AAuE7mCWyF9CghKcdnVGr84tRaYwPH0IEtaKjAE1o5R9dw=s64",
      "userId": "03977300836188616390"
     },
     "user_tz": 300
    },
    "id": "ddinG6ggij0I",
    "outputId": "fc6eeb9b-e800-430d-c3c6-543222004058",
    "scrolled": true
   },
   "outputs": [
    {
     "data": {
      "text/html": [
       "<div>\n",
       "<style scoped>\n",
       "    .dataframe tbody tr th:only-of-type {\n",
       "        vertical-align: middle;\n",
       "    }\n",
       "\n",
       "    .dataframe tbody tr th {\n",
       "        vertical-align: top;\n",
       "    }\n",
       "\n",
       "    .dataframe thead th {\n",
       "        text-align: right;\n",
       "    }\n",
       "</style>\n",
       "<table border=\"1\" class=\"dataframe\">\n",
       "  <thead>\n",
       "    <tr style=\"text-align: right;\">\n",
       "      <th></th>\n",
       "      <th>user_id</th>\n",
       "      <th>session_id</th>\n",
       "      <th>timestamp</th>\n",
       "      <th>step</th>\n",
       "      <th>item_recommendations</th>\n",
       "    </tr>\n",
       "  </thead>\n",
       "  <tbody>\n",
       "    <tr>\n",
       "      <th>0</th>\n",
       "      <td>000324D9BBUC</td>\n",
       "      <td>89643988fdbfb</td>\n",
       "      <td>1541593942</td>\n",
       "      <td>10</td>\n",
       "      <td>924795 106315 1033140 119494 101758 903037 105...</td>\n",
       "    </tr>\n",
       "    <tr>\n",
       "      <th>1</th>\n",
       "      <td>0004Q49X39PY</td>\n",
       "      <td>9de47d9a66494</td>\n",
       "      <td>1541641157</td>\n",
       "      <td>1</td>\n",
       "      <td>3505150 3812004 2227896 2292254 3184842 222702...</td>\n",
       "    </tr>\n",
       "    <tr>\n",
       "      <th>2</th>\n",
       "      <td>0004Q49X39PY</td>\n",
       "      <td>beea5c27030cb</td>\n",
       "      <td>1541561202</td>\n",
       "      <td>1</td>\n",
       "      <td>4476010 3505150 3812004 2227896 2292254 222702...</td>\n",
       "    </tr>\n",
       "    <tr>\n",
       "      <th>3</th>\n",
       "      <td>00071784XQ6B</td>\n",
       "      <td>9617600e1ba7c</td>\n",
       "      <td>1541630328</td>\n",
       "      <td>2</td>\n",
       "      <td>22854 3067559 22721 22713 16121 22772 22727 22...</td>\n",
       "    </tr>\n",
       "    <tr>\n",
       "      <th>4</th>\n",
       "      <td>0008BO33KUQ0</td>\n",
       "      <td>2d0e2102ee0dc</td>\n",
       "      <td>1541636411</td>\n",
       "      <td>6</td>\n",
       "      <td>9857656 5849628 655716 1352530 502066 1405084 ...</td>\n",
       "    </tr>\n",
       "  </tbody>\n",
       "</table>\n",
       "</div>"
      ],
      "text/plain": [
       "        user_id  ...                               item_recommendations\n",
       "0  000324D9BBUC  ...  924795 106315 1033140 119494 101758 903037 105...\n",
       "1  0004Q49X39PY  ...  3505150 3812004 2227896 2292254 3184842 222702...\n",
       "2  0004Q49X39PY  ...  4476010 3505150 3812004 2227896 2292254 222702...\n",
       "3  00071784XQ6B  ...  22854 3067559 22721 22713 16121 22772 22727 22...\n",
       "4  0008BO33KUQ0  ...  9857656 5849628 655716 1352530 502066 1405084 ...\n",
       "\n",
       "[5 rows x 5 columns]"
      ]
     },
     "execution_count": 5,
     "metadata": {
      "tags": []
     },
     "output_type": "execute_result"
    }
   ],
   "source": [
    "submission_popular.head()"
   ]
  },
  {
   "cell_type": "code",
   "execution_count": 32,
   "metadata": {},
   "outputs": [
    {
     "data": {
      "text/plain": [
       "user_id                 object\n",
       "session_id              object\n",
       "timestamp                int64\n",
       "step                     int64\n",
       "item_recommendations    object\n",
       "dtype: object"
      ]
     },
     "execution_count": 32,
     "metadata": {},
     "output_type": "execute_result"
    }
   ],
   "source": [
    "submission_popular.dtypes"
   ]
  },
  {
   "cell_type": "markdown",
   "metadata": {
    "colab_type": "text",
    "id": "AfxkLQWylsu9"
   },
   "source": [
    "### item_metadata"
   ]
  },
  {
   "cell_type": "code",
   "execution_count": 16,
   "metadata": {
    "colab": {
     "base_uri": "https://localhost:8080/",
     "height": 204
    },
    "colab_type": "code",
    "executionInfo": {
     "elapsed": 948,
     "status": "ok",
     "timestamp": 1581598072108,
     "user": {
      "displayName": "Zeyad Sabbah",
      "photoUrl": "https://lh3.googleusercontent.com/a-/AAuE7mCWyF9CghKcdnVGr84tRaYwPH0IEtaKjAE1o5R9dw=s64",
      "userId": "03977300836188616390"
     },
     "user_tz": 300
    },
    "id": "RZDFnqiplu0E",
    "outputId": "7fdb03fb-b440-483d-c7eb-5886245832a2",
    "scrolled": false
   },
   "outputs": [
    {
     "data": {
      "text/html": [
       "<div>\n",
       "<style scoped>\n",
       "    .dataframe tbody tr th:only-of-type {\n",
       "        vertical-align: middle;\n",
       "    }\n",
       "\n",
       "    .dataframe tbody tr th {\n",
       "        vertical-align: top;\n",
       "    }\n",
       "\n",
       "    .dataframe thead th {\n",
       "        text-align: right;\n",
       "    }\n",
       "</style>\n",
       "<table border=\"1\" class=\"dataframe\">\n",
       "  <thead>\n",
       "    <tr style=\"text-align: right;\">\n",
       "      <th></th>\n",
       "      <th>item_id</th>\n",
       "      <th>properties</th>\n",
       "    </tr>\n",
       "  </thead>\n",
       "  <tbody>\n",
       "    <tr>\n",
       "      <th>0</th>\n",
       "      <td>5101</td>\n",
       "      <td>Satellite TV|Golf Course|Airport Shuttle|Cosme...</td>\n",
       "    </tr>\n",
       "    <tr>\n",
       "      <th>1</th>\n",
       "      <td>5416</td>\n",
       "      <td>Satellite TV|Cosmetic Mirror|Safe (Hotel)|Tele...</td>\n",
       "    </tr>\n",
       "    <tr>\n",
       "      <th>2</th>\n",
       "      <td>5834</td>\n",
       "      <td>Satellite TV|Cosmetic Mirror|Safe (Hotel)|Tele...</td>\n",
       "    </tr>\n",
       "    <tr>\n",
       "      <th>3</th>\n",
       "      <td>5910</td>\n",
       "      <td>Satellite TV|Sailing|Cosmetic Mirror|Telephone...</td>\n",
       "    </tr>\n",
       "    <tr>\n",
       "      <th>4</th>\n",
       "      <td>6066</td>\n",
       "      <td>Satellite TV|Sailing|Diving|Cosmetic Mirror|Sa...</td>\n",
       "    </tr>\n",
       "  </tbody>\n",
       "</table>\n",
       "</div>"
      ],
      "text/plain": [
       "   item_id                                         properties\n",
       "0     5101  Satellite TV|Golf Course|Airport Shuttle|Cosme...\n",
       "1     5416  Satellite TV|Cosmetic Mirror|Safe (Hotel)|Tele...\n",
       "2     5834  Satellite TV|Cosmetic Mirror|Safe (Hotel)|Tele...\n",
       "3     5910  Satellite TV|Sailing|Cosmetic Mirror|Telephone...\n",
       "4     6066  Satellite TV|Sailing|Diving|Cosmetic Mirror|Sa..."
      ]
     },
     "execution_count": 16,
     "metadata": {
      "tags": []
     },
     "output_type": "execute_result"
    }
   ],
   "source": [
    "item_metadata.head()"
   ]
  },
  {
   "cell_type": "code",
   "execution_count": 14,
   "metadata": {},
   "outputs": [
    {
     "data": {
      "text/plain": [
       "(item_id       927142\n",
       " properties    566835\n",
       " dtype: int64, 927142)"
      ]
     },
     "execution_count": 14,
     "metadata": {},
     "output_type": "execute_result"
    }
   ],
   "source": [
    "#making sure there is no duplicates\n",
    "item_metadata.nunique(), len(item_metadata)"
   ]
  },
  {
   "cell_type": "markdown",
   "metadata": {
    "colab_type": "text",
    "id": "xM_yMk6Nl2zm"
   },
   "source": [
    "Each item in the different datasets has a number (reference and impression attributes), these items have properties mentioned here."
   ]
  },
  {
   "cell_type": "code",
   "execution_count": 33,
   "metadata": {},
   "outputs": [
    {
     "data": {
      "text/plain": [
       "item_id        int64\n",
       "properties    object\n",
       "dtype: object"
      ]
     },
     "execution_count": 33,
     "metadata": {},
     "output_type": "execute_result"
    }
   ],
   "source": [
    "item_metadata.dtypes"
   ]
  },
  {
   "cell_type": "markdown",
   "metadata": {
    "colab_type": "text",
    "id": "_IeWf1-qmcq7"
   },
   "source": [
    "Number of properties can be added as a feature."
   ]
  },
  {
   "cell_type": "markdown",
   "metadata": {
    "colab_type": "text",
    "id": "KrEXYDYvm2wZ"
   },
   "source": [
    "### train"
   ]
  },
  {
   "cell_type": "code",
   "execution_count": 4,
   "metadata": {
    "colab": {
     "base_uri": "https://localhost:8080/",
     "height": 309
    },
    "colab_type": "code",
    "executionInfo": {
     "elapsed": 1681,
     "status": "ok",
     "timestamp": 1581346249104,
     "user": {
      "displayName": "Zeyad Sabbah",
      "photoUrl": "https://lh3.googleusercontent.com/a-/AAuE7mCWyF9CghKcdnVGr84tRaYwPH0IEtaKjAE1o5R9dw=s64",
      "userId": "03977300836188616390"
     },
     "user_tz": 300
    },
    "id": "PpAFG8Jak-zx",
    "outputId": "fbb8a100-dfd0-4f6a-d681-007eebf54bd6",
    "scrolled": true
   },
   "outputs": [
    {
     "data": {
      "text/html": [
       "<div>\n",
       "<style scoped>\n",
       "    .dataframe tbody tr th:only-of-type {\n",
       "        vertical-align: middle;\n",
       "    }\n",
       "\n",
       "    .dataframe tbody tr th {\n",
       "        vertical-align: top;\n",
       "    }\n",
       "\n",
       "    .dataframe thead th {\n",
       "        text-align: right;\n",
       "    }\n",
       "</style>\n",
       "<table border=\"1\" class=\"dataframe\">\n",
       "  <thead>\n",
       "    <tr style=\"text-align: right;\">\n",
       "      <th></th>\n",
       "      <th>user_id</th>\n",
       "      <th>session_id</th>\n",
       "      <th>timestamp</th>\n",
       "      <th>step</th>\n",
       "      <th>action_type</th>\n",
       "      <th>reference</th>\n",
       "      <th>platform</th>\n",
       "      <th>city</th>\n",
       "      <th>device</th>\n",
       "      <th>current_filters</th>\n",
       "      <th>impressions</th>\n",
       "      <th>prices</th>\n",
       "    </tr>\n",
       "  </thead>\n",
       "  <tbody>\n",
       "    <tr>\n",
       "      <th>15932987</th>\n",
       "      <td>ZYNMLE3MV3LK</td>\n",
       "      <td>62728015bec05</td>\n",
       "      <td>1541544490</td>\n",
       "      <td>15</td>\n",
       "      <td>interaction item image</td>\n",
       "      <td>6617798</td>\n",
       "      <td>PT</td>\n",
       "      <td>Paris, France</td>\n",
       "      <td>desktop</td>\n",
       "      <td>NaN</td>\n",
       "      <td>NaN</td>\n",
       "      <td>NaN</td>\n",
       "    </tr>\n",
       "    <tr>\n",
       "      <th>15932988</th>\n",
       "      <td>ZYNMLE3MV3LK</td>\n",
       "      <td>62728015bec05</td>\n",
       "      <td>1541544491</td>\n",
       "      <td>16</td>\n",
       "      <td>clickout item</td>\n",
       "      <td>6617798</td>\n",
       "      <td>PT</td>\n",
       "      <td>Paris, France</td>\n",
       "      <td>desktop</td>\n",
       "      <td>Focus on Distance</td>\n",
       "      <td>6617798|1263420|9567886|1161323|149768|1890735...</td>\n",
       "      <td>58|96|55|75|90|60|233|104|150|145|328|207|150|...</td>\n",
       "    </tr>\n",
       "    <tr>\n",
       "      <th>15932989</th>\n",
       "      <td>ZYNMLE3MV3LK</td>\n",
       "      <td>62728015bec05</td>\n",
       "      <td>1541544540</td>\n",
       "      <td>17</td>\n",
       "      <td>clickout item</td>\n",
       "      <td>2712342</td>\n",
       "      <td>PT</td>\n",
       "      <td>Paris, France</td>\n",
       "      <td>desktop</td>\n",
       "      <td>Focus on Distance</td>\n",
       "      <td>6617798|1263420|9567886|1161323|149768|1890735...</td>\n",
       "      <td>58|96|55|75|90|60|233|104|150|145|328|207|150|...</td>\n",
       "    </tr>\n",
       "    <tr>\n",
       "      <th>15932990</th>\n",
       "      <td>ZYNMLE3MV3LK</td>\n",
       "      <td>62728015bec05</td>\n",
       "      <td>1541544967</td>\n",
       "      <td>18</td>\n",
       "      <td>change of sort order</td>\n",
       "      <td>interaction sort button</td>\n",
       "      <td>PT</td>\n",
       "      <td>Paris, France</td>\n",
       "      <td>desktop</td>\n",
       "      <td>NaN</td>\n",
       "      <td>NaN</td>\n",
       "      <td>NaN</td>\n",
       "    </tr>\n",
       "    <tr>\n",
       "      <th>15932991</th>\n",
       "      <td>ZYNMLE3MV3LK</td>\n",
       "      <td>62728015bec05</td>\n",
       "      <td>1541544973</td>\n",
       "      <td>19</td>\n",
       "      <td>clickout item</td>\n",
       "      <td>1161323</td>\n",
       "      <td>PT</td>\n",
       "      <td>Paris, France</td>\n",
       "      <td>desktop</td>\n",
       "      <td>Focus on Distance</td>\n",
       "      <td>6617798|1263420|9567886|1161323|149768|1890735...</td>\n",
       "      <td>58|96|55|75|90|60|233|104|150|145|328|207|150|...</td>\n",
       "    </tr>\n",
       "  </tbody>\n",
       "</table>\n",
       "</div>"
      ],
      "text/plain": [
       "               user_id     session_id   timestamp  step  \\\n",
       "15932987  ZYNMLE3MV3LK  62728015bec05  1541544490    15   \n",
       "15932988  ZYNMLE3MV3LK  62728015bec05  1541544491    16   \n",
       "15932989  ZYNMLE3MV3LK  62728015bec05  1541544540    17   \n",
       "15932990  ZYNMLE3MV3LK  62728015bec05  1541544967    18   \n",
       "15932991  ZYNMLE3MV3LK  62728015bec05  1541544973    19   \n",
       "\n",
       "                     action_type                reference platform  \\\n",
       "15932987  interaction item image                  6617798       PT   \n",
       "15932988           clickout item                  6617798       PT   \n",
       "15932989           clickout item                  2712342       PT   \n",
       "15932990    change of sort order  interaction sort button       PT   \n",
       "15932991           clickout item                  1161323       PT   \n",
       "\n",
       "                   city   device    current_filters  \\\n",
       "15932987  Paris, France  desktop                NaN   \n",
       "15932988  Paris, France  desktop  Focus on Distance   \n",
       "15932989  Paris, France  desktop  Focus on Distance   \n",
       "15932990  Paris, France  desktop                NaN   \n",
       "15932991  Paris, France  desktop  Focus on Distance   \n",
       "\n",
       "                                                impressions  \\\n",
       "15932987                                                NaN   \n",
       "15932988  6617798|1263420|9567886|1161323|149768|1890735...   \n",
       "15932989  6617798|1263420|9567886|1161323|149768|1890735...   \n",
       "15932990                                                NaN   \n",
       "15932991  6617798|1263420|9567886|1161323|149768|1890735...   \n",
       "\n",
       "                                                     prices  \n",
       "15932987                                                NaN  \n",
       "15932988  58|96|55|75|90|60|233|104|150|145|328|207|150|...  \n",
       "15932989  58|96|55|75|90|60|233|104|150|145|328|207|150|...  \n",
       "15932990                                                NaN  \n",
       "15932991  58|96|55|75|90|60|233|104|150|145|328|207|150|...  "
      ]
     },
     "execution_count": 4,
     "metadata": {},
     "output_type": "execute_result"
    }
   ],
   "source": [
    "train.tail(5)"
   ]
  },
  {
   "cell_type": "code",
   "execution_count": 9,
   "metadata": {},
   "outputs": [
    {
     "data": {
      "text/plain": [
       "user_id            object\n",
       "session_id         object\n",
       "timestamp           int64\n",
       "step                int64\n",
       "action_type        object\n",
       "reference          object\n",
       "platform           object\n",
       "city               object\n",
       "device             object\n",
       "current_filters    object\n",
       "impressions        object\n",
       "prices             object\n",
       "dtype: object"
      ]
     },
     "execution_count": 9,
     "metadata": {},
     "output_type": "execute_result"
    }
   ],
   "source": [
    "train.dtypes"
   ]
  },
  {
   "cell_type": "code",
   "execution_count": 6,
   "metadata": {},
   "outputs": [
    {
     "data": {
      "text/plain": [
       "(12, Index(['user_id', 'session_id', 'timestamp', 'step', 'action_type',\n",
       "        'reference', 'platform', 'city', 'device', 'current_filters',\n",
       "        'impressions', 'prices'],\n",
       "       dtype='object'))"
      ]
     },
     "execution_count": 6,
     "metadata": {},
     "output_type": "execute_result"
    }
   ],
   "source": [
    "len(train.columns), train.columns, len(train)"
   ]
  },
  {
   "cell_type": "code",
   "execution_count": 35,
   "metadata": {
    "colab": {
     "base_uri": "https://localhost:8080/",
     "height": 68
    },
    "colab_type": "code",
    "executionInfo": {
     "elapsed": 5599,
     "status": "ok",
     "timestamp": 1581598394135,
     "user": {
      "displayName": "Zeyad Sabbah",
      "photoUrl": "https://lh3.googleusercontent.com/a-/AAuE7mCWyF9CghKcdnVGr84tRaYwPH0IEtaKjAE1o5R9dw=s64",
      "userId": "03977300836188616390"
     },
     "user_tz": 300
    },
    "id": "4fEpNsfgmmfO",
    "outputId": "5ae9a3f6-ee61-4c95-9c24-a4cdedbb3aea"
   },
   "outputs": [
    {
     "name": "stdout",
     "output_type": "stream",
     "text": [
      "current_filters\n",
      "impressions\n",
      "prices\n"
     ]
    }
   ],
   "source": [
    "#checking which attributes have any NaN\n",
    "for attribute in train.columns:\n",
    "  if train[attribute].isna().any():\n",
    "    print(attribute)"
   ]
  },
  {
   "cell_type": "code",
   "execution_count": 12,
   "metadata": {},
   "outputs": [
    {
     "data": {
      "text/plain": [
       "(10, array(['search for poi', 'interaction item image', 'clickout item',\n",
       "        'interaction item info', 'interaction item deals',\n",
       "        'search for destination', 'filter selection',\n",
       "        'interaction item rating', 'search for item',\n",
       "        'change of sort order'], dtype=object))"
      ]
     },
     "execution_count": 12,
     "metadata": {},
     "output_type": "execute_result"
    }
   ],
   "source": [
    "len(train.action_type.unique()), train.action_type.unique()"
   ]
  },
  {
   "cell_type": "code",
   "execution_count": 36,
   "metadata": {
    "colab": {
     "base_uri": "https://localhost:8080/",
     "height": 34
    },
    "colab_type": "code",
    "executionInfo": {
     "elapsed": 6497,
     "status": "ok",
     "timestamp": 1581598470822,
     "user": {
      "displayName": "Zeyad Sabbah",
      "photoUrl": "https://lh3.googleusercontent.com/a-/AAuE7mCWyF9CghKcdnVGr84tRaYwPH0IEtaKjAE1o5R9dw=s64",
      "userId": "03977300836188616390"
     },
     "user_tz": 300
    },
    "id": "byKXX6VWm1dq",
    "outputId": "13df8c0f-4168-448e-f6e7-bfea942a1a73"
   },
   "outputs": [
    {
     "data": {
      "text/plain": [
       "array(['clickout item'], dtype=object)"
      ]
     },
     "execution_count": 36,
     "metadata": {},
     "output_type": "execute_result"
    }
   ],
   "source": [
    "#checking what values in the attribute action_type that gives values in the above attributes\n",
    "train.dropna().action_type.unique()"
   ]
  },
  {
   "cell_type": "markdown",
   "metadata": {
    "colab_type": "text",
    "id": "6TZzG9hvlOzA"
   },
   "source": [
    "The attributes prices, current_filters, and impressions are not NaN values when the attribute action_type is a clickout item.\n",
    "The clickout item means that the user had viewed the item in the item's website."
   ]
  },
  {
   "cell_type": "code",
   "execution_count": 37,
   "metadata": {
    "colab": {
     "base_uri": "https://localhost:8080/",
     "height": 34
    },
    "colab_type": "code",
    "executionInfo": {
     "elapsed": 2569,
     "status": "ok",
     "timestamp": 1581598525631,
     "user": {
      "displayName": "Zeyad Sabbah",
      "photoUrl": "https://lh3.googleusercontent.com/a-/AAuE7mCWyF9CghKcdnVGr84tRaYwPH0IEtaKjAE1o5R9dw=s64",
      "userId": "03977300836188616390"
     },
     "user_tz": 300
    },
    "id": "1YmNPhiBsKnr",
    "outputId": "46839ae2-2d5e-4450-9e97-25bcc4078a5c",
    "scrolled": true
   },
   "outputs": [
    {
     "data": {
      "text/plain": [
       "(910683, 730803)"
      ]
     },
     "execution_count": 37,
     "metadata": {},
     "output_type": "execute_result"
    }
   ],
   "source": [
    "#checking unique numbers of session_id and user_id\n",
    "train.session_id.nunique(), train.user_id.nunique()"
   ]
  },
  {
   "cell_type": "markdown",
   "metadata": {},
   "source": [
    "## Creating validation and test sets"
   ]
  },
  {
   "cell_type": "markdown",
   "metadata": {},
   "source": [
    "Defining function to subset sets"
   ]
  },
  {
   "cell_type": "code",
   "execution_count": 44,
   "metadata": {
    "colab": {
     "base_uri": "https://localhost:8080/",
     "height": 34
    },
    "colab_type": "code",
    "executionInfo": {
     "elapsed": 1559,
     "status": "ok",
     "timestamp": 1581599930560,
     "user": {
      "displayName": "Zeyad Sabbah",
      "photoUrl": "https://lh3.googleusercontent.com/a-/AAuE7mCWyF9CghKcdnVGr84tRaYwPH0IEtaKjAE1o5R9dw=s64",
      "userId": "03977300836188616390"
     },
     "user_tz": 300
    },
    "id": "oIA78RvPoCPV",
    "outputId": "695ec91a-0702-4b78-eb30-14f512da3cde"
   },
   "outputs": [],
   "source": [
    "def CreateSubSet(dataset, ratio):\n",
    "    '''\n",
    "    Desc: creates smaller set of the main dataset\n",
    "    \n",
    "    Input: dataset: Pandas Dataframe with the dataset required to extract smaller dataframe from\n",
    "           ratio: float between 0 and 1 as a ratio of the size of the main dataset\n",
    "           \n",
    "    Output: SubsetDF: Pandas Dataframe with the subset of the main dataset\n",
    "    '''\n",
    "    NUniqueSessionsVal = round(len(dataset.session_id.unique().tolist()) * ratio)  #getting the number of unique sessions validation\n",
    "    print('Number of unique sessions in validation set', NUniqueSessionsVal, '.') #set should be having.\n",
    "\n",
    "    #unique sessions list\n",
    "    UnisuqeSessions = dataset.session_id.unique().tolist()\n",
    "\n",
    "    #set seed\n",
    "    random.seed(1)\n",
    "\n",
    "    #randomly selecting sessions_id from train\n",
    "    SubsetID = list(set(random.choices(dataset.session_id.unique().tolist(), k=NUniqueSessionsVal)))\n",
    "\n",
    "    #creating dataframe for validation\n",
    "    SubsetDF = dataset[dataset.session_id.isin(SubsetID)]\n",
    "    \n",
    "    #dropping Subset from main dataset\n",
    "    main = dataset.drop(index=SubsetDF.index)\n",
    "    \n",
    "    return SubsetDF, main"
   ]
  },
  {
   "cell_type": "markdown",
   "metadata": {
    "colab_type": "text",
    "id": "si9ZMN_rnmfz"
   },
   "source": [
    "##Validation set"
   ]
  },
  {
   "cell_type": "markdown",
   "metadata": {
    "colab_type": "text",
    "id": "rabsSYxvn7Jk"
   },
   "source": [
    "Creating a validation set."
   ]
  },
  {
   "cell_type": "code",
   "execution_count": 45,
   "metadata": {},
   "outputs": [
    {
     "name": "stdout",
     "output_type": "stream",
     "text": [
      "Number of unique sessions in validation set 182137 .\n"
     ]
    },
    {
     "data": {
      "text/html": [
       "<div>\n",
       "<style scoped>\n",
       "    .dataframe tbody tr th:only-of-type {\n",
       "        vertical-align: middle;\n",
       "    }\n",
       "\n",
       "    .dataframe tbody tr th {\n",
       "        vertical-align: top;\n",
       "    }\n",
       "\n",
       "    .dataframe thead th {\n",
       "        text-align: right;\n",
       "    }\n",
       "</style>\n",
       "<table border=\"1\" class=\"dataframe\">\n",
       "  <thead>\n",
       "    <tr style=\"text-align: right;\">\n",
       "      <th></th>\n",
       "      <th>user_id</th>\n",
       "      <th>session_id</th>\n",
       "      <th>timestamp</th>\n",
       "      <th>step</th>\n",
       "      <th>action_type</th>\n",
       "      <th>reference</th>\n",
       "      <th>platform</th>\n",
       "      <th>city</th>\n",
       "      <th>device</th>\n",
       "      <th>current_filters</th>\n",
       "      <th>impressions</th>\n",
       "      <th>prices</th>\n",
       "    </tr>\n",
       "  </thead>\n",
       "  <tbody>\n",
       "    <tr>\n",
       "      <th>278</th>\n",
       "      <td>0L2TX0JNYVQ6</td>\n",
       "      <td>06e7c29170946</td>\n",
       "      <td>1541041830</td>\n",
       "      <td>1</td>\n",
       "      <td>search for poi</td>\n",
       "      <td>Seoul Station</td>\n",
       "      <td>HK</td>\n",
       "      <td>Seoul, South Korea</td>\n",
       "      <td>desktop</td>\n",
       "      <td>NaN</td>\n",
       "      <td>NaN</td>\n",
       "      <td>NaN</td>\n",
       "    </tr>\n",
       "    <tr>\n",
       "      <th>279</th>\n",
       "      <td>0L2TX0JNYVQ6</td>\n",
       "      <td>06e7c29170946</td>\n",
       "      <td>1541041870</td>\n",
       "      <td>2</td>\n",
       "      <td>clickout item</td>\n",
       "      <td>10091602</td>\n",
       "      <td>HK</td>\n",
       "      <td>Seoul, South Korea</td>\n",
       "      <td>desktop</td>\n",
       "      <td>NaN</td>\n",
       "      <td>2802232|2733571|5477718|155374|155465|3549258|...</td>\n",
       "      <td>124|176|99|220|191|127|85|54|83|268|78|144|96|...</td>\n",
       "    </tr>\n",
       "    <tr>\n",
       "      <th>280</th>\n",
       "      <td>0L2TX0JNYVQ6</td>\n",
       "      <td>06e7c29170946</td>\n",
       "      <td>1541041882</td>\n",
       "      <td>3</td>\n",
       "      <td>interaction item deals</td>\n",
       "      <td>10091602</td>\n",
       "      <td>HK</td>\n",
       "      <td>Seoul, South Korea</td>\n",
       "      <td>desktop</td>\n",
       "      <td>NaN</td>\n",
       "      <td>NaN</td>\n",
       "      <td>NaN</td>\n",
       "    </tr>\n",
       "    <tr>\n",
       "      <th>281</th>\n",
       "      <td>0L2TX0JNYVQ6</td>\n",
       "      <td>06e7c29170946</td>\n",
       "      <td>1541044143</td>\n",
       "      <td>4</td>\n",
       "      <td>search for poi</td>\n",
       "      <td>Myeongdong</td>\n",
       "      <td>HK</td>\n",
       "      <td>Seoul, South Korea</td>\n",
       "      <td>desktop</td>\n",
       "      <td>NaN</td>\n",
       "      <td>NaN</td>\n",
       "      <td>NaN</td>\n",
       "    </tr>\n",
       "    <tr>\n",
       "      <th>282</th>\n",
       "      <td>0L2TX0JNYVQ6</td>\n",
       "      <td>06e7c29170946</td>\n",
       "      <td>1541044151</td>\n",
       "      <td>5</td>\n",
       "      <td>clickout item</td>\n",
       "      <td>10091602</td>\n",
       "      <td>HK</td>\n",
       "      <td>Seoul, South Korea</td>\n",
       "      <td>desktop</td>\n",
       "      <td>NaN</td>\n",
       "      <td>3549258|155465|155374|363046|3954788|4773608|3...</td>\n",
       "      <td>135|189|219|78|74|135|95|85|176|99|108|83|87|3...</td>\n",
       "    </tr>\n",
       "  </tbody>\n",
       "</table>\n",
       "</div>"
      ],
      "text/plain": [
       "          user_id     session_id   timestamp  step             action_type  \\\n",
       "278  0L2TX0JNYVQ6  06e7c29170946  1541041830     1          search for poi   \n",
       "279  0L2TX0JNYVQ6  06e7c29170946  1541041870     2           clickout item   \n",
       "280  0L2TX0JNYVQ6  06e7c29170946  1541041882     3  interaction item deals   \n",
       "281  0L2TX0JNYVQ6  06e7c29170946  1541044143     4          search for poi   \n",
       "282  0L2TX0JNYVQ6  06e7c29170946  1541044151     5           clickout item   \n",
       "\n",
       "         reference platform                city   device current_filters  \\\n",
       "278  Seoul Station       HK  Seoul, South Korea  desktop             NaN   \n",
       "279       10091602       HK  Seoul, South Korea  desktop             NaN   \n",
       "280       10091602       HK  Seoul, South Korea  desktop             NaN   \n",
       "281     Myeongdong       HK  Seoul, South Korea  desktop             NaN   \n",
       "282       10091602       HK  Seoul, South Korea  desktop             NaN   \n",
       "\n",
       "                                           impressions  \\\n",
       "278                                                NaN   \n",
       "279  2802232|2733571|5477718|155374|155465|3549258|...   \n",
       "280                                                NaN   \n",
       "281                                                NaN   \n",
       "282  3549258|155465|155374|363046|3954788|4773608|3...   \n",
       "\n",
       "                                                prices  \n",
       "278                                                NaN  \n",
       "279  124|176|99|220|191|127|85|54|83|268|78|144|96|...  \n",
       "280                                                NaN  \n",
       "281                                                NaN  \n",
       "282  135|189|219|78|74|135|95|85|176|99|108|83|87|3...  "
      ]
     },
     "execution_count": 45,
     "metadata": {},
     "output_type": "execute_result"
    }
   ],
   "source": [
    "val, train = CreateSubSet(train, 0.2)\n",
    "val.head()"
   ]
  },
  {
   "cell_type": "markdown",
   "metadata": {},
   "source": [
    "##Test set"
   ]
  },
  {
   "cell_type": "markdown",
   "metadata": {},
   "source": [
    "Creating a new test set"
   ]
  },
  {
   "cell_type": "code",
   "execution_count": 46,
   "metadata": {
    "scrolled": true
   },
   "outputs": [
    {
     "name": "stdout",
     "output_type": "stream",
     "text": [
      "Number of unique sessions in validation set 149151 .\n"
     ]
    },
    {
     "data": {
      "text/html": [
       "<div>\n",
       "<style scoped>\n",
       "    .dataframe tbody tr th:only-of-type {\n",
       "        vertical-align: middle;\n",
       "    }\n",
       "\n",
       "    .dataframe tbody tr th {\n",
       "        vertical-align: top;\n",
       "    }\n",
       "\n",
       "    .dataframe thead th {\n",
       "        text-align: right;\n",
       "    }\n",
       "</style>\n",
       "<table border=\"1\" class=\"dataframe\">\n",
       "  <thead>\n",
       "    <tr style=\"text-align: right;\">\n",
       "      <th></th>\n",
       "      <th>user_id</th>\n",
       "      <th>session_id</th>\n",
       "      <th>timestamp</th>\n",
       "      <th>step</th>\n",
       "      <th>action_type</th>\n",
       "      <th>reference</th>\n",
       "      <th>platform</th>\n",
       "      <th>city</th>\n",
       "      <th>device</th>\n",
       "      <th>current_filters</th>\n",
       "      <th>impressions</th>\n",
       "      <th>prices</th>\n",
       "    </tr>\n",
       "  </thead>\n",
       "  <tbody>\n",
       "    <tr>\n",
       "      <th>239</th>\n",
       "      <td>0IVOT7X0FJWE</td>\n",
       "      <td>554392be66854</td>\n",
       "      <td>1541044445</td>\n",
       "      <td>1</td>\n",
       "      <td>interaction item rating</td>\n",
       "      <td>9167996</td>\n",
       "      <td>BR</td>\n",
       "      <td>Parnaíba, Brazil</td>\n",
       "      <td>mobile</td>\n",
       "      <td>NaN</td>\n",
       "      <td>NaN</td>\n",
       "      <td>NaN</td>\n",
       "    </tr>\n",
       "    <tr>\n",
       "      <th>240</th>\n",
       "      <td>0IVOT7X0FJWE</td>\n",
       "      <td>554392be66854</td>\n",
       "      <td>1541044448</td>\n",
       "      <td>2</td>\n",
       "      <td>clickout item</td>\n",
       "      <td>9167996</td>\n",
       "      <td>BR</td>\n",
       "      <td>Parnaíba, Brazil</td>\n",
       "      <td>mobile</td>\n",
       "      <td>NaN</td>\n",
       "      <td>2035675|4095738|4933410|9167996</td>\n",
       "      <td>225|23|58|53</td>\n",
       "    </tr>\n",
       "    <tr>\n",
       "      <th>241</th>\n",
       "      <td>0IVOT7X0FJWE</td>\n",
       "      <td>554392be66854</td>\n",
       "      <td>1541044519</td>\n",
       "      <td>3</td>\n",
       "      <td>interaction item image</td>\n",
       "      <td>9167996</td>\n",
       "      <td>BR</td>\n",
       "      <td>Parnaíba, Brazil</td>\n",
       "      <td>mobile</td>\n",
       "      <td>NaN</td>\n",
       "      <td>NaN</td>\n",
       "      <td>NaN</td>\n",
       "    </tr>\n",
       "    <tr>\n",
       "      <th>242</th>\n",
       "      <td>0IVOT7X0FJWE</td>\n",
       "      <td>554392be66854</td>\n",
       "      <td>1541044519</td>\n",
       "      <td>4</td>\n",
       "      <td>interaction item image</td>\n",
       "      <td>9167996</td>\n",
       "      <td>BR</td>\n",
       "      <td>Parnaíba, Brazil</td>\n",
       "      <td>mobile</td>\n",
       "      <td>NaN</td>\n",
       "      <td>NaN</td>\n",
       "      <td>NaN</td>\n",
       "    </tr>\n",
       "    <tr>\n",
       "      <th>243</th>\n",
       "      <td>0IVOT7X0FJWE</td>\n",
       "      <td>554392be66854</td>\n",
       "      <td>1541044529</td>\n",
       "      <td>5</td>\n",
       "      <td>interaction item image</td>\n",
       "      <td>9167996</td>\n",
       "      <td>BR</td>\n",
       "      <td>Parnaíba, Brazil</td>\n",
       "      <td>mobile</td>\n",
       "      <td>NaN</td>\n",
       "      <td>NaN</td>\n",
       "      <td>NaN</td>\n",
       "    </tr>\n",
       "  </tbody>\n",
       "</table>\n",
       "</div>"
      ],
      "text/plain": [
       "          user_id     session_id   timestamp  step              action_type  \\\n",
       "239  0IVOT7X0FJWE  554392be66854  1541044445     1  interaction item rating   \n",
       "240  0IVOT7X0FJWE  554392be66854  1541044448     2            clickout item   \n",
       "241  0IVOT7X0FJWE  554392be66854  1541044519     3   interaction item image   \n",
       "242  0IVOT7X0FJWE  554392be66854  1541044519     4   interaction item image   \n",
       "243  0IVOT7X0FJWE  554392be66854  1541044529     5   interaction item image   \n",
       "\n",
       "    reference platform              city  device current_filters  \\\n",
       "239   9167996       BR  Parnaíba, Brazil  mobile             NaN   \n",
       "240   9167996       BR  Parnaíba, Brazil  mobile             NaN   \n",
       "241   9167996       BR  Parnaíba, Brazil  mobile             NaN   \n",
       "242   9167996       BR  Parnaíba, Brazil  mobile             NaN   \n",
       "243   9167996       BR  Parnaíba, Brazil  mobile             NaN   \n",
       "\n",
       "                         impressions        prices  \n",
       "239                              NaN           NaN  \n",
       "240  2035675|4095738|4933410|9167996  225|23|58|53  \n",
       "241                              NaN           NaN  \n",
       "242                              NaN           NaN  \n",
       "243                              NaN           NaN  "
      ]
     },
     "execution_count": 46,
     "metadata": {},
     "output_type": "execute_result"
    }
   ],
   "source": [
    "test, train = CreateSubSet(train, 0.2)\n",
    "test.head()"
   ]
  },
  {
   "cell_type": "markdown",
   "metadata": {
    "colab_type": "text",
    "id": "TwBrgLXCp9hr"
   },
   "source": [
    "##Train Data Exploration"
   ]
  },
  {
   "cell_type": "markdown",
   "metadata": {},
   "source": [
    "Clear Cache memory a bit and load only train data"
   ]
  },
  {
   "cell_type": "code",
   "execution_count": 49,
   "metadata": {
    "scrolled": true
   },
   "outputs": [
    {
     "name": "stdout",
     "output_type": "stream",
     "text": [
      "Once deleted, variables cannot be recovered. Proceed (y/[n])? n\n",
      "Nothing done.\n"
     ]
    }
   ],
   "source": [
    "%reset"
   ]
  },
  {
   "cell_type": "markdown",
   "metadata": {
    "colab_type": "text",
    "id": "WOOVORMu0tPn"
   },
   "source": [
    "###Columns"
   ]
  },
  {
   "cell_type": "code",
   "execution_count": 68,
   "metadata": {
    "colab": {
     "base_uri": "https://localhost:8080/",
     "height": 85
    },
    "colab_type": "code",
    "executionInfo": {
     "elapsed": 1353,
     "status": "ok",
     "timestamp": 1581618769076,
     "user": {
      "displayName": "Zeyad Sabbah",
      "photoUrl": "https://lh3.googleusercontent.com/a-/AAuE7mCWyF9CghKcdnVGr84tRaYwPH0IEtaKjAE1o5R9dw=s64",
      "userId": "03977300836188616390"
     },
     "user_tz": 300
    },
    "id": "3YDtwfvo0xEt",
    "outputId": "3824de78-49e4-4bd3-d4d1-6d59324041bf"
   },
   "outputs": [
    {
     "data": {
      "text/plain": [
       "Index(['user_id', 'session_id', 'timestamp', 'step', 'action_type',\n",
       "       'reference', 'platform', 'city', 'device', 'current_filters',\n",
       "       'impressions', 'prices'],\n",
       "      dtype='object')"
      ]
     },
     "execution_count": 68,
     "metadata": {},
     "output_type": "execute_result"
    }
   ],
   "source": [
    "train.columns"
   ]
  },
  {
   "cell_type": "code",
   "execution_count": 69,
   "metadata": {
    "colab": {
     "base_uri": "https://localhost:8080/",
     "height": 51
    },
    "colab_type": "code",
    "executionInfo": {
     "elapsed": 1778,
     "status": "ok",
     "timestamp": 1581601991295,
     "user": {
      "displayName": "Zeyad Sabbah",
      "photoUrl": "https://lh3.googleusercontent.com/a-/AAuE7mCWyF9CghKcdnVGr84tRaYwPH0IEtaKjAE1o5R9dw=s64",
      "userId": "03977300836188616390"
     },
     "user_tz": 300
    },
    "id": "8sOdv_v1p5tf",
    "outputId": "229c0aff-ce01-4277-f7d7-f62f138d72c9"
   },
   "outputs": [
    {
     "name": "stdout",
     "output_type": "stream",
     "text": [
      "number of unique users : 617354\n",
      "number of unique sessions : 745755\n"
     ]
    }
   ],
   "source": [
    "#Numbers\n",
    "print('number of unique users :', train.user_id.nunique())\n",
    "print('number of unique sessions :', train.session_id.nunique())"
   ]
  },
  {
   "cell_type": "markdown",
   "metadata": {
    "colab_type": "text",
    "id": "mSHxYCbP002c"
   },
   "source": [
    "Previous preferences can be detirmined from older sessions."
   ]
  },
  {
   "cell_type": "markdown",
   "metadata": {
    "colab_type": "text",
    "id": "qv4_teUg6fx2"
   },
   "source": [
    "###Steps per Session"
   ]
  },
  {
   "cell_type": "markdown",
   "metadata": {
    "colab_type": "text",
    "id": "7DUZbkhOsksv"
   },
   "source": [
    "The attribute step tracks down the interactions made by the user."
   ]
  },
  {
   "cell_type": "code",
   "execution_count": 74,
   "metadata": {
    "colab": {
     "base_uri": "https://localhost:8080/",
     "height": 649
    },
    "colab_type": "code",
    "executionInfo": {
     "elapsed": 3081,
     "status": "ok",
     "timestamp": 1581602209744,
     "user": {
      "displayName": "Zeyad Sabbah",
      "photoUrl": "https://lh3.googleusercontent.com/a-/AAuE7mCWyF9CghKcdnVGr84tRaYwPH0IEtaKjAE1o5R9dw=s64",
      "userId": "03977300836188616390"
     },
     "user_tz": 300
    },
    "id": "HziiVNFOswa9",
    "outputId": "f4221d3b-f7ac-4f9d-edae-64190a68e07f"
   },
   "outputs": [
    {
     "data": {
      "text/plain": [
       "{'boxes': [<matplotlib.lines.Line2D at 0x7f87ba41da90>],\n",
       " 'caps': [<matplotlib.lines.Line2D at 0x7f87ba371668>,\n",
       "  <matplotlib.lines.Line2D at 0x7f87ba3719b0>],\n",
       " 'fliers': [<matplotlib.lines.Line2D at 0x7f87ba2fb080>],\n",
       " 'means': [],\n",
       " 'medians': [<matplotlib.lines.Line2D at 0x7f87ba371cf8>],\n",
       " 'whiskers': [<matplotlib.lines.Line2D at 0x7f87ba361f98>,\n",
       "  <matplotlib.lines.Line2D at 0x7f87ba371320>]}"
      ]
     },
     "execution_count": 74,
     "metadata": {
      "tags": []
     },
     "output_type": "execute_result"
    },
    {
     "data": {
      "image/png": "[encoded data removed]",
      "text/plain": [
       "<Figure size 720x576 with 1 Axes>"
      ]
     },
     "metadata": {
      "tags": []
     },
     "output_type": "display_data"
    }
   ],
   "source": [
    "plt.figure(figsize=(10,8))\n",
    "plt.title('Steps Per Session')\n",
    "plt.xlabel('Session')\n",
    "plt.ylabel('Number of Steps')\n",
    "plt.boxplot(train.groupby('session_id').step.max().values)"
   ]
  },
  {
   "cell_type": "code",
   "execution_count": 5,
   "metadata": {
    "colab": {
     "base_uri": "https://localhost:8080/",
     "height": 625
    },
    "colab_type": "code",
    "executionInfo": {
     "elapsed": 3656,
     "status": "ok",
     "timestamp": 1581612567324,
     "user": {
      "displayName": "Zeyad Sabbah",
      "photoUrl": "https://lh3.googleusercontent.com/a-/AAuE7mCWyF9CghKcdnVGr84tRaYwPH0IEtaKjAE1o5R9dw=s64",
      "userId": "03977300836188616390"
     },
     "user_tz": 300
    },
    "id": "fZRVTFcc1o7D",
    "outputId": "cb7f4a38-1351-4a98-b23b-d69a1015a6b5"
   },
   "outputs": [
    {
     "data": {
      "text/plain": [
       "(array([7.43264e+05, 2.08300e+03, 2.99000e+02, 7.50000e+01, 1.60000e+01,\n",
       "        7.00000e+00, 5.00000e+00, 5.00000e+00, 0.00000e+00, 1.00000e+00]),\n",
       " array([1.0000e+00, 3.5310e+02, 7.0520e+02, 1.0573e+03, 1.4094e+03,\n",
       "        1.7615e+03, 2.1136e+03, 2.4657e+03, 2.8178e+03, 3.1699e+03,\n",
       "        3.5220e+03]),\n",
       " <a list of 10 Patch objects>)"
      ]
     },
     "execution_count": 5,
     "metadata": {
      "tags": []
     },
     "output_type": "execute_result"
    },
    {
     "data": {
      "image/png": "[encoded data removed]",
      "text/plain": [
       "<Figure size 720x576 with 1 Axes>"
      ]
     },
     "metadata": {
      "tags": []
     },
     "output_type": "display_data"
    }
   ],
   "source": [
    "#In other words\n",
    "plt.figure(figsize=(10,8))\n",
    "plt.title('Frequency for Steps', fontsize=20)\n",
    "plt.xlabel('Steps', fontsize=15)\n",
    "plt.ylabel('Frequency', fontsize=15)\n",
    "plt.hist(train.groupby('session_id').step.max().values, bins=10)"
   ]
  },
  {
   "cell_type": "markdown",
   "metadata": {
    "colab_type": "text",
    "id": "Ce7KnEZG2FBe"
   },
   "source": [
    "Sessions that are high in steps are computational overhead and don't have valuable information.\n",
    "One of the outliers has around 3500 steps in just one session.\n",
    "\n",
    "A preprocessing function of removing sessions with high number of steps is needed."
   ]
  },
  {
   "cell_type": "code",
   "execution_count": 77,
   "metadata": {
    "colab": {
     "base_uri": "https://localhost:8080/",
     "height": 80
    },
    "colab_type": "code",
    "executionInfo": {
     "elapsed": 437,
     "status": "ok",
     "timestamp": 1581602401291,
     "user": {
      "displayName": "Zeyad Sabbah",
      "photoUrl": "https://lh3.googleusercontent.com/a-/AAuE7mCWyF9CghKcdnVGr84tRaYwPH0IEtaKjAE1o5R9dw=s64",
      "userId": "03977300836188616390"
     },
     "user_tz": 300
    },
    "id": "zuyYI_hztxaO",
    "outputId": "c8e4f221-ee09-4b7c-c823-80473a18f465"
   },
   "outputs": [
    {
     "data": {
      "text/html": [
       "<div>\n",
       "<style scoped>\n",
       "    .dataframe tbody tr th:only-of-type {\n",
       "        vertical-align: middle;\n",
       "    }\n",
       "\n",
       "    .dataframe tbody tr th {\n",
       "        vertical-align: top;\n",
       "    }\n",
       "\n",
       "    .dataframe thead th {\n",
       "        text-align: right;\n",
       "    }\n",
       "</style>\n",
       "<table border=\"1\" class=\"dataframe\">\n",
       "  <thead>\n",
       "    <tr style=\"text-align: right;\">\n",
       "      <th></th>\n",
       "      <th>user_id</th>\n",
       "      <th>session_id</th>\n",
       "      <th>timestamp</th>\n",
       "      <th>step</th>\n",
       "      <th>action_type</th>\n",
       "      <th>reference</th>\n",
       "      <th>platform</th>\n",
       "      <th>city</th>\n",
       "      <th>device</th>\n",
       "      <th>current_filters</th>\n",
       "      <th>impressions</th>\n",
       "      <th>prices</th>\n",
       "    </tr>\n",
       "  </thead>\n",
       "  <tbody>\n",
       "    <tr>\n",
       "      <th>9447211</th>\n",
       "      <td>6JWWFFNUMY6Y</td>\n",
       "      <td>3167404ed3197</td>\n",
       "      <td>1541368776</td>\n",
       "      <td>3522</td>\n",
       "      <td>interaction item rating</td>\n",
       "      <td>36455</td>\n",
       "      <td>TR</td>\n",
       "      <td>Ankara, Turkey</td>\n",
       "      <td>mobile</td>\n",
       "      <td>NaN</td>\n",
       "      <td>NaN</td>\n",
       "      <td>NaN</td>\n",
       "    </tr>\n",
       "  </tbody>\n",
       "</table>\n",
       "</div>"
      ],
      "text/plain": [
       "              user_id     session_id  ...  impressions  prices\n",
       "9447211  6JWWFFNUMY6Y  3167404ed3197  ...          NaN     NaN\n",
       "\n",
       "[1 rows x 12 columns]"
      ]
     },
     "execution_count": 77,
     "metadata": {
      "tags": []
     },
     "output_type": "execute_result"
    }
   ],
   "source": [
    "#investigating this type of sessions\n",
    "train[train.step > 3000].tail(1)"
   ]
  },
  {
   "cell_type": "code",
   "execution_count": 78,
   "metadata": {
    "colab": {
     "base_uri": "https://localhost:8080/",
     "height": 151
    },
    "colab_type": "code",
    "executionInfo": {
     "elapsed": 3386,
     "status": "ok",
     "timestamp": 1581602424262,
     "user": {
      "displayName": "Zeyad Sabbah",
      "photoUrl": "https://lh3.googleusercontent.com/a-/AAuE7mCWyF9CghKcdnVGr84tRaYwPH0IEtaKjAE1o5R9dw=s64",
      "userId": "03977300836188616390"
     },
     "user_tz": 300
    },
    "id": "Gs-0aS-XuH2S",
    "outputId": "58986dc1-ab6a-4977-fe90-bbe7244cddad"
   },
   "outputs": [
    {
     "name": "stderr",
     "output_type": "stream",
     "text": [
      "/usr/local/lib/python3.6/dist-packages/ipykernel_launcher.py:1: UserWarning: Boolean Series key will be reindexed to match DataFrame index.\n",
      "  \"\"\"Entry point for launching an IPython kernel.\n"
     ]
    },
    {
     "data": {
      "text/html": [
       "<div>\n",
       "<style scoped>\n",
       "    .dataframe tbody tr th:only-of-type {\n",
       "        vertical-align: middle;\n",
       "    }\n",
       "\n",
       "    .dataframe tbody tr th {\n",
       "        vertical-align: top;\n",
       "    }\n",
       "\n",
       "    .dataframe thead th {\n",
       "        text-align: right;\n",
       "    }\n",
       "</style>\n",
       "<table border=\"1\" class=\"dataframe\">\n",
       "  <thead>\n",
       "    <tr style=\"text-align: right;\">\n",
       "      <th></th>\n",
       "      <th>user_id</th>\n",
       "      <th>session_id</th>\n",
       "      <th>timestamp</th>\n",
       "      <th>step</th>\n",
       "      <th>action_type</th>\n",
       "      <th>reference</th>\n",
       "      <th>platform</th>\n",
       "      <th>city</th>\n",
       "      <th>device</th>\n",
       "      <th>current_filters</th>\n",
       "      <th>impressions</th>\n",
       "      <th>prices</th>\n",
       "    </tr>\n",
       "  </thead>\n",
       "  <tbody>\n",
       "    <tr>\n",
       "      <th>9444357</th>\n",
       "      <td>6JWWFFNUMY6Y</td>\n",
       "      <td>3167404ed3197</td>\n",
       "      <td>1541367828</td>\n",
       "      <td>668</td>\n",
       "      <td>clickout item</td>\n",
       "      <td>1819737</td>\n",
       "      <td>TR</td>\n",
       "      <td>Ankara, Turkey</td>\n",
       "      <td>mobile</td>\n",
       "      <td>Breakfast Included</td>\n",
       "      <td>933451|6365508|6533954|107368|36455|151827|364...</td>\n",
       "      <td>33|32|40|17|26|23|33|36|42|42|26|43|22|29|38|4...</td>\n",
       "    </tr>\n",
       "  </tbody>\n",
       "</table>\n",
       "</div>"
      ],
      "text/plain": [
       "              user_id  ...                                             prices\n",
       "9444357  6JWWFFNUMY6Y  ...  33|32|40|17|26|23|33|36|42|42|26|43|22|29|38|4...\n",
       "\n",
       "[1 rows x 12 columns]"
      ]
     },
     "execution_count": 78,
     "metadata": {
      "tags": []
     },
     "output_type": "execute_result"
    }
   ],
   "source": [
    "train[train.session_id == '3167404ed3197'][train.action_type == 'clickout item']"
   ]
  },
  {
   "cell_type": "markdown",
   "metadata": {
    "colab_type": "text",
    "id": "oizpGAHd28wP"
   },
   "source": [
    "###Number of Clickouts/Session"
   ]
  },
  {
   "cell_type": "code",
   "execution_count": 73,
   "metadata": {
    "colab": {
     "base_uri": "https://localhost:8080/",
     "height": 581
    },
    "colab_type": "code",
    "executionInfo": {
     "elapsed": 1460,
     "status": "ok",
     "timestamp": 1581612604955,
     "user": {
      "displayName": "Zeyad Sabbah",
      "photoUrl": "https://lh3.googleusercontent.com/a-/AAuE7mCWyF9CghKcdnVGr84tRaYwPH0IEtaKjAE1o5R9dw=s64",
      "userId": "03977300836188616390"
     },
     "user_tz": 300
    },
    "id": "Z2XQXLiR33r6",
    "outputId": "ec42fbd7-47b4-4c2f-9aa6-c066f907573b"
   },
   "outputs": [
    {
     "data": {
      "text/plain": [
       "(array([412391., 135390.,  56690.,  28670.,      0.,  15221.,   9240.,\n",
       "          5669.,   3918.,   2413.]),\n",
       " array([1. , 1.8, 2.6, 3.4, 4.2, 5. , 5.8, 6.6, 7.4, 8.2, 9. ]),\n",
       " <a list of 10 Patch objects>)"
      ]
     },
     "execution_count": 73,
     "metadata": {},
     "output_type": "execute_result"
    },
    {
     "data": {
      "image/png": "[encoded data removed]",
      "text/plain": [
       "<Figure size 720x576 with 1 Axes>"
      ]
     },
     "metadata": {
      "needs_background": "light"
     },
     "output_type": "display_data"
    }
   ],
   "source": [
    "NClickoutSession = train[train.action_type=='clickout item'].groupby('session_id', sort=False).action_type.count()\n",
    "\n",
    "#creating a dataframe of session_id and NumberOfClickouts\n",
    "NClickoutSessionDF = NClickoutSession.to_frame()\n",
    "NClickoutSessionDF.reset_index(level=0, inplace=True)\n",
    "NClickoutSessionDF = NClickoutSessionDF.rename(columns={'action_type':'NumberOfClickouts'})\n",
    "\n",
    "#removing sessions with more than 9 clickouts to have number of clickouts histogram\n",
    "plt.figure(figsize=(10, 8))\n",
    "plt.title('Clickouts Frequency')\n",
    "plt.xlabel('Number of Clickouts')\n",
    "plt.ylabel('Frequency')\n",
    "plt.hist(NClickoutSessionDF[NClickoutSessionDF.NumberOfClickouts<10].NumberOfClickouts)"
   ]
  },
  {
   "cell_type": "markdown",
   "metadata": {
    "colab_type": "text",
    "id": "VjW1dJBs7zz-"
   },
   "source": [
    "Sessions with just one clickout is the majority."
   ]
  },
  {
   "cell_type": "markdown",
   "metadata": {},
   "source": [
    "define a function that removes word values from the reference attribute for further need in EDA and Feature Engineering."
   ]
  },
  {
   "cell_type": "code",
   "execution_count": 84,
   "metadata": {},
   "outputs": [],
   "source": [
    "# remove na ***\n",
    "def RemoveNonItemValues(dataset):\n",
    "    dataset.reference = dataset.reference.apply(lambda x: pd.to_numeric(x, errors='coerce')).\\\n",
    "    dropna().astype(int).apply(lambda x: str(x))\n",
    "    return"
   ]
  },
  {
   "cell_type": "code",
   "execution_count": 0,
   "metadata": {
    "colab": {},
    "colab_type": "code",
    "id": "Rc5TI9_r8JaH"
   },
   "outputs": [],
   "source": [
    "#removing reference values that are not items\n",
    "ItemsOneClickout = OneClickoutDF.reference.apply(lambda x: pd.to_numeric(x, errors='coerce')).dropna().astype(int).apply(lambda x: str(x))"
   ]
  },
  {
   "cell_type": "code",
   "execution_count": 12,
   "metadata": {
    "colab": {
     "base_uri": "https://localhost:8080/",
     "height": 221
    },
    "colab_type": "code",
    "executionInfo": {
     "elapsed": 87864,
     "status": "ok",
     "timestamp": 1581612714584,
     "user": {
      "displayName": "Zeyad Sabbah",
      "photoUrl": "https://lh3.googleusercontent.com/a-/AAuE7mCWyF9CghKcdnVGr84tRaYwPH0IEtaKjAE1o5R9dw=s64",
      "userId": "03977300836188616390"
     },
     "user_tz": 300
    },
    "id": "MWfp601SE90C",
    "outputId": "5f9bf64d-3477-441c-da6f-b042f136e80d"
   },
   "outputs": [
    {
     "data": {
      "text/plain": [
       "81          2795374\n",
       "82          2795374\n",
       "83          2795374\n",
       "84          2795374\n",
       "85          2795374\n",
       "             ...   \n",
       "13019529    3811156\n",
       "13019530    3811156\n",
       "13019532     149585\n",
       "13019533     149585\n",
       "13019534    8985292\n",
       "Name: reference, Length: 4209981, dtype: object"
      ]
     },
     "execution_count": 12,
     "metadata": {
      "tags": []
     },
     "output_type": "execute_result"
    }
   ],
   "source": [
    "OneClickoutDF.reference.apply(lambda x: pd.to_numeric(x, errors='coerce')).dropna().astype(int).apply(lambda x: str(x))"
   ]
  },
  {
   "cell_type": "markdown",
   "metadata": {
    "colab_type": "text",
    "id": "huwFU342GUpx"
   },
   "source": [
    "###Ranks & Prices"
   ]
  },
  {
   "cell_type": "markdown",
   "metadata": {
    "colab_type": "text",
    "id": "uBCzjzV1GneK"
   },
   "source": [
    "A function that converts impressions into a list of items, and prices into a list of integers that represent prices of these items.\n",
    "\n",
    "The list of items is in order of the ranks given by Trivago, and the same applies to the prices."
   ]
  },
  {
   "cell_type": "code",
   "execution_count": 0,
   "metadata": {
    "colab": {},
    "colab_type": "code",
    "id": "T57od_V6GbN3"
   },
   "outputs": [],
   "source": [
    "def impression_price(session_id):               #the isssue with this function is that ignores the first clickouts(there are valuable infromation that can be extracted)\n",
    "  try:                                          #some of the functions don't apply on the some sessions\n",
    "    impression = train[train.session_id == session_id][train.action_type == 'clickout item'].tail(1).impressions.values[0].split('|')\n",
    "    price = train[train.session_id == session_id][train.action_type == 'clickout item'].tail(1).prices.values[0].split('|')\n",
    "    price = list(map(int, price))               #converting list of strings into integers\n",
    "    clickout_item = train[train.session_id == session_id][train.action_type == 'clickout item'].tail(1).reference.values[0]\n",
    "    all_interacted_with_items = train[train.session_id == session_id].reference.unique().tolist()\n",
    "    \n",
    "    for i in range(len(impression)):            #getting the clickout item\n",
    "      if clickout_item == impression[i]:\n",
    "        rank = i\n",
    "    \n",
    "    interacted_with_items = []\n",
    "    interacted_with_items_prices = []\n",
    "    for item in all_interacted_with_items:      #getting interacted with items\n",
    "      for i in range(len(impression)):\n",
    "        if item == impression[i]:\n",
    "          interacted_with_items.append(item)\n",
    "          interacted_with_items_prices.append(price[i])\n",
    "                                                #plotting the output\n",
    "    plt.figure(figsize=(10,8))\n",
    "    plt.title('Impressions and Prices', fontsize=30)\n",
    "    plt.xlabel('Impressions', fontsize=20)\n",
    "    plt.ylabel('Price', fontsize=20)\n",
    "    plt.xticks(rotation=90)                     #Interacted with items are in red points\n",
    "    plt.plot(impression, price, 'o')            #Final clickout item is in black\n",
    "    plt.plot(interacted_with_items, interacted_with_items_prices, 'o', color='red')\n",
    "    plt.plot(clickout_item, price[rank] , 'o', color='black')\n",
    "  except:\n",
    "    pass  "
   ]
  },
  {
   "cell_type": "code",
   "execution_count": 146,
   "metadata": {
    "colab": {
     "base_uri": "https://localhost:8080/",
     "height": 1000
    },
    "colab_type": "code",
    "executionInfo": {
     "elapsed": 39994,
     "status": "ok",
     "timestamp": 1581607646626,
     "user": {
      "displayName": "Zeyad Sabbah",
      "photoUrl": "https://lh3.googleusercontent.com/a-/AAuE7mCWyF9CghKcdnVGr84tRaYwPH0IEtaKjAE1o5R9dw=s64",
      "userId": "03977300836188616390"
     },
     "user_tz": 300
    },
    "id": "pl-koXp-Hkit",
    "outputId": "319fb55e-80d0-4d0e-d91d-658e61185d88"
   },
   "outputs": [
    {
     "name": "stderr",
     "output_type": "stream",
     "text": [
      "/usr/local/lib/python3.6/dist-packages/ipykernel_launcher.py:3: UserWarning: Boolean Series key will be reindexed to match DataFrame index.\n",
      "  This is separate from the ipykernel package so we can avoid doing imports until\n",
      "/usr/local/lib/python3.6/dist-packages/ipykernel_launcher.py:4: UserWarning: Boolean Series key will be reindexed to match DataFrame index.\n",
      "  after removing the cwd from sys.path.\n",
      "/usr/local/lib/python3.6/dist-packages/ipykernel_launcher.py:6: UserWarning: Boolean Series key will be reindexed to match DataFrame index.\n",
      "  \n",
      "/usr/local/lib/python3.6/dist-packages/ipykernel_launcher.py:3: UserWarning: Boolean Series key will be reindexed to match DataFrame index.\n",
      "  This is separate from the ipykernel package so we can avoid doing imports until\n",
      "/usr/local/lib/python3.6/dist-packages/ipykernel_launcher.py:4: UserWarning: Boolean Series key will be reindexed to match DataFrame index.\n",
      "  after removing the cwd from sys.path.\n",
      "/usr/local/lib/python3.6/dist-packages/ipykernel_launcher.py:6: UserWarning: Boolean Series key will be reindexed to match DataFrame index.\n",
      "  \n",
      "/usr/local/lib/python3.6/dist-packages/ipykernel_launcher.py:3: UserWarning: Boolean Series key will be reindexed to match DataFrame index.\n",
      "  This is separate from the ipykernel package so we can avoid doing imports until\n",
      "/usr/local/lib/python3.6/dist-packages/ipykernel_launcher.py:4: UserWarning: Boolean Series key will be reindexed to match DataFrame index.\n",
      "  after removing the cwd from sys.path.\n",
      "/usr/local/lib/python3.6/dist-packages/ipykernel_launcher.py:6: UserWarning: Boolean Series key will be reindexed to match DataFrame index.\n",
      "  \n",
      "/usr/local/lib/python3.6/dist-packages/ipykernel_launcher.py:3: UserWarning: Boolean Series key will be reindexed to match DataFrame index.\n",
      "  This is separate from the ipykernel package so we can avoid doing imports until\n",
      "/usr/local/lib/python3.6/dist-packages/ipykernel_launcher.py:4: UserWarning: Boolean Series key will be reindexed to match DataFrame index.\n",
      "  after removing the cwd from sys.path.\n",
      "/usr/local/lib/python3.6/dist-packages/ipykernel_launcher.py:6: UserWarning: Boolean Series key will be reindexed to match DataFrame index.\n",
      "  \n",
      "/usr/local/lib/python3.6/dist-packages/ipykernel_launcher.py:3: UserWarning: Boolean Series key will be reindexed to match DataFrame index.\n",
      "  This is separate from the ipykernel package so we can avoid doing imports until\n",
      "/usr/local/lib/python3.6/dist-packages/ipykernel_launcher.py:4: UserWarning: Boolean Series key will be reindexed to match DataFrame index.\n",
      "  after removing the cwd from sys.path.\n",
      "/usr/local/lib/python3.6/dist-packages/ipykernel_launcher.py:6: UserWarning: Boolean Series key will be reindexed to match DataFrame index.\n",
      "  \n",
      "/usr/local/lib/python3.6/dist-packages/ipykernel_launcher.py:3: UserWarning: Boolean Series key will be reindexed to match DataFrame index.\n",
      "  This is separate from the ipykernel package so we can avoid doing imports until\n",
      "/usr/local/lib/python3.6/dist-packages/ipykernel_launcher.py:4: UserWarning: Boolean Series key will be reindexed to match DataFrame index.\n",
      "  after removing the cwd from sys.path.\n",
      "/usr/local/lib/python3.6/dist-packages/ipykernel_launcher.py:6: UserWarning: Boolean Series key will be reindexed to match DataFrame index.\n",
      "  \n",
      "/usr/local/lib/python3.6/dist-packages/ipykernel_launcher.py:3: UserWarning: Boolean Series key will be reindexed to match DataFrame index.\n",
      "  This is separate from the ipykernel package so we can avoid doing imports until\n",
      "/usr/local/lib/python3.6/dist-packages/ipykernel_launcher.py:4: UserWarning: Boolean Series key will be reindexed to match DataFrame index.\n",
      "  after removing the cwd from sys.path.\n",
      "/usr/local/lib/python3.6/dist-packages/ipykernel_launcher.py:6: UserWarning: Boolean Series key will be reindexed to match DataFrame index.\n",
      "  \n",
      "/usr/local/lib/python3.6/dist-packages/ipykernel_launcher.py:3: UserWarning: Boolean Series key will be reindexed to match DataFrame index.\n",
      "  This is separate from the ipykernel package so we can avoid doing imports until\n",
      "/usr/local/lib/python3.6/dist-packages/ipykernel_launcher.py:4: UserWarning: Boolean Series key will be reindexed to match DataFrame index.\n",
      "  after removing the cwd from sys.path.\n",
      "/usr/local/lib/python3.6/dist-packages/ipykernel_launcher.py:6: UserWarning: Boolean Series key will be reindexed to match DataFrame index.\n",
      "  \n"
     ]
    },
    {
     "data": {
      "image/png": "[encoded data removed]",
      "text/plain": [
       "<Figure size 720x576 with 1 Axes>"
      ]
     },
     "metadata": {
      "tags": []
     },
     "output_type": "display_data"
    },
    {
     "data": {
      "image/png": "[encoded data removed]",
      "text/plain": [
       "<Figure size 720x576 with 1 Axes>"
      ]
     },
     "metadata": {
      "tags": []
     },
     "output_type": "display_data"
    },
    {
     "data": {
      "image/png": "[encoded data removed]",
      "text/plain": [
       "<Figure size 720x576 with 1 Axes>"
      ]
     },
     "metadata": {
      "tags": []
     },
     "output_type": "display_data"
    },
    {
     "data": {
      "image/png": "[encoded data removed]",
      "text/plain": [
       "<Figure size 720x576 with 1 Axes>"
      ]
     },
     "metadata": {
      "tags": []
     },
     "output_type": "display_data"
    },
    {
     "data": {
      "image/png": "[encoded data removed]",
      "text/plain": [
       "<Figure size 720x576 with 1 Axes>"
      ]
     },
     "metadata": {
      "tags": []
     },
     "output_type": "display_data"
    },
    {
     "data": {
      "image/png": "[encoded data removed]",
      "text/plain": [
       "<Figure size 720x576 with 1 Axes>"
      ]
     },
     "metadata": {
      "tags": []
     },
     "output_type": "display_data"
    },
    {
     "data": {
      "image/png": "[encoded data removed]",
      "text/plain": [
       "<Figure size 720x576 with 1 Axes>"
      ]
     },
     "metadata": {
      "tags": []
     },
     "output_type": "display_data"
    },
    {
     "data": {
      "image/png": "[encoded data removed]",
      "text/plain": [
       "<Figure size 720x576 with 1 Axes>"
      ]
     },
     "metadata": {
      "tags": []
     },
     "output_type": "display_data"
    }
   ],
   "source": [
    "listOfSessions = random.choices(train.session_id.unique(), k=10)\n",
    "for session_id in listOfSessions:\n",
    "  impression_price(session_id)"
   ]
  },
  {
   "cell_type": "markdown",
   "metadata": {
    "colab_type": "text",
    "id": "fi00W7c9IsWO"
   },
   "source": [
    "Prices and Ranks are originaly can have an effect on the user choice. These two should be features."
   ]
  },
  {
   "cell_type": "markdown",
   "metadata": {
    "colab_type": "text",
    "id": "Uy5EyXqCfltY"
   },
   "source": [
    "###Time Spent"
   ]
  },
  {
   "cell_type": "markdown",
   "metadata": {
    "colab_type": "text",
    "id": "0jLLJLMbriT8"
   },
   "source": [
    "###Total Time Spent"
   ]
  },
  {
   "cell_type": "code",
   "execution_count": 17,
   "metadata": {
    "colab": {
     "base_uri": "https://localhost:8080/",
     "height": 238
    },
    "colab_type": "code",
    "executionInfo": {
     "elapsed": 5815,
     "status": "ok",
     "timestamp": 1581613458346,
     "user": {
      "displayName": "Zeyad Sabbah",
      "photoUrl": "https://lh3.googleusercontent.com/a-/AAuE7mCWyF9CghKcdnVGr84tRaYwPH0IEtaKjAE1o5R9dw=s64",
      "userId": "03977300836188616390"
     },
     "user_tz": 300
    },
    "id": "-Za4BUgOf_Mp",
    "outputId": "2de03fe8-6dc1-45a6-fd02-d8ea5fc15c78"
   },
   "outputs": [
    {
     "data": {
      "text/plain": [
       "session_id\n",
       "00000510f1adc      0\n",
       "00003f3b20954      0\n",
       "000056cd97ce2    255\n",
       "000066611146f     25\n",
       "00008c1f39c46    200\n",
       "                ... \n",
       "tpc71ussgcuou      0\n",
       "u5e4la6f115r1      0\n",
       "udmhn71cn8500    237\n",
       "v9815m0bctrm1      0\n",
       "vg1t2qc04afrt     14\n",
       "Name: timestamp, Length: 745755, dtype: int64"
      ]
     },
     "execution_count": 17,
     "metadata": {
      "tags": []
     },
     "output_type": "execute_result"
    }
   ],
   "source": [
    "#getting the time spent in each session in seconds\n",
    "TotalTimeSpentPerSession = train.groupby('session_id').timestamp.last() - train.groupby('session_id').timestamp.first()\n",
    "TotalTimeSpentPerSession"
   ]
  },
  {
   "cell_type": "code",
   "execution_count": 52,
   "metadata": {
    "colab": {
     "base_uri": "https://localhost:8080/",
     "height": 34
    },
    "colab_type": "code",
    "executionInfo": {
     "elapsed": 1095,
     "status": "ok",
     "timestamp": 1581615005852,
     "user": {
      "displayName": "Zeyad Sabbah",
      "photoUrl": "https://lh3.googleusercontent.com/a-/AAuE7mCWyF9CghKcdnVGr84tRaYwPH0IEtaKjAE1o5R9dw=s64",
      "userId": "03977300836188616390"
     },
     "user_tz": 300
    },
    "id": "o2R_JbVDluCl",
    "outputId": "6d64c6a9-da74-4d4a-b4a5-7d36fb727c8f"
   },
   "outputs": [
    {
     "data": {
      "text/plain": [
       "-270818"
      ]
     },
     "execution_count": 52,
     "metadata": {
      "tags": []
     },
     "output_type": "execute_result"
    }
   ],
   "source": [
    "#checking for the values\n",
    "TotalTimeSpentPerSession.min()"
   ]
  },
  {
   "cell_type": "markdown",
   "metadata": {
    "colab_type": "text",
    "id": "n-xajZtJnFbW"
   },
   "source": [
    "The minimum value should be 0 (since it is time spent) That shows that something is not consistent in the dataset.\n",
    "\n",
    "For now, I'll use another functions to get through this, but some of the sessions' steps(rows) for some reason don't lie where it is supposed to be as mentioned in the next cell."
   ]
  },
  {
   "cell_type": "code",
   "execution_count": 60,
   "metadata": {
    "colab": {
     "base_uri": "https://localhost:8080/",
     "height": 182
    },
    "colab_type": "code",
    "executionInfo": {
     "elapsed": 1886,
     "status": "ok",
     "timestamp": 1581615459916,
     "user": {
      "displayName": "Zeyad Sabbah",
      "photoUrl": "https://lh3.googleusercontent.com/a-/AAuE7mCWyF9CghKcdnVGr84tRaYwPH0IEtaKjAE1o5R9dw=s64",
      "userId": "03977300836188616390"
     },
     "user_tz": 300
    },
    "id": "elSlXN5Yl3YJ",
    "outputId": "e770591d-8550-4dd1-bc6e-c04d928e7c5f"
   },
   "outputs": [
    {
     "data": {
      "text/html": [
       "<div>\n",
       "<style scoped>\n",
       "    .dataframe tbody tr th:only-of-type {\n",
       "        vertical-align: middle;\n",
       "    }\n",
       "\n",
       "    .dataframe tbody tr th {\n",
       "        vertical-align: top;\n",
       "    }\n",
       "\n",
       "    .dataframe thead th {\n",
       "        text-align: right;\n",
       "    }\n",
       "</style>\n",
       "<table border=\"1\" class=\"dataframe\">\n",
       "  <thead>\n",
       "    <tr style=\"text-align: right;\">\n",
       "      <th></th>\n",
       "      <th>Unnamed: 0</th>\n",
       "      <th>user_id</th>\n",
       "      <th>session_id</th>\n",
       "      <th>timestamp</th>\n",
       "      <th>step</th>\n",
       "      <th>action_type</th>\n",
       "      <th>reference</th>\n",
       "      <th>platform</th>\n",
       "      <th>city</th>\n",
       "      <th>device</th>\n",
       "      <th>current_filters</th>\n",
       "      <th>impressions</th>\n",
       "      <th>prices</th>\n",
       "    </tr>\n",
       "  </thead>\n",
       "  <tbody>\n",
       "    <tr>\n",
       "      <th>975662</th>\n",
       "      <td>1190260</td>\n",
       "      <td>PBIZWRQOUBVE</td>\n",
       "      <td>8c41f0b873b0b</td>\n",
       "      <td>1541544799</td>\n",
       "      <td>1</td>\n",
       "      <td>clickout item</td>\n",
       "      <td>928649</td>\n",
       "      <td>TR</td>\n",
       "      <td>Istanbul, Turkey</td>\n",
       "      <td>desktop</td>\n",
       "      <td>NaN</td>\n",
       "      <td>928649|2786846|927845|2631584|4414636|37539|98...</td>\n",
       "      <td>129|87|111|167|42|116|71|36|45|80|71|40|45|50|...</td>\n",
       "    </tr>\n",
       "    <tr>\n",
       "      <th>8432290</th>\n",
       "      <td>10308397</td>\n",
       "      <td>PBIZWRQOUBVE</td>\n",
       "      <td>8c41f0b873b0b</td>\n",
       "      <td>1541273844</td>\n",
       "      <td>1</td>\n",
       "      <td>interaction item image</td>\n",
       "      <td>4584962</td>\n",
       "      <td>TR</td>\n",
       "      <td>Istanbul, Turkey</td>\n",
       "      <td>desktop</td>\n",
       "      <td>NaN</td>\n",
       "      <td>NaN</td>\n",
       "      <td>NaN</td>\n",
       "    </tr>\n",
       "  </tbody>\n",
       "</table>\n",
       "</div>"
      ],
      "text/plain": [
       "         Unnamed: 0  ...                                             prices\n",
       "975662      1190260  ...  129|87|111|167|42|116|71|36|45|80|71|40|45|50|...\n",
       "8432290    10308397  ...                                                NaN\n",
       "\n",
       "[2 rows x 13 columns]"
      ]
     },
     "execution_count": 60,
     "metadata": {
      "tags": []
     },
     "output_type": "execute_result"
    }
   ],
   "source": [
    "train[train.session_id=='8c41f0b873b0b'].head(2)"
   ]
  },
  {
   "cell_type": "code",
   "execution_count": 62,
   "metadata": {
    "colab": {
     "base_uri": "https://localhost:8080/",
     "height": 34
    },
    "colab_type": "code",
    "executionInfo": {
     "elapsed": 6070,
     "status": "ok",
     "timestamp": 1581615525890,
     "user": {
      "displayName": "Zeyad Sabbah",
      "photoUrl": "https://lh3.googleusercontent.com/a-/AAuE7mCWyF9CghKcdnVGr84tRaYwPH0IEtaKjAE1o5R9dw=s64",
      "userId": "03977300836188616390"
     },
     "user_tz": 300
    },
    "id": "fd0gU43VnbLo",
    "outputId": "b4ca14aa-b3f8-45d8-c9bd-a3920aa5e8bd"
   },
   "outputs": [
    {
     "data": {
      "text/plain": [
       "0"
      ]
     },
     "execution_count": 62,
     "metadata": {
      "tags": []
     },
     "output_type": "execute_result"
    }
   ],
   "source": [
    "#using max and min functions instead\n",
    "TotalTimeSpentPerSession = train.groupby('session_id').timestamp.max() - train.groupby('session_id').timestamp.min()\n",
    "TotalTimeSpentPerSession.min()"
   ]
  },
  {
   "cell_type": "code",
   "execution_count": 76,
   "metadata": {
    "colab": {
     "base_uri": "https://localhost:8080/",
     "height": 405
    },
    "colab_type": "code",
    "executionInfo": {
     "elapsed": 1463,
     "status": "ok",
     "timestamp": 1581616171611,
     "user": {
      "displayName": "Zeyad Sabbah",
      "photoUrl": "https://lh3.googleusercontent.com/a-/AAuE7mCWyF9CghKcdnVGr84tRaYwPH0IEtaKjAE1o5R9dw=s64",
      "userId": "03977300836188616390"
     },
     "user_tz": 300
    },
    "id": "x2ihLtvzm2Yu",
    "outputId": "8b4e8a16-9fd4-49d1-a982-f3d187c58fb9"
   },
   "outputs": [
    {
     "data": {
      "text/plain": [
       "{'boxes': [<matplotlib.lines.Line2D at 0x7f7fd5561e48>],\n",
       " 'caps': [<matplotlib.lines.Line2D at 0x7f7fd556d8d0>,\n",
       "  <matplotlib.lines.Line2D at 0x7f7fd556dc18>],\n",
       " 'fliers': [<matplotlib.lines.Line2D at 0x7f7fd55792e8>],\n",
       " 'means': [],\n",
       " 'medians': [<matplotlib.lines.Line2D at 0x7f7fd556df60>],\n",
       " 'whiskers': [<matplotlib.lines.Line2D at 0x7f7fd5561f98>,\n",
       "  <matplotlib.lines.Line2D at 0x7f7fd556d588>]}"
      ]
     },
     "execution_count": 76,
     "metadata": {
      "tags": []
     },
     "output_type": "execute_result"
    },
    {
     "data": {
      "image/png": "[encoded data removed]",
      "text/plain": [
       "<Figure size 432x288 with 1 Axes>"
      ]
     },
     "metadata": {
      "tags": []
     },
     "output_type": "display_data"
    }
   ],
   "source": [
    "plt.ylim(0, 2000)\n",
    "plt.boxplot(TotalTimeSpentPerSession)"
   ]
  },
  {
   "cell_type": "code",
   "execution_count": 80,
   "metadata": {
    "colab": {
     "base_uri": "https://localhost:8080/",
     "height": 34
    },
    "colab_type": "code",
    "executionInfo": {
     "elapsed": 1431,
     "status": "ok",
     "timestamp": 1581616281715,
     "user": {
      "displayName": "Zeyad Sabbah",
      "photoUrl": "https://lh3.googleusercontent.com/a-/AAuE7mCWyF9CghKcdnVGr84tRaYwPH0IEtaKjAE1o5R9dw=s64",
      "userId": "03977300836188616390"
     },
     "user_tz": 300
    },
    "id": "XJbMmReCq8VX",
    "outputId": "76d03840-0d95-49aa-a520-8ddf9524c44f"
   },
   "outputs": [
    {
     "data": {
      "text/plain": [
       "11.57"
      ]
     },
     "execution_count": 80,
     "metadata": {
      "tags": []
     },
     "output_type": "execute_result"
    }
   ],
   "source": [
    "#percentage of time spent more than the maximum\n",
    "round((TotalTimeSpentPerSession[TotalTimeSpentPerSession>1140].count()/TotalTimeSpentPerSession.count())*100,2) "
   ]
  },
  {
   "cell_type": "markdown",
   "metadata": {
    "colab_type": "text",
    "id": "QCKjTOvnrahR"
   },
   "source": [
    "TotalSecondsSpent should be a feature."
   ]
  },
  {
   "cell_type": "markdown",
   "metadata": {
    "colab_type": "text",
    "id": "NF6OwvXArnTy"
   },
   "source": [
    "###ReferenceTimeSpent"
   ]
  },
  {
   "cell_type": "markdown",
   "metadata": {
    "colab_type": "text",
    "id": "WERe-81JtDiK"
   },
   "source": [
    "ReferenceTrain set should be added in Feature Engineering. It will help in getting information about different references in a session."
   ]
  },
  {
   "cell_type": "code",
   "execution_count": 101,
   "metadata": {
    "colab": {
     "base_uri": "https://localhost:8080/",
     "height": 204
    },
    "colab_type": "code",
    "executionInfo": {
     "elapsed": 1416,
     "status": "ok",
     "timestamp": 1581618472490,
     "user": {
      "displayName": "Zeyad Sabbah",
      "photoUrl": "https://lh3.googleusercontent.com/a-/AAuE7mCWyF9CghKcdnVGr84tRaYwPH0IEtaKjAE1o5R9dw=s64",
      "userId": "03977300836188616390"
     },
     "user_tz": 300
    },
    "id": "u8OknN2_zo7W",
    "outputId": "8d004327-b20d-4558-a62d-b118f7e7be61"
   },
   "outputs": [
    {
     "data": {
      "text/html": [
       "<div>\n",
       "<style scoped>\n",
       "    .dataframe tbody tr th:only-of-type {\n",
       "        vertical-align: middle;\n",
       "    }\n",
       "\n",
       "    .dataframe tbody tr th {\n",
       "        vertical-align: top;\n",
       "    }\n",
       "\n",
       "    .dataframe thead th {\n",
       "        text-align: right;\n",
       "    }\n",
       "</style>\n",
       "<table border=\"1\" class=\"dataframe\">\n",
       "  <thead>\n",
       "    <tr style=\"text-align: right;\">\n",
       "      <th></th>\n",
       "      <th>user_id</th>\n",
       "      <th>session_id</th>\n",
       "      <th>timestamp</th>\n",
       "      <th>step</th>\n",
       "      <th>action_type</th>\n",
       "      <th>reference</th>\n",
       "      <th>platform</th>\n",
       "      <th>city</th>\n",
       "      <th>device</th>\n",
       "      <th>current_filters</th>\n",
       "      <th>impressions</th>\n",
       "      <th>prices</th>\n",
       "    </tr>\n",
       "  </thead>\n",
       "  <tbody>\n",
       "    <tr>\n",
       "      <th>0</th>\n",
       "      <td>00RL8Z82B2Z1</td>\n",
       "      <td>aff3928535f48</td>\n",
       "      <td>1541037460</td>\n",
       "      <td>1</td>\n",
       "      <td>search for poi</td>\n",
       "      <td>Newtown</td>\n",
       "      <td>AU</td>\n",
       "      <td>Sydney, Australia</td>\n",
       "      <td>mobile</td>\n",
       "      <td>NaN</td>\n",
       "      <td>NaN</td>\n",
       "      <td>NaN</td>\n",
       "    </tr>\n",
       "    <tr>\n",
       "      <th>1</th>\n",
       "      <td>00RL8Z82B2Z1</td>\n",
       "      <td>aff3928535f48</td>\n",
       "      <td>1541037522</td>\n",
       "      <td>2</td>\n",
       "      <td>interaction item image</td>\n",
       "      <td>666856</td>\n",
       "      <td>AU</td>\n",
       "      <td>Sydney, Australia</td>\n",
       "      <td>mobile</td>\n",
       "      <td>NaN</td>\n",
       "      <td>NaN</td>\n",
       "      <td>NaN</td>\n",
       "    </tr>\n",
       "    <tr>\n",
       "      <th>2</th>\n",
       "      <td>00RL8Z82B2Z1</td>\n",
       "      <td>aff3928535f48</td>\n",
       "      <td>1541037522</td>\n",
       "      <td>3</td>\n",
       "      <td>interaction item image</td>\n",
       "      <td>666856</td>\n",
       "      <td>AU</td>\n",
       "      <td>Sydney, Australia</td>\n",
       "      <td>mobile</td>\n",
       "      <td>NaN</td>\n",
       "      <td>NaN</td>\n",
       "      <td>NaN</td>\n",
       "    </tr>\n",
       "    <tr>\n",
       "      <th>3</th>\n",
       "      <td>00RL8Z82B2Z1</td>\n",
       "      <td>aff3928535f48</td>\n",
       "      <td>1541037532</td>\n",
       "      <td>4</td>\n",
       "      <td>interaction item image</td>\n",
       "      <td>666856</td>\n",
       "      <td>AU</td>\n",
       "      <td>Sydney, Australia</td>\n",
       "      <td>mobile</td>\n",
       "      <td>NaN</td>\n",
       "      <td>NaN</td>\n",
       "      <td>NaN</td>\n",
       "    </tr>\n",
       "    <tr>\n",
       "      <th>4</th>\n",
       "      <td>00RL8Z82B2Z1</td>\n",
       "      <td>aff3928535f48</td>\n",
       "      <td>1541037532</td>\n",
       "      <td>5</td>\n",
       "      <td>interaction item image</td>\n",
       "      <td>109038</td>\n",
       "      <td>AU</td>\n",
       "      <td>Sydney, Australia</td>\n",
       "      <td>mobile</td>\n",
       "      <td>NaN</td>\n",
       "      <td>NaN</td>\n",
       "      <td>NaN</td>\n",
       "    </tr>\n",
       "  </tbody>\n",
       "</table>\n",
       "</div>"
      ],
      "text/plain": [
       "        user_id     session_id   timestamp  ...  current_filters impressions prices\n",
       "0  00RL8Z82B2Z1  aff3928535f48  1541037460  ...              NaN         NaN    NaN\n",
       "1  00RL8Z82B2Z1  aff3928535f48  1541037522  ...              NaN         NaN    NaN\n",
       "2  00RL8Z82B2Z1  aff3928535f48  1541037522  ...              NaN         NaN    NaN\n",
       "3  00RL8Z82B2Z1  aff3928535f48  1541037532  ...              NaN         NaN    NaN\n",
       "4  00RL8Z82B2Z1  aff3928535f48  1541037532  ...              NaN         NaN    NaN\n",
       "\n",
       "[5 rows x 12 columns]"
      ]
     },
     "execution_count": 101,
     "metadata": {
      "tags": []
     },
     "output_type": "execute_result"
    }
   ],
   "source": [
    "train.head()"
   ]
  },
  {
   "cell_type": "code",
   "execution_count": 111,
   "metadata": {
    "colab": {
     "base_uri": "https://localhost:8080/",
     "height": 408
    },
    "colab_type": "code",
    "executionInfo": {
     "elapsed": 264603,
     "status": "ok",
     "timestamp": 1581619403143,
     "user": {
      "displayName": "Zeyad Sabbah",
      "photoUrl": "https://lh3.googleusercontent.com/a-/AAuE7mCWyF9CghKcdnVGr84tRaYwPH0IEtaKjAE1o5R9dw=s64",
      "userId": "03977300836188616390"
     },
     "user_tz": 300
    },
    "id": "f2z7uhsMr9n4",
    "outputId": "334c2fef-d656-4ea1-d79e-00046e994a35"
   },
   "outputs": [
    {
     "data": {
      "text/plain": [
       "(0                           Newtown\n",
       " 1                            666856\n",
       " 2                            666856\n",
       " 3                            666856\n",
       " 4                            109038\n",
       "                      ...           \n",
       " 13019551                    6617798\n",
       " 13019552                    6617798\n",
       " 13019553                    2712342\n",
       " 13019554    interaction sort button\n",
       " 13019555                    1161323\n",
       " Name: reference, Length: 13019556, dtype: object, 1            666856\n",
       " 2            666856\n",
       " 3            666856\n",
       " 4            109038\n",
       " 5            666856\n",
       "              ...   \n",
       " 13019550    6617798\n",
       " 13019551    6617798\n",
       " 13019552    6617798\n",
       " 13019553    2712342\n",
       " 13019555    1161323\n",
       " Name: reference, Length: 11679717, dtype: object)"
      ]
     },
     "execution_count": 111,
     "metadata": {
      "tags": []
     },
     "output_type": "execute_result"
    }
   ],
   "source": [
    "#loading train set\n",
    "ReferenceTrain = pd.read_csv('/content/drive/My Drive/Trivago/Clean Dataset/train.csv')\n",
    "ReferenceTrain = ReferenceTrain.drop(columns='Unnamed: 0')\n",
    "\n",
    "#converting words values in referenc into NaN\n",
    "ReferenceTrain.reference = ReferenceTrain.reference.apply(lambda x: pd.to_numeric(x, errors='coerce')).dropna().astype(int).apply(lambda x: str(x))\n",
    "\n",
    "#dropping NaN in reference\n",
    "ReferenceTrain = ReferenceTrain.drop(ReferenceTrain[ReferenceTrain.reference.isna()].index.tolist())\n",
    "\n",
    "#what I meant by the previous step\n",
    "train.reference, ReferenceTrain.reference"
   ]
  },
  {
   "cell_type": "code",
   "execution_count": 115,
   "metadata": {
    "colab": {
     "base_uri": "https://localhost:8080/",
     "height": 238
    },
    "colab_type": "code",
    "executionInfo": {
     "elapsed": 10569,
     "status": "ok",
     "timestamp": 1581619564903,
     "user": {
      "displayName": "Zeyad Sabbah",
      "photoUrl": "https://lh3.googleusercontent.com/a-/AAuE7mCWyF9CghKcdnVGr84tRaYwPH0IEtaKjAE1o5R9dw=s64",
      "userId": "03977300836188616390"
     },
     "user_tz": 300
    },
    "id": "oJDQ8CYw0GZK",
    "outputId": "a3ac5774-b891-4e90-dd9c-6d3a7a197d2f"
   },
   "outputs": [
    {
     "data": {
      "text/plain": [
       "session_id     reference\n",
       "00000510f1adc  7281198        0\n",
       "00003f3b20954  979325         0\n",
       "000056cd97ce2  2784325        0\n",
       "               3811810      227\n",
       "000066611146f  5479306        0\n",
       "                           ... \n",
       "u5e4la6f115r1  147574         0\n",
       "udmhn71cn8500  4283966       73\n",
       "               5030808        0\n",
       "v9815m0bctrm1  157502         0\n",
       "vg1t2qc04afrt  4905934        0\n",
       "Name: timestamp, Length: 1698848, dtype: int64"
      ]
     },
     "execution_count": 115,
     "metadata": {
      "tags": []
     },
     "output_type": "execute_result"
    }
   ],
   "source": [
    "ReferenceTimeSpent = (ReferenceTrain.groupby(['session_id', 'reference']).timestamp.max() \n",
    "                      - ReferenceTrain.groupby(['session_id', 'reference']).timestamp.min())\n",
    "ReferenceTimeSpent"
   ]
  },
  {
   "cell_type": "code",
   "execution_count": 0,
   "metadata": {
    "colab": {},
    "colab_type": "code",
    "id": "zGI9X2EQ_kXY"
   },
   "outputs": [],
   "source": [
    "ReferenceTrain.to_csv('train_ref.csv')                  #DO NOT RUN BEFORE INVESTIGATING FOR THE BEST PRACTICES\n",
    "!cp train_ref.csv '/content/drive/My Drive/Trivago/Clean Dataset/'"
   ]
  },
  {
   "cell_type": "markdown",
   "metadata": {
    "colab_type": "text",
    "id": "sIsdVhl05PHT"
   },
   "source": [
    "Reference Time Spent should be a feature.\n",
    "Removing words function or Regex function should be incluced in Feature Engineering."
   ]
  }
 ],
 "metadata": {
  "accelerator": "GPU",
  "colab": {
   "collapsed_sections": [],
   "machine_shape": "hm",
   "name": "Trivago.ipynb",
   "provenance": [],
   "toc_visible": true
  },
  "kernelspec": {
   "display_name": "Python 3",
   "language": "python",
   "name": "python3"
  },
  "language_info": {
   "codemirror_mode": {
    "name": "ipython",
    "version": 3
   },
   "file_extension": ".py",
   "mimetype": "text/x-python",
   "name": "python",
   "nbconvert_exporter": "python",
   "pygments_lexer": "ipython3",
   "version": "3.7.3"
  }
 },
 "nbformat": 4,
 "nbformat_minor": 1
}
