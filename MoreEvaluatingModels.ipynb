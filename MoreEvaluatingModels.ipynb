{
  "nbformat": 4,
  "nbformat_minor": 0,
  "metadata": {
    "colab": {
      "name": "MoreEvaluatingModels.ipynb",
      "provenance": [],
      "collapsed_sections": [
        "5S37bRTsHRSQ",
        "z-8AxzHA6wnW",
        "IG9n_y4yoR02",
        "d_FplZiyPDHh",
        "sXX8Zg_s9qyI"
      ],
      "toc_visible": true,
      "machine_shape": "hm",
      "authorship_tag": "ABX9TyP55IlJabu0oh09MFbJVQhc",
      "include_colab_link": true
    },
    "kernelspec": {
      "name": "python3",
      "display_name": "Python 3"
    }
  },
  "cells": [
    {
      "cell_type": "markdown",
      "metadata": {
        "id": "view-in-github",
        "colab_type": "text"
      },
      "source": [
        "<a href=\"https://colab.research.google.com/github/ZeyadSabbah/TrivagoRecommenderSystem/blob/master/MoreEvaluatingModels.ipynb\" target=\"_parent\"><img src=\"https://colab.research.google.com/assets/colab-badge.svg\" alt=\"Open In Colab\"/></a>"
      ]
    },
    {
      "cell_type": "markdown",
      "metadata": {
        "id": "Cr51e1l72qbP",
        "colab_type": "text"
      },
      "source": [
        "# Evaluating Models\n",
        "## Mounting Drive"
      ]
    },
    {
      "cell_type": "code",
      "metadata": {
        "id": "Iub6c1H2sYoz",
        "colab_type": "code",
        "outputId": "8a44ddf7-6f7a-4f94-8368-777deb6acdd3",
        "colab": {
          "base_uri": "https://localhost:8080/",
          "height": 122
        }
      },
      "source": [
        "from google.colab import drive\n",
        "drive.mount('/content/drive')"
      ],
      "execution_count": 1,
      "outputs": [
        {
          "output_type": "stream",
          "text": [
            "Go to this URL in a browser: https://accounts.google.com/o/oauth2/auth?client_id=947318989803-6bn6qk8qdgf4n4g3pfee6491hc0brc4i.apps.googleusercontent.com&redirect_uri=urn%3aietf%3awg%3aoauth%3a2.0%3aoob&response_type=code&scope=email%20https%3a%2f%2fwww.googleapis.com%2fauth%2fdocs.test%20https%3a%2f%2fwww.googleapis.com%2fauth%2fdrive%20https%3a%2f%2fwww.googleapis.com%2fauth%2fdrive.photos.readonly%20https%3a%2f%2fwww.googleapis.com%2fauth%2fpeopleapi.readonly\n",
            "\n",
            "Enter your authorization code:\n",
            "··········\n",
            "Mounted at /content/drive\n"
          ],
          "name": "stdout"
        }
      ]
    },
    {
      "cell_type": "code",
      "metadata": {
        "id": "sYhABAowsZ49",
        "colab_type": "code",
        "outputId": "844a5a71-c0ee-4b10-c151-b2cb6142f3da",
        "colab": {
          "base_uri": "https://localhost:8080/",
          "height": 34
        }
      },
      "source": [
        "%cd /content/drive/My Drive/Trivago/Project/TrivagoRecommenderSystem"
      ],
      "execution_count": 2,
      "outputs": [
        {
          "output_type": "stream",
          "text": [
            "/content/drive/My Drive/Trivago/Project/TrivagoRecommenderSystem\n"
          ],
          "name": "stdout"
        }
      ]
    },
    {
      "cell_type": "markdown",
      "metadata": {
        "id": "Pp6mufSj25wO",
        "colab_type": "text"
      },
      "source": [
        "## Loading Libraries & Datasets"
      ]
    },
    {
      "cell_type": "code",
      "metadata": {
        "id": "RvIc037-tx2O",
        "colab_type": "code",
        "colab": {}
      },
      "source": [
        "import pandas as pd\n",
        "import numpy as np\n",
        "from datetime import datetime\n",
        "from datetime import timedelta\n",
        "import math\n",
        "import matplotlib.pyplot as plt\n",
        "from datetime import datetime\n",
        "import re\n",
        "import random\n",
        "import joblib\n",
        "from tqdm import tqdm_notebook as tqdm\n",
        "from sklearn.feature_selection import SelectKBest\n",
        "from sklearn.feature_selection import chi2\n",
        "from sklearn.linear_model import LogisticRegression\n",
        "from sklearn.model_selection import GridSearchCV\n",
        "from sklearn.model_selection import train_test_split\n",
        "from sklearn import preprocessing\n",
        "from sklearn.metrics import classification_report\n",
        "from sklearn.metrics import confusion_matrix\n",
        "import warnings\n",
        "warnings.filterwarnings('ignore', category=FutureWarning)\n",
        "warnings.filterwarnings('ignore', category=DeprecationWarning)"
      ],
      "execution_count": 0,
      "outputs": []
    },
    {
      "cell_type": "code",
      "metadata": {
        "id": "XD665TzttzXG",
        "colab_type": "code",
        "colab": {}
      },
      "source": [
        "TrainMoreDataFilepath = './Datasets/clean_data/Sets/trainMore.csv'\n",
        "valFilepath = './Datasets/clean_data/Sets/val.csv'\n",
        "testFilepath = './Datasets/clean_data/Sets/test.csv'\n",
        "\n",
        "TrainMoreData = pd.read_csv(TrainMoreDataFilepath)\n",
        "valData = pd.read_csv(valFilepath)\n",
        "testData = pd.read_csv(testFilepath)"
      ],
      "execution_count": 0,
      "outputs": []
    },
    {
      "cell_type": "markdown",
      "metadata": {
        "id": "YyUDPJcZ6JHK",
        "colab_type": "text"
      },
      "source": [
        "## Validation & Test sets' Transformation & Scaling"
      ]
    },
    {
      "cell_type": "code",
      "metadata": {
        "id": "ZYdrMMb5t2dK",
        "colab_type": "code",
        "colab": {}
      },
      "source": [
        "#declaring features and label\n",
        "features = TrainMoreData.drop(columns=['session_id', 'item_id', 'clickout']).columns.tolist()\n",
        "label = ['clickout']\n",
        "\n",
        "#dropping highly correlated features\n",
        "FeaturesToDrop = ['NumberInImpressions', 'NumberInReferences', 'MeanPrice', 'MinPrice']\n",
        "for feature in FeaturesToDrop:\n",
        "  features.remove(feature)\n",
        "\n",
        "X_train = TrainMoreData[features]\n",
        "y_train = TrainMoreData[label]"
      ],
      "execution_count": 0,
      "outputs": []
    },
    {
      "cell_type": "markdown",
      "metadata": {
        "id": "4r9lqBI700W2",
        "colab_type": "text"
      },
      "source": [
        "### Preparation"
      ]
    },
    {
      "cell_type": "code",
      "metadata": {
        "id": "9lOepgZk2ird",
        "colab_type": "code",
        "colab": {}
      },
      "source": [
        "valData_sessions_item = valData[['session_id', 'item_id', 'clickout']]\n",
        "X_val = valData[features]\n",
        "y_val = valData[label]"
      ],
      "execution_count": 0,
      "outputs": []
    },
    {
      "cell_type": "code",
      "metadata": {
        "id": "1Tz_G0TVk2Tr",
        "colab_type": "code",
        "colab": {}
      },
      "source": [
        "testData_sessions_item = testData[['session_id', 'item_id', 'clickout']]\n",
        "X_test = testData[features]\n",
        "y_test  = testData[label]"
      ],
      "execution_count": 0,
      "outputs": []
    },
    {
      "cell_type": "markdown",
      "metadata": {
        "id": "7mwDTmto1W6M",
        "colab_type": "text"
      },
      "source": [
        "### Scaling"
      ]
    },
    {
      "cell_type": "code",
      "metadata": {
        "id": "r_xDcgECn9cZ",
        "colab_type": "code",
        "colab": {}
      },
      "source": [
        "from sklearn.pipeline import Pipeline\n",
        "from sklearn.preprocessing import StandardScaler\n",
        "from sklearn.impute import SimpleImputer\n",
        "\n",
        "num_pipeline = Pipeline([\n",
        "('imputer', SimpleImputer(strategy=\"median\")),\n",
        "('std_scaler', StandardScaler()),\n",
        "])\n",
        "\n",
        "from sklearn.compose import ColumnTransformer\n",
        "full_pipeline = ColumnTransformer([\n",
        "(\"num\", num_pipeline, list(X_train))\n",
        "])\n",
        "\n",
        "# training set scaling\n",
        "# X_train_scaled = full_pipeline.fit_transform(X_train)\n",
        "\n",
        "# validation set scaling\n",
        "X_val_scaled = full_pipeline.fit_transform(X_val)\n",
        "\n",
        "# test set scaling\n",
        "# X_test_scaled = full_pipeline.fit_transform(X_test)"
      ],
      "execution_count": 0,
      "outputs": []
    },
    {
      "cell_type": "markdown",
      "metadata": {
        "id": "gXYC4rqrlW_H",
        "colab_type": "text"
      },
      "source": [
        "## Evaluating Models"
      ]
    },
    {
      "cell_type": "code",
      "metadata": {
        "id": "dFduu6DBEmzv",
        "colab_type": "code",
        "colab": {}
      },
      "source": [
        "#function is from this repo https://gist.github.com/bwhite/3726239\n",
        "def mean_reciprocal_rank(rs):\n",
        "    \"\"\"Score is reciprocal of the rank of the first relevant item\n",
        "    First element is 'rank 1'.  Relevance is binary (nonzero is relevant).\n",
        "    Example from http://en.wikipedia.org/wiki/Mean_reciprocal_rank\n",
        "    >>> rs = [[0, 0, 1], [0, 1, 0], [1, 0, 0]]\n",
        "    >>> mean_reciprocal_rank(rs)\n",
        "    0.61111111111111105\n",
        "    >>> rs = np.array([[0, 0, 0], [0, 1, 0], [1, 0, 0]])\n",
        "    >>> mean_reciprocal_rank(rs)\n",
        "    0.5\n",
        "    >>> rs = [[0, 0, 0, 1], [1, 0, 0], [1, 0, 0]]\n",
        "    >>> mean_reciprocal_rank(rs)\n",
        "    0.75\n",
        "    Args:\n",
        "        rs: Iterator of relevance scores (list or numpy) in rank order\n",
        "            (first element is the first item)\n",
        "    Returns:\n",
        "        Mean reciprocal rank\n",
        "    \"\"\"\n",
        "    rs = (np.asarray(r).nonzero()[0] for r in rs)\n",
        "    return np.mean([1. / (r[0] + 1) if r.size else 0. for r in rs])"
      ],
      "execution_count": 0,
      "outputs": []
    },
    {
      "cell_type": "code",
      "metadata": {
        "id": "hUe_7a6LCl_n",
        "colab_type": "code",
        "colab": {}
      },
      "source": [
        "def get_probabilities(model_path, X, session_item_dataset):\n",
        "  '''\n",
        "  Desc: function that gets the probability of each item being selected by the user, rerank the items in the session based on the probabilites\n",
        "\n",
        "  Input: model_path: String with the name of the stored model\n",
        "         X: array of scaled features of the dataset\n",
        "         session_item_dataset: Pandas Dataframe with the sessions, items, and clickout\n",
        "        \n",
        "  Output: clickout_rank: List of lists that carries which item was selected in which rank\n",
        "          RecommendationsDF: Pandas Dataframe to be transformed and merged to the Clickout Dataframe\n",
        "  '''\n",
        "  model = joblib.load(model_path)\n",
        "  BothProbabilities = model.predict_proba(X)\n",
        "  Probabilities = [Probability[1] for Probability in BothProbabilities]\n",
        "  session_item_dataset['probability'] = Probabilities\n",
        "  RecommendationsDF = session_item_dataset.groupby(['session_id'], sort=False).apply(lambda x: (x.sort_values('probability', ascending=False)))\n",
        "  clickout_rank = RecommendationsDF.clickout\n",
        "  clickout_rank = clickout_rank.reset_index().groupby('session_id').clickout.apply(list).values.tolist()\n",
        "  return clickout_rank, RecommendationsDF"
      ],
      "execution_count": 0,
      "outputs": []
    },
    {
      "cell_type": "code",
      "metadata": {
        "id": "NLFhNDJcFOMW",
        "colab_type": "code",
        "colab": {}
      },
      "source": [
        "def ClassifReport(model_path, X, y):\n",
        "  global y_pred\n",
        "  model = joblib.load(model_path)\n",
        "  y_pred = model.predict(X)\n",
        "  return classification_report(y, y_pred)"
      ],
      "execution_count": 0,
      "outputs": []
    },
    {
      "cell_type": "code",
      "metadata": {
        "id": "PpN46-7SJqos",
        "colab_type": "code",
        "colab": {}
      },
      "source": [
        "def PrintMetrics(model_path, X, y, session_item_dataset):\n",
        "  clickout_rank, RecommendationsDF = get_probabilities(model_path, X, session_item_dataset)\n",
        "  MeanReciprocalRank = mean_reciprocal_rank(clickout_rank)\n",
        "  print('Mean Reciprocal Rank : ', MeanReciprocalRank)\n",
        "  print('=================================================')\n",
        "  ClassificationReport = ClassifReport(model_path, X, y)\n",
        "  print('Classification Report')\n",
        "  print('=================================================')\n",
        "  print(ClassificationReport)\n",
        "  ConfMatrix = confusion_matrix(y_pred, y_val, labels=[1, 0])\n",
        "  print('Confusion Matrix')\n",
        "  print('================================================')\n",
        "  print(ConfMatrix)\n",
        "  return"
      ],
      "execution_count": 0,
      "outputs": []
    },
    {
      "cell_type": "markdown",
      "metadata": {
        "id": "nJ2RBEtOlhzx",
        "colab_type": "text"
      },
      "source": [
        "### Without Resampling"
      ]
    },
    {
      "cell_type": "markdown",
      "metadata": {
        "id": "nOjtFcDrFiNO",
        "colab_type": "text"
      },
      "source": [
        "#### Logistic Regression"
      ]
    },
    {
      "cell_type": "code",
      "metadata": {
        "id": "dIdTk3tVLBlH",
        "colab_type": "code",
        "outputId": "b11f8f89-751c-4090-d771-4bd30111cf6e",
        "colab": {
          "base_uri": "https://localhost:8080/",
          "height": 408
        }
      },
      "source": [
        "PrintMetrics('./models/LR_model.pkl', X_val_scaled, y_val, valData_sessions_item)"
      ],
      "execution_count": 0,
      "outputs": [
        {
          "output_type": "stream",
          "text": [
            "/usr/local/lib/python3.6/dist-packages/ipykernel_launcher.py:15: SettingWithCopyWarning: \n",
            "A value is trying to be set on a copy of a slice from a DataFrame.\n",
            "Try using .loc[row_indexer,col_indexer] = value instead\n",
            "\n",
            "See the caveats in the documentation: https://pandas.pydata.org/pandas-docs/stable/user_guide/indexing.html#returning-a-view-versus-a-copy\n",
            "  from ipykernel import kernelapp as app\n"
          ],
          "name": "stderr"
        },
        {
          "output_type": "stream",
          "text": [
            "Mean Reciprocal Rank :  0.4781245815526048\n",
            "=================================================\n",
            "Classification Report\n",
            "=================================================\n",
            "              precision    recall  f1-score   support\n",
            "\n",
            "           0       0.96      0.99      0.98   3249590\n",
            "           1       0.49      0.12      0.20    149676\n",
            "\n",
            "    accuracy                           0.96   3399266\n",
            "   macro avg       0.73      0.56      0.59   3399266\n",
            "weighted avg       0.94      0.96      0.94   3399266\n",
            "\n",
            "Confusion Matrix\n",
            "================================================\n",
            "[[  18470   18856]\n",
            " [ 131206 3230734]]\n"
          ],
          "name": "stdout"
        }
      ]
    },
    {
      "cell_type": "code",
      "metadata": {
        "id": "_R7sEK1XIeXk",
        "colab_type": "code",
        "outputId": "2c6c6d86-bfe1-4cc1-d3a7-fcb7210b1f84",
        "colab": {
          "base_uri": "https://localhost:8080/",
          "height": 408
        }
      },
      "source": [
        "PrintMetrics('./modelsMore/LR_model.pkl', X_val_scaled, y_val, valData_sessions_item)"
      ],
      "execution_count": 0,
      "outputs": [
        {
          "output_type": "stream",
          "text": [
            "/usr/local/lib/python3.6/dist-packages/ipykernel_launcher.py:15: SettingWithCopyWarning: \n",
            "A value is trying to be set on a copy of a slice from a DataFrame.\n",
            "Try using .loc[row_indexer,col_indexer] = value instead\n",
            "\n",
            "See the caveats in the documentation: https://pandas.pydata.org/pandas-docs/stable/user_guide/indexing.html#returning-a-view-versus-a-copy\n",
            "  from ipykernel import kernelapp as app\n"
          ],
          "name": "stderr"
        },
        {
          "output_type": "stream",
          "text": [
            "Mean Reciprocal Rank :  0.47809684234265315\n",
            "=================================================\n",
            "Classification Report\n",
            "=================================================\n",
            "              precision    recall  f1-score   support\n",
            "\n",
            "           0       0.96      0.99      0.98   3249590\n",
            "           1       0.49      0.12      0.19    149676\n",
            "\n",
            "    accuracy                           0.96   3399266\n",
            "   macro avg       0.73      0.56      0.59   3399266\n",
            "weighted avg       0.94      0.96      0.94   3399266\n",
            "\n",
            "Confusion Matrix\n",
            "================================================\n",
            "[[  18109   18731]\n",
            " [ 131567 3230859]]\n"
          ],
          "name": "stdout"
        }
      ]
    },
    {
      "cell_type": "markdown",
      "metadata": {
        "id": "3lPBVXCiSOsr",
        "colab_type": "text"
      },
      "source": [
        "Adding more data to train the model did not actually make a difference, almost the same."
      ]
    },
    {
      "cell_type": "markdown",
      "metadata": {
        "id": "VUXvrnUxFltP",
        "colab_type": "text"
      },
      "source": [
        "#### Random Forest"
      ]
    },
    {
      "cell_type": "code",
      "metadata": {
        "colab_type": "code",
        "outputId": "4b654fca-90a5-4544-d554-6ac940ce0bd6",
        "id": "ErTYoStWLEiq",
        "colab": {
          "base_uri": "https://localhost:8080/",
          "height": 391
        }
      },
      "source": [
        "#metrics without adding more data\n",
        "PrintMetrics('./modelsMore/RF_model.pkl', X_val_scaled, y_val, valData_sessions_item)"
      ],
      "execution_count": 0,
      "outputs": [
        {
          "output_type": "stream",
          "text": [
            "/usr/local/lib/python3.6/dist-packages/ipykernel_launcher.py:15: SettingWithCopyWarning: \n",
            "A value is trying to be set on a copy of a slice from a DataFrame.\n",
            "Try using .loc[row_indexer,col_indexer] = value instead\n",
            "\n",
            "See the caveats in the documentation: http://pandas.pydata.org/pandas-docs/stable/user_guide/indexing.html#returning-a-view-versus-a-copy\n",
            "  from ipykernel import kernelapp as app\n"
          ],
          "name": "stderr"
        },
        {
          "output_type": "stream",
          "text": [
            "Mean Reciprocal Rank :  0.561075864904377\n",
            "Classification Report\n",
            "=================================================\n",
            "               precision    recall  f1-score   support\n",
            "\n",
            "           0       0.97      0.99      0.98   3249590\n",
            "           1       0.59      0.31      0.40    149676\n",
            "\n",
            "    accuracy                           0.96   3399266\n",
            "   macro avg       0.78      0.65      0.69   3399266\n",
            "weighted avg       0.95      0.96      0.95   3399266\n",
            "\n",
            "Conusion Matrix\n",
            "===============================================\n",
            " [[3217334   32256]\n",
            " [ 103960   45716]]\n"
          ],
          "name": "stdout"
        }
      ]
    },
    {
      "cell_type": "code",
      "metadata": {
        "id": "fY8f2myQKDQw",
        "colab_type": "code",
        "colab": {
          "base_uri": "https://localhost:8080/",
          "height": 408
        },
        "outputId": "fcac8e2e-1c70-4f87-b6f8-908fcf2297fb"
      },
      "source": [
        "#metrics after adding more data\n",
        "PrintMetrics('./modelsMore/RF_model.pkl', X_val_scaled, y_val, valData_sessions_item)"
      ],
      "execution_count": 14,
      "outputs": [
        {
          "output_type": "stream",
          "text": [
            "/usr/local/lib/python3.6/dist-packages/ipykernel_launcher.py:15: SettingWithCopyWarning: \n",
            "A value is trying to be set on a copy of a slice from a DataFrame.\n",
            "Try using .loc[row_indexer,col_indexer] = value instead\n",
            "\n",
            "See the caveats in the documentation: https://pandas.pydata.org/pandas-docs/stable/user_guide/indexing.html#returning-a-view-versus-a-copy\n",
            "  from ipykernel import kernelapp as app\n"
          ],
          "name": "stderr"
        },
        {
          "output_type": "stream",
          "text": [
            "Mean Reciprocal Rank :  0.5676250317629644\n",
            "=================================================\n",
            "Classification Report\n",
            "=================================================\n",
            "              precision    recall  f1-score   support\n",
            "\n",
            "           0       0.97      0.98      0.98   3249590\n",
            "           1       0.50      0.35      0.41    149676\n",
            "\n",
            "    accuracy                           0.96   3399266\n",
            "   macro avg       0.73      0.67      0.70   3399266\n",
            "weighted avg       0.95      0.96      0.95   3399266\n",
            "\n",
            "Confusion Matrix\n",
            "================================================\n",
            "[[  53027   53373]\n",
            " [  96649 3196217]]\n"
          ],
          "name": "stdout"
        }
      ]
    },
    {
      "cell_type": "markdown",
      "metadata": {
        "id": "KdHedli4LVMf",
        "colab_type": "text"
      },
      "source": [
        "Mean Reciprocal Rank value increased slightly, which means training for more data helped the model enhance predictions and recommendations. The increase in the data would have been more significant if it was done on the whole dataset."
      ]
    },
    {
      "cell_type": "markdown",
      "metadata": {
        "id": "NCsZ7_ohF5jB",
        "colab_type": "text"
      },
      "source": [
        "####XGBoost"
      ]
    },
    {
      "cell_type": "code",
      "metadata": {
        "id": "il-fwbxoKhov",
        "colab_type": "code",
        "outputId": "8d5c5836-5bc9-4559-e85a-59561912fa0d",
        "colab": {
          "base_uri": "https://localhost:8080/",
          "height": 391
        }
      },
      "source": [
        "PrintMetrics('./models/XGBoost_model.pkl', X_val_scaled, y_val, valData_sessions_item)"
      ],
      "execution_count": 0,
      "outputs": [
        {
          "output_type": "stream",
          "text": [
            "/usr/local/lib/python3.6/dist-packages/ipykernel_launcher.py:15: SettingWithCopyWarning: \n",
            "A value is trying to be set on a copy of a slice from a DataFrame.\n",
            "Try using .loc[row_indexer,col_indexer] = value instead\n",
            "\n",
            "See the caveats in the documentation: http://pandas.pydata.org/pandas-docs/stable/user_guide/indexing.html#returning-a-view-versus-a-copy\n",
            "  from ipykernel import kernelapp as app\n"
          ],
          "name": "stderr"
        },
        {
          "output_type": "stream",
          "text": [
            "Mean Reciprocal Rank :  0.5655116470914219\n",
            "Classification Report\n",
            "=================================================\n",
            "               precision    recall  f1-score   support\n",
            "\n",
            "           0       0.97      0.99      0.98   3249590\n",
            "           1       0.57      0.30      0.40    149676\n",
            "\n",
            "    accuracy                           0.96   3399266\n",
            "   macro avg       0.77      0.65      0.69   3399266\n",
            "weighted avg       0.95      0.96      0.95   3399266\n",
            "\n",
            "Conusion Matrix\n",
            "===============================================\n",
            " [[3215292   34298]\n",
            " [ 104293   45383]]\n"
          ],
          "name": "stdout"
        }
      ]
    },
    {
      "cell_type": "markdown",
      "metadata": {
        "id": "harn_bn3ceXv",
        "colab_type": "text"
      },
      "source": [
        "Train a model with the least parameters and see what the output is."
      ]
    },
    {
      "cell_type": "code",
      "metadata": {
        "id": "unM3tfZnUzkD",
        "colab_type": "code",
        "outputId": "e713ae12-c586-47a0-cd67-5203ce2fec2b",
        "colab": {
          "base_uri": "https://localhost:8080/",
          "height": 391
        }
      },
      "source": [
        "PrintMetrics('./models/XGBoost_model.pkl', X_val_scaled, y_val, valData_sessions_item)"
      ],
      "execution_count": 0,
      "outputs": [
        {
          "output_type": "stream",
          "text": [
            "/usr/local/lib/python3.6/dist-packages/ipykernel_launcher.py:15: SettingWithCopyWarning: \n",
            "A value is trying to be set on a copy of a slice from a DataFrame.\n",
            "Try using .loc[row_indexer,col_indexer] = value instead\n",
            "\n",
            "See the caveats in the documentation: http://pandas.pydata.org/pandas-docs/stable/user_guide/indexing.html#returning-a-view-versus-a-copy\n",
            "  from ipykernel import kernelapp as app\n"
          ],
          "name": "stderr"
        },
        {
          "output_type": "stream",
          "text": [
            "Mean Reciprocal Rank :  0.5595317920589848\n",
            "Classification Report\n",
            "=================================================\n",
            "               precision    recall  f1-score   support\n",
            "\n",
            "           0       0.96      1.00      0.98   3249590\n",
            "           1       0.70      0.11      0.19    149676\n",
            "\n",
            "    accuracy                           0.96   3399266\n",
            "   macro avg       0.83      0.55      0.58   3399266\n",
            "weighted avg       0.95      0.96      0.94   3399266\n",
            "\n",
            "Conusion Matrix\n",
            "=====================================================\n",
            " [[3242537    7053]\n",
            " [ 133206   16470]]\n"
          ],
          "name": "stdout"
        }
      ]
    },
    {
      "cell_type": "code",
      "metadata": {
        "id": "-JlXxO_xakRi",
        "colab_type": "code",
        "outputId": "c5ba7e77-46a9-4999-a22a-7f5f20ed965b",
        "colab": {
          "base_uri": "https://localhost:8080/",
          "height": 462
        }
      },
      "source": [
        "PrintMetrics('./models/XGBoost_model.pkl', X_val_scaled, y_val, valData_sessions_item)"
      ],
      "execution_count": 0,
      "outputs": [
        {
          "output_type": "stream",
          "text": [
            "/usr/local/lib/python3.6/dist-packages/ipykernel_launcher.py:15: SettingWithCopyWarning: \n",
            "A value is trying to be set on a copy of a slice from a DataFrame.\n",
            "Try using .loc[row_indexer,col_indexer] = value instead\n",
            "\n",
            "See the caveats in the documentation: http://pandas.pydata.org/pandas-docs/stable/user_guide/indexing.html#returning-a-view-versus-a-copy\n",
            "  from ipykernel import kernelapp as app\n"
          ],
          "name": "stderr"
        },
        {
          "output_type": "stream",
          "text": [
            "Mean Reciprocal Rank :  0.5837948821477086 \n",
            "====================================\n"
          ],
          "name": "stdout"
        },
        {
          "output_type": "stream",
          "text": [
            "/usr/local/lib/python3.6/dist-packages/sklearn/metrics/_classification.py:1272: UndefinedMetricWarning: Precision and F-score are ill-defined and being set to 0.0 in labels with no predicted samples. Use `zero_division` parameter to control this behavior.\n",
            "  _warn_prf(average, modifier, msg_start, len(result))\n"
          ],
          "name": "stderr"
        },
        {
          "output_type": "stream",
          "text": [
            "Classification Report\n",
            "=================================================\n",
            "               precision    recall  f1-score   support\n",
            "\n",
            "           0       0.96      1.00      0.98   3249590\n",
            "           1       0.00      0.00      0.00    149676\n",
            "\n",
            "    accuracy                           0.96   3399266\n",
            "   macro avg       0.48      0.50      0.49   3399266\n",
            "weighted avg       0.91      0.96      0.93   3399266\n",
            "\n",
            "Confusion Matrix\n",
            "=====================================================\n",
            " [[3249590       0]\n",
            " [ 149676       0]]\n"
          ],
          "name": "stdout"
        }
      ]
    },
    {
      "cell_type": "code",
      "metadata": {
        "id": "LecxIQfKKN2z",
        "colab_type": "code",
        "colab": {}
      },
      "source": [
        "PrintMetrics('./modelsMore/XGBoost_model.pkl', X_val_scaled, y_val, valData_sessions_item)"
      ],
      "execution_count": 0,
      "outputs": []
    },
    {
      "cell_type": "markdown",
      "metadata": {
        "id": "UMaEbLhgHOmy",
        "colab_type": "text"
      },
      "source": [
        "### With SMOTE"
      ]
    },
    {
      "cell_type": "markdown",
      "metadata": {
        "id": "5S37bRTsHRSQ",
        "colab_type": "text"
      },
      "source": [
        "####Logistic Regression"
      ]
    },
    {
      "cell_type": "code",
      "metadata": {
        "id": "70AU1CarPRxb",
        "colab_type": "code",
        "outputId": "6bc9134b-3751-4169-f767-ca9e833c3f59",
        "colab": {
          "base_uri": "https://localhost:8080/",
          "height": 391
        }
      },
      "source": [
        "PrintMetrics('./modelsSMOTE/LR_modelSMOTE.pkl', X_val_scaled, y_val, valData_sessions_item)"
      ],
      "execution_count": 0,
      "outputs": [
        {
          "output_type": "stream",
          "text": [
            "/usr/local/lib/python3.6/dist-packages/ipykernel_launcher.py:15: SettingWithCopyWarning: \n",
            "A value is trying to be set on a copy of a slice from a DataFrame.\n",
            "Try using .loc[row_indexer,col_indexer] = value instead\n",
            "\n",
            "See the caveats in the documentation: http://pandas.pydata.org/pandas-docs/stable/user_guide/indexing.html#returning-a-view-versus-a-copy\n",
            "  from ipykernel import kernelapp as app\n"
          ],
          "name": "stderr"
        },
        {
          "output_type": "stream",
          "text": [
            "Mean Reciprocal Rank :  0.4694871489433295\n",
            "Classification Report\n",
            "=================================================\n",
            "               precision    recall  f1-score   support\n",
            "\n",
            "           0       0.98      0.80      0.88   3249590\n",
            "           1       0.13      0.64      0.21    149676\n",
            "\n",
            "    accuracy                           0.79   3399266\n",
            "   macro avg       0.55      0.72      0.55   3399266\n",
            "weighted avg       0.94      0.79      0.85   3399266\n",
            "\n",
            "Conusion Matrix\n",
            "===============================================\n",
            " [[2594331  655259]\n",
            " [  53261   96415]]\n"
          ],
          "name": "stdout"
        }
      ]
    },
    {
      "cell_type": "markdown",
      "metadata": {
        "id": "DtESc0X75lYi",
        "colab_type": "text"
      },
      "source": [
        "#### Random Forest"
      ]
    },
    {
      "cell_type": "code",
      "metadata": {
        "id": "BloBxO84QhNW",
        "colab_type": "code",
        "outputId": "e3fd0a52-c9d9-4799-ba2c-2b0b95898f56",
        "colab": {
          "base_uri": "https://localhost:8080/",
          "height": 391
        }
      },
      "source": [
        "PrintMetrics('./modelsSMOTE/RF_SMOTEmodel.pkl', X_val_scaled, y_val, valData_sessions_item)"
      ],
      "execution_count": 0,
      "outputs": [
        {
          "output_type": "stream",
          "text": [
            "/usr/local/lib/python3.6/dist-packages/ipykernel_launcher.py:15: SettingWithCopyWarning: \n",
            "A value is trying to be set on a copy of a slice from a DataFrame.\n",
            "Try using .loc[row_indexer,col_indexer] = value instead\n",
            "\n",
            "See the caveats in the documentation: http://pandas.pydata.org/pandas-docs/stable/user_guide/indexing.html#returning-a-view-versus-a-copy\n",
            "  from ipykernel import kernelapp as app\n"
          ],
          "name": "stderr"
        },
        {
          "output_type": "stream",
          "text": [
            "Mean Reciprocal Rank :  0.5540867336740866\n",
            "Classification Report\n",
            "=================================================\n",
            "               precision    recall  f1-score   support\n",
            "\n",
            "           0       0.97      0.99      0.98   3249590\n",
            "           1       0.58      0.31      0.40    149676\n",
            "\n",
            "    accuracy                           0.96   3399266\n",
            "   macro avg       0.78      0.65      0.69   3399266\n",
            "weighted avg       0.95      0.96      0.95   3399266\n",
            "\n",
            "Conusion Matrix\n",
            "===============================================\n",
            " [[3217129   32461]\n",
            " [ 103994   45682]]\n"
          ],
          "name": "stdout"
        }
      ]
    },
    {
      "cell_type": "code",
      "metadata": {
        "id": "XV56Yq-xiLdE",
        "colab_type": "code",
        "outputId": "2d85973c-b51a-4d3d-e86e-2deb4991b675",
        "colab": {
          "base_uri": "https://localhost:8080/",
          "height": 391
        }
      },
      "source": [
        "PrintMetrics('./modelsSMOTE/RF_modelSMOTE.pkl', X_val_scaled, y_val, valData_sessions_item)"
      ],
      "execution_count": 0,
      "outputs": [
        {
          "output_type": "stream",
          "text": [
            "/usr/local/lib/python3.6/dist-packages/ipykernel_launcher.py:15: SettingWithCopyWarning: \n",
            "A value is trying to be set on a copy of a slice from a DataFrame.\n",
            "Try using .loc[row_indexer,col_indexer] = value instead\n",
            "\n",
            "See the caveats in the documentation: http://pandas.pydata.org/pandas-docs/stable/user_guide/indexing.html#returning-a-view-versus-a-copy\n",
            "  from ipykernel import kernelapp as app\n"
          ],
          "name": "stderr"
        },
        {
          "output_type": "stream",
          "text": [
            "Mean Reciprocal Rank :  0.5156955682610294\n",
            "Classification Report\n",
            "=================================================\n",
            "               precision    recall  f1-score   support\n",
            "\n",
            "           0       0.98      0.64      0.78   3249590\n",
            "           1       0.08      0.71      0.15    149676\n",
            "\n",
            "    accuracy                           0.64   3399266\n",
            "   macro avg       0.53      0.67      0.46   3399266\n",
            "weighted avg       0.94      0.64      0.75   3399266\n",
            "\n",
            "Conusion Matrix\n",
            "=====================================================\n",
            " [[2084144 1165446]\n",
            " [  43730  105946]]\n"
          ],
          "name": "stdout"
        }
      ]
    },
    {
      "cell_type": "markdown",
      "metadata": {
        "id": "z-8AxzHA6wnW",
        "colab_type": "text"
      },
      "source": [
        "#### XGBoost"
      ]
    },
    {
      "cell_type": "code",
      "metadata": {
        "id": "ZEcplXXxQx0V",
        "colab_type": "code",
        "outputId": "e3c7ec9a-42a9-4244-9036-2526addc2c71",
        "colab": {
          "base_uri": "https://localhost:8080/",
          "height": 391
        }
      },
      "source": [
        "PrintMetrics('./modelsSMOTE/XGBoostSMOTE.pkl', X_val_scaled, y_val, valData_sessions_item)"
      ],
      "execution_count": 0,
      "outputs": [
        {
          "output_type": "stream",
          "text": [
            "/usr/local/lib/python3.6/dist-packages/ipykernel_launcher.py:15: SettingWithCopyWarning: \n",
            "A value is trying to be set on a copy of a slice from a DataFrame.\n",
            "Try using .loc[row_indexer,col_indexer] = value instead\n",
            "\n",
            "See the caveats in the documentation: http://pandas.pydata.org/pandas-docs/stable/user_guide/indexing.html#returning-a-view-versus-a-copy\n",
            "  from ipykernel import kernelapp as app\n"
          ],
          "name": "stderr"
        },
        {
          "output_type": "stream",
          "text": [
            "Mean Reciprocal Rank :  0.5312985317511649\n",
            "Classification Report\n",
            "=================================================\n",
            "               precision    recall  f1-score   support\n",
            "\n",
            "           0       0.98      0.70      0.82   3249590\n",
            "           1       0.10      0.70      0.17    149676\n",
            "\n",
            "    accuracy                           0.70   3399266\n",
            "   macro avg       0.54      0.70      0.49   3399266\n",
            "weighted avg       0.94      0.70      0.79   3399266\n",
            "\n",
            "Conusion Matrix\n",
            "===============================================\n",
            " [[2272863  976727]\n",
            " [  44829  104847]]\n"
          ],
          "name": "stdout"
        }
      ]
    },
    {
      "cell_type": "markdown",
      "metadata": {
        "id": "dOJhsiwWoOtu",
        "colab_type": "text"
      },
      "source": [
        "### With Undersampling"
      ]
    },
    {
      "cell_type": "markdown",
      "metadata": {
        "id": "IG9n_y4yoR02",
        "colab_type": "text"
      },
      "source": [
        "#### Logistic Regression"
      ]
    },
    {
      "cell_type": "code",
      "metadata": {
        "id": "fJM4gsePRLE8",
        "colab_type": "code",
        "outputId": "693011c4-b2d1-4425-f2e5-4da52fd7e309",
        "colab": {
          "base_uri": "https://localhost:8080/",
          "height": 391
        }
      },
      "source": [
        "PrintMetrics('./modelsUnderSampling/LR_modelUndersampling.pkl', X_val_scaled, y_val, valData_sessions_item)"
      ],
      "execution_count": 0,
      "outputs": [
        {
          "output_type": "stream",
          "text": [
            "/usr/local/lib/python3.6/dist-packages/ipykernel_launcher.py:15: SettingWithCopyWarning: \n",
            "A value is trying to be set on a copy of a slice from a DataFrame.\n",
            "Try using .loc[row_indexer,col_indexer] = value instead\n",
            "\n",
            "See the caveats in the documentation: http://pandas.pydata.org/pandas-docs/stable/user_guide/indexing.html#returning-a-view-versus-a-copy\n",
            "  from ipykernel import kernelapp as app\n"
          ],
          "name": "stderr"
        },
        {
          "output_type": "stream",
          "text": [
            "Mean Reciprocal Rank :  0.46915470104643736\n",
            "Classification Report\n",
            "=================================================\n",
            "               precision    recall  f1-score   support\n",
            "\n",
            "           0       0.98      0.80      0.88   3249590\n",
            "           1       0.13      0.64      0.21    149676\n",
            "\n",
            "    accuracy                           0.79   3399266\n",
            "   macro avg       0.55      0.72      0.55   3399266\n",
            "weighted avg       0.94      0.79      0.85   3399266\n",
            "\n",
            "Conusion Matrix\n",
            "===============================================\n",
            " [[2596866  652724]\n",
            " [  53332   96344]]\n"
          ],
          "name": "stdout"
        }
      ]
    },
    {
      "cell_type": "markdown",
      "metadata": {
        "id": "d_FplZiyPDHh",
        "colab_type": "text"
      },
      "source": [
        "#### Random Forest"
      ]
    },
    {
      "cell_type": "code",
      "metadata": {
        "id": "S49aC8IaRa6K",
        "colab_type": "code",
        "outputId": "e0cc70bb-4ba5-4bb8-e152-5da0cdaf7b24",
        "colab": {
          "base_uri": "https://localhost:8080/",
          "height": 391
        }
      },
      "source": [
        "PrintMetrics('./modelsUnderSampling/RF_modelUnderSampling.pkl', X_val_scaled, y_val, valData_sessions_item)"
      ],
      "execution_count": 0,
      "outputs": [
        {
          "output_type": "stream",
          "text": [
            "/usr/local/lib/python3.6/dist-packages/ipykernel_launcher.py:15: SettingWithCopyWarning: \n",
            "A value is trying to be set on a copy of a slice from a DataFrame.\n",
            "Try using .loc[row_indexer,col_indexer] = value instead\n",
            "\n",
            "See the caveats in the documentation: http://pandas.pydata.org/pandas-docs/stable/user_guide/indexing.html#returning-a-view-versus-a-copy\n",
            "  from ipykernel import kernelapp as app\n"
          ],
          "name": "stderr"
        },
        {
          "output_type": "stream",
          "text": [
            "Mean Reciprocal Rank :  0.5551711886318428\n",
            "Classification Report\n",
            "=================================================\n",
            "               precision    recall  f1-score   support\n",
            "\n",
            "           0       0.98      0.88      0.93   3249590\n",
            "           1       0.19      0.61      0.29    149676\n",
            "\n",
            "    accuracy                           0.87   3399266\n",
            "   macro avg       0.59      0.75      0.61   3399266\n",
            "weighted avg       0.95      0.87      0.90   3399266\n",
            "\n",
            "Conusion Matrix\n",
            "===============================================\n",
            " [[2863288  386302]\n",
            " [  58368   91308]]\n"
          ],
          "name": "stdout"
        }
      ]
    },
    {
      "cell_type": "code",
      "metadata": {
        "id": "DnHQ7GEhPFJi",
        "colab_type": "code",
        "outputId": "c8a776d5-3eb3-459c-eba8-1093dc61f30e",
        "colab": {
          "base_uri": "https://localhost:8080/",
          "height": 136
        }
      },
      "source": [
        "clickout_rank, DF_Probabilities = get_probabilities('./modelsUnderSampling/RF_modelUnderSampling.pkl',\n",
        "                                                    X_val_scaled, valData_sessions_item)\n",
        "mean_reciprocal_rank(clickout_rank)"
      ],
      "execution_count": 0,
      "outputs": [
        {
          "output_type": "stream",
          "text": [
            "/usr/local/lib/python3.6/dist-packages/ipykernel_launcher.py:15: SettingWithCopyWarning: \n",
            "A value is trying to be set on a copy of a slice from a DataFrame.\n",
            "Try using .loc[row_indexer,col_indexer] = value instead\n",
            "\n",
            "See the caveats in the documentation: http://pandas.pydata.org/pandas-docs/stable/user_guide/indexing.html#returning-a-view-versus-a-copy\n",
            "  from ipykernel import kernelapp as app\n"
          ],
          "name": "stderr"
        },
        {
          "output_type": "execute_result",
          "data": {
            "text/plain": [
              "0.5551711886318428"
            ]
          },
          "metadata": {
            "tags": []
          },
          "execution_count": 11
        }
      ]
    },
    {
      "cell_type": "markdown",
      "metadata": {
        "id": "sXX8Zg_s9qyI",
        "colab_type": "text"
      },
      "source": [
        "#### XGBoost"
      ]
    },
    {
      "cell_type": "code",
      "metadata": {
        "id": "4OS8Xm45Rg8f",
        "colab_type": "code",
        "colab": {}
      },
      "source": [
        "PrintMetrics('./modelsUnderSampling/XGBoost_UnderSampling.pkl', X_val_scaled, y_val, valData_sessions_item)"
      ],
      "execution_count": 0,
      "outputs": []
    },
    {
      "cell_type": "code",
      "metadata": {
        "id": "jsF_xvtu9od3",
        "colab_type": "code",
        "outputId": "80d98b20-78fc-49cc-f768-e5334ef2e8d7",
        "colab": {
          "base_uri": "https://localhost:8080/",
          "height": 136
        }
      },
      "source": [
        "clickout_rank, DF_Probabilities = get_probabilities('./modelsUnderSampling/XGBoost_UndersSampling.pkl', X_val_scaled, valData_sessions_item)\n",
        "mean_reciprocal_rank(clickout_rank)"
      ],
      "execution_count": 0,
      "outputs": [
        {
          "output_type": "stream",
          "text": [
            "/usr/local/lib/python3.6/dist-packages/ipykernel_launcher.py:15: SettingWithCopyWarning: \n",
            "A value is trying to be set on a copy of a slice from a DataFrame.\n",
            "Try using .loc[row_indexer,col_indexer] = value instead\n",
            "\n",
            "See the caveats in the documentation: http://pandas.pydata.org/pandas-docs/stable/user_guide/indexing.html#returning-a-view-versus-a-copy\n",
            "  from ipykernel import kernelapp as app\n"
          ],
          "name": "stderr"
        },
        {
          "output_type": "execute_result",
          "data": {
            "text/plain": [
              "0.5601924601401805"
            ]
          },
          "metadata": {
            "tags": []
          },
          "execution_count": 8
        }
      ]
    },
    {
      "cell_type": "markdown",
      "metadata": {
        "id": "hk12Lds1ibZv",
        "colab_type": "text"
      },
      "source": [
        "## Submission"
      ]
    },
    {
      "cell_type": "markdown",
      "metadata": {
        "id": "_nTh7w_p1Z87",
        "colab_type": "text"
      },
      "source": [
        "In the future, the challenge might be a public competition, in that case transformation of the output is needed."
      ]
    },
    {
      "cell_type": "code",
      "metadata": {
        "id": "YHLo6Dbictqv",
        "colab_type": "code",
        "outputId": "c4c48fb0-1fed-46c3-854a-310a199ba3e9",
        "colab": {
          "base_uri": "https://localhost:8080/",
          "height": 394
        }
      },
      "source": [
        "test_set_filepath = './Datasets/raw_data/test.csv'\n",
        "test_set = pd.read_csv(test_set_filepath)\n",
        "test_set.head()"
      ],
      "execution_count": 0,
      "outputs": [
        {
          "output_type": "execute_result",
          "data": {
            "text/html": [
              "<div>\n",
              "<style scoped>\n",
              "    .dataframe tbody tr th:only-of-type {\n",
              "        vertical-align: middle;\n",
              "    }\n",
              "\n",
              "    .dataframe tbody tr th {\n",
              "        vertical-align: top;\n",
              "    }\n",
              "\n",
              "    .dataframe thead th {\n",
              "        text-align: right;\n",
              "    }\n",
              "</style>\n",
              "<table border=\"1\" class=\"dataframe\">\n",
              "  <thead>\n",
              "    <tr style=\"text-align: right;\">\n",
              "      <th></th>\n",
              "      <th>user_id</th>\n",
              "      <th>session_id</th>\n",
              "      <th>timestamp</th>\n",
              "      <th>step</th>\n",
              "      <th>action_type</th>\n",
              "      <th>reference</th>\n",
              "      <th>platform</th>\n",
              "      <th>city</th>\n",
              "      <th>device</th>\n",
              "      <th>current_filters</th>\n",
              "      <th>impressions</th>\n",
              "      <th>prices</th>\n",
              "    </tr>\n",
              "  </thead>\n",
              "  <tbody>\n",
              "    <tr>\n",
              "      <th>0</th>\n",
              "      <td>004A07DM0IDW</td>\n",
              "      <td>1d688ec168932</td>\n",
              "      <td>1541555614</td>\n",
              "      <td>1</td>\n",
              "      <td>interaction item image</td>\n",
              "      <td>2059240</td>\n",
              "      <td>CO</td>\n",
              "      <td>Santa Marta, Colombia</td>\n",
              "      <td>mobile</td>\n",
              "      <td>NaN</td>\n",
              "      <td>NaN</td>\n",
              "      <td>NaN</td>\n",
              "    </tr>\n",
              "    <tr>\n",
              "      <th>1</th>\n",
              "      <td>004A07DM0IDW</td>\n",
              "      <td>1d688ec168932</td>\n",
              "      <td>1541555614</td>\n",
              "      <td>2</td>\n",
              "      <td>interaction item image</td>\n",
              "      <td>2059240</td>\n",
              "      <td>CO</td>\n",
              "      <td>Santa Marta, Colombia</td>\n",
              "      <td>mobile</td>\n",
              "      <td>NaN</td>\n",
              "      <td>NaN</td>\n",
              "      <td>NaN</td>\n",
              "    </tr>\n",
              "    <tr>\n",
              "      <th>2</th>\n",
              "      <td>004A07DM0IDW</td>\n",
              "      <td>1d688ec168932</td>\n",
              "      <td>1541555696</td>\n",
              "      <td>3</td>\n",
              "      <td>clickout item</td>\n",
              "      <td>1050068</td>\n",
              "      <td>CO</td>\n",
              "      <td>Santa Marta, Colombia</td>\n",
              "      <td>mobile</td>\n",
              "      <td>NaN</td>\n",
              "      <td>2059240|2033381|1724779|127131|399441|103357|1...</td>\n",
              "      <td>70|46|48|76|65|65|106|66|87|43|52|44|60|61|50|...</td>\n",
              "    </tr>\n",
              "    <tr>\n",
              "      <th>3</th>\n",
              "      <td>004A07DM0IDW</td>\n",
              "      <td>1d688ec168932</td>\n",
              "      <td>1541555707</td>\n",
              "      <td>4</td>\n",
              "      <td>clickout item</td>\n",
              "      <td>1050068</td>\n",
              "      <td>CO</td>\n",
              "      <td>Santa Marta, Colombia</td>\n",
              "      <td>mobile</td>\n",
              "      <td>NaN</td>\n",
              "      <td>2059240|2033381|1724779|127131|399441|103357|1...</td>\n",
              "      <td>70|46|48|76|65|65|106|66|87|43|52|44|60|61|50|...</td>\n",
              "    </tr>\n",
              "    <tr>\n",
              "      <th>4</th>\n",
              "      <td>004A07DM0IDW</td>\n",
              "      <td>1d688ec168932</td>\n",
              "      <td>1541555717</td>\n",
              "      <td>5</td>\n",
              "      <td>clickout item</td>\n",
              "      <td>1050068</td>\n",
              "      <td>CO</td>\n",
              "      <td>Santa Marta, Colombia</td>\n",
              "      <td>mobile</td>\n",
              "      <td>NaN</td>\n",
              "      <td>2059240|2033381|1724779|127131|399441|103357|1...</td>\n",
              "      <td>70|46|48|76|65|65|106|66|87|43|52|44|60|61|50|...</td>\n",
              "    </tr>\n",
              "  </tbody>\n",
              "</table>\n",
              "</div>"
            ],
            "text/plain": [
              "        user_id  ...                                             prices\n",
              "0  004A07DM0IDW  ...                                                NaN\n",
              "1  004A07DM0IDW  ...                                                NaN\n",
              "2  004A07DM0IDW  ...  70|46|48|76|65|65|106|66|87|43|52|44|60|61|50|...\n",
              "3  004A07DM0IDW  ...  70|46|48|76|65|65|106|66|87|43|52|44|60|61|50|...\n",
              "4  004A07DM0IDW  ...  70|46|48|76|65|65|106|66|87|43|52|44|60|61|50|...\n",
              "\n",
              "[5 rows x 12 columns]"
            ]
          },
          "metadata": {
            "tags": []
          },
          "execution_count": 16
        }
      ]
    },
    {
      "cell_type": "code",
      "metadata": {
        "id": "eP9HzyKzY6QD",
        "colab_type": "code",
        "outputId": "bf2e4bda-4cc1-490a-a0e3-dfb3671b36c2",
        "colab": {
          "base_uri": "https://localhost:8080/",
          "height": 204
        }
      },
      "source": [
        "submission_format_filepath = './Datasets/raw_data/submission_popular.csv'\n",
        "submission_format = pd.read_csv(submission_format_filepath)\n",
        "submission_format.head()"
      ],
      "execution_count": 0,
      "outputs": [
        {
          "output_type": "execute_result",
          "data": {
            "text/html": [
              "<div>\n",
              "<style scoped>\n",
              "    .dataframe tbody tr th:only-of-type {\n",
              "        vertical-align: middle;\n",
              "    }\n",
              "\n",
              "    .dataframe tbody tr th {\n",
              "        vertical-align: top;\n",
              "    }\n",
              "\n",
              "    .dataframe thead th {\n",
              "        text-align: right;\n",
              "    }\n",
              "</style>\n",
              "<table border=\"1\" class=\"dataframe\">\n",
              "  <thead>\n",
              "    <tr style=\"text-align: right;\">\n",
              "      <th></th>\n",
              "      <th>user_id</th>\n",
              "      <th>session_id</th>\n",
              "      <th>timestamp</th>\n",
              "      <th>step</th>\n",
              "      <th>item_recommendations</th>\n",
              "    </tr>\n",
              "  </thead>\n",
              "  <tbody>\n",
              "    <tr>\n",
              "      <th>0</th>\n",
              "      <td>000324D9BBUC</td>\n",
              "      <td>89643988fdbfb</td>\n",
              "      <td>1541593942</td>\n",
              "      <td>10</td>\n",
              "      <td>924795 106315 1033140 119494 101758 903037 105...</td>\n",
              "    </tr>\n",
              "    <tr>\n",
              "      <th>1</th>\n",
              "      <td>0004Q49X39PY</td>\n",
              "      <td>9de47d9a66494</td>\n",
              "      <td>1541641157</td>\n",
              "      <td>1</td>\n",
              "      <td>3505150 3812004 2227896 2292254 3184842 222702...</td>\n",
              "    </tr>\n",
              "    <tr>\n",
              "      <th>2</th>\n",
              "      <td>0004Q49X39PY</td>\n",
              "      <td>beea5c27030cb</td>\n",
              "      <td>1541561202</td>\n",
              "      <td>1</td>\n",
              "      <td>4476010 3505150 3812004 2227896 2292254 222702...</td>\n",
              "    </tr>\n",
              "    <tr>\n",
              "      <th>3</th>\n",
              "      <td>00071784XQ6B</td>\n",
              "      <td>9617600e1ba7c</td>\n",
              "      <td>1541630328</td>\n",
              "      <td>2</td>\n",
              "      <td>22854 3067559 22721 22713 16121 22772 22727 22...</td>\n",
              "    </tr>\n",
              "    <tr>\n",
              "      <th>4</th>\n",
              "      <td>0008BO33KUQ0</td>\n",
              "      <td>2d0e2102ee0dc</td>\n",
              "      <td>1541636411</td>\n",
              "      <td>6</td>\n",
              "      <td>9857656 5849628 655716 1352530 502066 1405084 ...</td>\n",
              "    </tr>\n",
              "  </tbody>\n",
              "</table>\n",
              "</div>"
            ],
            "text/plain": [
              "        user_id  ...                               item_recommendations\n",
              "0  000324D9BBUC  ...  924795 106315 1033140 119494 101758 903037 105...\n",
              "1  0004Q49X39PY  ...  3505150 3812004 2227896 2292254 3184842 222702...\n",
              "2  0004Q49X39PY  ...  4476010 3505150 3812004 2227896 2292254 222702...\n",
              "3  00071784XQ6B  ...  22854 3067559 22721 22713 16121 22772 22727 22...\n",
              "4  0008BO33KUQ0  ...  9857656 5849628 655716 1352530 502066 1405084 ...\n",
              "\n",
              "[5 rows x 5 columns]"
            ]
          },
          "metadata": {
            "tags": []
          },
          "execution_count": 17
        }
      ]
    },
    {
      "cell_type": "code",
      "metadata": {
        "id": "z4ZHi_fYenFF",
        "colab_type": "code",
        "colab": {}
      },
      "source": [
        "def transform_Recommendations(clickout_dataframe, RecommendationsDF):\n",
        "  ListOfItems = RecommendationsDF.reset_index(drop=True)[['session_id', 'item_id']].groupby('session_id', sort=False).item_id.apply(pd.Series.tolist).tolist()\n",
        "  SessionsListOfItems = pd.DataFrame({'session_id':RecommendationsDF.session_id.unique().tolist(),\n",
        "                                      'item_recommendations':ListOfItems})\n",
        "  SessionsListOfItems.item_recommendations = SessionsListOfItems.item_recommendations.apply(lambda x: ' '.join(x))\n",
        "  data = clickout_dataframe.merge(SessionsListOfItems, on='session_id', how='left')\n",
        "  return data"
      ],
      "execution_count": 0,
      "outputs": []
    },
    {
      "cell_type": "code",
      "metadata": {
        "id": "80FSDeydwiBZ",
        "colab_type": "code",
        "colab": {}
      },
      "source": [
        "def get_probabilities_submission(model_name, X, session_item_dataset):\n",
        "  '''\n",
        "  Desc: function that gets the probability of each item being selected by the user, rerank the items in the session based on the probabilites\n",
        "\n",
        "  Input: model_path: String with the name of the stored model\n",
        "         X: array of scaled features of the dataset\n",
        "         session_item_dataset: Pandas Dataframe with the sessions, items, and clickout\n",
        "        \n",
        "  Output: clickout_rank: List of lists that carries which item was selected in which rank\n",
        "          RecommendationsDF: Pandas Dataframe to be transformed and merged to the Clickout Dataframe\n",
        "  '''\n",
        "  model = joblib.load(model_name)\n",
        "  BothProbabilities = model.predict_proba(X)\n",
        "  Probabilities = [Probability[1] for Probability in BothProbabilities]\n",
        "  session_item_dataset['probability'] = Probabilities\n",
        "  RecommendationsDF = session_item_dataset.groupby(['session_id'], sort=False).apply(lambda x: (x.sort_values('probability', ascending=False)))\n",
        "  return RecommendationsDF"
      ],
      "execution_count": 0,
      "outputs": []
    },
    {
      "cell_type": "code",
      "metadata": {
        "id": "LI14f903Z227",
        "colab_type": "code",
        "colab": {}
      },
      "source": [
        "ListOfItems = Output.reset_index(drop=True)[['session_id', 'item_id']].groupby('session_id', sort=False).item_id.apply(pd.Series.tolist).tolist()\n",
        "SessionsListOfItems = pd.DataFrame({'session_id':Output.session_id.unique().tolist(),\n",
        "                                    'item_recommendations':ListOfItems})\n",
        "SessionsListOfItems.item_recommendations = SessionsListOfItems.item_recommendations.apply(lambda x: ' '.join(x))\n",
        "SessionsListOfItems.head()"
      ],
      "execution_count": 0,
      "outputs": []
    },
    {
      "cell_type": "code",
      "metadata": {
        "id": "ucU7aaLHjY16",
        "colab_type": "code",
        "outputId": "2166fb59-286d-4ba1-b6d2-768d617fc541",
        "colab": {
          "base_uri": "https://localhost:8080/",
          "height": 306
        }
      },
      "source": [
        "from data_transformation import data_transformation\n",
        "\n",
        "test_clickout = test_set[test_set.action_type=='clickout item'].groupby('session_id').tail(1)\n",
        "test_clickout = test_clickout[['user_id', 'session_id', 'timestamp', 'step']]\n",
        "test_set_transformed = data_transformation.transform_data(test_set)\n",
        "test_session_item = test_set_transformed[['session_id', 'item_id']]\n",
        "X_test_submission = test_set_transformed[features]\n",
        "X_test_submission_scaled = full_pipeline.fit_transform(X_test_submission)\n",
        "RecommendationsDF = get_probabilities_submission('modelsUnderSampling/LR_modelUndersampling.pkl', X_test_submission_scaled, test_session_item)\n",
        "SubmissionDF = transform_Recommendations(test_clickout, RecommendationsDF)\n",
        "SubmissionDF.head()"
      ],
      "execution_count": 0,
      "outputs": [
        {
          "output_type": "stream",
          "text": [
            "/usr/local/lib/python3.6/dist-packages/ipykernel_launcher.py:15: SettingWithCopyWarning: \n",
            "A value is trying to be set on a copy of a slice from a DataFrame.\n",
            "Try using .loc[row_indexer,col_indexer] = value instead\n",
            "\n",
            "See the caveats in the documentation: http://pandas.pydata.org/pandas-docs/stable/user_guide/indexing.html#returning-a-view-versus-a-copy\n",
            "  from ipykernel import kernelapp as app\n"
          ],
          "name": "stderr"
        },
        {
          "output_type": "execute_result",
          "data": {
            "text/html": [
              "<div>\n",
              "<style scoped>\n",
              "    .dataframe tbody tr th:only-of-type {\n",
              "        vertical-align: middle;\n",
              "    }\n",
              "\n",
              "    .dataframe tbody tr th {\n",
              "        vertical-align: top;\n",
              "    }\n",
              "\n",
              "    .dataframe thead th {\n",
              "        text-align: right;\n",
              "    }\n",
              "</style>\n",
              "<table border=\"1\" class=\"dataframe\">\n",
              "  <thead>\n",
              "    <tr style=\"text-align: right;\">\n",
              "      <th></th>\n",
              "      <th>user_id</th>\n",
              "      <th>session_id</th>\n",
              "      <th>timestamp</th>\n",
              "      <th>step</th>\n",
              "      <th>item_recommendations</th>\n",
              "    </tr>\n",
              "  </thead>\n",
              "  <tbody>\n",
              "    <tr>\n",
              "      <th>0</th>\n",
              "      <td>004A07DM0IDW</td>\n",
              "      <td>1d688ec168932</td>\n",
              "      <td>1541555799</td>\n",
              "      <td>7</td>\n",
              "      <td>399441 2033381 127131 2059240 1724779 103357 6...</td>\n",
              "    </tr>\n",
              "    <tr>\n",
              "      <th>1</th>\n",
              "      <td>009RGHI3G9A3</td>\n",
              "      <td>f05ab0de907e2</td>\n",
              "      <td>1541570940</td>\n",
              "      <td>2</td>\n",
              "      <td>10884872 7065316</td>\n",
              "    </tr>\n",
              "    <tr>\n",
              "      <th>2</th>\n",
              "      <td>00Y1Z24X8084</td>\n",
              "      <td>26b6d294d66e7</td>\n",
              "      <td>1541651823</td>\n",
              "      <td>2</td>\n",
              "      <td>3853058 4476010 7101352 3833012 2714480 934300...</td>\n",
              "    </tr>\n",
              "    <tr>\n",
              "      <th>3</th>\n",
              "      <td>01V3WDTDM5CU</td>\n",
              "      <td>07628a0f5be0b</td>\n",
              "      <td>1541575643</td>\n",
              "      <td>5</td>\n",
              "      <td>7950162 4115018 3180004 2817590 6434434 356572...</td>\n",
              "    </tr>\n",
              "    <tr>\n",
              "      <th>4</th>\n",
              "      <td>02AOAVF9PVYH</td>\n",
              "      <td>4a01c3afbc224</td>\n",
              "      <td>1541681278</td>\n",
              "      <td>46</td>\n",
              "      <td>7304020 559056 693596 1451247 1177554 1963879 ...</td>\n",
              "    </tr>\n",
              "  </tbody>\n",
              "</table>\n",
              "</div>"
            ],
            "text/plain": [
              "        user_id  ...                               item_recommendations\n",
              "0  004A07DM0IDW  ...  399441 2033381 127131 2059240 1724779 103357 6...\n",
              "1  009RGHI3G9A3  ...                                   10884872 7065316\n",
              "2  00Y1Z24X8084  ...  3853058 4476010 7101352 3833012 2714480 934300...\n",
              "3  01V3WDTDM5CU  ...  7950162 4115018 3180004 2817590 6434434 356572...\n",
              "4  02AOAVF9PVYH  ...  7304020 559056 693596 1451247 1177554 1963879 ...\n",
              "\n",
              "[5 rows x 5 columns]"
            ]
          },
          "metadata": {
            "tags": []
          },
          "execution_count": 23
        }
      ]
    },
    {
      "cell_type": "code",
      "metadata": {
        "id": "EE4LgRI0y2RG",
        "colab_type": "code",
        "colab": {}
      },
      "source": [
        "SubmissionDF.to_csv('./Datasets/clean_data/RecommendationsSubmission.csv', index=False)"
      ],
      "execution_count": 0,
      "outputs": []
    }
  ]
}