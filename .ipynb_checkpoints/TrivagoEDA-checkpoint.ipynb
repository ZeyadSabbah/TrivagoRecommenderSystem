{
 "cells": [
  {
   "cell_type": "markdown",
   "metadata": {},
   "source": [
    "# Trivago dataset EDA"
   ]
  },
  {
   "cell_type": "markdown",
   "metadata": {
    "colab_type": "text",
    "id": "sBljJ4HZqFBX"
   },
   "source": [
    "## Loading Libraries & Datasets"
   ]
  },
  {
   "cell_type": "code",
   "execution_count": 1,
   "metadata": {
    "colab": {},
    "colab_type": "code",
    "id": "Qb0zSLmkDlVb"
   },
   "outputs": [],
   "source": [
    "import pandas as pd\n",
    "import numpy as np\n",
    "from datetime import datetime\n",
    "from datetime import timedelta\n",
    "import math\n",
    "import matplotlib.pyplot as plt\n",
    "from datetime import datetime\n",
    "import re\n",
    "import random"
   ]
  },
  {
   "cell_type": "code",
   "execution_count": 2,
   "metadata": {
    "colab": {},
    "colab_type": "code",
    "id": "LLt4DmlfDzrj"
   },
   "outputs": [],
   "source": [
    "item_metadata_filepath = '../raw_data/item_metadata.csv'\n",
    "submission_popular_filepath = '../raw_data/submission_popular.csv'\n",
    "train_filepath = '../raw_data/train.csv'\n",
    "test_filepath = '../raw_data/test.csv'"
   ]
  },
  {
   "cell_type": "code",
   "execution_count": 3,
   "metadata": {
    "colab": {},
    "colab_type": "code",
    "id": "0VnrfKWLFdk9",
    "scrolled": true
   },
   "outputs": [],
   "source": [
    "submission_popular = pd.read_csv(submission_popular_filepath)\n",
    "item_metadata = pd.read_csv(item_metadata_filepath)\n",
    "train = pd.read_csv(train_filepath)\n",
    "test = pd.read_csv(test_filepath)"
   ]
  },
  {
   "cell_type": "markdown",
   "metadata": {
    "colab_type": "text",
    "id": "NmNnM6fhqPK_"
   },
   "source": [
    "## Understanding Different Satasets"
   ]
  },
  {
   "cell_type": "markdown",
   "metadata": {
    "colab_type": "text",
    "id": "gqROlpDui41N"
   },
   "source": [
    "### test"
   ]
  },
  {
   "cell_type": "code",
   "execution_count": 7,
   "metadata": {
    "colab": {
     "base_uri": "https://localhost:8080/",
     "height": 524
    },
    "colab_type": "code",
    "executionInfo": {
     "elapsed": 854,
     "status": "ok",
     "timestamp": 1581597368407,
     "user": {
      "displayName": "Zeyad Sabbah",
      "photoUrl": "https://lh3.googleusercontent.com/a-/AAuE7mCWyF9CghKcdnVGr84tRaYwPH0IEtaKjAE1o5R9dw=s64",
      "userId": "03977300836188616390"
     },
     "user_tz": 300
    },
    "id": "vVcEB4bIi-2J",
    "outputId": "ec336828-f28b-45d5-9798-9846e761980f"
   },
   "outputs": [
    {
     "data": {
      "text/html": [
       "<div>\n",
       "<style scoped>\n",
       "    .dataframe tbody tr th:only-of-type {\n",
       "        vertical-align: middle;\n",
       "    }\n",
       "\n",
       "    .dataframe tbody tr th {\n",
       "        vertical-align: top;\n",
       "    }\n",
       "\n",
       "    .dataframe thead th {\n",
       "        text-align: right;\n",
       "    }\n",
       "</style>\n",
       "<table border=\"1\" class=\"dataframe\">\n",
       "  <thead>\n",
       "    <tr style=\"text-align: right;\">\n",
       "      <th></th>\n",
       "      <th>user_id</th>\n",
       "      <th>session_id</th>\n",
       "      <th>timestamp</th>\n",
       "      <th>step</th>\n",
       "      <th>action_type</th>\n",
       "      <th>reference</th>\n",
       "      <th>platform</th>\n",
       "      <th>city</th>\n",
       "      <th>device</th>\n",
       "      <th>current_filters</th>\n",
       "      <th>impressions</th>\n",
       "      <th>prices</th>\n",
       "    </tr>\n",
       "  </thead>\n",
       "  <tbody>\n",
       "    <tr>\n",
       "      <th>0</th>\n",
       "      <td>004A07DM0IDW</td>\n",
       "      <td>1d688ec168932</td>\n",
       "      <td>1541555614</td>\n",
       "      <td>1</td>\n",
       "      <td>interaction item image</td>\n",
       "      <td>2059240</td>\n",
       "      <td>CO</td>\n",
       "      <td>Santa Marta, Colombia</td>\n",
       "      <td>mobile</td>\n",
       "      <td>NaN</td>\n",
       "      <td>NaN</td>\n",
       "      <td>NaN</td>\n",
       "    </tr>\n",
       "    <tr>\n",
       "      <th>1</th>\n",
       "      <td>004A07DM0IDW</td>\n",
       "      <td>1d688ec168932</td>\n",
       "      <td>1541555614</td>\n",
       "      <td>2</td>\n",
       "      <td>interaction item image</td>\n",
       "      <td>2059240</td>\n",
       "      <td>CO</td>\n",
       "      <td>Santa Marta, Colombia</td>\n",
       "      <td>mobile</td>\n",
       "      <td>NaN</td>\n",
       "      <td>NaN</td>\n",
       "      <td>NaN</td>\n",
       "    </tr>\n",
       "    <tr>\n",
       "      <th>2</th>\n",
       "      <td>004A07DM0IDW</td>\n",
       "      <td>1d688ec168932</td>\n",
       "      <td>1541555696</td>\n",
       "      <td>3</td>\n",
       "      <td>clickout item</td>\n",
       "      <td>1050068</td>\n",
       "      <td>CO</td>\n",
       "      <td>Santa Marta, Colombia</td>\n",
       "      <td>mobile</td>\n",
       "      <td>NaN</td>\n",
       "      <td>2059240|2033381|1724779|127131|399441|103357|1...</td>\n",
       "      <td>70|46|48|76|65|65|106|66|87|43|52|44|60|61|50|...</td>\n",
       "    </tr>\n",
       "    <tr>\n",
       "      <th>3</th>\n",
       "      <td>004A07DM0IDW</td>\n",
       "      <td>1d688ec168932</td>\n",
       "      <td>1541555707</td>\n",
       "      <td>4</td>\n",
       "      <td>clickout item</td>\n",
       "      <td>1050068</td>\n",
       "      <td>CO</td>\n",
       "      <td>Santa Marta, Colombia</td>\n",
       "      <td>mobile</td>\n",
       "      <td>NaN</td>\n",
       "      <td>2059240|2033381|1724779|127131|399441|103357|1...</td>\n",
       "      <td>70|46|48|76|65|65|106|66|87|43|52|44|60|61|50|...</td>\n",
       "    </tr>\n",
       "    <tr>\n",
       "      <th>4</th>\n",
       "      <td>004A07DM0IDW</td>\n",
       "      <td>1d688ec168932</td>\n",
       "      <td>1541555717</td>\n",
       "      <td>5</td>\n",
       "      <td>clickout item</td>\n",
       "      <td>1050068</td>\n",
       "      <td>CO</td>\n",
       "      <td>Santa Marta, Colombia</td>\n",
       "      <td>mobile</td>\n",
       "      <td>NaN</td>\n",
       "      <td>2059240|2033381|1724779|127131|399441|103357|1...</td>\n",
       "      <td>70|46|48|76|65|65|106|66|87|43|52|44|60|61|50|...</td>\n",
       "    </tr>\n",
       "    <tr>\n",
       "      <th>5</th>\n",
       "      <td>004A07DM0IDW</td>\n",
       "      <td>1d688ec168932</td>\n",
       "      <td>1541555792</td>\n",
       "      <td>6</td>\n",
       "      <td>clickout item</td>\n",
       "      <td>3241426</td>\n",
       "      <td>CO</td>\n",
       "      <td>Santa Marta, Colombia</td>\n",
       "      <td>mobile</td>\n",
       "      <td>NaN</td>\n",
       "      <td>2059240|2033381|1724779|127131|399441|103357|1...</td>\n",
       "      <td>70|46|48|76|65|65|106|66|87|43|52|44|60|61|50|...</td>\n",
       "    </tr>\n",
       "    <tr>\n",
       "      <th>6</th>\n",
       "      <td>004A07DM0IDW</td>\n",
       "      <td>1d688ec168932</td>\n",
       "      <td>1541555799</td>\n",
       "      <td>7</td>\n",
       "      <td>clickout item</td>\n",
       "      <td>NaN</td>\n",
       "      <td>CO</td>\n",
       "      <td>Santa Marta, Colombia</td>\n",
       "      <td>mobile</td>\n",
       "      <td>NaN</td>\n",
       "      <td>2059240|2033381|1724779|127131|399441|103357|1...</td>\n",
       "      <td>70|46|48|76|65|65|106|66|87|43|52|44|60|61|50|...</td>\n",
       "    </tr>\n",
       "  </tbody>\n",
       "</table>\n",
       "</div>"
      ],
      "text/plain": [
       "        user_id  ...                                             prices\n",
       "0  004A07DM0IDW  ...                                                NaN\n",
       "1  004A07DM0IDW  ...                                                NaN\n",
       "2  004A07DM0IDW  ...  70|46|48|76|65|65|106|66|87|43|52|44|60|61|50|...\n",
       "3  004A07DM0IDW  ...  70|46|48|76|65|65|106|66|87|43|52|44|60|61|50|...\n",
       "4  004A07DM0IDW  ...  70|46|48|76|65|65|106|66|87|43|52|44|60|61|50|...\n",
       "5  004A07DM0IDW  ...  70|46|48|76|65|65|106|66|87|43|52|44|60|61|50|...\n",
       "6  004A07DM0IDW  ...  70|46|48|76|65|65|106|66|87|43|52|44|60|61|50|...\n",
       "\n",
       "[7 rows x 12 columns]"
      ]
     },
     "execution_count": 7,
     "metadata": {
      "tags": []
     },
     "output_type": "execute_result"
    }
   ],
   "source": [
    "test[test['session_id'] == '1d688ec168932']"
   ]
  },
  {
   "cell_type": "markdown",
   "metadata": {
    "colab_type": "text",
    "id": "_AxdHwt1jLaA"
   },
   "source": [
    "The reference value in the last index is removed, this is the label that the prediction metrics is calculated upon.\n",
    "The prediction should be on value of the impression list, the metric used to evaluate submissions is mean reciprocal rank.\n",
    "\n",
    "**Example:**\n",
    "\n",
    "\n",
    "**query 1:**\n",
    "\n",
    "impressions = [100, 101, 102, 103, 104, 105]\n",
    "\n",
    "clicked_item_id = 102\n",
    "\n",
    "submission = [101, 103, 104, 102, 105, 100]\n",
    "\n",
    "reciprocal rank = 0.25\n",
    "\n",
    "\n",
    "\n",
    "\n",
    "**query 2:**\n",
    "\n",
    "impression = [101, 103, 104, 100, 105]\n",
    "\n",
    "clicked_item_id = 105\n",
    "\n",
    "submission = [103, 105, 101, 100, 104]\n",
    "\n",
    "reciprocal rank = 0.5\n",
    "\n",
    "mrr = (0.25 + 0.5) / 2 = 0.375"
   ]
  },
  {
   "cell_type": "code",
   "execution_count": 15,
   "metadata": {
    "colab": {
     "base_uri": "https://localhost:8080/",
     "height": 51
    },
    "colab_type": "code",
    "executionInfo": {
     "elapsed": 1075,
     "status": "ok",
     "timestamp": 1581597930260,
     "user": {
      "displayName": "Zeyad Sabbah",
      "photoUrl": "https://lh3.googleusercontent.com/a-/AAuE7mCWyF9CghKcdnVGr84tRaYwPH0IEtaKjAE1o5R9dw=s64",
      "userId": "03977300836188616390"
     },
     "user_tz": 300
    },
    "id": "WHKzs3vlkc5Q",
    "outputId": "eadbffeb-86fe-4c9b-a8d5-16cc6bd8c1db"
   },
   "outputs": [
    {
     "name": "stdout",
     "output_type": "stream",
     "text": [
      "Number of unique sessions 291381 .\n",
      "Number of unique sessions that have a clickout 275679 .\n"
     ]
    }
   ],
   "source": [
    "print('Number of unique sessions', test.session_id.nunique(), '.\\nNumber of unique sessions that have a clickout',\n",
    "      test[test.action_type=='clickout item'].session_id.nunique(),'.')"
   ]
  },
  {
   "cell_type": "markdown",
   "metadata": {
    "colab_type": "text",
    "id": "pb_taxNik_Nx"
   },
   "source": [
    "Clickout here means that there times submissions don't actually have labels. These kinds of sessions should be removed from the datasets as the clickoutout item refers to being a label. A proper function should be handling sessions without any clickouts in the action_type attribute."
   ]
  },
  {
   "cell_type": "markdown",
   "metadata": {
    "colab_type": "text",
    "id": "rtGG15v0idk8"
   },
   "source": [
    "### submission_popular"
   ]
  },
  {
   "cell_type": "markdown",
   "metadata": {
    "colab_type": "text",
    "id": "Z1l2UzxIisX_"
   },
   "source": [
    "This is the form on how the test set predictions should be submitted."
   ]
  },
  {
   "cell_type": "code",
   "execution_count": 5,
   "metadata": {
    "colab": {
     "base_uri": "https://localhost:8080/",
     "height": 204
    },
    "colab_type": "code",
    "executionInfo": {
     "elapsed": 748,
     "status": "ok",
     "timestamp": 1581597227173,
     "user": {
      "displayName": "Zeyad Sabbah",
      "photoUrl": "https://lh3.googleusercontent.com/a-/AAuE7mCWyF9CghKcdnVGr84tRaYwPH0IEtaKjAE1o5R9dw=s64",
      "userId": "03977300836188616390"
     },
     "user_tz": 300
    },
    "id": "ddinG6ggij0I",
    "outputId": "fc6eeb9b-e800-430d-c3c6-543222004058",
    "scrolled": true
   },
   "outputs": [
    {
     "data": {
      "text/html": [
       "<div>\n",
       "<style scoped>\n",
       "    .dataframe tbody tr th:only-of-type {\n",
       "        vertical-align: middle;\n",
       "    }\n",
       "\n",
       "    .dataframe tbody tr th {\n",
       "        vertical-align: top;\n",
       "    }\n",
       "\n",
       "    .dataframe thead th {\n",
       "        text-align: right;\n",
       "    }\n",
       "</style>\n",
       "<table border=\"1\" class=\"dataframe\">\n",
       "  <thead>\n",
       "    <tr style=\"text-align: right;\">\n",
       "      <th></th>\n",
       "      <th>user_id</th>\n",
       "      <th>session_id</th>\n",
       "      <th>timestamp</th>\n",
       "      <th>step</th>\n",
       "      <th>item_recommendations</th>\n",
       "    </tr>\n",
       "  </thead>\n",
       "  <tbody>\n",
       "    <tr>\n",
       "      <th>0</th>\n",
       "      <td>000324D9BBUC</td>\n",
       "      <td>89643988fdbfb</td>\n",
       "      <td>1541593942</td>\n",
       "      <td>10</td>\n",
       "      <td>924795 106315 1033140 119494 101758 903037 105...</td>\n",
       "    </tr>\n",
       "    <tr>\n",
       "      <th>1</th>\n",
       "      <td>0004Q49X39PY</td>\n",
       "      <td>9de47d9a66494</td>\n",
       "      <td>1541641157</td>\n",
       "      <td>1</td>\n",
       "      <td>3505150 3812004 2227896 2292254 3184842 222702...</td>\n",
       "    </tr>\n",
       "    <tr>\n",
       "      <th>2</th>\n",
       "      <td>0004Q49X39PY</td>\n",
       "      <td>beea5c27030cb</td>\n",
       "      <td>1541561202</td>\n",
       "      <td>1</td>\n",
       "      <td>4476010 3505150 3812004 2227896 2292254 222702...</td>\n",
       "    </tr>\n",
       "    <tr>\n",
       "      <th>3</th>\n",
       "      <td>00071784XQ6B</td>\n",
       "      <td>9617600e1ba7c</td>\n",
       "      <td>1541630328</td>\n",
       "      <td>2</td>\n",
       "      <td>22854 3067559 22721 22713 16121 22772 22727 22...</td>\n",
       "    </tr>\n",
       "    <tr>\n",
       "      <th>4</th>\n",
       "      <td>0008BO33KUQ0</td>\n",
       "      <td>2d0e2102ee0dc</td>\n",
       "      <td>1541636411</td>\n",
       "      <td>6</td>\n",
       "      <td>9857656 5849628 655716 1352530 502066 1405084 ...</td>\n",
       "    </tr>\n",
       "  </tbody>\n",
       "</table>\n",
       "</div>"
      ],
      "text/plain": [
       "        user_id  ...                               item_recommendations\n",
       "0  000324D9BBUC  ...  924795 106315 1033140 119494 101758 903037 105...\n",
       "1  0004Q49X39PY  ...  3505150 3812004 2227896 2292254 3184842 222702...\n",
       "2  0004Q49X39PY  ...  4476010 3505150 3812004 2227896 2292254 222702...\n",
       "3  00071784XQ6B  ...  22854 3067559 22721 22713 16121 22772 22727 22...\n",
       "4  0008BO33KUQ0  ...  9857656 5849628 655716 1352530 502066 1405084 ...\n",
       "\n",
       "[5 rows x 5 columns]"
      ]
     },
     "execution_count": 5,
     "metadata": {
      "tags": []
     },
     "output_type": "execute_result"
    }
   ],
   "source": [
    "submission_popular.head()"
   ]
  },
  {
   "cell_type": "code",
   "execution_count": 32,
   "metadata": {},
   "outputs": [
    {
     "data": {
      "text/plain": [
       "user_id                 object\n",
       "session_id              object\n",
       "timestamp                int64\n",
       "step                     int64\n",
       "item_recommendations    object\n",
       "dtype: object"
      ]
     },
     "execution_count": 32,
     "metadata": {},
     "output_type": "execute_result"
    }
   ],
   "source": [
    "submission_popular.dtypes"
   ]
  },
  {
   "cell_type": "markdown",
   "metadata": {
    "colab_type": "text",
    "id": "AfxkLQWylsu9"
   },
   "source": [
    "### item_metadata"
   ]
  },
  {
   "cell_type": "code",
   "execution_count": 16,
   "metadata": {
    "colab": {
     "base_uri": "https://localhost:8080/",
     "height": 204
    },
    "colab_type": "code",
    "executionInfo": {
     "elapsed": 948,
     "status": "ok",
     "timestamp": 1581598072108,
     "user": {
      "displayName": "Zeyad Sabbah",
      "photoUrl": "https://lh3.googleusercontent.com/a-/AAuE7mCWyF9CghKcdnVGr84tRaYwPH0IEtaKjAE1o5R9dw=s64",
      "userId": "03977300836188616390"
     },
     "user_tz": 300
    },
    "id": "RZDFnqiplu0E",
    "outputId": "7fdb03fb-b440-483d-c7eb-5886245832a2",
    "scrolled": false
   },
   "outputs": [
    {
     "data": {
      "text/html": [
       "<div>\n",
       "<style scoped>\n",
       "    .dataframe tbody tr th:only-of-type {\n",
       "        vertical-align: middle;\n",
       "    }\n",
       "\n",
       "    .dataframe tbody tr th {\n",
       "        vertical-align: top;\n",
       "    }\n",
       "\n",
       "    .dataframe thead th {\n",
       "        text-align: right;\n",
       "    }\n",
       "</style>\n",
       "<table border=\"1\" class=\"dataframe\">\n",
       "  <thead>\n",
       "    <tr style=\"text-align: right;\">\n",
       "      <th></th>\n",
       "      <th>item_id</th>\n",
       "      <th>properties</th>\n",
       "    </tr>\n",
       "  </thead>\n",
       "  <tbody>\n",
       "    <tr>\n",
       "      <th>0</th>\n",
       "      <td>5101</td>\n",
       "      <td>Satellite TV|Golf Course|Airport Shuttle|Cosme...</td>\n",
       "    </tr>\n",
       "    <tr>\n",
       "      <th>1</th>\n",
       "      <td>5416</td>\n",
       "      <td>Satellite TV|Cosmetic Mirror|Safe (Hotel)|Tele...</td>\n",
       "    </tr>\n",
       "    <tr>\n",
       "      <th>2</th>\n",
       "      <td>5834</td>\n",
       "      <td>Satellite TV|Cosmetic Mirror|Safe (Hotel)|Tele...</td>\n",
       "    </tr>\n",
       "    <tr>\n",
       "      <th>3</th>\n",
       "      <td>5910</td>\n",
       "      <td>Satellite TV|Sailing|Cosmetic Mirror|Telephone...</td>\n",
       "    </tr>\n",
       "    <tr>\n",
       "      <th>4</th>\n",
       "      <td>6066</td>\n",
       "      <td>Satellite TV|Sailing|Diving|Cosmetic Mirror|Sa...</td>\n",
       "    </tr>\n",
       "  </tbody>\n",
       "</table>\n",
       "</div>"
      ],
      "text/plain": [
       "   item_id                                         properties\n",
       "0     5101  Satellite TV|Golf Course|Airport Shuttle|Cosme...\n",
       "1     5416  Satellite TV|Cosmetic Mirror|Safe (Hotel)|Tele...\n",
       "2     5834  Satellite TV|Cosmetic Mirror|Safe (Hotel)|Tele...\n",
       "3     5910  Satellite TV|Sailing|Cosmetic Mirror|Telephone...\n",
       "4     6066  Satellite TV|Sailing|Diving|Cosmetic Mirror|Sa..."
      ]
     },
     "execution_count": 16,
     "metadata": {
      "tags": []
     },
     "output_type": "execute_result"
    }
   ],
   "source": [
    "item_metadata.head()"
   ]
  },
  {
   "cell_type": "code",
   "execution_count": 14,
   "metadata": {},
   "outputs": [
    {
     "data": {
      "text/plain": [
       "(item_id       927142\n",
       " properties    566835\n",
       " dtype: int64, 927142)"
      ]
     },
     "execution_count": 14,
     "metadata": {},
     "output_type": "execute_result"
    }
   ],
   "source": [
    "#making sure there is no duplicates\n",
    "item_metadata.nunique(), len(item_metadata)"
   ]
  },
  {
   "cell_type": "markdown",
   "metadata": {
    "colab_type": "text",
    "id": "xM_yMk6Nl2zm"
   },
   "source": [
    "Each item in the different datasets has a number (reference and impression attributes), these items have properties mentioned here."
   ]
  },
  {
   "cell_type": "code",
   "execution_count": 33,
   "metadata": {},
   "outputs": [
    {
     "data": {
      "text/plain": [
       "item_id        int64\n",
       "properties    object\n",
       "dtype: object"
      ]
     },
     "execution_count": 33,
     "metadata": {},
     "output_type": "execute_result"
    }
   ],
   "source": [
    "item_metadata.dtypes"
   ]
  },
  {
   "cell_type": "markdown",
   "metadata": {
    "colab_type": "text",
    "id": "_IeWf1-qmcq7"
   },
   "source": [
    "Number of properties can be added as a feature."
   ]
  },
  {
   "cell_type": "markdown",
   "metadata": {
    "colab_type": "text",
    "id": "KrEXYDYvm2wZ"
   },
   "source": [
    "### train"
   ]
  },
  {
   "cell_type": "code",
   "execution_count": 4,
   "metadata": {
    "colab": {
     "base_uri": "https://localhost:8080/",
     "height": 309
    },
    "colab_type": "code",
    "executionInfo": {
     "elapsed": 1681,
     "status": "ok",
     "timestamp": 1581346249104,
     "user": {
      "displayName": "Zeyad Sabbah",
      "photoUrl": "https://lh3.googleusercontent.com/a-/AAuE7mCWyF9CghKcdnVGr84tRaYwPH0IEtaKjAE1o5R9dw=s64",
      "userId": "03977300836188616390"
     },
     "user_tz": 300
    },
    "id": "PpAFG8Jak-zx",
    "outputId": "fbb8a100-dfd0-4f6a-d681-007eebf54bd6",
    "scrolled": true
   },
   "outputs": [
    {
     "data": {
      "text/html": [
       "<div>\n",
       "<style scoped>\n",
       "    .dataframe tbody tr th:only-of-type {\n",
       "        vertical-align: middle;\n",
       "    }\n",
       "\n",
       "    .dataframe tbody tr th {\n",
       "        vertical-align: top;\n",
       "    }\n",
       "\n",
       "    .dataframe thead th {\n",
       "        text-align: right;\n",
       "    }\n",
       "</style>\n",
       "<table border=\"1\" class=\"dataframe\">\n",
       "  <thead>\n",
       "    <tr style=\"text-align: right;\">\n",
       "      <th></th>\n",
       "      <th>user_id</th>\n",
       "      <th>session_id</th>\n",
       "      <th>timestamp</th>\n",
       "      <th>step</th>\n",
       "      <th>action_type</th>\n",
       "      <th>reference</th>\n",
       "      <th>platform</th>\n",
       "      <th>city</th>\n",
       "      <th>device</th>\n",
       "      <th>current_filters</th>\n",
       "      <th>impressions</th>\n",
       "      <th>prices</th>\n",
       "    </tr>\n",
       "  </thead>\n",
       "  <tbody>\n",
       "    <tr>\n",
       "      <th>15932987</th>\n",
       "      <td>ZYNMLE3MV3LK</td>\n",
       "      <td>62728015bec05</td>\n",
       "      <td>1541544490</td>\n",
       "      <td>15</td>\n",
       "      <td>interaction item image</td>\n",
       "      <td>6617798</td>\n",
       "      <td>PT</td>\n",
       "      <td>Paris, France</td>\n",
       "      <td>desktop</td>\n",
       "      <td>NaN</td>\n",
       "      <td>NaN</td>\n",
       "      <td>NaN</td>\n",
       "    </tr>\n",
       "    <tr>\n",
       "      <th>15932988</th>\n",
       "      <td>ZYNMLE3MV3LK</td>\n",
       "      <td>62728015bec05</td>\n",
       "      <td>1541544491</td>\n",
       "      <td>16</td>\n",
       "      <td>clickout item</td>\n",
       "      <td>6617798</td>\n",
       "      <td>PT</td>\n",
       "      <td>Paris, France</td>\n",
       "      <td>desktop</td>\n",
       "      <td>Focus on Distance</td>\n",
       "      <td>6617798|1263420|9567886|1161323|149768|1890735...</td>\n",
       "      <td>58|96|55|75|90|60|233|104|150|145|328|207|150|...</td>\n",
       "    </tr>\n",
       "    <tr>\n",
       "      <th>15932989</th>\n",
       "      <td>ZYNMLE3MV3LK</td>\n",
       "      <td>62728015bec05</td>\n",
       "      <td>1541544540</td>\n",
       "      <td>17</td>\n",
       "      <td>clickout item</td>\n",
       "      <td>2712342</td>\n",
       "      <td>PT</td>\n",
       "      <td>Paris, France</td>\n",
       "      <td>desktop</td>\n",
       "      <td>Focus on Distance</td>\n",
       "      <td>6617798|1263420|9567886|1161323|149768|1890735...</td>\n",
       "      <td>58|96|55|75|90|60|233|104|150|145|328|207|150|...</td>\n",
       "    </tr>\n",
       "    <tr>\n",
       "      <th>15932990</th>\n",
       "      <td>ZYNMLE3MV3LK</td>\n",
       "      <td>62728015bec05</td>\n",
       "      <td>1541544967</td>\n",
       "      <td>18</td>\n",
       "      <td>change of sort order</td>\n",
       "      <td>interaction sort button</td>\n",
       "      <td>PT</td>\n",
       "      <td>Paris, France</td>\n",
       "      <td>desktop</td>\n",
       "      <td>NaN</td>\n",
       "      <td>NaN</td>\n",
       "      <td>NaN</td>\n",
       "    </tr>\n",
       "    <tr>\n",
       "      <th>15932991</th>\n",
       "      <td>ZYNMLE3MV3LK</td>\n",
       "      <td>62728015bec05</td>\n",
       "      <td>1541544973</td>\n",
       "      <td>19</td>\n",
       "      <td>clickout item</td>\n",
       "      <td>1161323</td>\n",
       "      <td>PT</td>\n",
       "      <td>Paris, France</td>\n",
       "      <td>desktop</td>\n",
       "      <td>Focus on Distance</td>\n",
       "      <td>6617798|1263420|9567886|1161323|149768|1890735...</td>\n",
       "      <td>58|96|55|75|90|60|233|104|150|145|328|207|150|...</td>\n",
       "    </tr>\n",
       "  </tbody>\n",
       "</table>\n",
       "</div>"
      ],
      "text/plain": [
       "               user_id     session_id   timestamp  step  \\\n",
       "15932987  ZYNMLE3MV3LK  62728015bec05  1541544490    15   \n",
       "15932988  ZYNMLE3MV3LK  62728015bec05  1541544491    16   \n",
       "15932989  ZYNMLE3MV3LK  62728015bec05  1541544540    17   \n",
       "15932990  ZYNMLE3MV3LK  62728015bec05  1541544967    18   \n",
       "15932991  ZYNMLE3MV3LK  62728015bec05  1541544973    19   \n",
       "\n",
       "                     action_type                reference platform  \\\n",
       "15932987  interaction item image                  6617798       PT   \n",
       "15932988           clickout item                  6617798       PT   \n",
       "15932989           clickout item                  2712342       PT   \n",
       "15932990    change of sort order  interaction sort button       PT   \n",
       "15932991           clickout item                  1161323       PT   \n",
       "\n",
       "                   city   device    current_filters  \\\n",
       "15932987  Paris, France  desktop                NaN   \n",
       "15932988  Paris, France  desktop  Focus on Distance   \n",
       "15932989  Paris, France  desktop  Focus on Distance   \n",
       "15932990  Paris, France  desktop                NaN   \n",
       "15932991  Paris, France  desktop  Focus on Distance   \n",
       "\n",
       "                                                impressions  \\\n",
       "15932987                                                NaN   \n",
       "15932988  6617798|1263420|9567886|1161323|149768|1890735...   \n",
       "15932989  6617798|1263420|9567886|1161323|149768|1890735...   \n",
       "15932990                                                NaN   \n",
       "15932991  6617798|1263420|9567886|1161323|149768|1890735...   \n",
       "\n",
       "                                                     prices  \n",
       "15932987                                                NaN  \n",
       "15932988  58|96|55|75|90|60|233|104|150|145|328|207|150|...  \n",
       "15932989  58|96|55|75|90|60|233|104|150|145|328|207|150|...  \n",
       "15932990                                                NaN  \n",
       "15932991  58|96|55|75|90|60|233|104|150|145|328|207|150|...  "
      ]
     },
     "execution_count": 4,
     "metadata": {},
     "output_type": "execute_result"
    }
   ],
   "source": [
    "train.tail(5)"
   ]
  },
  {
   "cell_type": "code",
   "execution_count": 9,
   "metadata": {},
   "outputs": [
    {
     "data": {
      "text/plain": [
       "user_id            object\n",
       "session_id         object\n",
       "timestamp           int64\n",
       "step                int64\n",
       "action_type        object\n",
       "reference          object\n",
       "platform           object\n",
       "city               object\n",
       "device             object\n",
       "current_filters    object\n",
       "impressions        object\n",
       "prices             object\n",
       "dtype: object"
      ]
     },
     "execution_count": 9,
     "metadata": {},
     "output_type": "execute_result"
    }
   ],
   "source": [
    "train.dtypes"
   ]
  },
  {
   "cell_type": "code",
   "execution_count": 6,
   "metadata": {},
   "outputs": [
    {
     "data": {
      "text/plain": [
       "(12, Index(['user_id', 'session_id', 'timestamp', 'step', 'action_type',\n",
       "        'reference', 'platform', 'city', 'device', 'current_filters',\n",
       "        'impressions', 'prices'],\n",
       "       dtype='object'))"
      ]
     },
     "execution_count": 6,
     "metadata": {},
     "output_type": "execute_result"
    }
   ],
   "source": [
    "len(train.columns), train.columns, len(train)"
   ]
  },
  {
   "cell_type": "code",
   "execution_count": 35,
   "metadata": {
    "colab": {
     "base_uri": "https://localhost:8080/",
     "height": 68
    },
    "colab_type": "code",
    "executionInfo": {
     "elapsed": 5599,
     "status": "ok",
     "timestamp": 1581598394135,
     "user": {
      "displayName": "Zeyad Sabbah",
      "photoUrl": "https://lh3.googleusercontent.com/a-/AAuE7mCWyF9CghKcdnVGr84tRaYwPH0IEtaKjAE1o5R9dw=s64",
      "userId": "03977300836188616390"
     },
     "user_tz": 300
    },
    "id": "4fEpNsfgmmfO",
    "outputId": "5ae9a3f6-ee61-4c95-9c24-a4cdedbb3aea"
   },
   "outputs": [
    {
     "name": "stdout",
     "output_type": "stream",
     "text": [
      "current_filters\n",
      "impressions\n",
      "prices\n"
     ]
    }
   ],
   "source": [
    "#checking which attributes have any NaN\n",
    "for attribute in train.columns:\n",
    "  if train[attribute].isna().any():\n",
    "    print(attribute)"
   ]
  },
  {
   "cell_type": "code",
   "execution_count": 12,
   "metadata": {},
   "outputs": [
    {
     "data": {
      "text/plain": [
       "(10, array(['search for poi', 'interaction item image', 'clickout item',\n",
       "        'interaction item info', 'interaction item deals',\n",
       "        'search for destination', 'filter selection',\n",
       "        'interaction item rating', 'search for item',\n",
       "        'change of sort order'], dtype=object))"
      ]
     },
     "execution_count": 12,
     "metadata": {},
     "output_type": "execute_result"
    }
   ],
   "source": [
    "len(train.action_type.unique()), train.action_type.unique()"
   ]
  },
  {
   "cell_type": "code",
   "execution_count": 36,
   "metadata": {
    "colab": {
     "base_uri": "https://localhost:8080/",
     "height": 34
    },
    "colab_type": "code",
    "executionInfo": {
     "elapsed": 6497,
     "status": "ok",
     "timestamp": 1581598470822,
     "user": {
      "displayName": "Zeyad Sabbah",
      "photoUrl": "https://lh3.googleusercontent.com/a-/AAuE7mCWyF9CghKcdnVGr84tRaYwPH0IEtaKjAE1o5R9dw=s64",
      "userId": "03977300836188616390"
     },
     "user_tz": 300
    },
    "id": "byKXX6VWm1dq",
    "outputId": "13df8c0f-4168-448e-f6e7-bfea942a1a73"
   },
   "outputs": [
    {
     "data": {
      "text/plain": [
       "array(['clickout item'], dtype=object)"
      ]
     },
     "execution_count": 36,
     "metadata": {},
     "output_type": "execute_result"
    }
   ],
   "source": [
    "#checking what values in the attribute action_type that gives values in the above attributes\n",
    "train.dropna().action_type.unique()"
   ]
  },
  {
   "cell_type": "markdown",
   "metadata": {
    "colab_type": "text",
    "id": "6TZzG9hvlOzA"
   },
   "source": [
    "The attributes prices, current_filters, and impressions are not NaN values when the attribute action_type is a clickout item.\n",
    "The clickout item means that the user had viewed the item in the item's website."
   ]
  },
  {
   "cell_type": "code",
   "execution_count": 37,
   "metadata": {
    "colab": {
     "base_uri": "https://localhost:8080/",
     "height": 34
    },
    "colab_type": "code",
    "executionInfo": {
     "elapsed": 2569,
     "status": "ok",
     "timestamp": 1581598525631,
     "user": {
      "displayName": "Zeyad Sabbah",
      "photoUrl": "https://lh3.googleusercontent.com/a-/AAuE7mCWyF9CghKcdnVGr84tRaYwPH0IEtaKjAE1o5R9dw=s64",
      "userId": "03977300836188616390"
     },
     "user_tz": 300
    },
    "id": "1YmNPhiBsKnr",
    "outputId": "46839ae2-2d5e-4450-9e97-25bcc4078a5c",
    "scrolled": true
   },
   "outputs": [
    {
     "data": {
      "text/plain": [
       "(910683, 730803)"
      ]
     },
     "execution_count": 37,
     "metadata": {},
     "output_type": "execute_result"
    }
   ],
   "source": [
    "#checking unique numbers of session_id and user_id\n",
    "train.session_id.nunique(), train.user_id.nunique()"
   ]
  },
  {
   "cell_type": "markdown",
   "metadata": {},
   "source": [
    "## Creating validation and test sets"
   ]
  },
  {
   "cell_type": "markdown",
   "metadata": {},
   "source": [
    "Defining function to subset sets"
   ]
  },
  {
   "cell_type": "code",
   "execution_count": 4,
   "metadata": {
    "colab": {
     "base_uri": "https://localhost:8080/",
     "height": 34
    },
    "colab_type": "code",
    "executionInfo": {
     "elapsed": 1559,
     "status": "ok",
     "timestamp": 1581599930560,
     "user": {
      "displayName": "Zeyad Sabbah",
      "photoUrl": "https://lh3.googleusercontent.com/a-/AAuE7mCWyF9CghKcdnVGr84tRaYwPH0IEtaKjAE1o5R9dw=s64",
      "userId": "03977300836188616390"
     },
     "user_tz": 300
    },
    "id": "oIA78RvPoCPV",
    "outputId": "695ec91a-0702-4b78-eb30-14f512da3cde"
   },
   "outputs": [],
   "source": [
    "def CreateSubSet(dataset, ratio):\n",
    "    '''\n",
    "    Desc: creates smaller set of the main dataset\n",
    "    \n",
    "    Input: dataset: Pandas Dataframe with the dataset required to extract smaller dataframe from\n",
    "           ratio: float between 0 and 1 as a ratio of the size of the main dataset\n",
    "           \n",
    "    Output: SubsetDF: Pandas Dataframe with the subset of the main dataset\n",
    "    '''\n",
    "    NUniqueSessionsVal = round(len(dataset.session_id.unique().tolist()) * ratio)  #getting the number of unique sessions validation\n",
    "    print('Number of unique sessions in validation set', NUniqueSessionsVal, '.') #set should be having.\n",
    "\n",
    "    #unique sessions list\n",
    "    UnisuqeSessions = dataset.session_id.unique().tolist()\n",
    "\n",
    "    #set seed\n",
    "    random.seed(1)\n",
    "\n",
    "    #randomly selecting sessions_id from train\n",
    "    SubsetID = list(set(random.choices(dataset.session_id.unique().tolist(), k=NUniqueSessionsVal)))\n",
    "\n",
    "    #creating dataframe for validation\n",
    "    SubsetDF = dataset[dataset.session_id.isin(SubsetID)]\n",
    "    \n",
    "    #dropping Subset from main dataset\n",
    "    main = dataset.drop(index=SubsetDF.index)\n",
    "    \n",
    "    return SubsetDF, main"
   ]
  },
  {
   "cell_type": "markdown",
   "metadata": {
    "colab_type": "text",
    "id": "si9ZMN_rnmfz"
   },
   "source": [
    "##Validation set"
   ]
  },
  {
   "cell_type": "markdown",
   "metadata": {
    "colab_type": "text",
    "id": "rabsSYxvn7Jk"
   },
   "source": [
    "Creating a validation set."
   ]
  },
  {
   "cell_type": "code",
   "execution_count": 5,
   "metadata": {},
   "outputs": [
    {
     "name": "stdout",
     "output_type": "stream",
     "text": [
      "Number of unique sessions in validation set 182137 .\n"
     ]
    },
    {
     "data": {
      "text/html": [
       "<div>\n",
       "<style scoped>\n",
       "    .dataframe tbody tr th:only-of-type {\n",
       "        vertical-align: middle;\n",
       "    }\n",
       "\n",
       "    .dataframe tbody tr th {\n",
       "        vertical-align: top;\n",
       "    }\n",
       "\n",
       "    .dataframe thead th {\n",
       "        text-align: right;\n",
       "    }\n",
       "</style>\n",
       "<table border=\"1\" class=\"dataframe\">\n",
       "  <thead>\n",
       "    <tr style=\"text-align: right;\">\n",
       "      <th></th>\n",
       "      <th>user_id</th>\n",
       "      <th>session_id</th>\n",
       "      <th>timestamp</th>\n",
       "      <th>step</th>\n",
       "      <th>action_type</th>\n",
       "      <th>reference</th>\n",
       "      <th>platform</th>\n",
       "      <th>city</th>\n",
       "      <th>device</th>\n",
       "      <th>current_filters</th>\n",
       "      <th>impressions</th>\n",
       "      <th>prices</th>\n",
       "    </tr>\n",
       "  </thead>\n",
       "  <tbody>\n",
       "    <tr>\n",
       "      <th>278</th>\n",
       "      <td>0L2TX0JNYVQ6</td>\n",
       "      <td>06e7c29170946</td>\n",
       "      <td>1541041830</td>\n",
       "      <td>1</td>\n",
       "      <td>search for poi</td>\n",
       "      <td>Seoul Station</td>\n",
       "      <td>HK</td>\n",
       "      <td>Seoul, South Korea</td>\n",
       "      <td>desktop</td>\n",
       "      <td>NaN</td>\n",
       "      <td>NaN</td>\n",
       "      <td>NaN</td>\n",
       "    </tr>\n",
       "    <tr>\n",
       "      <th>279</th>\n",
       "      <td>0L2TX0JNYVQ6</td>\n",
       "      <td>06e7c29170946</td>\n",
       "      <td>1541041870</td>\n",
       "      <td>2</td>\n",
       "      <td>clickout item</td>\n",
       "      <td>10091602</td>\n",
       "      <td>HK</td>\n",
       "      <td>Seoul, South Korea</td>\n",
       "      <td>desktop</td>\n",
       "      <td>NaN</td>\n",
       "      <td>2802232|2733571|5477718|155374|155465|3549258|...</td>\n",
       "      <td>124|176|99|220|191|127|85|54|83|268|78|144|96|...</td>\n",
       "    </tr>\n",
       "    <tr>\n",
       "      <th>280</th>\n",
       "      <td>0L2TX0JNYVQ6</td>\n",
       "      <td>06e7c29170946</td>\n",
       "      <td>1541041882</td>\n",
       "      <td>3</td>\n",
       "      <td>interaction item deals</td>\n",
       "      <td>10091602</td>\n",
       "      <td>HK</td>\n",
       "      <td>Seoul, South Korea</td>\n",
       "      <td>desktop</td>\n",
       "      <td>NaN</td>\n",
       "      <td>NaN</td>\n",
       "      <td>NaN</td>\n",
       "    </tr>\n",
       "    <tr>\n",
       "      <th>281</th>\n",
       "      <td>0L2TX0JNYVQ6</td>\n",
       "      <td>06e7c29170946</td>\n",
       "      <td>1541044143</td>\n",
       "      <td>4</td>\n",
       "      <td>search for poi</td>\n",
       "      <td>Myeongdong</td>\n",
       "      <td>HK</td>\n",
       "      <td>Seoul, South Korea</td>\n",
       "      <td>desktop</td>\n",
       "      <td>NaN</td>\n",
       "      <td>NaN</td>\n",
       "      <td>NaN</td>\n",
       "    </tr>\n",
       "    <tr>\n",
       "      <th>282</th>\n",
       "      <td>0L2TX0JNYVQ6</td>\n",
       "      <td>06e7c29170946</td>\n",
       "      <td>1541044151</td>\n",
       "      <td>5</td>\n",
       "      <td>clickout item</td>\n",
       "      <td>10091602</td>\n",
       "      <td>HK</td>\n",
       "      <td>Seoul, South Korea</td>\n",
       "      <td>desktop</td>\n",
       "      <td>NaN</td>\n",
       "      <td>3549258|155465|155374|363046|3954788|4773608|3...</td>\n",
       "      <td>135|189|219|78|74|135|95|85|176|99|108|83|87|3...</td>\n",
       "    </tr>\n",
       "  </tbody>\n",
       "</table>\n",
       "</div>"
      ],
      "text/plain": [
       "          user_id     session_id   timestamp  step             action_type  \\\n",
       "278  0L2TX0JNYVQ6  06e7c29170946  1541041830     1          search for poi   \n",
       "279  0L2TX0JNYVQ6  06e7c29170946  1541041870     2           clickout item   \n",
       "280  0L2TX0JNYVQ6  06e7c29170946  1541041882     3  interaction item deals   \n",
       "281  0L2TX0JNYVQ6  06e7c29170946  1541044143     4          search for poi   \n",
       "282  0L2TX0JNYVQ6  06e7c29170946  1541044151     5           clickout item   \n",
       "\n",
       "         reference platform                city   device current_filters  \\\n",
       "278  Seoul Station       HK  Seoul, South Korea  desktop             NaN   \n",
       "279       10091602       HK  Seoul, South Korea  desktop             NaN   \n",
       "280       10091602       HK  Seoul, South Korea  desktop             NaN   \n",
       "281     Myeongdong       HK  Seoul, South Korea  desktop             NaN   \n",
       "282       10091602       HK  Seoul, South Korea  desktop             NaN   \n",
       "\n",
       "                                           impressions  \\\n",
       "278                                                NaN   \n",
       "279  2802232|2733571|5477718|155374|155465|3549258|...   \n",
       "280                                                NaN   \n",
       "281                                                NaN   \n",
       "282  3549258|155465|155374|363046|3954788|4773608|3...   \n",
       "\n",
       "                                                prices  \n",
       "278                                                NaN  \n",
       "279  124|176|99|220|191|127|85|54|83|268|78|144|96|...  \n",
       "280                                                NaN  \n",
       "281                                                NaN  \n",
       "282  135|189|219|78|74|135|95|85|176|99|108|83|87|3...  "
      ]
     },
     "execution_count": 5,
     "metadata": {},
     "output_type": "execute_result"
    }
   ],
   "source": [
    "val, train = CreateSubSet(train, 0.2)\n",
    "val.head()"
   ]
  },
  {
   "cell_type": "markdown",
   "metadata": {},
   "source": [
    "## Test set"
   ]
  },
  {
   "cell_type": "markdown",
   "metadata": {},
   "source": [
    "Creating a new test set"
   ]
  },
  {
   "cell_type": "code",
   "execution_count": 6,
   "metadata": {
    "scrolled": true
   },
   "outputs": [
    {
     "name": "stdout",
     "output_type": "stream",
     "text": [
      "Number of unique sessions in validation set 149151 .\n"
     ]
    },
    {
     "data": {
      "text/html": [
       "<div>\n",
       "<style scoped>\n",
       "    .dataframe tbody tr th:only-of-type {\n",
       "        vertical-align: middle;\n",
       "    }\n",
       "\n",
       "    .dataframe tbody tr th {\n",
       "        vertical-align: top;\n",
       "    }\n",
       "\n",
       "    .dataframe thead th {\n",
       "        text-align: right;\n",
       "    }\n",
       "</style>\n",
       "<table border=\"1\" class=\"dataframe\">\n",
       "  <thead>\n",
       "    <tr style=\"text-align: right;\">\n",
       "      <th></th>\n",
       "      <th>user_id</th>\n",
       "      <th>session_id</th>\n",
       "      <th>timestamp</th>\n",
       "      <th>step</th>\n",
       "      <th>action_type</th>\n",
       "      <th>reference</th>\n",
       "      <th>platform</th>\n",
       "      <th>city</th>\n",
       "      <th>device</th>\n",
       "      <th>current_filters</th>\n",
       "      <th>impressions</th>\n",
       "      <th>prices</th>\n",
       "    </tr>\n",
       "  </thead>\n",
       "  <tbody>\n",
       "    <tr>\n",
       "      <th>239</th>\n",
       "      <td>0IVOT7X0FJWE</td>\n",
       "      <td>554392be66854</td>\n",
       "      <td>1541044445</td>\n",
       "      <td>1</td>\n",
       "      <td>interaction item rating</td>\n",
       "      <td>9167996</td>\n",
       "      <td>BR</td>\n",
       "      <td>Parnaíba, Brazil</td>\n",
       "      <td>mobile</td>\n",
       "      <td>NaN</td>\n",
       "      <td>NaN</td>\n",
       "      <td>NaN</td>\n",
       "    </tr>\n",
       "    <tr>\n",
       "      <th>240</th>\n",
       "      <td>0IVOT7X0FJWE</td>\n",
       "      <td>554392be66854</td>\n",
       "      <td>1541044448</td>\n",
       "      <td>2</td>\n",
       "      <td>clickout item</td>\n",
       "      <td>9167996</td>\n",
       "      <td>BR</td>\n",
       "      <td>Parnaíba, Brazil</td>\n",
       "      <td>mobile</td>\n",
       "      <td>NaN</td>\n",
       "      <td>2035675|4095738|4933410|9167996</td>\n",
       "      <td>225|23|58|53</td>\n",
       "    </tr>\n",
       "    <tr>\n",
       "      <th>241</th>\n",
       "      <td>0IVOT7X0FJWE</td>\n",
       "      <td>554392be66854</td>\n",
       "      <td>1541044519</td>\n",
       "      <td>3</td>\n",
       "      <td>interaction item image</td>\n",
       "      <td>9167996</td>\n",
       "      <td>BR</td>\n",
       "      <td>Parnaíba, Brazil</td>\n",
       "      <td>mobile</td>\n",
       "      <td>NaN</td>\n",
       "      <td>NaN</td>\n",
       "      <td>NaN</td>\n",
       "    </tr>\n",
       "    <tr>\n",
       "      <th>242</th>\n",
       "      <td>0IVOT7X0FJWE</td>\n",
       "      <td>554392be66854</td>\n",
       "      <td>1541044519</td>\n",
       "      <td>4</td>\n",
       "      <td>interaction item image</td>\n",
       "      <td>9167996</td>\n",
       "      <td>BR</td>\n",
       "      <td>Parnaíba, Brazil</td>\n",
       "      <td>mobile</td>\n",
       "      <td>NaN</td>\n",
       "      <td>NaN</td>\n",
       "      <td>NaN</td>\n",
       "    </tr>\n",
       "    <tr>\n",
       "      <th>243</th>\n",
       "      <td>0IVOT7X0FJWE</td>\n",
       "      <td>554392be66854</td>\n",
       "      <td>1541044529</td>\n",
       "      <td>5</td>\n",
       "      <td>interaction item image</td>\n",
       "      <td>9167996</td>\n",
       "      <td>BR</td>\n",
       "      <td>Parnaíba, Brazil</td>\n",
       "      <td>mobile</td>\n",
       "      <td>NaN</td>\n",
       "      <td>NaN</td>\n",
       "      <td>NaN</td>\n",
       "    </tr>\n",
       "  </tbody>\n",
       "</table>\n",
       "</div>"
      ],
      "text/plain": [
       "          user_id     session_id   timestamp  step              action_type  \\\n",
       "239  0IVOT7X0FJWE  554392be66854  1541044445     1  interaction item rating   \n",
       "240  0IVOT7X0FJWE  554392be66854  1541044448     2            clickout item   \n",
       "241  0IVOT7X0FJWE  554392be66854  1541044519     3   interaction item image   \n",
       "242  0IVOT7X0FJWE  554392be66854  1541044519     4   interaction item image   \n",
       "243  0IVOT7X0FJWE  554392be66854  1541044529     5   interaction item image   \n",
       "\n",
       "    reference platform              city  device current_filters  \\\n",
       "239   9167996       BR  Parnaíba, Brazil  mobile             NaN   \n",
       "240   9167996       BR  Parnaíba, Brazil  mobile             NaN   \n",
       "241   9167996       BR  Parnaíba, Brazil  mobile             NaN   \n",
       "242   9167996       BR  Parnaíba, Brazil  mobile             NaN   \n",
       "243   9167996       BR  Parnaíba, Brazil  mobile             NaN   \n",
       "\n",
       "                         impressions        prices  \n",
       "239                              NaN           NaN  \n",
       "240  2035675|4095738|4933410|9167996  225|23|58|53  \n",
       "241                              NaN           NaN  \n",
       "242                              NaN           NaN  \n",
       "243                              NaN           NaN  "
      ]
     },
     "execution_count": 6,
     "metadata": {},
     "output_type": "execute_result"
    }
   ],
   "source": [
    "test, train = CreateSubSet(train, 0.2)\n",
    "test.head()"
   ]
  },
  {
   "cell_type": "markdown",
   "metadata": {},
   "source": [
    "## Trainlet set"
   ]
  },
  {
   "cell_type": "markdown",
   "metadata": {},
   "source": [
    "Since the training set is already large enough, then for the feature engineering part, a sample from the training set will\n",
    "be sufficient to try the feature engineering on. It will be just 10% of the training set.\n",
    "Creating a sample set"
   ]
  },
  {
   "cell_type": "code",
   "execution_count": 7,
   "metadata": {},
   "outputs": [
    {
     "name": "stdout",
     "output_type": "stream",
     "text": [
      "Number of unique sessions in validation set 6106 .\n"
     ]
    },
    {
     "data": {
      "text/html": [
       "<div>\n",
       "<style scoped>\n",
       "    .dataframe tbody tr th:only-of-type {\n",
       "        vertical-align: middle;\n",
       "    }\n",
       "\n",
       "    .dataframe tbody tr th {\n",
       "        vertical-align: top;\n",
       "    }\n",
       "\n",
       "    .dataframe thead th {\n",
       "        text-align: right;\n",
       "    }\n",
       "</style>\n",
       "<table border=\"1\" class=\"dataframe\">\n",
       "  <thead>\n",
       "    <tr style=\"text-align: right;\">\n",
       "      <th></th>\n",
       "      <th>user_id</th>\n",
       "      <th>session_id</th>\n",
       "      <th>timestamp</th>\n",
       "      <th>step</th>\n",
       "      <th>action_type</th>\n",
       "      <th>reference</th>\n",
       "      <th>platform</th>\n",
       "      <th>city</th>\n",
       "      <th>device</th>\n",
       "      <th>current_filters</th>\n",
       "      <th>impressions</th>\n",
       "      <th>prices</th>\n",
       "    </tr>\n",
       "  </thead>\n",
       "  <tbody>\n",
       "    <tr>\n",
       "      <th>3297</th>\n",
       "      <td>6XWLPIVUWQE8</td>\n",
       "      <td>27d290deac485</td>\n",
       "      <td>1541106705</td>\n",
       "      <td>1</td>\n",
       "      <td>interaction item image</td>\n",
       "      <td>1488185</td>\n",
       "      <td>BG</td>\n",
       "      <td>Ribarica, Bulgaria</td>\n",
       "      <td>mobile</td>\n",
       "      <td>NaN</td>\n",
       "      <td>NaN</td>\n",
       "      <td>NaN</td>\n",
       "    </tr>\n",
       "    <tr>\n",
       "      <th>3298</th>\n",
       "      <td>6XWLPIVUWQE8</td>\n",
       "      <td>27d290deac485</td>\n",
       "      <td>1541106705</td>\n",
       "      <td>2</td>\n",
       "      <td>interaction item image</td>\n",
       "      <td>1488185</td>\n",
       "      <td>BG</td>\n",
       "      <td>Ribarica, Bulgaria</td>\n",
       "      <td>mobile</td>\n",
       "      <td>NaN</td>\n",
       "      <td>NaN</td>\n",
       "      <td>NaN</td>\n",
       "    </tr>\n",
       "    <tr>\n",
       "      <th>3299</th>\n",
       "      <td>6XWLPIVUWQE8</td>\n",
       "      <td>27d290deac485</td>\n",
       "      <td>1541106710</td>\n",
       "      <td>3</td>\n",
       "      <td>clickout item</td>\n",
       "      <td>1488185</td>\n",
       "      <td>BG</td>\n",
       "      <td>Ribarica, Bulgaria</td>\n",
       "      <td>mobile</td>\n",
       "      <td>NaN</td>\n",
       "      <td>1488185|1241074|1474073|4548038|4130402|733811...</td>\n",
       "      <td>40|35|33|29|26|34|24|35|27|129</td>\n",
       "    </tr>\n",
       "    <tr>\n",
       "      <th>3300</th>\n",
       "      <td>6XWLPIVUWQE8</td>\n",
       "      <td>27d290deac485</td>\n",
       "      <td>1541106732</td>\n",
       "      <td>4</td>\n",
       "      <td>interaction item image</td>\n",
       "      <td>1488185</td>\n",
       "      <td>BG</td>\n",
       "      <td>Ribarica, Bulgaria</td>\n",
       "      <td>mobile</td>\n",
       "      <td>NaN</td>\n",
       "      <td>NaN</td>\n",
       "      <td>NaN</td>\n",
       "    </tr>\n",
       "    <tr>\n",
       "      <th>3301</th>\n",
       "      <td>6XWLPIVUWQE8</td>\n",
       "      <td>27d290deac485</td>\n",
       "      <td>1541106732</td>\n",
       "      <td>5</td>\n",
       "      <td>interaction item image</td>\n",
       "      <td>1488185</td>\n",
       "      <td>BG</td>\n",
       "      <td>Ribarica, Bulgaria</td>\n",
       "      <td>mobile</td>\n",
       "      <td>NaN</td>\n",
       "      <td>NaN</td>\n",
       "      <td>NaN</td>\n",
       "    </tr>\n",
       "  </tbody>\n",
       "</table>\n",
       "</div>"
      ],
      "text/plain": [
       "           user_id     session_id   timestamp  step             action_type  \\\n",
       "3297  6XWLPIVUWQE8  27d290deac485  1541106705     1  interaction item image   \n",
       "3298  6XWLPIVUWQE8  27d290deac485  1541106705     2  interaction item image   \n",
       "3299  6XWLPIVUWQE8  27d290deac485  1541106710     3           clickout item   \n",
       "3300  6XWLPIVUWQE8  27d290deac485  1541106732     4  interaction item image   \n",
       "3301  6XWLPIVUWQE8  27d290deac485  1541106732     5  interaction item image   \n",
       "\n",
       "     reference platform                city  device current_filters  \\\n",
       "3297   1488185       BG  Ribarica, Bulgaria  mobile             NaN   \n",
       "3298   1488185       BG  Ribarica, Bulgaria  mobile             NaN   \n",
       "3299   1488185       BG  Ribarica, Bulgaria  mobile             NaN   \n",
       "3300   1488185       BG  Ribarica, Bulgaria  mobile             NaN   \n",
       "3301   1488185       BG  Ribarica, Bulgaria  mobile             NaN   \n",
       "\n",
       "                                            impressions  \\\n",
       "3297                                                NaN   \n",
       "3298                                                NaN   \n",
       "3299  1488185|1241074|1474073|4548038|4130402|733811...   \n",
       "3300                                                NaN   \n",
       "3301                                                NaN   \n",
       "\n",
       "                              prices  \n",
       "3297                             NaN  \n",
       "3298                             NaN  \n",
       "3299  40|35|33|29|26|34|24|35|27|129  \n",
       "3300                             NaN  \n",
       "3301                             NaN  "
      ]
     },
     "execution_count": 7,
     "metadata": {},
     "output_type": "execute_result"
    }
   ],
   "source": [
    "trainlet, train = CreateSubSet(train, 0.01)\n",
    "trainlet.head()"
   ]
  }
 ],
 "metadata": {
  "accelerator": "GPU",
  "colab": {
   "collapsed_sections": [],
   "machine_shape": "hm",
   "name": "Trivago.ipynb",
   "provenance": [],
   "toc_visible": true
  },
  "kernelspec": {
   "display_name": "Python 3",
   "language": "python",
   "name": "python3"
  },
  "language_info": {
   "codemirror_mode": {
    "name": "ipython",
    "version": 3
   },
   "file_extension": ".py",
   "mimetype": "text/x-python",
   "name": "python",
   "nbconvert_exporter": "python",
   "pygments_lexer": "ipython3",
   "version": "3.7.3"
  }
 },
 "nbformat": 4,
 "nbformat_minor": 1
}
