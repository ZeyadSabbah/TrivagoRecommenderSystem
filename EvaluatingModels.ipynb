{
  "nbformat": 4,
  "nbformat_minor": 0,
  "metadata": {
    "colab": {
      "name": "EvaluatingModels.ipynb",
      "provenance": [],
      "toc_visible": true,
      "machine_shape": "hm",
      "authorship_tag": "ABX9TyPaFUHBn+NuS96OvdzuDyhE",
      "include_colab_link": true
    },
    "kernelspec": {
      "name": "python3",
      "display_name": "Python 3"
    }
  },
  "cells": [
    {
      "cell_type": "markdown",
      "metadata": {
        "id": "view-in-github",
        "colab_type": "text"
      },
      "source": [
        "<a href=\"https://colab.research.google.com/github/ZeyadSabbah/TrivagoRecommenderSystem/blob/master/EvaluatingModels.ipynb\" target=\"_parent\"><img src=\"https://colab.research.google.com/assets/colab-badge.svg\" alt=\"Open In Colab\"/></a>"
      ]
    },
    {
      "cell_type": "markdown",
      "metadata": {
        "id": "Cr51e1l72qbP",
        "colab_type": "text"
      },
      "source": [
        "# Evaluating Models\n",
        "## Mounting Drive"
      ]
    },
    {
      "cell_type": "code",
      "metadata": {
        "id": "Iub6c1H2sYoz",
        "colab_type": "code",
        "outputId": "c776f9f4-6a8d-4900-8ee4-5dde6a3828ea",
        "colab": {
          "base_uri": "https://localhost:8080/",
          "height": 122
        }
      },
      "source": [
        "from google.colab import drive\n",
        "drive.mount('/content/drive')"
      ],
      "execution_count": 8,
      "outputs": [
        {
          "output_type": "stream",
          "text": [
            "Go to this URL in a browser: https://accounts.google.com/o/oauth2/auth?client_id=947318989803-6bn6qk8qdgf4n4g3pfee6491hc0brc4i.apps.googleusercontent.com&redirect_uri=urn%3aietf%3awg%3aoauth%3a2.0%3aoob&response_type=code&scope=email%20https%3a%2f%2fwww.googleapis.com%2fauth%2fdocs.test%20https%3a%2f%2fwww.googleapis.com%2fauth%2fdrive%20https%3a%2f%2fwww.googleapis.com%2fauth%2fdrive.photos.readonly%20https%3a%2f%2fwww.googleapis.com%2fauth%2fpeopleapi.readonly\n",
            "\n",
            "Enter your authorization code:\n",
            "··········\n",
            "Mounted at /content/drive\n"
          ],
          "name": "stdout"
        }
      ]
    },
    {
      "cell_type": "code",
      "metadata": {
        "id": "sYhABAowsZ49",
        "colab_type": "code",
        "outputId": "511799f1-cb01-49bc-c925-24a9a63d9be8",
        "colab": {
          "base_uri": "https://localhost:8080/",
          "height": 34
        }
      },
      "source": [
        "%cd /content/drive/My Drive/Trivago/Project/TrivagoRecommenderSystem"
      ],
      "execution_count": 9,
      "outputs": [
        {
          "output_type": "stream",
          "text": [
            "/content/drive/My Drive/Trivago/Project/TrivagoRecommenderSystem\n"
          ],
          "name": "stdout"
        }
      ]
    },
    {
      "cell_type": "markdown",
      "metadata": {
        "id": "Pp6mufSj25wO",
        "colab_type": "text"
      },
      "source": [
        "## Loading Libraries & Datasets"
      ]
    },
    {
      "cell_type": "code",
      "metadata": {
        "id": "RvIc037-tx2O",
        "colab_type": "code",
        "colab": {}
      },
      "source": [
        "import pandas as pd\n",
        "import numpy as np\n",
        "from datetime import datetime\n",
        "from datetime import timedelta\n",
        "import math\n",
        "import matplotlib.pyplot as plt\n",
        "from datetime import datetime\n",
        "import re\n",
        "import random\n",
        "import joblib\n",
        "from sklearn.feature_selection import SelectKBest\n",
        "from sklearn.feature_selection import chi2\n",
        "from sklearn.linear_model import LogisticRegression\n",
        "from sklearn.model_selection import GridSearchCV\n",
        "from sklearn.model_selection import train_test_split\n",
        "from sklearn import preprocessing\n",
        "import warnings\n",
        "warnings.filterwarnings('ignore', category=FutureWarning)\n",
        "warnings.filterwarnings('ignore', category=DeprecationWarning)"
      ],
      "execution_count": 0,
      "outputs": []
    },
    {
      "cell_type": "code",
      "metadata": {
        "id": "XD665TzttzXG",
        "colab_type": "code",
        "colab": {}
      },
      "source": [
        "TrainDataFilepath = './Datasets/clean_data/Sets/train.csv'\n",
        "valFilepath = './Datasets/clean_data/Sets/val.csv'\n",
        "testFilepath = './Datasets/clean_data/Sets/test.csv'\n",
        "\n",
        "TrainData = pd.read_csv(TrainDataFilepath)\n",
        "valData = pd.read_csv(valFilepath)\n",
        "testData = pd.read_csv(testFilepath)"
      ],
      "execution_count": 0,
      "outputs": []
    },
    {
      "cell_type": "markdown",
      "metadata": {
        "id": "YyUDPJcZ6JHK",
        "colab_type": "text"
      },
      "source": [
        "## Validation & Test sets' Transformation & Scaling"
      ]
    },
    {
      "cell_type": "code",
      "metadata": {
        "id": "ZYdrMMb5t2dK",
        "colab_type": "code",
        "colab": {}
      },
      "source": [
        "#declaring features and label\n",
        "features = ['price', 'item_rank', 'price_rank', 'session_duration', 'item_duration', 'item_session_duration', 'item_interactions', 'maximum_step', 'top_list',\n",
        "            'NumberOfProperties', 'NumberInImpressions', 'NumberInReferences', 'NumberAsClickout', 'NumberAsFinalClickout', 'FClickoutToImpressions',\n",
        "            'FClickoutToReferences', 'FClickoutToClickout', 'MeanPrice', 'AveragePriceRank']\n",
        "label = ['clickout']\n",
        "X_train = TrainData[features]\n",
        "y_train = TrainData[label]"
      ],
      "execution_count": 0,
      "outputs": []
    },
    {
      "cell_type": "markdown",
      "metadata": {
        "id": "4r9lqBI700W2",
        "colab_type": "text"
      },
      "source": [
        "### Transformation"
      ]
    },
    {
      "cell_type": "code",
      "metadata": {
        "id": "9lOepgZk2ird",
        "colab_type": "code",
        "colab": {}
      },
      "source": [
        "#validation set transformation\n",
        "from data_transformation import data_transformation\n",
        "\n",
        "valData = data_transformation.transform_data(valData)\n",
        "valData_sessions_item = valData[['session_id', 'item_id', 'clickout']]\n",
        "X_val = valData[features]\n",
        "y_val = valData[label]"
      ],
      "execution_count": 0,
      "outputs": []
    },
    {
      "cell_type": "code",
      "metadata": {
        "id": "1Tz_G0TVk2Tr",
        "colab_type": "code",
        "colab": {}
      },
      "source": [
        "#test set transformation and scaling\n",
        "testData = data_transformation.transform_data(testData)\n",
        "testData_sessions_item = testData[['session_id', 'item_id', 'clickout']]\n",
        "X_test = testData[features]\n",
        "y_test  = testData[label]"
      ],
      "execution_count": 0,
      "outputs": []
    },
    {
      "cell_type": "code",
      "metadata": {
        "id": "SJ0q7AXQ_Qmz",
        "colab_type": "code",
        "colab": {}
      },
      "source": [
        "valData.to_csv('./Datasets/clean_data/Sets/val.csv', index=False)\n",
        "testData.to_csv('./Datasets/clean_data/Sets/test.csv', index=False)"
      ],
      "execution_count": 0,
      "outputs": []
    },
    {
      "cell_type": "code",
      "metadata": {
        "id": "2QH_PIdjDgJ1",
        "colab_type": "code",
        "colab": {}
      },
      "source": [
        "features = ['price', 'item_rank', 'price_rank', 'session_duration', 'item_duration', 'item_session_duration', 'item_interactions', 'maximum_step', 'top_list',\n",
        "            'NumberOfProperties', 'NumberInImpressions', 'NumberInReferences', 'NumberAsClickout', 'NumberAsFinalClickout', 'FClickoutToImpressions',\n",
        "            'FClickoutToReferences', 'FClickoutToClickout', 'MeanPrice', 'AveragePriceRank']\n",
        "label = ['clickout']\n",
        "\n",
        "valData = pd.read_csv('./Datasets/clean_data/Sets/val.csv')\n",
        "valData_sessions_item = valData[['session_id', 'item_id', 'clickout']]\n",
        "X_val = valData[features]\n",
        "y_val = valData[label]\n",
        "\n",
        "testData = pd.read_csv('./Datasets/clean_data/Sets/test.csv')\n",
        "testData_sessions_item = testData[['session_id', 'item_id', 'clickout']]\n",
        "X_test = testData[features]\n",
        "y_test  = testData[label]"
      ],
      "execution_count": 0,
      "outputs": []
    },
    {
      "cell_type": "markdown",
      "metadata": {
        "id": "7mwDTmto1W6M",
        "colab_type": "text"
      },
      "source": [
        "### Scaling"
      ]
    },
    {
      "cell_type": "code",
      "metadata": {
        "id": "r_xDcgECn9cZ",
        "colab_type": "code",
        "colab": {}
      },
      "source": [
        "from sklearn.pipeline import Pipeline\n",
        "from sklearn.preprocessing import StandardScaler\n",
        "from sklearn.impute import SimpleImputer\n",
        "\n",
        "num_pipeline = Pipeline([\n",
        "('imputer', SimpleImputer(strategy=\"median\")),\n",
        "('std_scaler', StandardScaler()),\n",
        "])\n",
        "\n",
        "from sklearn.compose import ColumnTransformer\n",
        "full_pipeline = ColumnTransformer([\n",
        "(\"num\", num_pipeline, list(X_train))\n",
        "])\n",
        "\n",
        "# training set scaling\n",
        "X_train_scaled = full_pipeline.fit_transform(X_train)\n",
        "\n",
        "# validation set scaling\n",
        "X_val_scaled = full_pipeline.fit_transform(X_val)\n",
        "\n",
        "# test set scaling\n",
        "X_test_scaled = full_pipeline.fit_transform(X_test)"
      ],
      "execution_count": 0,
      "outputs": []
    },
    {
      "cell_type": "code",
      "metadata": {
        "id": "9XMaSnk1-it3",
        "colab_type": "code",
        "colab": {}
      },
      "source": [
        "np.save('Datasets/clean_data/Xscaled/X_train_scaled.npy', X_train_scaled)\n",
        "np.save('Datasets/clean_data/Xscaled/X_val_scaled.npy', X_val_scaled)\n",
        "np.save('Datasets/clean_data/Xscaled/X_test_scaled.npy', X_test_scaled)"
      ],
      "execution_count": 0,
      "outputs": []
    },
    {
      "cell_type": "code",
      "metadata": {
        "id": "CZrXz7otF6MX",
        "colab_type": "code",
        "colab": {}
      },
      "source": [
        "X_train_scaled = np.load('./Datasets/clean_data/Xscaled/X_train_scaled.npy')\n",
        "X_val_scaled = np.load('./Datasets/clean_data/Xscaled/X_val_scaled.npy')\n",
        "X_test_scaled = np.load('./Datasets/clean_data/Xscaled/X_test_scaled.npy')"
      ],
      "execution_count": 0,
      "outputs": []
    },
    {
      "cell_type": "markdown",
      "metadata": {
        "id": "xpXoItQMmFst",
        "colab_type": "text"
      },
      "source": [
        "## Mean Reciprocal Rank\n",
        "Mean Reciprocal Rank is a measure to evaluate systems that return a ranked list of answers to queries."
      ]
    },
    {
      "cell_type": "code",
      "metadata": {
        "id": "dFduu6DBEmzv",
        "colab_type": "code",
        "colab": {}
      },
      "source": [
        "#function is from this page https://gist.github.com/bwhite/3726239\n",
        "def mean_reciprocal_rank(rs):\n",
        "    \"\"\"Score is reciprocal of the rank of the first relevant item\n",
        "    First element is 'rank 1'.  Relevance is binary (nonzero is relevant).\n",
        "    Example from http://en.wikipedia.org/wiki/Mean_reciprocal_rank\n",
        "    >>> rs = [[0, 0, 1], [0, 1, 0], [1, 0, 0]]\n",
        "    >>> mean_reciprocal_rank(rs)\n",
        "    0.61111111111111105\n",
        "    >>> rs = np.array([[0, 0, 0], [0, 1, 0], [1, 0, 0]])\n",
        "    >>> mean_reciprocal_rank(rs)\n",
        "    0.5\n",
        "    >>> rs = [[0, 0, 0, 1], [1, 0, 0], [1, 0, 0]]\n",
        "    >>> mean_reciprocal_rank(rs)\n",
        "    0.75\n",
        "    Args:\n",
        "        rs: Iterator of relevance scores (list or numpy) in rank order\n",
        "            (first element is the first item)\n",
        "    Returns:\n",
        "        Mean reciprocal rank\n",
        "    \"\"\"\n",
        "    rs = (np.asarray(r).nonzero()[0] for r in rs)\n",
        "    return np.mean([1. / (r[0] + 1) if r.size else 0. for r in rs])"
      ],
      "execution_count": 0,
      "outputs": []
    },
    {
      "cell_type": "code",
      "metadata": {
        "id": "hUe_7a6LCl_n",
        "colab_type": "code",
        "colab": {}
      },
      "source": [
        "def get_probabilities(model_name, X, session_item_dataset):\n",
        "  '''\n",
        "  Desc: function that gets the probability of each item being selected by the user, rerank the items in the session based on the probabilites\n",
        "\n",
        "  Input: model_path: String with the name of the stored model\n",
        "         X: array of scaled features of the dataset\n",
        "         session_item_dataset: Pandas Dataframe with the sessions, items, and clickout\n",
        "        \n",
        "  Output: clickout_rank: List of lists that carries which item was selected in which rank\n",
        "          RecommendationsDF: Pandas Dataframe to be transformed and merged to the Clickout Dataframe\n",
        "  '''\n",
        "  model = joblib.load(model_name)\n",
        "  BothProbabilities = model.predict_proba(X)\n",
        "  Probabilities = [Probability[1] for Probability in BothProbabilities]\n",
        "  session_item_dataset['probability'] = Probabilities\n",
        "  RecommendationsDF = session_item_dataset.groupby(['session_id'], sort=False).apply(lambda x: (x.sort_values('probability', ascending=False)))\n",
        "  clickout_rank = RecommendationsDF.clickout\n",
        "  clickout_rank = clickout_rank.reset_index().groupby('session_id').clickout.apply(list).values.tolist()\n",
        "  return clickout_rank, RecommendationsDF"
      ],
      "execution_count": 0,
      "outputs": []
    },
    {
      "cell_type": "markdown",
      "metadata": {
        "id": "gXYC4rqrlW_H",
        "colab_type": "text"
      },
      "source": [
        "## Evaluating Models"
      ]
    },
    {
      "cell_type": "markdown",
      "metadata": {
        "id": "nJ2RBEtOlhzx",
        "colab_type": "text"
      },
      "source": [
        "### Without Resampling"
      ]
    },
    {
      "cell_type": "markdown",
      "metadata": {
        "id": "AUSv8x8vlkYr",
        "colab_type": "text"
      },
      "source": [
        "#### Logistic Regression"
      ]
    },
    {
      "cell_type": "markdown",
      "metadata": {
        "id": "M2dlmkWCRRc1",
        "colab_type": "text"
      },
      "source": [
        "Just for clarification of what the get_probabilities function does, output of each step will be displayed, but for the next models, the function will be used."
      ]
    },
    {
      "cell_type": "code",
      "metadata": {
        "id": "EYJtW8KU44e3",
        "colab_type": "code",
        "outputId": "4a61c4ea-527f-4b09-cccc-9a6bf0b3d7f8",
        "colab": {
          "base_uri": "https://localhost:8080/",
          "height": 102
        }
      },
      "source": [
        "LR_model = joblib.load('./models/LR_model.pkl')\n",
        "Predictions = LR_model.predict(X_val_scaled)\n",
        "BothProbabilities = LR_model.predict_proba(X_val_scaled)\n",
        "Probabilities = [Probability[1] for Probability in BothProbabilities]\n",
        "Probabilities[0:5]"
      ],
      "execution_count": 11,
      "outputs": [
        {
          "output_type": "execute_result",
          "data": {
            "text/plain": [
              "[0.6264243522902887,\n",
              " 0.0864607562807736,\n",
              " 0.050074727810139726,\n",
              " 0.049020062188232,\n",
              " 0.09721132037632076]"
            ]
          },
          "metadata": {
            "tags": []
          },
          "execution_count": 11
        }
      ]
    },
    {
      "cell_type": "code",
      "metadata": {
        "id": "XP1f7-LmrR_t",
        "colab_type": "code",
        "outputId": "432df477-4825-46e8-d576-573164d760e1",
        "colab": {
          "base_uri": "https://localhost:8080/",
          "height": 306
        }
      },
      "source": [
        "valData_sessions_item['probability'] = Probabilities\n",
        "valData_sessions_item.head()"
      ],
      "execution_count": 12,
      "outputs": [
        {
          "output_type": "stream",
          "text": [
            "/usr/local/lib/python3.6/dist-packages/ipykernel_launcher.py:1: SettingWithCopyWarning: \n",
            "A value is trying to be set on a copy of a slice from a DataFrame.\n",
            "Try using .loc[row_indexer,col_indexer] = value instead\n",
            "\n",
            "See the caveats in the documentation: http://pandas.pydata.org/pandas-docs/stable/user_guide/indexing.html#returning-a-view-versus-a-copy\n",
            "  \"\"\"Entry point for launching an IPython kernel.\n"
          ],
          "name": "stderr"
        },
        {
          "output_type": "execute_result",
          "data": {
            "text/html": [
              "<div>\n",
              "<style scoped>\n",
              "    .dataframe tbody tr th:only-of-type {\n",
              "        vertical-align: middle;\n",
              "    }\n",
              "\n",
              "    .dataframe tbody tr th {\n",
              "        vertical-align: top;\n",
              "    }\n",
              "\n",
              "    .dataframe thead th {\n",
              "        text-align: right;\n",
              "    }\n",
              "</style>\n",
              "<table border=\"1\" class=\"dataframe\">\n",
              "  <thead>\n",
              "    <tr style=\"text-align: right;\">\n",
              "      <th></th>\n",
              "      <th>session_id</th>\n",
              "      <th>item_id</th>\n",
              "      <th>clickout</th>\n",
              "      <th>probability</th>\n",
              "    </tr>\n",
              "  </thead>\n",
              "  <tbody>\n",
              "    <tr>\n",
              "      <th>0</th>\n",
              "      <td>06e7c29170946</td>\n",
              "      <td>10091602</td>\n",
              "      <td>0</td>\n",
              "      <td>0.626424</td>\n",
              "    </tr>\n",
              "    <tr>\n",
              "      <th>1</th>\n",
              "      <td>06e7c29170946</td>\n",
              "      <td>6625240</td>\n",
              "      <td>0</td>\n",
              "      <td>0.086461</td>\n",
              "    </tr>\n",
              "    <tr>\n",
              "      <th>2</th>\n",
              "      <td>06e7c29170946</td>\n",
              "      <td>9386776</td>\n",
              "      <td>0</td>\n",
              "      <td>0.050075</td>\n",
              "    </tr>\n",
              "    <tr>\n",
              "      <th>3</th>\n",
              "      <td>06e7c29170946</td>\n",
              "      <td>3954788</td>\n",
              "      <td>0</td>\n",
              "      <td>0.049020</td>\n",
              "    </tr>\n",
              "    <tr>\n",
              "      <th>4</th>\n",
              "      <td>06e7c29170946</td>\n",
              "      <td>9776792</td>\n",
              "      <td>0</td>\n",
              "      <td>0.097211</td>\n",
              "    </tr>\n",
              "  </tbody>\n",
              "</table>\n",
              "</div>"
            ],
            "text/plain": [
              "      session_id   item_id  clickout  probability\n",
              "0  06e7c29170946  10091602         0     0.626424\n",
              "1  06e7c29170946   6625240         0     0.086461\n",
              "2  06e7c29170946   9386776         0     0.050075\n",
              "3  06e7c29170946   3954788         0     0.049020\n",
              "4  06e7c29170946   9776792         0     0.097211"
            ]
          },
          "metadata": {
            "tags": []
          },
          "execution_count": 12
        }
      ]
    },
    {
      "cell_type": "code",
      "metadata": {
        "id": "EOsDu71_4QG3",
        "colab_type": "code",
        "outputId": "67cd4853-4af2-481c-eb6e-bb496819d8f5",
        "colab": {
          "base_uri": "https://localhost:8080/",
          "height": 102
        }
      },
      "source": [
        "clickout_rank = valData_sessions_item.groupby(['session_id'], sort=False).apply(lambda x: (x.sort_values('probability', ascending=False))).clickout\n",
        "clickout_rank = clickout_rank.reset_index().groupby('session_id').clickout.apply(list).values.tolist()\n",
        "clickout_rank[0:5]"
      ],
      "execution_count": 13,
      "outputs": [
        {
          "output_type": "execute_result",
          "data": {
            "text/plain": [
              "[[1, 0, 0, 0, 0, 0, 0, 0, 0, 0, 0, 0, 0, 0, 0, 0, 0, 0, 0, 0, 0, 0, 0, 0, 0],\n",
              " [0, 1, 0, 0, 0, 0, 0, 0, 0, 0, 0, 0, 0, 0, 0, 0, 0, 0, 0, 0, 0, 0, 0, 0, 0],\n",
              " [0, 1, 0, 0, 0, 0, 0, 0, 0, 0, 0, 0, 0, 0, 0, 0, 0, 0, 0, 0, 0, 0, 0, 0, 0],\n",
              " [0, 0, 1, 0, 0, 0, 0, 0, 0, 0, 0, 0, 0, 0, 0, 0, 0, 0, 0, 0, 0, 0, 0, 0, 0],\n",
              " [1, 0, 0, 0, 0, 0, 0, 0, 0, 0, 0, 0, 0, 0, 0, 0, 0, 0, 0, 0, 0, 0, 0, 0, 0]]"
            ]
          },
          "metadata": {
            "tags": []
          },
          "execution_count": 13
        }
      ]
    },
    {
      "cell_type": "code",
      "metadata": {
        "colab_type": "code",
        "id": "N7fGDMg5iu_q",
        "outputId": "01ccf7c0-2e5f-40c4-b716-0f4d47a55edc",
        "colab": {
          "base_uri": "https://localhost:8080/",
          "height": 34
        }
      },
      "source": [
        "mean_reciprocal_rank(clickout_rank)"
      ],
      "execution_count": 14,
      "outputs": [
        {
          "output_type": "execute_result",
          "data": {
            "text/plain": [
              "0.47126180743207063"
            ]
          },
          "metadata": {
            "tags": []
          },
          "execution_count": 14
        }
      ]
    },
    {
      "cell_type": "markdown",
      "metadata": {
        "id": "nOjtFcDrFiNO",
        "colab_type": "text"
      },
      "source": [
        "**By function**"
      ]
    },
    {
      "cell_type": "code",
      "metadata": {
        "id": "-oTAhhUkFTnU",
        "colab_type": "code",
        "colab": {
          "base_uri": "https://localhost:8080/",
          "height": 136
        },
        "outputId": "8770e420-aa1a-403f-b087-7748bf18e53b"
      },
      "source": [
        "clickout_rank, Output = get_probabilities('./models/LR_model.pkl', X_val_scaled, valData_sessions_item)\n",
        "mean_reciprocal_rank(clickout_rank)"
      ],
      "execution_count": 8,
      "outputs": [
        {
          "output_type": "stream",
          "text": [
            "/usr/local/lib/python3.6/dist-packages/ipykernel_launcher.py:15: SettingWithCopyWarning: \n",
            "A value is trying to be set on a copy of a slice from a DataFrame.\n",
            "Try using .loc[row_indexer,col_indexer] = value instead\n",
            "\n",
            "See the caveats in the documentation: http://pandas.pydata.org/pandas-docs/stable/user_guide/indexing.html#returning-a-view-versus-a-copy\n",
            "  from ipykernel import kernelapp as app\n"
          ],
          "name": "stderr"
        },
        {
          "output_type": "execute_result",
          "data": {
            "text/plain": [
              "0.47126180743207063"
            ]
          },
          "metadata": {
            "tags": []
          },
          "execution_count": 8
        }
      ]
    },
    {
      "cell_type": "markdown",
      "metadata": {
        "id": "VUXvrnUxFltP",
        "colab_type": "text"
      },
      "source": [
        "#### Random Forest"
      ]
    },
    {
      "cell_type": "code",
      "metadata": {
        "id": "RtUgEQc5Fp2q",
        "colab_type": "code",
        "colab": {
          "base_uri": "https://localhost:8080/",
          "height": 136
        },
        "outputId": "278e0b2c-6c3c-42be-cde3-75af881cf29a"
      },
      "source": [
        "clickout_rank, Output = get_probabilities('./models/RF_model.pkl', X_val_scaled, valData_sessions_item)\n",
        "mean_reciprocal_rank(clickout_rank)"
      ],
      "execution_count": 10,
      "outputs": [
        {
          "output_type": "stream",
          "text": [
            "/usr/local/lib/python3.6/dist-packages/ipykernel_launcher.py:15: SettingWithCopyWarning: \n",
            "A value is trying to be set on a copy of a slice from a DataFrame.\n",
            "Try using .loc[row_indexer,col_indexer] = value instead\n",
            "\n",
            "See the caveats in the documentation: http://pandas.pydata.org/pandas-docs/stable/user_guide/indexing.html#returning-a-view-versus-a-copy\n",
            "  from ipykernel import kernelapp as app\n"
          ],
          "name": "stderr"
        },
        {
          "output_type": "execute_result",
          "data": {
            "text/plain": [
              "0.561075864904377"
            ]
          },
          "metadata": {
            "tags": []
          },
          "execution_count": 10
        }
      ]
    },
    {
      "cell_type": "markdown",
      "metadata": {
        "id": "NCsZ7_ohF5jB",
        "colab_type": "text"
      },
      "source": [
        "####XGBoost"
      ]
    },
    {
      "cell_type": "code",
      "metadata": {
        "id": "_zikgIfuF-FR",
        "colab_type": "code",
        "colab": {
          "base_uri": "https://localhost:8080/",
          "height": 136
        },
        "outputId": "bf73fd42-267d-44c6-d7c7-e2de279cca3b"
      },
      "source": [
        "clickout_rank, DF_Probabilities = get_probabilities('./models/XGBoost_model.pkl', X_val_scaled, valData_sessions_item)\n",
        "mean_reciprocal_rank(clickout_rank)"
      ],
      "execution_count": 19,
      "outputs": [
        {
          "output_type": "stream",
          "text": [
            "/usr/local/lib/python3.6/dist-packages/ipykernel_launcher.py:15: SettingWithCopyWarning: \n",
            "A value is trying to be set on a copy of a slice from a DataFrame.\n",
            "Try using .loc[row_indexer,col_indexer] = value instead\n",
            "\n",
            "See the caveats in the documentation: http://pandas.pydata.org/pandas-docs/stable/user_guide/indexing.html#returning-a-view-versus-a-copy\n",
            "  from ipykernel import kernelapp as app\n"
          ],
          "name": "stderr"
        },
        {
          "output_type": "execute_result",
          "data": {
            "text/plain": [
              "0.5655116470914219"
            ]
          },
          "metadata": {
            "tags": []
          },
          "execution_count": 19
        }
      ]
    },
    {
      "cell_type": "markdown",
      "metadata": {
        "id": "UMaEbLhgHOmy",
        "colab_type": "text"
      },
      "source": [
        "### With SMOTE"
      ]
    },
    {
      "cell_type": "markdown",
      "metadata": {
        "id": "5S37bRTsHRSQ",
        "colab_type": "text"
      },
      "source": [
        "####Logistic Regression"
      ]
    },
    {
      "cell_type": "code",
      "metadata": {
        "id": "WEyGyfMgHQfr",
        "colab_type": "code",
        "colab": {
          "base_uri": "https://localhost:8080/",
          "height": 136
        },
        "outputId": "2fe5e328-711d-4500-aa9b-d615d706a44a"
      },
      "source": [
        "clickout_rank, Output = get_probabilities('./modelsSMOTE/LR_modelSMOTE.pkl', X_val_scaled, valData_sessions_item)\n",
        "mean_reciprocal_rank(clickout_rank)"
      ],
      "execution_count": 20,
      "outputs": [
        {
          "output_type": "stream",
          "text": [
            "/usr/local/lib/python3.6/dist-packages/ipykernel_launcher.py:15: SettingWithCopyWarning: \n",
            "A value is trying to be set on a copy of a slice from a DataFrame.\n",
            "Try using .loc[row_indexer,col_indexer] = value instead\n",
            "\n",
            "See the caveats in the documentation: http://pandas.pydata.org/pandas-docs/stable/user_guide/indexing.html#returning-a-view-versus-a-copy\n",
            "  from ipykernel import kernelapp as app\n"
          ],
          "name": "stderr"
        },
        {
          "output_type": "execute_result",
          "data": {
            "text/plain": [
              "0.4694871489433295"
            ]
          },
          "metadata": {
            "tags": []
          },
          "execution_count": 20
        }
      ]
    },
    {
      "cell_type": "markdown",
      "metadata": {
        "id": "dOJhsiwWoOtu",
        "colab_type": "text"
      },
      "source": [
        "### With Undersampling"
      ]
    },
    {
      "cell_type": "markdown",
      "metadata": {
        "id": "IG9n_y4yoR02",
        "colab_type": "text"
      },
      "source": [
        "#### Logistic Regression"
      ]
    },
    {
      "cell_type": "code",
      "metadata": {
        "id": "XmsEpHILoWcg",
        "colab_type": "code",
        "outputId": "d7c53a3d-92d9-483f-f326-0be42d067ec2",
        "colab": {
          "base_uri": "https://localhost:8080/",
          "height": 136
        }
      },
      "source": [
        "clickout_rank, Output = get_probabilities('./modelsUnderSampling/LR_modelUndersampling.pkl', X_val_scaled, valData_sessions_item)\n",
        "mean_reciprocal_rank(clickout_rank)"
      ],
      "execution_count": 12,
      "outputs": [
        {
          "output_type": "stream",
          "text": [
            "/usr/local/lib/python3.6/dist-packages/ipykernel_launcher.py:15: SettingWithCopyWarning: \n",
            "A value is trying to be set on a copy of a slice from a DataFrame.\n",
            "Try using .loc[row_indexer,col_indexer] = value instead\n",
            "\n",
            "See the caveats in the documentation: http://pandas.pydata.org/pandas-docs/stable/user_guide/indexing.html#returning-a-view-versus-a-copy\n",
            "  from ipykernel import kernelapp as app\n"
          ],
          "name": "stderr"
        },
        {
          "output_type": "execute_result",
          "data": {
            "text/plain": [
              "0.46915470104643736"
            ]
          },
          "metadata": {
            "tags": []
          },
          "execution_count": 12
        }
      ]
    },
    {
      "cell_type": "markdown",
      "metadata": {
        "id": "d_FplZiyPDHh",
        "colab_type": "text"
      },
      "source": [
        "#### Random Forest"
      ]
    },
    {
      "cell_type": "code",
      "metadata": {
        "id": "DnHQ7GEhPFJi",
        "colab_type": "code",
        "outputId": "c8a776d5-3eb3-459c-eba8-1093dc61f30e",
        "colab": {
          "base_uri": "https://localhost:8080/",
          "height": 136
        }
      },
      "source": [
        "clickout_rank, DF_Probabilities = get_probabilities('./modelsUnderSampling/RF_modelUnderSampling.pkl', X_val_scaled, valData_sessions_item)\n",
        "mean_reciprocal_rank(clickout_rank)"
      ],
      "execution_count": 11,
      "outputs": [
        {
          "output_type": "stream",
          "text": [
            "/usr/local/lib/python3.6/dist-packages/ipykernel_launcher.py:15: SettingWithCopyWarning: \n",
            "A value is trying to be set on a copy of a slice from a DataFrame.\n",
            "Try using .loc[row_indexer,col_indexer] = value instead\n",
            "\n",
            "See the caveats in the documentation: http://pandas.pydata.org/pandas-docs/stable/user_guide/indexing.html#returning-a-view-versus-a-copy\n",
            "  from ipykernel import kernelapp as app\n"
          ],
          "name": "stderr"
        },
        {
          "output_type": "execute_result",
          "data": {
            "text/plain": [
              "0.5551711886318428"
            ]
          },
          "metadata": {
            "tags": []
          },
          "execution_count": 11
        }
      ]
    },
    {
      "cell_type": "markdown",
      "metadata": {
        "id": "sXX8Zg_s9qyI",
        "colab_type": "text"
      },
      "source": [
        "#### XGBoost"
      ]
    },
    {
      "cell_type": "code",
      "metadata": {
        "id": "jsF_xvtu9od3",
        "colab_type": "code",
        "colab": {
          "base_uri": "https://localhost:8080/",
          "height": 136
        },
        "outputId": "80d98b20-78fc-49cc-f768-e5334ef2e8d7"
      },
      "source": [
        "clickout_rank, DF_Probabilities = get_probabilities('./modelsUnderSampling/XGBoost_UndersSampling.pkl', X_val_scaled, valData_sessions_item)\n",
        "mean_reciprocal_rank(clickout_rank)"
      ],
      "execution_count": 8,
      "outputs": [
        {
          "output_type": "stream",
          "text": [
            "/usr/local/lib/python3.6/dist-packages/ipykernel_launcher.py:15: SettingWithCopyWarning: \n",
            "A value is trying to be set on a copy of a slice from a DataFrame.\n",
            "Try using .loc[row_indexer,col_indexer] = value instead\n",
            "\n",
            "See the caveats in the documentation: http://pandas.pydata.org/pandas-docs/stable/user_guide/indexing.html#returning-a-view-versus-a-copy\n",
            "  from ipykernel import kernelapp as app\n"
          ],
          "name": "stderr"
        },
        {
          "output_type": "execute_result",
          "data": {
            "text/plain": [
              "0.5601924601401805"
            ]
          },
          "metadata": {
            "tags": []
          },
          "execution_count": 8
        }
      ]
    },
    {
      "cell_type": "markdown",
      "metadata": {
        "id": "hk12Lds1ibZv",
        "colab_type": "text"
      },
      "source": [
        "## Submission"
      ]
    },
    {
      "cell_type": "markdown",
      "metadata": {
        "id": "_nTh7w_p1Z87",
        "colab_type": "text"
      },
      "source": [
        "In the future, the challenge might be a public competition, in that case transformation of the output is needed."
      ]
    },
    {
      "cell_type": "code",
      "metadata": {
        "id": "YHLo6Dbictqv",
        "colab_type": "code",
        "outputId": "c4c48fb0-1fed-46c3-854a-310a199ba3e9",
        "colab": {
          "base_uri": "https://localhost:8080/",
          "height": 394
        }
      },
      "source": [
        "test_set_filepath = './Datasets/raw_data/test.csv'\n",
        "test_set = pd.read_csv(test_set_filepath)\n",
        "test_set.head()"
      ],
      "execution_count": 16,
      "outputs": [
        {
          "output_type": "execute_result",
          "data": {
            "text/html": [
              "<div>\n",
              "<style scoped>\n",
              "    .dataframe tbody tr th:only-of-type {\n",
              "        vertical-align: middle;\n",
              "    }\n",
              "\n",
              "    .dataframe tbody tr th {\n",
              "        vertical-align: top;\n",
              "    }\n",
              "\n",
              "    .dataframe thead th {\n",
              "        text-align: right;\n",
              "    }\n",
              "</style>\n",
              "<table border=\"1\" class=\"dataframe\">\n",
              "  <thead>\n",
              "    <tr style=\"text-align: right;\">\n",
              "      <th></th>\n",
              "      <th>user_id</th>\n",
              "      <th>session_id</th>\n",
              "      <th>timestamp</th>\n",
              "      <th>step</th>\n",
              "      <th>action_type</th>\n",
              "      <th>reference</th>\n",
              "      <th>platform</th>\n",
              "      <th>city</th>\n",
              "      <th>device</th>\n",
              "      <th>current_filters</th>\n",
              "      <th>impressions</th>\n",
              "      <th>prices</th>\n",
              "    </tr>\n",
              "  </thead>\n",
              "  <tbody>\n",
              "    <tr>\n",
              "      <th>0</th>\n",
              "      <td>004A07DM0IDW</td>\n",
              "      <td>1d688ec168932</td>\n",
              "      <td>1541555614</td>\n",
              "      <td>1</td>\n",
              "      <td>interaction item image</td>\n",
              "      <td>2059240</td>\n",
              "      <td>CO</td>\n",
              "      <td>Santa Marta, Colombia</td>\n",
              "      <td>mobile</td>\n",
              "      <td>NaN</td>\n",
              "      <td>NaN</td>\n",
              "      <td>NaN</td>\n",
              "    </tr>\n",
              "    <tr>\n",
              "      <th>1</th>\n",
              "      <td>004A07DM0IDW</td>\n",
              "      <td>1d688ec168932</td>\n",
              "      <td>1541555614</td>\n",
              "      <td>2</td>\n",
              "      <td>interaction item image</td>\n",
              "      <td>2059240</td>\n",
              "      <td>CO</td>\n",
              "      <td>Santa Marta, Colombia</td>\n",
              "      <td>mobile</td>\n",
              "      <td>NaN</td>\n",
              "      <td>NaN</td>\n",
              "      <td>NaN</td>\n",
              "    </tr>\n",
              "    <tr>\n",
              "      <th>2</th>\n",
              "      <td>004A07DM0IDW</td>\n",
              "      <td>1d688ec168932</td>\n",
              "      <td>1541555696</td>\n",
              "      <td>3</td>\n",
              "      <td>clickout item</td>\n",
              "      <td>1050068</td>\n",
              "      <td>CO</td>\n",
              "      <td>Santa Marta, Colombia</td>\n",
              "      <td>mobile</td>\n",
              "      <td>NaN</td>\n",
              "      <td>2059240|2033381|1724779|127131|399441|103357|1...</td>\n",
              "      <td>70|46|48|76|65|65|106|66|87|43|52|44|60|61|50|...</td>\n",
              "    </tr>\n",
              "    <tr>\n",
              "      <th>3</th>\n",
              "      <td>004A07DM0IDW</td>\n",
              "      <td>1d688ec168932</td>\n",
              "      <td>1541555707</td>\n",
              "      <td>4</td>\n",
              "      <td>clickout item</td>\n",
              "      <td>1050068</td>\n",
              "      <td>CO</td>\n",
              "      <td>Santa Marta, Colombia</td>\n",
              "      <td>mobile</td>\n",
              "      <td>NaN</td>\n",
              "      <td>2059240|2033381|1724779|127131|399441|103357|1...</td>\n",
              "      <td>70|46|48|76|65|65|106|66|87|43|52|44|60|61|50|...</td>\n",
              "    </tr>\n",
              "    <tr>\n",
              "      <th>4</th>\n",
              "      <td>004A07DM0IDW</td>\n",
              "      <td>1d688ec168932</td>\n",
              "      <td>1541555717</td>\n",
              "      <td>5</td>\n",
              "      <td>clickout item</td>\n",
              "      <td>1050068</td>\n",
              "      <td>CO</td>\n",
              "      <td>Santa Marta, Colombia</td>\n",
              "      <td>mobile</td>\n",
              "      <td>NaN</td>\n",
              "      <td>2059240|2033381|1724779|127131|399441|103357|1...</td>\n",
              "      <td>70|46|48|76|65|65|106|66|87|43|52|44|60|61|50|...</td>\n",
              "    </tr>\n",
              "  </tbody>\n",
              "</table>\n",
              "</div>"
            ],
            "text/plain": [
              "        user_id  ...                                             prices\n",
              "0  004A07DM0IDW  ...                                                NaN\n",
              "1  004A07DM0IDW  ...                                                NaN\n",
              "2  004A07DM0IDW  ...  70|46|48|76|65|65|106|66|87|43|52|44|60|61|50|...\n",
              "3  004A07DM0IDW  ...  70|46|48|76|65|65|106|66|87|43|52|44|60|61|50|...\n",
              "4  004A07DM0IDW  ...  70|46|48|76|65|65|106|66|87|43|52|44|60|61|50|...\n",
              "\n",
              "[5 rows x 12 columns]"
            ]
          },
          "metadata": {
            "tags": []
          },
          "execution_count": 16
        }
      ]
    },
    {
      "cell_type": "code",
      "metadata": {
        "id": "eP9HzyKzY6QD",
        "colab_type": "code",
        "outputId": "bf2e4bda-4cc1-490a-a0e3-dfb3671b36c2",
        "colab": {
          "base_uri": "https://localhost:8080/",
          "height": 204
        }
      },
      "source": [
        "submission_format_filepath = './Datasets/raw_data/submission_popular.csv'\n",
        "submission_format = pd.read_csv(submission_format_filepath)\n",
        "submission_format.head()"
      ],
      "execution_count": 17,
      "outputs": [
        {
          "output_type": "execute_result",
          "data": {
            "text/html": [
              "<div>\n",
              "<style scoped>\n",
              "    .dataframe tbody tr th:only-of-type {\n",
              "        vertical-align: middle;\n",
              "    }\n",
              "\n",
              "    .dataframe tbody tr th {\n",
              "        vertical-align: top;\n",
              "    }\n",
              "\n",
              "    .dataframe thead th {\n",
              "        text-align: right;\n",
              "    }\n",
              "</style>\n",
              "<table border=\"1\" class=\"dataframe\">\n",
              "  <thead>\n",
              "    <tr style=\"text-align: right;\">\n",
              "      <th></th>\n",
              "      <th>user_id</th>\n",
              "      <th>session_id</th>\n",
              "      <th>timestamp</th>\n",
              "      <th>step</th>\n",
              "      <th>item_recommendations</th>\n",
              "    </tr>\n",
              "  </thead>\n",
              "  <tbody>\n",
              "    <tr>\n",
              "      <th>0</th>\n",
              "      <td>000324D9BBUC</td>\n",
              "      <td>89643988fdbfb</td>\n",
              "      <td>1541593942</td>\n",
              "      <td>10</td>\n",
              "      <td>924795 106315 1033140 119494 101758 903037 105...</td>\n",
              "    </tr>\n",
              "    <tr>\n",
              "      <th>1</th>\n",
              "      <td>0004Q49X39PY</td>\n",
              "      <td>9de47d9a66494</td>\n",
              "      <td>1541641157</td>\n",
              "      <td>1</td>\n",
              "      <td>3505150 3812004 2227896 2292254 3184842 222702...</td>\n",
              "    </tr>\n",
              "    <tr>\n",
              "      <th>2</th>\n",
              "      <td>0004Q49X39PY</td>\n",
              "      <td>beea5c27030cb</td>\n",
              "      <td>1541561202</td>\n",
              "      <td>1</td>\n",
              "      <td>4476010 3505150 3812004 2227896 2292254 222702...</td>\n",
              "    </tr>\n",
              "    <tr>\n",
              "      <th>3</th>\n",
              "      <td>00071784XQ6B</td>\n",
              "      <td>9617600e1ba7c</td>\n",
              "      <td>1541630328</td>\n",
              "      <td>2</td>\n",
              "      <td>22854 3067559 22721 22713 16121 22772 22727 22...</td>\n",
              "    </tr>\n",
              "    <tr>\n",
              "      <th>4</th>\n",
              "      <td>0008BO33KUQ0</td>\n",
              "      <td>2d0e2102ee0dc</td>\n",
              "      <td>1541636411</td>\n",
              "      <td>6</td>\n",
              "      <td>9857656 5849628 655716 1352530 502066 1405084 ...</td>\n",
              "    </tr>\n",
              "  </tbody>\n",
              "</table>\n",
              "</div>"
            ],
            "text/plain": [
              "        user_id  ...                               item_recommendations\n",
              "0  000324D9BBUC  ...  924795 106315 1033140 119494 101758 903037 105...\n",
              "1  0004Q49X39PY  ...  3505150 3812004 2227896 2292254 3184842 222702...\n",
              "2  0004Q49X39PY  ...  4476010 3505150 3812004 2227896 2292254 222702...\n",
              "3  00071784XQ6B  ...  22854 3067559 22721 22713 16121 22772 22727 22...\n",
              "4  0008BO33KUQ0  ...  9857656 5849628 655716 1352530 502066 1405084 ...\n",
              "\n",
              "[5 rows x 5 columns]"
            ]
          },
          "metadata": {
            "tags": []
          },
          "execution_count": 17
        }
      ]
    },
    {
      "cell_type": "code",
      "metadata": {
        "id": "z4ZHi_fYenFF",
        "colab_type": "code",
        "colab": {}
      },
      "source": [
        "def transform_Recommendations(clickout_dataframe, RecommendationsDF):\n",
        "  ListOfItems = RecommendationsDF.reset_index(drop=True)[['session_id', 'item_id']].groupby('session_id', sort=False).item_id.apply(pd.Series.tolist).tolist()\n",
        "  SessionsListOfItems = pd.DataFrame({'session_id':RecommendationsDF.session_id.unique().tolist(),\n",
        "                                      'item_recommendations':ListOfItems})\n",
        "  SessionsListOfItems.item_recommendations = SessionsListOfItems.item_recommendations.apply(lambda x: ' '.join(x))\n",
        "  data = clickout_dataframe.merge(SessionsListOfItems, on='session_id', how='left')\n",
        "  return data"
      ],
      "execution_count": 0,
      "outputs": []
    },
    {
      "cell_type": "code",
      "metadata": {
        "id": "80FSDeydwiBZ",
        "colab_type": "code",
        "colab": {}
      },
      "source": [
        "def get_probabilities_submission(model_name, X, session_item_dataset):\n",
        "  '''\n",
        "  Desc: function that gets the probability of each item being selected by the user, rerank the items in the session based on the probabilites\n",
        "\n",
        "  Input: model_path: String with the name of the stored model\n",
        "         X: array of scaled features of the dataset\n",
        "         session_item_dataset: Pandas Dataframe with the sessions, items, and clickout\n",
        "        \n",
        "  Output: clickout_rank: List of lists that carries which item was selected in which rank\n",
        "          RecommendationsDF: Pandas Dataframe to be transformed and merged to the Clickout Dataframe\n",
        "  '''\n",
        "  model = joblib.load(model_name)\n",
        "  BothProbabilities = model.predict_proba(X)\n",
        "  Probabilities = [Probability[1] for Probability in BothProbabilities]\n",
        "  session_item_dataset['probability'] = Probabilities\n",
        "  RecommendationsDF = session_item_dataset.groupby(['session_id'], sort=False).apply(lambda x: (x.sort_values('probability', ascending=False)))\n",
        "  return RecommendationsDF"
      ],
      "execution_count": 0,
      "outputs": []
    },
    {
      "cell_type": "code",
      "metadata": {
        "id": "LI14f903Z227",
        "colab_type": "code",
        "colab": {}
      },
      "source": [
        "ListOfItems = Output.reset_index(drop=True)[['session_id', 'item_id']].groupby('session_id', sort=False).item_id.apply(pd.Series.tolist).tolist()\n",
        "SessionsListOfItems = pd.DataFrame({'session_id':Output.session_id.unique().tolist(),\n",
        "                                    'item_recommendations':ListOfItems})\n",
        "SessionsListOfItems.item_recommendations = SessionsListOfItems.item_recommendations.apply(lambda x: ' '.join(x))\n",
        "SessionsListOfItems.head()"
      ],
      "execution_count": 0,
      "outputs": []
    },
    {
      "cell_type": "code",
      "metadata": {
        "id": "ucU7aaLHjY16",
        "colab_type": "code",
        "outputId": "2166fb59-286d-4ba1-b6d2-768d617fc541",
        "colab": {
          "base_uri": "https://localhost:8080/",
          "height": 306
        }
      },
      "source": [
        "from data_transformation import data_transformation\n",
        "\n",
        "test_clickout = test_set[test_set.action_type=='clickout item'].groupby('session_id').tail(1)\n",
        "test_clickout = test_clickout[['user_id', 'session_id', 'timestamp', 'step']]\n",
        "test_set_transformed = data_transformation.transform_data(test_set)\n",
        "test_session_item = test_set_transformed[['session_id', 'item_id']]\n",
        "X_test_submission = test_set_transformed[features]\n",
        "X_test_submission_scaled = full_pipeline.fit_transform(X_test_submission)\n",
        "RecommendationsDF = get_probabilities_submission('modelsUnderSampling/LR_modelUndersampling.pkl', X_test_submission_scaled, test_session_item)\n",
        "SubmissionDF = transform_Recommendations(test_clickout, RecommendationsDF)\n",
        "SubmissionDF.head()"
      ],
      "execution_count": 23,
      "outputs": [
        {
          "output_type": "stream",
          "text": [
            "/usr/local/lib/python3.6/dist-packages/ipykernel_launcher.py:15: SettingWithCopyWarning: \n",
            "A value is trying to be set on a copy of a slice from a DataFrame.\n",
            "Try using .loc[row_indexer,col_indexer] = value instead\n",
            "\n",
            "See the caveats in the documentation: http://pandas.pydata.org/pandas-docs/stable/user_guide/indexing.html#returning-a-view-versus-a-copy\n",
            "  from ipykernel import kernelapp as app\n"
          ],
          "name": "stderr"
        },
        {
          "output_type": "execute_result",
          "data": {
            "text/html": [
              "<div>\n",
              "<style scoped>\n",
              "    .dataframe tbody tr th:only-of-type {\n",
              "        vertical-align: middle;\n",
              "    }\n",
              "\n",
              "    .dataframe tbody tr th {\n",
              "        vertical-align: top;\n",
              "    }\n",
              "\n",
              "    .dataframe thead th {\n",
              "        text-align: right;\n",
              "    }\n",
              "</style>\n",
              "<table border=\"1\" class=\"dataframe\">\n",
              "  <thead>\n",
              "    <tr style=\"text-align: right;\">\n",
              "      <th></th>\n",
              "      <th>user_id</th>\n",
              "      <th>session_id</th>\n",
              "      <th>timestamp</th>\n",
              "      <th>step</th>\n",
              "      <th>item_recommendations</th>\n",
              "    </tr>\n",
              "  </thead>\n",
              "  <tbody>\n",
              "    <tr>\n",
              "      <th>0</th>\n",
              "      <td>004A07DM0IDW</td>\n",
              "      <td>1d688ec168932</td>\n",
              "      <td>1541555799</td>\n",
              "      <td>7</td>\n",
              "      <td>399441 2033381 127131 2059240 1724779 103357 6...</td>\n",
              "    </tr>\n",
              "    <tr>\n",
              "      <th>1</th>\n",
              "      <td>009RGHI3G9A3</td>\n",
              "      <td>f05ab0de907e2</td>\n",
              "      <td>1541570940</td>\n",
              "      <td>2</td>\n",
              "      <td>10884872 7065316</td>\n",
              "    </tr>\n",
              "    <tr>\n",
              "      <th>2</th>\n",
              "      <td>00Y1Z24X8084</td>\n",
              "      <td>26b6d294d66e7</td>\n",
              "      <td>1541651823</td>\n",
              "      <td>2</td>\n",
              "      <td>3853058 4476010 7101352 3833012 2714480 934300...</td>\n",
              "    </tr>\n",
              "    <tr>\n",
              "      <th>3</th>\n",
              "      <td>01V3WDTDM5CU</td>\n",
              "      <td>07628a0f5be0b</td>\n",
              "      <td>1541575643</td>\n",
              "      <td>5</td>\n",
              "      <td>7950162 4115018 3180004 2817590 6434434 356572...</td>\n",
              "    </tr>\n",
              "    <tr>\n",
              "      <th>4</th>\n",
              "      <td>02AOAVF9PVYH</td>\n",
              "      <td>4a01c3afbc224</td>\n",
              "      <td>1541681278</td>\n",
              "      <td>46</td>\n",
              "      <td>7304020 559056 693596 1451247 1177554 1963879 ...</td>\n",
              "    </tr>\n",
              "  </tbody>\n",
              "</table>\n",
              "</div>"
            ],
            "text/plain": [
              "        user_id  ...                               item_recommendations\n",
              "0  004A07DM0IDW  ...  399441 2033381 127131 2059240 1724779 103357 6...\n",
              "1  009RGHI3G9A3  ...                                   10884872 7065316\n",
              "2  00Y1Z24X8084  ...  3853058 4476010 7101352 3833012 2714480 934300...\n",
              "3  01V3WDTDM5CU  ...  7950162 4115018 3180004 2817590 6434434 356572...\n",
              "4  02AOAVF9PVYH  ...  7304020 559056 693596 1451247 1177554 1963879 ...\n",
              "\n",
              "[5 rows x 5 columns]"
            ]
          },
          "metadata": {
            "tags": []
          },
          "execution_count": 23
        }
      ]
    },
    {
      "cell_type": "code",
      "metadata": {
        "id": "EE4LgRI0y2RG",
        "colab_type": "code",
        "colab": {}
      },
      "source": [
        "SubmissionDF.to_csv('./Datasets/clean_data/RecommendationsSubmission.csv', index=False)"
      ],
      "execution_count": 0,
      "outputs": []
    }
  ]
}