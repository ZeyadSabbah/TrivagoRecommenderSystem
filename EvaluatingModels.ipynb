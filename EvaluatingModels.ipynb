{
  "nbformat": 4,
  "nbformat_minor": 0,
  "metadata": {
    "colab": {
      "name": "EvaluatingModels.ipynb",
      "provenance": [],
      "toc_visible": true,
      "machine_shape": "hm",
      "authorship_tag": "ABX9TyMcO1d8569sOSiLzggdNpyO",
      "include_colab_link": true
    },
    "kernelspec": {
      "name": "python3",
      "display_name": "Python 3"
    }
  },
  "cells": [
    {
      "cell_type": "markdown",
      "metadata": {
        "id": "view-in-github",
        "colab_type": "text"
      },
      "source": [
        "<a href=\"https://colab.research.google.com/github/ZeyadSabbah/TrivagoRecommenderSystem/blob/master/EvaluatingModels.ipynb\" target=\"_parent\"><img src=\"https://colab.research.google.com/assets/colab-badge.svg\" alt=\"Open In Colab\"/></a>"
      ]
    },
    {
      "cell_type": "markdown",
      "metadata": {
        "id": "Cr51e1l72qbP",
        "colab_type": "text"
      },
      "source": [
        "# Evaluating Models\n",
        "## Mounting Drive"
      ]
    },
    {
      "cell_type": "code",
      "metadata": {
        "id": "Iub6c1H2sYoz",
        "colab_type": "code",
        "outputId": "5965fb6e-4365-470b-f21b-5b9dbb8bc7c9",
        "colab": {
          "base_uri": "https://localhost:8080/",
          "height": 54
        }
      },
      "source": [
        "from google.colab import drive\n",
        "drive.mount('/content/drive')"
      ],
      "execution_count": 1,
      "outputs": [
        {
          "output_type": "stream",
          "text": [
            "Drive already mounted at /content/drive; to attempt to forcibly remount, call drive.mount(\"/content/drive\", force_remount=True).\n"
          ],
          "name": "stdout"
        }
      ]
    },
    {
      "cell_type": "code",
      "metadata": {
        "id": "sYhABAowsZ49",
        "colab_type": "code",
        "outputId": "68b0fc64-3b10-4f2a-ba1a-f9bc9c949878",
        "colab": {
          "base_uri": "https://localhost:8080/",
          "height": 34
        }
      },
      "source": [
        "%cd /content/drive/My Drive/Trivago/Project/TrivagoRecommenderSystem"
      ],
      "execution_count": 2,
      "outputs": [
        {
          "output_type": "stream",
          "text": [
            "/content/drive/My Drive/Trivago/Project/TrivagoRecommenderSystem\n"
          ],
          "name": "stdout"
        }
      ]
    },
    {
      "cell_type": "markdown",
      "metadata": {
        "id": "Pp6mufSj25wO",
        "colab_type": "text"
      },
      "source": [
        "## Loading Libraries & Datasets"
      ]
    },
    {
      "cell_type": "code",
      "metadata": {
        "id": "RvIc037-tx2O",
        "colab_type": "code",
        "colab": {}
      },
      "source": [
        "import pandas as pd\n",
        "import numpy as np\n",
        "from datetime import datetime\n",
        "from datetime import timedelta\n",
        "import math\n",
        "import matplotlib.pyplot as plt\n",
        "from datetime import datetime\n",
        "import re\n",
        "import random\n",
        "import joblib\n",
        "from sklearn.feature_selection import SelectKBest\n",
        "from sklearn.feature_selection import chi2\n",
        "from sklearn.linear_model import LogisticRegression\n",
        "from sklearn.model_selection import GridSearchCV\n",
        "from sklearn.model_selection import train_test_split\n",
        "from sklearn import preprocessing\n",
        "import warnings\n",
        "warnings.filterwarnings('ignore', category=FutureWarning)\n",
        "warnings.filterwarnings('ignore', category=DeprecationWarning)"
      ],
      "execution_count": 0,
      "outputs": []
    },
    {
      "cell_type": "code",
      "metadata": {
        "id": "XD665TzttzXG",
        "colab_type": "code",
        "colab": {}
      },
      "source": [
        "TrainDataFilepath = 'Datasets/clean_data/Sets/train.csv'\n",
        "valFilepath = 'clean_data/Sets/val.csv'\n",
        "testFilepath = 'Datasets/clean_data/Sets/test.csv'\n",
        "\n",
        "TrainData = pd.read_csv(TrainDataFilepath)\n",
        "# valData = pd.read_csv(valFilepath)\n",
        "# testData = pd.read_csv(testFilepath)"
      ],
      "execution_count": 0,
      "outputs": []
    },
    {
      "cell_type": "markdown",
      "metadata": {
        "id": "YyUDPJcZ6JHK",
        "colab_type": "text"
      },
      "source": [
        "## Validation & Test sets' Transformation & Scaling"
      ]
    },
    {
      "cell_type": "code",
      "metadata": {
        "id": "ZYdrMMb5t2dK",
        "colab_type": "code",
        "colab": {}
      },
      "source": [
        "#declaring features and label\n",
        "features = ['price', 'item_rank', 'price_rank', 'session_duration', 'item_duration', 'item_session_duration', 'item_interactions', 'maximum_step', 'top_list',\n",
        "            'NumberOfProperties', 'NumberInImpressions', 'NumberInReferences', 'NumberAsClickout', 'NumberAsFinalClickout', 'FClickoutToImpressions',\n",
        "            'FClickoutToReferences', 'FClickoutToClickout', 'MeanPrice', 'AveragePriceRank']\n",
        "label = ['clickout']\n",
        "X_train = TrainData[features]\n",
        "y_train = TrainData[label]"
      ],
      "execution_count": 0,
      "outputs": []
    },
    {
      "cell_type": "markdown",
      "metadata": {
        "id": "4r9lqBI700W2",
        "colab_type": "text"
      },
      "source": [
        "### Transformation"
      ]
    },
    {
      "cell_type": "code",
      "metadata": {
        "id": "9lOepgZk2ird",
        "colab_type": "code",
        "colab": {}
      },
      "source": [
        "#validation set transformation\n",
        "from data_transformation import data_transformation\n",
        "\n",
        "valData = data_transformation.transform_data(valData);\n",
        "valData_sessions_item = valData[['session_id', 'item_id', 'clickout']]\n",
        "X_val = valData[features]\n",
        "y_val = valData[label]"
      ],
      "execution_count": 0,
      "outputs": []
    },
    {
      "cell_type": "code",
      "metadata": {
        "id": "1Tz_G0TVk2Tr",
        "colab_type": "code",
        "colab": {}
      },
      "source": [
        "#test set transformation and scaling\n",
        "testData = data_transformation.transform_data(testData)\n",
        "testData_sessions_item = testData[['session_id', 'item_id', 'clickout']]\n",
        "X_test = testData[features]\n",
        "y_test  = testData[label]"
      ],
      "execution_count": 0,
      "outputs": []
    },
    {
      "cell_type": "markdown",
      "metadata": {
        "id": "7mwDTmto1W6M",
        "colab_type": "text"
      },
      "source": [
        "### Scaling"
      ]
    },
    {
      "cell_type": "code",
      "metadata": {
        "id": "r_xDcgECn9cZ",
        "colab_type": "code",
        "colab": {}
      },
      "source": [
        "from sklearn.pipeline import Pipeline\n",
        "from sklearn.preprocessing import StandardScaler\n",
        "from sklearn.impute import SimpleImputer\n",
        "\n",
        "num_pipeline = Pipeline([\n",
        "('imputer', SimpleImputer(strategy=\"median\")),\n",
        "('std_scaler', StandardScaler()),\n",
        "])\n",
        "\n",
        "from sklearn.compose import ColumnTransformer\n",
        "full_pipeline = ColumnTransformer([\n",
        "(\"num\", num_pipeline, list(X_train))\n",
        "])\n",
        "\n",
        "# training set scaling\n",
        "X_train_scaled = full_pipeline.fit_transform(X_train)\n",
        "\n",
        "# validation set scaling\n",
        "X_val_scaled = full_pipeline.fit_transform(X_val)\n",
        "\n",
        "# test set scaling\n",
        "X_test_scaled = full_pipeline.fit_transform(X_test)"
      ],
      "execution_count": 0,
      "outputs": []
    },
    {
      "cell_type": "code",
      "metadata": {
        "id": "CZrXz7otF6MX",
        "colab_type": "code",
        "colab": {}
      },
      "source": [
        "X_train_scaled = np.load('Datasets/clean_data/Xscaled/X_train_scaled.npy')\n",
        "X_val_scaled = np.load('Datasets/clean_data/Xscaled/X_val_scaled.npy')\n",
        "X_test_scaled = np.load('Datasets/clean_data/Xscaled/X_test_scaled.npy')"
      ],
      "execution_count": 0,
      "outputs": []
    },
    {
      "cell_type": "markdown",
      "metadata": {
        "id": "xpXoItQMmFst",
        "colab_type": "text"
      },
      "source": [
        "## Mean Reciprocal Rank\n",
        "Mean Reciprocal Rank is a measure to evaluate systems that return a ranked list of answers to queries."
      ]
    },
    {
      "cell_type": "code",
      "metadata": {
        "id": "dFduu6DBEmzv",
        "colab_type": "code",
        "colab": {}
      },
      "source": [
        "#function is from this page https://gist.github.com/bwhite/3726239\n",
        "def mean_reciprocal_rank(rs):\n",
        "    \"\"\"Score is reciprocal of the rank of the first relevant item\n",
        "    First element is 'rank 1'.  Relevance is binary (nonzero is relevant).\n",
        "    Example from http://en.wikipedia.org/wiki/Mean_reciprocal_rank\n",
        "    >>> rs = [[0, 0, 1], [0, 1, 0], [1, 0, 0]]\n",
        "    >>> mean_reciprocal_rank(rs)\n",
        "    0.61111111111111105\n",
        "    >>> rs = np.array([[0, 0, 0], [0, 1, 0], [1, 0, 0]])\n",
        "    >>> mean_reciprocal_rank(rs)\n",
        "    0.5\n",
        "    >>> rs = [[0, 0, 0, 1], [1, 0, 0], [1, 0, 0]]\n",
        "    >>> mean_reciprocal_rank(rs)\n",
        "    0.75\n",
        "    Args:\n",
        "        rs: Iterator of relevance scores (list or numpy) in rank order\n",
        "            (first element is the first item)\n",
        "    Returns:\n",
        "        Mean reciprocal rank\n",
        "    \"\"\"\n",
        "    rs = (np.asarray(r).nonzero()[0] for r in rs)\n",
        "    return np.mean([1. / (r[0] + 1) if r.size else 0. for r in rs])"
      ],
      "execution_count": 0,
      "outputs": []
    },
    {
      "cell_type": "markdown",
      "metadata": {
        "id": "gXYC4rqrlW_H",
        "colab_type": "text"
      },
      "source": [
        "## Evaluating Models"
      ]
    },
    {
      "cell_type": "code",
      "metadata": {
        "id": "hUe_7a6LCl_n",
        "colab_type": "code",
        "colab": {}
      },
      "source": [
        "def get_probabilities(model_name, X, session_item_dataset):\n",
        "  '''\n",
        "  Desc: function that gets the probability of each item being selected by the user, rerank the items in the session based on the probabilites\n",
        "\n",
        "  Input: model_path: String with the name of the stored model\n",
        "         X: array of scaled features of the dataset\n",
        "         session_item_dataset: Pandas Dataframe with the sessions, items, and clickout\n",
        "        \n",
        "  Output: clickout_rank: List of lists that carries which item was selected in which rank\n",
        "          RecommendationsDF: Pandas Dataframe to be transformed and merged to the Clickout Dataframe\n",
        "  '''\n",
        "  model = joblib.load(model_name)\n",
        "  BothProbabilities = model.predict_proba(X)\n",
        "  Probabilities = [Probability[1] for Probability in BothProbabilities]\n",
        "  session_item_dataset['probability'] = Probabilities\n",
        "  RecommendationsDF = session_item_dataset.groupby(['session_id'], sort=False).apply(lambda x: (x.sort_values('probability', ascending=False)))\n",
        "  clickout_rank = RecommendationsDF.clickout\n",
        "  clickout_rank = clickout_rank.reset_index().groupby('session_id').clickout.apply(list).values.tolist()\n",
        "  return clickout_rank, RecommendationsDF"
      ],
      "execution_count": 0,
      "outputs": []
    },
    {
      "cell_type": "markdown",
      "metadata": {
        "id": "nJ2RBEtOlhzx",
        "colab_type": "text"
      },
      "source": [
        "### Without Resampling"
      ]
    },
    {
      "cell_type": "markdown",
      "metadata": {
        "id": "AUSv8x8vlkYr",
        "colab_type": "text"
      },
      "source": [
        "#### Logistic Regression"
      ]
    },
    {
      "cell_type": "markdown",
      "metadata": {
        "id": "M2dlmkWCRRc1",
        "colab_type": "text"
      },
      "source": [
        "Just for clarification of what the get_probabilities function does, output of each step will be displayed, but for the next models, the function will be used."
      ]
    },
    {
      "cell_type": "code",
      "metadata": {
        "id": "EYJtW8KU44e3",
        "colab_type": "code",
        "colab": {}
      },
      "source": [
        "LR_model = joblib.load('LR_model.pkl')\n",
        "Predictions = LR_model.predict(X_val_scaled)\n",
        "BothProbabilities = LR_model.predict_proba(X_val_scaled)\n",
        "Probabilities = [Probability[1] for Probability in BothProbabilities]\n",
        "Probabilities[0:5]"
      ],
      "execution_count": 0,
      "outputs": []
    },
    {
      "cell_type": "code",
      "metadata": {
        "id": "XP1f7-LmrR_t",
        "colab_type": "code",
        "outputId": "3c1cf0a1-7b33-4db7-ebe3-a8ce540143f0",
        "colab": {
          "base_uri": "https://localhost:8080/",
          "height": 306
        }
      },
      "source": [
        "valData_sessions_item['probability'] = Probabilities\n",
        "valData_sessions_item.head()"
      ],
      "execution_count": 0,
      "outputs": [
        {
          "output_type": "stream",
          "text": [
            "/usr/local/lib/python3.6/dist-packages/ipykernel_launcher.py:1: SettingWithCopyWarning: \n",
            "A value is trying to be set on a copy of a slice from a DataFrame.\n",
            "Try using .loc[row_indexer,col_indexer] = value instead\n",
            "\n",
            "See the caveats in the documentation: http://pandas.pydata.org/pandas-docs/stable/user_guide/indexing.html#returning-a-view-versus-a-copy\n",
            "  \"\"\"Entry point for launching an IPython kernel.\n"
          ],
          "name": "stderr"
        },
        {
          "output_type": "execute_result",
          "data": {
            "text/html": [
              "<div>\n",
              "<style scoped>\n",
              "    .dataframe tbody tr th:only-of-type {\n",
              "        vertical-align: middle;\n",
              "    }\n",
              "\n",
              "    .dataframe tbody tr th {\n",
              "        vertical-align: top;\n",
              "    }\n",
              "\n",
              "    .dataframe thead th {\n",
              "        text-align: right;\n",
              "    }\n",
              "</style>\n",
              "<table border=\"1\" class=\"dataframe\">\n",
              "  <thead>\n",
              "    <tr style=\"text-align: right;\">\n",
              "      <th></th>\n",
              "      <th>session_id</th>\n",
              "      <th>item_id</th>\n",
              "      <th>clickout</th>\n",
              "      <th>probability</th>\n",
              "    </tr>\n",
              "  </thead>\n",
              "  <tbody>\n",
              "    <tr>\n",
              "      <th>0</th>\n",
              "      <td>06e7c29170946</td>\n",
              "      <td>10091602</td>\n",
              "      <td>0</td>\n",
              "      <td>0.818978</td>\n",
              "    </tr>\n",
              "    <tr>\n",
              "      <th>1</th>\n",
              "      <td>06e7c29170946</td>\n",
              "      <td>6625240</td>\n",
              "      <td>0</td>\n",
              "      <td>0.062360</td>\n",
              "    </tr>\n",
              "    <tr>\n",
              "      <th>2</th>\n",
              "      <td>06e7c29170946</td>\n",
              "      <td>9386776</td>\n",
              "      <td>0</td>\n",
              "      <td>0.038675</td>\n",
              "    </tr>\n",
              "    <tr>\n",
              "      <th>3</th>\n",
              "      <td>06e7c29170946</td>\n",
              "      <td>3954788</td>\n",
              "      <td>0</td>\n",
              "      <td>0.046309</td>\n",
              "    </tr>\n",
              "    <tr>\n",
              "      <th>4</th>\n",
              "      <td>06e7c29170946</td>\n",
              "      <td>9776792</td>\n",
              "      <td>0</td>\n",
              "      <td>0.083385</td>\n",
              "    </tr>\n",
              "  </tbody>\n",
              "</table>\n",
              "</div>"
            ],
            "text/plain": [
              "      session_id   item_id  clickout  probability\n",
              "0  06e7c29170946  10091602         0     0.818978\n",
              "1  06e7c29170946   6625240         0     0.062360\n",
              "2  06e7c29170946   9386776         0     0.038675\n",
              "3  06e7c29170946   3954788         0     0.046309\n",
              "4  06e7c29170946   9776792         0     0.083385"
            ]
          },
          "metadata": {
            "tags": []
          },
          "execution_count": 17
        }
      ]
    },
    {
      "cell_type": "code",
      "metadata": {
        "id": "vQuZkopr0xoQ",
        "colab_type": "code",
        "outputId": "7cc37efc-98a7-43b5-d065-0fbd12bfa4b6",
        "colab": {
          "base_uri": "https://localhost:8080/",
          "height": 450
        }
      },
      "source": [
        "valData_sessions_item.groupby(['session_id'], sort=False).apply(lambda x: (x.sort_values('probability', ascending=False)))"
      ],
      "execution_count": 0,
      "outputs": [
        {
          "output_type": "execute_result",
          "data": {
            "text/html": [
              "<div>\n",
              "<style scoped>\n",
              "    .dataframe tbody tr th:only-of-type {\n",
              "        vertical-align: middle;\n",
              "    }\n",
              "\n",
              "    .dataframe tbody tr th {\n",
              "        vertical-align: top;\n",
              "    }\n",
              "\n",
              "    .dataframe thead th {\n",
              "        text-align: right;\n",
              "    }\n",
              "</style>\n",
              "<table border=\"1\" class=\"dataframe\">\n",
              "  <thead>\n",
              "    <tr style=\"text-align: right;\">\n",
              "      <th></th>\n",
              "      <th></th>\n",
              "      <th>session_id</th>\n",
              "      <th>item_id</th>\n",
              "      <th>clickout</th>\n",
              "      <th>probability</th>\n",
              "    </tr>\n",
              "    <tr>\n",
              "      <th>session_id</th>\n",
              "      <th></th>\n",
              "      <th></th>\n",
              "      <th></th>\n",
              "      <th></th>\n",
              "      <th></th>\n",
              "    </tr>\n",
              "  </thead>\n",
              "  <tbody>\n",
              "    <tr>\n",
              "      <th rowspan=\"5\" valign=\"top\">06e7c29170946</th>\n",
              "      <th>0</th>\n",
              "      <td>06e7c29170946</td>\n",
              "      <td>10091602</td>\n",
              "      <td>0</td>\n",
              "      <td>0.818978</td>\n",
              "    </tr>\n",
              "    <tr>\n",
              "      <th>4</th>\n",
              "      <td>06e7c29170946</td>\n",
              "      <td>9776792</td>\n",
              "      <td>0</td>\n",
              "      <td>0.083385</td>\n",
              "    </tr>\n",
              "    <tr>\n",
              "      <th>1</th>\n",
              "      <td>06e7c29170946</td>\n",
              "      <td>6625240</td>\n",
              "      <td>0</td>\n",
              "      <td>0.062360</td>\n",
              "    </tr>\n",
              "    <tr>\n",
              "      <th>3</th>\n",
              "      <td>06e7c29170946</td>\n",
              "      <td>3954788</td>\n",
              "      <td>0</td>\n",
              "      <td>0.046309</td>\n",
              "    </tr>\n",
              "    <tr>\n",
              "      <th>2</th>\n",
              "      <td>06e7c29170946</td>\n",
              "      <td>9386776</td>\n",
              "      <td>0</td>\n",
              "      <td>0.038675</td>\n",
              "    </tr>\n",
              "    <tr>\n",
              "      <th>...</th>\n",
              "      <th>...</th>\n",
              "      <td>...</td>\n",
              "      <td>...</td>\n",
              "      <td>...</td>\n",
              "      <td>...</td>\n",
              "    </tr>\n",
              "    <tr>\n",
              "      <th rowspan=\"5\" valign=\"top\">f701be9e58e9a</th>\n",
              "      <th>3399256</th>\n",
              "      <td>f701be9e58e9a</td>\n",
              "      <td>7304664</td>\n",
              "      <td>0</td>\n",
              "      <td>0.009075</td>\n",
              "    </tr>\n",
              "    <tr>\n",
              "      <th>3399261</th>\n",
              "      <td>f701be9e58e9a</td>\n",
              "      <td>840461</td>\n",
              "      <td>0</td>\n",
              "      <td>0.007265</td>\n",
              "    </tr>\n",
              "    <tr>\n",
              "      <th>3399259</th>\n",
              "      <td>f701be9e58e9a</td>\n",
              "      <td>3137050</td>\n",
              "      <td>0</td>\n",
              "      <td>0.006525</td>\n",
              "    </tr>\n",
              "    <tr>\n",
              "      <th>3399263</th>\n",
              "      <td>f701be9e58e9a</td>\n",
              "      <td>10064344</td>\n",
              "      <td>0</td>\n",
              "      <td>0.005931</td>\n",
              "    </tr>\n",
              "    <tr>\n",
              "      <th>3399264</th>\n",
              "      <td>f701be9e58e9a</td>\n",
              "      <td>8773</td>\n",
              "      <td>0</td>\n",
              "      <td>0.002686</td>\n",
              "    </tr>\n",
              "  </tbody>\n",
              "</table>\n",
              "<p>3399266 rows × 4 columns</p>\n",
              "</div>"
            ],
            "text/plain": [
              "                          session_id   item_id  clickout  probability\n",
              "session_id                                                           \n",
              "06e7c29170946 0        06e7c29170946  10091602         0     0.818978\n",
              "              4        06e7c29170946   9776792         0     0.083385\n",
              "              1        06e7c29170946   6625240         0     0.062360\n",
              "              3        06e7c29170946   3954788         0     0.046309\n",
              "              2        06e7c29170946   9386776         0     0.038675\n",
              "...                              ...       ...       ...          ...\n",
              "f701be9e58e9a 3399256  f701be9e58e9a   7304664         0     0.009075\n",
              "              3399261  f701be9e58e9a    840461         0     0.007265\n",
              "              3399259  f701be9e58e9a   3137050         0     0.006525\n",
              "              3399263  f701be9e58e9a  10064344         0     0.005931\n",
              "              3399264  f701be9e58e9a      8773         0     0.002686\n",
              "\n",
              "[3399266 rows x 4 columns]"
            ]
          },
          "metadata": {
            "tags": []
          },
          "execution_count": 18
        }
      ]
    },
    {
      "cell_type": "code",
      "metadata": {
        "id": "EOsDu71_4QG3",
        "colab_type": "code",
        "outputId": "686be4c6-6591-4a5a-8dab-f2a8f81ab8c3",
        "colab": {
          "base_uri": "https://localhost:8080/",
          "height": 102
        }
      },
      "source": [
        "clickout_rank = valData_sessions_item.groupby(['session_id'], sort=False).apply(lambda x: (x.sort_values('probability', ascending=False))).clickout\n",
        "clickout_rank = clickout_rank.reset_index().groupby('session_id').clickout.apply(list).values.tolist()\n",
        "clickout_rank[0:5]"
      ],
      "execution_count": 0,
      "outputs": [
        {
          "output_type": "execute_result",
          "data": {
            "text/plain": [
              "[[1, 0, 0, 0, 0, 0, 0, 0, 0, 0, 0, 0, 0, 0, 0, 0, 0, 0, 0, 0, 0, 0, 0, 0, 0],\n",
              " [0, 1, 0, 0, 0, 0, 0, 0, 0, 0, 0, 0, 0, 0, 0, 0, 0, 0, 0, 0, 0, 0, 0, 0, 0],\n",
              " [0, 1, 0, 0, 0, 0, 0, 0, 0, 0, 0, 0, 0, 0, 0, 0, 0, 0, 0, 0, 0, 0, 0, 0, 0],\n",
              " [1, 0, 0, 0, 0, 0, 0, 0, 0, 0, 0, 0, 0, 0, 0, 0, 0, 0, 0, 0, 0, 0, 0, 0, 0],\n",
              " [1, 0, 0, 0, 0, 0, 0, 0, 0, 0, 0, 0, 0, 0, 0, 0, 0, 0, 0, 0, 0, 0, 0, 0, 0]]"
            ]
          },
          "metadata": {
            "tags": []
          },
          "execution_count": 19
        }
      ]
    },
    {
      "cell_type": "code",
      "metadata": {
        "colab_type": "code",
        "id": "N7fGDMg5iu_q",
        "outputId": "d615ea1a-90bd-44db-9b13-761d9cef942e",
        "colab": {
          "base_uri": "https://localhost:8080/",
          "height": 34
        }
      },
      "source": [
        "mean_reciprocal_rank(clickout_rank)"
      ],
      "execution_count": 0,
      "outputs": [
        {
          "output_type": "execute_result",
          "data": {
            "text/plain": [
              "0.5621796407764232"
            ]
          },
          "metadata": {
            "tags": []
          },
          "execution_count": 21
        }
      ]
    },
    {
      "cell_type": "markdown",
      "metadata": {
        "id": "dOJhsiwWoOtu",
        "colab_type": "text"
      },
      "source": [
        "### With Undersampling"
      ]
    },
    {
      "cell_type": "markdown",
      "metadata": {
        "id": "IG9n_y4yoR02",
        "colab_type": "text"
      },
      "source": [
        "#### Logistic Regression"
      ]
    },
    {
      "cell_type": "code",
      "metadata": {
        "id": "XmsEpHILoWcg",
        "colab_type": "code",
        "colab": {
          "base_uri": "https://localhost:8080/",
          "height": 156
        },
        "outputId": "b309f2c0-1ad1-49ae-e0cb-3d711bb6412f"
      },
      "source": [
        "clickout_rank = get_probabilities('modelsUnderSampling/LR_modelUndersampling.pkl', X_val_scaled, valData_sessions_item)\n",
        "mean_reciprocal_rank(clickout_rank)"
      ],
      "execution_count": 20,
      "outputs": [
        {
          "output_type": "stream",
          "text": [
            "/usr/local/lib/python3.6/dist-packages/ipykernel_launcher.py:14: SettingWithCopyWarning: \n",
            "A value is trying to be set on a copy of a slice from a DataFrame.\n",
            "Try using .loc[row_indexer,col_indexer] = value instead\n",
            "\n",
            "See the caveats in the documentation: http://pandas.pydata.org/pandas-docs/stable/user_guide/indexing.html#returning-a-view-versus-a-copy\n",
            "  \n"
          ],
          "name": "stderr"
        },
        {
          "output_type": "execute_result",
          "data": {
            "text/plain": [
              "0.6725780150707574"
            ]
          },
          "metadata": {
            "tags": []
          },
          "execution_count": 20
        }
      ]
    },
    {
      "cell_type": "code",
      "metadata": {
        "id": "B6eDG3J_ZqoM",
        "colab_type": "code",
        "outputId": "51f823fa-b237-4e36-c5ca-be095bfab9fb",
        "colab": {
          "base_uri": "https://localhost:8080/",
          "height": 102
        }
      },
      "source": [
        "clickout_rank[0:5]"
      ],
      "execution_count": 0,
      "outputs": [
        {
          "output_type": "execute_result",
          "data": {
            "text/plain": [
              "[[1, 0, 0, 0, 0, 0, 0, 0, 0, 0, 0, 0, 0, 0, 0, 0, 0, 0, 0, 0, 0, 0, 0, 0, 0],\n",
              " [0, 1, 0, 0, 0, 0, 0, 0, 0, 0, 0, 0, 0, 0, 0, 0, 0, 0, 0, 0, 0, 0, 0, 0, 0],\n",
              " [0, 1, 0, 0, 0, 0, 0, 0, 0, 0, 0, 0, 0, 0, 0, 0, 0, 0, 0, 0, 0, 0, 0, 0, 0],\n",
              " [1, 0, 0, 0, 0, 0, 0, 0, 0, 0, 0, 0, 0, 0, 0, 0, 0, 0, 0, 0, 0, 0, 0, 0, 0],\n",
              " [1, 0, 0, 0, 0, 0, 0, 0, 0, 0, 0, 0, 0, 0, 0, 0, 0, 0, 0, 0, 0, 0, 0, 0, 0]]"
            ]
          },
          "metadata": {
            "tags": []
          },
          "execution_count": 32
        }
      ]
    },
    {
      "cell_type": "code",
      "metadata": {
        "id": "pxKbzUyoHaLl",
        "colab_type": "code",
        "colab": {
          "base_uri": "https://localhost:8080/",
          "height": 156
        },
        "outputId": "fa33ad3f-376b-445c-e399-159221623651"
      },
      "source": [
        "clickout_rank = get_probabilities('modelsUnderSampling/LR_modelUndersampling.pkl', X_test_scaled, testData_sessions_item)\n",
        "mean_reciprocal_rank(clickout_rank)"
      ],
      "execution_count": 22,
      "outputs": [
        {
          "output_type": "stream",
          "text": [
            "/usr/local/lib/python3.6/dist-packages/ipykernel_launcher.py:14: SettingWithCopyWarning: \n",
            "A value is trying to be set on a copy of a slice from a DataFrame.\n",
            "Try using .loc[row_indexer,col_indexer] = value instead\n",
            "\n",
            "See the caveats in the documentation: http://pandas.pydata.org/pandas-docs/stable/user_guide/indexing.html#returning-a-view-versus-a-copy\n",
            "  \n"
          ],
          "name": "stderr"
        },
        {
          "output_type": "execute_result",
          "data": {
            "text/plain": [
              "0.7585556052007818"
            ]
          },
          "metadata": {
            "tags": []
          },
          "execution_count": 22
        }
      ]
    },
    {
      "cell_type": "code",
      "metadata": {
        "id": "X0mdHo0lJa8Y",
        "colab_type": "code",
        "colab": {
          "base_uri": "https://localhost:8080/",
          "height": 572
        },
        "outputId": "ede9519e-2c32-464f-f83d-c99e30201de1"
      },
      "source": [
        "clickout_rank, Output = get_probabilities('modelsUnderSampling/LR_modelUndersampling.pkl', X_val_scaled, valData_sessions_item)\n",
        "Output"
      ],
      "execution_count": 24,
      "outputs": [
        {
          "output_type": "stream",
          "text": [
            "/usr/local/lib/python3.6/dist-packages/ipykernel_launcher.py:14: SettingWithCopyWarning: \n",
            "A value is trying to be set on a copy of a slice from a DataFrame.\n",
            "Try using .loc[row_indexer,col_indexer] = value instead\n",
            "\n",
            "See the caveats in the documentation: http://pandas.pydata.org/pandas-docs/stable/user_guide/indexing.html#returning-a-view-versus-a-copy\n",
            "  \n"
          ],
          "name": "stderr"
        },
        {
          "output_type": "execute_result",
          "data": {
            "text/html": [
              "<div>\n",
              "<style scoped>\n",
              "    .dataframe tbody tr th:only-of-type {\n",
              "        vertical-align: middle;\n",
              "    }\n",
              "\n",
              "    .dataframe tbody tr th {\n",
              "        vertical-align: top;\n",
              "    }\n",
              "\n",
              "    .dataframe thead th {\n",
              "        text-align: right;\n",
              "    }\n",
              "</style>\n",
              "<table border=\"1\" class=\"dataframe\">\n",
              "  <thead>\n",
              "    <tr style=\"text-align: right;\">\n",
              "      <th></th>\n",
              "      <th></th>\n",
              "      <th>session_id</th>\n",
              "      <th>item_id</th>\n",
              "      <th>clickout</th>\n",
              "      <th>probability</th>\n",
              "    </tr>\n",
              "    <tr>\n",
              "      <th>session_id</th>\n",
              "      <th></th>\n",
              "      <th></th>\n",
              "      <th></th>\n",
              "      <th></th>\n",
              "      <th></th>\n",
              "    </tr>\n",
              "  </thead>\n",
              "  <tbody>\n",
              "    <tr>\n",
              "      <th rowspan=\"5\" valign=\"top\">06e7c29170946</th>\n",
              "      <th>0</th>\n",
              "      <td>06e7c29170946</td>\n",
              "      <td>10091602</td>\n",
              "      <td>0</td>\n",
              "      <td>0.998647</td>\n",
              "    </tr>\n",
              "    <tr>\n",
              "      <th>4</th>\n",
              "      <td>06e7c29170946</td>\n",
              "      <td>9776792</td>\n",
              "      <td>0</td>\n",
              "      <td>0.515845</td>\n",
              "    </tr>\n",
              "    <tr>\n",
              "      <th>1</th>\n",
              "      <td>06e7c29170946</td>\n",
              "      <td>6625240</td>\n",
              "      <td>0</td>\n",
              "      <td>0.429573</td>\n",
              "    </tr>\n",
              "    <tr>\n",
              "      <th>6</th>\n",
              "      <td>06e7c29170946</td>\n",
              "      <td>6893402</td>\n",
              "      <td>1</td>\n",
              "      <td>0.384209</td>\n",
              "    </tr>\n",
              "    <tr>\n",
              "      <th>3</th>\n",
              "      <td>06e7c29170946</td>\n",
              "      <td>3954788</td>\n",
              "      <td>0</td>\n",
              "      <td>0.358810</td>\n",
              "    </tr>\n",
              "    <tr>\n",
              "      <th>...</th>\n",
              "      <th>...</th>\n",
              "      <td>...</td>\n",
              "      <td>...</td>\n",
              "      <td>...</td>\n",
              "      <td>...</td>\n",
              "    </tr>\n",
              "    <tr>\n",
              "      <th rowspan=\"5\" valign=\"top\">f701be9e58e9a</th>\n",
              "      <th>3399256</th>\n",
              "      <td>f701be9e58e9a</td>\n",
              "      <td>7304664</td>\n",
              "      <td>0</td>\n",
              "      <td>0.110202</td>\n",
              "    </tr>\n",
              "    <tr>\n",
              "      <th>3399253</th>\n",
              "      <td>f701be9e58e9a</td>\n",
              "      <td>55441</td>\n",
              "      <td>0</td>\n",
              "      <td>0.104138</td>\n",
              "    </tr>\n",
              "    <tr>\n",
              "      <th>3399259</th>\n",
              "      <td>f701be9e58e9a</td>\n",
              "      <td>3137050</td>\n",
              "      <td>0</td>\n",
              "      <td>0.093351</td>\n",
              "    </tr>\n",
              "    <tr>\n",
              "      <th>3399263</th>\n",
              "      <td>f701be9e58e9a</td>\n",
              "      <td>10064344</td>\n",
              "      <td>0</td>\n",
              "      <td>0.089631</td>\n",
              "    </tr>\n",
              "    <tr>\n",
              "      <th>3399264</th>\n",
              "      <td>f701be9e58e9a</td>\n",
              "      <td>8773</td>\n",
              "      <td>0</td>\n",
              "      <td>0.047610</td>\n",
              "    </tr>\n",
              "  </tbody>\n",
              "</table>\n",
              "<p>3399266 rows × 4 columns</p>\n",
              "</div>"
            ],
            "text/plain": [
              "                          session_id   item_id  clickout  probability\n",
              "session_id                                                           \n",
              "06e7c29170946 0        06e7c29170946  10091602         0     0.998647\n",
              "              4        06e7c29170946   9776792         0     0.515845\n",
              "              1        06e7c29170946   6625240         0     0.429573\n",
              "              6        06e7c29170946   6893402         1     0.384209\n",
              "              3        06e7c29170946   3954788         0     0.358810\n",
              "...                              ...       ...       ...          ...\n",
              "f701be9e58e9a 3399256  f701be9e58e9a   7304664         0     0.110202\n",
              "              3399253  f701be9e58e9a     55441         0     0.104138\n",
              "              3399259  f701be9e58e9a   3137050         0     0.093351\n",
              "              3399263  f701be9e58e9a  10064344         0     0.089631\n",
              "              3399264  f701be9e58e9a      8773         0     0.047610\n",
              "\n",
              "[3399266 rows x 4 columns]"
            ]
          },
          "metadata": {
            "tags": []
          },
          "execution_count": 24
        }
      ]
    },
    {
      "cell_type": "markdown",
      "metadata": {
        "id": "hk12Lds1ibZv",
        "colab_type": "text"
      },
      "source": [
        "## Submission"
      ]
    },
    {
      "cell_type": "markdown",
      "metadata": {
        "id": "_nTh7w_p1Z87",
        "colab_type": "text"
      },
      "source": [
        "In the future, the challenge might be a public competition, in that case transformation of the output is needed."
      ]
    },
    {
      "cell_type": "code",
      "metadata": {
        "id": "YHLo6Dbictqv",
        "colab_type": "code",
        "colab": {
          "base_uri": "https://localhost:8080/",
          "height": 394
        },
        "outputId": "a0e55557-d99b-40a9-8aa9-150645906dc5"
      },
      "source": [
        "test_set_filepath = './Datasets/raw_data/test.csv'\n",
        "test_set = pd.read_csv(test_set_filepath)\n",
        "test_set.head()"
      ],
      "execution_count": 8,
      "outputs": [
        {
          "output_type": "execute_result",
          "data": {
            "text/html": [
              "<div>\n",
              "<style scoped>\n",
              "    .dataframe tbody tr th:only-of-type {\n",
              "        vertical-align: middle;\n",
              "    }\n",
              "\n",
              "    .dataframe tbody tr th {\n",
              "        vertical-align: top;\n",
              "    }\n",
              "\n",
              "    .dataframe thead th {\n",
              "        text-align: right;\n",
              "    }\n",
              "</style>\n",
              "<table border=\"1\" class=\"dataframe\">\n",
              "  <thead>\n",
              "    <tr style=\"text-align: right;\">\n",
              "      <th></th>\n",
              "      <th>user_id</th>\n",
              "      <th>session_id</th>\n",
              "      <th>timestamp</th>\n",
              "      <th>step</th>\n",
              "      <th>action_type</th>\n",
              "      <th>reference</th>\n",
              "      <th>platform</th>\n",
              "      <th>city</th>\n",
              "      <th>device</th>\n",
              "      <th>current_filters</th>\n",
              "      <th>impressions</th>\n",
              "      <th>prices</th>\n",
              "    </tr>\n",
              "  </thead>\n",
              "  <tbody>\n",
              "    <tr>\n",
              "      <th>0</th>\n",
              "      <td>004A07DM0IDW</td>\n",
              "      <td>1d688ec168932</td>\n",
              "      <td>1541555614</td>\n",
              "      <td>1</td>\n",
              "      <td>interaction item image</td>\n",
              "      <td>2059240</td>\n",
              "      <td>CO</td>\n",
              "      <td>Santa Marta, Colombia</td>\n",
              "      <td>mobile</td>\n",
              "      <td>NaN</td>\n",
              "      <td>NaN</td>\n",
              "      <td>NaN</td>\n",
              "    </tr>\n",
              "    <tr>\n",
              "      <th>1</th>\n",
              "      <td>004A07DM0IDW</td>\n",
              "      <td>1d688ec168932</td>\n",
              "      <td>1541555614</td>\n",
              "      <td>2</td>\n",
              "      <td>interaction item image</td>\n",
              "      <td>2059240</td>\n",
              "      <td>CO</td>\n",
              "      <td>Santa Marta, Colombia</td>\n",
              "      <td>mobile</td>\n",
              "      <td>NaN</td>\n",
              "      <td>NaN</td>\n",
              "      <td>NaN</td>\n",
              "    </tr>\n",
              "    <tr>\n",
              "      <th>2</th>\n",
              "      <td>004A07DM0IDW</td>\n",
              "      <td>1d688ec168932</td>\n",
              "      <td>1541555696</td>\n",
              "      <td>3</td>\n",
              "      <td>clickout item</td>\n",
              "      <td>1050068</td>\n",
              "      <td>CO</td>\n",
              "      <td>Santa Marta, Colombia</td>\n",
              "      <td>mobile</td>\n",
              "      <td>NaN</td>\n",
              "      <td>2059240|2033381|1724779|127131|399441|103357|1...</td>\n",
              "      <td>70|46|48|76|65|65|106|66|87|43|52|44|60|61|50|...</td>\n",
              "    </tr>\n",
              "    <tr>\n",
              "      <th>3</th>\n",
              "      <td>004A07DM0IDW</td>\n",
              "      <td>1d688ec168932</td>\n",
              "      <td>1541555707</td>\n",
              "      <td>4</td>\n",
              "      <td>clickout item</td>\n",
              "      <td>1050068</td>\n",
              "      <td>CO</td>\n",
              "      <td>Santa Marta, Colombia</td>\n",
              "      <td>mobile</td>\n",
              "      <td>NaN</td>\n",
              "      <td>2059240|2033381|1724779|127131|399441|103357|1...</td>\n",
              "      <td>70|46|48|76|65|65|106|66|87|43|52|44|60|61|50|...</td>\n",
              "    </tr>\n",
              "    <tr>\n",
              "      <th>4</th>\n",
              "      <td>004A07DM0IDW</td>\n",
              "      <td>1d688ec168932</td>\n",
              "      <td>1541555717</td>\n",
              "      <td>5</td>\n",
              "      <td>clickout item</td>\n",
              "      <td>1050068</td>\n",
              "      <td>CO</td>\n",
              "      <td>Santa Marta, Colombia</td>\n",
              "      <td>mobile</td>\n",
              "      <td>NaN</td>\n",
              "      <td>2059240|2033381|1724779|127131|399441|103357|1...</td>\n",
              "      <td>70|46|48|76|65|65|106|66|87|43|52|44|60|61|50|...</td>\n",
              "    </tr>\n",
              "  </tbody>\n",
              "</table>\n",
              "</div>"
            ],
            "text/plain": [
              "        user_id  ...                                             prices\n",
              "0  004A07DM0IDW  ...                                                NaN\n",
              "1  004A07DM0IDW  ...                                                NaN\n",
              "2  004A07DM0IDW  ...  70|46|48|76|65|65|106|66|87|43|52|44|60|61|50|...\n",
              "3  004A07DM0IDW  ...  70|46|48|76|65|65|106|66|87|43|52|44|60|61|50|...\n",
              "4  004A07DM0IDW  ...  70|46|48|76|65|65|106|66|87|43|52|44|60|61|50|...\n",
              "\n",
              "[5 rows x 12 columns]"
            ]
          },
          "metadata": {
            "tags": []
          },
          "execution_count": 8
        }
      ]
    },
    {
      "cell_type": "code",
      "metadata": {
        "id": "eP9HzyKzY6QD",
        "colab_type": "code",
        "colab": {
          "base_uri": "https://localhost:8080/",
          "height": 204
        },
        "outputId": "676deada-8c6e-4891-c7a9-85e82c52369b"
      },
      "source": [
        "submission_format_filepath = './Datasets/raw_data/submission_popular.csv'\n",
        "submission_format = pd.read_csv(submission_format_filepath)\n",
        "submission_format.head()"
      ],
      "execution_count": 9,
      "outputs": [
        {
          "output_type": "execute_result",
          "data": {
            "text/html": [
              "<div>\n",
              "<style scoped>\n",
              "    .dataframe tbody tr th:only-of-type {\n",
              "        vertical-align: middle;\n",
              "    }\n",
              "\n",
              "    .dataframe tbody tr th {\n",
              "        vertical-align: top;\n",
              "    }\n",
              "\n",
              "    .dataframe thead th {\n",
              "        text-align: right;\n",
              "    }\n",
              "</style>\n",
              "<table border=\"1\" class=\"dataframe\">\n",
              "  <thead>\n",
              "    <tr style=\"text-align: right;\">\n",
              "      <th></th>\n",
              "      <th>user_id</th>\n",
              "      <th>session_id</th>\n",
              "      <th>timestamp</th>\n",
              "      <th>step</th>\n",
              "      <th>item_recommendations</th>\n",
              "    </tr>\n",
              "  </thead>\n",
              "  <tbody>\n",
              "    <tr>\n",
              "      <th>0</th>\n",
              "      <td>000324D9BBUC</td>\n",
              "      <td>89643988fdbfb</td>\n",
              "      <td>1541593942</td>\n",
              "      <td>10</td>\n",
              "      <td>924795 106315 1033140 119494 101758 903037 105...</td>\n",
              "    </tr>\n",
              "    <tr>\n",
              "      <th>1</th>\n",
              "      <td>0004Q49X39PY</td>\n",
              "      <td>9de47d9a66494</td>\n",
              "      <td>1541641157</td>\n",
              "      <td>1</td>\n",
              "      <td>3505150 3812004 2227896 2292254 3184842 222702...</td>\n",
              "    </tr>\n",
              "    <tr>\n",
              "      <th>2</th>\n",
              "      <td>0004Q49X39PY</td>\n",
              "      <td>beea5c27030cb</td>\n",
              "      <td>1541561202</td>\n",
              "      <td>1</td>\n",
              "      <td>4476010 3505150 3812004 2227896 2292254 222702...</td>\n",
              "    </tr>\n",
              "    <tr>\n",
              "      <th>3</th>\n",
              "      <td>00071784XQ6B</td>\n",
              "      <td>9617600e1ba7c</td>\n",
              "      <td>1541630328</td>\n",
              "      <td>2</td>\n",
              "      <td>22854 3067559 22721 22713 16121 22772 22727 22...</td>\n",
              "    </tr>\n",
              "    <tr>\n",
              "      <th>4</th>\n",
              "      <td>0008BO33KUQ0</td>\n",
              "      <td>2d0e2102ee0dc</td>\n",
              "      <td>1541636411</td>\n",
              "      <td>6</td>\n",
              "      <td>9857656 5849628 655716 1352530 502066 1405084 ...</td>\n",
              "    </tr>\n",
              "  </tbody>\n",
              "</table>\n",
              "</div>"
            ],
            "text/plain": [
              "        user_id  ...                               item_recommendations\n",
              "0  000324D9BBUC  ...  924795 106315 1033140 119494 101758 903037 105...\n",
              "1  0004Q49X39PY  ...  3505150 3812004 2227896 2292254 3184842 222702...\n",
              "2  0004Q49X39PY  ...  4476010 3505150 3812004 2227896 2292254 222702...\n",
              "3  00071784XQ6B  ...  22854 3067559 22721 22713 16121 22772 22727 22...\n",
              "4  0008BO33KUQ0  ...  9857656 5849628 655716 1352530 502066 1405084 ...\n",
              "\n",
              "[5 rows x 5 columns]"
            ]
          },
          "metadata": {
            "tags": []
          },
          "execution_count": 9
        }
      ]
    },
    {
      "cell_type": "code",
      "metadata": {
        "id": "z4ZHi_fYenFF",
        "colab_type": "code",
        "colab": {}
      },
      "source": [
        "def transform_Recommendations(clickout_dataframe, RecommendationsDF):\n",
        "  ListOfItems = RecommendationsDF.reset_index(drop=True)[['session_id', 'item_id']].groupby('session_id', sort=False).item_id.apply(pd.Series.tolist).tolist()\n",
        "  SessionsListOfItems = pd.DataFrame({'session_id':RecommendationsDF.session_id.unique().tolist(),\n",
        "                                      'item_recommendations':ListOfItems})\n",
        "  SessionsListOfItems.item_recommendations = SessionsListOfItems.item_recommendations.apply(lambda x: ' '.join(x))\n",
        "  data = clickout_dataframe.merge(SessionsListOfItems, on='session_id', how='left')\n",
        "  return data"
      ],
      "execution_count": 0,
      "outputs": []
    },
    {
      "cell_type": "code",
      "metadata": {
        "id": "80FSDeydwiBZ",
        "colab_type": "code",
        "colab": {}
      },
      "source": [
        "def get_probabilities_submission(model_name, X, session_item_dataset):\n",
        "  '''\n",
        "  Desc: function that gets the probability of each item being selected by the user, rerank the items in the session based on the probabilites\n",
        "\n",
        "  Input: model_path: String with the name of the stored model\n",
        "         X: array of scaled features of the dataset\n",
        "         session_item_dataset: Pandas Dataframe with the sessions, items, and clickout\n",
        "        \n",
        "  Output: clickout_rank: List of lists that carries which item was selected in which rank\n",
        "          RecommendationsDF: Pandas Dataframe to be transformed and merged to the Clickout Dataframe\n",
        "  '''\n",
        "  model = joblib.load(model_name)\n",
        "  BothProbabilities = model.predict_proba(X)\n",
        "  Probabilities = [Probability[1] for Probability in BothProbabilities]\n",
        "  session_item_dataset['probability'] = Probabilities\n",
        "  RecommendationsDF = session_item_dataset.groupby(['session_id'], sort=False).apply(lambda x: (x.sort_values('probability', ascending=False)))\n",
        "  return RecommendationsDF"
      ],
      "execution_count": 0,
      "outputs": []
    },
    {
      "cell_type": "code",
      "metadata": {
        "id": "LI14f903Z227",
        "colab_type": "code",
        "colab": {
          "base_uri": "https://localhost:8080/",
          "height": 204
        },
        "outputId": "7d104ae2-c82a-419f-ed6f-93b220107219"
      },
      "source": [
        "ListOfItems = Output.reset_index(drop=True)[['session_id', 'item_id']].groupby('session_id', sort=False).item_id.apply(pd.Series.tolist).tolist()\n",
        "SessionsListOfItems = pd.DataFrame({'session_id':Output.session_id.unique().tolist(),\n",
        "                                    'item_recommendations':ListOfItems})\n",
        "SessionsListOfItems.item_recommendations = SessionsListOfItems.item_recommendations.apply(lambda x: ' '.join(x))\n",
        "SessionsListOfItems.head()"
      ],
      "execution_count": 57,
      "outputs": [
        {
          "output_type": "execute_result",
          "data": {
            "text/html": [
              "<div>\n",
              "<style scoped>\n",
              "    .dataframe tbody tr th:only-of-type {\n",
              "        vertical-align: middle;\n",
              "    }\n",
              "\n",
              "    .dataframe tbody tr th {\n",
              "        vertical-align: top;\n",
              "    }\n",
              "\n",
              "    .dataframe thead th {\n",
              "        text-align: right;\n",
              "    }\n",
              "</style>\n",
              "<table border=\"1\" class=\"dataframe\">\n",
              "  <thead>\n",
              "    <tr style=\"text-align: right;\">\n",
              "      <th></th>\n",
              "      <th>session_id</th>\n",
              "      <th>item_recommendations</th>\n",
              "    </tr>\n",
              "  </thead>\n",
              "  <tbody>\n",
              "    <tr>\n",
              "      <th>0</th>\n",
              "      <td>06e7c29170946</td>\n",
              "      <td>10091602 9776792 6625240 6893402 3954788 93867...</td>\n",
              "    </tr>\n",
              "    <tr>\n",
              "      <th>1</th>\n",
              "      <td>ac77b5670630f</td>\n",
              "      <td>46453 46711 123395 46980 1355056 9412876 15293...</td>\n",
              "    </tr>\n",
              "    <tr>\n",
              "      <th>2</th>\n",
              "      <td>8748f6984266c</td>\n",
              "      <td>929707 104802 1883779 104773 5032060 2706630 1...</td>\n",
              "    </tr>\n",
              "    <tr>\n",
              "      <th>3</th>\n",
              "      <td>649458cf7bc3e</td>\n",
              "      <td>2679006 2677282 3371467 4783716 134412 2635106...</td>\n",
              "    </tr>\n",
              "    <tr>\n",
              "      <th>4</th>\n",
              "      <td>73c99d2cd8728</td>\n",
              "      <td>3953294 2530750 18904 12618 3842698 137487 270...</td>\n",
              "    </tr>\n",
              "  </tbody>\n",
              "</table>\n",
              "</div>"
            ],
            "text/plain": [
              "      session_id                               item_recommendations\n",
              "0  06e7c29170946  10091602 9776792 6625240 6893402 3954788 93867...\n",
              "1  ac77b5670630f  46453 46711 123395 46980 1355056 9412876 15293...\n",
              "2  8748f6984266c  929707 104802 1883779 104773 5032060 2706630 1...\n",
              "3  649458cf7bc3e  2679006 2677282 3371467 4783716 134412 2635106...\n",
              "4  73c99d2cd8728  3953294 2530750 18904 12618 3842698 137487 270..."
            ]
          },
          "metadata": {
            "tags": []
          },
          "execution_count": 57
        }
      ]
    },
    {
      "cell_type": "code",
      "metadata": {
        "id": "ucU7aaLHjY16",
        "colab_type": "code",
        "colab": {
          "base_uri": "https://localhost:8080/",
          "height": 326
        },
        "outputId": "eeebfeb9-2909-4610-8496-fd21ab94a21d"
      },
      "source": [
        "from data_transformation import data_transformation\n",
        "\n",
        "test_clickout = test_set[test_set.action_type=='clickout item'].groupby('session_id').tail(1)\n",
        "test_clickout = test_clickout[['user_id', 'session_id', 'timestamp', 'step']]\n",
        "test_set_transformed = data_transformation.transform_data(test_set)\n",
        "test_session_item = test_set_transformed[['session_id', 'item_id']]\n",
        "X_test_submission = test_set_transformed[features]\n",
        "X_test_submission_scaled = full_pipeline.fit_transform(X_test_submission)\n",
        "RecommendationsDF = get_probabilities_submission('modelsUnderSampling/LR_modelUndersampling.pkl', X_test_submission_scaled, test_session_item)\n",
        "SubmissionDF = transform_Recommendations(test_clickout, RecommendationsDF)\n",
        "SubmissionDF.head()"
      ],
      "execution_count": 28,
      "outputs": [
        {
          "output_type": "stream",
          "text": [
            "/usr/local/lib/python3.6/dist-packages/ipykernel_launcher.py:15: SettingWithCopyWarning: \n",
            "A value is trying to be set on a copy of a slice from a DataFrame.\n",
            "Try using .loc[row_indexer,col_indexer] = value instead\n",
            "\n",
            "See the caveats in the documentation: http://pandas.pydata.org/pandas-docs/stable/user_guide/indexing.html#returning-a-view-versus-a-copy\n",
            "  from ipykernel import kernelapp as app\n"
          ],
          "name": "stderr"
        },
        {
          "output_type": "execute_result",
          "data": {
            "text/html": [
              "<div>\n",
              "<style scoped>\n",
              "    .dataframe tbody tr th:only-of-type {\n",
              "        vertical-align: middle;\n",
              "    }\n",
              "\n",
              "    .dataframe tbody tr th {\n",
              "        vertical-align: top;\n",
              "    }\n",
              "\n",
              "    .dataframe thead th {\n",
              "        text-align: right;\n",
              "    }\n",
              "</style>\n",
              "<table border=\"1\" class=\"dataframe\">\n",
              "  <thead>\n",
              "    <tr style=\"text-align: right;\">\n",
              "      <th></th>\n",
              "      <th>user_id</th>\n",
              "      <th>session_id</th>\n",
              "      <th>timestamp</th>\n",
              "      <th>step</th>\n",
              "      <th>item_recommendations</th>\n",
              "    </tr>\n",
              "  </thead>\n",
              "  <tbody>\n",
              "    <tr>\n",
              "      <th>0</th>\n",
              "      <td>004A07DM0IDW</td>\n",
              "      <td>1d688ec168932</td>\n",
              "      <td>1541555799</td>\n",
              "      <td>7</td>\n",
              "      <td>1050068 2059240 399441 2033381 127131 1724779 ...</td>\n",
              "    </tr>\n",
              "    <tr>\n",
              "      <th>1</th>\n",
              "      <td>009RGHI3G9A3</td>\n",
              "      <td>f05ab0de907e2</td>\n",
              "      <td>1541570940</td>\n",
              "      <td>2</td>\n",
              "      <td>10884872 7065316</td>\n",
              "    </tr>\n",
              "    <tr>\n",
              "      <th>2</th>\n",
              "      <td>00Y1Z24X8084</td>\n",
              "      <td>26b6d294d66e7</td>\n",
              "      <td>1541651823</td>\n",
              "      <td>2</td>\n",
              "      <td>3853058 7101352 4476010 3833012 3843244 271448...</td>\n",
              "    </tr>\n",
              "    <tr>\n",
              "      <th>3</th>\n",
              "      <td>01V3WDTDM5CU</td>\n",
              "      <td>07628a0f5be0b</td>\n",
              "      <td>1541575643</td>\n",
              "      <td>5</td>\n",
              "      <td>4115018 7950162 6434434 2817590 2882092 318000...</td>\n",
              "    </tr>\n",
              "    <tr>\n",
              "      <th>4</th>\n",
              "      <td>02AOAVF9PVYH</td>\n",
              "      <td>4a01c3afbc224</td>\n",
              "      <td>1541681278</td>\n",
              "      <td>46</td>\n",
              "      <td>7304020 1177554 559056 693596 1451247 1963879 ...</td>\n",
              "    </tr>\n",
              "  </tbody>\n",
              "</table>\n",
              "</div>"
            ],
            "text/plain": [
              "        user_id  ...                               item_recommendations\n",
              "0  004A07DM0IDW  ...  1050068 2059240 399441 2033381 127131 1724779 ...\n",
              "1  009RGHI3G9A3  ...                                   10884872 7065316\n",
              "2  00Y1Z24X8084  ...  3853058 7101352 4476010 3833012 3843244 271448...\n",
              "3  01V3WDTDM5CU  ...  4115018 7950162 6434434 2817590 2882092 318000...\n",
              "4  02AOAVF9PVYH  ...  7304020 1177554 559056 693596 1451247 1963879 ...\n",
              "\n",
              "[5 rows x 5 columns]"
            ]
          },
          "metadata": {
            "tags": []
          },
          "execution_count": 28
        }
      ]
    },
    {
      "cell_type": "code",
      "metadata": {
        "id": "EE4LgRI0y2RG",
        "colab_type": "code",
        "colab": {}
      },
      "source": [
        "SubmissionDF.to_csv('TrivagoRecommendations.csv')"
      ],
      "execution_count": 0,
      "outputs": []
    },
    {
      "cell_type": "code",
      "metadata": {
        "id": "vBq-iYKFHg7h",
        "colab_type": "code",
        "colab": {
          "base_uri": "https://localhost:8080/",
          "height": 419
        },
        "outputId": "0b89c758-7bd6-4d96-eb02-ad4f8b2972f3"
      },
      "source": [
        "SubmissionDF"
      ],
      "execution_count": 50,
      "outputs": [
        {
          "output_type": "execute_result",
          "data": {
            "text/html": [
              "<div>\n",
              "<style scoped>\n",
              "    .dataframe tbody tr th:only-of-type {\n",
              "        vertical-align: middle;\n",
              "    }\n",
              "\n",
              "    .dataframe tbody tr th {\n",
              "        vertical-align: top;\n",
              "    }\n",
              "\n",
              "    .dataframe thead th {\n",
              "        text-align: right;\n",
              "    }\n",
              "</style>\n",
              "<table border=\"1\" class=\"dataframe\">\n",
              "  <thead>\n",
              "    <tr style=\"text-align: right;\">\n",
              "      <th></th>\n",
              "      <th>user_id</th>\n",
              "      <th>session_id</th>\n",
              "      <th>timestamp</th>\n",
              "      <th>step</th>\n",
              "      <th>item_recommendations</th>\n",
              "    </tr>\n",
              "  </thead>\n",
              "  <tbody>\n",
              "    <tr>\n",
              "      <th>0</th>\n",
              "      <td>004A07DM0IDW</td>\n",
              "      <td>1d688ec168932</td>\n",
              "      <td>1541555799</td>\n",
              "      <td>7</td>\n",
              "      <td>1050068 2059240 399441 2033381 127131 1724779 ...</td>\n",
              "    </tr>\n",
              "    <tr>\n",
              "      <th>1</th>\n",
              "      <td>009RGHI3G9A3</td>\n",
              "      <td>f05ab0de907e2</td>\n",
              "      <td>1541570940</td>\n",
              "      <td>2</td>\n",
              "      <td>10884872 7065316</td>\n",
              "    </tr>\n",
              "    <tr>\n",
              "      <th>2</th>\n",
              "      <td>00Y1Z24X8084</td>\n",
              "      <td>26b6d294d66e7</td>\n",
              "      <td>1541651823</td>\n",
              "      <td>2</td>\n",
              "      <td>3853058 7101352 4476010 3833012 3843244 271448...</td>\n",
              "    </tr>\n",
              "    <tr>\n",
              "      <th>3</th>\n",
              "      <td>01V3WDTDM5CU</td>\n",
              "      <td>07628a0f5be0b</td>\n",
              "      <td>1541575643</td>\n",
              "      <td>5</td>\n",
              "      <td>4115018 7950162 6434434 2817590 2882092 318000...</td>\n",
              "    </tr>\n",
              "    <tr>\n",
              "      <th>4</th>\n",
              "      <td>02AOAVF9PVYH</td>\n",
              "      <td>4a01c3afbc224</td>\n",
              "      <td>1541681278</td>\n",
              "      <td>46</td>\n",
              "      <td>7304020 1177554 559056 693596 1451247 1963879 ...</td>\n",
              "    </tr>\n",
              "    <tr>\n",
              "      <th>...</th>\n",
              "      <td>...</td>\n",
              "      <td>...</td>\n",
              "      <td>...</td>\n",
              "      <td>...</td>\n",
              "      <td>...</td>\n",
              "    </tr>\n",
              "    <tr>\n",
              "      <th>275674</th>\n",
              "      <td>ZXGCLNDBW84E</td>\n",
              "      <td>53cb30d7ca9c6</td>\n",
              "      <td>1541703038</td>\n",
              "      <td>4</td>\n",
              "      <td>477936 503361 1886269 1668443 1326068 3847842 ...</td>\n",
              "    </tr>\n",
              "    <tr>\n",
              "      <th>275675</th>\n",
              "      <td>ZYG4MMKT847V</td>\n",
              "      <td>0f128fd98b4e3</td>\n",
              "      <td>1541634384</td>\n",
              "      <td>4</td>\n",
              "      <td>2032597 1089752 9394020 2684451 2027835 279089...</td>\n",
              "    </tr>\n",
              "    <tr>\n",
              "      <th>275676</th>\n",
              "      <td>ZYMVSZ5A3KQI</td>\n",
              "      <td>8cd16c29b733b</td>\n",
              "      <td>1541695019</td>\n",
              "      <td>2</td>\n",
              "      <td>364796 1299248 4891790 381296 1345175 9647370</td>\n",
              "    </tr>\n",
              "    <tr>\n",
              "      <th>275677</th>\n",
              "      <td>ZZ39YE45SZIE</td>\n",
              "      <td>f5db4092ec9fc</td>\n",
              "      <td>1541551945</td>\n",
              "      <td>6</td>\n",
              "      <td>2849116 2625125 3378564 7365168 3166629 577914...</td>\n",
              "    </tr>\n",
              "    <tr>\n",
              "      <th>275678</th>\n",
              "      <td>ZZCM39YKI3NR</td>\n",
              "      <td>6226bde1465e7</td>\n",
              "      <td>1541601178</td>\n",
              "      <td>1</td>\n",
              "      <td>46149 109974 46119 12455 8333280 46144 8400220...</td>\n",
              "    </tr>\n",
              "  </tbody>\n",
              "</table>\n",
              "<p>275679 rows × 5 columns</p>\n",
              "</div>"
            ],
            "text/plain": [
              "             user_id  ...                               item_recommendations\n",
              "0       004A07DM0IDW  ...  1050068 2059240 399441 2033381 127131 1724779 ...\n",
              "1       009RGHI3G9A3  ...                                   10884872 7065316\n",
              "2       00Y1Z24X8084  ...  3853058 7101352 4476010 3833012 3843244 271448...\n",
              "3       01V3WDTDM5CU  ...  4115018 7950162 6434434 2817590 2882092 318000...\n",
              "4       02AOAVF9PVYH  ...  7304020 1177554 559056 693596 1451247 1963879 ...\n",
              "...              ...  ...                                                ...\n",
              "275674  ZXGCLNDBW84E  ...  477936 503361 1886269 1668443 1326068 3847842 ...\n",
              "275675  ZYG4MMKT847V  ...  2032597 1089752 9394020 2684451 2027835 279089...\n",
              "275676  ZYMVSZ5A3KQI  ...      364796 1299248 4891790 381296 1345175 9647370\n",
              "275677  ZZ39YE45SZIE  ...  2849116 2625125 3378564 7365168 3166629 577914...\n",
              "275678  ZZCM39YKI3NR  ...  46149 109974 46119 12455 8333280 46144 8400220...\n",
              "\n",
              "[275679 rows x 5 columns]"
            ]
          },
          "metadata": {
            "tags": []
          },
          "execution_count": 50
        }
      ]
    }
  ]
}