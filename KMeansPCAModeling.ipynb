{
  "nbformat": 4,
  "nbformat_minor": 0,
  "metadata": {
    "colab": {
      "name": "KMeansPCAModeling.ipynb",
      "provenance": [],
      "toc_visible": true,
      "machine_shape": "hm",
      "authorship_tag": "ABX9TyMNbhaUiAkz1AtDNVHY9dPk",
      "include_colab_link": true
    },
    "kernelspec": {
      "name": "python3",
      "display_name": "Python 3"
    }
  },
  "cells": [
    {
      "cell_type": "markdown",
      "metadata": {
        "id": "view-in-github",
        "colab_type": "text"
      },
      "source": [
        "<a href=\"https://colab.research.google.com/github/ZeyadSabbah/TrivagoRecommenderSystem/blob/master/KMeansPCAModeling.ipynb\" target=\"_parent\"><img src=\"https://colab.research.google.com/assets/colab-badge.svg\" alt=\"Open In Colab\"/></a>"
      ]
    },
    {
      "cell_type": "markdown",
      "metadata": {
        "id": "S4KQO12xlW_E",
        "colab_type": "text"
      },
      "source": [
        "# Feature Selection & Modeling\n",
        "## Mounting to Drive"
      ]
    },
    {
      "cell_type": "code",
      "metadata": {
        "id": "P0ASgtpTds7f",
        "colab_type": "code",
        "outputId": "55f77e2e-22b7-4be5-a512-2c6f86849cd1",
        "colab": {
          "base_uri": "https://localhost:8080/",
          "height": 122
        }
      },
      "source": [
        "from google.colab import drive\n",
        "drive.mount('/content/drive')"
      ],
      "execution_count": 1,
      "outputs": [
        {
          "output_type": "stream",
          "text": [
            "Go to this URL in a browser: https://accounts.google.com/o/oauth2/auth?client_id=947318989803-6bn6qk8qdgf4n4g3pfee6491hc0brc4i.apps.googleusercontent.com&redirect_uri=urn%3aietf%3awg%3aoauth%3a2.0%3aoob&response_type=code&scope=email%20https%3a%2f%2fwww.googleapis.com%2fauth%2fdocs.test%20https%3a%2f%2fwww.googleapis.com%2fauth%2fdrive%20https%3a%2f%2fwww.googleapis.com%2fauth%2fdrive.photos.readonly%20https%3a%2f%2fwww.googleapis.com%2fauth%2fpeopleapi.readonly\n",
            "\n",
            "Enter your authorization code:\n",
            "··········\n",
            "Mounted at /content/drive\n"
          ],
          "name": "stdout"
        }
      ]
    },
    {
      "cell_type": "code",
      "metadata": {
        "id": "BCmsKXRJlgJi",
        "colab_type": "code",
        "outputId": "781a6fbb-9928-4022-ce93-a80671c7a0b3",
        "colab": {
          "base_uri": "https://localhost:8080/",
          "height": 34
        }
      },
      "source": [
        "%cd /content/drive/My Drive/Trivago/Project/TrivagoRecommenderSystem"
      ],
      "execution_count": 2,
      "outputs": [
        {
          "output_type": "stream",
          "text": [
            "/content/drive/My Drive/Trivago/Project/TrivagoRecommenderSystem\n"
          ],
          "name": "stdout"
        }
      ]
    },
    {
      "cell_type": "markdown",
      "metadata": {
        "id": "0TcSAeLLlsUW",
        "colab_type": "text"
      },
      "source": [
        "## Loading Libraries & Datasets"
      ]
    },
    {
      "cell_type": "code",
      "metadata": {
        "id": "_xjWx6VMlxpw",
        "colab_type": "code",
        "outputId": "2e674c1f-0608-4ba0-efa3-82b403c7fec6",
        "colab": {
          "base_uri": "https://localhost:8080/",
          "height": 105
        }
      },
      "source": [
        "import pandas as pd\n",
        "import numpy as np\n",
        "from datetime import datetime\n",
        "from datetime import timedelta\n",
        "import math\n",
        "import matplotlib.pyplot as plt\n",
        "import seaborn as sns\n",
        "from datetime import datetime\n",
        "import re\n",
        "import random\n",
        "import joblib\n",
        "from sklearn.feature_selection import SelectKBest\n",
        "from sklearn.feature_selection import chi2\n",
        "from sklearn.linear_model import LogisticRegression\n",
        "from sklearn.svm import SVC\n",
        "from sklearn.ensemble import RandomForestClassifier\n",
        "from sklearn.ensemble import GradientBoostingClassifier\n",
        "from sklearn.model_selection import GridSearchCV\n",
        "from sklearn.model_selection import RandomizedSearchCV\n",
        "from sklearn.metrics import classification_report\n",
        "from sklearn.metrics import confusion_matrix\n",
        "from imblearn.over_sampling import SMOTE\n",
        "from sklearn.model_selection import train_test_split\n",
        "from sklearn import preprocessing\n",
        "import warnings\n",
        "warnings.filterwarnings('ignore', category=FutureWarning)\n",
        "warnings.filterwarnings('ignore', category=DeprecationWarning)"
      ],
      "execution_count": 3,
      "outputs": [
        {
          "output_type": "stream",
          "text": [
            "/usr/local/lib/python3.6/dist-packages/sklearn/externals/six.py:31: FutureWarning: The module is deprecated in version 0.21 and will be removed in version 0.23 since we've dropped support for Python 2.7. Please rely on the official version of six (https://pypi.org/project/six/).\n",
            "  \"(https://pypi.org/project/six/).\", FutureWarning)\n",
            "/usr/local/lib/python3.6/dist-packages/sklearn/utils/deprecation.py:144: FutureWarning: The sklearn.neighbors.base module is  deprecated in version 0.22 and will be removed in version 0.24. The corresponding classes / functions should instead be imported from sklearn.neighbors. Anything that cannot be imported from sklearn.neighbors is now part of the private API.\n",
            "  warnings.warn(message, FutureWarning)\n"
          ],
          "name": "stderr"
        }
      ]
    },
    {
      "cell_type": "code",
      "metadata": {
        "id": "xoM1rqha2kpu",
        "colab_type": "code",
        "colab": {}
      },
      "source": [
        "TrainDataFilepath = './Datasets/clean_data/Sets/train.csv'\n",
        "TrainData = pd.read_csv(TrainDataFilepath)\n",
        "TrainData.dropna(inplace=True)\n",
        "\n",
        "#declaring features and label\n",
        "features = TrainData.drop(columns=['session_id', 'item_id', 'clickout']).columns.tolist()\n",
        "label = ['clickout']\n",
        "\n",
        "FeaturesToDrop = ['NumberInImpressions', 'NumberInReferences', 'MeanPrice', 'MinPrice']\n",
        "for feature in FeaturesToDrop:\n",
        "  features.remove(feature)\n",
        "\n",
        "X_train = TrainData[features]\n",
        "y_train = TrainData[label]\n",
        "\n",
        "TrainData_sessions_item = TrainData[['session_id', 'item_id', 'clickout']]"
      ],
      "execution_count": 0,
      "outputs": []
    },
    {
      "cell_type": "markdown",
      "metadata": {
        "id": "7RbZ4WMpmdFy",
        "colab_type": "text"
      },
      "source": [
        "TrainData is ready for processing and modeling, while validation and test sets still need to be engineered. There is a ready function that will transform sets into the same form of TrainData.\n",
        "## Scaling Features"
      ]
    },
    {
      "cell_type": "code",
      "metadata": {
        "id": "OVn-Nuv9fojU",
        "colab_type": "code",
        "colab": {}
      },
      "source": [
        "from sklearn.pipeline import Pipeline\n",
        "from sklearn.preprocessing import StandardScaler\n",
        "from sklearn.impute import SimpleImputer\n",
        "\n",
        "num_pipeline = Pipeline([\n",
        "('imputer', SimpleImputer(strategy=\"median\")),\n",
        "('std_scaler', StandardScaler()),\n",
        "])\n",
        "\n",
        "from sklearn.compose import ColumnTransformer\n",
        "full_pipeline = ColumnTransformer([\n",
        "(\"num\", num_pipeline, list(X_train))\n",
        "])\n",
        "\n",
        "X_train_scaled = full_pipeline.fit_transform(X_train)"
      ],
      "execution_count": 0,
      "outputs": []
    },
    {
      "cell_type": "markdown",
      "metadata": {
        "id": "FMVYVTIZD2su",
        "colab_type": "text"
      },
      "source": [
        "## Properties"
      ]
    },
    {
      "cell_type": "code",
      "metadata": {
        "id": "5_tzaZSEIAdF",
        "colab_type": "code",
        "colab": {}
      },
      "source": [
        "def ConcatProperties(data, ClustersOrPCA, X_scaled):\n",
        "  '''\n",
        "  Desc: function that concatenates either clusters or PCA of properties\n",
        "\n",
        "  Input: data: Pandas DataFrame with the data being used to concatenate properties to\n",
        "         ClustersOrPCA: String with which type to be used of properties\n",
        "         X_scaled: numpy array of the features of the dataframe used\n",
        "         \n",
        "  Output: X_scaled_prop: Pandas DataFrame with the properties of different items being concatenated to the features dataframe\n",
        "  '''\n",
        "  if ClustersOrPCA == 'Clusters':\n",
        "    PropertiesFilePath = './Datasets/clean_data/ItemsPropertiesSimilarities/PropertiesClusters.csv'\n",
        "    DF = pd.read_csv(PropertiesFilePath)\n",
        "    DF = DF.rename(columns={'item':'item_id'})\n",
        "  elif ClustersOrPCA == 'PCA':\n",
        "    PropertiesFilePath = './Datasets/clean_data/ItemsPropertiesSimilarities/PCA_Properties.csv'\n",
        "    DF = pd.read_csv(PropertiesFilePath)\n",
        "    DF.drop(columns='Unnamed: 0', inplace=True)\n",
        "  X_scaled = pd.DataFrame(X_scaled, columns=features)\n",
        "  X_scaled['item_id'] = data['item_id'].values.tolist()\n",
        "  X_scaled_prop = X_scaled.merge(DF, on='item_id', how='left')\n",
        "  if ClustersOrPCA == 'Clusters':\n",
        "    X_scaled_prop.fillna(0, inplace=True)\n",
        "  elif ClustersOrPCA == 'PCA':\n",
        "    X_scaled_prop.fillna(X_scaled_prop.mean())\n",
        "  X_scaled_prop.drop(columns='item_id', inplace=True)\n",
        "  return X_scaled_prop"
      ],
      "execution_count": 0,
      "outputs": []
    },
    {
      "cell_type": "markdown",
      "metadata": {
        "id": "nsWwP_q6OYfB",
        "colab_type": "text"
      },
      "source": [
        " #### Clusters"
      ]
    },
    {
      "cell_type": "code",
      "metadata": {
        "id": "SKvnvVDiQlmH",
        "colab_type": "code",
        "outputId": "456ab750-7bb4-47bb-ddc1-aab5e26ad6ed",
        "colab": {
          "base_uri": "https://localhost:8080/",
          "height": 131
        }
      },
      "source": [
        "X_train_Prop_clust = ConcatProperties(TrainData,'Clusters', X_train_scaled)\n",
        "X_train_Prop_clust.head(2)"
      ],
      "execution_count": 14,
      "outputs": [
        {
          "output_type": "execute_result",
          "data": {
            "text/html": [
              "<div>\n",
              "<style scoped>\n",
              "    .dataframe tbody tr th:only-of-type {\n",
              "        vertical-align: middle;\n",
              "    }\n",
              "\n",
              "    .dataframe tbody tr th {\n",
              "        vertical-align: top;\n",
              "    }\n",
              "\n",
              "    .dataframe thead th {\n",
              "        text-align: right;\n",
              "    }\n",
              "</style>\n",
              "<table border=\"1\" class=\"dataframe\">\n",
              "  <thead>\n",
              "    <tr style=\"text-align: right;\">\n",
              "      <th></th>\n",
              "      <th>price</th>\n",
              "      <th>item_rank</th>\n",
              "      <th>price_rank</th>\n",
              "      <th>session_duration</th>\n",
              "      <th>item_duration</th>\n",
              "      <th>item_session_duration</th>\n",
              "      <th>item_interactions</th>\n",
              "      <th>maximum_step</th>\n",
              "      <th>top_list</th>\n",
              "      <th>NumberOfProperties</th>\n",
              "      <th>NumberAsClickout</th>\n",
              "      <th>NumberAsFinalClickout</th>\n",
              "      <th>FClickoutToImpressions</th>\n",
              "      <th>FClickoutToReferences</th>\n",
              "      <th>FClickoutToClickout</th>\n",
              "      <th>MeanRank</th>\n",
              "      <th>MaxPrice</th>\n",
              "      <th>AveragePriceRank</th>\n",
              "      <th>item_id</th>\n",
              "      <th>A</th>\n",
              "      <th>B</th>\n",
              "      <th>C</th>\n",
              "      <th>D</th>\n",
              "      <th>E</th>\n",
              "    </tr>\n",
              "  </thead>\n",
              "  <tbody>\n",
              "    <tr>\n",
              "      <th>0</th>\n",
              "      <td>0.252317</td>\n",
              "      <td>-1.600463</td>\n",
              "      <td>-0.482369</td>\n",
              "      <td>0.292219</td>\n",
              "      <td>-0.05385</td>\n",
              "      <td>-0.109292</td>\n",
              "      <td>-0.121237</td>\n",
              "      <td>-0.033225</td>\n",
              "      <td>1.892137</td>\n",
              "      <td>0.906773</td>\n",
              "      <td>0.285278</td>\n",
              "      <td>0.182823</td>\n",
              "      <td>-0.287512</td>\n",
              "      <td>-0.452075</td>\n",
              "      <td>0.050683</td>\n",
              "      <td>-0.046869</td>\n",
              "      <td>1.709832</td>\n",
              "      <td>0.175147</td>\n",
              "      <td>55109</td>\n",
              "      <td>1</td>\n",
              "      <td>0</td>\n",
              "      <td>0</td>\n",
              "      <td>0</td>\n",
              "      <td>0</td>\n",
              "    </tr>\n",
              "    <tr>\n",
              "      <th>1</th>\n",
              "      <td>-0.547093</td>\n",
              "      <td>-1.460681</td>\n",
              "      <td>-1.460852</td>\n",
              "      <td>0.292219</td>\n",
              "      <td>-0.05385</td>\n",
              "      <td>-0.109292</td>\n",
              "      <td>-0.121237</td>\n",
              "      <td>-0.033225</td>\n",
              "      <td>1.892137</td>\n",
              "      <td>-0.566203</td>\n",
              "      <td>-0.197544</td>\n",
              "      <td>-0.216819</td>\n",
              "      <td>0.043623</td>\n",
              "      <td>-0.288748</td>\n",
              "      <td>0.064645</td>\n",
              "      <td>-0.370136</td>\n",
              "      <td>-0.134111</td>\n",
              "      <td>-0.583259</td>\n",
              "      <td>129343</td>\n",
              "      <td>1</td>\n",
              "      <td>0</td>\n",
              "      <td>0</td>\n",
              "      <td>0</td>\n",
              "      <td>0</td>\n",
              "    </tr>\n",
              "  </tbody>\n",
              "</table>\n",
              "</div>"
            ],
            "text/plain": [
              "      price  item_rank  price_rank  session_duration  ...  B  C  D  E\n",
              "0  0.252317  -1.600463   -0.482369          0.292219  ...  0  0  0  0\n",
              "1 -0.547093  -1.460681   -1.460852          0.292219  ...  0  0  0  0\n",
              "\n",
              "[2 rows x 24 columns]"
            ]
          },
          "metadata": {
            "tags": []
          },
          "execution_count": 14
        }
      ]
    },
    {
      "cell_type": "markdown",
      "metadata": {
        "id": "Qe5y2D1mVAJf",
        "colab_type": "text"
      },
      "source": [
        "### PCA"
      ]
    },
    {
      "cell_type": "code",
      "metadata": {
        "id": "OZWqPhLpU_lC",
        "colab_type": "code",
        "outputId": "cf96cca8-8c5e-4d55-8754-45b263d6234b",
        "colab": {
          "base_uri": "https://localhost:8080/",
          "height": 148
        }
      },
      "source": [
        "X_train_Prop_PCA = ConcatProperties(TrainData, 'PCA', X_train_scaled)\n",
        "X_train_Prop_PCA.head(2)"
      ],
      "execution_count": 15,
      "outputs": [
        {
          "output_type": "execute_result",
          "data": {
            "text/html": [
              "<div>\n",
              "<style scoped>\n",
              "    .dataframe tbody tr th:only-of-type {\n",
              "        vertical-align: middle;\n",
              "    }\n",
              "\n",
              "    .dataframe tbody tr th {\n",
              "        vertical-align: top;\n",
              "    }\n",
              "\n",
              "    .dataframe thead th {\n",
              "        text-align: right;\n",
              "    }\n",
              "</style>\n",
              "<table border=\"1\" class=\"dataframe\">\n",
              "  <thead>\n",
              "    <tr style=\"text-align: right;\">\n",
              "      <th></th>\n",
              "      <th>price</th>\n",
              "      <th>item_rank</th>\n",
              "      <th>price_rank</th>\n",
              "      <th>session_duration</th>\n",
              "      <th>item_duration</th>\n",
              "      <th>item_session_duration</th>\n",
              "      <th>item_interactions</th>\n",
              "      <th>maximum_step</th>\n",
              "      <th>top_list</th>\n",
              "      <th>NumberOfProperties</th>\n",
              "      <th>NumberAsClickout</th>\n",
              "      <th>NumberAsFinalClickout</th>\n",
              "      <th>FClickoutToImpressions</th>\n",
              "      <th>FClickoutToReferences</th>\n",
              "      <th>FClickoutToClickout</th>\n",
              "      <th>MeanRank</th>\n",
              "      <th>MaxPrice</th>\n",
              "      <th>AveragePriceRank</th>\n",
              "      <th>item_id</th>\n",
              "      <th>Unnamed: 0</th>\n",
              "      <th>PC1</th>\n",
              "      <th>PC2</th>\n",
              "      <th>PC3</th>\n",
              "      <th>PC4</th>\n",
              "      <th>PC5</th>\n",
              "      <th>PC6</th>\n",
              "      <th>PC7</th>\n",
              "    </tr>\n",
              "  </thead>\n",
              "  <tbody>\n",
              "    <tr>\n",
              "      <th>0</th>\n",
              "      <td>0.252317</td>\n",
              "      <td>-1.600463</td>\n",
              "      <td>-0.482369</td>\n",
              "      <td>0.292219</td>\n",
              "      <td>-0.05385</td>\n",
              "      <td>-0.109292</td>\n",
              "      <td>-0.121237</td>\n",
              "      <td>-0.033225</td>\n",
              "      <td>1.892137</td>\n",
              "      <td>0.906773</td>\n",
              "      <td>0.285278</td>\n",
              "      <td>0.182823</td>\n",
              "      <td>-0.287512</td>\n",
              "      <td>-0.452075</td>\n",
              "      <td>0.050683</td>\n",
              "      <td>-0.046869</td>\n",
              "      <td>1.709832</td>\n",
              "      <td>0.175147</td>\n",
              "      <td>55109</td>\n",
              "      <td>917942</td>\n",
              "      <td>4.256183</td>\n",
              "      <td>-1.010829</td>\n",
              "      <td>0.194052</td>\n",
              "      <td>-0.343445</td>\n",
              "      <td>-0.483854</td>\n",
              "      <td>0.329065</td>\n",
              "      <td>1.082989</td>\n",
              "    </tr>\n",
              "    <tr>\n",
              "      <th>1</th>\n",
              "      <td>-0.547093</td>\n",
              "      <td>-1.460681</td>\n",
              "      <td>-1.460852</td>\n",
              "      <td>0.292219</td>\n",
              "      <td>-0.05385</td>\n",
              "      <td>-0.109292</td>\n",
              "      <td>-0.121237</td>\n",
              "      <td>-0.033225</td>\n",
              "      <td>1.892137</td>\n",
              "      <td>-0.566203</td>\n",
              "      <td>-0.197544</td>\n",
              "      <td>-0.216819</td>\n",
              "      <td>0.043623</td>\n",
              "      <td>-0.288748</td>\n",
              "      <td>0.064645</td>\n",
              "      <td>-0.370136</td>\n",
              "      <td>-0.134111</td>\n",
              "      <td>-0.583259</td>\n",
              "      <td>129343</td>\n",
              "      <td>657696</td>\n",
              "      <td>0.936076</td>\n",
              "      <td>0.037035</td>\n",
              "      <td>0.952187</td>\n",
              "      <td>0.495297</td>\n",
              "      <td>-0.157769</td>\n",
              "      <td>-0.341891</td>\n",
              "      <td>-0.289848</td>\n",
              "    </tr>\n",
              "  </tbody>\n",
              "</table>\n",
              "</div>"
            ],
            "text/plain": [
              "      price  item_rank  price_rank  ...       PC5       PC6       PC7\n",
              "0  0.252317  -1.600463   -0.482369  ... -0.483854  0.329065  1.082989\n",
              "1 -0.547093  -1.460681   -1.460852  ... -0.157769 -0.341891 -0.289848\n",
              "\n",
              "[2 rows x 27 columns]"
            ]
          },
          "metadata": {
            "tags": []
          },
          "execution_count": 15
        }
      ]
    },
    {
      "cell_type": "markdown",
      "metadata": {
        "id": "Z3xNR1Zp00Cb",
        "colab_type": "text"
      },
      "source": [
        "## XGBoost Modeling"
      ]
    },
    {
      "cell_type": "markdown",
      "metadata": {
        "id": "C5HZW9sZVV2c",
        "colab_type": "text"
      },
      "source": [
        "Since XGBoost without Resampling reached the highest score, then this algorigthm will be the one functioning on both Properties clusters and PCA."
      ]
    },
    {
      "cell_type": "code",
      "metadata": {
        "id": "a9ZR6nyqJkeC",
        "colab_type": "code",
        "colab": {}
      },
      "source": [
        "def random_search(clf, parameters, X, y):\n",
        "  '''\n",
        "  Desc: function that searches for the best hyperparameters for an algorithm by fitting randomly training example randomly and select the best\n",
        "\n",
        "  Input: clf: classifier algorithm\n",
        "         parameters: list of different parameters\n",
        "  \n",
        "  Output: best_clf: classifier with the best hyperparameters that suit this kind of data examples\n",
        "  '''\n",
        "  search_obj = RandomizedSearchCV(clf, parameters)\n",
        "  fit_obj = search_obj.fit(X, y)\n",
        "  best_clf = fit_obj.best_estimator_\n",
        "  return best_clf"
      ],
      "execution_count": 0,
      "outputs": []
    },
    {
      "cell_type": "markdown",
      "metadata": {
        "id": "ATr5NU001oJz",
        "colab_type": "text"
      },
      "source": [
        "#### Clusters"
      ]
    },
    {
      "cell_type": "code",
      "metadata": {
        "id": "tLLIJ4ghb5oa",
        "colab_type": "code",
        "colab": {
          "base_uri": "https://localhost:8080/",
          "height": 204
        },
        "outputId": "0715258d-c8fd-490b-a45b-ee39f4d7a784"
      },
      "source": [
        "X_train_Prop_clust_sample = X_train_Prop_clust.sample(frac=0.02, random_state=0)\n",
        "y_train_sample = y_train.sample(frac=0.02, random_state=0)\n",
        "\n",
        "t1 = datetime.now()\n",
        "gb = GradientBoostingClassifier()\n",
        "parameters = {\n",
        "    'n_estimators':[5, 50, 250, 500],\n",
        "    'max_depth':[1, 3, 5, 7, 9],\n",
        "    'learning_rate':[0.01, 0.1, 1, 10, 100]\n",
        "}\n",
        "\n",
        "best_clf_grid = random_search(gb, parameters, X_train_Prop_clust_sample, y_train_sample.values.ravel())\n",
        "print(best_clf_grid)\n",
        "\n",
        "gb = best_clf_grid.fit(X_train_Prop_clust, y_train.values.ravel())\n",
        "joblib.dump(gb, './modelsProperties/XGBoost_clusters.pkl')\n",
        "t2 = datetime.now()\n",
        "print('Time taken : ', (t2 - t1))"
      ],
      "execution_count": 15,
      "outputs": [
        {
          "output_type": "stream",
          "text": [
            "GradientBoostingClassifier(ccp_alpha=0.0, criterion='friedman_mse', init=None,\n",
            "                           learning_rate=0.01, loss='deviance', max_depth=1,\n",
            "                           max_features=None, max_leaf_nodes=None,\n",
            "                           min_impurity_decrease=0.0, min_impurity_split=None,\n",
            "                           min_samples_leaf=1, min_samples_split=2,\n",
            "                           min_weight_fraction_leaf=0.0, n_estimators=250,\n",
            "                           n_iter_no_change=None, presort='deprecated',\n",
            "                           random_state=None, subsample=1.0, tol=0.0001,\n",
            "                           validation_fraction=0.1, verbose=0,\n",
            "                           warm_start=False)\n",
            "Time taken :  4:25:56.523560\n"
          ],
          "name": "stdout"
        }
      ]
    },
    {
      "cell_type": "markdown",
      "metadata": {
        "id": "EIvw4ITOGUyF",
        "colab_type": "text"
      },
      "source": [
        "#### PCA"
      ]
    },
    {
      "cell_type": "code",
      "metadata": {
        "id": "yapCFr1fbiUW",
        "colab_type": "code",
        "colab": {}
      },
      "source": [
        "X_train_Prop_PCA_sample = X_train_Prop_PCA.sample(frac=0.02, random_state=0)\n",
        "y_train_sample = y_train.sample(frac=0.02, random_state=0)\n",
        "\n",
        "t1 = datetime.now()\n",
        "gb = GradientBoostingClassifier()\n",
        "parameters = {\n",
        "    'n_estimators':[5, 50, 250, 500],\n",
        "    'max_depth':[1, 3, 5, 7, 9],\n",
        "    'learning_rate':[0.01, 0.1, 1, 10, 100]\n",
        "}\n",
        "\n",
        "best_clf_grid = random_search(gb, parameters, X_train_Prop_PCA_sample, y_train_sample.values.ravel())\n",
        "print(best_clf_grid)\n",
        "\n",
        "gb = best_clf_grid.fit(X_train_Prop_PCA, y_train.values.ravel())\n",
        "joblib.dump(gb, './modelsProperties/XGBoost_PCA.pkl')\n",
        "t2 = datetime.now()\n",
        "print('Time taken : ', (t2 - t1))"
      ],
      "execution_count": 0,
      "outputs": []
    },
    {
      "cell_type": "markdown",
      "metadata": {
        "id": "ZyTM8lKU1Zuc",
        "colab_type": "text"
      },
      "source": [
        "## Model Evaluation"
      ]
    },
    {
      "cell_type": "code",
      "metadata": {
        "id": "9lY1-kqq1dkn",
        "colab_type": "code",
        "colab": {}
      },
      "source": [
        "#function is from this repo https://gist.github.com/bwhite/3726239\n",
        "def mean_reciprocal_rank(rs):\n",
        "    \"\"\"Score is reciprocal of the rank of the first relevant item\n",
        "    First element is 'rank 1'.  Relevance is binary (nonzero is relevant).\n",
        "    Example from http://en.wikipedia.org/wiki/Mean_reciprocal_rank\n",
        "    >>> rs = [[0, 0, 1], [0, 1, 0], [1, 0, 0]]\n",
        "    >>> mean_reciprocal_rank(rs)\n",
        "    0.61111111111111105\n",
        "    >>> rs = np.array([[0, 0, 0], [0, 1, 0], [1, 0, 0]])\n",
        "    >>> mean_reciprocal_rank(rs)\n",
        "    0.5\n",
        "    >>> rs = [[0, 0, 0, 1], [1, 0, 0], [1, 0, 0]]\n",
        "    >>> mean_reciprocal_rank(rs)\n",
        "    0.75\n",
        "    Args:\n",
        "        rs: Iterator of relevance scores (list or numpy) in rank order\n",
        "            (first element is the first item)\n",
        "    Returns:\n",
        "        Mean reciprocal rank\n",
        "    \"\"\"\n",
        "    rs = (np.asarray(r).nonzero()[0] for r in rs)\n",
        "    return np.mean([1. / (r[0] + 1) if r.size else 0. for r in rs])"
      ],
      "execution_count": 0,
      "outputs": []
    },
    {
      "cell_type": "code",
      "metadata": {
        "id": "6kC0mdEd1m2X",
        "colab_type": "code",
        "colab": {}
      },
      "source": [
        "def get_probabilities(model_path, X, session_item_dataset):\n",
        "  '''\n",
        "  Desc: function that gets the probability of each item being selected by the user, rerank the items in the session based on the probabilites\n",
        "\n",
        "  Input: model_path: String with the name of the stored model\n",
        "         X: array of scaled features of the dataset\n",
        "         session_item_dataset: Pandas Dataframe with the sessions, items, and clickout\n",
        "        \n",
        "  Output: clickout_rank: List of lists that carries which item was selected in which rank\n",
        "          RecommendationsDF: Pandas Dataframe to be transformed and merged to the Clickout Dataframe\n",
        "  '''\n",
        "  model = joblib.load(model_path)\n",
        "  BothProbabilities = model.predict_proba(X)\n",
        "  Probabilities = [Probability[1] for Probability in BothProbabilities]\n",
        "  session_item_dataset['probability'] = Probabilities\n",
        "  RecommendationsDF = session_item_dataset.groupby(['session_id'], sort=False).apply(lambda x: (x.sort_values('probability', ascending=False)))\n",
        "  clickout_rank = RecommendationsDF.clickout\n",
        "  clickout_rank = clickout_rank.reset_index().groupby('session_id').clickout.apply(list).values.tolist()\n",
        "  return clickout_rank, RecommendationsDF"
      ],
      "execution_count": 0,
      "outputs": []
    },
    {
      "cell_type": "code",
      "metadata": {
        "id": "tx-lEoh51rhh",
        "colab_type": "code",
        "colab": {}
      },
      "source": [
        "def ClassifReport(model_path, X, y):\n",
        "  global y_pred\n",
        "  model = joblib.load(model_path)\n",
        "  y_pred = model.predict(X)\n",
        "  return classification_report(y, y_pred)"
      ],
      "execution_count": 0,
      "outputs": []
    },
    {
      "cell_type": "code",
      "metadata": {
        "id": "D5MV0ios1wFh",
        "colab_type": "code",
        "colab": {}
      },
      "source": [
        "def PrintMetrics(model_path, X, y, session_item_dataset):\n",
        "  clickout_rank, RecommendationsDF = get_probabilities(model_path, X, session_item_dataset)\n",
        "  MeanReciprocalRank = mean_reciprocal_rank(clickout_rank)\n",
        "  print('Mean Reciprocal Rank : ', MeanReciprocalRank)\n",
        "  print('=================================================')\n",
        "  ClassificationReport = ClassifReport(model_path, X, y)\n",
        "  print('Classification Report')\n",
        "  print('=================================================')\n",
        "  print(ClassificationReport)\n",
        "  ConfMatrix = confusion_matrix(y, y_pred)\n",
        "  print('Confusion Matrix')\n",
        "  print('================================================')\n",
        "  print(ConfMatrix)\n",
        "  return"
      ],
      "execution_count": 0,
      "outputs": []
    },
    {
      "cell_type": "markdown",
      "metadata": {
        "id": "Ji0aI3Uj17fZ",
        "colab_type": "text"
      },
      "source": [
        "### Loading and Preparing Validation & Test Sets"
      ]
    },
    {
      "cell_type": "markdown",
      "metadata": {
        "id": "MvIPqQSa-vMx",
        "colab_type": "text"
      },
      "source": [
        "#### Validation"
      ]
    },
    {
      "cell_type": "code",
      "metadata": {
        "id": "9jADs9tf2IGy",
        "colab_type": "code",
        "colab": {}
      },
      "source": [
        "valFilepath = './Datasets/clean_data/Sets/val.csv'\n",
        "valData = pd.read_csv(valFilepath)\n",
        "\n",
        "#declaring features and label\n",
        "features = valData.drop(columns=['session_id', 'item_id', 'clickout']).columns.tolist()\n",
        "label = ['clickout']\n",
        "\n",
        "FeaturesToDrop = ['NumberInImpressions', 'NumberInReferences', 'MeanPrice', 'MinPrice']\n",
        "for feature in FeaturesToDrop:\n",
        "  features.remove(feature)\n",
        "\n",
        "valData_sessions_item = valData[['session_id', 'item_id', 'clickout']]\n",
        "X_val = valData[features]\n",
        "y_val = valData[label]\n",
        "\n",
        "# validation set scaling\n",
        "X_val_scaled = full_pipeline.fit_transform(X_val)\n",
        "\n",
        "X_val_Prop_clust = ConcatProperties(valData, 'Clusters', X_val_scaled)\n",
        "X_val_Prop_PCA = ConcatProperties(valData, 'PCA', X_val_scaled)"
      ],
      "execution_count": 0,
      "outputs": []
    },
    {
      "cell_type": "code",
      "metadata": {
        "id": "1DPb1crfBD_C",
        "colab_type": "code",
        "colab": {
          "base_uri": "https://localhost:8080/",
          "height": 439
        },
        "outputId": "0edf104c-7fb0-4bd3-dd11-bb1fdb715f20"
      },
      "source": [
        "X_val_Prop_clust"
      ],
      "execution_count": 32,
      "outputs": [
        {
          "output_type": "execute_result",
          "data": {
            "text/html": [
              "<div>\n",
              "<style scoped>\n",
              "    .dataframe tbody tr th:only-of-type {\n",
              "        vertical-align: middle;\n",
              "    }\n",
              "\n",
              "    .dataframe tbody tr th {\n",
              "        vertical-align: top;\n",
              "    }\n",
              "\n",
              "    .dataframe thead th {\n",
              "        text-align: right;\n",
              "    }\n",
              "</style>\n",
              "<table border=\"1\" class=\"dataframe\">\n",
              "  <thead>\n",
              "    <tr style=\"text-align: right;\">\n",
              "      <th></th>\n",
              "      <th>price</th>\n",
              "      <th>item_rank</th>\n",
              "      <th>price_rank</th>\n",
              "      <th>session_duration</th>\n",
              "      <th>item_duration</th>\n",
              "      <th>item_session_duration</th>\n",
              "      <th>item_interactions</th>\n",
              "      <th>maximum_step</th>\n",
              "      <th>top_list</th>\n",
              "      <th>NumberOfProperties</th>\n",
              "      <th>NumberAsClickout</th>\n",
              "      <th>NumberAsFinalClickout</th>\n",
              "      <th>FClickoutToImpressions</th>\n",
              "      <th>FClickoutToReferences</th>\n",
              "      <th>FClickoutToClickout</th>\n",
              "      <th>MeanRank</th>\n",
              "      <th>MaxPrice</th>\n",
              "      <th>AveragePriceRank</th>\n",
              "      <th>A</th>\n",
              "      <th>B</th>\n",
              "      <th>C</th>\n",
              "      <th>D</th>\n",
              "      <th>E</th>\n",
              "    </tr>\n",
              "  </thead>\n",
              "  <tbody>\n",
              "    <tr>\n",
              "      <th>0</th>\n",
              "      <td>-0.196916</td>\n",
              "      <td>-1.600155</td>\n",
              "      <td>-1.180739</td>\n",
              "      <td>1.891658</td>\n",
              "      <td>20.486682</td>\n",
              "      <td>13.531549</td>\n",
              "      <td>1.696958</td>\n",
              "      <td>-0.037139</td>\n",
              "      <td>1.891705</td>\n",
              "      <td>-1.581095</td>\n",
              "      <td>0.649658</td>\n",
              "      <td>0.413817</td>\n",
              "      <td>-0.047192</td>\n",
              "      <td>0.117955</td>\n",
              "      <td>-0.038701</td>\n",
              "      <td>0.262537</td>\n",
              "      <td>-0.215300</td>\n",
              "      <td>0.603357</td>\n",
              "      <td>0.0</td>\n",
              "      <td>0.0</td>\n",
              "      <td>0.0</td>\n",
              "      <td>0.0</td>\n",
              "      <td>1.0</td>\n",
              "    </tr>\n",
              "    <tr>\n",
              "      <th>1</th>\n",
              "      <td>-0.185278</td>\n",
              "      <td>-1.460350</td>\n",
              "      <td>0.077509</td>\n",
              "      <td>1.891658</td>\n",
              "      <td>-0.060067</td>\n",
              "      <td>-0.109652</td>\n",
              "      <td>-0.125926</td>\n",
              "      <td>-0.037139</td>\n",
              "      <td>1.891705</td>\n",
              "      <td>0.307928</td>\n",
              "      <td>0.287566</td>\n",
              "      <td>0.356729</td>\n",
              "      <td>-0.130984</td>\n",
              "      <td>-0.192631</td>\n",
              "      <td>0.446863</td>\n",
              "      <td>-0.350283</td>\n",
              "      <td>-0.040253</td>\n",
              "      <td>0.156429</td>\n",
              "      <td>1.0</td>\n",
              "      <td>0.0</td>\n",
              "      <td>0.0</td>\n",
              "      <td>0.0</td>\n",
              "      <td>0.0</td>\n",
              "    </tr>\n",
              "    <tr>\n",
              "      <th>2</th>\n",
              "      <td>0.018393</td>\n",
              "      <td>-1.320545</td>\n",
              "      <td>-1.040934</td>\n",
              "      <td>1.891658</td>\n",
              "      <td>-0.060067</td>\n",
              "      <td>-0.109652</td>\n",
              "      <td>-0.125926</td>\n",
              "      <td>-0.037139</td>\n",
              "      <td>1.891705</td>\n",
              "      <td>-0.797841</td>\n",
              "      <td>-0.134874</td>\n",
              "      <td>-0.271240</td>\n",
              "      <td>-0.460867</td>\n",
              "      <td>-0.418206</td>\n",
              "      <td>-0.455428</td>\n",
              "      <td>0.689664</td>\n",
              "      <td>0.318351</td>\n",
              "      <td>0.672071</td>\n",
              "      <td>1.0</td>\n",
              "      <td>0.0</td>\n",
              "      <td>0.0</td>\n",
              "      <td>0.0</td>\n",
              "      <td>0.0</td>\n",
              "    </tr>\n",
              "    <tr>\n",
              "      <th>3</th>\n",
              "      <td>-0.260927</td>\n",
              "      <td>-1.180739</td>\n",
              "      <td>-0.621518</td>\n",
              "      <td>1.891658</td>\n",
              "      <td>-0.060067</td>\n",
              "      <td>-0.109652</td>\n",
              "      <td>-0.125926</td>\n",
              "      <td>-0.037139</td>\n",
              "      <td>1.891705</td>\n",
              "      <td>-0.106735</td>\n",
              "      <td>0.076346</td>\n",
              "      <td>-0.157064</td>\n",
              "      <td>-0.315359</td>\n",
              "      <td>-0.418977</td>\n",
              "      <td>-0.439565</td>\n",
              "      <td>0.137521</td>\n",
              "      <td>-0.293099</td>\n",
              "      <td>0.222219</td>\n",
              "      <td>1.0</td>\n",
              "      <td>0.0</td>\n",
              "      <td>0.0</td>\n",
              "      <td>0.0</td>\n",
              "      <td>0.0</td>\n",
              "    </tr>\n",
              "    <tr>\n",
              "      <th>4</th>\n",
              "      <td>-0.231831</td>\n",
              "      <td>-1.040934</td>\n",
              "      <td>-1.600155</td>\n",
              "      <td>1.891658</td>\n",
              "      <td>-0.060067</td>\n",
              "      <td>-0.109652</td>\n",
              "      <td>-0.125926</td>\n",
              "      <td>-0.037139</td>\n",
              "      <td>1.891705</td>\n",
              "      <td>-1.535021</td>\n",
              "      <td>-0.195223</td>\n",
              "      <td>-0.157064</td>\n",
              "      <td>0.462749</td>\n",
              "      <td>0.576486</td>\n",
              "      <td>0.432903</td>\n",
              "      <td>0.250411</td>\n",
              "      <td>-0.381838</td>\n",
              "      <td>0.349947</td>\n",
              "      <td>0.0</td>\n",
              "      <td>0.0</td>\n",
              "      <td>0.0</td>\n",
              "      <td>0.0</td>\n",
              "      <td>1.0</td>\n",
              "    </tr>\n",
              "    <tr>\n",
              "      <th>...</th>\n",
              "      <td>...</td>\n",
              "      <td>...</td>\n",
              "      <td>...</td>\n",
              "      <td>...</td>\n",
              "      <td>...</td>\n",
              "      <td>...</td>\n",
              "      <td>...</td>\n",
              "      <td>...</td>\n",
              "      <td>...</td>\n",
              "      <td>...</td>\n",
              "      <td>...</td>\n",
              "      <td>...</td>\n",
              "      <td>...</td>\n",
              "      <td>...</td>\n",
              "      <td>...</td>\n",
              "      <td>...</td>\n",
              "      <td>...</td>\n",
              "      <td>...</td>\n",
              "      <td>...</td>\n",
              "      <td>...</td>\n",
              "      <td>...</td>\n",
              "      <td>...</td>\n",
              "      <td>...</td>\n",
              "    </tr>\n",
              "    <tr>\n",
              "      <th>3399261</th>\n",
              "      <td>0.478108</td>\n",
              "      <td>1.195951</td>\n",
              "      <td>1.335756</td>\n",
              "      <td>-0.427598</td>\n",
              "      <td>-0.060067</td>\n",
              "      <td>-0.109652</td>\n",
              "      <td>-0.125926</td>\n",
              "      <td>-0.337035</td>\n",
              "      <td>-0.528624</td>\n",
              "      <td>0.538297</td>\n",
              "      <td>0.679832</td>\n",
              "      <td>0.642169</td>\n",
              "      <td>0.015135</td>\n",
              "      <td>-0.308736</td>\n",
              "      <td>0.258409</td>\n",
              "      <td>0.277854</td>\n",
              "      <td>0.329291</td>\n",
              "      <td>0.307601</td>\n",
              "      <td>1.0</td>\n",
              "      <td>0.0</td>\n",
              "      <td>0.0</td>\n",
              "      <td>0.0</td>\n",
              "      <td>0.0</td>\n",
              "    </tr>\n",
              "    <tr>\n",
              "      <th>3399262</th>\n",
              "      <td>1.205505</td>\n",
              "      <td>1.335756</td>\n",
              "      <td>-0.621518</td>\n",
              "      <td>-0.427598</td>\n",
              "      <td>-0.060067</td>\n",
              "      <td>-0.109652</td>\n",
              "      <td>-0.125926</td>\n",
              "      <td>-0.337035</td>\n",
              "      <td>-0.528624</td>\n",
              "      <td>-0.152809</td>\n",
              "      <td>9.913173</td>\n",
              "      <td>9.205379</td>\n",
              "      <td>0.561929</td>\n",
              "      <td>-0.301944</td>\n",
              "      <td>0.231018</td>\n",
              "      <td>-1.447271</td>\n",
              "      <td>10.073586</td>\n",
              "      <td>-0.132933</td>\n",
              "      <td>1.0</td>\n",
              "      <td>0.0</td>\n",
              "      <td>0.0</td>\n",
              "      <td>0.0</td>\n",
              "      <td>0.0</td>\n",
              "    </tr>\n",
              "    <tr>\n",
              "      <th>3399263</th>\n",
              "      <td>0.402459</td>\n",
              "      <td>1.475562</td>\n",
              "      <td>0.776535</td>\n",
              "      <td>-0.427598</td>\n",
              "      <td>-0.060067</td>\n",
              "      <td>-0.109652</td>\n",
              "      <td>-0.125926</td>\n",
              "      <td>-0.337035</td>\n",
              "      <td>-0.528624</td>\n",
              "      <td>-1.581095</td>\n",
              "      <td>0.347915</td>\n",
              "      <td>0.128376</td>\n",
              "      <td>-0.204116</td>\n",
              "      <td>0.842446</td>\n",
              "      <td>-0.148743</td>\n",
              "      <td>0.122994</td>\n",
              "      <td>0.875098</td>\n",
              "      <td>0.239691</td>\n",
              "      <td>0.0</td>\n",
              "      <td>0.0</td>\n",
              "      <td>0.0</td>\n",
              "      <td>0.0</td>\n",
              "      <td>1.0</td>\n",
              "    </tr>\n",
              "    <tr>\n",
              "      <th>3399264</th>\n",
              "      <td>3.125834</td>\n",
              "      <td>1.615367</td>\n",
              "      <td>-0.481713</td>\n",
              "      <td>-0.427598</td>\n",
              "      <td>-0.060067</td>\n",
              "      <td>-0.109652</td>\n",
              "      <td>-0.125926</td>\n",
              "      <td>-0.337035</td>\n",
              "      <td>-0.528624</td>\n",
              "      <td>1.183329</td>\n",
              "      <td>-0.406443</td>\n",
              "      <td>-0.385416</td>\n",
              "      <td>-0.279705</td>\n",
              "      <td>-0.432118</td>\n",
              "      <td>0.258409</td>\n",
              "      <td>0.891143</td>\n",
              "      <td>0.941956</td>\n",
              "      <td>0.629831</td>\n",
              "      <td>1.0</td>\n",
              "      <td>0.0</td>\n",
              "      <td>0.0</td>\n",
              "      <td>0.0</td>\n",
              "      <td>0.0</td>\n",
              "    </tr>\n",
              "    <tr>\n",
              "      <th>3399265</th>\n",
              "      <td>-0.418045</td>\n",
              "      <td>1.755172</td>\n",
              "      <td>1.615367</td>\n",
              "      <td>-0.427598</td>\n",
              "      <td>-0.060067</td>\n",
              "      <td>-0.109652</td>\n",
              "      <td>-0.125926</td>\n",
              "      <td>-0.337035</td>\n",
              "      <td>-0.528624</td>\n",
              "      <td>-0.014588</td>\n",
              "      <td>2.128199</td>\n",
              "      <td>0.927609</td>\n",
              "      <td>1.078379</td>\n",
              "      <td>-0.357402</td>\n",
              "      <td>-0.435507</td>\n",
              "      <td>-0.220654</td>\n",
              "      <td>1.103632</td>\n",
              "      <td>-0.443612</td>\n",
              "      <td>1.0</td>\n",
              "      <td>0.0</td>\n",
              "      <td>0.0</td>\n",
              "      <td>0.0</td>\n",
              "      <td>0.0</td>\n",
              "    </tr>\n",
              "  </tbody>\n",
              "</table>\n",
              "<p>3399266 rows × 23 columns</p>\n",
              "</div>"
            ],
            "text/plain": [
              "            price  item_rank  price_rank  session_duration  ...    B    C    D    E\n",
              "0       -0.196916  -1.600155   -1.180739          1.891658  ...  0.0  0.0  0.0  1.0\n",
              "1       -0.185278  -1.460350    0.077509          1.891658  ...  0.0  0.0  0.0  0.0\n",
              "2        0.018393  -1.320545   -1.040934          1.891658  ...  0.0  0.0  0.0  0.0\n",
              "3       -0.260927  -1.180739   -0.621518          1.891658  ...  0.0  0.0  0.0  0.0\n",
              "4       -0.231831  -1.040934   -1.600155          1.891658  ...  0.0  0.0  0.0  1.0\n",
              "...           ...        ...         ...               ...  ...  ...  ...  ...  ...\n",
              "3399261  0.478108   1.195951    1.335756         -0.427598  ...  0.0  0.0  0.0  0.0\n",
              "3399262  1.205505   1.335756   -0.621518         -0.427598  ...  0.0  0.0  0.0  0.0\n",
              "3399263  0.402459   1.475562    0.776535         -0.427598  ...  0.0  0.0  0.0  1.0\n",
              "3399264  3.125834   1.615367   -0.481713         -0.427598  ...  0.0  0.0  0.0  0.0\n",
              "3399265 -0.418045   1.755172    1.615367         -0.427598  ...  0.0  0.0  0.0  0.0\n",
              "\n",
              "[3399266 rows x 23 columns]"
            ]
          },
          "metadata": {
            "tags": []
          },
          "execution_count": 32
        }
      ]
    },
    {
      "cell_type": "markdown",
      "metadata": {
        "id": "FpYMwjdm-zTi",
        "colab_type": "text"
      },
      "source": [
        "#### Test"
      ]
    },
    {
      "cell_type": "code",
      "metadata": {
        "id": "EkhgfC3i-2wl",
        "colab_type": "code",
        "colab": {}
      },
      "source": [
        "testFilepath = './Datasets/clean_data/Sets/test.csv'\n",
        "testData = pd.read_csv(testFilepath)\n",
        "\n",
        "FeaturesToDrop = ['NumberInImpressions', 'NumberInReferences', 'MeanPrice', 'MinPrice']\n",
        "for feature in FeaturesToDrop:\n",
        "  features.remove(feature)\n",
        "\n",
        "testData_sessions_item = testData[['session_id', 'item_id', 'clickout']]\n",
        "X_test = testData[features]\n",
        "y_test  = testData[label]\n",
        "\n",
        "# test set scaling\n",
        "X_test_scaled = full_pipeline.fit_transform(X_test)\n",
        "\n",
        "X_test_Prop_clust = ConcatProperties(testData, 'Clusters', X_test_scaled)\n",
        "X_test_Prop_PCA = ConcatProperties(testData, 'PCA', X_test_scaled)"
      ],
      "execution_count": 0,
      "outputs": []
    },
    {
      "cell_type": "markdown",
      "metadata": {
        "id": "vMrn_5CcUkPE",
        "colab_type": "text"
      },
      "source": [
        "### Clusters Evaluation"
      ]
    },
    {
      "cell_type": "code",
      "metadata": {
        "id": "y2CIauBr1xUE",
        "colab_type": "code",
        "colab": {
          "base_uri": "https://localhost:8080/",
          "height": 408
        },
        "outputId": "46751ec3-2a91-4a40-d683-8b51f4a18872"
      },
      "source": [
        "PrintMetrics('./modelsProperties/XGBoost_clusters.pkl', X_val_Prop_clust, y_val, valData_sessions_item)"
      ],
      "execution_count": 31,
      "outputs": [
        {
          "output_type": "stream",
          "text": [
            "/usr/local/lib/python3.6/dist-packages/ipykernel_launcher.py:15: SettingWithCopyWarning: \n",
            "A value is trying to be set on a copy of a slice from a DataFrame.\n",
            "Try using .loc[row_indexer,col_indexer] = value instead\n",
            "\n",
            "See the caveats in the documentation: http://pandas.pydata.org/pandas-docs/stable/user_guide/indexing.html#returning-a-view-versus-a-copy\n",
            "  from ipykernel import kernelapp as app\n"
          ],
          "name": "stderr"
        },
        {
          "output_type": "stream",
          "text": [
            "Mean Reciprocal Rank :  0.5960285069151403\n",
            "=================================================\n",
            "Classification Report\n",
            "=================================================\n",
            "              precision    recall  f1-score   support\n",
            "\n",
            "           0       0.96      1.00      0.98   3249590\n",
            "           1       0.63      0.14      0.23    149676\n",
            "\n",
            "    accuracy                           0.96   3399266\n",
            "   macro avg       0.80      0.57      0.61   3399266\n",
            "weighted avg       0.95      0.96      0.95   3399266\n",
            "\n",
            "Confusion Matrix\n",
            "================================================\n",
            "[[3237239   12351]\n",
            " [ 128260   21416]]\n"
          ],
          "name": "stdout"
        }
      ]
    },
    {
      "cell_type": "markdown",
      "metadata": {
        "id": "Of5ZnPPzAx6Z",
        "colab_type": "text"
      },
      "source": [
        "###PCA Evaluation"
      ]
    },
    {
      "cell_type": "code",
      "metadata": {
        "id": "lLHPazBnA2NF",
        "colab_type": "code",
        "colab": {}
      },
      "source": [
        "PrintMetrics('./modelsProperties/XGBoost_clusters.pkl', X_val_Prop_PCA, y_val, valData_sessions_item)"
      ],
      "execution_count": 0,
      "outputs": []
    }
  ]
}