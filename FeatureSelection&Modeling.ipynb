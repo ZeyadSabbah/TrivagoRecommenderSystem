{
  "nbformat": 4,
  "nbformat_minor": 0,
  "metadata": {
    "colab": {
      "name": "FeatureSelection&Modeling.ipynb",
      "provenance": [],
      "toc_visible": true,
      "machine_shape": "hm",
      "authorship_tag": "ABX9TyOh08Hv/V7qvK4aUUMvZQlA",
      "include_colab_link": true
    },
    "kernelspec": {
      "name": "python3",
      "display_name": "Python 3"
    }
  },
  "cells": [
    {
      "cell_type": "markdown",
      "metadata": {
        "id": "view-in-github",
        "colab_type": "text"
      },
      "source": [
        "<a href=\"https://colab.research.google.com/github/ZeyadSabbah/TrivagoRecommenderSystem/blob/master/FeatureSelection%26Modeling.ipynb\" target=\"_parent\"><img src=\"https://colab.research.google.com/assets/colab-badge.svg\" alt=\"Open In Colab\"/></a>"
      ]
    },
    {
      "cell_type": "markdown",
      "metadata": {
        "id": "S4KQO12xlW_E",
        "colab_type": "text"
      },
      "source": [
        "# Feature Selection & Modeling\n",
        "## Mounting to Drive"
      ]
    },
    {
      "cell_type": "code",
      "metadata": {
        "id": "P0ASgtpTds7f",
        "colab_type": "code",
        "outputId": "0fba45b7-bada-4ad7-b110-21d81eeba14e",
        "colab": {
          "base_uri": "https://localhost:8080/",
          "height": 54
        }
      },
      "source": [
        "from google.colab import drive\n",
        "drive.mount('/content/drive')"
      ],
      "execution_count": 1,
      "outputs": [
        {
          "output_type": "stream",
          "text": [
            "Drive already mounted at /content/drive; to attempt to forcibly remount, call drive.mount(\"/content/drive\", force_remount=True).\n"
          ],
          "name": "stdout"
        }
      ]
    },
    {
      "cell_type": "code",
      "metadata": {
        "id": "BCmsKXRJlgJi",
        "colab_type": "code",
        "outputId": "f2e26d86-286e-4a30-9379-2d1b96147247",
        "colab": {
          "base_uri": "https://localhost:8080/",
          "height": 34
        }
      },
      "source": [
        "%cd /content/drive/My Drive/Trivago/Project/TrivagoRecommenderSystem"
      ],
      "execution_count": 2,
      "outputs": [
        {
          "output_type": "stream",
          "text": [
            "/content/drive/My Drive/Trivago/Project/TrivagoRecommenderSystem\n"
          ],
          "name": "stdout"
        }
      ]
    },
    {
      "cell_type": "markdown",
      "metadata": {
        "id": "0TcSAeLLlsUW",
        "colab_type": "text"
      },
      "source": [
        "## Loading Libraries & Datasets"
      ]
    },
    {
      "cell_type": "code",
      "metadata": {
        "id": "_xjWx6VMlxpw",
        "colab_type": "code",
        "colab": {}
      },
      "source": [
        "import pandas as pd\n",
        "import numpy as np\n",
        "from datetime import datetime\n",
        "from datetime import timedelta\n",
        "import math\n",
        "import matplotlib.pyplot as plt\n",
        "from datetime import datetime\n",
        "import re\n",
        "import random\n",
        "import joblib\n",
        "from sklearn.feature_selection import SelectKBest\n",
        "from sklearn.feature_selection import chi2\n",
        "from sklearn.linear_model import LogisticRegression\n",
        "from sklearn.svm import SVC\n",
        "from sklearn.ensemble import RandomForestClassifier\n",
        "from sklearn.ensemble import GradientBoostingClassifier\n",
        "from sklearn.model_selection import GridSearchCV\n",
        "from sklearn.model_selection import train_test_split\n",
        "from sklearn import preprocessing\n",
        "import warnings\n",
        "warnings.filterwarnings('ignore', category=FutureWarning)\n",
        "warnings.filterwarnings('ignore', category=DeprecationWarning)"
      ],
      "execution_count": 0,
      "outputs": []
    },
    {
      "cell_type": "code",
      "metadata": {
        "id": "Vp4p10jNl2Zy",
        "colab_type": "code",
        "colab": {}
      },
      "source": [
        "TrainDataFilepath = '/content/drive/My Drive/Trivago/Datasets/clean_data/TrainData.csv'\n",
        "\n",
        "TrainData = pd.read_csv(TrainDataFilepath)"
      ],
      "execution_count": 0,
      "outputs": []
    },
    {
      "cell_type": "markdown",
      "metadata": {
        "id": "fD2THYVGu_bU",
        "colab_type": "text"
      },
      "source": [
        "## Using SelectKBest"
      ]
    },
    {
      "cell_type": "markdown",
      "metadata": {
        "id": "-LfbBngFxI_W",
        "colab_type": "text"
      },
      "source": [
        "TrainData has 20 features. Starting with just 15 important features to see the importance between the different features."
      ]
    },
    {
      "cell_type": "code",
      "metadata": {
        "id": "u0TyJc7W9pHo",
        "colab_type": "code",
        "colab": {}
      },
      "source": [
        "#declaring features and label\n",
        "X_train = TrainData[['price', 'item_rank', 'price_rank', 'session_duration', 'item_duration', 'item_session_duration', 'item_interactions', 'maximum_step', 'top_list', 'NumberOfProperties',\n",
        "       'NumberInImpressions', 'NumberInReferences', 'NumberAsClickout', 'NumberAsFinalClickout', 'FClickoutToImpressions', 'FClickoutToReferences', 'FClickoutToClickout', 'MeanPrice',\n",
        "       'AveragePriceRank']]\n",
        "y_train = TrainData[['clickout']]"
      ],
      "execution_count": 0,
      "outputs": []
    },
    {
      "cell_type": "code",
      "metadata": {
        "id": "H0cyd81oxg7b",
        "colab_type": "code",
        "colab": {
          "base_uri": "https://localhost:8080/",
          "height": 289
        },
        "outputId": "1aa36dab-6d0b-4164-f094-220578262824"
      },
      "source": [
        "bestfeatures = SelectKBest(score_func=chi2, k=15)\n",
        "fit = bestfeatures.fit(X, y)\n",
        "dfscores = pd.DataFrame(fit.scores_)\n",
        "dfcolumns = pd.DataFrame(X.columns)\n",
        "#concat two dataframes for better visualization \n",
        "featureScores = pd.concat([dfcolumns,dfscores],axis=1)\n",
        "featureScores.columns = ['Specs','Score']  #naming the dataframe columns\n",
        "print(featureScores.nlargest(15,'Score'))  #print 10 best features"
      ],
      "execution_count": 7,
      "outputs": [
        {
          "output_type": "stream",
          "text": [
            "                     Specs         Score\n",
            "4            item_duration  8.882146e+08\n",
            "6        item_interactions  2.450741e+07\n",
            "11      NumberInReferences  1.650767e+07\n",
            "12        NumberAsClickout  4.326980e+06\n",
            "13   NumberAsFinalClickout  3.261157e+06\n",
            "1                item_rank  2.560008e+06\n",
            "5    item_session_duration  2.545062e+06\n",
            "0                    price  8.438415e+05\n",
            "8                 top_list  6.153390e+05\n",
            "17               MeanPrice  2.273722e+05\n",
            "10     NumberInImpressions  1.314937e+05\n",
            "14  FClickoutToImpressions  1.062536e+05\n",
            "9       NumberOfProperties  7.866433e+04\n",
            "15   FClickoutToReferences  6.643049e+04\n",
            "16     FClickoutToClickout  6.460986e+04\n"
          ],
          "name": "stdout"
        }
      ]
    },
    {
      "cell_type": "markdown",
      "metadata": {
        "id": "1ZoVswKq0Yr_",
        "colab_type": "text"
      },
      "source": [
        "Scores are high which means the features are relevant to the output, so all of the features will be taken in modeling at first, and then by removing the least important features, the performance of the model will be captured."
      ]
    },
    {
      "cell_type": "markdown",
      "metadata": {
        "id": "7RbZ4WMpmdFy",
        "colab_type": "text"
      },
      "source": [
        "TrainData is ready for processing and modeling, while validation and test sets still need to be engineered. There is a ready function that will transform sets into the same form of TrainData.\n",
        "## Scaling Features"
      ]
    },
    {
      "cell_type": "code",
      "metadata": {
        "id": "OVn-Nuv9fojU",
        "colab_type": "code",
        "colab": {}
      },
      "source": [
        "from sklearn.pipeline import Pipeline\n",
        "from sklearn.preprocessing import StandardScaler\n",
        "from sklearn.impute import SimpleImputer\n",
        "\n",
        "num_pipeline = Pipeline([\n",
        "('imputer', SimpleImputer(strategy=\"median\")),\n",
        "('std_scaler', StandardScaler()),\n",
        "])"
      ],
      "execution_count": 0,
      "outputs": []
    },
    {
      "cell_type": "code",
      "metadata": {
        "id": "GrCYyUxtkKrv",
        "colab_type": "code",
        "colab": {
          "base_uri": "https://localhost:8080/",
          "height": 238
        },
        "outputId": "d38ad6a8-7ac7-4d9e-b954-f2ab8ac2870d"
      },
      "source": [
        "from sklearn.compose import ColumnTransformer\n",
        "full_pipeline = ColumnTransformer([\n",
        "(\"num\", num_pipeline, list(X_train))\n",
        "])\n",
        "\n",
        "X_train_scaled = full_pipeline.fit_transform(X_train)\n",
        "X_train_scaled"
      ],
      "execution_count": 7,
      "outputs": [
        {
          "output_type": "execute_result",
          "data": {
            "text/plain": [
              "array([[ 0.25239889, -1.60036787, -0.48211643, ...,  0.15662095,\n",
              "         0.60099131,  0.24508405],\n",
              "       [-0.54563347, -1.46058644, -1.46058644, ...,  0.03252758,\n",
              "        -0.35485974, -0.54023804],\n",
              "       [ 0.18249825, -1.32080501,  0.49635358, ...,  0.3204242 ,\n",
              "        -0.10171608, -0.12754915],\n",
              "       ...,\n",
              "       [-0.18448014,  1.47482358, -0.20255357, ...,  0.05052112,\n",
              "        -0.09796216,  0.27715247],\n",
              "       [ 2.13389126,  1.61460501,  1.61460501, ...,  0.21246296,\n",
              "         1.35274505,  0.53286415],\n",
              "       [ 0.30482438,  1.75438644,  0.63613501, ...,  0.53634666,\n",
              "         0.47849817,  0.35417802]])"
            ]
          },
          "metadata": {
            "tags": []
          },
          "execution_count": 7
        }
      ]
    },
    {
      "cell_type": "markdown",
      "metadata": {
        "id": "Z3xNR1Zp00Cb",
        "colab_type": "text"
      },
      "source": [
        "## Models"
      ]
    },
    {
      "cell_type": "markdown",
      "metadata": {
        "id": "kh9EXt9DFQgQ",
        "colab_type": "text"
      },
      "source": [
        "###Without Resampling"
      ]
    },
    {
      "cell_type": "code",
      "metadata": {
        "id": "WMaex4YV04mB",
        "colab_type": "code",
        "colab": {}
      },
      "source": [
        "def print_results(results):\n",
        "  print('Best Prams: {}\\n'.format(results.best_params_))\n",
        "\n",
        "  means = results.cv_results_['mean_test_score']\n",
        "  stds = results.cv_results_['std_test_score']\n",
        "  for mean, std, params in zip(means, stds, results.cv_results_['params']):\n",
        "    print('{} (+/-{}) for {}'.format(round(mean, 3), round(std * 2, 3), params))"
      ],
      "execution_count": 0,
      "outputs": []
    },
    {
      "cell_type": "markdown",
      "metadata": {
        "id": "wq5ECT0GFS3I",
        "colab_type": "text"
      },
      "source": [
        "#### Logistic Regression"
      ]
    },
    {
      "cell_type": "code",
      "metadata": {
        "id": "54st49XC3aU9",
        "colab_type": "code",
        "colab": {
          "base_uri": "https://localhost:8080/",
          "height": 136
        },
        "outputId": "9cba0415-8359-4295-cc41-fcf3799f64c9"
      },
      "source": [
        "t1  = datetime.now()\n",
        "lr = LogisticRegression()\n",
        "parameters = {\n",
        "    'C':[0.01, 0.1, 1, 10]\n",
        "}\n",
        "\n",
        "cv = GridSearchCV(lr, parameters, cv=5)\n",
        "cv.fit(X_train_scaled, y_train.values.ravel())\n",
        "\n",
        "print_results(cv)\n",
        "joblib.dump(cv.best_estimator_, 'LR_model.pkl')\n",
        "t2 = datetime.now()\n",
        "print('Time taken : ', (t2 - t1))"
      ],
      "execution_count": 12,
      "outputs": [
        {
          "output_type": "stream",
          "text": [
            "Best Prams: {'C': 10}\n",
            "\n",
            "0.965 (+/-0.0) for {'C': 0.01}\n",
            "0.965 (+/-0.0) for {'C': 0.1}\n",
            "0.965 (+/-0.0) for {'C': 1}\n",
            "0.965 (+/-0.0) for {'C': 10}\n",
            "Time taken :  0:25:42.234537\n"
          ],
          "name": "stdout"
        }
      ]
    },
    {
      "cell_type": "markdown",
      "metadata": {
        "id": "FWY_HcMq7Ydw",
        "colab_type": "text"
      },
      "source": [
        "#### SVM"
      ]
    },
    {
      "cell_type": "code",
      "metadata": {
        "id": "sgl5Lp8w7bCJ",
        "colab_type": "code",
        "colab": {}
      },
      "source": [
        "t1  = datetime.now()\n",
        "svc = SVC()\n",
        "parameters = {\n",
        "    'kernel': ['linear', 'rbf'],\n",
        "    'C':[0.1, 1, 10]\n",
        "}\n",
        "cv = GridSearchCV(svc, parameters, cv = 5)\n",
        "cv.fit(X_train_scaled, y_train.values.ravel())\n",
        "\n",
        "print_results(cv)\n",
        "joblib.dump(cv.best_estimator_, 'SVC_model.pkl')\n",
        "t2 = datetime.now()\n",
        "print('Time taken : ', (t2 - t1))"
      ],
      "execution_count": 0,
      "outputs": []
    },
    {
      "cell_type": "markdown",
      "metadata": {
        "id": "kh0g3PzSEnE2",
        "colab_type": "text"
      },
      "source": [
        "#### Random Forest"
      ]
    },
    {
      "cell_type": "code",
      "metadata": {
        "id": "eiCrz62bErLb",
        "colab_type": "code",
        "colab": {}
      },
      "source": [
        "t1 = datetime.now()\n",
        "rf = RandomForestClassifier()\n",
        "parameters = {\n",
        "    'n_estimators':[5, 50, 250],\n",
        "    'max_depth':[2, 4, 8, 16, 32, None]\n",
        "}\n",
        "\n",
        "cv = GridSearchCV(rf, parameters, cv=5)\n",
        "cv.fit(X_train_scaled, y_train.values.ravel())\n",
        "\n",
        "print_results(cv)\n",
        "joblib.dump(cv.best_estimator_, 'RF_model.pkl')\n",
        "t2 = datetime.now()\n",
        "print('Time taken : ', (t2 - t1))"
      ],
      "execution_count": 0,
      "outputs": []
    },
    {
      "cell_type": "markdown",
      "metadata": {
        "id": "EIvw4ITOGUyF",
        "colab_type": "text"
      },
      "source": [
        "#### XGBoost"
      ]
    },
    {
      "cell_type": "code",
      "metadata": {
        "id": "tLlC3wgwGXfl",
        "colab_type": "code",
        "colab": {}
      },
      "source": [
        "t1 = datetime.now()\n",
        "gb = GradientBoostingClassifier()\n",
        "parameters = {\n",
        "    'n_estimators':[5, 50, 250, 500],\n",
        "    'max_depth':[1, 3, 5, 7, 9],\n",
        "    'learning_rate':[0.01, 0.1, 1, 10, 100]\n",
        "}\n",
        "\n",
        "cv = GridSearchCV(gb, parameters, cv=5)\n",
        "cv.fit(X_train_scaled, y_train.values.ravel())\n",
        "\n",
        "print_results(cv)\n",
        "joblib.dump(cv.best_estimator_, 'XGB_model.pkl')\n",
        "t2 = datetime.now()\n",
        "print('Time taken : ', (t2 - t1))"
      ],
      "execution_count": 0,
      "outputs": []
    },
    {
      "cell_type": "markdown",
      "metadata": {
        "id": "fPdtkjmpIrJL",
        "colab_type": "text"
      },
      "source": [
        "### With SMOTE"
      ]
    },
    {
      "cell_type": "markdown",
      "metadata": {
        "id": "kXrxy0iGIzXq",
        "colab_type": "text"
      },
      "source": [
        "### With Undersampling"
      ]
    },
    {
      "cell_type": "code",
      "metadata": {
        "id": "VFcEDPdPL_GR",
        "colab_type": "code",
        "colab": {}
      },
      "source": [
        "ClickoutLen = len(y_train[y_train.clickout==1])\n",
        "print(ClickoutLen)"
      ],
      "execution_count": 0,
      "outputs": []
    },
    {
      "cell_type": "code",
      "metadata": {
        "id": "jkWLTEDLMhXG",
        "colab_type": "code",
        "colab": {}
      },
      "source": [
        "NotClickoutIndices = y_train[y_train.clickout==0].index\n"
      ],
      "execution_count": 0,
      "outputs": []
    },
    {
      "cell_type": "code",
      "metadata": {
        "id": "_i3AvobBN3bB",
        "colab_type": "code",
        "colab": {}
      },
      "source": [
        "ClickoutIndices = y_train[y_train.clickout==1].index"
      ],
      "execution_count": 0,
      "outputs": []
    },
    {
      "cell_type": "code",
      "metadata": {
        "id": "CJ0MjmdBM3-2",
        "colab_type": "code",
        "colab": {}
      },
      "source": [
        "NotClickoutIndices = y_train[y_train.clickout==0].index\n",
        "ClickoutIndices = y_train[y_train.clickout==1].index\n",
        "\n",
        "NotClickoutRandomIndices = np.random.choice(NotClickoutIndices,\n",
        "                                            ClickoutLen,\n",
        "                                            replace=False)\n",
        "UnderSampleIndices = np.concatenate([ClickoutIndecs, NotClickoutIndices])\n",
        "\n",
        "XUnderSample = []\n",
        "yUnderSample = []\n",
        "for Index in UnderSampleIndices:\n",
        "  XUnderSample.append(X_train_scaled[Index])\n",
        "  yUnderSample.append(y_train[Index])"
      ],
      "execution_count": 0,
      "outputs": []
    },
    {
      "cell_type": "markdown",
      "metadata": {
        "id": "ZIa5D1kKPKPA",
        "colab_type": "text"
      },
      "source": [
        "#### Logistic Regression"
      ]
    },
    {
      "cell_type": "code",
      "metadata": {
        "id": "2usiLXiaPbv7",
        "colab_type": "code",
        "colab": {}
      },
      "source": [
        "t1  = datetime.now()\n",
        "lr = LogisticRegression()\n",
        "parameters = {\n",
        "    'C':[0.01, 0.1, 1, 10]\n",
        "}\n",
        "\n",
        "cv = GridSearchCV(lr, parameters, cv=5)\n",
        "cv.fit(XUnderSample, yUnderSample.values.ravel())\n",
        "\n",
        "print_results(cv)\n",
        "joblib.dump(cv.best_estimator_, 'LR_modelUndersampling.pkl')\n",
        "t2 = datetime.now()\n",
        "print('Time taken : ', (t2 - t1))"
      ],
      "execution_count": 0,
      "outputs": []
    },
    {
      "cell_type": "markdown",
      "metadata": {
        "id": "mFw2p3f1POxx",
        "colab_type": "text"
      },
      "source": [
        "#### SVM"
      ]
    },
    {
      "cell_type": "code",
      "metadata": {
        "id": "OFMmTanzPlHG",
        "colab_type": "code",
        "colab": {}
      },
      "source": [
        "t1  = datetime.now()\n",
        "svc = SVC()\n",
        "parameters = {\n",
        "    'kernel': ['linear', 'rbf'],\n",
        "    'C':[0.1, 1, 10]\n",
        "}\n",
        "cv = GridSearchCV(svc, parameters, cv = 5)\n",
        "cv.fit(XUnderSample, yUnderSample.ravel())\n",
        "\n",
        "print_results(cv)\n",
        "joblib.dump(cv.best_estimator_, 'SVC_modelUndersampling.pkl')\n",
        "t2 = datetime.now()\n",
        "print('Time taken : ', (t2 - t1))"
      ],
      "execution_count": 0,
      "outputs": []
    },
    {
      "cell_type": "markdown",
      "metadata": {
        "id": "-1qrawgNPRir",
        "colab_type": "text"
      },
      "source": [
        "#### Random Forest"
      ]
    },
    {
      "cell_type": "code",
      "metadata": {
        "id": "a8pkq-8vPtaD",
        "colab_type": "code",
        "colab": {}
      },
      "source": [
        "t1 = datetime.now()\n",
        "rf = RandomForestClassifier()\n",
        "parameters = {\n",
        "    'n_estimators':[5, 50, 250],\n",
        "    'max_depth':[2, 4, 8, 16, 32, None]\n",
        "}\n",
        "\n",
        "cv = GridSearchCV(rf, parameters, cv=5)\n",
        "cv.fit(XUnderSample, yUnderSample.values.ravel())\n",
        "\n",
        "print_results(cv)\n",
        "joblib.dump(cv.best_estimator_, 'RF_modelUnderSampling.pkl')\n",
        "t2 = datetime.now()\n",
        "print('Time taken : ', (t2 - t1))"
      ],
      "execution_count": 0,
      "outputs": []
    },
    {
      "cell_type": "markdown",
      "metadata": {
        "id": "FTgEqZstPVr_",
        "colab_type": "text"
      },
      "source": [
        "#### XGBoost"
      ]
    },
    {
      "cell_type": "code",
      "metadata": {
        "id": "XafehOzWPIiS",
        "colab_type": "code",
        "colab": {}
      },
      "source": [
        "t1 = datetime.now()\n",
        "gb = GradientBoostingClassifier()\n",
        "parameters = {\n",
        "    'n_estimators':[5, 50, 250, 500],\n",
        "    'max_depth':[1, 3, 5, 7, 9],\n",
        "    'learning_rate':[0.01, 0.1, 1, 10, 100]\n",
        "}\n",
        "\n",
        "cv = GridSearchCV(gb, parameters, cv=5)\n",
        "cv.fit(XUnderSample, yUnderSample.values.ravel())\n",
        "\n",
        "print_results(cv)\n",
        "joblib.dump(cv.best_estimator_, 'XGB_model.pkl')\n",
        "t2 = datetime.now()\n",
        "print('Time taken : ', (t2 - t1))"
      ],
      "execution_count": 0,
      "outputs": []
    }
  ]
}