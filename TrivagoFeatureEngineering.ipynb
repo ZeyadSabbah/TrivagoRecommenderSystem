{
 "cells": [
  {
   "cell_type": "markdown",
   "metadata": {
    "colab": {},
    "colab_type": "code",
    "id": "t9xOcTOs-egL"
   },
   "source": [
    "##Loading Libraries & Datasets"
   ]
  },
  {
   "cell_type": "code",
   "execution_count": 2,
   "metadata": {},
   "outputs": [],
   "source": [
    "import pandas as pd\n",
    "import numpy as np\n",
    "from datetime import datetime\n",
    "from datetime import timedelta\n",
    "import math\n",
    "import matplotlib.pyplot as plt\n",
    "from datetime import datetime\n",
    "import re\n",
    "import random"
   ]
  },
  {
   "cell_type": "code",
   "execution_count": 3,
   "metadata": {},
   "outputs": [],
   "source": [
    "item_metadata_filepath = './raw_data/item_metadata.csv'\n",
    "submission_popular_filepath = './raw_data/submission_popular.csv'\n",
    "train_filepath = './raw_data/train.csv'\n",
    "test_filepath = './raw_data/test.csv'"
   ]
  },
  {
   "cell_type": "code",
   "execution_count": 4,
   "metadata": {},
   "outputs": [],
   "source": [
    "submission_popular = pd.read_csv(submission_popular_filepath)\n",
    "item_metadata = pd.read_csv(item_metadata_filepath)\n",
    "train = pd.read_csv(train_filepath)\n",
    "test = pd.read_csv(test_filepath)"
   ]
  },
  {
   "cell_type": "markdown",
   "metadata": {},
   "source": [
    "**Unkown cells"
   ]
  },
  {
   "cell_type": "code",
   "execution_count": null,
   "metadata": {},
   "outputs": [],
   "source": [
    "#loading train set\n",
    "ReferenceTrain = pd.read_csv('/content/drive/My Drive/Trivago/Clean Dataset/train.csv')\n",
    "ReferenceTrain = ReferenceTrain.drop(columns='Unnamed: 0')\n",
    "\n",
    "#converting words values in referenc into NaN\n",
    "ReferenceTrain.reference = ReferenceTrain.reference.apply(lambda x: pd.to_numeric(x, errors='coerce')).dropna().astype(int).apply(lambda x: str(x))\n",
    "\n",
    "#dropping NaN in reference\n",
    "ReferenceTrain = ReferenceTrain.drop(ReferenceTrain[ReferenceTrain.reference.isna()].index.tolist())\n",
    "\n",
    "#what I meant by the previous step\n",
    "train.reference, ReferenceTrain.reference"
   ]
  },
  {
   "cell_type": "code",
   "execution_count": null,
   "metadata": {},
   "outputs": [],
   "source": [
    "ReferenceTimeSpent = (ReferenceTrain.groupby(['session_id', 'reference']).timestamp.max() \n",
    "                      - ReferenceTrain.groupby(['session_id', 'reference']).timestamp.min())\n",
    "ReferenceTimeSpent"
   ]
  },
  {
   "cell_type": "code",
   "execution_count": null,
   "metadata": {},
   "outputs": [],
   "source": [
    "ReferenceTrain.to_csv('train_ref.csv')                  #DO NOT RUN BEFORE INVESTIGATING FOR THE BEST PRACTICES\n",
    "!cp train_ref.csv '/content/drive/My Drive/Trivago/Clean Dataset/'"
   ]
  },
  {
   "cell_type": "markdown",
   "metadata": {},
   "source": [
    "##Feature Engineering"
   ]
  },
  {
   "cell_type": "markdown",
   "metadata": {},
   "source": [
    "###Items Interacted With & Number of Interactions"
   ]
  },
  {
   "cell_type": "markdown",
   "metadata": {},
   "source": [
    "Taking a sample of the training set to perform trials"
   ]
  },
  {
   "cell_type": "code",
   "execution_count": null,
   "metadata": {},
   "outputs": [],
   "source": [
    "trainlet = train.iloc[0:10000]\n",
    "\n",
    "#getting session_id with no clickouts\n",
    "session_idNoClickouts = list(set(trainlet.session_id.unique()) - set(trainlet[trainlet.action_type == 'clickout item'].session_id.unique()))\n",
    "\n",
    "#dropping sessions with no clickouts\n",
    "trainlet = trainlet[~trainlet.session_id.isin(session_idNoClickouts)].drop(columns='Unnamed: 0')\n",
    "\n",
    "#will be working on a grouped by sample, having the count of steps for each reference got interacted with\n",
    "trainlet1 = trainlet.groupby(['session_id', 'reference'], sort=False).step.count().to_frame()\n",
    "\n",
    "#converting an session_id as index into a column\n",
    "trainlet1.reset_index(level=0, inplace=True)\n",
    "\n",
    "#converting an reference as index into a column\n",
    "trainlet1.reset_index(level=0, inplace=True)\n",
    "\n",
    "#changing order of columns\n",
    "trainlet1 = trainlet1[['session_id', 'reference','step']]\n",
    "\n",
    "#takng a look\n",
    "trainlet1.reference.head(10)"
   ]
  },
  {
   "cell_type": "code",
   "execution_count": null,
   "metadata": {},
   "outputs": [],
   "source": [
    "#converting alphabetic values in reference attribute into NaN by converting all values into numeric, then again converting values into string\n",
    "trainlet1.reference = trainlet1.reference.apply(lambda x: pd.to_numeric(x, errors='coerce')).dropna().astype(int).apply(lambda x: str(x))\n",
    "\n",
    "#taking a look\n",
    "trainlet1.reference.head(10)"
   ]
  },
  {
   "cell_type": "code",
   "execution_count": null,
   "metadata": {},
   "outputs": [],
   "source": [
    "#for the sake of comparison creating another version of trainlet by repeating the previous steps\n",
    "trainlet0 = trainlet.groupby(['session_id', 'reference'], sort=False).step.count().to_frame()\n",
    "trainlet0.reset_index(level=0, inplace=True)\n",
    "trainlet0.reset_index(level=0, inplace=True)\n",
    "trainlet0 = trainlet0[['session_id', 'reference','step']]\n",
    "\n",
    "#taking a look\n",
    "trainlet0"
   ]
  },
  {
   "cell_type": "code",
   "execution_count": null,
   "metadata": {},
   "outputs": [],
   "source": [
    "#changing the name of attribute step into NumberOfInteractions\n",
    "trainlet0 = trainlet0.rename(columns = {'step':'NumberOfInteractions'})\n",
    "trainlet1 = trainlet1.rename(columns = {'step':'NumberOfInteractions'})\n",
    "\n",
    "#taking a look\n",
    "trainlet1"
   ]
  },
  {
   "cell_type": "code",
   "execution_count": null,
   "metadata": {},
   "outputs": [],
   "source": [
    "#for future use before dropping the NaN values, getting the indeces of the word values in reference attribute\n",
    "#getting the index of words values in reference attribute\n",
    "WordsInReferenceIndex = list(pd.isnull(trainlet1).any(1).nonzero())[0].tolist()\n",
    "\n",
    "#getting reference with words dataframe\n",
    "ReferenceWordsDF = trainlet0.iloc[WordsInReferenceIndex, :]  #for future**"
   ]
  },
  {
   "cell_type": "code",
   "execution_count": null,
   "metadata": {},
   "outputs": [],
   "source": [
    "#dropping NaN values(rows)\n",
    "trainlet1 = trainlet1.dropna()\n",
    "\n",
    "#taking a look\n",
    "trainlet1"
   ]
  },
  {
   "cell_type": "code",
   "execution_count": null,
   "metadata": {},
   "outputs": [],
   "source": [
    "#getting reference and Number of interactions lists\n",
    "InteractedWithItems = trainlet1.groupby('session_id', sort=False)['reference'].apply(list)\n",
    "NumberOfInteractions = trainlet1.groupby('session_id', sort=False)['NumberOfInteractions'].apply(list)\n",
    "\n",
    "#taking a look\n",
    "InteractedWithItems, NumberOfInteractions"
   ]
  },
  {
   "cell_type": "code",
   "execution_count": null,
   "metadata": {},
   "outputs": [],
   "source": [
    "#converting series into lists\n",
    "InteractedWithItems = InteractedWithItems.tolist()\n",
    "NumberOfInteractions = NumberOfInteractions.tolist()"
   ]
  },
  {
   "cell_type": "markdown",
   "metadata": {},
   "source": [
    "Adding the two attributes to trainlet"
   ]
  },
  {
   "cell_type": "code",
   "execution_count": null,
   "metadata": {},
   "outputs": [],
   "source": [
    "#getting a list of indeces InteractedWithItems and NumberOfInteractions should be left joined to\n",
    "FinalClickoutIndex = trainlet[trainlet.action_type=='clickout item'].groupby('session_id').tail(1).index.tolist()\n",
    "\n",
    "#creating InteractedWithItems dataframe\n",
    "InteractedWithItemsDF = pd.DataFrame({'FinalClickoutIndex':FinalClickoutIndex, 'InteractedWitItems':InteractedWithItems,\n",
    "                                      'NumberOfInteractions':NumberOfInteractions}).set_index('FinalClickoutIndex')\n",
    "\n",
    "#left join on dataset\n",
    "trainlet = trainlet.join(InteractedWithItemsDF)\n",
    "trainlet"
   ]
  },
  {
   "cell_type": "markdown",
   "metadata": {},
   "source": [
    "###Time Spent"
   ]
  },
  {
   "cell_type": "markdown",
   "metadata": {},
   "source": [
    "Creating a time spent attribute for each reference within a session."
   ]
  },
  {
   "cell_type": "code",
   "execution_count": null,
   "metadata": {},
   "outputs": [],
   "source": [
    "#This should be a seperate function\n",
    "\n",
    "#getting session_id with no clickouts\n",
    "session_idNoClickouts = list(set(trainlet.session_id.unique()) - set(trainlet[trainlet.action_type == 'clickout item'].session_id.unique()))\n",
    "\n",
    "#dropping sessions with no clickouts\n",
    "trainlet = trainlet[~trainlet.session_id.isin(session_idNoClickouts)].drop(columns='Unnamed: 0')\n",
    "\n",
    "#obtaining the seconds spent on a reference by subtracting the time started viewing the item till the time of last interaction with the item\n",
    "time_spent = trainlet.groupby(['session_id', 'reference'], sort=False).timestamp.apply(lambda x:(x.max() - x.min())).to_frame()\n",
    "\n",
    "#converting an session_id as index into a column\n",
    "time_spent.reset_index(level=0, inplace=True)\n",
    "\n",
    "#converting an reference as index into a column\n",
    "time_spent.reset_index(level=0, inplace=True)\n",
    "\n",
    "#changing order of columns\n",
    "time_spent = time_spent[['session_id', 'reference','timestamp']]\n",
    "\n",
    "#changing the timestamp into SecondsSpent\n",
    "time_spent = time_spent.rename(columns = {'timestamp':'SecondsSpent'})\n",
    "\n",
    "#converting alphabetic values in reference attribute into NaN by converting all values into numeric, then again converting values into string\n",
    "time_spent.reference = time_spent.reference.apply(lambda x: pd.to_numeric(x, errors='coerce')).dropna().astype(int).apply(lambda x: str(x))\n",
    "\n",
    "#dropping NaN values(rows)\n",
    "time_spent = time_spent.dropna()\n",
    "\n",
    "#getting time spent of interactions lists\n",
    "SecondsSpent = time_spent.groupby('session_id', sort=False)['SecondsSpent'].apply(list)\n",
    "\n",
    "#converting into list\n",
    "SecondsSpent = SecondsSpent.tolist()\n",
    "\n",
    "#getting a list of indeces SecondsSpent to be left joined\n",
    "FinalClickoutIndex = trainlet[trainlet.action_type=='clickout item'].groupby('session_id').tail(1).index.tolist()\n",
    "\n",
    "#creating Seconds dataframe\n",
    "SecondsSpentDF = pd.DataFrame({'FinalClickoutIndex':FinalClickoutIndex, 'SecondsSpent':SecondsSpent}).set_index('FinalClickoutIndex')\n",
    "\n",
    "#left join on dataset\n",
    "trainlet = trainlet.join(SecondsSpentDF)\n",
    "trainlet"
   ]
  },
  {
   "cell_type": "code",
   "execution_count": null,
   "metadata": {},
   "outputs": [],
   "source": [
    "time_spent.groupby('session_id', sort=False)['SecondsSpent'].apply(list)"
   ]
  },
  {
   "cell_type": "code",
   "execution_count": null,
   "metadata": {},
   "outputs": [],
   "source": [
    "SecondsSpent = time_spent.groupby('session_id', sort=False)['SecondsSpent'].apply(list)"
   ]
  },
  {
   "cell_type": "code",
   "execution_count": null,
   "metadata": {},
   "outputs": [],
   "source": [
    "#creating a function\n",
    "def SecondsSpent(dataset):\n",
    "  #getting session_id with no clickouts\n",
    "  session_idNoClickouts = list(set(dataset.session_id.unique()) - set(dataset[dataset.action_type == 'clickout item'].session_id.unique()))\n",
    "\n",
    "  #dropping sessions with no clickouts\n",
    "  dataset = dataset[~dataset.session_id.isin(session_idNoClickouts)].drop(columns='Unnamed: 0')\n",
    "\n",
    "  #obtaining the seconds spent on a reference by subtracting the time started viewing the item till the time of last interaction with the item\n",
    "  time_spent = dataset.groupby(['session_id', 'reference'], sort=False).timestamp.apply(lambda x:(x.max() - x.min())).to_frame()\n",
    "\n",
    "  #converting an session_id as index into a column\n",
    "  time_spent.reset_index(level=0, inplace=True)\n",
    "\n",
    "  #converting an reference as index into a column\n",
    "  time_spent.reset_index(level=0, inplace=True)\n",
    "\n",
    "  #changing order of columns\n",
    "  time_spent = time_spent[['session_id', 'reference','timestamp']]\n",
    "\n",
    "  #changing the timestamp into SecondsSpent\n",
    "  time_spent = time_spent.rename(columns = {'timestamp':'SecondsSpent'})\n",
    "\n",
    "  #converting alphabetic values in reference attribute into NaN by converting all values into numeric, then again converting values into string\n",
    "  time_spent.reference = time_spent.reference.apply(lambda x: pd.to_numeric(x, errors='coerce')).dropna().astype(int).apply(lambda x: str(x))\n",
    "\n",
    "  #dropping NaN values(rows)\n",
    "  time_spent = time_spent.dropna()\n",
    "\n",
    "  #getting time spent of interactions lists\n",
    "  SecondsSpent = time_spent.groupby('session_id', sort=False)['SecondsSpent'].apply(list)\n",
    "\n",
    "  #converting into list\n",
    "  SecondsSpent = SecondsSpent.tolist()\n",
    "\n",
    "  #getting a list of indeces SecondsSpent to be left joined\n",
    "  FinalClickoutIndex = dataset[dataset.action_type=='clickout item'].groupby('session_id').tail(1).index.tolist()\n",
    "\n",
    "  #creating Seconds dataframe\n",
    "  SecondsSpentDF = pd.DataFrame({'FinalClickoutIndex':FinalClickoutIndex, 'SecondsSpent':SecondsSpent}).set_index('FinalClickoutIndex')\n",
    "\n",
    "  #left join on dataset\n",
    "  dataset = dataset.join(SecondsSpentDF)\n",
    "return dataset"
   ]
  },
  {
   "cell_type": "code",
   "execution_count": null,
   "metadata": {},
   "outputs": [],
   "source": [
    "trainlet2 = train.iloc[0:10000]\n",
    "trainlet2.head()"
   ]
  },
  {
   "cell_type": "code",
   "execution_count": null,
   "metadata": {},
   "outputs": [],
   "source": [
    "SecondsSpent(trainlet2)"
   ]
  },
  {
   "cell_type": "code",
   "execution_count": null,
   "metadata": {},
   "outputs": [],
   "source": [
    "pd.DataFrame({'FinalClickoutIndex':FinalClickoutIndex, 'SecondsSpent':SecondsSpent}).set_index('FinalClickoutIndex')"
   ]
  },
  {
   "cell_type": "code",
   "execution_count": null,
   "metadata": {},
   "outputs": [],
   "source": [
    "trainlet[trainlet.action_type=='clickout item'].groupby('session_id').tail(1).index.tolist()"
   ]
  },
  {
   "cell_type": "code",
   "execution_count": null,
   "metadata": {},
   "outputs": [],
   "source": [
    "#dropping NaN values(rows)\n",
    "trainlet1 = trainlet1.dropna()\n",
    "\n",
    "#taking a look\n",
    "trainlet1"
   ]
  },
  {
   "cell_type": "code",
   "execution_count": null,
   "metadata": {},
   "outputs": [],
   "source": [
    "#getting a list of values of time spent on each reference in a session\n",
    "time_spent_values = time_spent.values\n",
    "\n",
    "#getting the index of the time_spent_values in dataset\n",
    "index = trainlet.groupby(['session_id', 'reference'], sort=False).tail(1).index\n",
    "\n",
    "#creating a dataframe for a left join on train set\n",
    "time_spent_df = pd.DataFrame({'index':index, 'seconds_spent':time_spent_values})\n",
    "time_spent_df.head(2)"
   ]
  },
  {
   "cell_type": "code",
   "execution_count": null,
   "metadata": {},
   "outputs": [],
   "source": [
    "#making the index column as the index for dataframe\n",
    "time_spent_df = time_spent_df.set_index('index')\n",
    "\n",
    "#left join to train set on index\n",
    "train = train.join(time_spent_df)\n",
    "train.head(15)"
   ]
  },
  {
   "cell_type": "code",
   "execution_count": null,
   "metadata": {},
   "outputs": [],
   "source": [
    "#exporting dataframe to Google drive  DO NOT RUN THIS CELL UNLESS MODIFIED\n",
    "train.to_csv('train.csv')"
   ]
  },
  {
   "cell_type": "code",
   "execution_count": null,
   "metadata": {},
   "outputs": [],
   "source": [
    "#loading file                         DO NOT RUN THIS CELL UNLESS MODIFIED (SEARCH FOR BEST PRACTICES IN THIS CASE)   \n",
    "train = pd.read_csv('/content/drive/My Drive/Trivago/Clean Dataset/train.csv')\n",
    "train.head(15)"
   ]
  },
  {
   "cell_type": "markdown",
   "metadata": {},
   "source": [
    "###Price"
   ]
  },
  {
   "cell_type": "code",
   "execution_count": null,
   "metadata": {},
   "outputs": [],
   "source": [
    "Taking a session as an example, if there are three unique references. If we had the ones that have the same impressions which are the first two, and we get a table out of the impressions and prices, we will find that they have the same price exactly.\n",
    "By proceeding with the KNN on this table(features can later on be added, and analysis on how different properties matter), we can have a list of 5 items at least(which are the most important) and go from there.\t"
   ]
  },
  {
   "cell_type": "code",
   "execution_count": null,
   "metadata": {},
   "outputs": [],
   "source": [
    "len(train[train.session_id == 'aff3928535f48'][train.action_type == 'clickout item'].tail(1).impressions.values[0].split('|'))"
   ]
  },
  {
   "cell_type": "code",
   "execution_count": null,
   "metadata": {},
   "outputs": [],
   "source": [
    "items = train[train.session_id == 'aff3928535f48'][train.action_type == 'clickout item'].tail(1).impressions.values[0].split('|')"
   ]
  },
  {
   "cell_type": "code",
   "execution_count": null,
   "metadata": {},
   "outputs": [],
   "source": [
    "all_interacted_with_items = train[train.session_id == 'aff3928535f48'].reference.unique().tolist()\n",
    "interacted_with_items = []\n",
    "interacted_with_items_prices = []\n",
    "for item in all_interacted_with_items:\n",
    "  for i in range(len(impression)):\n",
    "    if item == impression[i]:\n",
    "        interacted_with_items.append(item)\n",
    "        print(item)\n",
    "        interacted_with_items_prices.append(price[i])\n",
    "        print(price[i])"
   ]
  },
  {
   "cell_type": "code",
   "execution_count": null,
   "metadata": {},
   "outputs": [],
   "source": [
    "for item in all_interacted_with_items:\n",
    "  for i in range(len(impression)):\n",
    "    if item == impression[i]:\n",
    "      print(item)"
   ]
  },
  {
   "cell_type": "code",
   "execution_count": null,
   "metadata": {},
   "outputs": [],
   "source": [
    "all_interacted_with_items"
   ]
  },
  {
   "cell_type": "code",
   "execution_count": null,
   "metadata": {},
   "outputs": [],
   "source": [
    "def impression_price(session_id):               #the isssue with this function is that ignores the first clickouts\n",
    "                                                #(there are valuable infromation that can be extracted)\n",
    "  try:                                          #some of the functions don't apply on the some sessions\n",
    "    impression = train[train.session_id == session_id][train.action_type == 'clickout item'].tail(1).impressions.values[0].split('|')\n",
    "    price = train[train.session_id == session_id][train.action_type == 'clickout item'].tail(1).prices.values[0].split('|')\n",
    "    price = list(map(int, price))               #converting list of strings into integers\n",
    "    clickout_item = train[train.session_id == session_id][train.action_type == 'clickout item'].tail(1).reference.values[0]\n",
    "    all_interacted_with_items = train[train.session_id == session_id].reference.unique().tolist()\n",
    "    for i in range(len(impression)):            #getting the clickout item\n",
    "      if clickout_item == impression[i]:\n",
    "        rank = i\n",
    "    interacted_with_items = []\n",
    "    interacted_with_items_prices = []\n",
    "    for item in all_interacted_with_items:      #getting interacted with items\n",
    "      for i in range(len(impression)):\n",
    "        if item == impression[i]:\n",
    "          interacted_with_items.append(item)\n",
    "          interacted_with_items_prices.append(price[i])\n",
    "    plt.figure(figsize=(10,8))\n",
    "    plt.title('Impressions and Prices', fontsize=30)\n",
    "    plt.xlabel('Impressions', fontsize=20)\n",
    "    plt.ylabel('Price', fontsize=20)\n",
    "    plt.xticks(rotation=90)\n",
    "    plt.plot(impression, price, 'o')\n",
    "    plt.plot(interacted_with_items, interacted_with_items_prices, 'o', color='red')\n",
    "    plt.plot(clickout_item, price[rank] , 'o', color='black')\n",
    "  except:\n",
    "    pass\n",
    "\n",
    "listOfSessions = random.choices(train.session_id.unique(), k=10)\n",
    "for session_id in listOfSessions:\n",
    "  impression_price(session_id)\n"
   ]
  },
  {
   "cell_type": "markdown",
   "metadata": {},
   "source": [
    "TRY \\ to have a the code running normally in a well organized shape"
   ]
  },
  {
   "cell_type": "code",
   "execution_count": null,
   "metadata": {},
   "outputs": [],
   "source": [
    "listOfSessions = train.session_id.unique()[0:100]\n",
    "for session_id in listOfSessions:\n",
    "  impression_price(session_id)"
   ]
  },
  {
   "cell_type": "markdown",
   "metadata": {},
   "source": [
    "Impressions shown on the graphs are put in a order of the rank provided by Trivago last list. After taking a quick look at the graphs (sample), I can see a pattern of having the black dot (clickout item) somewhere close to the red dots, at least not very far away. \n",
    "I'll need to validate that the features prices and ranks play an important role of user choice eventually."
   ]
  }
 ],
 "metadata": {
  "colab": {
   "authorship_tag": "ABX9TyPF43CnRZNtdoTybU6inShg",
   "name": "TrivagoFeatureEngineering.ipynb",
   "provenance": []
  },
  "kernelspec": {
   "display_name": "Python 3",
   "language": "python",
   "name": "python3"
  },
  "language_info": {
   "codemirror_mode": {
    "name": "ipython",
    "version": 3
   },
   "file_extension": ".py",
   "mimetype": "text/x-python",
   "name": "python",
   "nbconvert_exporter": "python",
   "pygments_lexer": "ipython3",
   "version": "3.7.3"
  }
 },
 "nbformat": 4,
 "nbformat_minor": 1
}
