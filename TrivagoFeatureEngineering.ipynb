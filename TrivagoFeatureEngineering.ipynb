{
  "nbformat": 4,
  "nbformat_minor": 0,
  "metadata": {
    "colab": {
      "name": "TrivagoFeatureEngineering.ipynb",
      "provenance": [],
      "toc_visible": true,
      "machine_shape": "hm",
      "include_colab_link": true
    },
    "kernelspec": {
      "name": "python3",
      "display_name": "Python 3"
    },
    "language_info": {
      "codemirror_mode": {
        "name": "ipython",
        "version": 3
      },
      "file_extension": ".py",
      "mimetype": "text/x-python",
      "name": "python",
      "nbconvert_exporter": "python",
      "pygments_lexer": "ipython3",
      "version": "3.7.3"
    },
    "accelerator": "GPU"
  },
  "cells": [
    {
      "cell_type": "markdown",
      "metadata": {
        "id": "view-in-github",
        "colab_type": "text"
      },
      "source": [
        "<a href=\"https://colab.research.google.com/github/ZeyadSabbah/TrivagoRecommenderSystem/blob/master/TrivagoFeatureEngineering.ipynb\" target=\"_parent\"><img src=\"https://colab.research.google.com/assets/colab-badge.svg\" alt=\"Open In Colab\"/></a>"
      ]
    },
    {
      "cell_type": "markdown",
      "metadata": {
        "id": "t9xOcTOs-egL",
        "colab_type": "text"
      },
      "source": [
        "# Feature Engineering"
      ]
    },
    {
      "cell_type": "markdown",
      "metadata": {
        "id": "v69U4HIGKMAw",
        "colab_type": "text"
      },
      "source": [
        "## Mounting to Drive"
      ]
    },
    {
      "cell_type": "code",
      "metadata": {
        "id": "qKOJSxSSKU2s",
        "colab_type": "code",
        "outputId": "8b1ef010-375e-496f-91b8-74ea9eb2d783",
        "colab": {
          "base_uri": "https://localhost:8080/",
          "height": 128
        }
      },
      "source": [
        "from google.colab import drive\n",
        "drive.mount('/content/drive')"
      ],
      "execution_count": 1,
      "outputs": [
        {
          "output_type": "stream",
          "text": [
            "Go to this URL in a browser: https://accounts.google.com/o/oauth2/auth?client_id=947318989803-6bn6qk8qdgf4n4g3pfee6491hc0brc4i.apps.googleusercontent.com&redirect_uri=urn%3aietf%3awg%3aoauth%3a2.0%3aoob&response_type=code&scope=email%20https%3a%2f%2fwww.googleapis.com%2fauth%2fdocs.test%20https%3a%2f%2fwww.googleapis.com%2fauth%2fdrive%20https%3a%2f%2fwww.googleapis.com%2fauth%2fdrive.photos.readonly%20https%3a%2f%2fwww.googleapis.com%2fauth%2fpeopleapi.readonly\n",
            "\n",
            "Enter your authorization code:\n",
            "··········\n",
            "Mounted at /content/drive\n"
          ],
          "name": "stdout"
        }
      ]
    },
    {
      "cell_type": "code",
      "metadata": {
        "id": "MuIGFI6lWj4z",
        "colab_type": "code",
        "outputId": "a15b0bd1-6301-44b6-ade9-295256eb52cf",
        "colab": {
          "base_uri": "https://localhost:8080/",
          "height": 35
        }
      },
      "source": [
        "%cd /content/drive/My Drive/Trivago/Project/TrivagoRecommenderSystem"
      ],
      "execution_count": 2,
      "outputs": [
        {
          "output_type": "stream",
          "text": [
            "/content/drive/My Drive/Trivago/Project/TrivagoRecommenderSystem\n"
          ],
          "name": "stdout"
        }
      ]
    },
    {
      "cell_type": "markdown",
      "metadata": {
        "id": "erJzSzQAKI_E",
        "colab_type": "text"
      },
      "source": [
        "## Loading Libraries & Datasets"
      ]
    },
    {
      "cell_type": "code",
      "metadata": {
        "id": "4W-Uu4f8Wqb2",
        "colab_type": "code",
        "colab": {}
      },
      "source": [
        "!pip install cudf-cuda100\n",
        "!cp /usr/local/lib/python3.6/dist-packages/librmm.so .\n",
        "import os  \n",
        "os.environ['NUMBAPRO_NVVM']='/usr/local/cuda-10.0/nvvm/lib64/libnvvm.so'  \n",
        "os.environ['NUMBAPRO_LIBDEVICE']='/usr/local/cuda-10.0/nvvm/libdevice'"
      ],
      "execution_count": 0,
      "outputs": []
    },
    {
      "cell_type": "code",
      "metadata": {
        "id": "9Zp_jIpNFgiF",
        "colab_type": "code",
        "colab": {}
      },
      "source": [
        "# import cudf \n",
        "import pandas as pd\n",
        "import numpy as np\n",
        "from datetime import datetime\n",
        "from datetime import timedelta\n",
        "import math\n",
        "import matplotlib.pyplot as plt\n",
        "from datetime import datetime\n",
        "import re\n",
        "import random\n",
        "from sklearn.preprocessing import OneHotEncoder\n",
        "from sklearn.metrics.pairwise import cosine_similarity\n",
        "from collections import Counter\n",
        "from sklearn.preprocessing import MultiLabelBinarizer"
      ],
      "execution_count": 0,
      "outputs": []
    },
    {
      "cell_type": "code",
      "metadata": {
        "id": "7YcDzyEZFgiS",
        "colab_type": "code",
        "colab": {}
      },
      "source": [
        "item_metadata_filepath = '../../Datasets/raw_data/item_metadata.csv'\n",
        "item_metadata = pd.read_csv(item_metadata_filepath)\n",
        "\n",
        "train_filepath = '../../Datasets/clean_data/train.csv'\n",
        "train = pd.read_csv(train_filepath)"
      ],
      "execution_count": 0,
      "outputs": []
    },
    {
      "cell_type": "markdown",
      "metadata": {
        "id": "fHwyV10cPz9S",
        "colab_type": "text"
      },
      "source": [
        "## Important Dataframes Preparation"
      ]
    },
    {
      "cell_type": "markdown",
      "metadata": {
        "id": "laMcu0RZQBOV",
        "colab_type": "text"
      },
      "source": [
        "In engineer global features from the train dataset, which will be most of the cases around either clickouts or final click out examples (instances), two dataframes of them will be created."
      ]
    },
    {
      "cell_type": "markdown",
      "metadata": {
        "id": "Y1XiWUXTQ8nc",
        "colab_type": "text"
      },
      "source": [
        "In order to get representative global values to the items, duplications must be removed. Rows would not all be duplicated because of some attributes such as timestamp, reference, and step."
      ]
    },
    {
      "cell_type": "code",
      "metadata": {
        "id": "KWDB-RD4FgjK",
        "colab_type": "code",
        "colab": {}
      },
      "source": [
        "train.drop('Unnamed: 0', axis=1, inplace=True)\n",
        "ClickoutDF = train[train.action_type=='clickout item']\n",
        "FinalClickoutDF = train[train.action_type=='clickout item'].groupby('session_id').tail(1)\n",
        "ClickoutUniqueDF = ClickoutDF.drop_duplicates(subset=['session_id', 'impressions'], keep='first')"
      ],
      "execution_count": 0,
      "outputs": []
    },
    {
      "cell_type": "markdown",
      "metadata": {
        "id": "F7aOzD-qFgib",
        "colab_type": "text"
      },
      "source": [
        "## Item Global Features\n",
        "### Number of Properties"
      ]
    },
    {
      "cell_type": "code",
      "metadata": {
        "id": "uKawZ83AFgif",
        "colab_type": "code",
        "outputId": "f1ba2128-12ba-4f89-d53d-f06273ff0541",
        "colab": {
          "base_uri": "https://localhost:8080/",
          "height": 108
        }
      },
      "source": [
        "item_metadata.properties = item_metadata.properties.apply(lambda x: x.split('|'))\n",
        "item_metadata['NumberOfProperties'] = item_metadata.properties.apply(lambda x: len(x))\n",
        "item_metadata.head(2)"
      ],
      "execution_count": 0,
      "outputs": [
        {
          "output_type": "execute_result",
          "data": {
            "text/html": [
              "<div>\n",
              "<style scoped>\n",
              "    .dataframe tbody tr th:only-of-type {\n",
              "        vertical-align: middle;\n",
              "    }\n",
              "\n",
              "    .dataframe tbody tr th {\n",
              "        vertical-align: top;\n",
              "    }\n",
              "\n",
              "    .dataframe thead th {\n",
              "        text-align: right;\n",
              "    }\n",
              "</style>\n",
              "<table border=\"1\" class=\"dataframe\">\n",
              "  <thead>\n",
              "    <tr style=\"text-align: right;\">\n",
              "      <th></th>\n",
              "      <th>item_id</th>\n",
              "      <th>properties</th>\n",
              "      <th>NumberOfProperties</th>\n",
              "    </tr>\n",
              "  </thead>\n",
              "  <tbody>\n",
              "    <tr>\n",
              "      <th>0</th>\n",
              "      <td>5101</td>\n",
              "      <td>[Satellite TV, Golf Course, Airport Shuttle, C...</td>\n",
              "      <td>62</td>\n",
              "    </tr>\n",
              "    <tr>\n",
              "      <th>1</th>\n",
              "      <td>5416</td>\n",
              "      <td>[Satellite TV, Cosmetic Mirror, Safe (Hotel), ...</td>\n",
              "      <td>46</td>\n",
              "    </tr>\n",
              "  </tbody>\n",
              "</table>\n",
              "</div>"
            ],
            "text/plain": [
              "   item_id  ... NumberOfProperties\n",
              "0     5101  ...                 62\n",
              "1     5416  ...                 46\n",
              "\n",
              "[2 rows x 3 columns]"
            ]
          },
          "metadata": {
            "tags": []
          },
          "execution_count": 6
        }
      ]
    },
    {
      "cell_type": "code",
      "metadata": {
        "id": "_KEWtPQTFgir",
        "colab_type": "code",
        "outputId": "b38dbc33-f3b2-49bf-bbbf-6a3b91ac1787",
        "colab": {
          "base_uri": "https://localhost:8080/",
          "height": 35
        }
      },
      "source": [
        "#getting total number of unique properties across all items\n",
        "AllPropertiesList = item_metadata.properties.tolist()\n",
        "\n",
        "AllPropertiesFlatList = []\n",
        "for sublist in AllPropertiesList:\n",
        "    for item in sublist:\n",
        "        AllPropertiesFlatList.append(item)\n",
        "        \n",
        "print('Number of unique properties is', len(set(AllPropertiesFlatList)))"
      ],
      "execution_count": 0,
      "outputs": [
        {
          "output_type": "stream",
          "text": [
            "Number of unique properties is 157\n"
          ],
          "name": "stdout"
        }
      ]
    },
    {
      "cell_type": "markdown",
      "metadata": {
        "id": "jic5BPFfFgiy",
        "colab_type": "text"
      },
      "source": [
        "### Items Properties Similarities\n",
        "The purpose is to get cosine similarity between items. The maximum 25 items out of the list can be extracted as a dataframe and cosine similarity can be obtained in order to get the similar items to the ones the user had interacted with to be listed on the top of the list.  "
      ]
    },
    {
      "cell_type": "code",
      "metadata": {
        "scrolled": true,
        "id": "upvpoHnMFgi1",
        "colab_type": "code",
        "outputId": "54b35a30-8620-4d70-af08-ae1a0cde0ee8",
        "colab": {}
      },
      "source": [
        "item_metadata.properties = item_metadata.properties.apply(lambda x: tuple(x))\n",
        "\n",
        "one_hot = MultiLabelBinarizer()\n",
        "\n",
        "properties_encoded = one_hot.fit_transform(item_metadata.properties.values.tolist())\n",
        "\n",
        "properties_encodedDF = pd.DataFrame(properties_encoded)\n",
        "\n",
        "#changing column names\n",
        "properties_list = one_hot.classes_.tolist()\n",
        "for i in range(len(properties_list)):\n",
        "    properties_encodedDF = properties_encodedDF.rename(columns={i:properties_list[i]})\n",
        "\n",
        "#creating a column of the item id to get the similarity between items\n",
        "item_metadata.item_id = item_metadata.item_id.apply(lambda x: str(x))\n",
        "properties_encodedDF['item_id'] = item_metadata.item_id\n",
        "\n",
        "properties_encodedDF.head()"
      ],
      "execution_count": 0,
      "outputs": [
        {
          "output_type": "execute_result",
          "data": {
            "text/html": [
              "<div>\n",
              "<style scoped>\n",
              "    .dataframe tbody tr th:only-of-type {\n",
              "        vertical-align: middle;\n",
              "    }\n",
              "\n",
              "    .dataframe tbody tr th {\n",
              "        vertical-align: top;\n",
              "    }\n",
              "\n",
              "    .dataframe thead th {\n",
              "        text-align: right;\n",
              "    }\n",
              "</style>\n",
              "<table border=\"1\" class=\"dataframe\">\n",
              "  <thead>\n",
              "    <tr style=\"text-align: right;\">\n",
              "      <th></th>\n",
              "      <th>1 Star</th>\n",
              "      <th>2 Star</th>\n",
              "      <th>3 Star</th>\n",
              "      <th>4 Star</th>\n",
              "      <th>5 Star</th>\n",
              "      <th>Accessible Hotel</th>\n",
              "      <th>Accessible Parking</th>\n",
              "      <th>Adults Only</th>\n",
              "      <th>Air Conditioning</th>\n",
              "      <th>Airport Hotel</th>\n",
              "      <th>...</th>\n",
              "      <th>Terrace (Hotel)</th>\n",
              "      <th>Theme Hotel</th>\n",
              "      <th>Towels</th>\n",
              "      <th>Very Good Rating</th>\n",
              "      <th>Volleyball</th>\n",
              "      <th>Washing Machine</th>\n",
              "      <th>Water Slide</th>\n",
              "      <th>Wheelchair Accessible</th>\n",
              "      <th>WiFi (Public Areas)</th>\n",
              "      <th>WiFi (Rooms)</th>\n",
              "    </tr>\n",
              "  </thead>\n",
              "  <tbody>\n",
              "    <tr>\n",
              "      <th>0</th>\n",
              "      <td>0</td>\n",
              "      <td>0</td>\n",
              "      <td>0</td>\n",
              "      <td>1</td>\n",
              "      <td>0</td>\n",
              "      <td>1</td>\n",
              "      <td>1</td>\n",
              "      <td>0</td>\n",
              "      <td>1</td>\n",
              "      <td>0</td>\n",
              "      <td>...</td>\n",
              "      <td>1</td>\n",
              "      <td>0</td>\n",
              "      <td>0</td>\n",
              "      <td>0</td>\n",
              "      <td>0</td>\n",
              "      <td>0</td>\n",
              "      <td>0</td>\n",
              "      <td>0</td>\n",
              "      <td>1</td>\n",
              "      <td>1</td>\n",
              "    </tr>\n",
              "    <tr>\n",
              "      <th>1</th>\n",
              "      <td>0</td>\n",
              "      <td>0</td>\n",
              "      <td>0</td>\n",
              "      <td>1</td>\n",
              "      <td>0</td>\n",
              "      <td>0</td>\n",
              "      <td>0</td>\n",
              "      <td>0</td>\n",
              "      <td>0</td>\n",
              "      <td>0</td>\n",
              "      <td>...</td>\n",
              "      <td>1</td>\n",
              "      <td>0</td>\n",
              "      <td>0</td>\n",
              "      <td>1</td>\n",
              "      <td>0</td>\n",
              "      <td>0</td>\n",
              "      <td>0</td>\n",
              "      <td>1</td>\n",
              "      <td>1</td>\n",
              "      <td>1</td>\n",
              "    </tr>\n",
              "    <tr>\n",
              "      <th>2</th>\n",
              "      <td>0</td>\n",
              "      <td>0</td>\n",
              "      <td>1</td>\n",
              "      <td>0</td>\n",
              "      <td>0</td>\n",
              "      <td>0</td>\n",
              "      <td>0</td>\n",
              "      <td>0</td>\n",
              "      <td>0</td>\n",
              "      <td>0</td>\n",
              "      <td>...</td>\n",
              "      <td>1</td>\n",
              "      <td>0</td>\n",
              "      <td>0</td>\n",
              "      <td>1</td>\n",
              "      <td>0</td>\n",
              "      <td>0</td>\n",
              "      <td>0</td>\n",
              "      <td>0</td>\n",
              "      <td>1</td>\n",
              "      <td>1</td>\n",
              "    </tr>\n",
              "    <tr>\n",
              "      <th>3</th>\n",
              "      <td>0</td>\n",
              "      <td>0</td>\n",
              "      <td>0</td>\n",
              "      <td>1</td>\n",
              "      <td>0</td>\n",
              "      <td>0</td>\n",
              "      <td>0</td>\n",
              "      <td>0</td>\n",
              "      <td>0</td>\n",
              "      <td>0</td>\n",
              "      <td>...</td>\n",
              "      <td>1</td>\n",
              "      <td>0</td>\n",
              "      <td>0</td>\n",
              "      <td>0</td>\n",
              "      <td>0</td>\n",
              "      <td>0</td>\n",
              "      <td>0</td>\n",
              "      <td>0</td>\n",
              "      <td>1</td>\n",
              "      <td>0</td>\n",
              "    </tr>\n",
              "    <tr>\n",
              "      <th>4</th>\n",
              "      <td>0</td>\n",
              "      <td>0</td>\n",
              "      <td>0</td>\n",
              "      <td>1</td>\n",
              "      <td>0</td>\n",
              "      <td>1</td>\n",
              "      <td>1</td>\n",
              "      <td>0</td>\n",
              "      <td>0</td>\n",
              "      <td>0</td>\n",
              "      <td>...</td>\n",
              "      <td>1</td>\n",
              "      <td>0</td>\n",
              "      <td>1</td>\n",
              "      <td>0</td>\n",
              "      <td>1</td>\n",
              "      <td>0</td>\n",
              "      <td>0</td>\n",
              "      <td>1</td>\n",
              "      <td>1</td>\n",
              "      <td>1</td>\n",
              "    </tr>\n",
              "  </tbody>\n",
              "</table>\n",
              "<p>5 rows × 157 columns</p>\n",
              "</div>"
            ],
            "text/plain": [
              "   1 Star  2 Star  3 Star  4 Star  5 Star  Accessible Hotel  \\\n",
              "0       0       0       0       1       0                 1   \n",
              "1       0       0       0       1       0                 0   \n",
              "2       0       0       1       0       0                 0   \n",
              "3       0       0       0       1       0                 0   \n",
              "4       0       0       0       1       0                 1   \n",
              "\n",
              "   Accessible Parking  Adults Only  Air Conditioning  Airport Hotel  ...  \\\n",
              "0                   1            0                 1              0  ...   \n",
              "1                   0            0                 0              0  ...   \n",
              "2                   0            0                 0              0  ...   \n",
              "3                   0            0                 0              0  ...   \n",
              "4                   1            0                 0              0  ...   \n",
              "\n",
              "   Terrace (Hotel)  Theme Hotel  Towels  Very Good Rating  Volleyball  \\\n",
              "0                1            0       0                 0           0   \n",
              "1                1            0       0                 1           0   \n",
              "2                1            0       0                 1           0   \n",
              "3                1            0       0                 0           0   \n",
              "4                1            0       1                 0           1   \n",
              "\n",
              "   Washing Machine  Water Slide  Wheelchair Accessible  WiFi (Public Areas)  \\\n",
              "0                0            0                      0                    1   \n",
              "1                0            0                      1                    1   \n",
              "2                0            0                      0                    1   \n",
              "3                0            0                      0                    1   \n",
              "4                0            0                      1                    1   \n",
              "\n",
              "   WiFi (Rooms)  \n",
              "0             1  \n",
              "1             1  \n",
              "2             1  \n",
              "3             0  \n",
              "4             1  \n",
              "\n",
              "[5 rows x 157 columns]"
            ]
          },
          "metadata": {
            "tags": []
          },
          "execution_count": 6
        }
      ]
    },
    {
      "cell_type": "code",
      "metadata": {
        "id": "55-zbqmpFgi_",
        "colab_type": "code",
        "outputId": "ec571a05-02c2-44dc-df69-ecceedd872f1",
        "colab": {}
      },
      "source": [
        "cosine_similarity(properties_encodedDF.set_index('item_id').iloc[0:25])[0]"
      ],
      "execution_count": 0,
      "outputs": [
        {
          "output_type": "execute_result",
          "data": {
            "text/plain": [
              "array([1.        , 0.69283044, 0.6024145 , 0.69419307, 0.74385528,\n",
              "       0.62604751, 0.7220817 , 0.75202407, 0.72586619, 0.77491695,\n",
              "       0.68469194, 0.56796183, 0.65036141, 0.7573052 , 0.68861713,\n",
              "       0.73636183, 0.5528638 , 0.66628253, 0.65991202, 0.68250015,\n",
              "       0.74691014, 0.756971  , 0.57473697, 0.61833711, 0.5265603 ])"
            ]
          },
          "metadata": {
            "tags": []
          },
          "execution_count": 137
        }
      ]
    },
    {
      "cell_type": "markdown",
      "metadata": {
        "id": "J8kcaIOEFgjH",
        "colab_type": "text"
      },
      "source": [
        "It needs to be discussed for further implementation."
      ]
    },
    {
      "cell_type": "markdown",
      "metadata": {
        "id": "a3_zkXYmFgjJ",
        "colab_type": "text"
      },
      "source": [
        "### Number of Times in Impressions\n",
        "The purpose of this feature is to check how many times an item had been shown to users in the list."
      ]
    },
    {
      "cell_type": "markdown",
      "metadata": {
        "id": "2a0n6qeSFgjd",
        "colab_type": "text"
      },
      "source": [
        "Finding number of times an item has been mentioned in a list."
      ]
    },
    {
      "cell_type": "code",
      "metadata": {
        "id": "hqDgSatzFgj0",
        "colab_type": "code",
        "outputId": "43fa49fa-519f-4f1f-827a-7f2d67208cab",
        "colab": {
          "base_uri": "https://localhost:8080/",
          "height": 108
        }
      },
      "source": [
        "AllImpressionsList = ClickoutUniqueDF.impressions.apply(lambda x:x.split('|'))\n",
        "\n",
        "AllImpressionsFlatList = []\n",
        "for sublist in AllImpressionsList:\n",
        "    for item in sublist:\n",
        "        AllImpressionsFlatList.append(item)\n",
        "\n",
        "InImpressionsCounter = Counter(AllImpressionsFlatList)\n",
        "InImpressionsDF = pd.DataFrame.from_dict(InImpressionsCounter, orient='index').reset_index()\\\n",
        "                              .rename(columns={'index':'item_id', 0:'NumberInImpressions'})\n",
        "InImpressionsDF.head(2)"
      ],
      "execution_count": 0,
      "outputs": [
        {
          "output_type": "execute_result",
          "data": {
            "text/html": [
              "<div>\n",
              "<style scoped>\n",
              "    .dataframe tbody tr th:only-of-type {\n",
              "        vertical-align: middle;\n",
              "    }\n",
              "\n",
              "    .dataframe tbody tr th {\n",
              "        vertical-align: top;\n",
              "    }\n",
              "\n",
              "    .dataframe thead th {\n",
              "        text-align: right;\n",
              "    }\n",
              "</style>\n",
              "<table border=\"1\" class=\"dataframe\">\n",
              "  <thead>\n",
              "    <tr style=\"text-align: right;\">\n",
              "      <th></th>\n",
              "      <th>item_id</th>\n",
              "      <th>NumberInImpressions</th>\n",
              "    </tr>\n",
              "  </thead>\n",
              "  <tbody>\n",
              "    <tr>\n",
              "      <th>0</th>\n",
              "      <td>3400638</td>\n",
              "      <td>491</td>\n",
              "    </tr>\n",
              "    <tr>\n",
              "      <th>1</th>\n",
              "      <td>1253714</td>\n",
              "      <td>84</td>\n",
              "    </tr>\n",
              "  </tbody>\n",
              "</table>\n",
              "</div>"
            ],
            "text/plain": [
              "   item_id  NumberInImpressions\n",
              "0  3400638                  491\n",
              "1  1253714                   84"
            ]
          },
          "metadata": {
            "tags": []
          },
          "execution_count": 8
        }
      ]
    },
    {
      "cell_type": "code",
      "metadata": {
        "id": "MilO4jYIFgj5",
        "colab_type": "code",
        "outputId": "7eb31dea-0fa1-4837-88af-bef89104afa0",
        "colab": {}
      },
      "source": [
        "InImpressionsDF.item_id.nunique(), len(InImpressionsDF), item_metadata.item_id.nunique()"
      ],
      "execution_count": 0,
      "outputs": [
        {
          "output_type": "execute_result",
          "data": {
            "text/plain": [
              "(815092, 815092, 927142)"
            ]
          },
          "metadata": {
            "tags": []
          },
          "execution_count": 11
        }
      ]
    },
    {
      "cell_type": "markdown",
      "metadata": {
        "id": "h8aULpmpFgkA",
        "colab_type": "text"
      },
      "source": [
        "Number of items in this dataframe is less than the number of items in item_metadata, that's because some of the items had not been mentioned in the impressions list."
      ]
    },
    {
      "cell_type": "code",
      "metadata": {
        "scrolled": true,
        "id": "WRayg1swFgkD",
        "colab_type": "code",
        "outputId": "4a02501b-54d3-4a4f-9323-f6e8604a54b5",
        "colab": {
          "base_uri": "https://localhost:8080/",
          "height": 108
        }
      },
      "source": [
        "item_metadata.item_id = item_metadata.item_id.apply(lambda x: str(x))\n",
        "\n",
        "#left joining\n",
        "item_metadata = item_metadata.merge(InImpressionsDF, on='item_id', how='left')\n",
        "item_metadata.head(2)"
      ],
      "execution_count": 0,
      "outputs": [
        {
          "output_type": "execute_result",
          "data": {
            "text/html": [
              "<div>\n",
              "<style scoped>\n",
              "    .dataframe tbody tr th:only-of-type {\n",
              "        vertical-align: middle;\n",
              "    }\n",
              "\n",
              "    .dataframe tbody tr th {\n",
              "        vertical-align: top;\n",
              "    }\n",
              "\n",
              "    .dataframe thead th {\n",
              "        text-align: right;\n",
              "    }\n",
              "</style>\n",
              "<table border=\"1\" class=\"dataframe\">\n",
              "  <thead>\n",
              "    <tr style=\"text-align: right;\">\n",
              "      <th></th>\n",
              "      <th>item_id</th>\n",
              "      <th>properties</th>\n",
              "      <th>NumberOfProperties</th>\n",
              "      <th>NumberInImpressions</th>\n",
              "    </tr>\n",
              "  </thead>\n",
              "  <tbody>\n",
              "    <tr>\n",
              "      <th>0</th>\n",
              "      <td>5101</td>\n",
              "      <td>[Satellite TV, Golf Course, Airport Shuttle, C...</td>\n",
              "      <td>62</td>\n",
              "      <td>89.0</td>\n",
              "    </tr>\n",
              "    <tr>\n",
              "      <th>1</th>\n",
              "      <td>5416</td>\n",
              "      <td>[Satellite TV, Cosmetic Mirror, Safe (Hotel), ...</td>\n",
              "      <td>46</td>\n",
              "      <td>63.0</td>\n",
              "    </tr>\n",
              "  </tbody>\n",
              "</table>\n",
              "</div>"
            ],
            "text/plain": [
              "  item_id  ... NumberInImpressions\n",
              "0    5101  ...                89.0\n",
              "1    5416  ...                63.0\n",
              "\n",
              "[2 rows x 4 columns]"
            ]
          },
          "metadata": {
            "tags": []
          },
          "execution_count": 9
        }
      ]
    },
    {
      "cell_type": "markdown",
      "metadata": {
        "id": "ae_M8pVzFgkI",
        "colab_type": "text"
      },
      "source": [
        "### Number of Times in Reference\n",
        "The purpose of this feature is to check how many times an item has been mentioned in the Reference attribute in the whole train set. "
      ]
    },
    {
      "cell_type": "code",
      "metadata": {
        "id": "8bk3WxlYFgkK",
        "colab_type": "code",
        "outputId": "3c0a9042-66a5-40fa-a18b-b1786fc54ee7",
        "colab": {
          "base_uri": "https://localhost:8080/",
          "height": 108
        }
      },
      "source": [
        "InReferencesCounter = Counter(train.reference.values.tolist())\n",
        "InReferencesDF = pd.DataFrame.from_dict(InReferencesCounter, orient='index').reset_index()\\\n",
        "                              .rename(columns={'index':'item_id', 0:'NumberInReferences'})\n",
        "\n",
        "InReferencesDF.head(2)"
      ],
      "execution_count": 0,
      "outputs": [
        {
          "output_type": "execute_result",
          "data": {
            "text/html": [
              "<div>\n",
              "<style scoped>\n",
              "    .dataframe tbody tr th:only-of-type {\n",
              "        vertical-align: middle;\n",
              "    }\n",
              "\n",
              "    .dataframe tbody tr th {\n",
              "        vertical-align: top;\n",
              "    }\n",
              "\n",
              "    .dataframe thead th {\n",
              "        text-align: right;\n",
              "    }\n",
              "</style>\n",
              "<table border=\"1\" class=\"dataframe\">\n",
              "  <thead>\n",
              "    <tr style=\"text-align: right;\">\n",
              "      <th></th>\n",
              "      <th>item_id</th>\n",
              "      <th>NumberInReferences</th>\n",
              "    </tr>\n",
              "  </thead>\n",
              "  <tbody>\n",
              "    <tr>\n",
              "      <th>0</th>\n",
              "      <td>Newtown</td>\n",
              "      <td>16</td>\n",
              "    </tr>\n",
              "    <tr>\n",
              "      <th>1</th>\n",
              "      <td>666856</td>\n",
              "      <td>26</td>\n",
              "    </tr>\n",
              "  </tbody>\n",
              "</table>\n",
              "</div>"
            ],
            "text/plain": [
              "   item_id  NumberInReferences\n",
              "0  Newtown                  16\n",
              "1   666856                  26"
            ]
          },
          "metadata": {
            "tags": []
          },
          "execution_count": 10
        }
      ]
    },
    {
      "cell_type": "code",
      "metadata": {
        "id": "7tPSDS_fFgkS",
        "colab_type": "code",
        "outputId": "9d8f7007-1ca5-4aab-ad8e-8525a5219e22",
        "colab": {
          "base_uri": "https://localhost:8080/",
          "height": 108
        }
      },
      "source": [
        "#left joining\n",
        "item_metadata = item_metadata.merge(InReferencesDF, on='item_id', how='left')\n",
        "item_metadata.head(2)"
      ],
      "execution_count": 0,
      "outputs": [
        {
          "output_type": "execute_result",
          "data": {
            "text/html": [
              "<div>\n",
              "<style scoped>\n",
              "    .dataframe tbody tr th:only-of-type {\n",
              "        vertical-align: middle;\n",
              "    }\n",
              "\n",
              "    .dataframe tbody tr th {\n",
              "        vertical-align: top;\n",
              "    }\n",
              "\n",
              "    .dataframe thead th {\n",
              "        text-align: right;\n",
              "    }\n",
              "</style>\n",
              "<table border=\"1\" class=\"dataframe\">\n",
              "  <thead>\n",
              "    <tr style=\"text-align: right;\">\n",
              "      <th></th>\n",
              "      <th>item_id</th>\n",
              "      <th>properties</th>\n",
              "      <th>NumberOfProperties</th>\n",
              "      <th>NumberInImpressions</th>\n",
              "      <th>NumberInReferences</th>\n",
              "    </tr>\n",
              "  </thead>\n",
              "  <tbody>\n",
              "    <tr>\n",
              "      <th>0</th>\n",
              "      <td>5101</td>\n",
              "      <td>[Satellite TV, Golf Course, Airport Shuttle, C...</td>\n",
              "      <td>62</td>\n",
              "      <td>89.0</td>\n",
              "      <td>14.0</td>\n",
              "    </tr>\n",
              "    <tr>\n",
              "      <th>1</th>\n",
              "      <td>5416</td>\n",
              "      <td>[Satellite TV, Cosmetic Mirror, Safe (Hotel), ...</td>\n",
              "      <td>46</td>\n",
              "      <td>63.0</td>\n",
              "      <td>43.0</td>\n",
              "    </tr>\n",
              "  </tbody>\n",
              "</table>\n",
              "</div>"
            ],
            "text/plain": [
              "  item_id  ... NumberInReferences\n",
              "0    5101  ...               14.0\n",
              "1    5416  ...               43.0\n",
              "\n",
              "[2 rows x 5 columns]"
            ]
          },
          "metadata": {
            "tags": []
          },
          "execution_count": 11
        }
      ]
    },
    {
      "cell_type": "markdown",
      "metadata": {
        "id": "zoVGRxYHFgkZ",
        "colab_type": "text"
      },
      "source": [
        "### Number of Times in Clickout\n",
        "The purpose of this feature is to check how many times an item has been clicked out"
      ]
    },
    {
      "cell_type": "code",
      "metadata": {
        "id": "90brQsHdFgkb",
        "colab_type": "code",
        "outputId": "3e3e5249-7c05-4f28-bfc9-9b6f47d20ab9",
        "colab": {
          "base_uri": "https://localhost:8080/",
          "height": 108
        }
      },
      "source": [
        "InClickoutCounter = Counter(ClickoutDF.reference.values.tolist())\n",
        "InClickoutDF = pd.DataFrame.from_dict(InClickoutCounter, orient='index').reset_index()\\\n",
        "                              .rename(columns={'index':'item_id', 0:'NumberAsClickout'})\n",
        "InClickoutDF.head(2)"
      ],
      "execution_count": 0,
      "outputs": [
        {
          "output_type": "execute_result",
          "data": {
            "text/html": [
              "<div>\n",
              "<style scoped>\n",
              "    .dataframe tbody tr th:only-of-type {\n",
              "        vertical-align: middle;\n",
              "    }\n",
              "\n",
              "    .dataframe tbody tr th {\n",
              "        vertical-align: top;\n",
              "    }\n",
              "\n",
              "    .dataframe thead th {\n",
              "        text-align: right;\n",
              "    }\n",
              "</style>\n",
              "<table border=\"1\" class=\"dataframe\">\n",
              "  <thead>\n",
              "    <tr style=\"text-align: right;\">\n",
              "      <th></th>\n",
              "      <th>item_id</th>\n",
              "      <th>NumberAsClickout</th>\n",
              "    </tr>\n",
              "  </thead>\n",
              "  <tbody>\n",
              "    <tr>\n",
              "      <th>0</th>\n",
              "      <td>109038</td>\n",
              "      <td>53</td>\n",
              "    </tr>\n",
              "    <tr>\n",
              "      <th>1</th>\n",
              "      <td>1257342</td>\n",
              "      <td>20</td>\n",
              "    </tr>\n",
              "  </tbody>\n",
              "</table>\n",
              "</div>"
            ],
            "text/plain": [
              "   item_id  NumberAsClickout\n",
              "0   109038                53\n",
              "1  1257342                20"
            ]
          },
          "metadata": {
            "tags": []
          },
          "execution_count": 12
        }
      ]
    },
    {
      "cell_type": "code",
      "metadata": {
        "id": "V3mWF_azFgkf",
        "colab_type": "code",
        "outputId": "2219d9e9-7c54-4b74-a9ce-46e50f49c6fc",
        "colab": {
          "base_uri": "https://localhost:8080/",
          "height": 108
        }
      },
      "source": [
        "#left joining\n",
        "item_metadata = item_metadata.merge(InClickoutDF, on='item_id', how='left')\n",
        "item_metadata.head(2)"
      ],
      "execution_count": 0,
      "outputs": [
        {
          "output_type": "execute_result",
          "data": {
            "text/html": [
              "<div>\n",
              "<style scoped>\n",
              "    .dataframe tbody tr th:only-of-type {\n",
              "        vertical-align: middle;\n",
              "    }\n",
              "\n",
              "    .dataframe tbody tr th {\n",
              "        vertical-align: top;\n",
              "    }\n",
              "\n",
              "    .dataframe thead th {\n",
              "        text-align: right;\n",
              "    }\n",
              "</style>\n",
              "<table border=\"1\" class=\"dataframe\">\n",
              "  <thead>\n",
              "    <tr style=\"text-align: right;\">\n",
              "      <th></th>\n",
              "      <th>item_id</th>\n",
              "      <th>properties</th>\n",
              "      <th>NumberOfProperties</th>\n",
              "      <th>NumberInImpressions</th>\n",
              "      <th>NumberInReferences</th>\n",
              "      <th>NumberAsClickout</th>\n",
              "    </tr>\n",
              "  </thead>\n",
              "  <tbody>\n",
              "    <tr>\n",
              "      <th>0</th>\n",
              "      <td>5101</td>\n",
              "      <td>[Satellite TV, Golf Course, Airport Shuttle, C...</td>\n",
              "      <td>62</td>\n",
              "      <td>89.0</td>\n",
              "      <td>14.0</td>\n",
              "      <td>7.0</td>\n",
              "    </tr>\n",
              "    <tr>\n",
              "      <th>1</th>\n",
              "      <td>5416</td>\n",
              "      <td>[Satellite TV, Cosmetic Mirror, Safe (Hotel), ...</td>\n",
              "      <td>46</td>\n",
              "      <td>63.0</td>\n",
              "      <td>43.0</td>\n",
              "      <td>6.0</td>\n",
              "    </tr>\n",
              "  </tbody>\n",
              "</table>\n",
              "</div>"
            ],
            "text/plain": [
              "  item_id  ... NumberAsClickout\n",
              "0    5101  ...              7.0\n",
              "1    5416  ...              6.0\n",
              "\n",
              "[2 rows x 6 columns]"
            ]
          },
          "metadata": {
            "tags": []
          },
          "execution_count": 13
        }
      ]
    },
    {
      "cell_type": "markdown",
      "metadata": {
        "id": "t-ZSBJIxFgkj",
        "colab_type": "text"
      },
      "source": [
        "### Number of Time in Final Clickout\n",
        "The purpose of this feature is to get the number of times an item had been mentioned as a final clickout."
      ]
    },
    {
      "cell_type": "code",
      "metadata": {
        "id": "g5sMoSRZFgkm",
        "colab_type": "code",
        "outputId": "2087ab7c-ffd4-4f2d-df42-bbdea4ceb14e",
        "colab": {
          "base_uri": "https://localhost:8080/",
          "height": 108
        }
      },
      "source": [
        "InFinalClickoutCounter = Counter(FinalClickoutDF.reference.values.tolist())\n",
        "InFinalClickoutDF = pd.DataFrame.from_dict(InFinalClickoutCounter, orient='index').reset_index()\\\n",
        "                              .rename(columns={'index':'item_id', 0:'NumberAsFinalClickout'})\n",
        "InFinalClickoutDF.head(2)"
      ],
      "execution_count": 0,
      "outputs": [
        {
          "output_type": "execute_result",
          "data": {
            "text/html": [
              "<div>\n",
              "<style scoped>\n",
              "    .dataframe tbody tr th:only-of-type {\n",
              "        vertical-align: middle;\n",
              "    }\n",
              "\n",
              "    .dataframe tbody tr th {\n",
              "        vertical-align: top;\n",
              "    }\n",
              "\n",
              "    .dataframe thead th {\n",
              "        text-align: right;\n",
              "    }\n",
              "</style>\n",
              "<table border=\"1\" class=\"dataframe\">\n",
              "  <thead>\n",
              "    <tr style=\"text-align: right;\">\n",
              "      <th></th>\n",
              "      <th>item_id</th>\n",
              "      <th>NumberAsFinalClickout</th>\n",
              "    </tr>\n",
              "  </thead>\n",
              "  <tbody>\n",
              "    <tr>\n",
              "      <th>0</th>\n",
              "      <td>1257342</td>\n",
              "      <td>7</td>\n",
              "    </tr>\n",
              "    <tr>\n",
              "      <th>1</th>\n",
              "      <td>2795374</td>\n",
              "      <td>18</td>\n",
              "    </tr>\n",
              "  </tbody>\n",
              "</table>\n",
              "</div>"
            ],
            "text/plain": [
              "   item_id  NumberAsFinalClickout\n",
              "0  1257342                      7\n",
              "1  2795374                     18"
            ]
          },
          "metadata": {
            "tags": []
          },
          "execution_count": 14
        }
      ]
    },
    {
      "cell_type": "code",
      "metadata": {
        "id": "KD_vcoWPFgky",
        "colab_type": "code",
        "outputId": "470cf5bf-597a-4750-e506-ede454621c2f",
        "colab": {
          "base_uri": "https://localhost:8080/",
          "height": 143
        }
      },
      "source": [
        "#left joining\n",
        "item_metadata = item_metadata.merge(InFinalClickoutDF, on='item_id', how='left')\n",
        "item_metadata.head(2)"
      ],
      "execution_count": 0,
      "outputs": [
        {
          "output_type": "execute_result",
          "data": {
            "text/html": [
              "<div>\n",
              "<style scoped>\n",
              "    .dataframe tbody tr th:only-of-type {\n",
              "        vertical-align: middle;\n",
              "    }\n",
              "\n",
              "    .dataframe tbody tr th {\n",
              "        vertical-align: top;\n",
              "    }\n",
              "\n",
              "    .dataframe thead th {\n",
              "        text-align: right;\n",
              "    }\n",
              "</style>\n",
              "<table border=\"1\" class=\"dataframe\">\n",
              "  <thead>\n",
              "    <tr style=\"text-align: right;\">\n",
              "      <th></th>\n",
              "      <th>item_id</th>\n",
              "      <th>properties</th>\n",
              "      <th>NumberOfProperties</th>\n",
              "      <th>NumberInImpressions</th>\n",
              "      <th>NumberInReferences</th>\n",
              "      <th>NumberAsClickout</th>\n",
              "      <th>NumberAsFinalClickout</th>\n",
              "    </tr>\n",
              "  </thead>\n",
              "  <tbody>\n",
              "    <tr>\n",
              "      <th>0</th>\n",
              "      <td>5101</td>\n",
              "      <td>[Satellite TV, Golf Course, Airport Shuttle, C...</td>\n",
              "      <td>62</td>\n",
              "      <td>89.0</td>\n",
              "      <td>14.0</td>\n",
              "      <td>7.0</td>\n",
              "      <td>4.0</td>\n",
              "    </tr>\n",
              "    <tr>\n",
              "      <th>1</th>\n",
              "      <td>5416</td>\n",
              "      <td>[Satellite TV, Cosmetic Mirror, Safe (Hotel), ...</td>\n",
              "      <td>46</td>\n",
              "      <td>63.0</td>\n",
              "      <td>43.0</td>\n",
              "      <td>6.0</td>\n",
              "      <td>2.0</td>\n",
              "    </tr>\n",
              "  </tbody>\n",
              "</table>\n",
              "</div>"
            ],
            "text/plain": [
              "  item_id  ... NumberAsFinalClickout\n",
              "0    5101  ...                   4.0\n",
              "1    5416  ...                   2.0\n",
              "\n",
              "[2 rows x 7 columns]"
            ]
          },
          "metadata": {
            "tags": []
          },
          "execution_count": 15
        }
      ]
    },
    {
      "cell_type": "markdown",
      "metadata": {
        "id": "9LWxefutFgk_",
        "colab_type": "text"
      },
      "source": [
        "The next step would be dividing the NumberAsFinalClickout by the other 3, in order to get FinalClickout Relativity"
      ]
    },
    {
      "cell_type": "markdown",
      "metadata": {
        "id": "EO0SubJ-FglA",
        "colab_type": "text"
      },
      "source": [
        "### Final Clickout To Impressions\n",
        "The purpose of this feature is to get item's rate of clicking out when listed to the user."
      ]
    },
    {
      "cell_type": "code",
      "metadata": {
        "id": "ZDHJPlJvFglB",
        "colab_type": "code",
        "outputId": "4463f8f4-d61e-48d1-d458-beea0445df8e",
        "colab": {
          "base_uri": "https://localhost:8080/",
          "height": 72
        }
      },
      "source": [
        "FClickoutToImpressions = item_metadata.NumberAsFinalClickout/item_metadata.NumberInImpressions\n",
        "FClickoutToImpressions.head(2)"
      ],
      "execution_count": 0,
      "outputs": [
        {
          "output_type": "execute_result",
          "data": {
            "text/plain": [
              "0    0.044944\n",
              "1    0.031746\n",
              "dtype: float64"
            ]
          },
          "metadata": {
            "tags": []
          },
          "execution_count": 16
        }
      ]
    },
    {
      "cell_type": "code",
      "metadata": {
        "id": "clMCXWXaFglI",
        "colab_type": "code",
        "outputId": "3af9045f-7d22-4eed-cf14-e4c57e2ae2c8",
        "colab": {
          "base_uri": "https://localhost:8080/",
          "height": 232
        }
      },
      "source": [
        "#adding attribute\n",
        "item_metadata['FClickoutToImpressions'] = FClickoutToImpressions\n",
        "item_metadata.head(2)"
      ],
      "execution_count": 0,
      "outputs": [
        {
          "output_type": "execute_result",
          "data": {
            "text/html": [
              "<div>\n",
              "<style scoped>\n",
              "    .dataframe tbody tr th:only-of-type {\n",
              "        vertical-align: middle;\n",
              "    }\n",
              "\n",
              "    .dataframe tbody tr th {\n",
              "        vertical-align: top;\n",
              "    }\n",
              "\n",
              "    .dataframe thead th {\n",
              "        text-align: right;\n",
              "    }\n",
              "</style>\n",
              "<table border=\"1\" class=\"dataframe\">\n",
              "  <thead>\n",
              "    <tr style=\"text-align: right;\">\n",
              "      <th></th>\n",
              "      <th>item_id</th>\n",
              "      <th>properties</th>\n",
              "      <th>NumberOfProperties</th>\n",
              "      <th>NumberInImpressions</th>\n",
              "      <th>NumberInReferences</th>\n",
              "      <th>NumberAsClickout</th>\n",
              "      <th>NumberAsFinalClickout</th>\n",
              "      <th>FClickoutToImpressions</th>\n",
              "    </tr>\n",
              "  </thead>\n",
              "  <tbody>\n",
              "    <tr>\n",
              "      <th>0</th>\n",
              "      <td>5101</td>\n",
              "      <td>[Satellite TV, Golf Course, Airport Shuttle, C...</td>\n",
              "      <td>62</td>\n",
              "      <td>89.0</td>\n",
              "      <td>14.0</td>\n",
              "      <td>7.0</td>\n",
              "      <td>4.0</td>\n",
              "      <td>0.044944</td>\n",
              "    </tr>\n",
              "    <tr>\n",
              "      <th>1</th>\n",
              "      <td>5416</td>\n",
              "      <td>[Satellite TV, Cosmetic Mirror, Safe (Hotel), ...</td>\n",
              "      <td>46</td>\n",
              "      <td>63.0</td>\n",
              "      <td>43.0</td>\n",
              "      <td>6.0</td>\n",
              "      <td>2.0</td>\n",
              "      <td>0.031746</td>\n",
              "    </tr>\n",
              "  </tbody>\n",
              "</table>\n",
              "</div>"
            ],
            "text/plain": [
              "  item_id  ... FClickoutToImpressions\n",
              "0    5101  ...               0.044944\n",
              "1    5416  ...               0.031746\n",
              "\n",
              "[2 rows x 8 columns]"
            ]
          },
          "metadata": {
            "tags": []
          },
          "execution_count": 17
        }
      ]
    },
    {
      "cell_type": "markdown",
      "metadata": {
        "id": "Zr0TO-QQFglP",
        "colab_type": "text"
      },
      "source": [
        "### Final Clickout To References\n",
        "The purpose of this feature is to get item's rate of clicking out when it was interacted with."
      ]
    },
    {
      "cell_type": "code",
      "metadata": {
        "id": "G-tMA8gvFglQ",
        "colab_type": "code",
        "outputId": "5b6ecbac-4f83-4de4-d40e-ed30b2661bd1",
        "colab": {
          "base_uri": "https://localhost:8080/",
          "height": 72
        }
      },
      "source": [
        "FClickoutToReferences = item_metadata.NumberAsFinalClickout/item_metadata.NumberInReferences\n",
        "FClickoutToReferences.head(2)"
      ],
      "execution_count": 0,
      "outputs": [
        {
          "output_type": "execute_result",
          "data": {
            "text/plain": [
              "0    0.285714\n",
              "1    0.046512\n",
              "dtype: float64"
            ]
          },
          "metadata": {
            "tags": []
          },
          "execution_count": 18
        }
      ]
    },
    {
      "cell_type": "code",
      "metadata": {
        "id": "pZcwFvwxFglW",
        "colab_type": "code",
        "outputId": "95e0079c-c069-4d0a-bb4d-10d4a8f503b3",
        "colab": {
          "base_uri": "https://localhost:8080/",
          "height": 232
        }
      },
      "source": [
        "#adding attribute\n",
        "item_metadata['FClickoutToReferences'] = FClickoutToReferences\n",
        "item_metadata.head(2)"
      ],
      "execution_count": 0,
      "outputs": [
        {
          "output_type": "execute_result",
          "data": {
            "text/html": [
              "<div>\n",
              "<style scoped>\n",
              "    .dataframe tbody tr th:only-of-type {\n",
              "        vertical-align: middle;\n",
              "    }\n",
              "\n",
              "    .dataframe tbody tr th {\n",
              "        vertical-align: top;\n",
              "    }\n",
              "\n",
              "    .dataframe thead th {\n",
              "        text-align: right;\n",
              "    }\n",
              "</style>\n",
              "<table border=\"1\" class=\"dataframe\">\n",
              "  <thead>\n",
              "    <tr style=\"text-align: right;\">\n",
              "      <th></th>\n",
              "      <th>item_id</th>\n",
              "      <th>properties</th>\n",
              "      <th>NumberOfProperties</th>\n",
              "      <th>NumberInImpressions</th>\n",
              "      <th>NumberInReferences</th>\n",
              "      <th>NumberAsClickout</th>\n",
              "      <th>NumberAsFinalClickout</th>\n",
              "      <th>FClickoutToImpressions</th>\n",
              "      <th>FClickoutToReferences</th>\n",
              "    </tr>\n",
              "  </thead>\n",
              "  <tbody>\n",
              "    <tr>\n",
              "      <th>0</th>\n",
              "      <td>5101</td>\n",
              "      <td>[Satellite TV, Golf Course, Airport Shuttle, C...</td>\n",
              "      <td>62</td>\n",
              "      <td>89.0</td>\n",
              "      <td>14.0</td>\n",
              "      <td>7.0</td>\n",
              "      <td>4.0</td>\n",
              "      <td>0.044944</td>\n",
              "      <td>0.285714</td>\n",
              "    </tr>\n",
              "    <tr>\n",
              "      <th>1</th>\n",
              "      <td>5416</td>\n",
              "      <td>[Satellite TV, Cosmetic Mirror, Safe (Hotel), ...</td>\n",
              "      <td>46</td>\n",
              "      <td>63.0</td>\n",
              "      <td>43.0</td>\n",
              "      <td>6.0</td>\n",
              "      <td>2.0</td>\n",
              "      <td>0.031746</td>\n",
              "      <td>0.046512</td>\n",
              "    </tr>\n",
              "  </tbody>\n",
              "</table>\n",
              "</div>"
            ],
            "text/plain": [
              "  item_id  ... FClickoutToReferences\n",
              "0    5101  ...              0.285714\n",
              "1    5416  ...              0.046512\n",
              "\n",
              "[2 rows x 9 columns]"
            ]
          },
          "metadata": {
            "tags": []
          },
          "execution_count": 19
        }
      ]
    },
    {
      "cell_type": "markdown",
      "metadata": {
        "id": "ay5eOy6kFgla",
        "colab_type": "text"
      },
      "source": [
        "### Final Clickout To Clickout\n",
        "The purpose of this feature is to get item's rate of clickout when it was clicked out before."
      ]
    },
    {
      "cell_type": "code",
      "metadata": {
        "id": "heNu3JTCFglb",
        "colab_type": "code",
        "outputId": "b78c0d26-5c58-4321-a114-1116f4ee67ea",
        "colab": {
          "base_uri": "https://localhost:8080/",
          "height": 72
        }
      },
      "source": [
        "FClickoutToClickout = item_metadata.NumberAsFinalClickout/item_metadata.NumberAsClickout\n",
        "FClickoutToClickout.head(2)"
      ],
      "execution_count": 0,
      "outputs": [
        {
          "output_type": "execute_result",
          "data": {
            "text/plain": [
              "0    0.571429\n",
              "1    0.333333\n",
              "dtype: float64"
            ]
          },
          "metadata": {
            "tags": []
          },
          "execution_count": 20
        }
      ]
    },
    {
      "cell_type": "code",
      "metadata": {
        "id": "2eU8ik8aFgle",
        "colab_type": "code",
        "outputId": "91751fdb-e0a2-4e23-e2f6-18e9345c7cb5",
        "colab": {
          "base_uri": "https://localhost:8080/",
          "height": 232
        }
      },
      "source": [
        "#adding attribute\n",
        "item_metadata['FClickoutToClickout'] = FClickoutToClickout\n",
        "item_metadata.head(2)"
      ],
      "execution_count": 0,
      "outputs": [
        {
          "output_type": "execute_result",
          "data": {
            "text/html": [
              "<div>\n",
              "<style scoped>\n",
              "    .dataframe tbody tr th:only-of-type {\n",
              "        vertical-align: middle;\n",
              "    }\n",
              "\n",
              "    .dataframe tbody tr th {\n",
              "        vertical-align: top;\n",
              "    }\n",
              "\n",
              "    .dataframe thead th {\n",
              "        text-align: right;\n",
              "    }\n",
              "</style>\n",
              "<table border=\"1\" class=\"dataframe\">\n",
              "  <thead>\n",
              "    <tr style=\"text-align: right;\">\n",
              "      <th></th>\n",
              "      <th>item_id</th>\n",
              "      <th>properties</th>\n",
              "      <th>NumberOfProperties</th>\n",
              "      <th>NumberInImpressions</th>\n",
              "      <th>NumberInReferences</th>\n",
              "      <th>NumberAsClickout</th>\n",
              "      <th>NumberAsFinalClickout</th>\n",
              "      <th>FClickoutToImpressions</th>\n",
              "      <th>FClickoutToReferences</th>\n",
              "      <th>FClickoutToClickout</th>\n",
              "    </tr>\n",
              "  </thead>\n",
              "  <tbody>\n",
              "    <tr>\n",
              "      <th>0</th>\n",
              "      <td>5101</td>\n",
              "      <td>[Satellite TV, Golf Course, Airport Shuttle, C...</td>\n",
              "      <td>62</td>\n",
              "      <td>89.0</td>\n",
              "      <td>14.0</td>\n",
              "      <td>7.0</td>\n",
              "      <td>4.0</td>\n",
              "      <td>0.044944</td>\n",
              "      <td>0.285714</td>\n",
              "      <td>0.571429</td>\n",
              "    </tr>\n",
              "    <tr>\n",
              "      <th>1</th>\n",
              "      <td>5416</td>\n",
              "      <td>[Satellite TV, Cosmetic Mirror, Safe (Hotel), ...</td>\n",
              "      <td>46</td>\n",
              "      <td>63.0</td>\n",
              "      <td>43.0</td>\n",
              "      <td>6.0</td>\n",
              "      <td>2.0</td>\n",
              "      <td>0.031746</td>\n",
              "      <td>0.046512</td>\n",
              "      <td>0.333333</td>\n",
              "    </tr>\n",
              "  </tbody>\n",
              "</table>\n",
              "</div>"
            ],
            "text/plain": [
              "  item_id  ... FClickoutToClickout\n",
              "0    5101  ...            0.571429\n",
              "1    5416  ...            0.333333\n",
              "\n",
              "[2 rows x 10 columns]"
            ]
          },
          "metadata": {
            "tags": []
          },
          "execution_count": 21
        }
      ]
    },
    {
      "cell_type": "markdown",
      "metadata": {
        "id": "Yh-EGsV-Fgln",
        "colab_type": "text"
      },
      "source": [
        "### Item's Average Rank\n",
        "The purpose of this feature is to get item's position in the list provided to the user across the train set.  \n",
        "Since the purpose is to get the average rank across the lists shown to users, an important notice which is that some sessions have different reference and click outs, which provides the same impression list. Duplicated impressions lists in each session should be dropped. (Same thing applies to price as well.)"
      ]
    },
    {
      "cell_type": "code",
      "metadata": {
        "id": "YmoIpqsrFglp",
        "colab_type": "code",
        "outputId": "78f77824-93cf-4170-c02f-a1490f386445",
        "colab": {
          "base_uri": "https://localhost:8080/",
          "height": 115
        }
      },
      "source": [
        "# using All Clickout dataframe, but the one with the unique impressions for each session for this feature\n",
        "ClickoutUniqueDF.head(1)"
      ],
      "execution_count": 0,
      "outputs": [
        {
          "output_type": "execute_result",
          "data": {
            "text/html": [
              "<div>\n",
              "<style scoped>\n",
              "    .dataframe tbody tr th:only-of-type {\n",
              "        vertical-align: middle;\n",
              "    }\n",
              "\n",
              "    .dataframe tbody tr th {\n",
              "        vertical-align: top;\n",
              "    }\n",
              "\n",
              "    .dataframe thead th {\n",
              "        text-align: right;\n",
              "    }\n",
              "</style>\n",
              "<table border=\"1\" class=\"dataframe\">\n",
              "  <thead>\n",
              "    <tr style=\"text-align: right;\">\n",
              "      <th></th>\n",
              "      <th>user_id</th>\n",
              "      <th>session_id</th>\n",
              "      <th>timestamp</th>\n",
              "      <th>step</th>\n",
              "      <th>action_type</th>\n",
              "      <th>reference</th>\n",
              "      <th>platform</th>\n",
              "      <th>city</th>\n",
              "      <th>device</th>\n",
              "      <th>current_filters</th>\n",
              "      <th>impressions</th>\n",
              "      <th>prices</th>\n",
              "    </tr>\n",
              "  </thead>\n",
              "  <tbody>\n",
              "    <tr>\n",
              "      <th>13</th>\n",
              "      <td>00RL8Z82B2Z1</td>\n",
              "      <td>aff3928535f48</td>\n",
              "      <td>1541037543</td>\n",
              "      <td>14</td>\n",
              "      <td>clickout item</td>\n",
              "      <td>109038</td>\n",
              "      <td>AU</td>\n",
              "      <td>Sydney, Australia</td>\n",
              "      <td>mobile</td>\n",
              "      <td>NaN</td>\n",
              "      <td>3400638|1253714|3367857|5100540|1088584|666916...</td>\n",
              "      <td>95|66|501|112|95|100|101|72|82|56|56|143|70|25...</td>\n",
              "    </tr>\n",
              "  </tbody>\n",
              "</table>\n",
              "</div>"
            ],
            "text/plain": [
              "         user_id  ...                                             prices\n",
              "13  00RL8Z82B2Z1  ...  95|66|501|112|95|100|101|72|82|56|56|143|70|25...\n",
              "\n",
              "[1 rows x 12 columns]"
            ]
          },
          "metadata": {
            "tags": []
          },
          "execution_count": 7
        }
      ]
    },
    {
      "cell_type": "code",
      "metadata": {
        "id": "IHEIpKxHTKZL",
        "colab_type": "code",
        "outputId": "15b3517b-bc55-413b-bcd6-7f5443becf41",
        "colab": {
          "base_uri": "https://localhost:8080/",
          "height": 181
        }
      },
      "source": [
        "SessionImpressionsDF = ClickoutUniqueDF[['session_id', 'impressions']]\n",
        "SessionImpressionsDF.impressions = SessionImpressionsDF.impressions.apply(lambda x: x.split('|'))\n",
        "SessionImpressionsDF.impressions.head(2)"
      ],
      "execution_count": 0,
      "outputs": [
        {
          "output_type": "stream",
          "text": [
            "/usr/local/lib/python3.6/dist-packages/pandas/core/generic.py:5208: SettingWithCopyWarning: \n",
            "A value is trying to be set on a copy of a slice from a DataFrame.\n",
            "Try using .loc[row_indexer,col_indexer] = value instead\n",
            "\n",
            "See the caveats in the documentation: http://pandas.pydata.org/pandas-docs/stable/user_guide/indexing.html#returning-a-view-versus-a-copy\n",
            "  self[name] = value\n"
          ],
          "name": "stderr"
        },
        {
          "output_type": "execute_result",
          "data": {
            "text/plain": [
              "13    [3400638, 1253714, 3367857, 5100540, 1088584, ...\n",
              "15    [55109, 129343, 54824, 2297972, 109014, 125734...\n",
              "Name: impressions, dtype: object"
            ]
          },
          "metadata": {
            "tags": []
          },
          "execution_count": 22
        }
      ]
    },
    {
      "cell_type": "code",
      "metadata": {
        "id": "bDpKw30nosmQ",
        "colab_type": "code",
        "outputId": "99f95dd5-5fee-4da3-bfde-da7ca646c030",
        "colab": {
          "base_uri": "https://localhost:8080/",
          "height": 108
        }
      },
      "source": [
        "SessionImpressionsDF_exploded = SessionImpressionsDF.explode('impressions')\n",
        "SessionImpressionsDF_exploded = SessionImpressionsDF_exploded.rename(columns={'impressions':'item_id'})\n",
        "SessionImpressionsDF_exploded.head(2)"
      ],
      "execution_count": 0,
      "outputs": [
        {
          "output_type": "execute_result",
          "data": {
            "text/html": [
              "<div>\n",
              "<style scoped>\n",
              "    .dataframe tbody tr th:only-of-type {\n",
              "        vertical-align: middle;\n",
              "    }\n",
              "\n",
              "    .dataframe tbody tr th {\n",
              "        vertical-align: top;\n",
              "    }\n",
              "\n",
              "    .dataframe thead th {\n",
              "        text-align: right;\n",
              "    }\n",
              "</style>\n",
              "<table border=\"1\" class=\"dataframe\">\n",
              "  <thead>\n",
              "    <tr style=\"text-align: right;\">\n",
              "      <th></th>\n",
              "      <th>session_id</th>\n",
              "      <th>item_id</th>\n",
              "    </tr>\n",
              "  </thead>\n",
              "  <tbody>\n",
              "    <tr>\n",
              "      <th>13</th>\n",
              "      <td>aff3928535f48</td>\n",
              "      <td>3400638</td>\n",
              "    </tr>\n",
              "    <tr>\n",
              "      <th>13</th>\n",
              "      <td>aff3928535f48</td>\n",
              "      <td>1253714</td>\n",
              "    </tr>\n",
              "  </tbody>\n",
              "</table>\n",
              "</div>"
            ],
            "text/plain": [
              "       session_id  item_id\n",
              "13  aff3928535f48  3400638\n",
              "13  aff3928535f48  1253714"
            ]
          },
          "metadata": {
            "tags": []
          },
          "execution_count": 23
        }
      ]
    },
    {
      "cell_type": "code",
      "metadata": {
        "id": "IZuqLq_5pUA_",
        "colab_type": "code",
        "outputId": "b31c9198-a5eb-4cfd-8212-7a5fdbec402e",
        "colab": {
          "base_uri": "https://localhost:8080/",
          "height": 108
        }
      },
      "source": [
        "#creating a rank column\n",
        "rank = SessionImpressionsDF.impressions.apply(lambda x: list(range(1, (len(x) + 1))))\n",
        "SessionRankDF = pd.concat([SessionImpressionsDF.session_id, rank], axis=1)\n",
        "SessionRankDF = SessionRankDF.rename(columns={'impressions':'rank'})\n",
        "SessionRankDF_exploded = SessionRankDF.explode('rank')\n",
        "SessionRankDF_exploded.head(2)"
      ],
      "execution_count": 0,
      "outputs": [
        {
          "output_type": "execute_result",
          "data": {
            "text/html": [
              "<div>\n",
              "<style scoped>\n",
              "    .dataframe tbody tr th:only-of-type {\n",
              "        vertical-align: middle;\n",
              "    }\n",
              "\n",
              "    .dataframe tbody tr th {\n",
              "        vertical-align: top;\n",
              "    }\n",
              "\n",
              "    .dataframe thead th {\n",
              "        text-align: right;\n",
              "    }\n",
              "</style>\n",
              "<table border=\"1\" class=\"dataframe\">\n",
              "  <thead>\n",
              "    <tr style=\"text-align: right;\">\n",
              "      <th></th>\n",
              "      <th>session_id</th>\n",
              "      <th>rank</th>\n",
              "    </tr>\n",
              "  </thead>\n",
              "  <tbody>\n",
              "    <tr>\n",
              "      <th>13</th>\n",
              "      <td>aff3928535f48</td>\n",
              "      <td>1</td>\n",
              "    </tr>\n",
              "    <tr>\n",
              "      <th>13</th>\n",
              "      <td>aff3928535f48</td>\n",
              "      <td>2</td>\n",
              "    </tr>\n",
              "  </tbody>\n",
              "</table>\n",
              "</div>"
            ],
            "text/plain": [
              "       session_id rank\n",
              "13  aff3928535f48    1\n",
              "13  aff3928535f48    2"
            ]
          },
          "metadata": {
            "tags": []
          },
          "execution_count": 24
        }
      ]
    },
    {
      "cell_type": "code",
      "metadata": {
        "id": "Uynfac9SvYED",
        "colab_type": "code",
        "outputId": "312877cd-11a8-4cd9-a250-3911995a9703",
        "colab": {
          "base_uri": "https://localhost:8080/",
          "height": 108
        }
      },
      "source": [
        "#creating dataframe that combines both items and rank\n",
        "ItemRankDF = pd.DataFrame({'item_id':SessionImpressionsDF_exploded['item_id'].values.tolist(),\n",
        "                            'rank':SessionRankDF_exploded['rank'].values.tolist()})\n",
        "ItemRankDF.head(2)"
      ],
      "execution_count": 0,
      "outputs": [
        {
          "output_type": "execute_result",
          "data": {
            "text/html": [
              "<div>\n",
              "<style scoped>\n",
              "    .dataframe tbody tr th:only-of-type {\n",
              "        vertical-align: middle;\n",
              "    }\n",
              "\n",
              "    .dataframe tbody tr th {\n",
              "        vertical-align: top;\n",
              "    }\n",
              "\n",
              "    .dataframe thead th {\n",
              "        text-align: right;\n",
              "    }\n",
              "</style>\n",
              "<table border=\"1\" class=\"dataframe\">\n",
              "  <thead>\n",
              "    <tr style=\"text-align: right;\">\n",
              "      <th></th>\n",
              "      <th>item_id</th>\n",
              "      <th>rank</th>\n",
              "    </tr>\n",
              "  </thead>\n",
              "  <tbody>\n",
              "    <tr>\n",
              "      <th>0</th>\n",
              "      <td>3400638</td>\n",
              "      <td>1</td>\n",
              "    </tr>\n",
              "    <tr>\n",
              "      <th>1</th>\n",
              "      <td>1253714</td>\n",
              "      <td>2</td>\n",
              "    </tr>\n",
              "  </tbody>\n",
              "</table>\n",
              "</div>"
            ],
            "text/plain": [
              "   item_id  rank\n",
              "0  3400638     1\n",
              "1  1253714     2"
            ]
          },
          "metadata": {
            "tags": []
          },
          "execution_count": 25
        }
      ]
    },
    {
      "cell_type": "code",
      "metadata": {
        "id": "YMxa1LwPt5Xz",
        "colab_type": "code",
        "outputId": "d2d3faae-1085-443d-eba0-cb5003378de9",
        "colab": {
          "base_uri": "https://localhost:8080/",
          "height": 207
        }
      },
      "source": [
        "#getting the mean of ranks for each item\n",
        "ItemAverageRankRank = ItemRankDF.groupby('item_id', sort=False)['rank'].mean().to_frame().reset_index()\n",
        "ItemAverageRankRank = ItemAverageRank.rename(columns={'rank':'MeanRank'})\n",
        "ItemAverageRankRank.head(2)"
      ],
      "execution_count": 0,
      "outputs": [
        {
          "output_type": "error",
          "ename": "NameError",
          "evalue": "ignored",
          "traceback": [
            "\u001b[0;31m---------------------------------------------------------------------------\u001b[0m",
            "\u001b[0;31mNameError\u001b[0m                                 Traceback (most recent call last)",
            "\u001b[0;32m<ipython-input-26-33e5406d5075>\u001b[0m in \u001b[0;36m<module>\u001b[0;34m()\u001b[0m\n\u001b[1;32m      1\u001b[0m \u001b[0mItemAverageRankRank\u001b[0m \u001b[0;34m=\u001b[0m \u001b[0mItemRankDF\u001b[0m\u001b[0;34m.\u001b[0m\u001b[0mgroupby\u001b[0m\u001b[0;34m(\u001b[0m\u001b[0;34m'item_id'\u001b[0m\u001b[0;34m,\u001b[0m \u001b[0msort\u001b[0m\u001b[0;34m=\u001b[0m\u001b[0;32mFalse\u001b[0m\u001b[0;34m)\u001b[0m\u001b[0;34m[\u001b[0m\u001b[0;34m'rank'\u001b[0m\u001b[0;34m]\u001b[0m\u001b[0;34m.\u001b[0m\u001b[0mmean\u001b[0m\u001b[0;34m(\u001b[0m\u001b[0;34m)\u001b[0m\u001b[0;34m.\u001b[0m\u001b[0mto_frame\u001b[0m\u001b[0;34m(\u001b[0m\u001b[0;34m)\u001b[0m\u001b[0;34m.\u001b[0m\u001b[0mreset_index\u001b[0m\u001b[0;34m(\u001b[0m\u001b[0;34m)\u001b[0m\u001b[0;34m\u001b[0m\u001b[0;34m\u001b[0m\u001b[0m\n\u001b[0;32m----> 2\u001b[0;31m \u001b[0mItemAverageRankRank\u001b[0m \u001b[0;34m=\u001b[0m \u001b[0mItemAverageRank\u001b[0m\u001b[0;34m.\u001b[0m\u001b[0mrename\u001b[0m\u001b[0;34m(\u001b[0m\u001b[0mcolumns\u001b[0m\u001b[0;34m=\u001b[0m\u001b[0;34m{\u001b[0m\u001b[0;34m'rank'\u001b[0m\u001b[0;34m:\u001b[0m\u001b[0;34m'MeanRank'\u001b[0m\u001b[0;34m}\u001b[0m\u001b[0;34m)\u001b[0m\u001b[0;34m\u001b[0m\u001b[0;34m\u001b[0m\u001b[0m\n\u001b[0m\u001b[1;32m      3\u001b[0m \u001b[0mItemAverageRankRank\u001b[0m\u001b[0;34m.\u001b[0m\u001b[0mhead\u001b[0m\u001b[0;34m(\u001b[0m\u001b[0;36m2\u001b[0m\u001b[0;34m)\u001b[0m\u001b[0;34m\u001b[0m\u001b[0;34m\u001b[0m\u001b[0m\n",
            "\u001b[0;31mNameError\u001b[0m: name 'ItemAverageRank' is not defined"
          ]
        }
      ]
    },
    {
      "cell_type": "code",
      "metadata": {
        "id": "bSAFmNwzq8TT",
        "colab_type": "code",
        "colab": {}
      },
      "source": [
        "#left joining\n",
        "item_metadata = item_metadata.merge(ItemAverageRankRank, on='item_id', how='left')\n",
        "item_metadata.head(2)"
      ],
      "execution_count": 0,
      "outputs": []
    },
    {
      "cell_type": "markdown",
      "metadata": {
        "id": "YnQxWbO_FgmH",
        "colab_type": "text"
      },
      "source": [
        "### Item's Average Price\n",
        "The purpose of this feature is to get item's average price accross the train set.  \n",
        "Making sure that the length of each impressions list is as the same length of the prices list."
      ]
    },
    {
      "cell_type": "code",
      "metadata": {
        "id": "sGvOT_bVutyK",
        "colab_type": "code",
        "outputId": "e03a6986-e9a0-4619-b2ba-384bc01766df",
        "colab": {
          "base_uri": "https://localhost:8080/",
          "height": 35
        }
      },
      "source": [
        "ImpressionsLength = ClickoutUniqueDF.impressions.apply(lambda x: x.split('|')).apply(lambda x: len(x))\n",
        "PricesLength = ClickoutUniqueDF.prices.apply(lambda x: x.split('|')).apply(lambda x: len(x))\n",
        "ImpressionsLength.equals(PricesLength)"
      ],
      "execution_count": 0,
      "outputs": [
        {
          "output_type": "execute_result",
          "data": {
            "text/plain": [
              "True"
            ]
          },
          "metadata": {
            "tags": []
          },
          "execution_count": 54
        }
      ]
    },
    {
      "cell_type": "code",
      "metadata": {
        "id": "M2lacun2FgmJ",
        "colab_type": "code",
        "outputId": "77b217f1-e7a7-4ecc-c0fe-4c2cb0bbbf8d",
        "colab": {
          "base_uri": "https://localhost:8080/",
          "height": 217
        }
      },
      "source": [
        "SessionPricesDF = ClickoutUniqueDF[['session_id', 'prices']]\n",
        "SessionPricesDF.prices = SessionPricesDF.prices.apply(lambda x: x.split('|'))\n",
        "SessionPricesDF_exploded = SessionPricesDF.explode('prices')\n",
        "ItemPriceDF = pd.DataFrame({'item_id':SessionImpressionsDF_exploded.item_id.values.tolist(),\n",
        "                            'price':SessionPricesDF_exploded.prices.values.tolist()})\n",
        "ItemPriceDF.head(2)"
      ],
      "execution_count": 0,
      "outputs": [
        {
          "output_type": "stream",
          "text": [
            "/usr/local/lib/python3.6/dist-packages/pandas/core/generic.py:5208: SettingWithCopyWarning: \n",
            "A value is trying to be set on a copy of a slice from a DataFrame.\n",
            "Try using .loc[row_indexer,col_indexer] = value instead\n",
            "\n",
            "See the caveats in the documentation: http://pandas.pydata.org/pandas-docs/stable/user_guide/indexing.html#returning-a-view-versus-a-copy\n",
            "  self[name] = value\n"
          ],
          "name": "stderr"
        },
        {
          "output_type": "execute_result",
          "data": {
            "text/html": [
              "<div>\n",
              "<style scoped>\n",
              "    .dataframe tbody tr th:only-of-type {\n",
              "        vertical-align: middle;\n",
              "    }\n",
              "\n",
              "    .dataframe tbody tr th {\n",
              "        vertical-align: top;\n",
              "    }\n",
              "\n",
              "    .dataframe thead th {\n",
              "        text-align: right;\n",
              "    }\n",
              "</style>\n",
              "<table border=\"1\" class=\"dataframe\">\n",
              "  <thead>\n",
              "    <tr style=\"text-align: right;\">\n",
              "      <th></th>\n",
              "      <th>item_id</th>\n",
              "      <th>price</th>\n",
              "    </tr>\n",
              "  </thead>\n",
              "  <tbody>\n",
              "    <tr>\n",
              "      <th>0</th>\n",
              "      <td>3400638</td>\n",
              "      <td>95</td>\n",
              "    </tr>\n",
              "    <tr>\n",
              "      <th>1</th>\n",
              "      <td>1253714</td>\n",
              "      <td>66</td>\n",
              "    </tr>\n",
              "  </tbody>\n",
              "</table>\n",
              "</div>"
            ],
            "text/plain": [
              "   item_id price\n",
              "0  3400638    95\n",
              "1  1253714    66"
            ]
          },
          "metadata": {
            "tags": []
          },
          "execution_count": 27
        }
      ]
    },
    {
      "cell_type": "code",
      "metadata": {
        "id": "MNE730GV7jFJ",
        "colab_type": "code",
        "outputId": "aa91ee3d-d049-453d-b71e-8d9cd543f346",
        "colab": {
          "base_uri": "https://localhost:8080/",
          "height": 108
        }
      },
      "source": [
        "ItemPriceDF.price = ItemPriceDF.price.apply(lambda x: int(x))\n",
        "ItemAveragePriceDF = ItemPriceDF.groupby('item_id', sort=False)['price'].mean().to_frame().reset_index()\n",
        "ItemAveragePriceDF = ItemAveragePriceDF.rename(columns={'price':'MeanPrice'})\n",
        "ItemAveragePriceDF.head(2)"
      ],
      "execution_count": 0,
      "outputs": [
        {
          "output_type": "execute_result",
          "data": {
            "text/html": [
              "<div>\n",
              "<style scoped>\n",
              "    .dataframe tbody tr th:only-of-type {\n",
              "        vertical-align: middle;\n",
              "    }\n",
              "\n",
              "    .dataframe tbody tr th {\n",
              "        vertical-align: top;\n",
              "    }\n",
              "\n",
              "    .dataframe thead th {\n",
              "        text-align: right;\n",
              "    }\n",
              "</style>\n",
              "<table border=\"1\" class=\"dataframe\">\n",
              "  <thead>\n",
              "    <tr style=\"text-align: right;\">\n",
              "      <th></th>\n",
              "      <th>item_id</th>\n",
              "      <th>MeanPrice</th>\n",
              "    </tr>\n",
              "  </thead>\n",
              "  <tbody>\n",
              "    <tr>\n",
              "      <th>0</th>\n",
              "      <td>3400638</td>\n",
              "      <td>192.154786</td>\n",
              "    </tr>\n",
              "    <tr>\n",
              "      <th>1</th>\n",
              "      <td>1253714</td>\n",
              "      <td>82.678571</td>\n",
              "    </tr>\n",
              "  </tbody>\n",
              "</table>\n",
              "</div>"
            ],
            "text/plain": [
              "   item_id   MeanPrice\n",
              "0  3400638  192.154786\n",
              "1  1253714   82.678571"
            ]
          },
          "metadata": {
            "tags": []
          },
          "execution_count": 28
        }
      ]
    },
    {
      "cell_type": "code",
      "metadata": {
        "id": "fN4Heb10r7mU",
        "colab_type": "code",
        "outputId": "21978cf2-54f3-4ff1-acb8-f5171cad0496",
        "colab": {
          "base_uri": "https://localhost:8080/",
          "height": 232
        }
      },
      "source": [
        "item_metadata = item_metadata.merge(ItemAveragePriceDF, on='item_id', how='left')\n",
        "item_metadata.head(2)"
      ],
      "execution_count": 0,
      "outputs": [
        {
          "output_type": "execute_result",
          "data": {
            "text/html": [
              "<div>\n",
              "<style scoped>\n",
              "    .dataframe tbody tr th:only-of-type {\n",
              "        vertical-align: middle;\n",
              "    }\n",
              "\n",
              "    .dataframe tbody tr th {\n",
              "        vertical-align: top;\n",
              "    }\n",
              "\n",
              "    .dataframe thead th {\n",
              "        text-align: right;\n",
              "    }\n",
              "</style>\n",
              "<table border=\"1\" class=\"dataframe\">\n",
              "  <thead>\n",
              "    <tr style=\"text-align: right;\">\n",
              "      <th></th>\n",
              "      <th>item_id</th>\n",
              "      <th>properties</th>\n",
              "      <th>NumberOfProperties</th>\n",
              "      <th>NumberInImpressions</th>\n",
              "      <th>NumberInReferences</th>\n",
              "      <th>NumberAsClickout</th>\n",
              "      <th>NumberAsFinalClickout</th>\n",
              "      <th>FClickoutToImpressions</th>\n",
              "      <th>FClickoutToReferences</th>\n",
              "      <th>FClickoutToClickout</th>\n",
              "      <th>MeanPrice</th>\n",
              "    </tr>\n",
              "  </thead>\n",
              "  <tbody>\n",
              "    <tr>\n",
              "      <th>0</th>\n",
              "      <td>5101</td>\n",
              "      <td>[Satellite TV, Golf Course, Airport Shuttle, C...</td>\n",
              "      <td>62</td>\n",
              "      <td>89.0</td>\n",
              "      <td>14.0</td>\n",
              "      <td>7.0</td>\n",
              "      <td>4.0</td>\n",
              "      <td>0.044944</td>\n",
              "      <td>0.285714</td>\n",
              "      <td>0.571429</td>\n",
              "      <td>121.696629</td>\n",
              "    </tr>\n",
              "    <tr>\n",
              "      <th>1</th>\n",
              "      <td>5416</td>\n",
              "      <td>[Satellite TV, Cosmetic Mirror, Safe (Hotel), ...</td>\n",
              "      <td>46</td>\n",
              "      <td>63.0</td>\n",
              "      <td>43.0</td>\n",
              "      <td>6.0</td>\n",
              "      <td>2.0</td>\n",
              "      <td>0.031746</td>\n",
              "      <td>0.046512</td>\n",
              "      <td>0.333333</td>\n",
              "      <td>102.873016</td>\n",
              "    </tr>\n",
              "  </tbody>\n",
              "</table>\n",
              "</div>"
            ],
            "text/plain": [
              "  item_id  ...   MeanPrice\n",
              "0    5101  ...  121.696629\n",
              "1    5416  ...  102.873016\n",
              "\n",
              "[2 rows x 11 columns]"
            ]
          },
          "metadata": {
            "tags": []
          },
          "execution_count": 31
        }
      ]
    },
    {
      "cell_type": "markdown",
      "metadata": {
        "id": "yh3IoM-F9ajs",
        "colab_type": "text"
      },
      "source": [
        "### Price Rank\n",
        "The purpose of this feature is to get the average price rank of an item across the train set. Sorting the items not by what is being showed to the user, but by the items' prices, getting the average price rank for each item across the whole train. It shows where an item stands from its peers.  \n",
        "By using the argsort function, the price rank can be feature can be engineered."
      ]
    },
    {
      "cell_type": "code",
      "metadata": {
        "id": "DHCRq7taR5NL",
        "colab_type": "code",
        "outputId": "56338bed-cb4d-4168-ef3b-9057e1f1610b",
        "colab": {
          "base_uri": "https://localhost:8080/",
          "height": 35
        }
      },
      "source": [
        "ClickoutDF.prices[13]"
      ],
      "execution_count": 0,
      "outputs": [
        {
          "output_type": "execute_result",
          "data": {
            "text/plain": [
              "'95|66|501|112|95|100|101|72|82|56|56|143|70|25|71|162|73|143|188|118|77|131|143|49|165'"
            ]
          },
          "metadata": {
            "tags": []
          },
          "execution_count": 46
        }
      ]
    },
    {
      "cell_type": "code",
      "metadata": {
        "id": "ooGKQokEQou7",
        "colab_type": "code",
        "outputId": "59f06517-0b57-4cb6-d977-38aeda21a962",
        "colab": {
          "base_uri": "https://localhost:8080/",
          "height": 54
        }
      },
      "source": [
        "np.argsort(list(map(int, ClickoutDF.prices[13].split('|'))))"
      ],
      "execution_count": 0,
      "outputs": [
        {
          "output_type": "execute_result",
          "data": {
            "text/plain": [
              "array([13, 23,  9, 10,  1, 12, 14,  7, 16, 20,  8,  0,  4,  5,  6,  3, 19,\n",
              "       21, 17, 22, 11, 15, 24, 18,  2])"
            ]
          },
          "metadata": {
            "tags": []
          },
          "execution_count": 44
        }
      ]
    },
    {
      "cell_type": "code",
      "metadata": {
        "id": "QEELRtTeR97r",
        "colab_type": "code",
        "outputId": "ab896c99-c6cc-4f72-9384-19189bf3e706",
        "colab": {
          "base_uri": "https://localhost:8080/",
          "height": 217
        }
      },
      "source": [
        "SessionPricesDF['PriceRank'] = SessionPricesDF.prices.apply(lambda x: (list(map(int, x))))\\\n",
        "                                                     .apply(lambda x: np.argsort(x))\n",
        "SessionPricesDF.head(2)"
      ],
      "execution_count": 0,
      "outputs": [
        {
          "output_type": "stream",
          "text": [
            "/usr/local/lib/python3.6/dist-packages/ipykernel_launcher.py:1: SettingWithCopyWarning: \n",
            "A value is trying to be set on a copy of a slice from a DataFrame.\n",
            "Try using .loc[row_indexer,col_indexer] = value instead\n",
            "\n",
            "See the caveats in the documentation: http://pandas.pydata.org/pandas-docs/stable/user_guide/indexing.html#returning-a-view-versus-a-copy\n",
            "  \"\"\"Entry point for launching an IPython kernel.\n"
          ],
          "name": "stderr"
        },
        {
          "output_type": "execute_result",
          "data": {
            "text/html": [
              "<div>\n",
              "<style scoped>\n",
              "    .dataframe tbody tr th:only-of-type {\n",
              "        vertical-align: middle;\n",
              "    }\n",
              "\n",
              "    .dataframe tbody tr th {\n",
              "        vertical-align: top;\n",
              "    }\n",
              "\n",
              "    .dataframe thead th {\n",
              "        text-align: right;\n",
              "    }\n",
              "</style>\n",
              "<table border=\"1\" class=\"dataframe\">\n",
              "  <thead>\n",
              "    <tr style=\"text-align: right;\">\n",
              "      <th></th>\n",
              "      <th>session_id</th>\n",
              "      <th>prices</th>\n",
              "      <th>PriceRank</th>\n",
              "    </tr>\n",
              "  </thead>\n",
              "  <tbody>\n",
              "    <tr>\n",
              "      <th>13</th>\n",
              "      <td>aff3928535f48</td>\n",
              "      <td>[95, 66, 501, 112, 95, 100, 101, 72, 82, 56, 5...</td>\n",
              "      <td>[13, 23, 9, 10, 1, 12, 14, 7, 16, 20, 8, 0, 4,...</td>\n",
              "    </tr>\n",
              "    <tr>\n",
              "      <th>15</th>\n",
              "      <td>aff3928535f48</td>\n",
              "      <td>[162, 25, 150, 143, 101, 49, 118, 131, 18, 100...</td>\n",
              "      <td>[8, 1, 15, 5, 12, 16, 20, 9, 4, 10, 23, 24, 6,...</td>\n",
              "    </tr>\n",
              "  </tbody>\n",
              "</table>\n",
              "</div>"
            ],
            "text/plain": [
              "       session_id  ...                                          PriceRank\n",
              "13  aff3928535f48  ...  [13, 23, 9, 10, 1, 12, 14, 7, 16, 20, 8, 0, 4,...\n",
              "15  aff3928535f48  ...  [8, 1, 15, 5, 12, 16, 20, 9, 4, 10, 23, 24, 6,...\n",
              "\n",
              "[2 rows x 3 columns]"
            ]
          },
          "metadata": {
            "tags": []
          },
          "execution_count": 32
        }
      ]
    },
    {
      "cell_type": "code",
      "metadata": {
        "id": "6n1xgaMeUQAd",
        "colab_type": "code",
        "outputId": "810e1415-85a9-4af3-855d-dc548e8ab544",
        "colab": {
          "base_uri": "https://localhost:8080/",
          "height": 108
        }
      },
      "source": [
        "SessionPricesRankDF = SessionPricesDF[['session_id', 'PriceRank']].explode('PriceRank')\n",
        "SessionPricesRankDF.head(2)"
      ],
      "execution_count": 0,
      "outputs": [
        {
          "output_type": "execute_result",
          "data": {
            "text/html": [
              "<div>\n",
              "<style scoped>\n",
              "    .dataframe tbody tr th:only-of-type {\n",
              "        vertical-align: middle;\n",
              "    }\n",
              "\n",
              "    .dataframe tbody tr th {\n",
              "        vertical-align: top;\n",
              "    }\n",
              "\n",
              "    .dataframe thead th {\n",
              "        text-align: right;\n",
              "    }\n",
              "</style>\n",
              "<table border=\"1\" class=\"dataframe\">\n",
              "  <thead>\n",
              "    <tr style=\"text-align: right;\">\n",
              "      <th></th>\n",
              "      <th>session_id</th>\n",
              "      <th>PriceRank</th>\n",
              "    </tr>\n",
              "  </thead>\n",
              "  <tbody>\n",
              "    <tr>\n",
              "      <th>13</th>\n",
              "      <td>aff3928535f48</td>\n",
              "      <td>13</td>\n",
              "    </tr>\n",
              "    <tr>\n",
              "      <th>13</th>\n",
              "      <td>aff3928535f48</td>\n",
              "      <td>23</td>\n",
              "    </tr>\n",
              "  </tbody>\n",
              "</table>\n",
              "</div>"
            ],
            "text/plain": [
              "       session_id PriceRank\n",
              "13  aff3928535f48        13\n",
              "13  aff3928535f48        23"
            ]
          },
          "metadata": {
            "tags": []
          },
          "execution_count": 33
        }
      ]
    },
    {
      "cell_type": "code",
      "metadata": {
        "id": "B0LmDwFUV-g-",
        "colab_type": "code",
        "outputId": "e9112d5d-4205-4035-9b23-be82596cf536",
        "colab": {
          "base_uri": "https://localhost:8080/",
          "height": 108
        }
      },
      "source": [
        "ItemPriceRankDF = pd.DataFrame({'item_id':SessionImpressionsDF_exploded.item_id.values.tolist(),\n",
        "                            'PriceRank':SessionPricesRankDF.PriceRank.values.tolist()})\n",
        "ItemPriceRankDF.head(2)"
      ],
      "execution_count": 0,
      "outputs": [
        {
          "output_type": "execute_result",
          "data": {
            "text/html": [
              "<div>\n",
              "<style scoped>\n",
              "    .dataframe tbody tr th:only-of-type {\n",
              "        vertical-align: middle;\n",
              "    }\n",
              "\n",
              "    .dataframe tbody tr th {\n",
              "        vertical-align: top;\n",
              "    }\n",
              "\n",
              "    .dataframe thead th {\n",
              "        text-align: right;\n",
              "    }\n",
              "</style>\n",
              "<table border=\"1\" class=\"dataframe\">\n",
              "  <thead>\n",
              "    <tr style=\"text-align: right;\">\n",
              "      <th></th>\n",
              "      <th>item_id</th>\n",
              "      <th>PriceRank</th>\n",
              "    </tr>\n",
              "  </thead>\n",
              "  <tbody>\n",
              "    <tr>\n",
              "      <th>0</th>\n",
              "      <td>3400638</td>\n",
              "      <td>13</td>\n",
              "    </tr>\n",
              "    <tr>\n",
              "      <th>1</th>\n",
              "      <td>1253714</td>\n",
              "      <td>23</td>\n",
              "    </tr>\n",
              "  </tbody>\n",
              "</table>\n",
              "</div>"
            ],
            "text/plain": [
              "   item_id  PriceRank\n",
              "0  3400638         13\n",
              "1  1253714         23"
            ]
          },
          "metadata": {
            "tags": []
          },
          "execution_count": 34
        }
      ]
    },
    {
      "cell_type": "code",
      "metadata": {
        "id": "O-K_oWItNq7u",
        "colab_type": "code",
        "outputId": "84fd4fe4-1268-495d-b504-5a9cd32a14c9",
        "colab": {
          "base_uri": "https://localhost:8080/",
          "height": 108
        }
      },
      "source": [
        "#getting the average price rank of each item\n",
        "ItemAveragePriceRankDF = ItemPriceRankDF.groupby('item_id', sort=False).PriceRank.mean().to_frame().reset_index()\n",
        "ItemAveragePriceRankDF = ItemAveragePriceRankDF.rename(columns={'PriceRank':'AveragePriceRank'})\n",
        "ItemAveragePriceRankDF.head(2)"
      ],
      "execution_count": 0,
      "outputs": [
        {
          "output_type": "execute_result",
          "data": {
            "text/html": [
              "<div>\n",
              "<style scoped>\n",
              "    .dataframe tbody tr th:only-of-type {\n",
              "        vertical-align: middle;\n",
              "    }\n",
              "\n",
              "    .dataframe tbody tr th {\n",
              "        vertical-align: top;\n",
              "    }\n",
              "\n",
              "    .dataframe thead th {\n",
              "        text-align: right;\n",
              "    }\n",
              "</style>\n",
              "<table border=\"1\" class=\"dataframe\">\n",
              "  <thead>\n",
              "    <tr style=\"text-align: right;\">\n",
              "      <th></th>\n",
              "      <th>item_id</th>\n",
              "      <th>AveragePriceRank</th>\n",
              "    </tr>\n",
              "  </thead>\n",
              "  <tbody>\n",
              "    <tr>\n",
              "      <th>0</th>\n",
              "      <td>3400638</td>\n",
              "      <td>11.826884</td>\n",
              "    </tr>\n",
              "    <tr>\n",
              "      <th>1</th>\n",
              "      <td>1253714</td>\n",
              "      <td>11.309524</td>\n",
              "    </tr>\n",
              "  </tbody>\n",
              "</table>\n",
              "</div>"
            ],
            "text/plain": [
              "   item_id  AveragePriceRank\n",
              "0  3400638         11.826884\n",
              "1  1253714         11.309524"
            ]
          },
          "metadata": {
            "tags": []
          },
          "execution_count": 35
        }
      ]
    },
    {
      "cell_type": "code",
      "metadata": {
        "id": "Z5NotIQJtPsn",
        "colab_type": "code",
        "outputId": "a0177f4c-7799-4c66-aaa9-2f162a0f1282",
        "colab": {
          "base_uri": "https://localhost:8080/",
          "height": 232
        }
      },
      "source": [
        "# left joining\n",
        "item_metadata = item_metadata.merge(ItemAveragePriceRankDF, on='item_id', how='left')\n",
        "item_metadata.head(2)"
      ],
      "execution_count": 0,
      "outputs": [
        {
          "output_type": "execute_result",
          "data": {
            "text/html": [
              "<div>\n",
              "<style scoped>\n",
              "    .dataframe tbody tr th:only-of-type {\n",
              "        vertical-align: middle;\n",
              "    }\n",
              "\n",
              "    .dataframe tbody tr th {\n",
              "        vertical-align: top;\n",
              "    }\n",
              "\n",
              "    .dataframe thead th {\n",
              "        text-align: right;\n",
              "    }\n",
              "</style>\n",
              "<table border=\"1\" class=\"dataframe\">\n",
              "  <thead>\n",
              "    <tr style=\"text-align: right;\">\n",
              "      <th></th>\n",
              "      <th>item_id</th>\n",
              "      <th>properties</th>\n",
              "      <th>NumberOfProperties</th>\n",
              "      <th>NumberInImpressions</th>\n",
              "      <th>NumberInReferences</th>\n",
              "      <th>NumberAsClickout</th>\n",
              "      <th>NumberAsFinalClickout</th>\n",
              "      <th>FClickoutToImpressions</th>\n",
              "      <th>FClickoutToReferences</th>\n",
              "      <th>FClickoutToClickout</th>\n",
              "      <th>MeanPrice</th>\n",
              "      <th>AveragePriceRank</th>\n",
              "    </tr>\n",
              "  </thead>\n",
              "  <tbody>\n",
              "    <tr>\n",
              "      <th>0</th>\n",
              "      <td>5101</td>\n",
              "      <td>[Satellite TV, Golf Course, Airport Shuttle, C...</td>\n",
              "      <td>62</td>\n",
              "      <td>89.0</td>\n",
              "      <td>14.0</td>\n",
              "      <td>7.0</td>\n",
              "      <td>4.0</td>\n",
              "      <td>0.044944</td>\n",
              "      <td>0.285714</td>\n",
              "      <td>0.571429</td>\n",
              "      <td>121.696629</td>\n",
              "      <td>12.303371</td>\n",
              "    </tr>\n",
              "    <tr>\n",
              "      <th>1</th>\n",
              "      <td>5416</td>\n",
              "      <td>[Satellite TV, Cosmetic Mirror, Safe (Hotel), ...</td>\n",
              "      <td>46</td>\n",
              "      <td>63.0</td>\n",
              "      <td>43.0</td>\n",
              "      <td>6.0</td>\n",
              "      <td>2.0</td>\n",
              "      <td>0.031746</td>\n",
              "      <td>0.046512</td>\n",
              "      <td>0.333333</td>\n",
              "      <td>102.873016</td>\n",
              "      <td>11.095238</td>\n",
              "    </tr>\n",
              "  </tbody>\n",
              "</table>\n",
              "</div>"
            ],
            "text/plain": [
              "  item_id  ... AveragePriceRank\n",
              "0    5101  ...        12.303371\n",
              "1    5416  ...        11.095238\n",
              "\n",
              "[2 rows x 12 columns]"
            ]
          },
          "metadata": {
            "tags": []
          },
          "execution_count": 36
        }
      ]
    },
    {
      "cell_type": "code",
      "metadata": {
        "id": "8BnMPJ-pwdbZ",
        "colab_type": "code",
        "colab": {}
      },
      "source": [
        "#filling NaN values with zeros\n",
        "item_metadata = item_metadata.fillna(0)"
      ],
      "execution_count": 0,
      "outputs": []
    },
    {
      "cell_type": "markdown",
      "metadata": {
        "id": "jGnWrmY5wopE",
        "colab_type": "text"
      },
      "source": [
        "Unless similarity between items from properties, properties feature should be dropped. item_metada dataframe was converted to csv file and saved in the clean_data folder."
      ]
    },
    {
      "cell_type": "markdown",
      "metadata": {
        "id": "25qls0N8Fgmk",
        "colab_type": "text"
      },
      "source": [
        "## Item Local Features"
      ]
    },
    {
      "cell_type": "markdown",
      "metadata": {
        "id": "jwSZID8E_-OF",
        "colab_type": "text"
      },
      "source": [
        "### General Features"
      ]
    },
    {
      "cell_type": "code",
      "metadata": {
        "id": "SoQmAtN15eYl",
        "colab_type": "code",
        "colab": {
          "base_uri": "https://localhost:8080/",
          "height": 35
        },
        "outputId": "72e4aab7-65cd-4277-c00f-c5012f27f319"
      },
      "source": [
        "train.session_id.nunique()"
      ],
      "execution_count": 12,
      "outputs": [
        {
          "output_type": "execute_result",
          "data": {
            "text/plain": [
              "745755"
            ]
          },
          "metadata": {
            "tags": []
          },
          "execution_count": 12
        }
      ]
    },
    {
      "cell_type": "code",
      "metadata": {
        "id": "u9P2_UkX3bXZ",
        "colab_type": "code",
        "colab": {}
      },
      "source": [
        "# session_gb = train.groupby('session_id', sort=False)\n",
        "session = session_gb.get_group('aff3928535f48')\n",
        "session_exploded = session[session.action_type=='clickout item'].tail(1)[['impressions']]\n",
        "session_exploded.impressions = session_exploded.impressions.apply(lambda x: x.split('|'))\n",
        "session_exploded = session_exploded.explode('impressions')\n",
        "session_exploded = session_exploded.rename(columns={'impressions':'item_id'})\n",
        "session_exploded"
      ],
      "execution_count": 0,
      "outputs": []
    },
    {
      "cell_type": "code",
      "metadata": {
        "id": "vqEq14tW8ZC9",
        "colab_type": "code",
        "colab": {}
      },
      "source": [
        "session_explode = session[session.action_type=='clickout item'].tail(1)[['prices']]\n",
        "session_explode.prices = session_explode.prices.apply(lambda x: x.split('|'))\n",
        "session_explode = session_explode.explode('prices')\n",
        "session_explode = session_explode.rename(columns={'prices':'price'})\n",
        "session_explode.price = session_explode.price.apply(lambda x: int(x))\n",
        "session_explode.head(2)"
      ],
      "execution_count": 0,
      "outputs": []
    },
    {
      "cell_type": "code",
      "metadata": {
        "id": "m9tdkUau85ko",
        "colab_type": "code",
        "colab": {}
      },
      "source": [
        "session_exploded['price'] = session_explode.price\n",
        "session_exploded['rank'] = range(1, len(session_exploded) + 1)\n",
        "session_exploded['price_rank'] = np.argsort(session_exploded['price'])\n",
        "session_exploded.head(2)"
      ],
      "execution_count": 0,
      "outputs": []
    },
    {
      "cell_type": "code",
      "metadata": {
        "id": "JGJiG3enF3XA",
        "colab_type": "code",
        "colab": {
          "base_uri": "https://localhost:8080/",
          "height": 258
        },
        "outputId": "1f7552a4-a91f-4215-d423-18cab1438956"
      },
      "source": [
        "clickout_item_id = session[session.action_type=='clickout item'].tail(1)['reference'].values[0]\n",
        "clickout_itemDF = pd.DataFrame({'item_id':[clickout_item_id], 'clickout':[1]})\n",
        "session_exploded = session_exploded.merge(clickout_itemDF, on='item_id', how='left').fillna(0)\n",
        "session_exploded.head(7)"
      ],
      "execution_count": 98,
      "outputs": [
        {
          "output_type": "execute_result",
          "data": {
            "text/html": [
              "<div>\n",
              "<style scoped>\n",
              "    .dataframe tbody tr th:only-of-type {\n",
              "        vertical-align: middle;\n",
              "    }\n",
              "\n",
              "    .dataframe tbody tr th {\n",
              "        vertical-align: top;\n",
              "    }\n",
              "\n",
              "    .dataframe thead th {\n",
              "        text-align: right;\n",
              "    }\n",
              "</style>\n",
              "<table border=\"1\" class=\"dataframe\">\n",
              "  <thead>\n",
              "    <tr style=\"text-align: right;\">\n",
              "      <th></th>\n",
              "      <th>item_id</th>\n",
              "      <th>price</th>\n",
              "      <th>rank</th>\n",
              "      <th>price_rank</th>\n",
              "      <th>clickout</th>\n",
              "    </tr>\n",
              "  </thead>\n",
              "  <tbody>\n",
              "    <tr>\n",
              "      <th>0</th>\n",
              "      <td>55109</td>\n",
              "      <td>162</td>\n",
              "      <td>1</td>\n",
              "      <td>8</td>\n",
              "      <td>0.0</td>\n",
              "    </tr>\n",
              "    <tr>\n",
              "      <th>1</th>\n",
              "      <td>129343</td>\n",
              "      <td>25</td>\n",
              "      <td>2</td>\n",
              "      <td>1</td>\n",
              "      <td>0.0</td>\n",
              "    </tr>\n",
              "    <tr>\n",
              "      <th>2</th>\n",
              "      <td>54824</td>\n",
              "      <td>150</td>\n",
              "      <td>3</td>\n",
              "      <td>15</td>\n",
              "      <td>0.0</td>\n",
              "    </tr>\n",
              "    <tr>\n",
              "      <th>3</th>\n",
              "      <td>2297972</td>\n",
              "      <td>143</td>\n",
              "      <td>4</td>\n",
              "      <td>5</td>\n",
              "      <td>0.0</td>\n",
              "    </tr>\n",
              "    <tr>\n",
              "      <th>4</th>\n",
              "      <td>109014</td>\n",
              "      <td>101</td>\n",
              "      <td>5</td>\n",
              "      <td>12</td>\n",
              "      <td>0.0</td>\n",
              "    </tr>\n",
              "    <tr>\n",
              "      <th>5</th>\n",
              "      <td>1257342</td>\n",
              "      <td>49</td>\n",
              "      <td>6</td>\n",
              "      <td>16</td>\n",
              "      <td>1.0</td>\n",
              "    </tr>\n",
              "    <tr>\n",
              "      <th>6</th>\n",
              "      <td>1031578</td>\n",
              "      <td>118</td>\n",
              "      <td>7</td>\n",
              "      <td>20</td>\n",
              "      <td>0.0</td>\n",
              "    </tr>\n",
              "  </tbody>\n",
              "</table>\n",
              "</div>"
            ],
            "text/plain": [
              "   item_id  price  rank  price_rank  clickout\n",
              "0    55109    162     1           8       0.0\n",
              "1   129343     25     2           1       0.0\n",
              "2    54824    150     3          15       0.0\n",
              "3  2297972    143     4           5       0.0\n",
              "4   109014    101     5          12       0.0\n",
              "5  1257342     49     6          16       1.0\n",
              "6  1031578    118     7          20       0.0"
            ]
          },
          "metadata": {
            "tags": []
          },
          "execution_count": 98
        }
      ]
    },
    {
      "cell_type": "markdown",
      "metadata": {
        "id": "qN984W6FJQz_",
        "colab_type": "text"
      },
      "source": [
        "The next step would be getting the duration of the whole session, so that we can get the duration for each item in the session."
      ]
    },
    {
      "cell_type": "code",
      "metadata": {
        "id": "WMKoKa6BHANe",
        "colab_type": "code",
        "colab": {
          "base_uri": "https://localhost:8080/",
          "height": 825
        },
        "outputId": "8782ca5f-0205-4cdd-aab9-899db04247c4"
      },
      "source": [
        "session.timestamp.max() - session.t"
      ],
      "execution_count": 99,
      "outputs": [
        {
          "output_type": "execute_result",
          "data": {
            "text/html": [
              "<div>\n",
              "<style scoped>\n",
              "    .dataframe tbody tr th:only-of-type {\n",
              "        vertical-align: middle;\n",
              "    }\n",
              "\n",
              "    .dataframe tbody tr th {\n",
              "        vertical-align: top;\n",
              "    }\n",
              "\n",
              "    .dataframe thead th {\n",
              "        text-align: right;\n",
              "    }\n",
              "</style>\n",
              "<table border=\"1\" class=\"dataframe\">\n",
              "  <thead>\n",
              "    <tr style=\"text-align: right;\">\n",
              "      <th></th>\n",
              "      <th>user_id</th>\n",
              "      <th>session_id</th>\n",
              "      <th>timestamp</th>\n",
              "      <th>step</th>\n",
              "      <th>action_type</th>\n",
              "      <th>reference</th>\n",
              "      <th>platform</th>\n",
              "      <th>city</th>\n",
              "      <th>device</th>\n",
              "      <th>current_filters</th>\n",
              "      <th>impressions</th>\n",
              "      <th>prices</th>\n",
              "    </tr>\n",
              "  </thead>\n",
              "  <tbody>\n",
              "    <tr>\n",
              "      <th>0</th>\n",
              "      <td>00RL8Z82B2Z1</td>\n",
              "      <td>aff3928535f48</td>\n",
              "      <td>1541037460</td>\n",
              "      <td>1</td>\n",
              "      <td>search for poi</td>\n",
              "      <td>Newtown</td>\n",
              "      <td>AU</td>\n",
              "      <td>Sydney, Australia</td>\n",
              "      <td>mobile</td>\n",
              "      <td>NaN</td>\n",
              "      <td>NaN</td>\n",
              "      <td>NaN</td>\n",
              "    </tr>\n",
              "    <tr>\n",
              "      <th>1</th>\n",
              "      <td>00RL8Z82B2Z1</td>\n",
              "      <td>aff3928535f48</td>\n",
              "      <td>1541037522</td>\n",
              "      <td>2</td>\n",
              "      <td>interaction item image</td>\n",
              "      <td>666856</td>\n",
              "      <td>AU</td>\n",
              "      <td>Sydney, Australia</td>\n",
              "      <td>mobile</td>\n",
              "      <td>NaN</td>\n",
              "      <td>NaN</td>\n",
              "      <td>NaN</td>\n",
              "    </tr>\n",
              "    <tr>\n",
              "      <th>2</th>\n",
              "      <td>00RL8Z82B2Z1</td>\n",
              "      <td>aff3928535f48</td>\n",
              "      <td>1541037522</td>\n",
              "      <td>3</td>\n",
              "      <td>interaction item image</td>\n",
              "      <td>666856</td>\n",
              "      <td>AU</td>\n",
              "      <td>Sydney, Australia</td>\n",
              "      <td>mobile</td>\n",
              "      <td>NaN</td>\n",
              "      <td>NaN</td>\n",
              "      <td>NaN</td>\n",
              "    </tr>\n",
              "    <tr>\n",
              "      <th>3</th>\n",
              "      <td>00RL8Z82B2Z1</td>\n",
              "      <td>aff3928535f48</td>\n",
              "      <td>1541037532</td>\n",
              "      <td>4</td>\n",
              "      <td>interaction item image</td>\n",
              "      <td>666856</td>\n",
              "      <td>AU</td>\n",
              "      <td>Sydney, Australia</td>\n",
              "      <td>mobile</td>\n",
              "      <td>NaN</td>\n",
              "      <td>NaN</td>\n",
              "      <td>NaN</td>\n",
              "    </tr>\n",
              "    <tr>\n",
              "      <th>4</th>\n",
              "      <td>00RL8Z82B2Z1</td>\n",
              "      <td>aff3928535f48</td>\n",
              "      <td>1541037532</td>\n",
              "      <td>5</td>\n",
              "      <td>interaction item image</td>\n",
              "      <td>109038</td>\n",
              "      <td>AU</td>\n",
              "      <td>Sydney, Australia</td>\n",
              "      <td>mobile</td>\n",
              "      <td>NaN</td>\n",
              "      <td>NaN</td>\n",
              "      <td>NaN</td>\n",
              "    </tr>\n",
              "    <tr>\n",
              "      <th>5</th>\n",
              "      <td>00RL8Z82B2Z1</td>\n",
              "      <td>aff3928535f48</td>\n",
              "      <td>1541037532</td>\n",
              "      <td>6</td>\n",
              "      <td>interaction item image</td>\n",
              "      <td>666856</td>\n",
              "      <td>AU</td>\n",
              "      <td>Sydney, Australia</td>\n",
              "      <td>mobile</td>\n",
              "      <td>NaN</td>\n",
              "      <td>NaN</td>\n",
              "      <td>NaN</td>\n",
              "    </tr>\n",
              "    <tr>\n",
              "      <th>6</th>\n",
              "      <td>00RL8Z82B2Z1</td>\n",
              "      <td>aff3928535f48</td>\n",
              "      <td>1541037532</td>\n",
              "      <td>7</td>\n",
              "      <td>interaction item image</td>\n",
              "      <td>109038</td>\n",
              "      <td>AU</td>\n",
              "      <td>Sydney, Australia</td>\n",
              "      <td>mobile</td>\n",
              "      <td>NaN</td>\n",
              "      <td>NaN</td>\n",
              "      <td>NaN</td>\n",
              "    </tr>\n",
              "    <tr>\n",
              "      <th>7</th>\n",
              "      <td>00RL8Z82B2Z1</td>\n",
              "      <td>aff3928535f48</td>\n",
              "      <td>1541037532</td>\n",
              "      <td>8</td>\n",
              "      <td>interaction item image</td>\n",
              "      <td>666856</td>\n",
              "      <td>AU</td>\n",
              "      <td>Sydney, Australia</td>\n",
              "      <td>mobile</td>\n",
              "      <td>NaN</td>\n",
              "      <td>NaN</td>\n",
              "      <td>NaN</td>\n",
              "    </tr>\n",
              "    <tr>\n",
              "      <th>8</th>\n",
              "      <td>00RL8Z82B2Z1</td>\n",
              "      <td>aff3928535f48</td>\n",
              "      <td>1541037542</td>\n",
              "      <td>9</td>\n",
              "      <td>interaction item image</td>\n",
              "      <td>109038</td>\n",
              "      <td>AU</td>\n",
              "      <td>Sydney, Australia</td>\n",
              "      <td>mobile</td>\n",
              "      <td>NaN</td>\n",
              "      <td>NaN</td>\n",
              "      <td>NaN</td>\n",
              "    </tr>\n",
              "    <tr>\n",
              "      <th>9</th>\n",
              "      <td>00RL8Z82B2Z1</td>\n",
              "      <td>aff3928535f48</td>\n",
              "      <td>1541037542</td>\n",
              "      <td>10</td>\n",
              "      <td>interaction item image</td>\n",
              "      <td>109038</td>\n",
              "      <td>AU</td>\n",
              "      <td>Sydney, Australia</td>\n",
              "      <td>mobile</td>\n",
              "      <td>NaN</td>\n",
              "      <td>NaN</td>\n",
              "      <td>NaN</td>\n",
              "    </tr>\n",
              "    <tr>\n",
              "      <th>10</th>\n",
              "      <td>00RL8Z82B2Z1</td>\n",
              "      <td>aff3928535f48</td>\n",
              "      <td>1541037542</td>\n",
              "      <td>11</td>\n",
              "      <td>interaction item image</td>\n",
              "      <td>109038</td>\n",
              "      <td>AU</td>\n",
              "      <td>Sydney, Australia</td>\n",
              "      <td>mobile</td>\n",
              "      <td>NaN</td>\n",
              "      <td>NaN</td>\n",
              "      <td>NaN</td>\n",
              "    </tr>\n",
              "    <tr>\n",
              "      <th>11</th>\n",
              "      <td>00RL8Z82B2Z1</td>\n",
              "      <td>aff3928535f48</td>\n",
              "      <td>1541037542</td>\n",
              "      <td>12</td>\n",
              "      <td>interaction item image</td>\n",
              "      <td>109038</td>\n",
              "      <td>AU</td>\n",
              "      <td>Sydney, Australia</td>\n",
              "      <td>mobile</td>\n",
              "      <td>NaN</td>\n",
              "      <td>NaN</td>\n",
              "      <td>NaN</td>\n",
              "    </tr>\n",
              "    <tr>\n",
              "      <th>12</th>\n",
              "      <td>00RL8Z82B2Z1</td>\n",
              "      <td>aff3928535f48</td>\n",
              "      <td>1541037542</td>\n",
              "      <td>13</td>\n",
              "      <td>interaction item image</td>\n",
              "      <td>109038</td>\n",
              "      <td>AU</td>\n",
              "      <td>Sydney, Australia</td>\n",
              "      <td>mobile</td>\n",
              "      <td>NaN</td>\n",
              "      <td>NaN</td>\n",
              "      <td>NaN</td>\n",
              "    </tr>\n",
              "    <tr>\n",
              "      <th>13</th>\n",
              "      <td>00RL8Z82B2Z1</td>\n",
              "      <td>aff3928535f48</td>\n",
              "      <td>1541037543</td>\n",
              "      <td>14</td>\n",
              "      <td>clickout item</td>\n",
              "      <td>109038</td>\n",
              "      <td>AU</td>\n",
              "      <td>Sydney, Australia</td>\n",
              "      <td>mobile</td>\n",
              "      <td>NaN</td>\n",
              "      <td>3400638|1253714|3367857|5100540|1088584|666916...</td>\n",
              "      <td>95|66|501|112|95|100|101|72|82|56|56|143|70|25...</td>\n",
              "    </tr>\n",
              "    <tr>\n",
              "      <th>14</th>\n",
              "      <td>00RL8Z82B2Z1</td>\n",
              "      <td>aff3928535f48</td>\n",
              "      <td>1541038469</td>\n",
              "      <td>15</td>\n",
              "      <td>search for poi</td>\n",
              "      <td>Surry Hills</td>\n",
              "      <td>AU</td>\n",
              "      <td>Sydney, Australia</td>\n",
              "      <td>mobile</td>\n",
              "      <td>NaN</td>\n",
              "      <td>NaN</td>\n",
              "      <td>NaN</td>\n",
              "    </tr>\n",
              "    <tr>\n",
              "      <th>15</th>\n",
              "      <td>00RL8Z82B2Z1</td>\n",
              "      <td>aff3928535f48</td>\n",
              "      <td>1541038485</td>\n",
              "      <td>16</td>\n",
              "      <td>clickout item</td>\n",
              "      <td>1257342</td>\n",
              "      <td>AU</td>\n",
              "      <td>Sydney, Australia</td>\n",
              "      <td>mobile</td>\n",
              "      <td>NaN</td>\n",
              "      <td>55109|129343|54824|2297972|109014|1257342|1031...</td>\n",
              "      <td>162|25|150|143|101|49|118|131|18|100|101|143|5...</td>\n",
              "    </tr>\n",
              "  </tbody>\n",
              "</table>\n",
              "</div>"
            ],
            "text/plain": [
              "         user_id  ...                                             prices\n",
              "0   00RL8Z82B2Z1  ...                                                NaN\n",
              "1   00RL8Z82B2Z1  ...                                                NaN\n",
              "2   00RL8Z82B2Z1  ...                                                NaN\n",
              "3   00RL8Z82B2Z1  ...                                                NaN\n",
              "4   00RL8Z82B2Z1  ...                                                NaN\n",
              "5   00RL8Z82B2Z1  ...                                                NaN\n",
              "6   00RL8Z82B2Z1  ...                                                NaN\n",
              "7   00RL8Z82B2Z1  ...                                                NaN\n",
              "8   00RL8Z82B2Z1  ...                                                NaN\n",
              "9   00RL8Z82B2Z1  ...                                                NaN\n",
              "10  00RL8Z82B2Z1  ...                                                NaN\n",
              "11  00RL8Z82B2Z1  ...                                                NaN\n",
              "12  00RL8Z82B2Z1  ...                                                NaN\n",
              "13  00RL8Z82B2Z1  ...  95|66|501|112|95|100|101|72|82|56|56|143|70|25...\n",
              "14  00RL8Z82B2Z1  ...                                                NaN\n",
              "15  00RL8Z82B2Z1  ...  162|25|150|143|101|49|118|131|18|100|101|143|5...\n",
              "\n",
              "[16 rows x 12 columns]"
            ]
          },
          "metadata": {
            "tags": []
          },
          "execution_count": 99
        }
      ]
    },
    {
      "cell_type": "code",
      "metadata": {
        "id": "1JDRSlZOGdAK",
        "colab_type": "code",
        "colab": {
          "base_uri": "https://localhost:8080/",
          "height": 78
        },
        "outputId": "939f56ca-c7a6-4d08-e18f-d335f2cd29ac"
      },
      "source": [
        "pd.DataFrame({'item_id':[clickout_item_id], 'clickout':[1]})"
      ],
      "execution_count": 91,
      "outputs": [
        {
          "output_type": "execute_result",
          "data": {
            "text/html": [
              "<div>\n",
              "<style scoped>\n",
              "    .dataframe tbody tr th:only-of-type {\n",
              "        vertical-align: middle;\n",
              "    }\n",
              "\n",
              "    .dataframe tbody tr th {\n",
              "        vertical-align: top;\n",
              "    }\n",
              "\n",
              "    .dataframe thead th {\n",
              "        text-align: right;\n",
              "    }\n",
              "</style>\n",
              "<table border=\"1\" class=\"dataframe\">\n",
              "  <thead>\n",
              "    <tr style=\"text-align: right;\">\n",
              "      <th></th>\n",
              "      <th>item_id</th>\n",
              "      <th>clickout</th>\n",
              "    </tr>\n",
              "  </thead>\n",
              "  <tbody>\n",
              "    <tr>\n",
              "      <th>0</th>\n",
              "      <td>1257342</td>\n",
              "      <td>1</td>\n",
              "    </tr>\n",
              "  </tbody>\n",
              "</table>\n",
              "</div>"
            ],
            "text/plain": [
              "   item_id  clickout\n",
              "0  1257342         1"
            ]
          },
          "metadata": {
            "tags": []
          },
          "execution_count": 91
        }
      ]
    },
    {
      "cell_type": "code",
      "metadata": {
        "id": "msqnjIb1ELVb",
        "colab_type": "code",
        "colab": {
          "base_uri": "https://localhost:8080/",
          "height": 35
        },
        "outputId": "d663ed41-2246-4f8c-efcb-2145494bab11"
      },
      "source": [
        "clickout_item = dict({session[session.action_type=='clickout item'].tail(1)['reference'].values[0]:1})"
      ],
      "execution_count": 84,
      "outputs": [
        {
          "output_type": "execute_result",
          "data": {
            "text/plain": [
              "'1257342'"
            ]
          },
          "metadata": {
            "tags": []
          },
          "execution_count": 84
        }
      ]
    },
    {
      "cell_type": "code",
      "metadata": {
        "id": "ObE1FFcQFpeJ",
        "colab_type": "code",
        "colab": {
          "base_uri": "https://localhost:8080/",
          "height": 798
        },
        "outputId": "904ccabd-5fd6-40eb-e638-e38df1043a7d"
      },
      "source": [
        "session_exploded"
      ],
      "execution_count": 85,
      "outputs": [
        {
          "output_type": "execute_result",
          "data": {
            "text/html": [
              "<div>\n",
              "<style scoped>\n",
              "    .dataframe tbody tr th:only-of-type {\n",
              "        vertical-align: middle;\n",
              "    }\n",
              "\n",
              "    .dataframe tbody tr th {\n",
              "        vertical-align: top;\n",
              "    }\n",
              "\n",
              "    .dataframe thead th {\n",
              "        text-align: right;\n",
              "    }\n",
              "</style>\n",
              "<table border=\"1\" class=\"dataframe\">\n",
              "  <thead>\n",
              "    <tr style=\"text-align: right;\">\n",
              "      <th></th>\n",
              "      <th>item_id</th>\n",
              "      <th>price</th>\n",
              "      <th>rank</th>\n",
              "      <th>price_rank</th>\n",
              "    </tr>\n",
              "  </thead>\n",
              "  <tbody>\n",
              "    <tr>\n",
              "      <th>15</th>\n",
              "      <td>55109</td>\n",
              "      <td>162</td>\n",
              "      <td>1</td>\n",
              "      <td>8</td>\n",
              "    </tr>\n",
              "    <tr>\n",
              "      <th>15</th>\n",
              "      <td>129343</td>\n",
              "      <td>25</td>\n",
              "      <td>2</td>\n",
              "      <td>1</td>\n",
              "    </tr>\n",
              "    <tr>\n",
              "      <th>15</th>\n",
              "      <td>54824</td>\n",
              "      <td>150</td>\n",
              "      <td>3</td>\n",
              "      <td>15</td>\n",
              "    </tr>\n",
              "    <tr>\n",
              "      <th>15</th>\n",
              "      <td>2297972</td>\n",
              "      <td>143</td>\n",
              "      <td>4</td>\n",
              "      <td>5</td>\n",
              "    </tr>\n",
              "    <tr>\n",
              "      <th>15</th>\n",
              "      <td>109014</td>\n",
              "      <td>101</td>\n",
              "      <td>5</td>\n",
              "      <td>12</td>\n",
              "    </tr>\n",
              "    <tr>\n",
              "      <th>15</th>\n",
              "      <td>1257342</td>\n",
              "      <td>49</td>\n",
              "      <td>6</td>\n",
              "      <td>16</td>\n",
              "    </tr>\n",
              "    <tr>\n",
              "      <th>15</th>\n",
              "      <td>1031578</td>\n",
              "      <td>118</td>\n",
              "      <td>7</td>\n",
              "      <td>20</td>\n",
              "    </tr>\n",
              "    <tr>\n",
              "      <th>15</th>\n",
              "      <td>109018</td>\n",
              "      <td>131</td>\n",
              "      <td>8</td>\n",
              "      <td>9</td>\n",
              "    </tr>\n",
              "    <tr>\n",
              "      <th>15</th>\n",
              "      <td>1332971</td>\n",
              "      <td>18</td>\n",
              "      <td>9</td>\n",
              "      <td>4</td>\n",
              "    </tr>\n",
              "    <tr>\n",
              "      <th>15</th>\n",
              "      <td>666916</td>\n",
              "      <td>100</td>\n",
              "      <td>10</td>\n",
              "      <td>10</td>\n",
              "    </tr>\n",
              "    <tr>\n",
              "      <th>15</th>\n",
              "      <td>54833</td>\n",
              "      <td>101</td>\n",
              "      <td>11</td>\n",
              "      <td>23</td>\n",
              "    </tr>\n",
              "    <tr>\n",
              "      <th>15</th>\n",
              "      <td>54885</td>\n",
              "      <td>143</td>\n",
              "      <td>12</td>\n",
              "      <td>24</td>\n",
              "    </tr>\n",
              "    <tr>\n",
              "      <th>15</th>\n",
              "      <td>2237222</td>\n",
              "      <td>51</td>\n",
              "      <td>13</td>\n",
              "      <td>6</td>\n",
              "    </tr>\n",
              "    <tr>\n",
              "      <th>15</th>\n",
              "      <td>10077318</td>\n",
              "      <td>143</td>\n",
              "      <td>14</td>\n",
              "      <td>14</td>\n",
              "    </tr>\n",
              "    <tr>\n",
              "      <th>15</th>\n",
              "      <td>1166793</td>\n",
              "      <td>123</td>\n",
              "      <td>15</td>\n",
              "      <td>18</td>\n",
              "    </tr>\n",
              "    <tr>\n",
              "      <th>15</th>\n",
              "      <td>9132132</td>\n",
              "      <td>36</td>\n",
              "      <td>16</td>\n",
              "      <td>7</td>\n",
              "    </tr>\n",
              "    <tr>\n",
              "      <th>15</th>\n",
              "      <td>1474297</td>\n",
              "      <td>66</td>\n",
              "      <td>17</td>\n",
              "      <td>21</td>\n",
              "    </tr>\n",
              "    <tr>\n",
              "      <th>15</th>\n",
              "      <td>3909420</td>\n",
              "      <td>188</td>\n",
              "      <td>18</td>\n",
              "      <td>19</td>\n",
              "    </tr>\n",
              "    <tr>\n",
              "      <th>15</th>\n",
              "      <td>6622154</td>\n",
              "      <td>124</td>\n",
              "      <td>19</td>\n",
              "      <td>13</td>\n",
              "    </tr>\n",
              "    <tr>\n",
              "      <th>15</th>\n",
              "      <td>55091</td>\n",
              "      <td>138</td>\n",
              "      <td>20</td>\n",
              "      <td>3</td>\n",
              "    </tr>\n",
              "    <tr>\n",
              "      <th>15</th>\n",
              "      <td>8444418</td>\n",
              "      <td>94</td>\n",
              "      <td>21</td>\n",
              "      <td>11</td>\n",
              "    </tr>\n",
              "    <tr>\n",
              "      <th>15</th>\n",
              "      <td>54804</td>\n",
              "      <td>137</td>\n",
              "      <td>22</td>\n",
              "      <td>2</td>\n",
              "    </tr>\n",
              "    <tr>\n",
              "      <th>15</th>\n",
              "      <td>2050977</td>\n",
              "      <td>180</td>\n",
              "      <td>23</td>\n",
              "      <td>0</td>\n",
              "    </tr>\n",
              "    <tr>\n",
              "      <th>15</th>\n",
              "      <td>666936</td>\n",
              "      <td>112</td>\n",
              "      <td>24</td>\n",
              "      <td>22</td>\n",
              "    </tr>\n",
              "    <tr>\n",
              "      <th>15</th>\n",
              "      <td>55088</td>\n",
              "      <td>118</td>\n",
              "      <td>25</td>\n",
              "      <td>17</td>\n",
              "    </tr>\n",
              "  </tbody>\n",
              "</table>\n",
              "</div>"
            ],
            "text/plain": [
              "     item_id  price  rank  price_rank\n",
              "15     55109    162     1           8\n",
              "15    129343     25     2           1\n",
              "15     54824    150     3          15\n",
              "15   2297972    143     4           5\n",
              "15    109014    101     5          12\n",
              "15   1257342     49     6          16\n",
              "15   1031578    118     7          20\n",
              "15    109018    131     8           9\n",
              "15   1332971     18     9           4\n",
              "15    666916    100    10          10\n",
              "15     54833    101    11          23\n",
              "15     54885    143    12          24\n",
              "15   2237222     51    13           6\n",
              "15  10077318    143    14          14\n",
              "15   1166793    123    15          18\n",
              "15   9132132     36    16           7\n",
              "15   1474297     66    17          21\n",
              "15   3909420    188    18          19\n",
              "15   6622154    124    19          13\n",
              "15     55091    138    20           3\n",
              "15   8444418     94    21          11\n",
              "15     54804    137    22           2\n",
              "15   2050977    180    23           0\n",
              "15    666936    112    24          22\n",
              "15     55088    118    25          17"
            ]
          },
          "metadata": {
            "tags": []
          },
          "execution_count": 85
        }
      ]
    },
    {
      "cell_type": "code",
      "metadata": {
        "id": "E8aSeD1iCg-G",
        "colab_type": "code",
        "colab": {
          "base_uri": "https://localhost:8080/",
          "height": 472
        },
        "outputId": "a670f59e-4e5b-4bf3-afb0-a8770f2cc8f5"
      },
      "source": [
        "session_explode['prices'].apply(lambda x: sorted(x))[15]"
      ],
      "execution_count": 58,
      "outputs": [
        {
          "output_type": "execute_result",
          "data": {
            "text/plain": [
              "['100',\n",
              " '101',\n",
              " '101',\n",
              " '112',\n",
              " '118',\n",
              " '118',\n",
              " '123',\n",
              " '124',\n",
              " '131',\n",
              " '137',\n",
              " '138',\n",
              " '143',\n",
              " '143',\n",
              " '143',\n",
              " '150',\n",
              " '162',\n",
              " '18',\n",
              " '180',\n",
              " '188',\n",
              " '25',\n",
              " '36',\n",
              " '49',\n",
              " '51',\n",
              " '66',\n",
              " '94']"
            ]
          },
          "metadata": {
            "tags": []
          },
          "execution_count": 58
        }
      ]
    },
    {
      "cell_type": "code",
      "metadata": {
        "id": "qgwv8GA9CVGM",
        "colab_type": "code",
        "colab": {
          "base_uri": "https://localhost:8080/",
          "height": 798
        },
        "outputId": "ca563ede-672e-41f5-ccd5-13c01339f3f5"
      },
      "source": [
        "session_explode.explode('price_rank')"
      ],
      "execution_count": 56,
      "outputs": [
        {
          "output_type": "execute_result",
          "data": {
            "text/html": [
              "<div>\n",
              "<style scoped>\n",
              "    .dataframe tbody tr th:only-of-type {\n",
              "        vertical-align: middle;\n",
              "    }\n",
              "\n",
              "    .dataframe tbody tr th {\n",
              "        vertical-align: top;\n",
              "    }\n",
              "\n",
              "    .dataframe thead th {\n",
              "        text-align: right;\n",
              "    }\n",
              "</style>\n",
              "<table border=\"1\" class=\"dataframe\">\n",
              "  <thead>\n",
              "    <tr style=\"text-align: right;\">\n",
              "      <th></th>\n",
              "      <th>prices</th>\n",
              "      <th>price_rank</th>\n",
              "    </tr>\n",
              "  </thead>\n",
              "  <tbody>\n",
              "    <tr>\n",
              "      <th>15</th>\n",
              "      <td>[162, 25, 150, 143, 101, 49, 118, 131, 18, 100...</td>\n",
              "      <td>9</td>\n",
              "    </tr>\n",
              "    <tr>\n",
              "      <th>15</th>\n",
              "      <td>[162, 25, 150, 143, 101, 49, 118, 131, 18, 100...</td>\n",
              "      <td>4</td>\n",
              "    </tr>\n",
              "    <tr>\n",
              "      <th>15</th>\n",
              "      <td>[162, 25, 150, 143, 101, 49, 118, 131, 18, 100...</td>\n",
              "      <td>10</td>\n",
              "    </tr>\n",
              "    <tr>\n",
              "      <th>15</th>\n",
              "      <td>[162, 25, 150, 143, 101, 49, 118, 131, 18, 100...</td>\n",
              "      <td>23</td>\n",
              "    </tr>\n",
              "    <tr>\n",
              "      <th>15</th>\n",
              "      <td>[162, 25, 150, 143, 101, 49, 118, 131, 18, 100...</td>\n",
              "      <td>24</td>\n",
              "    </tr>\n",
              "    <tr>\n",
              "      <th>15</th>\n",
              "      <td>[162, 25, 150, 143, 101, 49, 118, 131, 18, 100...</td>\n",
              "      <td>6</td>\n",
              "    </tr>\n",
              "    <tr>\n",
              "      <th>15</th>\n",
              "      <td>[162, 25, 150, 143, 101, 49, 118, 131, 18, 100...</td>\n",
              "      <td>14</td>\n",
              "    </tr>\n",
              "    <tr>\n",
              "      <th>15</th>\n",
              "      <td>[162, 25, 150, 143, 101, 49, 118, 131, 18, 100...</td>\n",
              "      <td>18</td>\n",
              "    </tr>\n",
              "    <tr>\n",
              "      <th>15</th>\n",
              "      <td>[162, 25, 150, 143, 101, 49, 118, 131, 18, 100...</td>\n",
              "      <td>7</td>\n",
              "    </tr>\n",
              "    <tr>\n",
              "      <th>15</th>\n",
              "      <td>[162, 25, 150, 143, 101, 49, 118, 131, 18, 100...</td>\n",
              "      <td>21</td>\n",
              "    </tr>\n",
              "    <tr>\n",
              "      <th>15</th>\n",
              "      <td>[162, 25, 150, 143, 101, 49, 118, 131, 18, 100...</td>\n",
              "      <td>19</td>\n",
              "    </tr>\n",
              "    <tr>\n",
              "      <th>15</th>\n",
              "      <td>[162, 25, 150, 143, 101, 49, 118, 131, 18, 100...</td>\n",
              "      <td>3</td>\n",
              "    </tr>\n",
              "    <tr>\n",
              "      <th>15</th>\n",
              "      <td>[162, 25, 150, 143, 101, 49, 118, 131, 18, 100...</td>\n",
              "      <td>11</td>\n",
              "    </tr>\n",
              "    <tr>\n",
              "      <th>15</th>\n",
              "      <td>[162, 25, 150, 143, 101, 49, 118, 131, 18, 100...</td>\n",
              "      <td>13</td>\n",
              "    </tr>\n",
              "    <tr>\n",
              "      <th>15</th>\n",
              "      <td>[162, 25, 150, 143, 101, 49, 118, 131, 18, 100...</td>\n",
              "      <td>2</td>\n",
              "    </tr>\n",
              "    <tr>\n",
              "      <th>15</th>\n",
              "      <td>[162, 25, 150, 143, 101, 49, 118, 131, 18, 100...</td>\n",
              "      <td>0</td>\n",
              "    </tr>\n",
              "    <tr>\n",
              "      <th>15</th>\n",
              "      <td>[162, 25, 150, 143, 101, 49, 118, 131, 18, 100...</td>\n",
              "      <td>8</td>\n",
              "    </tr>\n",
              "    <tr>\n",
              "      <th>15</th>\n",
              "      <td>[162, 25, 150, 143, 101, 49, 118, 131, 18, 100...</td>\n",
              "      <td>22</td>\n",
              "    </tr>\n",
              "    <tr>\n",
              "      <th>15</th>\n",
              "      <td>[162, 25, 150, 143, 101, 49, 118, 131, 18, 100...</td>\n",
              "      <td>17</td>\n",
              "    </tr>\n",
              "    <tr>\n",
              "      <th>15</th>\n",
              "      <td>[162, 25, 150, 143, 101, 49, 118, 131, 18, 100...</td>\n",
              "      <td>1</td>\n",
              "    </tr>\n",
              "    <tr>\n",
              "      <th>15</th>\n",
              "      <td>[162, 25, 150, 143, 101, 49, 118, 131, 18, 100...</td>\n",
              "      <td>15</td>\n",
              "    </tr>\n",
              "    <tr>\n",
              "      <th>15</th>\n",
              "      <td>[162, 25, 150, 143, 101, 49, 118, 131, 18, 100...</td>\n",
              "      <td>5</td>\n",
              "    </tr>\n",
              "    <tr>\n",
              "      <th>15</th>\n",
              "      <td>[162, 25, 150, 143, 101, 49, 118, 131, 18, 100...</td>\n",
              "      <td>12</td>\n",
              "    </tr>\n",
              "    <tr>\n",
              "      <th>15</th>\n",
              "      <td>[162, 25, 150, 143, 101, 49, 118, 131, 18, 100...</td>\n",
              "      <td>16</td>\n",
              "    </tr>\n",
              "    <tr>\n",
              "      <th>15</th>\n",
              "      <td>[162, 25, 150, 143, 101, 49, 118, 131, 18, 100...</td>\n",
              "      <td>20</td>\n",
              "    </tr>\n",
              "  </tbody>\n",
              "</table>\n",
              "</div>"
            ],
            "text/plain": [
              "                                               prices price_rank\n",
              "15  [162, 25, 150, 143, 101, 49, 118, 131, 18, 100...          9\n",
              "15  [162, 25, 150, 143, 101, 49, 118, 131, 18, 100...          4\n",
              "15  [162, 25, 150, 143, 101, 49, 118, 131, 18, 100...         10\n",
              "15  [162, 25, 150, 143, 101, 49, 118, 131, 18, 100...         23\n",
              "15  [162, 25, 150, 143, 101, 49, 118, 131, 18, 100...         24\n",
              "15  [162, 25, 150, 143, 101, 49, 118, 131, 18, 100...          6\n",
              "15  [162, 25, 150, 143, 101, 49, 118, 131, 18, 100...         14\n",
              "15  [162, 25, 150, 143, 101, 49, 118, 131, 18, 100...         18\n",
              "15  [162, 25, 150, 143, 101, 49, 118, 131, 18, 100...          7\n",
              "15  [162, 25, 150, 143, 101, 49, 118, 131, 18, 100...         21\n",
              "15  [162, 25, 150, 143, 101, 49, 118, 131, 18, 100...         19\n",
              "15  [162, 25, 150, 143, 101, 49, 118, 131, 18, 100...          3\n",
              "15  [162, 25, 150, 143, 101, 49, 118, 131, 18, 100...         11\n",
              "15  [162, 25, 150, 143, 101, 49, 118, 131, 18, 100...         13\n",
              "15  [162, 25, 150, 143, 101, 49, 118, 131, 18, 100...          2\n",
              "15  [162, 25, 150, 143, 101, 49, 118, 131, 18, 100...          0\n",
              "15  [162, 25, 150, 143, 101, 49, 118, 131, 18, 100...          8\n",
              "15  [162, 25, 150, 143, 101, 49, 118, 131, 18, 100...         22\n",
              "15  [162, 25, 150, 143, 101, 49, 118, 131, 18, 100...         17\n",
              "15  [162, 25, 150, 143, 101, 49, 118, 131, 18, 100...          1\n",
              "15  [162, 25, 150, 143, 101, 49, 118, 131, 18, 100...         15\n",
              "15  [162, 25, 150, 143, 101, 49, 118, 131, 18, 100...          5\n",
              "15  [162, 25, 150, 143, 101, 49, 118, 131, 18, 100...         12\n",
              "15  [162, 25, 150, 143, 101, 49, 118, 131, 18, 100...         16\n",
              "15  [162, 25, 150, 143, 101, 49, 118, 131, 18, 100...         20"
            ]
          },
          "metadata": {
            "tags": []
          },
          "execution_count": 56
        }
      ]
    },
    {
      "cell_type": "markdown",
      "metadata": {
        "id": "bIifGEnkFgmm",
        "colab_type": "text"
      },
      "source": [
        "###Items Interacted With & Number of Interactions"
      ]
    },
    {
      "cell_type": "code",
      "metadata": {
        "id": "RaFaM3q_yQra",
        "colab_type": "code",
        "colab": {}
      },
      "source": [
        "session_trial = train[train.session_id=='aff3928535f48']\n",
        "l = session_trial[session_trial.action_type=='clickout item'].tail(1).impressions.apply(lambda x: x.split('|')).explode()"
      ],
      "execution_count": 0,
      "outputs": []
    },
    {
      "cell_type": "code",
      "metadata": {
        "id": "BuPOEXdPzlrO",
        "colab_type": "code",
        "outputId": "5878038c-781b-4aaa-bf39-45ce185ee7c0",
        "colab": {
          "base_uri": "https://localhost:8080/",
          "height": 326
        }
      },
      "source": [
        "train[train.session_id=='aff3928535f48'].reference.isin(l)"
      ],
      "execution_count": 0,
      "outputs": [
        {
          "output_type": "execute_result",
          "data": {
            "text/plain": [
              "0     False\n",
              "1     False\n",
              "2     False\n",
              "3     False\n",
              "4     False\n",
              "5     False\n",
              "6     False\n",
              "7     False\n",
              "8     False\n",
              "9     False\n",
              "10    False\n",
              "11    False\n",
              "12    False\n",
              "13    False\n",
              "14    False\n",
              "15     True\n",
              "Name: reference, dtype: bool"
            ]
          },
          "metadata": {
            "tags": []
          },
          "execution_count": 56
        }
      ]
    },
    {
      "cell_type": "code",
      "metadata": {
        "id": "K0fFF7SV1ykJ",
        "colab_type": "code",
        "colab": {}
      },
      "source": [
        ""
      ],
      "execution_count": 0,
      "outputs": []
    },
    {
      "cell_type": "code",
      "metadata": {
        "id": "eMo3pY4LFgmQ",
        "colab_type": "code",
        "colab": {}
      },
      "source": [
        "#loading train set\n",
        "ReferenceTrain = pd.read_csv('/content/drive/My Drive/Trivago/Clean Dataset/train.csv')\n",
        "ReferenceTrain = ReferenceTrain.drop(columns='Unnamed: 0')\n",
        "\n",
        "#converting words values in referenc into NaN\n",
        "ReferenceTrain.reference = ReferenceTrain.reference.apply(lambda x: pd.to_numeric(x, errors='coerce')).dropna().astype(int).apply(lambda x: str(x))\n",
        "\n",
        "#dropping NaN in reference\n",
        "ReferenceTrain = ReferenceTrain.drop(ReferenceTrain[ReferenceTrain.reference.isna()].index.tolist())\n",
        "\n",
        "#what I meant by the previous step\n",
        "train.reference, ReferenceTrain.reference"
      ],
      "execution_count": 0,
      "outputs": []
    },
    {
      "cell_type": "code",
      "metadata": {
        "id": "hBKD85KMFgmX",
        "colab_type": "code",
        "colab": {}
      },
      "source": [
        "ReferenceTimeSpent = (ReferenceTrain.groupby(['session_id', 'reference']).timestamp.max() \n",
        "                      - ReferenceTrain.groupby(['session_id', 'reference']).timestamp.min())\n",
        "ReferenceTimeSpent"
      ],
      "execution_count": 0,
      "outputs": []
    },
    {
      "cell_type": "code",
      "metadata": {
        "id": "8UW7wePMFgme",
        "colab_type": "code",
        "colab": {}
      },
      "source": [
        "ReferenceTrain.to_csv('train_ref.csv')                  #DO NOT RUN BEFORE INVESTIGATING FOR THE BEST PRACTICES\n",
        "!cp train_ref.csv '/content/drive/My Drive/Trivago/Clean Dataset/'"
      ],
      "execution_count": 0,
      "outputs": []
    },
    {
      "cell_type": "markdown",
      "metadata": {
        "id": "mdnX4ZYPFgmo",
        "colab_type": "text"
      },
      "source": [
        "Taking a sample of the training set to perform trials"
      ]
    },
    {
      "cell_type": "code",
      "metadata": {
        "id": "7nt5b5MVFgmq",
        "colab_type": "code",
        "colab": {}
      },
      "source": [
        "trainlet = train.iloc[0:10000]\n",
        "\n",
        "#getting session_id with no clickouts\n",
        "session_idNoClickouts = list(set(trainlet.session_id.unique()) - set(trainlet[trainlet.action_type == 'clickout item'].session_id.unique()))\n",
        "\n",
        "#dropping sessions with no clickouts\n",
        "trainlet = trainlet[~trainlet.session_id.isin(session_idNoClickouts)].drop(columns='Unnamed: 0')\n",
        "\n",
        "#will be working on a grouped by sample, having the count of steps for each reference got interacted with\n",
        "trainlet1 = trainlet.groupby(['session_id', 'reference'], sort=False).step.count().to_frame()\n",
        "\n",
        "#converting an session_id as index into a column\n",
        "trainlet1.reset_index(level=0, inplace=True)\n",
        "\n",
        "#converting an reference as index into a column\n",
        "trainlet1.reset_index(level=0, inplace=True)\n",
        "\n",
        "#changing order of columns\n",
        "trainlet1 = trainlet1[['session_id', 'reference','step']]\n",
        "\n",
        "#takng a look\n",
        "trainlet1.reference.head(10)"
      ],
      "execution_count": 0,
      "outputs": []
    },
    {
      "cell_type": "code",
      "metadata": {
        "id": "56dECI6DFgm1",
        "colab_type": "code",
        "colab": {}
      },
      "source": [
        "#converting alphabetic values in reference attribute into NaN by converting all values into numeric, then again converting values into string\n",
        "trainlet1.reference = trainlet1.reference.apply(lambda x: pd.to_numeric(x, errors='coerce')).dropna().astype(int).apply(lambda x: str(x))\n",
        "\n",
        "#taking a look\n",
        "trainlet1.reference.head(10)"
      ],
      "execution_count": 0,
      "outputs": []
    },
    {
      "cell_type": "code",
      "metadata": {
        "id": "Dov1tG2kFgm-",
        "colab_type": "code",
        "colab": {}
      },
      "source": [
        "#for the sake of comparison creating another version of trainlet by repeating the previous steps\n",
        "trainlet0 = trainlet.groupby(['session_id', 'reference'], sort=False).step.count().to_frame()\n",
        "trainlet0.reset_index(level=0, inplace=True)\n",
        "trainlet0.reset_index(level=0, inplace=True)\n",
        "trainlet0 = trainlet0[['session_id', 'reference','step']]\n",
        "\n",
        "#taking a look\n",
        "trainlet0"
      ],
      "execution_count": 0,
      "outputs": []
    },
    {
      "cell_type": "code",
      "metadata": {
        "id": "Q4PmpWqoFgnD",
        "colab_type": "code",
        "colab": {}
      },
      "source": [
        "#changing the name of attribute step into NumberOfInteractions\n",
        "trainlet0 = trainlet0.rename(columns = {'step':'NumberOfInteractions'})\n",
        "trainlet1 = trainlet1.rename(columns = {'step':'NumberOfInteractions'})\n",
        "\n",
        "#taking a look\n",
        "trainlet1"
      ],
      "execution_count": 0,
      "outputs": []
    },
    {
      "cell_type": "code",
      "metadata": {
        "id": "r-781fUOFgnI",
        "colab_type": "code",
        "colab": {}
      },
      "source": [
        "#for future use before dropping the NaN values, getting the indeces of the word values in reference attribute\n",
        "#getting the index of words values in reference attribute\n",
        "WordsInReferenceIndex = list(pd.isnull(trainlet1).any(1).nonzero())[0].tolist()\n",
        "\n",
        "#getting reference with words dataframe\n",
        "ReferenceWordsDF = trainlet0.iloc[WordsInReferenceIndex, :]  #for future**"
      ],
      "execution_count": 0,
      "outputs": []
    },
    {
      "cell_type": "code",
      "metadata": {
        "id": "gfMUcdj8FgnX",
        "colab_type": "code",
        "colab": {}
      },
      "source": [
        "#dropping NaN values(rows)\n",
        "trainlet1 = trainlet1.dropna()\n",
        "\n",
        "#taking a look\n",
        "trainlet1"
      ],
      "execution_count": 0,
      "outputs": []
    },
    {
      "cell_type": "code",
      "metadata": {
        "id": "l2PfIW5pFgnf",
        "colab_type": "code",
        "colab": {}
      },
      "source": [
        "#getting reference and Number of interactions lists\n",
        "InteractedWithItems = trainlet1.groupby('session_id', sort=False)['reference'].apply(list)\n",
        "NumberOfInteractions = trainlet1.groupby('session_id', sort=False)['NumberOfInteractions'].apply(list)\n",
        "\n",
        "#taking a look\n",
        "InteractedWithItems, NumberOfInteractions"
      ],
      "execution_count": 0,
      "outputs": []
    },
    {
      "cell_type": "code",
      "metadata": {
        "id": "sqwy_m9fFgnn",
        "colab_type": "code",
        "colab": {}
      },
      "source": [
        "#converting series into lists\n",
        "InteractedWithItems = InteractedWithItems.tolist()\n",
        "NumberOfInteractions = NumberOfInteractions.tolist()"
      ],
      "execution_count": 0,
      "outputs": []
    },
    {
      "cell_type": "markdown",
      "metadata": {
        "id": "TGS_WCcoFgns",
        "colab_type": "text"
      },
      "source": [
        "Adding the two attributes to trainlet"
      ]
    },
    {
      "cell_type": "code",
      "metadata": {
        "id": "itQadgjrFgnu",
        "colab_type": "code",
        "colab": {}
      },
      "source": [
        "#getting a list of indeces InteractedWithItems and NumberOfInteractions should be left joined to\n",
        "FinalClickoutIndex = trainlet[trainlet.action_type=='clickout item'].groupby('session_id').tail(1).index.tolist()\n",
        "\n",
        "#creating InteractedWithItems dataframe\n",
        "InteractedWithItemsDF = pd.DataFrame({'FinalClickoutIndex':FinalClickoutIndex, 'InteractedWitItems':InteractedWithItems,\n",
        "                                      'NumberOfInteractions':NumberOfInteractions}).set_index('FinalClickoutIndex')\n",
        "\n",
        "#left join on dataset\n",
        "trainlet = trainlet.join(InteractedWithItemsDF)\n",
        "trainlet"
      ],
      "execution_count": 0,
      "outputs": []
    },
    {
      "cell_type": "markdown",
      "metadata": {
        "id": "yxdRVfECFgn0",
        "colab_type": "text"
      },
      "source": [
        "###Time Spent"
      ]
    },
    {
      "cell_type": "markdown",
      "metadata": {
        "id": "EDhWpPMkFgn2",
        "colab_type": "text"
      },
      "source": [
        "Creating a time spent attribute for each reference within a session."
      ]
    },
    {
      "cell_type": "code",
      "metadata": {
        "id": "-nqvMGVRFgn3",
        "colab_type": "code",
        "colab": {}
      },
      "source": [
        "#This should be a seperate function\n",
        "\n",
        "#getting session_id with no clickouts\n",
        "session_idNoClickouts = list(set(trainlet.session_id.unique()) - set(trainlet[trainlet.action_type == 'clickout item'].session_id.unique()))\n",
        "\n",
        "#dropping sessions with no clickouts\n",
        "trainlet = trainlet[~trainlet.session_id.isin(session_idNoClickouts)].drop(columns='Unnamed: 0')\n",
        "\n",
        "#obtaining the seconds spent on a reference by subtracting the time started viewing the item till the time of last interaction with the item\n",
        "time_spent = trainlet.groupby(['session_id', 'reference'], sort=False).timestamp.apply(lambda x:(x.max() - x.min())).to_frame()\n",
        "\n",
        "#converting an session_id as index into a column\n",
        "time_spent.reset_index(level=0, inplace=True)\n",
        "\n",
        "#converting an reference as index into a column\n",
        "time_spent.reset_index(level=0, inplace=True)\n",
        "\n",
        "#changing order of columns\n",
        "time_spent = time_spent[['session_id', 'reference','timestamp']]\n",
        "\n",
        "#changing the timestamp into SecondsSpent\n",
        "time_spent = time_spent.rename(columns = {'timestamp':'SecondsSpent'})\n",
        "\n",
        "#converting alphabetic values in reference attribute into NaN by converting all values into numeric, then again converting values into string\n",
        "time_spent.reference = time_spent.reference.apply(lambda x: pd.to_numeric(x, errors='coerce')).dropna().astype(int).apply(lambda x: str(x))\n",
        "\n",
        "#dropping NaN values(rows)\n",
        "time_spent = time_spent.dropna()\n",
        "\n",
        "#getting time spent of interactions lists\n",
        "SecondsSpent = time_spent.groupby('session_id', sort=False)['SecondsSpent'].apply(list)\n",
        "\n",
        "#converting into list\n",
        "SecondsSpent = SecondsSpent.tolist()\n",
        "\n",
        "#getting a list of indeces SecondsSpent to be left joined\n",
        "FinalClickoutIndex = trainlet[trainlet.action_type=='clickout item'].groupby('session_id').tail(1).index.tolist()\n",
        "\n",
        "#creating Seconds dataframe\n",
        "SecondsSpentDF = pd.DataFrame({'FinalClickoutIndex':FinalClickoutIndex, 'SecondsSpent':SecondsSpent}).set_index('FinalClickoutIndex')\n",
        "\n",
        "#left join on dataset\n",
        "trainlet = trainlet.join(SecondsSpentDF)\n",
        "trainlet"
      ],
      "execution_count": 0,
      "outputs": []
    },
    {
      "cell_type": "code",
      "metadata": {
        "id": "erR0HMspFgn9",
        "colab_type": "code",
        "colab": {}
      },
      "source": [
        "time_spent.groupby('session_id', sort=False)['SecondsSpent'].apply(list)"
      ],
      "execution_count": 0,
      "outputs": []
    },
    {
      "cell_type": "code",
      "metadata": {
        "id": "prVNR-dVFgoD",
        "colab_type": "code",
        "colab": {}
      },
      "source": [
        "SecondsSpent = time_spent.groupby('session_id', sort=False)['SecondsSpent'].apply(list)"
      ],
      "execution_count": 0,
      "outputs": []
    },
    {
      "cell_type": "code",
      "metadata": {
        "id": "zKy7tnFRFgoL",
        "colab_type": "code",
        "colab": {}
      },
      "source": [
        "#creating a function\n",
        "def SecondsSpent(dataset):\n",
        "  #getting session_id with no clickouts\n",
        "  session_idNoClickouts = list(set(dataset.session_id.unique()) - set(dataset[dataset.action_type == 'clickout item'].session_id.unique()))\n",
        "\n",
        "  #dropping sessions with no clickouts\n",
        "  dataset = dataset[~dataset.session_id.isin(session_idNoClickouts)].drop(columns='Unnamed: 0')\n",
        "\n",
        "  #obtaining the seconds spent on a reference by subtracting the time started viewing the item till the time of last interaction with the item\n",
        "  time_spent = dataset.groupby(['session_id', 'reference'], sort=False).timestamp.apply(lambda x:(x.max() - x.min())).to_frame()\n",
        "\n",
        "  #converting an session_id as index into a column\n",
        "  time_spent.reset_index(level=0, inplace=True)\n",
        "\n",
        "  #converting an reference as index into a column\n",
        "  time_spent.reset_index(level=0, inplace=True)\n",
        "\n",
        "  #changing order of columns\n",
        "  time_spent = time_spent[['session_id', 'reference','timestamp']]\n",
        "\n",
        "  #changing the timestamp into SecondsSpent\n",
        "  time_spent = time_spent.rename(columns = {'timestamp':'SecondsSpent'})\n",
        "\n",
        "  #converting alphabetic values in reference attribute into NaN by converting all values into numeric, then again converting values into string\n",
        "  time_spent.reference = time_spent.reference.apply(lambda x: pd.to_numeric(x, errors='coerce')).dropna().astype(int).apply(lambda x: str(x))\n",
        "\n",
        "  #dropping NaN values(rows)\n",
        "  time_spent = time_spent.dropna()\n",
        "\n",
        "  #getting time spent of interactions lists\n",
        "  SecondsSpent = time_spent.groupby('session_id', sort=False)['SecondsSpent'].apply(list)\n",
        "\n",
        "  #converting into list\n",
        "  SecondsSpent = SecondsSpent.tolist()\n",
        "\n",
        "  #getting a list of indeces SecondsSpent to be left joined\n",
        "  FinalClickoutIndex = dataset[dataset.action_type=='clickout item'].groupby('session_id').tail(1).index.tolist()\n",
        "\n",
        "  #creating Seconds dataframe\n",
        "  SecondsSpentDF = pd.DataFrame({'FinalClickoutIndex':FinalClickoutIndex, 'SecondsSpent':SecondsSpent}).set_index('FinalClickoutIndex')\n",
        "\n",
        "  #left join on dataset\n",
        "  dataset = dataset.join(SecondsSpentDF)\n",
        "return dataset"
      ],
      "execution_count": 0,
      "outputs": []
    },
    {
      "cell_type": "code",
      "metadata": {
        "id": "1sy799iTFgoR",
        "colab_type": "code",
        "colab": {}
      },
      "source": [
        "trainlet2 = train.iloc[0:10000]\n",
        "trainlet2.head()"
      ],
      "execution_count": 0,
      "outputs": []
    },
    {
      "cell_type": "code",
      "metadata": {
        "id": "1NijoKPmFgoV",
        "colab_type": "code",
        "colab": {}
      },
      "source": [
        "SecondsSpent(trainlet2)"
      ],
      "execution_count": 0,
      "outputs": []
    },
    {
      "cell_type": "code",
      "metadata": {
        "id": "3kSjtE3sFgof",
        "colab_type": "code",
        "colab": {}
      },
      "source": [
        "pd.DataFrame({'FinalClickoutIndex':FinalClickoutIndex, 'SecondsSpent':SecondsSpent}).set_index('FinalClickoutIndex')"
      ],
      "execution_count": 0,
      "outputs": []
    },
    {
      "cell_type": "code",
      "metadata": {
        "id": "n1ulcMSRFgok",
        "colab_type": "code",
        "colab": {}
      },
      "source": [
        "trainlet[trainlet.action_type=='clickout item'].groupby('session_id').tail(1).index.tolist()"
      ],
      "execution_count": 0,
      "outputs": []
    },
    {
      "cell_type": "code",
      "metadata": {
        "id": "wsier5JMFgon",
        "colab_type": "code",
        "colab": {}
      },
      "source": [
        "#dropping NaN values(rows)\n",
        "trainlet1 = trainlet1.dropna()\n",
        "\n",
        "#taking a look\n",
        "trainlet1"
      ],
      "execution_count": 0,
      "outputs": []
    },
    {
      "cell_type": "code",
      "metadata": {
        "id": "Ny4clytHFgoq",
        "colab_type": "code",
        "colab": {}
      },
      "source": [
        "#getting a list of values of time spent on each reference in a session\n",
        "time_spent_values = time_spent.values\n",
        "\n",
        "#getting the index of the time_spent_values in dataset\n",
        "index = trainlet.groupby(['session_id', 'reference'], sort=False).tail(1).index\n",
        "\n",
        "#creating a dataframe for a left join on train set\n",
        "time_spent_df = pd.DataFrame({'index':index, 'seconds_spent':time_spent_values})\n",
        "time_spent_df.head(2)"
      ],
      "execution_count": 0,
      "outputs": []
    },
    {
      "cell_type": "code",
      "metadata": {
        "id": "3Ao5fdAyFgot",
        "colab_type": "code",
        "colab": {}
      },
      "source": [
        "#making the index column as the index for dataframe\n",
        "time_spent_df = time_spent_df.set_index('index')\n",
        "\n",
        "#left join to train set on index\n",
        "train = train.join(time_spent_df)\n",
        "train.head(15)"
      ],
      "execution_count": 0,
      "outputs": []
    },
    {
      "cell_type": "code",
      "metadata": {
        "id": "fSEu2nsXFgo0",
        "colab_type": "code",
        "colab": {}
      },
      "source": [
        "#exporting dataframe to Google drive  DO NOT RUN THIS CELL UNLESS MODIFIED\n",
        "train.to_csv('train.csv')"
      ],
      "execution_count": 0,
      "outputs": []
    },
    {
      "cell_type": "code",
      "metadata": {
        "id": "KXa9VqDJFgo6",
        "colab_type": "code",
        "colab": {}
      },
      "source": [
        "#loading file                         DO NOT RUN THIS CELL UNLESS MODIFIED (SEARCH FOR BEST PRACTICES IN THIS CASE)   \n",
        "train = pd.read_csv('/content/drive/My Drive/Trivago/Clean Dataset/train.csv')\n",
        "train.head(15)"
      ],
      "execution_count": 0,
      "outputs": []
    },
    {
      "cell_type": "markdown",
      "metadata": {
        "id": "Wy6apT9fFgo_",
        "colab_type": "text"
      },
      "source": [
        "###Price"
      ]
    },
    {
      "cell_type": "code",
      "metadata": {
        "id": "tVcm1qAjFgpB",
        "colab_type": "code",
        "colab": {}
      },
      "source": [
        "Taking a session as an example, if there are three unique references. If we had the ones that have the same impressions which are the first two, and we get a table out of the impressions and prices, we will find that they have the same price exactly.\n",
        "By proceeding with the KNN on this table(features can later on be added, and analysis on how different properties matter), we can have a list of 5 items at least(which are the most important) and go from there.\t"
      ],
      "execution_count": 0,
      "outputs": []
    },
    {
      "cell_type": "code",
      "metadata": {
        "id": "IoUGTQHCFgpE",
        "colab_type": "code",
        "colab": {}
      },
      "source": [
        "len(train[train.session_id == 'aff3928535f48'][train.action_type == 'clickout item'].tail(1).impressions.values[0].split('|'))"
      ],
      "execution_count": 0,
      "outputs": []
    },
    {
      "cell_type": "code",
      "metadata": {
        "id": "3UFS_QaFFgpP",
        "colab_type": "code",
        "colab": {}
      },
      "source": [
        "items = train[train.session_id == 'aff3928535f48'][train.action_type == 'clickout item'].tail(1).impressions.values[0].split('|')"
      ],
      "execution_count": 0,
      "outputs": []
    },
    {
      "cell_type": "code",
      "metadata": {
        "id": "H07RrUU2FgpT",
        "colab_type": "code",
        "colab": {}
      },
      "source": [
        "all_interacted_with_items = train[train.session_id == 'aff3928535f48'].reference.unique().tolist()\n",
        "interacted_with_items = []\n",
        "interacted_with_items_prices = []\n",
        "for item in all_interacted_with_items:\n",
        "  for i in range(len(impression)):\n",
        "    if item == impression[i]:\n",
        "        interacted_with_items.append(item)\n",
        "        print(item)\n",
        "        interacted_with_items_prices.append(price[i])\n",
        "        print(price[i])"
      ],
      "execution_count": 0,
      "outputs": []
    },
    {
      "cell_type": "code",
      "metadata": {
        "id": "HFFBL8OVFgpe",
        "colab_type": "code",
        "colab": {}
      },
      "source": [
        "for item in all_interacted_with_items:\n",
        "  for i in range(len(impression)):\n",
        "    if item == impression[i]:\n",
        "      print(item)"
      ],
      "execution_count": 0,
      "outputs": []
    },
    {
      "cell_type": "code",
      "metadata": {
        "id": "udHTZrPNFgpo",
        "colab_type": "code",
        "colab": {}
      },
      "source": [
        "all_interacted_with_items"
      ],
      "execution_count": 0,
      "outputs": []
    },
    {
      "cell_type": "code",
      "metadata": {
        "id": "xuyRm-cGFgpw",
        "colab_type": "code",
        "colab": {}
      },
      "source": [
        "def impression_price(session_id):               #the isssue with this function is that ignores the first clickouts\n",
        "                                                #(there are valuable infromation that can be extracted)\n",
        "  try:                                          #some of the functions don't apply on the some sessions\n",
        "    impression = train[train.session_id == session_id][train.action_type == 'clickout item'].tail(1).impressions.values[0].split('|')\n",
        "    price = train[train.session_id == session_id][train.action_type == 'clickout item'].tail(1).prices.values[0].split('|')\n",
        "    price = list(map(int, price))               #converting list of strings into integers\n",
        "    clickout_item = train[train.session_id == session_id][train.action_type == 'clickout item'].tail(1).reference.values[0]\n",
        "    all_interacted_with_items = train[train.session_id == session_id].reference.unique().tolist()\n",
        "    for i in range(len(impression)):            #getting the clickout item\n",
        "      if clickout_item == impression[i]:\n",
        "        rank = i\n",
        "    interacted_with_items = []\n",
        "    interacted_with_items_prices = []\n",
        "    for item in all_interacted_with_items:      #getting interacted with items\n",
        "      for i in range(len(impression)):\n",
        "        if item == impression[i]:\n",
        "          interacted_with_items.append(item)\n",
        "          interacted_with_items_prices.append(price[i])\n",
        "    plt.figure(figsize=(10,8))\n",
        "    plt.title('Impressions and Prices', fontsize=30)\n",
        "    plt.xlabel('Impressions', fontsize=20)\n",
        "    plt.ylabel('Price', fontsize=20)\n",
        "    plt.xticks(rotation=90)\n",
        "    plt.plot(impression, price, 'o')\n",
        "    plt.plot(interacted_with_items, interacted_with_items_prices, 'o', color='red')\n",
        "    plt.plot(clickout_item, price[rank] , 'o', color='black')\n",
        "  except:\n",
        "    pass\n",
        "\n",
        "listOfSessions = random.choices(train.session_id.unique(), k=10)\n",
        "for session_id in listOfSessions:\n",
        "  impression_price(session_id)\n"
      ],
      "execution_count": 0,
      "outputs": []
    },
    {
      "cell_type": "markdown",
      "metadata": {
        "id": "fYBM5wirFgp4",
        "colab_type": "text"
      },
      "source": [
        "TRY \\ to have a the code running normally in a well organized shape"
      ]
    },
    {
      "cell_type": "code",
      "metadata": {
        "id": "mITnJTBaFgp8",
        "colab_type": "code",
        "colab": {}
      },
      "source": [
        "listOfSessions = train.session_id.unique()[0:100]\n",
        "for session_id in listOfSessions:\n",
        "  impression_price(session_id)"
      ],
      "execution_count": 0,
      "outputs": []
    },
    {
      "cell_type": "markdown",
      "metadata": {
        "id": "msHzx4rfFgqE",
        "colab_type": "text"
      },
      "source": [
        "Impressions shown on the graphs are put in a order of the rank provided by Trivago last list. After taking a quick look at the graphs (sample), I can see a pattern of having the black dot (clickout item) somewhere close to the red dots, at least not very far away. \n",
        "I'll need to validate that the features prices and ranks play an important role of user choice eventually."
      ]
    }
  ]
}