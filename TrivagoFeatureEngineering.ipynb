{
  "nbformat": 4,
  "nbformat_minor": 0,
  "metadata": {
    "colab": {
      "name": "TrivagoFeatureEngineering.ipynb",
      "provenance": [],
      "toc_visible": true,
      "machine_shape": "hm",
      "include_colab_link": true
    },
    "kernelspec": {
      "name": "python3",
      "display_name": "Python 3"
    },
    "language_info": {
      "codemirror_mode": {
        "name": "ipython",
        "version": 3
      },
      "file_extension": ".py",
      "mimetype": "text/x-python",
      "name": "python",
      "nbconvert_exporter": "python",
      "pygments_lexer": "ipython3",
      "version": "3.7.3"
    }
  },
  "cells": [
    {
      "cell_type": "markdown",
      "metadata": {
        "id": "view-in-github",
        "colab_type": "text"
      },
      "source": [
        "<a href=\"https://colab.research.google.com/github/ZeyadSabbah/TrivagoRecommenderSystem/blob/master/TrivagoFeatureEngineering.ipynb\" target=\"_parent\"><img src=\"https://colab.research.google.com/assets/colab-badge.svg\" alt=\"Open In Colab\"/></a>"
      ]
    },
    {
      "cell_type": "markdown",
      "metadata": {
        "id": "t9xOcTOs-egL",
        "colab_type": "text"
      },
      "source": [
        "# Feature Engineering"
      ]
    },
    {
      "cell_type": "markdown",
      "metadata": {
        "id": "v69U4HIGKMAw",
        "colab_type": "text"
      },
      "source": [
        "## Mounting to Drive"
      ]
    },
    {
      "cell_type": "code",
      "metadata": {
        "id": "qKOJSxSSKU2s",
        "colab_type": "code",
        "outputId": "15c31d4c-7ede-4164-99b2-ac9e6ba63898",
        "colab": {
          "base_uri": "https://localhost:8080/",
          "height": 128
        }
      },
      "source": [
        "from google.colab import drive\n",
        "drive.mount('/content/drive')"
      ],
      "execution_count": 1,
      "outputs": [
        {
          "output_type": "stream",
          "text": [
            "Go to this URL in a browser: https://accounts.google.com/o/oauth2/auth?client_id=947318989803-6bn6qk8qdgf4n4g3pfee6491hc0brc4i.apps.googleusercontent.com&redirect_uri=urn%3aietf%3awg%3aoauth%3a2.0%3aoob&response_type=code&scope=email%20https%3a%2f%2fwww.googleapis.com%2fauth%2fdocs.test%20https%3a%2f%2fwww.googleapis.com%2fauth%2fdrive%20https%3a%2f%2fwww.googleapis.com%2fauth%2fdrive.photos.readonly%20https%3a%2f%2fwww.googleapis.com%2fauth%2fpeopleapi.readonly\n",
            "\n",
            "Enter your authorization code:\n",
            "··········\n",
            "Mounted at /content/drive\n"
          ],
          "name": "stdout"
        }
      ]
    },
    {
      "cell_type": "code",
      "metadata": {
        "id": "MuIGFI6lWj4z",
        "colab_type": "code",
        "outputId": "da16dd34-3c5d-4796-c6df-693bafab8880",
        "colab": {
          "base_uri": "https://localhost:8080/",
          "height": 35
        }
      },
      "source": [
        "%cd /content/drive/My Drive/Trivago/Project/TrivagoRecommenderSystem"
      ],
      "execution_count": 2,
      "outputs": [
        {
          "output_type": "stream",
          "text": [
            "/content/drive/My Drive/Trivago/Project/TrivagoRecommenderSystem\n"
          ],
          "name": "stdout"
        }
      ]
    },
    {
      "cell_type": "markdown",
      "metadata": {
        "id": "erJzSzQAKI_E",
        "colab_type": "text"
      },
      "source": [
        "## Loading Libraries & Datasets"
      ]
    },
    {
      "cell_type": "code",
      "metadata": {
        "id": "4W-Uu4f8Wqb2",
        "colab_type": "code",
        "colab": {}
      },
      "source": [
        "# !pip install cudf-cuda100\n",
        "# !cp /usr/local/lib/python3.6/dist-packages/librmm.so .\n",
        "# import os  \n",
        "# os.environ['NUMBAPRO_NVVM']='/usr/local/cuda-10.0/nvvm/lib64/libnvvm.so'  \n",
        "# os.environ['NUMBAPRO_LIBDEVICE']='/usr/local/cuda-10.0/nvvm/libdevice'"
      ],
      "execution_count": 0,
      "outputs": []
    },
    {
      "cell_type": "code",
      "metadata": {
        "id": "9Zp_jIpNFgiF",
        "colab_type": "code",
        "colab": {}
      },
      "source": [
        "# import cudf \n",
        "import pandas as pd\n",
        "import numpy as np\n",
        "from datetime import datetime\n",
        "from datetime import timedelta\n",
        "import math\n",
        "import matplotlib.pyplot as plt\n",
        "from datetime import datetime\n",
        "import re\n",
        "import random\n",
        "from sklearn.preprocessing import OneHotEncoder\n",
        "from sklearn.metrics.pairwise import cosine_similarity\n",
        "from collections import Counter\n",
        "from sklearn.preprocessing import MultiLabelBinarizer"
      ],
      "execution_count": 0,
      "outputs": []
    },
    {
      "cell_type": "code",
      "metadata": {
        "id": "7YcDzyEZFgiS",
        "colab_type": "code",
        "colab": {}
      },
      "source": [
        "item_metadata_filepath = '../../Datasets/raw_data/item_metadata.csv'\n",
        "item_metadata = pd.read_csv(item_metadata_filepath)\n",
        "\n",
        "train_filepath = '../../Datasets/clean_data/train.csv'\n",
        "train = pd.read_csv(train_filepath)"
      ],
      "execution_count": 0,
      "outputs": []
    },
    {
      "cell_type": "markdown",
      "metadata": {
        "id": "fHwyV10cPz9S",
        "colab_type": "text"
      },
      "source": [
        "## Important Dataframes Preparation"
      ]
    },
    {
      "cell_type": "markdown",
      "metadata": {
        "id": "laMcu0RZQBOV",
        "colab_type": "text"
      },
      "source": [
        "In engineer global features from the train dataset, which will be most of the cases around either clickouts or final click out examples (instances), two dataframes of them will be created."
      ]
    },
    {
      "cell_type": "markdown",
      "metadata": {
        "id": "Y1XiWUXTQ8nc",
        "colab_type": "text"
      },
      "source": [
        "In order to get representative global values to the items, duplications must be removed. Rows would not all be duplicated because of some attributes such as timestamp, reference, and step."
      ]
    },
    {
      "cell_type": "code",
      "metadata": {
        "id": "KWDB-RD4FgjK",
        "colab_type": "code",
        "colab": {}
      },
      "source": [
        "train.drop('Unnamed: 0', axis=1, inplace=True)\n",
        "ClickoutDF = train[train.action_type=='clickout item']\n",
        "FinalClickoutDF = train[train.action_type=='clickout item'].groupby('session_id').tail(1)\n",
        "ClickoutUniqueDF = ClickoutDF.drop_duplicates(subset=['session_id', 'impressions'], keep='first')"
      ],
      "execution_count": 0,
      "outputs": []
    },
    {
      "cell_type": "markdown",
      "metadata": {
        "id": "F7aOzD-qFgib",
        "colab_type": "text"
      },
      "source": [
        "## Item Global Features\n",
        "### Number of Properties"
      ]
    },
    {
      "cell_type": "code",
      "metadata": {
        "id": "uKawZ83AFgif",
        "colab_type": "code",
        "outputId": "cfa2d693-5011-4441-ade2-f3620ca3fca1",
        "colab": {
          "base_uri": "https://localhost:8080/",
          "height": 108
        }
      },
      "source": [
        "item_metadata.properties = item_metadata.properties.apply(lambda x: x.split('|'))\n",
        "item_metadata['NumberOfProperties'] = item_metadata.properties.apply(lambda x: len(x))\n",
        "item_metadata.head(2)"
      ],
      "execution_count": 7,
      "outputs": [
        {
          "output_type": "execute_result",
          "data": {
            "text/html": [
              "<div>\n",
              "<style scoped>\n",
              "    .dataframe tbody tr th:only-of-type {\n",
              "        vertical-align: middle;\n",
              "    }\n",
              "\n",
              "    .dataframe tbody tr th {\n",
              "        vertical-align: top;\n",
              "    }\n",
              "\n",
              "    .dataframe thead th {\n",
              "        text-align: right;\n",
              "    }\n",
              "</style>\n",
              "<table border=\"1\" class=\"dataframe\">\n",
              "  <thead>\n",
              "    <tr style=\"text-align: right;\">\n",
              "      <th></th>\n",
              "      <th>item_id</th>\n",
              "      <th>properties</th>\n",
              "      <th>NumberOfProperties</th>\n",
              "    </tr>\n",
              "  </thead>\n",
              "  <tbody>\n",
              "    <tr>\n",
              "      <th>0</th>\n",
              "      <td>5101</td>\n",
              "      <td>[Satellite TV, Golf Course, Airport Shuttle, C...</td>\n",
              "      <td>62</td>\n",
              "    </tr>\n",
              "    <tr>\n",
              "      <th>1</th>\n",
              "      <td>5416</td>\n",
              "      <td>[Satellite TV, Cosmetic Mirror, Safe (Hotel), ...</td>\n",
              "      <td>46</td>\n",
              "    </tr>\n",
              "  </tbody>\n",
              "</table>\n",
              "</div>"
            ],
            "text/plain": [
              "   item_id  ... NumberOfProperties\n",
              "0     5101  ...                 62\n",
              "1     5416  ...                 46\n",
              "\n",
              "[2 rows x 3 columns]"
            ]
          },
          "metadata": {
            "tags": []
          },
          "execution_count": 7
        }
      ]
    },
    {
      "cell_type": "code",
      "metadata": {
        "id": "_KEWtPQTFgir",
        "colab_type": "code",
        "outputId": "3555e0ad-0db3-43ff-a5c8-f186eb94af2e",
        "colab": {
          "base_uri": "https://localhost:8080/",
          "height": 35
        }
      },
      "source": [
        "#getting total number of unique properties across all items\n",
        "AllPropertiesList = item_metadata.properties.tolist()\n",
        "\n",
        "AllPropertiesFlatList = []\n",
        "for sublist in AllPropertiesList:\n",
        "    for item in sublist:\n",
        "        AllPropertiesFlatList.append(item)\n",
        "        \n",
        "print('Number of unique properties is', len(set(AllPropertiesFlatList)))"
      ],
      "execution_count": 8,
      "outputs": [
        {
          "output_type": "stream",
          "text": [
            "Number of unique properties is 157\n"
          ],
          "name": "stdout"
        }
      ]
    },
    {
      "cell_type": "markdown",
      "metadata": {
        "id": "jic5BPFfFgiy",
        "colab_type": "text"
      },
      "source": [
        "### Items Properties Similarities\n",
        "The purpose is to get cosine similarity between items. The maximum 25 items out of the list can be extracted as a dataframe and cosine similarity can be obtained in order to get the similar items to the ones the user had interacted with to be listed on the top of the list.  "
      ]
    },
    {
      "cell_type": "code",
      "metadata": {
        "scrolled": true,
        "id": "upvpoHnMFgi1",
        "colab_type": "code",
        "outputId": "c521dcec-853f-442e-92d7-576b3e4d4d0d",
        "colab": {
          "base_uri": "https://localhost:8080/",
          "height": 299
        }
      },
      "source": [
        "item_metadata.properties = item_metadata.properties.apply(lambda x: tuple(x))\n",
        "\n",
        "one_hot = MultiLabelBinarizer()\n",
        "\n",
        "properties_encoded = one_hot.fit_transform(item_metadata.properties.values.tolist())\n",
        "\n",
        "properties_encodedDF = pd.DataFrame(properties_encoded)\n",
        "\n",
        "#changing column names\n",
        "properties_list = one_hot.classes_.tolist()\n",
        "for i in range(len(properties_list)):\n",
        "    properties_encodedDF = properties_encodedDF.rename(columns={i:properties_list[i]})\n",
        "\n",
        "#creating a column of the item id to get the similarity between items\n",
        "item_metadata.item_id = item_metadata.item_id.apply(lambda x: str(x))\n",
        "properties_encodedDF['item_id'] = item_metadata.item_id\n",
        "\n",
        "properties_encodedDF.head()"
      ],
      "execution_count": 9,
      "outputs": [
        {
          "output_type": "execute_result",
          "data": {
            "text/html": [
              "<div>\n",
              "<style scoped>\n",
              "    .dataframe tbody tr th:only-of-type {\n",
              "        vertical-align: middle;\n",
              "    }\n",
              "\n",
              "    .dataframe tbody tr th {\n",
              "        vertical-align: top;\n",
              "    }\n",
              "\n",
              "    .dataframe thead th {\n",
              "        text-align: right;\n",
              "    }\n",
              "</style>\n",
              "<table border=\"1\" class=\"dataframe\">\n",
              "  <thead>\n",
              "    <tr style=\"text-align: right;\">\n",
              "      <th></th>\n",
              "      <th>1 Star</th>\n",
              "      <th>2 Star</th>\n",
              "      <th>3 Star</th>\n",
              "      <th>4 Star</th>\n",
              "      <th>5 Star</th>\n",
              "      <th>Accessible Hotel</th>\n",
              "      <th>Accessible Parking</th>\n",
              "      <th>Adults Only</th>\n",
              "      <th>Air Conditioning</th>\n",
              "      <th>Airport Hotel</th>\n",
              "      <th>Airport Shuttle</th>\n",
              "      <th>All Inclusive (Upon Inquiry)</th>\n",
              "      <th>Balcony</th>\n",
              "      <th>Bathtub</th>\n",
              "      <th>Beach</th>\n",
              "      <th>Beach Bar</th>\n",
              "      <th>Beauty Salon</th>\n",
              "      <th>Bed &amp; Breakfast</th>\n",
              "      <th>Bike Rental</th>\n",
              "      <th>Boat Rental</th>\n",
              "      <th>Body Treatments</th>\n",
              "      <th>Boutique Hotel</th>\n",
              "      <th>Bowling</th>\n",
              "      <th>Bungalows</th>\n",
              "      <th>Business Centre</th>\n",
              "      <th>Business Hotel</th>\n",
              "      <th>Cable TV</th>\n",
              "      <th>Camping Site</th>\n",
              "      <th>Car Park</th>\n",
              "      <th>Casa Rural (ES)</th>\n",
              "      <th>Casino (Hotel)</th>\n",
              "      <th>Central Heating</th>\n",
              "      <th>Childcare</th>\n",
              "      <th>Club Hotel</th>\n",
              "      <th>Computer with Internet</th>\n",
              "      <th>Concierge</th>\n",
              "      <th>Conference Rooms</th>\n",
              "      <th>Convenience Store</th>\n",
              "      <th>Convention Hotel</th>\n",
              "      <th>Cosmetic Mirror</th>\n",
              "      <th>...</th>\n",
              "      <th>Satellite TV</th>\n",
              "      <th>Satisfactory Rating</th>\n",
              "      <th>Sauna</th>\n",
              "      <th>Self Catering</th>\n",
              "      <th>Senior Travellers</th>\n",
              "      <th>Serviced Apartment</th>\n",
              "      <th>Shooting Sports</th>\n",
              "      <th>Shower</th>\n",
              "      <th>Singles</th>\n",
              "      <th>Sitting Area (Rooms)</th>\n",
              "      <th>Ski Resort</th>\n",
              "      <th>Skiing</th>\n",
              "      <th>Solarium</th>\n",
              "      <th>Spa (Wellness Facility)</th>\n",
              "      <th>Spa Hotel</th>\n",
              "      <th>Steam Room</th>\n",
              "      <th>Sun Umbrellas</th>\n",
              "      <th>Surfing</th>\n",
              "      <th>Swimming Pool (Bar)</th>\n",
              "      <th>Swimming Pool (Combined Filter)</th>\n",
              "      <th>Swimming Pool (Indoor)</th>\n",
              "      <th>Swimming Pool (Outdoor)</th>\n",
              "      <th>Szep Kartya</th>\n",
              "      <th>Table Tennis</th>\n",
              "      <th>Telephone</th>\n",
              "      <th>Teleprinter</th>\n",
              "      <th>Television</th>\n",
              "      <th>Tennis Court</th>\n",
              "      <th>Tennis Court (Indoor)</th>\n",
              "      <th>Terrace (Hotel)</th>\n",
              "      <th>Theme Hotel</th>\n",
              "      <th>Towels</th>\n",
              "      <th>Very Good Rating</th>\n",
              "      <th>Volleyball</th>\n",
              "      <th>Washing Machine</th>\n",
              "      <th>Water Slide</th>\n",
              "      <th>Wheelchair Accessible</th>\n",
              "      <th>WiFi (Public Areas)</th>\n",
              "      <th>WiFi (Rooms)</th>\n",
              "      <th>item_id</th>\n",
              "    </tr>\n",
              "  </thead>\n",
              "  <tbody>\n",
              "    <tr>\n",
              "      <th>0</th>\n",
              "      <td>0</td>\n",
              "      <td>0</td>\n",
              "      <td>0</td>\n",
              "      <td>1</td>\n",
              "      <td>0</td>\n",
              "      <td>1</td>\n",
              "      <td>1</td>\n",
              "      <td>0</td>\n",
              "      <td>1</td>\n",
              "      <td>0</td>\n",
              "      <td>1</td>\n",
              "      <td>0</td>\n",
              "      <td>1</td>\n",
              "      <td>1</td>\n",
              "      <td>0</td>\n",
              "      <td>0</td>\n",
              "      <td>0</td>\n",
              "      <td>0</td>\n",
              "      <td>1</td>\n",
              "      <td>0</td>\n",
              "      <td>0</td>\n",
              "      <td>0</td>\n",
              "      <td>1</td>\n",
              "      <td>0</td>\n",
              "      <td>1</td>\n",
              "      <td>1</td>\n",
              "      <td>1</td>\n",
              "      <td>0</td>\n",
              "      <td>1</td>\n",
              "      <td>0</td>\n",
              "      <td>0</td>\n",
              "      <td>1</td>\n",
              "      <td>0</td>\n",
              "      <td>0</td>\n",
              "      <td>1</td>\n",
              "      <td>0</td>\n",
              "      <td>1</td>\n",
              "      <td>0</td>\n",
              "      <td>0</td>\n",
              "      <td>1</td>\n",
              "      <td>...</td>\n",
              "      <td>1</td>\n",
              "      <td>1</td>\n",
              "      <td>0</td>\n",
              "      <td>0</td>\n",
              "      <td>0</td>\n",
              "      <td>0</td>\n",
              "      <td>0</td>\n",
              "      <td>1</td>\n",
              "      <td>0</td>\n",
              "      <td>1</td>\n",
              "      <td>0</td>\n",
              "      <td>0</td>\n",
              "      <td>0</td>\n",
              "      <td>0</td>\n",
              "      <td>0</td>\n",
              "      <td>0</td>\n",
              "      <td>0</td>\n",
              "      <td>0</td>\n",
              "      <td>0</td>\n",
              "      <td>0</td>\n",
              "      <td>0</td>\n",
              "      <td>0</td>\n",
              "      <td>0</td>\n",
              "      <td>0</td>\n",
              "      <td>1</td>\n",
              "      <td>0</td>\n",
              "      <td>1</td>\n",
              "      <td>1</td>\n",
              "      <td>1</td>\n",
              "      <td>1</td>\n",
              "      <td>0</td>\n",
              "      <td>0</td>\n",
              "      <td>0</td>\n",
              "      <td>0</td>\n",
              "      <td>0</td>\n",
              "      <td>0</td>\n",
              "      <td>0</td>\n",
              "      <td>1</td>\n",
              "      <td>1</td>\n",
              "      <td>5101</td>\n",
              "    </tr>\n",
              "    <tr>\n",
              "      <th>1</th>\n",
              "      <td>0</td>\n",
              "      <td>0</td>\n",
              "      <td>0</td>\n",
              "      <td>1</td>\n",
              "      <td>0</td>\n",
              "      <td>0</td>\n",
              "      <td>0</td>\n",
              "      <td>0</td>\n",
              "      <td>0</td>\n",
              "      <td>0</td>\n",
              "      <td>0</td>\n",
              "      <td>0</td>\n",
              "      <td>0</td>\n",
              "      <td>1</td>\n",
              "      <td>0</td>\n",
              "      <td>0</td>\n",
              "      <td>0</td>\n",
              "      <td>0</td>\n",
              "      <td>1</td>\n",
              "      <td>0</td>\n",
              "      <td>0</td>\n",
              "      <td>0</td>\n",
              "      <td>0</td>\n",
              "      <td>0</td>\n",
              "      <td>0</td>\n",
              "      <td>1</td>\n",
              "      <td>0</td>\n",
              "      <td>0</td>\n",
              "      <td>1</td>\n",
              "      <td>0</td>\n",
              "      <td>0</td>\n",
              "      <td>0</td>\n",
              "      <td>0</td>\n",
              "      <td>0</td>\n",
              "      <td>1</td>\n",
              "      <td>0</td>\n",
              "      <td>1</td>\n",
              "      <td>0</td>\n",
              "      <td>0</td>\n",
              "      <td>1</td>\n",
              "      <td>...</td>\n",
              "      <td>1</td>\n",
              "      <td>1</td>\n",
              "      <td>1</td>\n",
              "      <td>0</td>\n",
              "      <td>0</td>\n",
              "      <td>0</td>\n",
              "      <td>0</td>\n",
              "      <td>1</td>\n",
              "      <td>0</td>\n",
              "      <td>1</td>\n",
              "      <td>0</td>\n",
              "      <td>0</td>\n",
              "      <td>0</td>\n",
              "      <td>1</td>\n",
              "      <td>0</td>\n",
              "      <td>0</td>\n",
              "      <td>0</td>\n",
              "      <td>0</td>\n",
              "      <td>0</td>\n",
              "      <td>0</td>\n",
              "      <td>0</td>\n",
              "      <td>0</td>\n",
              "      <td>0</td>\n",
              "      <td>0</td>\n",
              "      <td>1</td>\n",
              "      <td>0</td>\n",
              "      <td>1</td>\n",
              "      <td>0</td>\n",
              "      <td>0</td>\n",
              "      <td>1</td>\n",
              "      <td>0</td>\n",
              "      <td>0</td>\n",
              "      <td>1</td>\n",
              "      <td>0</td>\n",
              "      <td>0</td>\n",
              "      <td>0</td>\n",
              "      <td>1</td>\n",
              "      <td>1</td>\n",
              "      <td>1</td>\n",
              "      <td>5416</td>\n",
              "    </tr>\n",
              "    <tr>\n",
              "      <th>2</th>\n",
              "      <td>0</td>\n",
              "      <td>0</td>\n",
              "      <td>1</td>\n",
              "      <td>0</td>\n",
              "      <td>0</td>\n",
              "      <td>0</td>\n",
              "      <td>0</td>\n",
              "      <td>0</td>\n",
              "      <td>0</td>\n",
              "      <td>0</td>\n",
              "      <td>0</td>\n",
              "      <td>0</td>\n",
              "      <td>0</td>\n",
              "      <td>0</td>\n",
              "      <td>1</td>\n",
              "      <td>0</td>\n",
              "      <td>0</td>\n",
              "      <td>0</td>\n",
              "      <td>0</td>\n",
              "      <td>1</td>\n",
              "      <td>0</td>\n",
              "      <td>0</td>\n",
              "      <td>1</td>\n",
              "      <td>0</td>\n",
              "      <td>0</td>\n",
              "      <td>1</td>\n",
              "      <td>0</td>\n",
              "      <td>0</td>\n",
              "      <td>1</td>\n",
              "      <td>0</td>\n",
              "      <td>0</td>\n",
              "      <td>1</td>\n",
              "      <td>0</td>\n",
              "      <td>0</td>\n",
              "      <td>1</td>\n",
              "      <td>0</td>\n",
              "      <td>0</td>\n",
              "      <td>0</td>\n",
              "      <td>0</td>\n",
              "      <td>1</td>\n",
              "      <td>...</td>\n",
              "      <td>1</td>\n",
              "      <td>1</td>\n",
              "      <td>0</td>\n",
              "      <td>0</td>\n",
              "      <td>0</td>\n",
              "      <td>0</td>\n",
              "      <td>0</td>\n",
              "      <td>1</td>\n",
              "      <td>1</td>\n",
              "      <td>0</td>\n",
              "      <td>0</td>\n",
              "      <td>0</td>\n",
              "      <td>0</td>\n",
              "      <td>0</td>\n",
              "      <td>0</td>\n",
              "      <td>0</td>\n",
              "      <td>0</td>\n",
              "      <td>0</td>\n",
              "      <td>0</td>\n",
              "      <td>0</td>\n",
              "      <td>0</td>\n",
              "      <td>0</td>\n",
              "      <td>0</td>\n",
              "      <td>0</td>\n",
              "      <td>1</td>\n",
              "      <td>0</td>\n",
              "      <td>0</td>\n",
              "      <td>0</td>\n",
              "      <td>0</td>\n",
              "      <td>1</td>\n",
              "      <td>0</td>\n",
              "      <td>0</td>\n",
              "      <td>1</td>\n",
              "      <td>0</td>\n",
              "      <td>0</td>\n",
              "      <td>0</td>\n",
              "      <td>0</td>\n",
              "      <td>1</td>\n",
              "      <td>1</td>\n",
              "      <td>5834</td>\n",
              "    </tr>\n",
              "    <tr>\n",
              "      <th>3</th>\n",
              "      <td>0</td>\n",
              "      <td>0</td>\n",
              "      <td>0</td>\n",
              "      <td>1</td>\n",
              "      <td>0</td>\n",
              "      <td>0</td>\n",
              "      <td>0</td>\n",
              "      <td>0</td>\n",
              "      <td>0</td>\n",
              "      <td>0</td>\n",
              "      <td>0</td>\n",
              "      <td>0</td>\n",
              "      <td>0</td>\n",
              "      <td>1</td>\n",
              "      <td>0</td>\n",
              "      <td>0</td>\n",
              "      <td>0</td>\n",
              "      <td>0</td>\n",
              "      <td>1</td>\n",
              "      <td>0</td>\n",
              "      <td>0</td>\n",
              "      <td>0</td>\n",
              "      <td>0</td>\n",
              "      <td>0</td>\n",
              "      <td>0</td>\n",
              "      <td>1</td>\n",
              "      <td>1</td>\n",
              "      <td>0</td>\n",
              "      <td>1</td>\n",
              "      <td>0</td>\n",
              "      <td>0</td>\n",
              "      <td>1</td>\n",
              "      <td>0</td>\n",
              "      <td>0</td>\n",
              "      <td>1</td>\n",
              "      <td>1</td>\n",
              "      <td>1</td>\n",
              "      <td>0</td>\n",
              "      <td>0</td>\n",
              "      <td>1</td>\n",
              "      <td>...</td>\n",
              "      <td>1</td>\n",
              "      <td>1</td>\n",
              "      <td>0</td>\n",
              "      <td>0</td>\n",
              "      <td>0</td>\n",
              "      <td>0</td>\n",
              "      <td>0</td>\n",
              "      <td>1</td>\n",
              "      <td>0</td>\n",
              "      <td>0</td>\n",
              "      <td>0</td>\n",
              "      <td>0</td>\n",
              "      <td>1</td>\n",
              "      <td>0</td>\n",
              "      <td>0</td>\n",
              "      <td>0</td>\n",
              "      <td>0</td>\n",
              "      <td>0</td>\n",
              "      <td>0</td>\n",
              "      <td>0</td>\n",
              "      <td>0</td>\n",
              "      <td>0</td>\n",
              "      <td>0</td>\n",
              "      <td>0</td>\n",
              "      <td>1</td>\n",
              "      <td>0</td>\n",
              "      <td>1</td>\n",
              "      <td>1</td>\n",
              "      <td>1</td>\n",
              "      <td>1</td>\n",
              "      <td>0</td>\n",
              "      <td>0</td>\n",
              "      <td>0</td>\n",
              "      <td>0</td>\n",
              "      <td>0</td>\n",
              "      <td>0</td>\n",
              "      <td>0</td>\n",
              "      <td>1</td>\n",
              "      <td>0</td>\n",
              "      <td>5910</td>\n",
              "    </tr>\n",
              "    <tr>\n",
              "      <th>4</th>\n",
              "      <td>0</td>\n",
              "      <td>0</td>\n",
              "      <td>0</td>\n",
              "      <td>1</td>\n",
              "      <td>0</td>\n",
              "      <td>1</td>\n",
              "      <td>1</td>\n",
              "      <td>0</td>\n",
              "      <td>0</td>\n",
              "      <td>0</td>\n",
              "      <td>0</td>\n",
              "      <td>0</td>\n",
              "      <td>1</td>\n",
              "      <td>1</td>\n",
              "      <td>1</td>\n",
              "      <td>0</td>\n",
              "      <td>1</td>\n",
              "      <td>0</td>\n",
              "      <td>1</td>\n",
              "      <td>1</td>\n",
              "      <td>1</td>\n",
              "      <td>0</td>\n",
              "      <td>1</td>\n",
              "      <td>0</td>\n",
              "      <td>1</td>\n",
              "      <td>1</td>\n",
              "      <td>1</td>\n",
              "      <td>0</td>\n",
              "      <td>1</td>\n",
              "      <td>0</td>\n",
              "      <td>0</td>\n",
              "      <td>1</td>\n",
              "      <td>0</td>\n",
              "      <td>0</td>\n",
              "      <td>1</td>\n",
              "      <td>0</td>\n",
              "      <td>1</td>\n",
              "      <td>0</td>\n",
              "      <td>1</td>\n",
              "      <td>1</td>\n",
              "      <td>...</td>\n",
              "      <td>1</td>\n",
              "      <td>1</td>\n",
              "      <td>1</td>\n",
              "      <td>0</td>\n",
              "      <td>0</td>\n",
              "      <td>0</td>\n",
              "      <td>0</td>\n",
              "      <td>1</td>\n",
              "      <td>0</td>\n",
              "      <td>1</td>\n",
              "      <td>0</td>\n",
              "      <td>0</td>\n",
              "      <td>1</td>\n",
              "      <td>1</td>\n",
              "      <td>1</td>\n",
              "      <td>1</td>\n",
              "      <td>0</td>\n",
              "      <td>1</td>\n",
              "      <td>0</td>\n",
              "      <td>1</td>\n",
              "      <td>1</td>\n",
              "      <td>1</td>\n",
              "      <td>0</td>\n",
              "      <td>1</td>\n",
              "      <td>1</td>\n",
              "      <td>0</td>\n",
              "      <td>1</td>\n",
              "      <td>1</td>\n",
              "      <td>1</td>\n",
              "      <td>1</td>\n",
              "      <td>0</td>\n",
              "      <td>1</td>\n",
              "      <td>0</td>\n",
              "      <td>1</td>\n",
              "      <td>0</td>\n",
              "      <td>0</td>\n",
              "      <td>1</td>\n",
              "      <td>1</td>\n",
              "      <td>1</td>\n",
              "      <td>6066</td>\n",
              "    </tr>\n",
              "  </tbody>\n",
              "</table>\n",
              "<p>5 rows × 158 columns</p>\n",
              "</div>"
            ],
            "text/plain": [
              "   1 Star  2 Star  3 Star  ...  WiFi (Public Areas)  WiFi (Rooms)  item_id\n",
              "0       0       0       0  ...                    1             1     5101\n",
              "1       0       0       0  ...                    1             1     5416\n",
              "2       0       0       1  ...                    1             1     5834\n",
              "3       0       0       0  ...                    1             0     5910\n",
              "4       0       0       0  ...                    1             1     6066\n",
              "\n",
              "[5 rows x 158 columns]"
            ]
          },
          "metadata": {
            "tags": []
          },
          "execution_count": 9
        }
      ]
    },
    {
      "cell_type": "markdown",
      "metadata": {
        "id": "J8kcaIOEFgjH",
        "colab_type": "text"
      },
      "source": [
        "#### K-means"
      ]
    },
    {
      "cell_type": "markdown",
      "metadata": {
        "id": "376HDex_KT0r",
        "colab_type": "text"
      },
      "source": [
        "#### PCA"
      ]
    },
    {
      "cell_type": "markdown",
      "metadata": {
        "id": "a3_zkXYmFgjJ",
        "colab_type": "text"
      },
      "source": [
        "### Number of Times in Impressions\n",
        "The purpose of this feature is to check how many times an item had been shown to users in the list."
      ]
    },
    {
      "cell_type": "markdown",
      "metadata": {
        "id": "2a0n6qeSFgjd",
        "colab_type": "text"
      },
      "source": [
        "Finding number of times an item has been mentioned in a list."
      ]
    },
    {
      "cell_type": "code",
      "metadata": {
        "id": "hqDgSatzFgj0",
        "colab_type": "code",
        "outputId": "18f47231-6b16-406f-9fdd-32a29dc7d555",
        "colab": {
          "base_uri": "https://localhost:8080/",
          "height": 108
        }
      },
      "source": [
        "AllImpressionsList = ClickoutUniqueDF.impressions.apply(lambda x:x.split('|'))\n",
        "\n",
        "AllImpressionsFlatList = []\n",
        "for sublist in AllImpressionsList:\n",
        "    for item in sublist:\n",
        "        AllImpressionsFlatList.append(item)\n",
        "\n",
        "InImpressionsCounter = Counter(AllImpressionsFlatList)\n",
        "InImpressionsDF = pd.DataFrame.from_dict(InImpressionsCounter, orient='index').reset_index()\\\n",
        "                              .rename(columns={'index':'item_id', 0:'NumberInImpressions'})\n",
        "InImpressionsDF.head(2)"
      ],
      "execution_count": 10,
      "outputs": [
        {
          "output_type": "execute_result",
          "data": {
            "text/html": [
              "<div>\n",
              "<style scoped>\n",
              "    .dataframe tbody tr th:only-of-type {\n",
              "        vertical-align: middle;\n",
              "    }\n",
              "\n",
              "    .dataframe tbody tr th {\n",
              "        vertical-align: top;\n",
              "    }\n",
              "\n",
              "    .dataframe thead th {\n",
              "        text-align: right;\n",
              "    }\n",
              "</style>\n",
              "<table border=\"1\" class=\"dataframe\">\n",
              "  <thead>\n",
              "    <tr style=\"text-align: right;\">\n",
              "      <th></th>\n",
              "      <th>item_id</th>\n",
              "      <th>NumberInImpressions</th>\n",
              "    </tr>\n",
              "  </thead>\n",
              "  <tbody>\n",
              "    <tr>\n",
              "      <th>0</th>\n",
              "      <td>3400638</td>\n",
              "      <td>491</td>\n",
              "    </tr>\n",
              "    <tr>\n",
              "      <th>1</th>\n",
              "      <td>1253714</td>\n",
              "      <td>84</td>\n",
              "    </tr>\n",
              "  </tbody>\n",
              "</table>\n",
              "</div>"
            ],
            "text/plain": [
              "   item_id  NumberInImpressions\n",
              "0  3400638                  491\n",
              "1  1253714                   84"
            ]
          },
          "metadata": {
            "tags": []
          },
          "execution_count": 10
        }
      ]
    },
    {
      "cell_type": "code",
      "metadata": {
        "id": "MilO4jYIFgj5",
        "colab_type": "code",
        "outputId": "a57a299a-48d9-4080-8a92-6d8b1588f5c2",
        "colab": {
          "base_uri": "https://localhost:8080/",
          "height": 35
        }
      },
      "source": [
        "InImpressionsDF.item_id.nunique(), len(InImpressionsDF), item_metadata.item_id.nunique()"
      ],
      "execution_count": 11,
      "outputs": [
        {
          "output_type": "execute_result",
          "data": {
            "text/plain": [
              "(815092, 815092, 927142)"
            ]
          },
          "metadata": {
            "tags": []
          },
          "execution_count": 11
        }
      ]
    },
    {
      "cell_type": "markdown",
      "metadata": {
        "id": "h8aULpmpFgkA",
        "colab_type": "text"
      },
      "source": [
        "Number of items in this dataframe is less than the number of items in item_metadata, that's because some of the items had not been mentioned in the impressions list."
      ]
    },
    {
      "cell_type": "code",
      "metadata": {
        "scrolled": true,
        "id": "WRayg1swFgkD",
        "colab_type": "code",
        "outputId": "08f07f0c-889c-48aa-a913-d49120c6b132",
        "colab": {
          "base_uri": "https://localhost:8080/",
          "height": 108
        }
      },
      "source": [
        "item_metadata.item_id = item_metadata.item_id.apply(lambda x: str(x))\n",
        "item_metadata.drop(columns='properties', inplace=True)\n",
        "\n",
        "#left joining\n",
        "item_metadata = item_metadata.merge(InImpressionsDF, on='item_id', how='left')\n",
        "item_metadata.head(2)"
      ],
      "execution_count": 12,
      "outputs": [
        {
          "output_type": "execute_result",
          "data": {
            "text/html": [
              "<div>\n",
              "<style scoped>\n",
              "    .dataframe tbody tr th:only-of-type {\n",
              "        vertical-align: middle;\n",
              "    }\n",
              "\n",
              "    .dataframe tbody tr th {\n",
              "        vertical-align: top;\n",
              "    }\n",
              "\n",
              "    .dataframe thead th {\n",
              "        text-align: right;\n",
              "    }\n",
              "</style>\n",
              "<table border=\"1\" class=\"dataframe\">\n",
              "  <thead>\n",
              "    <tr style=\"text-align: right;\">\n",
              "      <th></th>\n",
              "      <th>item_id</th>\n",
              "      <th>NumberOfProperties</th>\n",
              "      <th>NumberInImpressions</th>\n",
              "    </tr>\n",
              "  </thead>\n",
              "  <tbody>\n",
              "    <tr>\n",
              "      <th>0</th>\n",
              "      <td>5101</td>\n",
              "      <td>62</td>\n",
              "      <td>89.0</td>\n",
              "    </tr>\n",
              "    <tr>\n",
              "      <th>1</th>\n",
              "      <td>5416</td>\n",
              "      <td>46</td>\n",
              "      <td>63.0</td>\n",
              "    </tr>\n",
              "  </tbody>\n",
              "</table>\n",
              "</div>"
            ],
            "text/plain": [
              "  item_id  NumberOfProperties  NumberInImpressions\n",
              "0    5101                  62                 89.0\n",
              "1    5416                  46                 63.0"
            ]
          },
          "metadata": {
            "tags": []
          },
          "execution_count": 12
        }
      ]
    },
    {
      "cell_type": "markdown",
      "metadata": {
        "id": "ae_M8pVzFgkI",
        "colab_type": "text"
      },
      "source": [
        "### Number of Times in Reference\n",
        "The purpose of this feature is to check how many times an item has been mentioned in the Reference attribute in the whole train set. "
      ]
    },
    {
      "cell_type": "code",
      "metadata": {
        "id": "8bk3WxlYFgkK",
        "colab_type": "code",
        "outputId": "6990ba8d-0a35-4a31-99c6-a9b8179a626e",
        "colab": {
          "base_uri": "https://localhost:8080/",
          "height": 108
        }
      },
      "source": [
        "InReferencesCounter = Counter(train.reference.values.tolist())\n",
        "InReferencesDF = pd.DataFrame.from_dict(InReferencesCounter, orient='index').reset_index()\\\n",
        "                              .rename(columns={'index':'item_id', 0:'NumberInReferences'})\n",
        "\n",
        "InReferencesDF.head(2)"
      ],
      "execution_count": 13,
      "outputs": [
        {
          "output_type": "execute_result",
          "data": {
            "text/html": [
              "<div>\n",
              "<style scoped>\n",
              "    .dataframe tbody tr th:only-of-type {\n",
              "        vertical-align: middle;\n",
              "    }\n",
              "\n",
              "    .dataframe tbody tr th {\n",
              "        vertical-align: top;\n",
              "    }\n",
              "\n",
              "    .dataframe thead th {\n",
              "        text-align: right;\n",
              "    }\n",
              "</style>\n",
              "<table border=\"1\" class=\"dataframe\">\n",
              "  <thead>\n",
              "    <tr style=\"text-align: right;\">\n",
              "      <th></th>\n",
              "      <th>item_id</th>\n",
              "      <th>NumberInReferences</th>\n",
              "    </tr>\n",
              "  </thead>\n",
              "  <tbody>\n",
              "    <tr>\n",
              "      <th>0</th>\n",
              "      <td>Newtown</td>\n",
              "      <td>16</td>\n",
              "    </tr>\n",
              "    <tr>\n",
              "      <th>1</th>\n",
              "      <td>666856</td>\n",
              "      <td>26</td>\n",
              "    </tr>\n",
              "  </tbody>\n",
              "</table>\n",
              "</div>"
            ],
            "text/plain": [
              "   item_id  NumberInReferences\n",
              "0  Newtown                  16\n",
              "1   666856                  26"
            ]
          },
          "metadata": {
            "tags": []
          },
          "execution_count": 13
        }
      ]
    },
    {
      "cell_type": "code",
      "metadata": {
        "id": "7tPSDS_fFgkS",
        "colab_type": "code",
        "outputId": "d1e218e4-eaac-4367-a147-5b101f9532f0",
        "colab": {
          "base_uri": "https://localhost:8080/",
          "height": 108
        }
      },
      "source": [
        "#left joining\n",
        "item_metadata = item_metadata.merge(InReferencesDF, on='item_id', how='left')\n",
        "item_metadata.head(2)"
      ],
      "execution_count": 14,
      "outputs": [
        {
          "output_type": "execute_result",
          "data": {
            "text/html": [
              "<div>\n",
              "<style scoped>\n",
              "    .dataframe tbody tr th:only-of-type {\n",
              "        vertical-align: middle;\n",
              "    }\n",
              "\n",
              "    .dataframe tbody tr th {\n",
              "        vertical-align: top;\n",
              "    }\n",
              "\n",
              "    .dataframe thead th {\n",
              "        text-align: right;\n",
              "    }\n",
              "</style>\n",
              "<table border=\"1\" class=\"dataframe\">\n",
              "  <thead>\n",
              "    <tr style=\"text-align: right;\">\n",
              "      <th></th>\n",
              "      <th>item_id</th>\n",
              "      <th>NumberOfProperties</th>\n",
              "      <th>NumberInImpressions</th>\n",
              "      <th>NumberInReferences</th>\n",
              "    </tr>\n",
              "  </thead>\n",
              "  <tbody>\n",
              "    <tr>\n",
              "      <th>0</th>\n",
              "      <td>5101</td>\n",
              "      <td>62</td>\n",
              "      <td>89.0</td>\n",
              "      <td>14.0</td>\n",
              "    </tr>\n",
              "    <tr>\n",
              "      <th>1</th>\n",
              "      <td>5416</td>\n",
              "      <td>46</td>\n",
              "      <td>63.0</td>\n",
              "      <td>43.0</td>\n",
              "    </tr>\n",
              "  </tbody>\n",
              "</table>\n",
              "</div>"
            ],
            "text/plain": [
              "  item_id  NumberOfProperties  NumberInImpressions  NumberInReferences\n",
              "0    5101                  62                 89.0                14.0\n",
              "1    5416                  46                 63.0                43.0"
            ]
          },
          "metadata": {
            "tags": []
          },
          "execution_count": 14
        }
      ]
    },
    {
      "cell_type": "markdown",
      "metadata": {
        "id": "zoVGRxYHFgkZ",
        "colab_type": "text"
      },
      "source": [
        "### Number of Times in Clickout\n",
        "The purpose of this feature is to check how many times an item has been clicked out"
      ]
    },
    {
      "cell_type": "code",
      "metadata": {
        "id": "90brQsHdFgkb",
        "colab_type": "code",
        "outputId": "bd861866-539c-4ba5-dc79-6159413fec18",
        "colab": {
          "base_uri": "https://localhost:8080/",
          "height": 108
        }
      },
      "source": [
        "InClickoutCounter = Counter(ClickoutDF.reference.values.tolist())\n",
        "InClickoutDF = pd.DataFrame.from_dict(InClickoutCounter, orient='index').reset_index()\\\n",
        "                              .rename(columns={'index':'item_id', 0:'NumberAsClickout'})\n",
        "InClickoutDF.head(2)"
      ],
      "execution_count": 15,
      "outputs": [
        {
          "output_type": "execute_result",
          "data": {
            "text/html": [
              "<div>\n",
              "<style scoped>\n",
              "    .dataframe tbody tr th:only-of-type {\n",
              "        vertical-align: middle;\n",
              "    }\n",
              "\n",
              "    .dataframe tbody tr th {\n",
              "        vertical-align: top;\n",
              "    }\n",
              "\n",
              "    .dataframe thead th {\n",
              "        text-align: right;\n",
              "    }\n",
              "</style>\n",
              "<table border=\"1\" class=\"dataframe\">\n",
              "  <thead>\n",
              "    <tr style=\"text-align: right;\">\n",
              "      <th></th>\n",
              "      <th>item_id</th>\n",
              "      <th>NumberAsClickout</th>\n",
              "    </tr>\n",
              "  </thead>\n",
              "  <tbody>\n",
              "    <tr>\n",
              "      <th>0</th>\n",
              "      <td>109038</td>\n",
              "      <td>53</td>\n",
              "    </tr>\n",
              "    <tr>\n",
              "      <th>1</th>\n",
              "      <td>1257342</td>\n",
              "      <td>20</td>\n",
              "    </tr>\n",
              "  </tbody>\n",
              "</table>\n",
              "</div>"
            ],
            "text/plain": [
              "   item_id  NumberAsClickout\n",
              "0   109038                53\n",
              "1  1257342                20"
            ]
          },
          "metadata": {
            "tags": []
          },
          "execution_count": 15
        }
      ]
    },
    {
      "cell_type": "code",
      "metadata": {
        "id": "V3mWF_azFgkf",
        "colab_type": "code",
        "outputId": "ca9b3909-6c64-45e3-d1cd-f962cd0eb012",
        "colab": {
          "base_uri": "https://localhost:8080/",
          "height": 108
        }
      },
      "source": [
        "#left joining\n",
        "item_metadata = item_metadata.merge(InClickoutDF, on='item_id', how='left')\n",
        "item_metadata.head(2)"
      ],
      "execution_count": 16,
      "outputs": [
        {
          "output_type": "execute_result",
          "data": {
            "text/html": [
              "<div>\n",
              "<style scoped>\n",
              "    .dataframe tbody tr th:only-of-type {\n",
              "        vertical-align: middle;\n",
              "    }\n",
              "\n",
              "    .dataframe tbody tr th {\n",
              "        vertical-align: top;\n",
              "    }\n",
              "\n",
              "    .dataframe thead th {\n",
              "        text-align: right;\n",
              "    }\n",
              "</style>\n",
              "<table border=\"1\" class=\"dataframe\">\n",
              "  <thead>\n",
              "    <tr style=\"text-align: right;\">\n",
              "      <th></th>\n",
              "      <th>item_id</th>\n",
              "      <th>NumberOfProperties</th>\n",
              "      <th>NumberInImpressions</th>\n",
              "      <th>NumberInReferences</th>\n",
              "      <th>NumberAsClickout</th>\n",
              "    </tr>\n",
              "  </thead>\n",
              "  <tbody>\n",
              "    <tr>\n",
              "      <th>0</th>\n",
              "      <td>5101</td>\n",
              "      <td>62</td>\n",
              "      <td>89.0</td>\n",
              "      <td>14.0</td>\n",
              "      <td>7.0</td>\n",
              "    </tr>\n",
              "    <tr>\n",
              "      <th>1</th>\n",
              "      <td>5416</td>\n",
              "      <td>46</td>\n",
              "      <td>63.0</td>\n",
              "      <td>43.0</td>\n",
              "      <td>6.0</td>\n",
              "    </tr>\n",
              "  </tbody>\n",
              "</table>\n",
              "</div>"
            ],
            "text/plain": [
              "  item_id  NumberOfProperties  ...  NumberInReferences  NumberAsClickout\n",
              "0    5101                  62  ...                14.0               7.0\n",
              "1    5416                  46  ...                43.0               6.0\n",
              "\n",
              "[2 rows x 5 columns]"
            ]
          },
          "metadata": {
            "tags": []
          },
          "execution_count": 16
        }
      ]
    },
    {
      "cell_type": "markdown",
      "metadata": {
        "id": "t-ZSBJIxFgkj",
        "colab_type": "text"
      },
      "source": [
        "### Number of Time in Final Clickout\n",
        "The purpose of this feature is to get the number of times an item had been mentioned as a final clickout."
      ]
    },
    {
      "cell_type": "code",
      "metadata": {
        "id": "g5sMoSRZFgkm",
        "colab_type": "code",
        "outputId": "11da1e6f-7a0f-4be5-9550-f2d1032d7022",
        "colab": {
          "base_uri": "https://localhost:8080/",
          "height": 108
        }
      },
      "source": [
        "InFinalClickoutCounter = Counter(FinalClickoutDF.reference.values.tolist())\n",
        "InFinalClickoutDF = pd.DataFrame.from_dict(InFinalClickoutCounter, orient='index').reset_index()\\\n",
        "                              .rename(columns={'index':'item_id', 0:'NumberAsFinalClickout'})\n",
        "InFinalClickoutDF.head(2)"
      ],
      "execution_count": 17,
      "outputs": [
        {
          "output_type": "execute_result",
          "data": {
            "text/html": [
              "<div>\n",
              "<style scoped>\n",
              "    .dataframe tbody tr th:only-of-type {\n",
              "        vertical-align: middle;\n",
              "    }\n",
              "\n",
              "    .dataframe tbody tr th {\n",
              "        vertical-align: top;\n",
              "    }\n",
              "\n",
              "    .dataframe thead th {\n",
              "        text-align: right;\n",
              "    }\n",
              "</style>\n",
              "<table border=\"1\" class=\"dataframe\">\n",
              "  <thead>\n",
              "    <tr style=\"text-align: right;\">\n",
              "      <th></th>\n",
              "      <th>item_id</th>\n",
              "      <th>NumberAsFinalClickout</th>\n",
              "    </tr>\n",
              "  </thead>\n",
              "  <tbody>\n",
              "    <tr>\n",
              "      <th>0</th>\n",
              "      <td>1257342</td>\n",
              "      <td>7</td>\n",
              "    </tr>\n",
              "    <tr>\n",
              "      <th>1</th>\n",
              "      <td>2795374</td>\n",
              "      <td>18</td>\n",
              "    </tr>\n",
              "  </tbody>\n",
              "</table>\n",
              "</div>"
            ],
            "text/plain": [
              "   item_id  NumberAsFinalClickout\n",
              "0  1257342                      7\n",
              "1  2795374                     18"
            ]
          },
          "metadata": {
            "tags": []
          },
          "execution_count": 17
        }
      ]
    },
    {
      "cell_type": "code",
      "metadata": {
        "id": "KD_vcoWPFgky",
        "colab_type": "code",
        "outputId": "d741dcb9-180d-4ab2-ccdc-a3d21d81bf12",
        "colab": {
          "base_uri": "https://localhost:8080/",
          "height": 108
        }
      },
      "source": [
        "#left joining\n",
        "item_metadata = item_metadata.merge(InFinalClickoutDF, on='item_id', how='left')\n",
        "item_metadata.head(2)"
      ],
      "execution_count": 18,
      "outputs": [
        {
          "output_type": "execute_result",
          "data": {
            "text/html": [
              "<div>\n",
              "<style scoped>\n",
              "    .dataframe tbody tr th:only-of-type {\n",
              "        vertical-align: middle;\n",
              "    }\n",
              "\n",
              "    .dataframe tbody tr th {\n",
              "        vertical-align: top;\n",
              "    }\n",
              "\n",
              "    .dataframe thead th {\n",
              "        text-align: right;\n",
              "    }\n",
              "</style>\n",
              "<table border=\"1\" class=\"dataframe\">\n",
              "  <thead>\n",
              "    <tr style=\"text-align: right;\">\n",
              "      <th></th>\n",
              "      <th>item_id</th>\n",
              "      <th>NumberOfProperties</th>\n",
              "      <th>NumberInImpressions</th>\n",
              "      <th>NumberInReferences</th>\n",
              "      <th>NumberAsClickout</th>\n",
              "      <th>NumberAsFinalClickout</th>\n",
              "    </tr>\n",
              "  </thead>\n",
              "  <tbody>\n",
              "    <tr>\n",
              "      <th>0</th>\n",
              "      <td>5101</td>\n",
              "      <td>62</td>\n",
              "      <td>89.0</td>\n",
              "      <td>14.0</td>\n",
              "      <td>7.0</td>\n",
              "      <td>4.0</td>\n",
              "    </tr>\n",
              "    <tr>\n",
              "      <th>1</th>\n",
              "      <td>5416</td>\n",
              "      <td>46</td>\n",
              "      <td>63.0</td>\n",
              "      <td>43.0</td>\n",
              "      <td>6.0</td>\n",
              "      <td>2.0</td>\n",
              "    </tr>\n",
              "  </tbody>\n",
              "</table>\n",
              "</div>"
            ],
            "text/plain": [
              "  item_id  NumberOfProperties  ...  NumberAsClickout  NumberAsFinalClickout\n",
              "0    5101                  62  ...               7.0                    4.0\n",
              "1    5416                  46  ...               6.0                    2.0\n",
              "\n",
              "[2 rows x 6 columns]"
            ]
          },
          "metadata": {
            "tags": []
          },
          "execution_count": 18
        }
      ]
    },
    {
      "cell_type": "markdown",
      "metadata": {
        "id": "9LWxefutFgk_",
        "colab_type": "text"
      },
      "source": [
        "The next step would be dividing the NumberAsFinalClickout by the other 3, in order to get FinalClickout Relativity"
      ]
    },
    {
      "cell_type": "markdown",
      "metadata": {
        "id": "EO0SubJ-FglA",
        "colab_type": "text"
      },
      "source": [
        "### Final Clickout To Impressions\n",
        "The purpose of this feature is to get item's rate of clicking out when listed to the user."
      ]
    },
    {
      "cell_type": "code",
      "metadata": {
        "id": "ZDHJPlJvFglB",
        "colab_type": "code",
        "outputId": "9de6a0fb-cbc0-4c2b-bde8-0245ef1f1071",
        "colab": {
          "base_uri": "https://localhost:8080/",
          "height": 72
        }
      },
      "source": [
        "FClickoutToImpressions = item_metadata.NumberAsFinalClickout/item_metadata.NumberInImpressions\n",
        "FClickoutToImpressions.head(2)"
      ],
      "execution_count": 19,
      "outputs": [
        {
          "output_type": "execute_result",
          "data": {
            "text/plain": [
              "0    0.044944\n",
              "1    0.031746\n",
              "dtype: float64"
            ]
          },
          "metadata": {
            "tags": []
          },
          "execution_count": 19
        }
      ]
    },
    {
      "cell_type": "code",
      "metadata": {
        "id": "clMCXWXaFglI",
        "colab_type": "code",
        "outputId": "bd84db77-ff6c-4db9-8f33-b67797abba8c",
        "colab": {
          "base_uri": "https://localhost:8080/",
          "height": 108
        }
      },
      "source": [
        "#adding attribute\n",
        "item_metadata['FClickoutToImpressions'] = FClickoutToImpressions\n",
        "item_metadata.head(2)"
      ],
      "execution_count": 20,
      "outputs": [
        {
          "output_type": "execute_result",
          "data": {
            "text/html": [
              "<div>\n",
              "<style scoped>\n",
              "    .dataframe tbody tr th:only-of-type {\n",
              "        vertical-align: middle;\n",
              "    }\n",
              "\n",
              "    .dataframe tbody tr th {\n",
              "        vertical-align: top;\n",
              "    }\n",
              "\n",
              "    .dataframe thead th {\n",
              "        text-align: right;\n",
              "    }\n",
              "</style>\n",
              "<table border=\"1\" class=\"dataframe\">\n",
              "  <thead>\n",
              "    <tr style=\"text-align: right;\">\n",
              "      <th></th>\n",
              "      <th>item_id</th>\n",
              "      <th>NumberOfProperties</th>\n",
              "      <th>NumberInImpressions</th>\n",
              "      <th>NumberInReferences</th>\n",
              "      <th>NumberAsClickout</th>\n",
              "      <th>NumberAsFinalClickout</th>\n",
              "      <th>FClickoutToImpressions</th>\n",
              "    </tr>\n",
              "  </thead>\n",
              "  <tbody>\n",
              "    <tr>\n",
              "      <th>0</th>\n",
              "      <td>5101</td>\n",
              "      <td>62</td>\n",
              "      <td>89.0</td>\n",
              "      <td>14.0</td>\n",
              "      <td>7.0</td>\n",
              "      <td>4.0</td>\n",
              "      <td>0.044944</td>\n",
              "    </tr>\n",
              "    <tr>\n",
              "      <th>1</th>\n",
              "      <td>5416</td>\n",
              "      <td>46</td>\n",
              "      <td>63.0</td>\n",
              "      <td>43.0</td>\n",
              "      <td>6.0</td>\n",
              "      <td>2.0</td>\n",
              "      <td>0.031746</td>\n",
              "    </tr>\n",
              "  </tbody>\n",
              "</table>\n",
              "</div>"
            ],
            "text/plain": [
              "  item_id  NumberOfProperties  ...  NumberAsFinalClickout  FClickoutToImpressions\n",
              "0    5101                  62  ...                    4.0                0.044944\n",
              "1    5416                  46  ...                    2.0                0.031746\n",
              "\n",
              "[2 rows x 7 columns]"
            ]
          },
          "metadata": {
            "tags": []
          },
          "execution_count": 20
        }
      ]
    },
    {
      "cell_type": "markdown",
      "metadata": {
        "id": "Zr0TO-QQFglP",
        "colab_type": "text"
      },
      "source": [
        "### Final Clickout To References\n",
        "The purpose of this feature is to get item's rate of clicking out when it was interacted with."
      ]
    },
    {
      "cell_type": "code",
      "metadata": {
        "id": "G-tMA8gvFglQ",
        "colab_type": "code",
        "outputId": "3931f203-0368-4084-bc5b-01f4e28746dc",
        "colab": {
          "base_uri": "https://localhost:8080/",
          "height": 72
        }
      },
      "source": [
        "FClickoutToReferences = item_metadata.NumberAsFinalClickout/item_metadata.NumberInReferences\n",
        "FClickoutToReferences.head(2)"
      ],
      "execution_count": 21,
      "outputs": [
        {
          "output_type": "execute_result",
          "data": {
            "text/plain": [
              "0    0.285714\n",
              "1    0.046512\n",
              "dtype: float64"
            ]
          },
          "metadata": {
            "tags": []
          },
          "execution_count": 21
        }
      ]
    },
    {
      "cell_type": "code",
      "metadata": {
        "id": "pZcwFvwxFglW",
        "colab_type": "code",
        "outputId": "d818e317-7124-461b-96fa-819271220616",
        "colab": {
          "base_uri": "https://localhost:8080/",
          "height": 128
        }
      },
      "source": [
        "#adding attribute\n",
        "item_metadata['FClickoutToReferences'] = FClickoutToReferences\n",
        "item_metadata.head(2)"
      ],
      "execution_count": 22,
      "outputs": [
        {
          "output_type": "execute_result",
          "data": {
            "text/html": [
              "<div>\n",
              "<style scoped>\n",
              "    .dataframe tbody tr th:only-of-type {\n",
              "        vertical-align: middle;\n",
              "    }\n",
              "\n",
              "    .dataframe tbody tr th {\n",
              "        vertical-align: top;\n",
              "    }\n",
              "\n",
              "    .dataframe thead th {\n",
              "        text-align: right;\n",
              "    }\n",
              "</style>\n",
              "<table border=\"1\" class=\"dataframe\">\n",
              "  <thead>\n",
              "    <tr style=\"text-align: right;\">\n",
              "      <th></th>\n",
              "      <th>item_id</th>\n",
              "      <th>NumberOfProperties</th>\n",
              "      <th>NumberInImpressions</th>\n",
              "      <th>NumberInReferences</th>\n",
              "      <th>NumberAsClickout</th>\n",
              "      <th>NumberAsFinalClickout</th>\n",
              "      <th>FClickoutToImpressions</th>\n",
              "      <th>FClickoutToReferences</th>\n",
              "    </tr>\n",
              "  </thead>\n",
              "  <tbody>\n",
              "    <tr>\n",
              "      <th>0</th>\n",
              "      <td>5101</td>\n",
              "      <td>62</td>\n",
              "      <td>89.0</td>\n",
              "      <td>14.0</td>\n",
              "      <td>7.0</td>\n",
              "      <td>4.0</td>\n",
              "      <td>0.044944</td>\n",
              "      <td>0.285714</td>\n",
              "    </tr>\n",
              "    <tr>\n",
              "      <th>1</th>\n",
              "      <td>5416</td>\n",
              "      <td>46</td>\n",
              "      <td>63.0</td>\n",
              "      <td>43.0</td>\n",
              "      <td>6.0</td>\n",
              "      <td>2.0</td>\n",
              "      <td>0.031746</td>\n",
              "      <td>0.046512</td>\n",
              "    </tr>\n",
              "  </tbody>\n",
              "</table>\n",
              "</div>"
            ],
            "text/plain": [
              "  item_id  NumberOfProperties  ...  FClickoutToImpressions  FClickoutToReferences\n",
              "0    5101                  62  ...                0.044944               0.285714\n",
              "1    5416                  46  ...                0.031746               0.046512\n",
              "\n",
              "[2 rows x 8 columns]"
            ]
          },
          "metadata": {
            "tags": []
          },
          "execution_count": 22
        }
      ]
    },
    {
      "cell_type": "markdown",
      "metadata": {
        "id": "ay5eOy6kFgla",
        "colab_type": "text"
      },
      "source": [
        "### Final Clickout To Clickout\n",
        "The purpose of this feature is to get item's rate of clickout when it was clicked out before."
      ]
    },
    {
      "cell_type": "code",
      "metadata": {
        "id": "heNu3JTCFglb",
        "colab_type": "code",
        "outputId": "e4700705-452e-433a-e09f-3ba9016ac979",
        "colab": {
          "base_uri": "https://localhost:8080/",
          "height": 72
        }
      },
      "source": [
        "FClickoutToClickout = item_metadata.NumberAsFinalClickout/item_metadata.NumberAsClickout\n",
        "FClickoutToClickout.head(2)"
      ],
      "execution_count": 23,
      "outputs": [
        {
          "output_type": "execute_result",
          "data": {
            "text/plain": [
              "0    0.571429\n",
              "1    0.333333\n",
              "dtype: float64"
            ]
          },
          "metadata": {
            "tags": []
          },
          "execution_count": 23
        }
      ]
    },
    {
      "cell_type": "code",
      "metadata": {
        "id": "2eU8ik8aFgle",
        "colab_type": "code",
        "outputId": "d8780f0a-efd7-4833-b0fc-ad0bf3130b67",
        "colab": {
          "base_uri": "https://localhost:8080/",
          "height": 128
        }
      },
      "source": [
        "#adding attribute\n",
        "item_metadata['FClickoutToClickout'] = FClickoutToClickout\n",
        "item_metadata.head(2)"
      ],
      "execution_count": 24,
      "outputs": [
        {
          "output_type": "execute_result",
          "data": {
            "text/html": [
              "<div>\n",
              "<style scoped>\n",
              "    .dataframe tbody tr th:only-of-type {\n",
              "        vertical-align: middle;\n",
              "    }\n",
              "\n",
              "    .dataframe tbody tr th {\n",
              "        vertical-align: top;\n",
              "    }\n",
              "\n",
              "    .dataframe thead th {\n",
              "        text-align: right;\n",
              "    }\n",
              "</style>\n",
              "<table border=\"1\" class=\"dataframe\">\n",
              "  <thead>\n",
              "    <tr style=\"text-align: right;\">\n",
              "      <th></th>\n",
              "      <th>item_id</th>\n",
              "      <th>NumberOfProperties</th>\n",
              "      <th>NumberInImpressions</th>\n",
              "      <th>NumberInReferences</th>\n",
              "      <th>NumberAsClickout</th>\n",
              "      <th>NumberAsFinalClickout</th>\n",
              "      <th>FClickoutToImpressions</th>\n",
              "      <th>FClickoutToReferences</th>\n",
              "      <th>FClickoutToClickout</th>\n",
              "    </tr>\n",
              "  </thead>\n",
              "  <tbody>\n",
              "    <tr>\n",
              "      <th>0</th>\n",
              "      <td>5101</td>\n",
              "      <td>62</td>\n",
              "      <td>89.0</td>\n",
              "      <td>14.0</td>\n",
              "      <td>7.0</td>\n",
              "      <td>4.0</td>\n",
              "      <td>0.044944</td>\n",
              "      <td>0.285714</td>\n",
              "      <td>0.571429</td>\n",
              "    </tr>\n",
              "    <tr>\n",
              "      <th>1</th>\n",
              "      <td>5416</td>\n",
              "      <td>46</td>\n",
              "      <td>63.0</td>\n",
              "      <td>43.0</td>\n",
              "      <td>6.0</td>\n",
              "      <td>2.0</td>\n",
              "      <td>0.031746</td>\n",
              "      <td>0.046512</td>\n",
              "      <td>0.333333</td>\n",
              "    </tr>\n",
              "  </tbody>\n",
              "</table>\n",
              "</div>"
            ],
            "text/plain": [
              "  item_id  NumberOfProperties  ...  FClickoutToReferences  FClickoutToClickout\n",
              "0    5101                  62  ...               0.285714             0.571429\n",
              "1    5416                  46  ...               0.046512             0.333333\n",
              "\n",
              "[2 rows x 9 columns]"
            ]
          },
          "metadata": {
            "tags": []
          },
          "execution_count": 24
        }
      ]
    },
    {
      "cell_type": "markdown",
      "metadata": {
        "id": "Yh-EGsV-Fgln",
        "colab_type": "text"
      },
      "source": [
        "### Item's Average Rank\n",
        "The purpose of this feature is to get item's position in the list provided to the user across the train set.  \n",
        "Since the purpose is to get the average rank across the lists shown to users, an important notice which is that some sessions have different reference and click outs, which provides the same impression list. Duplicated impressions lists in each session should be dropped. (Same thing applies to price as well.)"
      ]
    },
    {
      "cell_type": "code",
      "metadata": {
        "id": "YmoIpqsrFglp",
        "colab_type": "code",
        "outputId": "28c3977d-af3c-4395-9e4b-672059efa625",
        "colab": {
          "base_uri": "https://localhost:8080/",
          "height": 115
        }
      },
      "source": [
        "# using All Clickout dataframe, but the one with the unique impressions for each session for this feature\n",
        "ClickoutUniqueDF.head(1)"
      ],
      "execution_count": 25,
      "outputs": [
        {
          "output_type": "execute_result",
          "data": {
            "text/html": [
              "<div>\n",
              "<style scoped>\n",
              "    .dataframe tbody tr th:only-of-type {\n",
              "        vertical-align: middle;\n",
              "    }\n",
              "\n",
              "    .dataframe tbody tr th {\n",
              "        vertical-align: top;\n",
              "    }\n",
              "\n",
              "    .dataframe thead th {\n",
              "        text-align: right;\n",
              "    }\n",
              "</style>\n",
              "<table border=\"1\" class=\"dataframe\">\n",
              "  <thead>\n",
              "    <tr style=\"text-align: right;\">\n",
              "      <th></th>\n",
              "      <th>user_id</th>\n",
              "      <th>session_id</th>\n",
              "      <th>timestamp</th>\n",
              "      <th>step</th>\n",
              "      <th>action_type</th>\n",
              "      <th>reference</th>\n",
              "      <th>platform</th>\n",
              "      <th>city</th>\n",
              "      <th>device</th>\n",
              "      <th>current_filters</th>\n",
              "      <th>impressions</th>\n",
              "      <th>prices</th>\n",
              "    </tr>\n",
              "  </thead>\n",
              "  <tbody>\n",
              "    <tr>\n",
              "      <th>13</th>\n",
              "      <td>00RL8Z82B2Z1</td>\n",
              "      <td>aff3928535f48</td>\n",
              "      <td>1541037543</td>\n",
              "      <td>14</td>\n",
              "      <td>clickout item</td>\n",
              "      <td>109038</td>\n",
              "      <td>AU</td>\n",
              "      <td>Sydney, Australia</td>\n",
              "      <td>mobile</td>\n",
              "      <td>NaN</td>\n",
              "      <td>3400638|1253714|3367857|5100540|1088584|666916...</td>\n",
              "      <td>95|66|501|112|95|100|101|72|82|56|56|143|70|25...</td>\n",
              "    </tr>\n",
              "  </tbody>\n",
              "</table>\n",
              "</div>"
            ],
            "text/plain": [
              "         user_id  ...                                             prices\n",
              "13  00RL8Z82B2Z1  ...  95|66|501|112|95|100|101|72|82|56|56|143|70|25...\n",
              "\n",
              "[1 rows x 12 columns]"
            ]
          },
          "metadata": {
            "tags": []
          },
          "execution_count": 25
        }
      ]
    },
    {
      "cell_type": "code",
      "metadata": {
        "id": "IHEIpKxHTKZL",
        "colab_type": "code",
        "outputId": "c9a9db2d-4ab1-4ca4-99a4-590dc50297d3",
        "colab": {
          "base_uri": "https://localhost:8080/",
          "height": 181
        }
      },
      "source": [
        "SessionImpressionsDF = ClickoutUniqueDF[['session_id', 'impressions']]\n",
        "SessionImpressionsDF.impressions = SessionImpressionsDF.impressions.apply(lambda x: x.split('|'))\n",
        "SessionImpressionsDF.impressions.head(2)"
      ],
      "execution_count": 26,
      "outputs": [
        {
          "output_type": "stream",
          "text": [
            "/usr/local/lib/python3.6/dist-packages/pandas/core/generic.py:5208: SettingWithCopyWarning: \n",
            "A value is trying to be set on a copy of a slice from a DataFrame.\n",
            "Try using .loc[row_indexer,col_indexer] = value instead\n",
            "\n",
            "See the caveats in the documentation: http://pandas.pydata.org/pandas-docs/stable/user_guide/indexing.html#returning-a-view-versus-a-copy\n",
            "  self[name] = value\n"
          ],
          "name": "stderr"
        },
        {
          "output_type": "execute_result",
          "data": {
            "text/plain": [
              "13    [3400638, 1253714, 3367857, 5100540, 1088584, ...\n",
              "15    [55109, 129343, 54824, 2297972, 109014, 125734...\n",
              "Name: impressions, dtype: object"
            ]
          },
          "metadata": {
            "tags": []
          },
          "execution_count": 26
        }
      ]
    },
    {
      "cell_type": "code",
      "metadata": {
        "id": "bDpKw30nosmQ",
        "colab_type": "code",
        "outputId": "2f47c27d-37f4-4c31-befe-e2d109968180",
        "colab": {
          "base_uri": "https://localhost:8080/",
          "height": 108
        }
      },
      "source": [
        "SessionImpressionsDF_exploded = SessionImpressionsDF.explode('impressions')\n",
        "SessionImpressionsDF_exploded = SessionImpressionsDF_exploded.rename(columns={'impressions':'item_id'})\n",
        "SessionImpressionsDF_exploded.head(2)"
      ],
      "execution_count": 27,
      "outputs": [
        {
          "output_type": "execute_result",
          "data": {
            "text/html": [
              "<div>\n",
              "<style scoped>\n",
              "    .dataframe tbody tr th:only-of-type {\n",
              "        vertical-align: middle;\n",
              "    }\n",
              "\n",
              "    .dataframe tbody tr th {\n",
              "        vertical-align: top;\n",
              "    }\n",
              "\n",
              "    .dataframe thead th {\n",
              "        text-align: right;\n",
              "    }\n",
              "</style>\n",
              "<table border=\"1\" class=\"dataframe\">\n",
              "  <thead>\n",
              "    <tr style=\"text-align: right;\">\n",
              "      <th></th>\n",
              "      <th>session_id</th>\n",
              "      <th>item_id</th>\n",
              "    </tr>\n",
              "  </thead>\n",
              "  <tbody>\n",
              "    <tr>\n",
              "      <th>13</th>\n",
              "      <td>aff3928535f48</td>\n",
              "      <td>3400638</td>\n",
              "    </tr>\n",
              "    <tr>\n",
              "      <th>13</th>\n",
              "      <td>aff3928535f48</td>\n",
              "      <td>1253714</td>\n",
              "    </tr>\n",
              "  </tbody>\n",
              "</table>\n",
              "</div>"
            ],
            "text/plain": [
              "       session_id  item_id\n",
              "13  aff3928535f48  3400638\n",
              "13  aff3928535f48  1253714"
            ]
          },
          "metadata": {
            "tags": []
          },
          "execution_count": 27
        }
      ]
    },
    {
      "cell_type": "code",
      "metadata": {
        "id": "IZuqLq_5pUA_",
        "colab_type": "code",
        "outputId": "ac802ae7-11ea-4c20-9cea-e4ae576457ce",
        "colab": {
          "base_uri": "https://localhost:8080/",
          "height": 108
        }
      },
      "source": [
        "#creating a rank column\n",
        "rank = SessionImpressionsDF.impressions.apply(lambda x: list(range(1, (len(x) + 1))))\n",
        "SessionRankDF = pd.concat([SessionImpressionsDF.session_id, rank], axis=1)\n",
        "SessionRankDF = SessionRankDF.rename(columns={'impressions':'rank'})\n",
        "SessionRankDF_exploded = SessionRankDF.explode('rank')\n",
        "SessionRankDF_exploded.head(2)"
      ],
      "execution_count": 28,
      "outputs": [
        {
          "output_type": "execute_result",
          "data": {
            "text/html": [
              "<div>\n",
              "<style scoped>\n",
              "    .dataframe tbody tr th:only-of-type {\n",
              "        vertical-align: middle;\n",
              "    }\n",
              "\n",
              "    .dataframe tbody tr th {\n",
              "        vertical-align: top;\n",
              "    }\n",
              "\n",
              "    .dataframe thead th {\n",
              "        text-align: right;\n",
              "    }\n",
              "</style>\n",
              "<table border=\"1\" class=\"dataframe\">\n",
              "  <thead>\n",
              "    <tr style=\"text-align: right;\">\n",
              "      <th></th>\n",
              "      <th>session_id</th>\n",
              "      <th>rank</th>\n",
              "    </tr>\n",
              "  </thead>\n",
              "  <tbody>\n",
              "    <tr>\n",
              "      <th>13</th>\n",
              "      <td>aff3928535f48</td>\n",
              "      <td>1</td>\n",
              "    </tr>\n",
              "    <tr>\n",
              "      <th>13</th>\n",
              "      <td>aff3928535f48</td>\n",
              "      <td>2</td>\n",
              "    </tr>\n",
              "  </tbody>\n",
              "</table>\n",
              "</div>"
            ],
            "text/plain": [
              "       session_id rank\n",
              "13  aff3928535f48    1\n",
              "13  aff3928535f48    2"
            ]
          },
          "metadata": {
            "tags": []
          },
          "execution_count": 28
        }
      ]
    },
    {
      "cell_type": "code",
      "metadata": {
        "id": "Uynfac9SvYED",
        "colab_type": "code",
        "outputId": "6a4691d1-c93e-44e3-e6e5-569ba0879aed",
        "colab": {
          "base_uri": "https://localhost:8080/",
          "height": 108
        }
      },
      "source": [
        "#creating dataframe that combines both items and rank\n",
        "ItemRankDF = pd.DataFrame({'item_id':SessionImpressionsDF_exploded['item_id'].values.tolist(),\n",
        "                            'rank':SessionRankDF_exploded['rank'].values.tolist()})\n",
        "ItemRankDF.head(2)"
      ],
      "execution_count": 29,
      "outputs": [
        {
          "output_type": "execute_result",
          "data": {
            "text/html": [
              "<div>\n",
              "<style scoped>\n",
              "    .dataframe tbody tr th:only-of-type {\n",
              "        vertical-align: middle;\n",
              "    }\n",
              "\n",
              "    .dataframe tbody tr th {\n",
              "        vertical-align: top;\n",
              "    }\n",
              "\n",
              "    .dataframe thead th {\n",
              "        text-align: right;\n",
              "    }\n",
              "</style>\n",
              "<table border=\"1\" class=\"dataframe\">\n",
              "  <thead>\n",
              "    <tr style=\"text-align: right;\">\n",
              "      <th></th>\n",
              "      <th>item_id</th>\n",
              "      <th>rank</th>\n",
              "    </tr>\n",
              "  </thead>\n",
              "  <tbody>\n",
              "    <tr>\n",
              "      <th>0</th>\n",
              "      <td>3400638</td>\n",
              "      <td>1</td>\n",
              "    </tr>\n",
              "    <tr>\n",
              "      <th>1</th>\n",
              "      <td>1253714</td>\n",
              "      <td>2</td>\n",
              "    </tr>\n",
              "  </tbody>\n",
              "</table>\n",
              "</div>"
            ],
            "text/plain": [
              "   item_id  rank\n",
              "0  3400638     1\n",
              "1  1253714     2"
            ]
          },
          "metadata": {
            "tags": []
          },
          "execution_count": 29
        }
      ]
    },
    {
      "cell_type": "code",
      "metadata": {
        "id": "YMxa1LwPt5Xz",
        "colab_type": "code",
        "outputId": "a7df3a2b-cff9-4ba5-814a-17bb66777658",
        "colab": {
          "base_uri": "https://localhost:8080/",
          "height": 108
        }
      },
      "source": [
        "#getting the mean of ranks for each item\n",
        "ItemAverageRank = ItemRankDF.groupby('item_id', sort=False)['rank'].mean().to_frame().reset_index()\n",
        "ItemAverageRank = ItemAverageRank.rename(columns={'rank':'MeanRank'})\n",
        "ItemAverageRank.head(2)"
      ],
      "execution_count": 30,
      "outputs": [
        {
          "output_type": "execute_result",
          "data": {
            "text/html": [
              "<div>\n",
              "<style scoped>\n",
              "    .dataframe tbody tr th:only-of-type {\n",
              "        vertical-align: middle;\n",
              "    }\n",
              "\n",
              "    .dataframe tbody tr th {\n",
              "        vertical-align: top;\n",
              "    }\n",
              "\n",
              "    .dataframe thead th {\n",
              "        text-align: right;\n",
              "    }\n",
              "</style>\n",
              "<table border=\"1\" class=\"dataframe\">\n",
              "  <thead>\n",
              "    <tr style=\"text-align: right;\">\n",
              "      <th></th>\n",
              "      <th>item_id</th>\n",
              "      <th>MeanRank</th>\n",
              "    </tr>\n",
              "  </thead>\n",
              "  <tbody>\n",
              "    <tr>\n",
              "      <th>0</th>\n",
              "      <td>3400638</td>\n",
              "      <td>15.627291</td>\n",
              "    </tr>\n",
              "    <tr>\n",
              "      <th>1</th>\n",
              "      <td>1253714</td>\n",
              "      <td>14.321429</td>\n",
              "    </tr>\n",
              "  </tbody>\n",
              "</table>\n",
              "</div>"
            ],
            "text/plain": [
              "   item_id   MeanRank\n",
              "0  3400638  15.627291\n",
              "1  1253714  14.321429"
            ]
          },
          "metadata": {
            "tags": []
          },
          "execution_count": 30
        }
      ]
    },
    {
      "cell_type": "code",
      "metadata": {
        "id": "bSAFmNwzq8TT",
        "colab_type": "code",
        "colab": {
          "base_uri": "https://localhost:8080/",
          "height": 128
        },
        "outputId": "41d13a1b-c63a-44ea-d072-4be936c22232"
      },
      "source": [
        "#left joining\n",
        "item_metadata = item_metadata.merge(ItemAverageRank, on='item_id', how='left')\n",
        "item_metadata.head(2)"
      ],
      "execution_count": 31,
      "outputs": [
        {
          "output_type": "execute_result",
          "data": {
            "text/html": [
              "<div>\n",
              "<style scoped>\n",
              "    .dataframe tbody tr th:only-of-type {\n",
              "        vertical-align: middle;\n",
              "    }\n",
              "\n",
              "    .dataframe tbody tr th {\n",
              "        vertical-align: top;\n",
              "    }\n",
              "\n",
              "    .dataframe thead th {\n",
              "        text-align: right;\n",
              "    }\n",
              "</style>\n",
              "<table border=\"1\" class=\"dataframe\">\n",
              "  <thead>\n",
              "    <tr style=\"text-align: right;\">\n",
              "      <th></th>\n",
              "      <th>item_id</th>\n",
              "      <th>NumberOfProperties</th>\n",
              "      <th>NumberInImpressions</th>\n",
              "      <th>NumberInReferences</th>\n",
              "      <th>NumberAsClickout</th>\n",
              "      <th>NumberAsFinalClickout</th>\n",
              "      <th>FClickoutToImpressions</th>\n",
              "      <th>FClickoutToReferences</th>\n",
              "      <th>FClickoutToClickout</th>\n",
              "      <th>MeanRank</th>\n",
              "    </tr>\n",
              "  </thead>\n",
              "  <tbody>\n",
              "    <tr>\n",
              "      <th>0</th>\n",
              "      <td>5101</td>\n",
              "      <td>62</td>\n",
              "      <td>89.0</td>\n",
              "      <td>14.0</td>\n",
              "      <td>7.0</td>\n",
              "      <td>4.0</td>\n",
              "      <td>0.044944</td>\n",
              "      <td>0.285714</td>\n",
              "      <td>0.571429</td>\n",
              "      <td>12.168539</td>\n",
              "    </tr>\n",
              "    <tr>\n",
              "      <th>1</th>\n",
              "      <td>5416</td>\n",
              "      <td>46</td>\n",
              "      <td>63.0</td>\n",
              "      <td>43.0</td>\n",
              "      <td>6.0</td>\n",
              "      <td>2.0</td>\n",
              "      <td>0.031746</td>\n",
              "      <td>0.046512</td>\n",
              "      <td>0.333333</td>\n",
              "      <td>10.111111</td>\n",
              "    </tr>\n",
              "  </tbody>\n",
              "</table>\n",
              "</div>"
            ],
            "text/plain": [
              "  item_id  NumberOfProperties  ...  FClickoutToClickout   MeanRank\n",
              "0    5101                  62  ...             0.571429  12.168539\n",
              "1    5416                  46  ...             0.333333  10.111111\n",
              "\n",
              "[2 rows x 10 columns]"
            ]
          },
          "metadata": {
            "tags": []
          },
          "execution_count": 31
        }
      ]
    },
    {
      "cell_type": "markdown",
      "metadata": {
        "id": "YnQxWbO_FgmH",
        "colab_type": "text"
      },
      "source": [
        "### Item's Average Price\n",
        "The purpose of this feature is to get item's average price accross the train set.  \n",
        "Making sure that the length of each impressions list is as the same length of the prices list."
      ]
    },
    {
      "cell_type": "code",
      "metadata": {
        "id": "sGvOT_bVutyK",
        "colab_type": "code",
        "outputId": "2fbc524e-3891-4d75-d4a2-8183857167e8",
        "colab": {
          "base_uri": "https://localhost:8080/",
          "height": 35
        }
      },
      "source": [
        "ImpressionsLength = ClickoutUniqueDF.impressions.apply(lambda x: x.split('|')).apply(lambda x: len(x))\n",
        "PricesLength = ClickoutUniqueDF.prices.apply(lambda x: x.split('|')).apply(lambda x: len(x))\n",
        "ImpressionsLength.equals(PricesLength)"
      ],
      "execution_count": 32,
      "outputs": [
        {
          "output_type": "execute_result",
          "data": {
            "text/plain": [
              "True"
            ]
          },
          "metadata": {
            "tags": []
          },
          "execution_count": 32
        }
      ]
    },
    {
      "cell_type": "code",
      "metadata": {
        "id": "M2lacun2FgmJ",
        "colab_type": "code",
        "outputId": "61cae411-b862-47f1-d64c-edf96a71f70c",
        "colab": {
          "base_uri": "https://localhost:8080/",
          "height": 217
        }
      },
      "source": [
        "SessionPricesDF = ClickoutUniqueDF[['session_id', 'prices']]\n",
        "SessionPricesDF.prices = SessionPricesDF.prices.apply(lambda x: x.split('|'))\n",
        "SessionPricesDF_exploded = SessionPricesDF.explode('prices')\n",
        "ItemPriceDF = pd.DataFrame({'item_id':SessionImpressionsDF_exploded.item_id.values.tolist(),\n",
        "                            'price':SessionPricesDF_exploded.prices.values.tolist()})\n",
        "ItemPriceDF.head(2)"
      ],
      "execution_count": 33,
      "outputs": [
        {
          "output_type": "stream",
          "text": [
            "/usr/local/lib/python3.6/dist-packages/pandas/core/generic.py:5208: SettingWithCopyWarning: \n",
            "A value is trying to be set on a copy of a slice from a DataFrame.\n",
            "Try using .loc[row_indexer,col_indexer] = value instead\n",
            "\n",
            "See the caveats in the documentation: http://pandas.pydata.org/pandas-docs/stable/user_guide/indexing.html#returning-a-view-versus-a-copy\n",
            "  self[name] = value\n"
          ],
          "name": "stderr"
        },
        {
          "output_type": "execute_result",
          "data": {
            "text/html": [
              "<div>\n",
              "<style scoped>\n",
              "    .dataframe tbody tr th:only-of-type {\n",
              "        vertical-align: middle;\n",
              "    }\n",
              "\n",
              "    .dataframe tbody tr th {\n",
              "        vertical-align: top;\n",
              "    }\n",
              "\n",
              "    .dataframe thead th {\n",
              "        text-align: right;\n",
              "    }\n",
              "</style>\n",
              "<table border=\"1\" class=\"dataframe\">\n",
              "  <thead>\n",
              "    <tr style=\"text-align: right;\">\n",
              "      <th></th>\n",
              "      <th>item_id</th>\n",
              "      <th>price</th>\n",
              "    </tr>\n",
              "  </thead>\n",
              "  <tbody>\n",
              "    <tr>\n",
              "      <th>0</th>\n",
              "      <td>3400638</td>\n",
              "      <td>95</td>\n",
              "    </tr>\n",
              "    <tr>\n",
              "      <th>1</th>\n",
              "      <td>1253714</td>\n",
              "      <td>66</td>\n",
              "    </tr>\n",
              "  </tbody>\n",
              "</table>\n",
              "</div>"
            ],
            "text/plain": [
              "   item_id price\n",
              "0  3400638    95\n",
              "1  1253714    66"
            ]
          },
          "metadata": {
            "tags": []
          },
          "execution_count": 33
        }
      ]
    },
    {
      "cell_type": "code",
      "metadata": {
        "id": "MNE730GV7jFJ",
        "colab_type": "code",
        "outputId": "6f2f0547-8a1c-4308-bf6c-cdae92ac7edc",
        "colab": {
          "base_uri": "https://localhost:8080/",
          "height": 108
        }
      },
      "source": [
        "ItemPriceDF.price = ItemPriceDF.price.apply(lambda x: int(x))\n",
        "ItemAveragePriceDF = ItemPriceDF.groupby('item_id', sort=False)['price'].mean().to_frame().reset_index()\n",
        "ItemAveragePriceDF = ItemAveragePriceDF.rename(columns={'price':'MeanPrice'})\n",
        "ItemAveragePriceDF.head(2)"
      ],
      "execution_count": 34,
      "outputs": [
        {
          "output_type": "execute_result",
          "data": {
            "text/html": [
              "<div>\n",
              "<style scoped>\n",
              "    .dataframe tbody tr th:only-of-type {\n",
              "        vertical-align: middle;\n",
              "    }\n",
              "\n",
              "    .dataframe tbody tr th {\n",
              "        vertical-align: top;\n",
              "    }\n",
              "\n",
              "    .dataframe thead th {\n",
              "        text-align: right;\n",
              "    }\n",
              "</style>\n",
              "<table border=\"1\" class=\"dataframe\">\n",
              "  <thead>\n",
              "    <tr style=\"text-align: right;\">\n",
              "      <th></th>\n",
              "      <th>item_id</th>\n",
              "      <th>MeanPrice</th>\n",
              "    </tr>\n",
              "  </thead>\n",
              "  <tbody>\n",
              "    <tr>\n",
              "      <th>0</th>\n",
              "      <td>3400638</td>\n",
              "      <td>192.154786</td>\n",
              "    </tr>\n",
              "    <tr>\n",
              "      <th>1</th>\n",
              "      <td>1253714</td>\n",
              "      <td>82.678571</td>\n",
              "    </tr>\n",
              "  </tbody>\n",
              "</table>\n",
              "</div>"
            ],
            "text/plain": [
              "   item_id   MeanPrice\n",
              "0  3400638  192.154786\n",
              "1  1253714   82.678571"
            ]
          },
          "metadata": {
            "tags": []
          },
          "execution_count": 34
        }
      ]
    },
    {
      "cell_type": "code",
      "metadata": {
        "id": "fN4Heb10r7mU",
        "colab_type": "code",
        "outputId": "dddfbccf-d7a9-4c86-ae32-5876e448852c",
        "colab": {
          "base_uri": "https://localhost:8080/",
          "height": 128
        }
      },
      "source": [
        "item_metadata = item_metadata.merge(ItemAveragePriceDF, on='item_id', how='left')\n",
        "item_metadata.head(2)"
      ],
      "execution_count": 35,
      "outputs": [
        {
          "output_type": "execute_result",
          "data": {
            "text/html": [
              "<div>\n",
              "<style scoped>\n",
              "    .dataframe tbody tr th:only-of-type {\n",
              "        vertical-align: middle;\n",
              "    }\n",
              "\n",
              "    .dataframe tbody tr th {\n",
              "        vertical-align: top;\n",
              "    }\n",
              "\n",
              "    .dataframe thead th {\n",
              "        text-align: right;\n",
              "    }\n",
              "</style>\n",
              "<table border=\"1\" class=\"dataframe\">\n",
              "  <thead>\n",
              "    <tr style=\"text-align: right;\">\n",
              "      <th></th>\n",
              "      <th>item_id</th>\n",
              "      <th>NumberOfProperties</th>\n",
              "      <th>NumberInImpressions</th>\n",
              "      <th>NumberInReferences</th>\n",
              "      <th>NumberAsClickout</th>\n",
              "      <th>NumberAsFinalClickout</th>\n",
              "      <th>FClickoutToImpressions</th>\n",
              "      <th>FClickoutToReferences</th>\n",
              "      <th>FClickoutToClickout</th>\n",
              "      <th>MeanRank</th>\n",
              "      <th>MeanPrice</th>\n",
              "    </tr>\n",
              "  </thead>\n",
              "  <tbody>\n",
              "    <tr>\n",
              "      <th>0</th>\n",
              "      <td>5101</td>\n",
              "      <td>62</td>\n",
              "      <td>89.0</td>\n",
              "      <td>14.0</td>\n",
              "      <td>7.0</td>\n",
              "      <td>4.0</td>\n",
              "      <td>0.044944</td>\n",
              "      <td>0.285714</td>\n",
              "      <td>0.571429</td>\n",
              "      <td>12.168539</td>\n",
              "      <td>121.696629</td>\n",
              "    </tr>\n",
              "    <tr>\n",
              "      <th>1</th>\n",
              "      <td>5416</td>\n",
              "      <td>46</td>\n",
              "      <td>63.0</td>\n",
              "      <td>43.0</td>\n",
              "      <td>6.0</td>\n",
              "      <td>2.0</td>\n",
              "      <td>0.031746</td>\n",
              "      <td>0.046512</td>\n",
              "      <td>0.333333</td>\n",
              "      <td>10.111111</td>\n",
              "      <td>102.873016</td>\n",
              "    </tr>\n",
              "  </tbody>\n",
              "</table>\n",
              "</div>"
            ],
            "text/plain": [
              "  item_id  NumberOfProperties  ...   MeanRank   MeanPrice\n",
              "0    5101                  62  ...  12.168539  121.696629\n",
              "1    5416                  46  ...  10.111111  102.873016\n",
              "\n",
              "[2 rows x 11 columns]"
            ]
          },
          "metadata": {
            "tags": []
          },
          "execution_count": 35
        }
      ]
    },
    {
      "cell_type": "markdown",
      "metadata": {
        "id": "-hej7ZoXFY9c",
        "colab_type": "text"
      },
      "source": [
        "### Item's Maximum Price"
      ]
    },
    {
      "cell_type": "code",
      "metadata": {
        "id": "gVuwak6lFfnA",
        "colab_type": "code",
        "colab": {
          "base_uri": "https://localhost:8080/",
          "height": 108
        },
        "outputId": "8d433109-2a29-411f-cf15-437898f370c8"
      },
      "source": [
        "ItemMaximumPriceDF = ItemPriceDF.groupby('item_id', sort=False)['price'].max().to_frame().reset_index()\n",
        "ItemMaximumPriceDF = ItemMaximumPriceDF.rename(columns={'price':'MaxPrice'})\n",
        "ItemMaximumPriceDF.head(2)"
      ],
      "execution_count": 36,
      "outputs": [
        {
          "output_type": "execute_result",
          "data": {
            "text/html": [
              "<div>\n",
              "<style scoped>\n",
              "    .dataframe tbody tr th:only-of-type {\n",
              "        vertical-align: middle;\n",
              "    }\n",
              "\n",
              "    .dataframe tbody tr th {\n",
              "        vertical-align: top;\n",
              "    }\n",
              "\n",
              "    .dataframe thead th {\n",
              "        text-align: right;\n",
              "    }\n",
              "</style>\n",
              "<table border=\"1\" class=\"dataframe\">\n",
              "  <thead>\n",
              "    <tr style=\"text-align: right;\">\n",
              "      <th></th>\n",
              "      <th>item_id</th>\n",
              "      <th>MaxPrice</th>\n",
              "    </tr>\n",
              "  </thead>\n",
              "  <tbody>\n",
              "    <tr>\n",
              "      <th>0</th>\n",
              "      <td>3400638</td>\n",
              "      <td>2523</td>\n",
              "    </tr>\n",
              "    <tr>\n",
              "      <th>1</th>\n",
              "      <td>1253714</td>\n",
              "      <td>248</td>\n",
              "    </tr>\n",
              "  </tbody>\n",
              "</table>\n",
              "</div>"
            ],
            "text/plain": [
              "   item_id  MaxPrice\n",
              "0  3400638      2523\n",
              "1  1253714       248"
            ]
          },
          "metadata": {
            "tags": []
          },
          "execution_count": 36
        }
      ]
    },
    {
      "cell_type": "code",
      "metadata": {
        "id": "2_VVMBuRGHW6",
        "colab_type": "code",
        "colab": {
          "base_uri": "https://localhost:8080/",
          "height": 128
        },
        "outputId": "40a17bb8-0be1-42aa-df5b-a7d4a3a5cd27"
      },
      "source": [
        "#left joining\n",
        "item_metadata = item_metadata.merge(ItemMaximumPriceDF, on='item_id', how='left')\n",
        "item_metadata.head(2)"
      ],
      "execution_count": 37,
      "outputs": [
        {
          "output_type": "execute_result",
          "data": {
            "text/html": [
              "<div>\n",
              "<style scoped>\n",
              "    .dataframe tbody tr th:only-of-type {\n",
              "        vertical-align: middle;\n",
              "    }\n",
              "\n",
              "    .dataframe tbody tr th {\n",
              "        vertical-align: top;\n",
              "    }\n",
              "\n",
              "    .dataframe thead th {\n",
              "        text-align: right;\n",
              "    }\n",
              "</style>\n",
              "<table border=\"1\" class=\"dataframe\">\n",
              "  <thead>\n",
              "    <tr style=\"text-align: right;\">\n",
              "      <th></th>\n",
              "      <th>item_id</th>\n",
              "      <th>NumberOfProperties</th>\n",
              "      <th>NumberInImpressions</th>\n",
              "      <th>NumberInReferences</th>\n",
              "      <th>NumberAsClickout</th>\n",
              "      <th>NumberAsFinalClickout</th>\n",
              "      <th>FClickoutToImpressions</th>\n",
              "      <th>FClickoutToReferences</th>\n",
              "      <th>FClickoutToClickout</th>\n",
              "      <th>MeanRank</th>\n",
              "      <th>MeanPrice</th>\n",
              "      <th>MaxPrice</th>\n",
              "    </tr>\n",
              "  </thead>\n",
              "  <tbody>\n",
              "    <tr>\n",
              "      <th>0</th>\n",
              "      <td>5101</td>\n",
              "      <td>62</td>\n",
              "      <td>89.0</td>\n",
              "      <td>14.0</td>\n",
              "      <td>7.0</td>\n",
              "      <td>4.0</td>\n",
              "      <td>0.044944</td>\n",
              "      <td>0.285714</td>\n",
              "      <td>0.571429</td>\n",
              "      <td>12.168539</td>\n",
              "      <td>121.696629</td>\n",
              "      <td>241.0</td>\n",
              "    </tr>\n",
              "    <tr>\n",
              "      <th>1</th>\n",
              "      <td>5416</td>\n",
              "      <td>46</td>\n",
              "      <td>63.0</td>\n",
              "      <td>43.0</td>\n",
              "      <td>6.0</td>\n",
              "      <td>2.0</td>\n",
              "      <td>0.031746</td>\n",
              "      <td>0.046512</td>\n",
              "      <td>0.333333</td>\n",
              "      <td>10.111111</td>\n",
              "      <td>102.873016</td>\n",
              "      <td>270.0</td>\n",
              "    </tr>\n",
              "  </tbody>\n",
              "</table>\n",
              "</div>"
            ],
            "text/plain": [
              "  item_id  NumberOfProperties  ...   MeanPrice  MaxPrice\n",
              "0    5101                  62  ...  121.696629     241.0\n",
              "1    5416                  46  ...  102.873016     270.0\n",
              "\n",
              "[2 rows x 12 columns]"
            ]
          },
          "metadata": {
            "tags": []
          },
          "execution_count": 37
        }
      ]
    },
    {
      "cell_type": "markdown",
      "metadata": {
        "id": "7r1ySxGRF7gS",
        "colab_type": "text"
      },
      "source": [
        "### Item's Minimum Price"
      ]
    },
    {
      "cell_type": "code",
      "metadata": {
        "id": "ztqmLL9NF_KC",
        "colab_type": "code",
        "colab": {
          "base_uri": "https://localhost:8080/",
          "height": 108
        },
        "outputId": "aacf31c8-9545-4630-ec47-657d5fc8b83e"
      },
      "source": [
        "ItemMinimumPriceDF = ItemPriceDF.groupby('item_id', sort=False)['price'].min().to_frame().reset_index()\n",
        "ItemMinimumPriceDF = ItemMinimumPriceDF.rename(columns={'price':'MinPrice'})\n",
        "ItemMinimumPriceDF.head(2)"
      ],
      "execution_count": 38,
      "outputs": [
        {
          "output_type": "execute_result",
          "data": {
            "text/html": [
              "<div>\n",
              "<style scoped>\n",
              "    .dataframe tbody tr th:only-of-type {\n",
              "        vertical-align: middle;\n",
              "    }\n",
              "\n",
              "    .dataframe tbody tr th {\n",
              "        vertical-align: top;\n",
              "    }\n",
              "\n",
              "    .dataframe thead th {\n",
              "        text-align: right;\n",
              "    }\n",
              "</style>\n",
              "<table border=\"1\" class=\"dataframe\">\n",
              "  <thead>\n",
              "    <tr style=\"text-align: right;\">\n",
              "      <th></th>\n",
              "      <th>item_id</th>\n",
              "      <th>MinPrice</th>\n",
              "    </tr>\n",
              "  </thead>\n",
              "  <tbody>\n",
              "    <tr>\n",
              "      <th>0</th>\n",
              "      <td>3400638</td>\n",
              "      <td>68</td>\n",
              "    </tr>\n",
              "    <tr>\n",
              "      <th>1</th>\n",
              "      <td>1253714</td>\n",
              "      <td>50</td>\n",
              "    </tr>\n",
              "  </tbody>\n",
              "</table>\n",
              "</div>"
            ],
            "text/plain": [
              "   item_id  MinPrice\n",
              "0  3400638        68\n",
              "1  1253714        50"
            ]
          },
          "metadata": {
            "tags": []
          },
          "execution_count": 38
        }
      ]
    },
    {
      "cell_type": "code",
      "metadata": {
        "id": "ADr72YESGUmO",
        "colab_type": "code",
        "colab": {
          "base_uri": "https://localhost:8080/",
          "height": 128
        },
        "outputId": "7f92c44d-80e9-4292-f090-cce0d7eb0289"
      },
      "source": [
        "#left joining\n",
        "item_metadata = item_metadata.merge(ItemMinimumPriceDF, on='item_id', how='left')\n",
        "item_metadata.head(2)"
      ],
      "execution_count": 39,
      "outputs": [
        {
          "output_type": "execute_result",
          "data": {
            "text/html": [
              "<div>\n",
              "<style scoped>\n",
              "    .dataframe tbody tr th:only-of-type {\n",
              "        vertical-align: middle;\n",
              "    }\n",
              "\n",
              "    .dataframe tbody tr th {\n",
              "        vertical-align: top;\n",
              "    }\n",
              "\n",
              "    .dataframe thead th {\n",
              "        text-align: right;\n",
              "    }\n",
              "</style>\n",
              "<table border=\"1\" class=\"dataframe\">\n",
              "  <thead>\n",
              "    <tr style=\"text-align: right;\">\n",
              "      <th></th>\n",
              "      <th>item_id</th>\n",
              "      <th>NumberOfProperties</th>\n",
              "      <th>NumberInImpressions</th>\n",
              "      <th>NumberInReferences</th>\n",
              "      <th>NumberAsClickout</th>\n",
              "      <th>NumberAsFinalClickout</th>\n",
              "      <th>FClickoutToImpressions</th>\n",
              "      <th>FClickoutToReferences</th>\n",
              "      <th>FClickoutToClickout</th>\n",
              "      <th>MeanRank</th>\n",
              "      <th>MeanPrice</th>\n",
              "      <th>MaxPrice</th>\n",
              "      <th>MinPrice</th>\n",
              "    </tr>\n",
              "  </thead>\n",
              "  <tbody>\n",
              "    <tr>\n",
              "      <th>0</th>\n",
              "      <td>5101</td>\n",
              "      <td>62</td>\n",
              "      <td>89.0</td>\n",
              "      <td>14.0</td>\n",
              "      <td>7.0</td>\n",
              "      <td>4.0</td>\n",
              "      <td>0.044944</td>\n",
              "      <td>0.285714</td>\n",
              "      <td>0.571429</td>\n",
              "      <td>12.168539</td>\n",
              "      <td>121.696629</td>\n",
              "      <td>241.0</td>\n",
              "      <td>64.0</td>\n",
              "    </tr>\n",
              "    <tr>\n",
              "      <th>1</th>\n",
              "      <td>5416</td>\n",
              "      <td>46</td>\n",
              "      <td>63.0</td>\n",
              "      <td>43.0</td>\n",
              "      <td>6.0</td>\n",
              "      <td>2.0</td>\n",
              "      <td>0.031746</td>\n",
              "      <td>0.046512</td>\n",
              "      <td>0.333333</td>\n",
              "      <td>10.111111</td>\n",
              "      <td>102.873016</td>\n",
              "      <td>270.0</td>\n",
              "      <td>59.0</td>\n",
              "    </tr>\n",
              "  </tbody>\n",
              "</table>\n",
              "</div>"
            ],
            "text/plain": [
              "  item_id  NumberOfProperties  ...  MaxPrice  MinPrice\n",
              "0    5101                  62  ...     241.0      64.0\n",
              "1    5416                  46  ...     270.0      59.0\n",
              "\n",
              "[2 rows x 13 columns]"
            ]
          },
          "metadata": {
            "tags": []
          },
          "execution_count": 39
        }
      ]
    },
    {
      "cell_type": "markdown",
      "metadata": {
        "id": "yh3IoM-F9ajs",
        "colab_type": "text"
      },
      "source": [
        "### Price Rank\n",
        "The purpose of this feature is to get the average price rank of an item across the train set. Sorting the items not by what is being showed to the user, but by the items' prices, getting the average price rank for each item across the whole train. It shows where an item stands from its peers.  \n",
        "By using the argsort function, the price rank can be feature can be engineered."
      ]
    },
    {
      "cell_type": "code",
      "metadata": {
        "id": "DHCRq7taR5NL",
        "colab_type": "code",
        "outputId": "ce1d7a20-8d1f-44af-b371-0db6d8f7e527",
        "colab": {
          "base_uri": "https://localhost:8080/",
          "height": 35
        }
      },
      "source": [
        "ClickoutDF.prices[13]"
      ],
      "execution_count": 40,
      "outputs": [
        {
          "output_type": "execute_result",
          "data": {
            "text/plain": [
              "'95|66|501|112|95|100|101|72|82|56|56|143|70|25|71|162|73|143|188|118|77|131|143|49|165'"
            ]
          },
          "metadata": {
            "tags": []
          },
          "execution_count": 40
        }
      ]
    },
    {
      "cell_type": "code",
      "metadata": {
        "id": "ooGKQokEQou7",
        "colab_type": "code",
        "outputId": "cc232cf5-1600-4cef-e4e5-34fdf65dce10",
        "colab": {
          "base_uri": "https://localhost:8080/",
          "height": 54
        }
      },
      "source": [
        "np.argsort(list(map(int, ClickoutDF.prices[13].split('|'))))"
      ],
      "execution_count": 41,
      "outputs": [
        {
          "output_type": "execute_result",
          "data": {
            "text/plain": [
              "array([13, 23,  9, 10,  1, 12, 14,  7, 16, 20,  8,  0,  4,  5,  6,  3, 19,\n",
              "       21, 17, 22, 11, 15, 24, 18,  2])"
            ]
          },
          "metadata": {
            "tags": []
          },
          "execution_count": 41
        }
      ]
    },
    {
      "cell_type": "code",
      "metadata": {
        "id": "QEELRtTeR97r",
        "colab_type": "code",
        "outputId": "2d17109e-1df2-4f97-9356-fb5077095609",
        "colab": {
          "base_uri": "https://localhost:8080/",
          "height": 217
        }
      },
      "source": [
        "SessionPricesDF['PriceRank'] = SessionPricesDF.prices.apply(lambda x: (list(map(int, x))))\\\n",
        "                                                     .apply(lambda x: np.argsort(x))\n",
        "SessionPricesDF.head(2)"
      ],
      "execution_count": 42,
      "outputs": [
        {
          "output_type": "stream",
          "text": [
            "/usr/local/lib/python3.6/dist-packages/ipykernel_launcher.py:1: SettingWithCopyWarning: \n",
            "A value is trying to be set on a copy of a slice from a DataFrame.\n",
            "Try using .loc[row_indexer,col_indexer] = value instead\n",
            "\n",
            "See the caveats in the documentation: http://pandas.pydata.org/pandas-docs/stable/user_guide/indexing.html#returning-a-view-versus-a-copy\n",
            "  \"\"\"Entry point for launching an IPython kernel.\n"
          ],
          "name": "stderr"
        },
        {
          "output_type": "execute_result",
          "data": {
            "text/html": [
              "<div>\n",
              "<style scoped>\n",
              "    .dataframe tbody tr th:only-of-type {\n",
              "        vertical-align: middle;\n",
              "    }\n",
              "\n",
              "    .dataframe tbody tr th {\n",
              "        vertical-align: top;\n",
              "    }\n",
              "\n",
              "    .dataframe thead th {\n",
              "        text-align: right;\n",
              "    }\n",
              "</style>\n",
              "<table border=\"1\" class=\"dataframe\">\n",
              "  <thead>\n",
              "    <tr style=\"text-align: right;\">\n",
              "      <th></th>\n",
              "      <th>session_id</th>\n",
              "      <th>prices</th>\n",
              "      <th>PriceRank</th>\n",
              "    </tr>\n",
              "  </thead>\n",
              "  <tbody>\n",
              "    <tr>\n",
              "      <th>13</th>\n",
              "      <td>aff3928535f48</td>\n",
              "      <td>[95, 66, 501, 112, 95, 100, 101, 72, 82, 56, 5...</td>\n",
              "      <td>[13, 23, 9, 10, 1, 12, 14, 7, 16, 20, 8, 0, 4,...</td>\n",
              "    </tr>\n",
              "    <tr>\n",
              "      <th>15</th>\n",
              "      <td>aff3928535f48</td>\n",
              "      <td>[162, 25, 150, 143, 101, 49, 118, 131, 18, 100...</td>\n",
              "      <td>[8, 1, 15, 5, 12, 16, 20, 9, 4, 10, 23, 24, 6,...</td>\n",
              "    </tr>\n",
              "  </tbody>\n",
              "</table>\n",
              "</div>"
            ],
            "text/plain": [
              "       session_id  ...                                          PriceRank\n",
              "13  aff3928535f48  ...  [13, 23, 9, 10, 1, 12, 14, 7, 16, 20, 8, 0, 4,...\n",
              "15  aff3928535f48  ...  [8, 1, 15, 5, 12, 16, 20, 9, 4, 10, 23, 24, 6,...\n",
              "\n",
              "[2 rows x 3 columns]"
            ]
          },
          "metadata": {
            "tags": []
          },
          "execution_count": 42
        }
      ]
    },
    {
      "cell_type": "code",
      "metadata": {
        "id": "6n1xgaMeUQAd",
        "colab_type": "code",
        "outputId": "1ff12600-f7d8-4250-dd5a-8fea43a3e82c",
        "colab": {
          "base_uri": "https://localhost:8080/",
          "height": 108
        }
      },
      "source": [
        "SessionPricesRankDF = SessionPricesDF[['session_id', 'PriceRank']].explode('PriceRank')\n",
        "SessionPricesRankDF.head(2)"
      ],
      "execution_count": 43,
      "outputs": [
        {
          "output_type": "execute_result",
          "data": {
            "text/html": [
              "<div>\n",
              "<style scoped>\n",
              "    .dataframe tbody tr th:only-of-type {\n",
              "        vertical-align: middle;\n",
              "    }\n",
              "\n",
              "    .dataframe tbody tr th {\n",
              "        vertical-align: top;\n",
              "    }\n",
              "\n",
              "    .dataframe thead th {\n",
              "        text-align: right;\n",
              "    }\n",
              "</style>\n",
              "<table border=\"1\" class=\"dataframe\">\n",
              "  <thead>\n",
              "    <tr style=\"text-align: right;\">\n",
              "      <th></th>\n",
              "      <th>session_id</th>\n",
              "      <th>PriceRank</th>\n",
              "    </tr>\n",
              "  </thead>\n",
              "  <tbody>\n",
              "    <tr>\n",
              "      <th>13</th>\n",
              "      <td>aff3928535f48</td>\n",
              "      <td>13</td>\n",
              "    </tr>\n",
              "    <tr>\n",
              "      <th>13</th>\n",
              "      <td>aff3928535f48</td>\n",
              "      <td>23</td>\n",
              "    </tr>\n",
              "  </tbody>\n",
              "</table>\n",
              "</div>"
            ],
            "text/plain": [
              "       session_id PriceRank\n",
              "13  aff3928535f48        13\n",
              "13  aff3928535f48        23"
            ]
          },
          "metadata": {
            "tags": []
          },
          "execution_count": 43
        }
      ]
    },
    {
      "cell_type": "code",
      "metadata": {
        "id": "B0LmDwFUV-g-",
        "colab_type": "code",
        "outputId": "d1749ea3-8f07-4057-dbc3-56bb0691ee40",
        "colab": {
          "base_uri": "https://localhost:8080/",
          "height": 108
        }
      },
      "source": [
        "ItemPriceRankDF = pd.DataFrame({'item_id':SessionImpressionsDF_exploded.item_id.values.tolist(),\n",
        "                            'PriceRank':SessionPricesRankDF.PriceRank.values.tolist()})\n",
        "ItemPriceRankDF.head(2)"
      ],
      "execution_count": 44,
      "outputs": [
        {
          "output_type": "execute_result",
          "data": {
            "text/html": [
              "<div>\n",
              "<style scoped>\n",
              "    .dataframe tbody tr th:only-of-type {\n",
              "        vertical-align: middle;\n",
              "    }\n",
              "\n",
              "    .dataframe tbody tr th {\n",
              "        vertical-align: top;\n",
              "    }\n",
              "\n",
              "    .dataframe thead th {\n",
              "        text-align: right;\n",
              "    }\n",
              "</style>\n",
              "<table border=\"1\" class=\"dataframe\">\n",
              "  <thead>\n",
              "    <tr style=\"text-align: right;\">\n",
              "      <th></th>\n",
              "      <th>item_id</th>\n",
              "      <th>PriceRank</th>\n",
              "    </tr>\n",
              "  </thead>\n",
              "  <tbody>\n",
              "    <tr>\n",
              "      <th>0</th>\n",
              "      <td>3400638</td>\n",
              "      <td>13</td>\n",
              "    </tr>\n",
              "    <tr>\n",
              "      <th>1</th>\n",
              "      <td>1253714</td>\n",
              "      <td>23</td>\n",
              "    </tr>\n",
              "  </tbody>\n",
              "</table>\n",
              "</div>"
            ],
            "text/plain": [
              "   item_id  PriceRank\n",
              "0  3400638         13\n",
              "1  1253714         23"
            ]
          },
          "metadata": {
            "tags": []
          },
          "execution_count": 44
        }
      ]
    },
    {
      "cell_type": "code",
      "metadata": {
        "id": "O-K_oWItNq7u",
        "colab_type": "code",
        "outputId": "8019e1c0-db2f-46a5-b69b-0fa97436fae8",
        "colab": {
          "base_uri": "https://localhost:8080/",
          "height": 108
        }
      },
      "source": [
        "#getting the average price rank of each item\n",
        "ItemAveragePriceRankDF = ItemPriceRankDF.groupby('item_id', sort=False).PriceRank.mean().to_frame().reset_index()\n",
        "ItemAveragePriceRankDF = ItemAveragePriceRankDF.rename(columns={'PriceRank':'AveragePriceRank'})\n",
        "ItemAveragePriceRankDF.head(2)"
      ],
      "execution_count": 45,
      "outputs": [
        {
          "output_type": "execute_result",
          "data": {
            "text/html": [
              "<div>\n",
              "<style scoped>\n",
              "    .dataframe tbody tr th:only-of-type {\n",
              "        vertical-align: middle;\n",
              "    }\n",
              "\n",
              "    .dataframe tbody tr th {\n",
              "        vertical-align: top;\n",
              "    }\n",
              "\n",
              "    .dataframe thead th {\n",
              "        text-align: right;\n",
              "    }\n",
              "</style>\n",
              "<table border=\"1\" class=\"dataframe\">\n",
              "  <thead>\n",
              "    <tr style=\"text-align: right;\">\n",
              "      <th></th>\n",
              "      <th>item_id</th>\n",
              "      <th>AveragePriceRank</th>\n",
              "    </tr>\n",
              "  </thead>\n",
              "  <tbody>\n",
              "    <tr>\n",
              "      <th>0</th>\n",
              "      <td>3400638</td>\n",
              "      <td>11.826884</td>\n",
              "    </tr>\n",
              "    <tr>\n",
              "      <th>1</th>\n",
              "      <td>1253714</td>\n",
              "      <td>11.309524</td>\n",
              "    </tr>\n",
              "  </tbody>\n",
              "</table>\n",
              "</div>"
            ],
            "text/plain": [
              "   item_id  AveragePriceRank\n",
              "0  3400638         11.826884\n",
              "1  1253714         11.309524"
            ]
          },
          "metadata": {
            "tags": []
          },
          "execution_count": 45
        }
      ]
    },
    {
      "cell_type": "code",
      "metadata": {
        "id": "Z5NotIQJtPsn",
        "colab_type": "code",
        "outputId": "08f2dd48-98c1-4010-ff39-c8960b2067a6",
        "colab": {
          "base_uri": "https://localhost:8080/",
          "height": 128
        }
      },
      "source": [
        "# left joining\n",
        "item_metadata = item_metadata.merge(ItemAveragePriceRankDF, on='item_id', how='left')\n",
        "item_metadata.head(2)"
      ],
      "execution_count": 46,
      "outputs": [
        {
          "output_type": "execute_result",
          "data": {
            "text/html": [
              "<div>\n",
              "<style scoped>\n",
              "    .dataframe tbody tr th:only-of-type {\n",
              "        vertical-align: middle;\n",
              "    }\n",
              "\n",
              "    .dataframe tbody tr th {\n",
              "        vertical-align: top;\n",
              "    }\n",
              "\n",
              "    .dataframe thead th {\n",
              "        text-align: right;\n",
              "    }\n",
              "</style>\n",
              "<table border=\"1\" class=\"dataframe\">\n",
              "  <thead>\n",
              "    <tr style=\"text-align: right;\">\n",
              "      <th></th>\n",
              "      <th>item_id</th>\n",
              "      <th>NumberOfProperties</th>\n",
              "      <th>NumberInImpressions</th>\n",
              "      <th>NumberInReferences</th>\n",
              "      <th>NumberAsClickout</th>\n",
              "      <th>NumberAsFinalClickout</th>\n",
              "      <th>FClickoutToImpressions</th>\n",
              "      <th>FClickoutToReferences</th>\n",
              "      <th>FClickoutToClickout</th>\n",
              "      <th>MeanRank</th>\n",
              "      <th>MeanPrice</th>\n",
              "      <th>MaxPrice</th>\n",
              "      <th>MinPrice</th>\n",
              "      <th>AveragePriceRank</th>\n",
              "    </tr>\n",
              "  </thead>\n",
              "  <tbody>\n",
              "    <tr>\n",
              "      <th>0</th>\n",
              "      <td>5101</td>\n",
              "      <td>62</td>\n",
              "      <td>89.0</td>\n",
              "      <td>14.0</td>\n",
              "      <td>7.0</td>\n",
              "      <td>4.0</td>\n",
              "      <td>0.044944</td>\n",
              "      <td>0.285714</td>\n",
              "      <td>0.571429</td>\n",
              "      <td>12.168539</td>\n",
              "      <td>121.696629</td>\n",
              "      <td>241.0</td>\n",
              "      <td>64.0</td>\n",
              "      <td>12.303371</td>\n",
              "    </tr>\n",
              "    <tr>\n",
              "      <th>1</th>\n",
              "      <td>5416</td>\n",
              "      <td>46</td>\n",
              "      <td>63.0</td>\n",
              "      <td>43.0</td>\n",
              "      <td>6.0</td>\n",
              "      <td>2.0</td>\n",
              "      <td>0.031746</td>\n",
              "      <td>0.046512</td>\n",
              "      <td>0.333333</td>\n",
              "      <td>10.111111</td>\n",
              "      <td>102.873016</td>\n",
              "      <td>270.0</td>\n",
              "      <td>59.0</td>\n",
              "      <td>11.095238</td>\n",
              "    </tr>\n",
              "  </tbody>\n",
              "</table>\n",
              "</div>"
            ],
            "text/plain": [
              "  item_id  NumberOfProperties  ...  MinPrice  AveragePriceRank\n",
              "0    5101                  62  ...      64.0         12.303371\n",
              "1    5416                  46  ...      59.0         11.095238\n",
              "\n",
              "[2 rows x 14 columns]"
            ]
          },
          "metadata": {
            "tags": []
          },
          "execution_count": 46
        }
      ]
    },
    {
      "cell_type": "code",
      "metadata": {
        "id": "8BnMPJ-pwdbZ",
        "colab_type": "code",
        "colab": {
          "base_uri": "https://localhost:8080/",
          "height": 209
        },
        "outputId": "c9934f88-e3a5-4f04-9914-74e28cb852b4"
      },
      "source": [
        "#filling NaN values with zeros\n",
        "item_metadata = item_metadata.fillna(0)\n",
        "\n",
        "GlobalItemFeatures = item_metadata.merge(properties_encodedDF, on='item_id', how='left')\n",
        "GlobalItemFeatures.head(2)"
      ],
      "execution_count": 47,
      "outputs": [
        {
          "output_type": "execute_result",
          "data": {
            "text/html": [
              "<div>\n",
              "<style scoped>\n",
              "    .dataframe tbody tr th:only-of-type {\n",
              "        vertical-align: middle;\n",
              "    }\n",
              "\n",
              "    .dataframe tbody tr th {\n",
              "        vertical-align: top;\n",
              "    }\n",
              "\n",
              "    .dataframe thead th {\n",
              "        text-align: right;\n",
              "    }\n",
              "</style>\n",
              "<table border=\"1\" class=\"dataframe\">\n",
              "  <thead>\n",
              "    <tr style=\"text-align: right;\">\n",
              "      <th></th>\n",
              "      <th>item_id</th>\n",
              "      <th>NumberOfProperties</th>\n",
              "      <th>NumberInImpressions</th>\n",
              "      <th>NumberInReferences</th>\n",
              "      <th>NumberAsClickout</th>\n",
              "      <th>NumberAsFinalClickout</th>\n",
              "      <th>FClickoutToImpressions</th>\n",
              "      <th>FClickoutToReferences</th>\n",
              "      <th>FClickoutToClickout</th>\n",
              "      <th>MeanRank</th>\n",
              "      <th>MeanPrice</th>\n",
              "      <th>MaxPrice</th>\n",
              "      <th>MinPrice</th>\n",
              "      <th>AveragePriceRank</th>\n",
              "      <th>1 Star</th>\n",
              "      <th>2 Star</th>\n",
              "      <th>3 Star</th>\n",
              "      <th>4 Star</th>\n",
              "      <th>5 Star</th>\n",
              "      <th>Accessible Hotel</th>\n",
              "      <th>Accessible Parking</th>\n",
              "      <th>Adults Only</th>\n",
              "      <th>Air Conditioning</th>\n",
              "      <th>Airport Hotel</th>\n",
              "      <th>Airport Shuttle</th>\n",
              "      <th>All Inclusive (Upon Inquiry)</th>\n",
              "      <th>Balcony</th>\n",
              "      <th>Bathtub</th>\n",
              "      <th>Beach</th>\n",
              "      <th>Beach Bar</th>\n",
              "      <th>Beauty Salon</th>\n",
              "      <th>Bed &amp; Breakfast</th>\n",
              "      <th>Bike Rental</th>\n",
              "      <th>Boat Rental</th>\n",
              "      <th>Body Treatments</th>\n",
              "      <th>Boutique Hotel</th>\n",
              "      <th>Bowling</th>\n",
              "      <th>Bungalows</th>\n",
              "      <th>Business Centre</th>\n",
              "      <th>Business Hotel</th>\n",
              "      <th>...</th>\n",
              "      <th>Sailing</th>\n",
              "      <th>Satellite TV</th>\n",
              "      <th>Satisfactory Rating</th>\n",
              "      <th>Sauna</th>\n",
              "      <th>Self Catering</th>\n",
              "      <th>Senior Travellers</th>\n",
              "      <th>Serviced Apartment</th>\n",
              "      <th>Shooting Sports</th>\n",
              "      <th>Shower</th>\n",
              "      <th>Singles</th>\n",
              "      <th>Sitting Area (Rooms)</th>\n",
              "      <th>Ski Resort</th>\n",
              "      <th>Skiing</th>\n",
              "      <th>Solarium</th>\n",
              "      <th>Spa (Wellness Facility)</th>\n",
              "      <th>Spa Hotel</th>\n",
              "      <th>Steam Room</th>\n",
              "      <th>Sun Umbrellas</th>\n",
              "      <th>Surfing</th>\n",
              "      <th>Swimming Pool (Bar)</th>\n",
              "      <th>Swimming Pool (Combined Filter)</th>\n",
              "      <th>Swimming Pool (Indoor)</th>\n",
              "      <th>Swimming Pool (Outdoor)</th>\n",
              "      <th>Szep Kartya</th>\n",
              "      <th>Table Tennis</th>\n",
              "      <th>Telephone</th>\n",
              "      <th>Teleprinter</th>\n",
              "      <th>Television</th>\n",
              "      <th>Tennis Court</th>\n",
              "      <th>Tennis Court (Indoor)</th>\n",
              "      <th>Terrace (Hotel)</th>\n",
              "      <th>Theme Hotel</th>\n",
              "      <th>Towels</th>\n",
              "      <th>Very Good Rating</th>\n",
              "      <th>Volleyball</th>\n",
              "      <th>Washing Machine</th>\n",
              "      <th>Water Slide</th>\n",
              "      <th>Wheelchair Accessible</th>\n",
              "      <th>WiFi (Public Areas)</th>\n",
              "      <th>WiFi (Rooms)</th>\n",
              "    </tr>\n",
              "  </thead>\n",
              "  <tbody>\n",
              "    <tr>\n",
              "      <th>0</th>\n",
              "      <td>5101</td>\n",
              "      <td>62</td>\n",
              "      <td>89.0</td>\n",
              "      <td>14.0</td>\n",
              "      <td>7.0</td>\n",
              "      <td>4.0</td>\n",
              "      <td>0.044944</td>\n",
              "      <td>0.285714</td>\n",
              "      <td>0.571429</td>\n",
              "      <td>12.168539</td>\n",
              "      <td>121.696629</td>\n",
              "      <td>241.0</td>\n",
              "      <td>64.0</td>\n",
              "      <td>12.303371</td>\n",
              "      <td>0</td>\n",
              "      <td>0</td>\n",
              "      <td>0</td>\n",
              "      <td>1</td>\n",
              "      <td>0</td>\n",
              "      <td>1</td>\n",
              "      <td>1</td>\n",
              "      <td>0</td>\n",
              "      <td>1</td>\n",
              "      <td>0</td>\n",
              "      <td>1</td>\n",
              "      <td>0</td>\n",
              "      <td>1</td>\n",
              "      <td>1</td>\n",
              "      <td>0</td>\n",
              "      <td>0</td>\n",
              "      <td>0</td>\n",
              "      <td>0</td>\n",
              "      <td>1</td>\n",
              "      <td>0</td>\n",
              "      <td>0</td>\n",
              "      <td>0</td>\n",
              "      <td>1</td>\n",
              "      <td>0</td>\n",
              "      <td>1</td>\n",
              "      <td>1</td>\n",
              "      <td>...</td>\n",
              "      <td>0</td>\n",
              "      <td>1</td>\n",
              "      <td>1</td>\n",
              "      <td>0</td>\n",
              "      <td>0</td>\n",
              "      <td>0</td>\n",
              "      <td>0</td>\n",
              "      <td>0</td>\n",
              "      <td>1</td>\n",
              "      <td>0</td>\n",
              "      <td>1</td>\n",
              "      <td>0</td>\n",
              "      <td>0</td>\n",
              "      <td>0</td>\n",
              "      <td>0</td>\n",
              "      <td>0</td>\n",
              "      <td>0</td>\n",
              "      <td>0</td>\n",
              "      <td>0</td>\n",
              "      <td>0</td>\n",
              "      <td>0</td>\n",
              "      <td>0</td>\n",
              "      <td>0</td>\n",
              "      <td>0</td>\n",
              "      <td>0</td>\n",
              "      <td>1</td>\n",
              "      <td>0</td>\n",
              "      <td>1</td>\n",
              "      <td>1</td>\n",
              "      <td>1</td>\n",
              "      <td>1</td>\n",
              "      <td>0</td>\n",
              "      <td>0</td>\n",
              "      <td>0</td>\n",
              "      <td>0</td>\n",
              "      <td>0</td>\n",
              "      <td>0</td>\n",
              "      <td>0</td>\n",
              "      <td>1</td>\n",
              "      <td>1</td>\n",
              "    </tr>\n",
              "    <tr>\n",
              "      <th>1</th>\n",
              "      <td>5416</td>\n",
              "      <td>46</td>\n",
              "      <td>63.0</td>\n",
              "      <td>43.0</td>\n",
              "      <td>6.0</td>\n",
              "      <td>2.0</td>\n",
              "      <td>0.031746</td>\n",
              "      <td>0.046512</td>\n",
              "      <td>0.333333</td>\n",
              "      <td>10.111111</td>\n",
              "      <td>102.873016</td>\n",
              "      <td>270.0</td>\n",
              "      <td>59.0</td>\n",
              "      <td>11.095238</td>\n",
              "      <td>0</td>\n",
              "      <td>0</td>\n",
              "      <td>0</td>\n",
              "      <td>1</td>\n",
              "      <td>0</td>\n",
              "      <td>0</td>\n",
              "      <td>0</td>\n",
              "      <td>0</td>\n",
              "      <td>0</td>\n",
              "      <td>0</td>\n",
              "      <td>0</td>\n",
              "      <td>0</td>\n",
              "      <td>0</td>\n",
              "      <td>1</td>\n",
              "      <td>0</td>\n",
              "      <td>0</td>\n",
              "      <td>0</td>\n",
              "      <td>0</td>\n",
              "      <td>1</td>\n",
              "      <td>0</td>\n",
              "      <td>0</td>\n",
              "      <td>0</td>\n",
              "      <td>0</td>\n",
              "      <td>0</td>\n",
              "      <td>0</td>\n",
              "      <td>1</td>\n",
              "      <td>...</td>\n",
              "      <td>0</td>\n",
              "      <td>1</td>\n",
              "      <td>1</td>\n",
              "      <td>1</td>\n",
              "      <td>0</td>\n",
              "      <td>0</td>\n",
              "      <td>0</td>\n",
              "      <td>0</td>\n",
              "      <td>1</td>\n",
              "      <td>0</td>\n",
              "      <td>1</td>\n",
              "      <td>0</td>\n",
              "      <td>0</td>\n",
              "      <td>0</td>\n",
              "      <td>1</td>\n",
              "      <td>0</td>\n",
              "      <td>0</td>\n",
              "      <td>0</td>\n",
              "      <td>0</td>\n",
              "      <td>0</td>\n",
              "      <td>0</td>\n",
              "      <td>0</td>\n",
              "      <td>0</td>\n",
              "      <td>0</td>\n",
              "      <td>0</td>\n",
              "      <td>1</td>\n",
              "      <td>0</td>\n",
              "      <td>1</td>\n",
              "      <td>0</td>\n",
              "      <td>0</td>\n",
              "      <td>1</td>\n",
              "      <td>0</td>\n",
              "      <td>0</td>\n",
              "      <td>1</td>\n",
              "      <td>0</td>\n",
              "      <td>0</td>\n",
              "      <td>0</td>\n",
              "      <td>1</td>\n",
              "      <td>1</td>\n",
              "      <td>1</td>\n",
              "    </tr>\n",
              "  </tbody>\n",
              "</table>\n",
              "<p>2 rows × 171 columns</p>\n",
              "</div>"
            ],
            "text/plain": [
              "  item_id  NumberOfProperties  ...  WiFi (Public Areas)  WiFi (Rooms)\n",
              "0    5101                  62  ...                    1             1\n",
              "1    5416                  46  ...                    1             1\n",
              "\n",
              "[2 rows x 171 columns]"
            ]
          },
          "metadata": {
            "tags": []
          },
          "execution_count": 47
        }
      ]
    },
    {
      "cell_type": "code",
      "metadata": {
        "id": "KQXwjYxPNxFm",
        "colab_type": "code",
        "colab": {}
      },
      "source": [
        "GlobalItemFeatures.to_csv('GlobalFeatures')"
      ],
      "execution_count": 0,
      "outputs": []
    },
    {
      "cell_type": "markdown",
      "metadata": {
        "id": "25qls0N8Fgmk",
        "colab_type": "text"
      },
      "source": [
        "## Item Local Features"
      ]
    },
    {
      "cell_type": "markdown",
      "metadata": {
        "id": "jwSZID8E_-OF",
        "colab_type": "text"
      },
      "source": [
        "### General Features"
      ]
    },
    {
      "cell_type": "code",
      "metadata": {
        "id": "SoQmAtN15eYl",
        "colab_type": "code",
        "outputId": "bcc73fbb-02b3-4461-f98f-0d20b2c7a309",
        "colab": {
          "base_uri": "https://localhost:8080/",
          "height": 35
        }
      },
      "source": [
        "session_gb = train.groupby('session_id', sort=False)\n",
        "train.session_id.nunique()"
      ],
      "execution_count": 7,
      "outputs": [
        {
          "output_type": "execute_result",
          "data": {
            "text/plain": [
              "745755"
            ]
          },
          "metadata": {
            "tags": []
          },
          "execution_count": 7
        }
      ]
    },
    {
      "cell_type": "markdown",
      "metadata": {
        "id": "ehP298jqqaFU",
        "colab_type": "text"
      },
      "source": [
        "#### item_id"
      ]
    },
    {
      "cell_type": "code",
      "metadata": {
        "id": "u9P2_UkX3bXZ",
        "colab_type": "code",
        "colab": {
          "base_uri": "https://localhost:8080/",
          "height": 108
        },
        "outputId": "48bc6eb3-bcf4-49b3-b4d3-27a98d0016cb"
      },
      "source": [
        "session = session_gb.get_group('aff3928535f48')\n",
        "session_exploded = session[session.action_type=='clickout item'].tail(1)[['impressions']]\n",
        "session_exploded.impressions = session_exploded.impressions.apply(lambda x: x.split('|'))\n",
        "session_exploded = session_exploded.explode('impressions')\n",
        "session_exploded = session_exploded.rename(columns={'impressions':'item_id'})\n",
        "session_exploded.head(2)"
      ],
      "execution_count": 8,
      "outputs": [
        {
          "output_type": "execute_result",
          "data": {
            "text/html": [
              "<div>\n",
              "<style scoped>\n",
              "    .dataframe tbody tr th:only-of-type {\n",
              "        vertical-align: middle;\n",
              "    }\n",
              "\n",
              "    .dataframe tbody tr th {\n",
              "        vertical-align: top;\n",
              "    }\n",
              "\n",
              "    .dataframe thead th {\n",
              "        text-align: right;\n",
              "    }\n",
              "</style>\n",
              "<table border=\"1\" class=\"dataframe\">\n",
              "  <thead>\n",
              "    <tr style=\"text-align: right;\">\n",
              "      <th></th>\n",
              "      <th>item_id</th>\n",
              "    </tr>\n",
              "  </thead>\n",
              "  <tbody>\n",
              "    <tr>\n",
              "      <th>15</th>\n",
              "      <td>55109</td>\n",
              "    </tr>\n",
              "    <tr>\n",
              "      <th>15</th>\n",
              "      <td>129343</td>\n",
              "    </tr>\n",
              "  </tbody>\n",
              "</table>\n",
              "</div>"
            ],
            "text/plain": [
              "   item_id\n",
              "15   55109\n",
              "15  129343"
            ]
          },
          "metadata": {
            "tags": []
          },
          "execution_count": 8
        }
      ]
    },
    {
      "cell_type": "markdown",
      "metadata": {
        "id": "galeQ-YOqeqc",
        "colab_type": "text"
      },
      "source": [
        "#### price"
      ]
    },
    {
      "cell_type": "code",
      "metadata": {
        "id": "vqEq14tW8ZC9",
        "colab_type": "code",
        "colab": {
          "base_uri": "https://localhost:8080/",
          "height": 108
        },
        "outputId": "5b3db25f-0f15-4a01-d2e4-4bb558eb698d"
      },
      "source": [
        "session_explode = session[session.action_type=='clickout item'].tail(1)[['prices']]\n",
        "session_explode.prices = session_explode.prices.apply(lambda x: x.split('|'))\n",
        "session_explode = session_explode.explode('prices')\n",
        "session_explode = session_explode.rename(columns={'prices':'price'})\n",
        "session_explode.price = session_explode.price.apply(lambda x: int(x))\n",
        "session_explode.head(2)"
      ],
      "execution_count": 9,
      "outputs": [
        {
          "output_type": "execute_result",
          "data": {
            "text/html": [
              "<div>\n",
              "<style scoped>\n",
              "    .dataframe tbody tr th:only-of-type {\n",
              "        vertical-align: middle;\n",
              "    }\n",
              "\n",
              "    .dataframe tbody tr th {\n",
              "        vertical-align: top;\n",
              "    }\n",
              "\n",
              "    .dataframe thead th {\n",
              "        text-align: right;\n",
              "    }\n",
              "</style>\n",
              "<table border=\"1\" class=\"dataframe\">\n",
              "  <thead>\n",
              "    <tr style=\"text-align: right;\">\n",
              "      <th></th>\n",
              "      <th>price</th>\n",
              "    </tr>\n",
              "  </thead>\n",
              "  <tbody>\n",
              "    <tr>\n",
              "      <th>15</th>\n",
              "      <td>162</td>\n",
              "    </tr>\n",
              "    <tr>\n",
              "      <th>15</th>\n",
              "      <td>25</td>\n",
              "    </tr>\n",
              "  </tbody>\n",
              "</table>\n",
              "</div>"
            ],
            "text/plain": [
              "    price\n",
              "15    162\n",
              "15     25"
            ]
          },
          "metadata": {
            "tags": []
          },
          "execution_count": 9
        }
      ]
    },
    {
      "cell_type": "markdown",
      "metadata": {
        "id": "P8cSs5b3ql94",
        "colab_type": "text"
      },
      "source": [
        "#### rank"
      ]
    },
    {
      "cell_type": "code",
      "metadata": {
        "id": "POEnSYWFqnl9",
        "colab_type": "code",
        "colab": {}
      },
      "source": [
        "session_exploded['rank'] = range(1, len(session_exploded) + 1)\n",
        "session_exploded.head(2)"
      ],
      "execution_count": 0,
      "outputs": []
    },
    {
      "cell_type": "markdown",
      "metadata": {
        "id": "N4GvFMRjqsM7",
        "colab_type": "text"
      },
      "source": [
        "#### price_rank"
      ]
    },
    {
      "cell_type": "code",
      "metadata": {
        "id": "m9tdkUau85ko",
        "colab_type": "code",
        "colab": {
          "base_uri": "https://localhost:8080/",
          "height": 108
        },
        "outputId": "4fd0a885-b62f-4e70-a5e4-01204347a5e4"
      },
      "source": [
        "session_exploded['price'] = session_explode.price\n",
        "session_exploded['price_rank'] = np.argsort(session_exploded['price'])\n",
        "session_exploded.head(2)"
      ],
      "execution_count": 10,
      "outputs": [
        {
          "output_type": "execute_result",
          "data": {
            "text/html": [
              "<div>\n",
              "<style scoped>\n",
              "    .dataframe tbody tr th:only-of-type {\n",
              "        vertical-align: middle;\n",
              "    }\n",
              "\n",
              "    .dataframe tbody tr th {\n",
              "        vertical-align: top;\n",
              "    }\n",
              "\n",
              "    .dataframe thead th {\n",
              "        text-align: right;\n",
              "    }\n",
              "</style>\n",
              "<table border=\"1\" class=\"dataframe\">\n",
              "  <thead>\n",
              "    <tr style=\"text-align: right;\">\n",
              "      <th></th>\n",
              "      <th>item_id</th>\n",
              "      <th>price</th>\n",
              "      <th>rank</th>\n",
              "      <th>price_rank</th>\n",
              "    </tr>\n",
              "  </thead>\n",
              "  <tbody>\n",
              "    <tr>\n",
              "      <th>15</th>\n",
              "      <td>55109</td>\n",
              "      <td>162</td>\n",
              "      <td>1</td>\n",
              "      <td>8</td>\n",
              "    </tr>\n",
              "    <tr>\n",
              "      <th>15</th>\n",
              "      <td>129343</td>\n",
              "      <td>25</td>\n",
              "      <td>2</td>\n",
              "      <td>1</td>\n",
              "    </tr>\n",
              "  </tbody>\n",
              "</table>\n",
              "</div>"
            ],
            "text/plain": [
              "   item_id  price  rank  price_rank\n",
              "15   55109    162     1           8\n",
              "15  129343     25     2           1"
            ]
          },
          "metadata": {
            "tags": []
          },
          "execution_count": 10
        }
      ]
    },
    {
      "cell_type": "markdown",
      "metadata": {
        "id": "6ujfSNl5qvtV",
        "colab_type": "text"
      },
      "source": [
        "#### clickout"
      ]
    },
    {
      "cell_type": "code",
      "metadata": {
        "id": "JGJiG3enF3XA",
        "colab_type": "code",
        "outputId": "62b90987-7247-4278-db95-8fef9e832d16",
        "colab": {
          "base_uri": "https://localhost:8080/",
          "height": 258
        }
      },
      "source": [
        "clickout_item_id = session[session.action_type=='clickout item'].tail(1)['reference'].values[0]\n",
        "clickout_itemDF = pd.DataFrame({'item_id':[clickout_item_id], 'clickout':[1]})\n",
        "session_exploded = session_exploded.merge(clickout_itemDF, on='item_id', how='left').fillna(0)\n",
        "session_exploded.head(7)"
      ],
      "execution_count": 11,
      "outputs": [
        {
          "output_type": "execute_result",
          "data": {
            "text/html": [
              "<div>\n",
              "<style scoped>\n",
              "    .dataframe tbody tr th:only-of-type {\n",
              "        vertical-align: middle;\n",
              "    }\n",
              "\n",
              "    .dataframe tbody tr th {\n",
              "        vertical-align: top;\n",
              "    }\n",
              "\n",
              "    .dataframe thead th {\n",
              "        text-align: right;\n",
              "    }\n",
              "</style>\n",
              "<table border=\"1\" class=\"dataframe\">\n",
              "  <thead>\n",
              "    <tr style=\"text-align: right;\">\n",
              "      <th></th>\n",
              "      <th>item_id</th>\n",
              "      <th>price</th>\n",
              "      <th>rank</th>\n",
              "      <th>price_rank</th>\n",
              "      <th>clickout</th>\n",
              "    </tr>\n",
              "  </thead>\n",
              "  <tbody>\n",
              "    <tr>\n",
              "      <th>0</th>\n",
              "      <td>55109</td>\n",
              "      <td>162</td>\n",
              "      <td>1</td>\n",
              "      <td>8</td>\n",
              "      <td>0.0</td>\n",
              "    </tr>\n",
              "    <tr>\n",
              "      <th>1</th>\n",
              "      <td>129343</td>\n",
              "      <td>25</td>\n",
              "      <td>2</td>\n",
              "      <td>1</td>\n",
              "      <td>0.0</td>\n",
              "    </tr>\n",
              "    <tr>\n",
              "      <th>2</th>\n",
              "      <td>54824</td>\n",
              "      <td>150</td>\n",
              "      <td>3</td>\n",
              "      <td>15</td>\n",
              "      <td>0.0</td>\n",
              "    </tr>\n",
              "    <tr>\n",
              "      <th>3</th>\n",
              "      <td>2297972</td>\n",
              "      <td>143</td>\n",
              "      <td>4</td>\n",
              "      <td>5</td>\n",
              "      <td>0.0</td>\n",
              "    </tr>\n",
              "    <tr>\n",
              "      <th>4</th>\n",
              "      <td>109014</td>\n",
              "      <td>101</td>\n",
              "      <td>5</td>\n",
              "      <td>12</td>\n",
              "      <td>0.0</td>\n",
              "    </tr>\n",
              "    <tr>\n",
              "      <th>5</th>\n",
              "      <td>1257342</td>\n",
              "      <td>49</td>\n",
              "      <td>6</td>\n",
              "      <td>16</td>\n",
              "      <td>1.0</td>\n",
              "    </tr>\n",
              "    <tr>\n",
              "      <th>6</th>\n",
              "      <td>1031578</td>\n",
              "      <td>118</td>\n",
              "      <td>7</td>\n",
              "      <td>20</td>\n",
              "      <td>0.0</td>\n",
              "    </tr>\n",
              "  </tbody>\n",
              "</table>\n",
              "</div>"
            ],
            "text/plain": [
              "   item_id  price  rank  price_rank  clickout\n",
              "0    55109    162     1           8       0.0\n",
              "1   129343     25     2           1       0.0\n",
              "2    54824    150     3          15       0.0\n",
              "3  2297972    143     4           5       0.0\n",
              "4   109014    101     5          12       0.0\n",
              "5  1257342     49     6          16       1.0\n",
              "6  1031578    118     7          20       0.0"
            ]
          },
          "metadata": {
            "tags": []
          },
          "execution_count": 11
        }
      ]
    },
    {
      "cell_type": "markdown",
      "metadata": {
        "id": "eKxvi_QrqzcD",
        "colab_type": "text"
      },
      "source": [
        "#### session_duration"
      ]
    },
    {
      "cell_type": "code",
      "metadata": {
        "id": "WMKoKa6BHANe",
        "colab_type": "code",
        "outputId": "aadbaf26-7427-43b6-897b-1a5699021919",
        "colab": {
          "base_uri": "https://localhost:8080/",
          "height": 108
        }
      },
      "source": [
        "SessionDuration = session.timestamp.max() - session.timestamp.min()\n",
        "session_exploded['session_duration'] = SessionDuration\n",
        "session_exploded.head(2)"
      ],
      "execution_count": 27,
      "outputs": [
        {
          "output_type": "execute_result",
          "data": {
            "text/html": [
              "<div>\n",
              "<style scoped>\n",
              "    .dataframe tbody tr th:only-of-type {\n",
              "        vertical-align: middle;\n",
              "    }\n",
              "\n",
              "    .dataframe tbody tr th {\n",
              "        vertical-align: top;\n",
              "    }\n",
              "\n",
              "    .dataframe thead th {\n",
              "        text-align: right;\n",
              "    }\n",
              "</style>\n",
              "<table border=\"1\" class=\"dataframe\">\n",
              "  <thead>\n",
              "    <tr style=\"text-align: right;\">\n",
              "      <th></th>\n",
              "      <th>item_id</th>\n",
              "      <th>price</th>\n",
              "      <th>rank</th>\n",
              "      <th>price_rank</th>\n",
              "      <th>clickout</th>\n",
              "      <th>item_duration</th>\n",
              "      <th>session_duration</th>\n",
              "    </tr>\n",
              "  </thead>\n",
              "  <tbody>\n",
              "    <tr>\n",
              "      <th>0</th>\n",
              "      <td>55109</td>\n",
              "      <td>162</td>\n",
              "      <td>1</td>\n",
              "      <td>8</td>\n",
              "      <td>0.0</td>\n",
              "      <td>0.0</td>\n",
              "      <td>1025</td>\n",
              "    </tr>\n",
              "    <tr>\n",
              "      <th>1</th>\n",
              "      <td>129343</td>\n",
              "      <td>25</td>\n",
              "      <td>2</td>\n",
              "      <td>1</td>\n",
              "      <td>0.0</td>\n",
              "      <td>0.0</td>\n",
              "      <td>1025</td>\n",
              "    </tr>\n",
              "  </tbody>\n",
              "</table>\n",
              "</div>"
            ],
            "text/plain": [
              "  item_id  price  rank  price_rank  clickout  item_duration  session_duration\n",
              "0   55109    162     1           8       0.0            0.0              1025\n",
              "1  129343     25     2           1       0.0            0.0              1025"
            ]
          },
          "metadata": {
            "tags": []
          },
          "execution_count": 27
        }
      ]
    },
    {
      "cell_type": "markdown",
      "metadata": {
        "id": "PbW4Txkfq3Pl",
        "colab_type": "text"
      },
      "source": [
        "#### item_duration"
      ]
    },
    {
      "cell_type": "code",
      "metadata": {
        "id": "ZL621uqXqSB8",
        "colab_type": "code",
        "colab": {
          "base_uri": "https://localhost:8080/",
          "height": 108
        },
        "outputId": "e1efba2f-242b-41f4-9349-7c1a1a467889"
      },
      "source": [
        "ItemDuration = session.groupby('reference').timestamp.max() - session.groupby('reference').timestamp.min()\n",
        "ItemDuration = ItemDuration.to_frame().reset_index().rename(columns={'reference':'item_id', 'timestamp':'item_duration'})\n",
        "ItemDuration.head(2)"
      ],
      "execution_count": 22,
      "outputs": [
        {
          "output_type": "execute_result",
          "data": {
            "text/html": [
              "<div>\n",
              "<style scoped>\n",
              "    .dataframe tbody tr th:only-of-type {\n",
              "        vertical-align: middle;\n",
              "    }\n",
              "\n",
              "    .dataframe tbody tr th {\n",
              "        vertical-align: top;\n",
              "    }\n",
              "\n",
              "    .dataframe thead th {\n",
              "        text-align: right;\n",
              "    }\n",
              "</style>\n",
              "<table border=\"1\" class=\"dataframe\">\n",
              "  <thead>\n",
              "    <tr style=\"text-align: right;\">\n",
              "      <th></th>\n",
              "      <th>item_id</th>\n",
              "      <th>item_duration</th>\n",
              "    </tr>\n",
              "  </thead>\n",
              "  <tbody>\n",
              "    <tr>\n",
              "      <th>0</th>\n",
              "      <td>109038</td>\n",
              "      <td>11</td>\n",
              "    </tr>\n",
              "    <tr>\n",
              "      <th>1</th>\n",
              "      <td>1257342</td>\n",
              "      <td>0</td>\n",
              "    </tr>\n",
              "  </tbody>\n",
              "</table>\n",
              "</div>"
            ],
            "text/plain": [
              "   item_id  item_duration\n",
              "0   109038             11\n",
              "1  1257342              0"
            ]
          },
          "metadata": {
            "tags": []
          },
          "execution_count": 22
        }
      ]
    },
    {
      "cell_type": "code",
      "metadata": {
        "id": "iZOdHJtkrkPf",
        "colab_type": "code",
        "colab": {
          "base_uri": "https://localhost:8080/",
          "height": 108
        },
        "outputId": "f2fa7649-ac71-46ac-e89f-1db6033e41a6"
      },
      "source": [
        "session_exploded = session_exploded.merge(ItemDuration, on='item_id', how='left').fillna(0)\n",
        "session_exploded.head(2)"
      ],
      "execution_count": 25,
      "outputs": [
        {
          "output_type": "execute_result",
          "data": {
            "text/html": [
              "<div>\n",
              "<style scoped>\n",
              "    .dataframe tbody tr th:only-of-type {\n",
              "        vertical-align: middle;\n",
              "    }\n",
              "\n",
              "    .dataframe tbody tr th {\n",
              "        vertical-align: top;\n",
              "    }\n",
              "\n",
              "    .dataframe thead th {\n",
              "        text-align: right;\n",
              "    }\n",
              "</style>\n",
              "<table border=\"1\" class=\"dataframe\">\n",
              "  <thead>\n",
              "    <tr style=\"text-align: right;\">\n",
              "      <th></th>\n",
              "      <th>item_id</th>\n",
              "      <th>price</th>\n",
              "      <th>rank</th>\n",
              "      <th>price_rank</th>\n",
              "      <th>clickout</th>\n",
              "      <th>Session_Duration</th>\n",
              "      <th>item_duration</th>\n",
              "    </tr>\n",
              "  </thead>\n",
              "  <tbody>\n",
              "    <tr>\n",
              "      <th>0</th>\n",
              "      <td>55109</td>\n",
              "      <td>162</td>\n",
              "      <td>1</td>\n",
              "      <td>8</td>\n",
              "      <td>0.0</td>\n",
              "      <td>1025</td>\n",
              "      <td>0.0</td>\n",
              "    </tr>\n",
              "    <tr>\n",
              "      <th>1</th>\n",
              "      <td>129343</td>\n",
              "      <td>25</td>\n",
              "      <td>2</td>\n",
              "      <td>1</td>\n",
              "      <td>0.0</td>\n",
              "      <td>1025</td>\n",
              "      <td>0.0</td>\n",
              "    </tr>\n",
              "  </tbody>\n",
              "</table>\n",
              "</div>"
            ],
            "text/plain": [
              "  item_id  price  rank  price_rank  clickout  Session_Duration  item_duration\n",
              "0   55109    162     1           8       0.0              1025            0.0\n",
              "1  129343     25     2           1       0.0              1025            0.0"
            ]
          },
          "metadata": {
            "tags": []
          },
          "execution_count": 25
        }
      ]
    },
    {
      "cell_type": "markdown",
      "metadata": {
        "id": "0P_PDLv4sJAE",
        "colab_type": "text"
      },
      "source": [
        "#### item_session_duration"
      ]
    },
    {
      "cell_type": "code",
      "metadata": {
        "id": "U23I74Nxr_FG",
        "colab_type": "code",
        "colab": {
          "base_uri": "https://localhost:8080/",
          "height": 108
        },
        "outputId": "b51303db-cf03-40fb-d9cb-22836b569bf9"
      },
      "source": [
        "ItemSessionDuration = session_exploded.item_duration/session_exploded.session_duration\n",
        "session_exploded['item_session_duration'] = ItemSessionDuration\n",
        "session_exploded.head(2)"
      ],
      "execution_count": 29,
      "outputs": [
        {
          "output_type": "execute_result",
          "data": {
            "text/html": [
              "<div>\n",
              "<style scoped>\n",
              "    .dataframe tbody tr th:only-of-type {\n",
              "        vertical-align: middle;\n",
              "    }\n",
              "\n",
              "    .dataframe tbody tr th {\n",
              "        vertical-align: top;\n",
              "    }\n",
              "\n",
              "    .dataframe thead th {\n",
              "        text-align: right;\n",
              "    }\n",
              "</style>\n",
              "<table border=\"1\" class=\"dataframe\">\n",
              "  <thead>\n",
              "    <tr style=\"text-align: right;\">\n",
              "      <th></th>\n",
              "      <th>item_id</th>\n",
              "      <th>price</th>\n",
              "      <th>rank</th>\n",
              "      <th>price_rank</th>\n",
              "      <th>clickout</th>\n",
              "      <th>item_duration</th>\n",
              "      <th>session_duration</th>\n",
              "      <th>item_session_duration</th>\n",
              "    </tr>\n",
              "  </thead>\n",
              "  <tbody>\n",
              "    <tr>\n",
              "      <th>0</th>\n",
              "      <td>55109</td>\n",
              "      <td>162</td>\n",
              "      <td>1</td>\n",
              "      <td>8</td>\n",
              "      <td>0.0</td>\n",
              "      <td>0.0</td>\n",
              "      <td>1025</td>\n",
              "      <td>0.0</td>\n",
              "    </tr>\n",
              "    <tr>\n",
              "      <th>1</th>\n",
              "      <td>129343</td>\n",
              "      <td>25</td>\n",
              "      <td>2</td>\n",
              "      <td>1</td>\n",
              "      <td>0.0</td>\n",
              "      <td>0.0</td>\n",
              "      <td>1025</td>\n",
              "      <td>0.0</td>\n",
              "    </tr>\n",
              "  </tbody>\n",
              "</table>\n",
              "</div>"
            ],
            "text/plain": [
              "  item_id  price  rank  ...  item_duration  session_duration  item_session_duration\n",
              "0   55109    162     1  ...            0.0              1025                    0.0\n",
              "1  129343     25     2  ...            0.0              1025                    0.0\n",
              "\n",
              "[2 rows x 8 columns]"
            ]
          },
          "metadata": {
            "tags": []
          },
          "execution_count": 29
        }
      ]
    },
    {
      "cell_type": "markdown",
      "metadata": {
        "id": "kaQkVrcRsnab",
        "colab_type": "text"
      },
      "source": [
        "#### item_interactions"
      ]
    },
    {
      "cell_type": "code",
      "metadata": {
        "id": "iGQLRCYostSg",
        "colab_type": "code",
        "colab": {
          "base_uri": "https://localhost:8080/",
          "height": 108
        },
        "outputId": "1412233f-4f08-4188-a1da-8bb6ae2eb9b2"
      },
      "source": [
        "ItemInteractions = session.groupby('reference').step.count()\n",
        "ItemInteractions = ItemInteractions.to_frame().reset_index().rename(columns={'reference':'item_id', 'step':'item_interactions'})\n",
        "session_exploded = session_exploded.merge(ItemInteractions, on='item_id', how='left').fillna(0)\n",
        "session_exploded.head(2)"
      ],
      "execution_count": 42,
      "outputs": [
        {
          "output_type": "execute_result",
          "data": {
            "text/html": [
              "<div>\n",
              "<style scoped>\n",
              "    .dataframe tbody tr th:only-of-type {\n",
              "        vertical-align: middle;\n",
              "    }\n",
              "\n",
              "    .dataframe tbody tr th {\n",
              "        vertical-align: top;\n",
              "    }\n",
              "\n",
              "    .dataframe thead th {\n",
              "        text-align: right;\n",
              "    }\n",
              "</style>\n",
              "<table border=\"1\" class=\"dataframe\">\n",
              "  <thead>\n",
              "    <tr style=\"text-align: right;\">\n",
              "      <th></th>\n",
              "      <th>item_id</th>\n",
              "      <th>price</th>\n",
              "      <th>rank</th>\n",
              "      <th>price_rank</th>\n",
              "      <th>clickout</th>\n",
              "      <th>item_duration</th>\n",
              "      <th>session_duration</th>\n",
              "      <th>item_session_duration</th>\n",
              "      <th>item_interactions</th>\n",
              "    </tr>\n",
              "  </thead>\n",
              "  <tbody>\n",
              "    <tr>\n",
              "      <th>0</th>\n",
              "      <td>55109</td>\n",
              "      <td>162</td>\n",
              "      <td>1</td>\n",
              "      <td>8</td>\n",
              "      <td>0.0</td>\n",
              "      <td>0.0</td>\n",
              "      <td>1025</td>\n",
              "      <td>0.0</td>\n",
              "      <td>0.0</td>\n",
              "    </tr>\n",
              "    <tr>\n",
              "      <th>1</th>\n",
              "      <td>129343</td>\n",
              "      <td>25</td>\n",
              "      <td>2</td>\n",
              "      <td>1</td>\n",
              "      <td>0.0</td>\n",
              "      <td>0.0</td>\n",
              "      <td>1025</td>\n",
              "      <td>0.0</td>\n",
              "      <td>0.0</td>\n",
              "    </tr>\n",
              "  </tbody>\n",
              "</table>\n",
              "</div>"
            ],
            "text/plain": [
              "  item_id  price  ...  item_session_duration  item_interactions\n",
              "0   55109    162  ...                    0.0                0.0\n",
              "1  129343     25  ...                    0.0                0.0\n",
              "\n",
              "[2 rows x 9 columns]"
            ]
          },
          "metadata": {
            "tags": []
          },
          "execution_count": 42
        }
      ]
    },
    {
      "cell_type": "markdown",
      "metadata": {
        "id": "st6WmlVWub6P",
        "colab_type": "text"
      },
      "source": [
        "#### maximum_step"
      ]
    },
    {
      "cell_type": "code",
      "metadata": {
        "id": "mXWyg15_thIK",
        "colab_type": "code",
        "colab": {
          "base_uri": "https://localhost:8080/",
          "height": 108
        },
        "outputId": "0224c1e9-2e4f-4d63-d3d6-a0ccf13d9560"
      },
      "source": [
        "session_exploded['maximum_step'] = session.step.max()\n",
        "session_exploded.head(2)"
      ],
      "execution_count": 47,
      "outputs": [
        {
          "output_type": "execute_result",
          "data": {
            "text/html": [
              "<div>\n",
              "<style scoped>\n",
              "    .dataframe tbody tr th:only-of-type {\n",
              "        vertical-align: middle;\n",
              "    }\n",
              "\n",
              "    .dataframe tbody tr th {\n",
              "        vertical-align: top;\n",
              "    }\n",
              "\n",
              "    .dataframe thead th {\n",
              "        text-align: right;\n",
              "    }\n",
              "</style>\n",
              "<table border=\"1\" class=\"dataframe\">\n",
              "  <thead>\n",
              "    <tr style=\"text-align: right;\">\n",
              "      <th></th>\n",
              "      <th>item_id</th>\n",
              "      <th>price</th>\n",
              "      <th>rank</th>\n",
              "      <th>price_rank</th>\n",
              "      <th>clickout</th>\n",
              "      <th>item_duration</th>\n",
              "      <th>session_duration</th>\n",
              "      <th>item_session_duration</th>\n",
              "      <th>item_interactions</th>\n",
              "      <th>maximum_step</th>\n",
              "    </tr>\n",
              "  </thead>\n",
              "  <tbody>\n",
              "    <tr>\n",
              "      <th>0</th>\n",
              "      <td>55109</td>\n",
              "      <td>162</td>\n",
              "      <td>1</td>\n",
              "      <td>8</td>\n",
              "      <td>0.0</td>\n",
              "      <td>0.0</td>\n",
              "      <td>1025</td>\n",
              "      <td>0.0</td>\n",
              "      <td>0.0</td>\n",
              "      <td>16</td>\n",
              "    </tr>\n",
              "    <tr>\n",
              "      <th>1</th>\n",
              "      <td>129343</td>\n",
              "      <td>25</td>\n",
              "      <td>2</td>\n",
              "      <td>1</td>\n",
              "      <td>0.0</td>\n",
              "      <td>0.0</td>\n",
              "      <td>1025</td>\n",
              "      <td>0.0</td>\n",
              "      <td>0.0</td>\n",
              "      <td>16</td>\n",
              "    </tr>\n",
              "  </tbody>\n",
              "</table>\n",
              "</div>"
            ],
            "text/plain": [
              "  item_id  price  rank  ...  item_session_duration  item_interactions  maximum_step\n",
              "0   55109    162     1  ...                    0.0                0.0            16\n",
              "1  129343     25     2  ...                    0.0                0.0            16\n",
              "\n",
              "[2 rows x 10 columns]"
            ]
          },
          "metadata": {
            "tags": []
          },
          "execution_count": 47
        }
      ]
    },
    {
      "cell_type": "code",
      "metadata": {
        "id": "H4_yzxIe0GOD",
        "colab_type": "code",
        "colab": {
          "base_uri": "https://localhost:8080/",
          "height": 198
        },
        "outputId": "30cefbb9-edbb-414f-99b0-9e3bfb54c3a3"
      },
      "source": [
        "session_exploded.head()"
      ],
      "execution_count": 48,
      "outputs": [
        {
          "output_type": "execute_result",
          "data": {
            "text/html": [
              "<div>\n",
              "<style scoped>\n",
              "    .dataframe tbody tr th:only-of-type {\n",
              "        vertical-align: middle;\n",
              "    }\n",
              "\n",
              "    .dataframe tbody tr th {\n",
              "        vertical-align: top;\n",
              "    }\n",
              "\n",
              "    .dataframe thead th {\n",
              "        text-align: right;\n",
              "    }\n",
              "</style>\n",
              "<table border=\"1\" class=\"dataframe\">\n",
              "  <thead>\n",
              "    <tr style=\"text-align: right;\">\n",
              "      <th></th>\n",
              "      <th>item_id</th>\n",
              "      <th>price</th>\n",
              "      <th>rank</th>\n",
              "      <th>price_rank</th>\n",
              "      <th>clickout</th>\n",
              "      <th>item_duration</th>\n",
              "      <th>session_duration</th>\n",
              "      <th>item_session_duration</th>\n",
              "      <th>item_interactions</th>\n",
              "      <th>maximum_step</th>\n",
              "    </tr>\n",
              "  </thead>\n",
              "  <tbody>\n",
              "    <tr>\n",
              "      <th>0</th>\n",
              "      <td>55109</td>\n",
              "      <td>162</td>\n",
              "      <td>1</td>\n",
              "      <td>8</td>\n",
              "      <td>0.0</td>\n",
              "      <td>0.0</td>\n",
              "      <td>1025</td>\n",
              "      <td>0.0</td>\n",
              "      <td>0.0</td>\n",
              "      <td>16</td>\n",
              "    </tr>\n",
              "    <tr>\n",
              "      <th>1</th>\n",
              "      <td>129343</td>\n",
              "      <td>25</td>\n",
              "      <td>2</td>\n",
              "      <td>1</td>\n",
              "      <td>0.0</td>\n",
              "      <td>0.0</td>\n",
              "      <td>1025</td>\n",
              "      <td>0.0</td>\n",
              "      <td>0.0</td>\n",
              "      <td>16</td>\n",
              "    </tr>\n",
              "    <tr>\n",
              "      <th>2</th>\n",
              "      <td>54824</td>\n",
              "      <td>150</td>\n",
              "      <td>3</td>\n",
              "      <td>15</td>\n",
              "      <td>0.0</td>\n",
              "      <td>0.0</td>\n",
              "      <td>1025</td>\n",
              "      <td>0.0</td>\n",
              "      <td>0.0</td>\n",
              "      <td>16</td>\n",
              "    </tr>\n",
              "    <tr>\n",
              "      <th>3</th>\n",
              "      <td>2297972</td>\n",
              "      <td>143</td>\n",
              "      <td>4</td>\n",
              "      <td>5</td>\n",
              "      <td>0.0</td>\n",
              "      <td>0.0</td>\n",
              "      <td>1025</td>\n",
              "      <td>0.0</td>\n",
              "      <td>0.0</td>\n",
              "      <td>16</td>\n",
              "    </tr>\n",
              "    <tr>\n",
              "      <th>4</th>\n",
              "      <td>109014</td>\n",
              "      <td>101</td>\n",
              "      <td>5</td>\n",
              "      <td>12</td>\n",
              "      <td>0.0</td>\n",
              "      <td>0.0</td>\n",
              "      <td>1025</td>\n",
              "      <td>0.0</td>\n",
              "      <td>0.0</td>\n",
              "      <td>16</td>\n",
              "    </tr>\n",
              "  </tbody>\n",
              "</table>\n",
              "</div>"
            ],
            "text/plain": [
              "   item_id  price  rank  ...  item_session_duration  item_interactions  maximum_step\n",
              "0    55109    162     1  ...                    0.0                0.0            16\n",
              "1   129343     25     2  ...                    0.0                0.0            16\n",
              "2    54824    150     3  ...                    0.0                0.0            16\n",
              "3  2297972    143     4  ...                    0.0                0.0            16\n",
              "4   109014    101     5  ...                    0.0                0.0            16\n",
              "\n",
              "[5 rows x 10 columns]"
            ]
          },
          "metadata": {
            "tags": []
          },
          "execution_count": 48
        }
      ]
    },
    {
      "cell_type": "markdown",
      "metadata": {
        "id": "c-OFCqPW4rYs",
        "colab_type": "text"
      },
      "source": [
        "#### top_list"
      ]
    },
    {
      "cell_type": "code",
      "metadata": {
        "id": "WrBBtEmf1sEn",
        "colab_type": "code",
        "colab": {
          "base_uri": "https://localhost:8080/",
          "height": 128
        },
        "outputId": "e404ab3b-9ac3-476f-d273-76f5ce1bb4a4"
      },
      "source": [
        "top = [1, 1, 1, 1, 1]\n",
        "session_exploded['top_list'] = pd.Series(top)\n",
        "session_exploded.top_list = session_exploded.top_list.fillna(0)\n",
        "session_exploded.head(2)"
      ],
      "execution_count": 60,
      "outputs": [
        {
          "output_type": "execute_result",
          "data": {
            "text/html": [
              "<div>\n",
              "<style scoped>\n",
              "    .dataframe tbody tr th:only-of-type {\n",
              "        vertical-align: middle;\n",
              "    }\n",
              "\n",
              "    .dataframe tbody tr th {\n",
              "        vertical-align: top;\n",
              "    }\n",
              "\n",
              "    .dataframe thead th {\n",
              "        text-align: right;\n",
              "    }\n",
              "</style>\n",
              "<table border=\"1\" class=\"dataframe\">\n",
              "  <thead>\n",
              "    <tr style=\"text-align: right;\">\n",
              "      <th></th>\n",
              "      <th>item_id</th>\n",
              "      <th>price</th>\n",
              "      <th>rank</th>\n",
              "      <th>price_rank</th>\n",
              "      <th>clickout</th>\n",
              "      <th>item_duration</th>\n",
              "      <th>session_duration</th>\n",
              "      <th>item_session_duration</th>\n",
              "      <th>item_interactions</th>\n",
              "      <th>maximum_step</th>\n",
              "      <th>top_list</th>\n",
              "    </tr>\n",
              "  </thead>\n",
              "  <tbody>\n",
              "    <tr>\n",
              "      <th>0</th>\n",
              "      <td>55109</td>\n",
              "      <td>162</td>\n",
              "      <td>1</td>\n",
              "      <td>8</td>\n",
              "      <td>0.0</td>\n",
              "      <td>0.0</td>\n",
              "      <td>1025</td>\n",
              "      <td>0.0</td>\n",
              "      <td>0.0</td>\n",
              "      <td>16</td>\n",
              "      <td>1.0</td>\n",
              "    </tr>\n",
              "    <tr>\n",
              "      <th>1</th>\n",
              "      <td>129343</td>\n",
              "      <td>25</td>\n",
              "      <td>2</td>\n",
              "      <td>1</td>\n",
              "      <td>0.0</td>\n",
              "      <td>0.0</td>\n",
              "      <td>1025</td>\n",
              "      <td>0.0</td>\n",
              "      <td>0.0</td>\n",
              "      <td>16</td>\n",
              "      <td>1.0</td>\n",
              "    </tr>\n",
              "  </tbody>\n",
              "</table>\n",
              "</div>"
            ],
            "text/plain": [
              "  item_id  price  rank  ...  item_interactions  maximum_step  top_list\n",
              "0   55109    162     1  ...                0.0            16       1.0\n",
              "1  129343     25     2  ...                0.0            16       1.0\n",
              "\n",
              "[2 rows x 11 columns]"
            ]
          },
          "metadata": {
            "tags": []
          },
          "execution_count": 60
        }
      ]
    },
    {
      "cell_type": "code",
      "metadata": {
        "id": "VvjYbArsBvsS",
        "colab_type": "code",
        "colab": {
          "base_uri": "https://localhost:8080/",
          "height": 128
        },
        "outputId": "63258098-8504-4e22-fb2a-52129f135ed5"
      },
      "source": [
        "session_exploded.tail(2)"
      ],
      "execution_count": 61,
      "outputs": [
        {
          "output_type": "execute_result",
          "data": {
            "text/html": [
              "<div>\n",
              "<style scoped>\n",
              "    .dataframe tbody tr th:only-of-type {\n",
              "        vertical-align: middle;\n",
              "    }\n",
              "\n",
              "    .dataframe tbody tr th {\n",
              "        vertical-align: top;\n",
              "    }\n",
              "\n",
              "    .dataframe thead th {\n",
              "        text-align: right;\n",
              "    }\n",
              "</style>\n",
              "<table border=\"1\" class=\"dataframe\">\n",
              "  <thead>\n",
              "    <tr style=\"text-align: right;\">\n",
              "      <th></th>\n",
              "      <th>item_id</th>\n",
              "      <th>price</th>\n",
              "      <th>rank</th>\n",
              "      <th>price_rank</th>\n",
              "      <th>clickout</th>\n",
              "      <th>item_duration</th>\n",
              "      <th>session_duration</th>\n",
              "      <th>item_session_duration</th>\n",
              "      <th>item_interactions</th>\n",
              "      <th>maximum_step</th>\n",
              "      <th>top_list</th>\n",
              "    </tr>\n",
              "  </thead>\n",
              "  <tbody>\n",
              "    <tr>\n",
              "      <th>23</th>\n",
              "      <td>666936</td>\n",
              "      <td>112</td>\n",
              "      <td>24</td>\n",
              "      <td>22</td>\n",
              "      <td>0.0</td>\n",
              "      <td>0.0</td>\n",
              "      <td>1025</td>\n",
              "      <td>0.0</td>\n",
              "      <td>0.0</td>\n",
              "      <td>16</td>\n",
              "      <td>0.0</td>\n",
              "    </tr>\n",
              "    <tr>\n",
              "      <th>24</th>\n",
              "      <td>55088</td>\n",
              "      <td>118</td>\n",
              "      <td>25</td>\n",
              "      <td>17</td>\n",
              "      <td>0.0</td>\n",
              "      <td>0.0</td>\n",
              "      <td>1025</td>\n",
              "      <td>0.0</td>\n",
              "      <td>0.0</td>\n",
              "      <td>16</td>\n",
              "      <td>0.0</td>\n",
              "    </tr>\n",
              "  </tbody>\n",
              "</table>\n",
              "</div>"
            ],
            "text/plain": [
              "   item_id  price  rank  ...  item_interactions  maximum_step  top_list\n",
              "23  666936    112    24  ...                0.0            16       0.0\n",
              "24   55088    118    25  ...                0.0            16       0.0\n",
              "\n",
              "[2 rows x 11 columns]"
            ]
          },
          "metadata": {
            "tags": []
          },
          "execution_count": 61
        }
      ]
    },
    {
      "cell_type": "markdown",
      "metadata": {
        "id": "OMueY5eQMdRN",
        "colab_type": "text"
      },
      "source": [
        "### Defined Function"
      ]
    },
    {
      "cell_type": "code",
      "metadata": {
        "id": "b9yhnckt-jno",
        "colab_type": "code",
        "colab": {}
      },
      "source": [
        "trainlet[trainlet.action_type=='clickout item']"
      ],
      "execution_count": 0,
      "outputs": []
    },
    {
      "cell_type": "code",
      "metadata": {
        "id": "rTBeKi3y6f_D",
        "colab_type": "code",
        "colab": {
          "base_uri": "https://localhost:8080/",
          "height": 407
        },
        "outputId": "461f3c9a-e625-453c-8e89-5f03b84f9864"
      },
      "source": [
        "trainlet[trainlet.action_type=='clickout item'].groupby('session_id').tail(1).impressions\\\n",
        "            .apply(lambda x: x.split('|')).explode().to_frame().reset_index().drop(columns='index')"
      ],
      "execution_count": 59,
      "outputs": [
        {
          "output_type": "execute_result",
          "data": {
            "text/html": [
              "<div>\n",
              "<style scoped>\n",
              "    .dataframe tbody tr th:only-of-type {\n",
              "        vertical-align: middle;\n",
              "    }\n",
              "\n",
              "    .dataframe tbody tr th {\n",
              "        vertical-align: top;\n",
              "    }\n",
              "\n",
              "    .dataframe thead th {\n",
              "        text-align: right;\n",
              "    }\n",
              "</style>\n",
              "<table border=\"1\" class=\"dataframe\">\n",
              "  <thead>\n",
              "    <tr style=\"text-align: right;\">\n",
              "      <th></th>\n",
              "      <th>impressions</th>\n",
              "    </tr>\n",
              "  </thead>\n",
              "  <tbody>\n",
              "    <tr>\n",
              "      <th>0</th>\n",
              "      <td>55109</td>\n",
              "    </tr>\n",
              "    <tr>\n",
              "      <th>1</th>\n",
              "      <td>129343</td>\n",
              "    </tr>\n",
              "    <tr>\n",
              "      <th>2</th>\n",
              "      <td>54824</td>\n",
              "    </tr>\n",
              "    <tr>\n",
              "      <th>3</th>\n",
              "      <td>2297972</td>\n",
              "    </tr>\n",
              "    <tr>\n",
              "      <th>4</th>\n",
              "      <td>109014</td>\n",
              "    </tr>\n",
              "    <tr>\n",
              "      <th>...</th>\n",
              "      <td>...</td>\n",
              "    </tr>\n",
              "    <tr>\n",
              "      <th>12028</th>\n",
              "      <td>747401</td>\n",
              "    </tr>\n",
              "    <tr>\n",
              "      <th>12029</th>\n",
              "      <td>239591</td>\n",
              "    </tr>\n",
              "    <tr>\n",
              "      <th>12030</th>\n",
              "      <td>2788070</td>\n",
              "    </tr>\n",
              "    <tr>\n",
              "      <th>12031</th>\n",
              "      <td>129853</td>\n",
              "    </tr>\n",
              "    <tr>\n",
              "      <th>12032</th>\n",
              "      <td>208571</td>\n",
              "    </tr>\n",
              "  </tbody>\n",
              "</table>\n",
              "<p>12033 rows × 1 columns</p>\n",
              "</div>"
            ],
            "text/plain": [
              "      impressions\n",
              "0           55109\n",
              "1          129343\n",
              "2           54824\n",
              "3         2297972\n",
              "4          109014\n",
              "...           ...\n",
              "12028      747401\n",
              "12029      239591\n",
              "12030     2788070\n",
              "12031      129853\n",
              "12032      208571\n",
              "\n",
              "[12033 rows x 1 columns]"
            ]
          },
          "metadata": {
            "tags": []
          },
          "execution_count": 59
        }
      ]
    },
    {
      "cell_type": "code",
      "metadata": {
        "id": "GnjYDssYA8SD",
        "colab_type": "code",
        "colab": {
          "base_uri": "https://localhost:8080/",
          "height": 407
        },
        "outputId": "84b558c4-c001-40ee-dc1c-f33ddc8a4cd0"
      },
      "source": [
        "trainlet[trainlet.action_type=='clickout item'].groupby('session_id').tail(1).prices\\\n",
        "            .apply(lambda x: x.split('|')).explode().to_frame().reset_index().drop(columns='index')"
      ],
      "execution_count": 60,
      "outputs": [
        {
          "output_type": "execute_result",
          "data": {
            "text/html": [
              "<div>\n",
              "<style scoped>\n",
              "    .dataframe tbody tr th:only-of-type {\n",
              "        vertical-align: middle;\n",
              "    }\n",
              "\n",
              "    .dataframe tbody tr th {\n",
              "        vertical-align: top;\n",
              "    }\n",
              "\n",
              "    .dataframe thead th {\n",
              "        text-align: right;\n",
              "    }\n",
              "</style>\n",
              "<table border=\"1\" class=\"dataframe\">\n",
              "  <thead>\n",
              "    <tr style=\"text-align: right;\">\n",
              "      <th></th>\n",
              "      <th>prices</th>\n",
              "    </tr>\n",
              "  </thead>\n",
              "  <tbody>\n",
              "    <tr>\n",
              "      <th>0</th>\n",
              "      <td>162</td>\n",
              "    </tr>\n",
              "    <tr>\n",
              "      <th>1</th>\n",
              "      <td>25</td>\n",
              "    </tr>\n",
              "    <tr>\n",
              "      <th>2</th>\n",
              "      <td>150</td>\n",
              "    </tr>\n",
              "    <tr>\n",
              "      <th>3</th>\n",
              "      <td>143</td>\n",
              "    </tr>\n",
              "    <tr>\n",
              "      <th>4</th>\n",
              "      <td>101</td>\n",
              "    </tr>\n",
              "    <tr>\n",
              "      <th>...</th>\n",
              "      <td>...</td>\n",
              "    </tr>\n",
              "    <tr>\n",
              "      <th>12028</th>\n",
              "      <td>101</td>\n",
              "    </tr>\n",
              "    <tr>\n",
              "      <th>12029</th>\n",
              "      <td>107</td>\n",
              "    </tr>\n",
              "    <tr>\n",
              "      <th>12030</th>\n",
              "      <td>76</td>\n",
              "    </tr>\n",
              "    <tr>\n",
              "      <th>12031</th>\n",
              "      <td>140</td>\n",
              "    </tr>\n",
              "    <tr>\n",
              "      <th>12032</th>\n",
              "      <td>114</td>\n",
              "    </tr>\n",
              "  </tbody>\n",
              "</table>\n",
              "<p>12033 rows × 1 columns</p>\n",
              "</div>"
            ],
            "text/plain": [
              "      prices\n",
              "0        162\n",
              "1         25\n",
              "2        150\n",
              "3        143\n",
              "4        101\n",
              "...      ...\n",
              "12028    101\n",
              "12029    107\n",
              "12030     76\n",
              "12031    140\n",
              "12032    114\n",
              "\n",
              "[12033 rows x 1 columns]"
            ]
          },
          "metadata": {
            "tags": []
          },
          "execution_count": 60
        }
      ]
    },
    {
      "cell_type": "code",
      "metadata": {
        "id": "tej7f8QtAGBE",
        "colab_type": "code",
        "colab": {
          "base_uri": "https://localhost:8080/",
          "height": 407
        },
        "outputId": "f5820900-af4c-4480-d5f9-a9ad69e386ad"
      },
      "source": [
        "trainlet[trainlet.action_type=='clickout item'].groupby('session_id').tail(1).prices.apply(lambda x: x.split('|'))\\\n",
        ".apply(lambda x: list(range(1, len(x) + 1))).explode().to_frame().reset_index().drop(columns='index')"
      ],
      "execution_count": 58,
      "outputs": [
        {
          "output_type": "execute_result",
          "data": {
            "text/html": [
              "<div>\n",
              "<style scoped>\n",
              "    .dataframe tbody tr th:only-of-type {\n",
              "        vertical-align: middle;\n",
              "    }\n",
              "\n",
              "    .dataframe tbody tr th {\n",
              "        vertical-align: top;\n",
              "    }\n",
              "\n",
              "    .dataframe thead th {\n",
              "        text-align: right;\n",
              "    }\n",
              "</style>\n",
              "<table border=\"1\" class=\"dataframe\">\n",
              "  <thead>\n",
              "    <tr style=\"text-align: right;\">\n",
              "      <th></th>\n",
              "      <th>prices</th>\n",
              "    </tr>\n",
              "  </thead>\n",
              "  <tbody>\n",
              "    <tr>\n",
              "      <th>0</th>\n",
              "      <td>1</td>\n",
              "    </tr>\n",
              "    <tr>\n",
              "      <th>1</th>\n",
              "      <td>2</td>\n",
              "    </tr>\n",
              "    <tr>\n",
              "      <th>2</th>\n",
              "      <td>3</td>\n",
              "    </tr>\n",
              "    <tr>\n",
              "      <th>3</th>\n",
              "      <td>4</td>\n",
              "    </tr>\n",
              "    <tr>\n",
              "      <th>4</th>\n",
              "      <td>5</td>\n",
              "    </tr>\n",
              "    <tr>\n",
              "      <th>...</th>\n",
              "      <td>...</td>\n",
              "    </tr>\n",
              "    <tr>\n",
              "      <th>12028</th>\n",
              "      <td>21</td>\n",
              "    </tr>\n",
              "    <tr>\n",
              "      <th>12029</th>\n",
              "      <td>22</td>\n",
              "    </tr>\n",
              "    <tr>\n",
              "      <th>12030</th>\n",
              "      <td>23</td>\n",
              "    </tr>\n",
              "    <tr>\n",
              "      <th>12031</th>\n",
              "      <td>24</td>\n",
              "    </tr>\n",
              "    <tr>\n",
              "      <th>12032</th>\n",
              "      <td>25</td>\n",
              "    </tr>\n",
              "  </tbody>\n",
              "</table>\n",
              "<p>12033 rows × 1 columns</p>\n",
              "</div>"
            ],
            "text/plain": [
              "      prices\n",
              "0          1\n",
              "1          2\n",
              "2          3\n",
              "3          4\n",
              "4          5\n",
              "...      ...\n",
              "12028     21\n",
              "12029     22\n",
              "12030     23\n",
              "12031     24\n",
              "12032     25\n",
              "\n",
              "[12033 rows x 1 columns]"
            ]
          },
          "metadata": {
            "tags": []
          },
          "execution_count": 58
        }
      ]
    },
    {
      "cell_type": "code",
      "metadata": {
        "id": "nvWMfIvH-_4_",
        "colab_type": "code",
        "colab": {
          "base_uri": "https://localhost:8080/",
          "height": 407
        },
        "outputId": "3a8bc9a2-3687-476c-a488-b8a701889174"
      },
      "source": [
        "train[train.action_type=='clickout item'].groupby(['session_id', 'user_id']).tail(1).impressions\\\n",
        "            .apply(lambda x: x.split('|')).explode().to_frame().reset_index()"
      ],
      "execution_count": 48,
      "outputs": [
        {
          "output_type": "execute_result",
          "data": {
            "text/html": [
              "<div>\n",
              "<style scoped>\n",
              "    .dataframe tbody tr th:only-of-type {\n",
              "        vertical-align: middle;\n",
              "    }\n",
              "\n",
              "    .dataframe tbody tr th {\n",
              "        vertical-align: top;\n",
              "    }\n",
              "\n",
              "    .dataframe thead th {\n",
              "        text-align: right;\n",
              "    }\n",
              "</style>\n",
              "<table border=\"1\" class=\"dataframe\">\n",
              "  <thead>\n",
              "    <tr style=\"text-align: right;\">\n",
              "      <th></th>\n",
              "      <th>index</th>\n",
              "      <th>impressions</th>\n",
              "    </tr>\n",
              "  </thead>\n",
              "  <tbody>\n",
              "    <tr>\n",
              "      <th>0</th>\n",
              "      <td>15</td>\n",
              "      <td>55109</td>\n",
              "    </tr>\n",
              "    <tr>\n",
              "      <th>1</th>\n",
              "      <td>15</td>\n",
              "      <td>129343</td>\n",
              "    </tr>\n",
              "    <tr>\n",
              "      <th>2</th>\n",
              "      <td>15</td>\n",
              "      <td>54824</td>\n",
              "    </tr>\n",
              "    <tr>\n",
              "      <th>3</th>\n",
              "      <td>15</td>\n",
              "      <td>2297972</td>\n",
              "    </tr>\n",
              "    <tr>\n",
              "      <th>4</th>\n",
              "      <td>15</td>\n",
              "      <td>109014</td>\n",
              "    </tr>\n",
              "    <tr>\n",
              "      <th>...</th>\n",
              "      <td>...</td>\n",
              "      <td>...</td>\n",
              "    </tr>\n",
              "    <tr>\n",
              "      <th>15373343</th>\n",
              "      <td>13019555</td>\n",
              "      <td>2712342</td>\n",
              "    </tr>\n",
              "    <tr>\n",
              "      <th>15373344</th>\n",
              "      <td>13019555</td>\n",
              "      <td>48497</td>\n",
              "    </tr>\n",
              "    <tr>\n",
              "      <th>15373345</th>\n",
              "      <td>13019555</td>\n",
              "      <td>11933</td>\n",
              "    </tr>\n",
              "    <tr>\n",
              "      <th>15373346</th>\n",
              "      <td>13019555</td>\n",
              "      <td>1714483</td>\n",
              "    </tr>\n",
              "    <tr>\n",
              "      <th>15373347</th>\n",
              "      <td>13019555</td>\n",
              "      <td>1236687</td>\n",
              "    </tr>\n",
              "  </tbody>\n",
              "</table>\n",
              "<p>15373348 rows × 2 columns</p>\n",
              "</div>"
            ],
            "text/plain": [
              "             index impressions\n",
              "0               15       55109\n",
              "1               15      129343\n",
              "2               15       54824\n",
              "3               15     2297972\n",
              "4               15      109014\n",
              "...            ...         ...\n",
              "15373343  13019555     2712342\n",
              "15373344  13019555       48497\n",
              "15373345  13019555       11933\n",
              "15373346  13019555     1714483\n",
              "15373347  13019555     1236687\n",
              "\n",
              "[15373348 rows x 2 columns]"
            ]
          },
          "metadata": {
            "tags": []
          },
          "execution_count": 48
        }
      ]
    },
    {
      "cell_type": "markdown",
      "metadata": {
        "id": "mwst4kadBSzI",
        "colab_type": "text"
      },
      "source": [
        "The next step would be decreasing the what's in the function so it would be easier in running."
      ]
    },
    {
      "cell_type": "code",
      "metadata": {
        "id": "WchZ6Kff59IT",
        "colab_type": "code",
        "colab": {}
      },
      "source": [
        "def transform_data(data):\n",
        "\n",
        "  session_gb = data.groupby('session_id', sort=False)\n",
        "  count = 0\n",
        "\n",
        "  for session_id in data['session_id'].unique():\n",
        "    try:\n",
        "      session = session_gb.get_group(session_id)\n",
        "      session_exploded = session[session.action_type=='clickout item'].tail(1)[['impressions']]\n",
        "      session_exploded.impressions = session_exploded.impressions.apply(lambda x: x.split('|'))\n",
        "      session_exploded = session_exploded.explode('impressions')\n",
        "      session_exploded = session_exploded.rename(columns={'impressions':'item_id'})\n",
        "\n",
        "      session_explode = session[session.action_type=='clickout item'].tail(1)[['prices']]\n",
        "      session_explode.prices = session_explode.prices.apply(lambda x: x.split('|'))\n",
        "      session_explode = session_explode.explode('prices')\n",
        "      session_explode = session_explode.rename(columns={'prices':'price'})\n",
        "      session_explode.price = session_explode.price.apply(lambda x: int(x))\n",
        "\n",
        "      session_exploded['rank'] = range(1, len(session_exploded) + 1)\n",
        "\n",
        "      session_exploded['price'] = session_explode.price\n",
        "      session_exploded['price_rank'] = np.argsort(session_exploded['price'])\n",
        "\n",
        "      clickout_item_id = session[session.action_type=='clickout item'].tail(1)['reference'].values.tolist()[0]\n",
        "      clickout_itemDF = pd.DataFrame({'item_id':[clickout_item_id], 'clickout':[1]})\n",
        "      session_exploded = session_exploded.merge(clickout_itemDF, on='item_id', how='left').fillna(0)\n",
        "\n",
        "      SessionDuration = session.timestamp.max() - session.timestamp.min()\n",
        "      session_exploded['session_duration'] = SessionDuration\n",
        "\n",
        "      ItemDuration = session.groupby('reference').timestamp.max() - session.groupby('reference').timestamp.min()\n",
        "      ItemDuration = ItemDuration.to_frame().reset_index()\\\n",
        "                                .rename(columns={'reference':'item_id', 'timestamp':'item_duration'})\n",
        "      session_exploded = session_exploded.merge(ItemDuration, on='item_id', how='left').fillna(0)\n",
        "\n",
        "      ItemSessionDuration = session_exploded.item_duration/session_exploded.session_duration\n",
        "      session_exploded['item_session_duration'] = ItemSessionDuration\n",
        "\n",
        "      ItemInteractions = session.groupby('reference').step.count()\n",
        "      ItemInteractions = ItemInteractions.to_frame().reset_index()\\\n",
        "                                          .rename(columns={'reference':'item_id', 'step':'item_interactions'})\n",
        "      session_exploded = session_exploded.merge(ItemInteractions, on='item_id', how='left').fillna(0)\n",
        "\n",
        "      session_exploded['maximum_step'] = session.step.max()\n",
        "\n",
        "      top = [1, 1, 1, 1, 1]\n",
        "      session_exploded['top_list'] = pd.Series(top)\n",
        "      session_exploded.top_list = session_exploded.top_list.fillna(0)\n",
        "\n",
        "      if count == 0:\n",
        "        Data = session_exploded\n",
        "      else:\n",
        "        Data = pd.concat([Data, session_exploded])\n",
        "      \n",
        "      count = count + 1\n",
        "    except:\n",
        "      continue\n",
        "\n",
        "  return Data"
      ],
      "execution_count": 0,
      "outputs": []
    },
    {
      "cell_type": "code",
      "metadata": {
        "id": "_12aRgOIMfy5",
        "colab_type": "code",
        "colab": {}
      },
      "source": [
        "def transform_data(data):\n",
        "\n",
        "  session_gb = data.groupby('session_id', sort=False)\n",
        "  count = 0\n",
        "\n",
        "  for session_id in data['session_id'].unique():\n",
        "    try:\n",
        "      session = session_gb.get_group(session_id)\n",
        "      session_exploded = session[session.action_type=='clickout item'].tail(1)[['impressions']]\n",
        "      session_exploded.impressions = session_exploded.impressions.apply(lambda x: x.split('|'))\n",
        "      session_exploded = session_exploded.explode('impressions')\n",
        "      session_exploded = session_exploded.rename(columns={'impressions':'item_id'})\n",
        "\n",
        "      session_explode = session[session.action_type=='clickout item'].tail(1)[['prices']]\n",
        "      session_explode.prices = session_explode.prices.apply(lambda x: x.split('|'))\n",
        "      session_explode = session_explode.explode('prices')\n",
        "      session_explode = session_explode.rename(columns={'prices':'price'})\n",
        "      session_explode.price = session_explode.price.apply(lambda x: int(x))\n",
        "\n",
        "      session_exploded['rank'] = range(1, len(session_exploded) + 1)\n",
        "\n",
        "      session_exploded['price'] = session_explode.price\n",
        "      session_exploded['price_rank'] = np.argsort(session_exploded['price'])\n",
        "\n",
        "      clickout_item_id = session[session.action_type=='clickout item'].tail(1)['reference'].values.tolist()[0]\n",
        "      clickout_itemDF = pd.DataFrame({'item_id':[clickout_item_id], 'clickout':[1]})\n",
        "      session_exploded = session_exploded.merge(clickout_itemDF, on='item_id', how='left').fillna(0)\n",
        "\n",
        "      SessionDuration = session.timestamp.max() - session.timestamp.min()\n",
        "      session_exploded['session_duration'] = SessionDuration\n",
        "\n",
        "      ItemDuration = session.groupby('reference').timestamp.max() - session.groupby('reference').timestamp.min()\n",
        "      ItemDuration = ItemDuration.to_frame().reset_index()\\\n",
        "                                .rename(columns={'reference':'item_id', 'timestamp':'item_duration'})\n",
        "      session_exploded = session_exploded.merge(ItemDuration, on='item_id', how='left').fillna(0)\n",
        "\n",
        "      ItemSessionDuration = session_exploded.item_duration/session_exploded.session_duration\n",
        "      session_exploded['item_session_duration'] = ItemSessionDuration\n",
        "\n",
        "      ItemInteractions = session.groupby('reference').step.count()\n",
        "      ItemInteractions = ItemInteractions.to_frame().reset_index()\\\n",
        "                                          .rename(columns={'reference':'item_id', 'step':'item_interactions'})\n",
        "      session_exploded = session_exploded.merge(ItemInteractions, on='item_id', how='left').fillna(0)\n",
        "\n",
        "      session_exploded['maximum_step'] = session.step.max()\n",
        "\n",
        "      top = [1, 1, 1, 1, 1]\n",
        "      session_exploded['top_list'] = pd.Series(top)\n",
        "      session_exploded.top_list = session_exploded.top_list.fillna(0)\n",
        "\n",
        "      if count == 0:\n",
        "        Data = session_exploded\n",
        "      else:\n",
        "        Data = pd.concat([Data, session_exploded])\n",
        "      \n",
        "      count = count + 1\n",
        "    except:\n",
        "      continue\n",
        "\n",
        "  return Data"
      ],
      "execution_count": 0,
      "outputs": []
    },
    {
      "cell_type": "code",
      "metadata": {
        "id": "lZz72MS1RRQO",
        "colab_type": "code",
        "colab": {
          "base_uri": "https://localhost:8080/",
          "height": 285
        },
        "outputId": "b548b597-6b2f-4b70-927f-1eba06867bcf"
      },
      "source": [
        "trainlet = train.iloc[0:10000]\n",
        "trainlet.head()"
      ],
      "execution_count": 41,
      "outputs": [
        {
          "output_type": "execute_result",
          "data": {
            "text/html": [
              "<div>\n",
              "<style scoped>\n",
              "    .dataframe tbody tr th:only-of-type {\n",
              "        vertical-align: middle;\n",
              "    }\n",
              "\n",
              "    .dataframe tbody tr th {\n",
              "        vertical-align: top;\n",
              "    }\n",
              "\n",
              "    .dataframe thead th {\n",
              "        text-align: right;\n",
              "    }\n",
              "</style>\n",
              "<table border=\"1\" class=\"dataframe\">\n",
              "  <thead>\n",
              "    <tr style=\"text-align: right;\">\n",
              "      <th></th>\n",
              "      <th>user_id</th>\n",
              "      <th>session_id</th>\n",
              "      <th>timestamp</th>\n",
              "      <th>step</th>\n",
              "      <th>action_type</th>\n",
              "      <th>reference</th>\n",
              "      <th>platform</th>\n",
              "      <th>city</th>\n",
              "      <th>device</th>\n",
              "      <th>current_filters</th>\n",
              "      <th>impressions</th>\n",
              "      <th>prices</th>\n",
              "    </tr>\n",
              "  </thead>\n",
              "  <tbody>\n",
              "    <tr>\n",
              "      <th>0</th>\n",
              "      <td>00RL8Z82B2Z1</td>\n",
              "      <td>aff3928535f48</td>\n",
              "      <td>1541037460</td>\n",
              "      <td>1</td>\n",
              "      <td>search for poi</td>\n",
              "      <td>Newtown</td>\n",
              "      <td>AU</td>\n",
              "      <td>Sydney, Australia</td>\n",
              "      <td>mobile</td>\n",
              "      <td>NaN</td>\n",
              "      <td>NaN</td>\n",
              "      <td>NaN</td>\n",
              "    </tr>\n",
              "    <tr>\n",
              "      <th>1</th>\n",
              "      <td>00RL8Z82B2Z1</td>\n",
              "      <td>aff3928535f48</td>\n",
              "      <td>1541037522</td>\n",
              "      <td>2</td>\n",
              "      <td>interaction item image</td>\n",
              "      <td>666856</td>\n",
              "      <td>AU</td>\n",
              "      <td>Sydney, Australia</td>\n",
              "      <td>mobile</td>\n",
              "      <td>NaN</td>\n",
              "      <td>NaN</td>\n",
              "      <td>NaN</td>\n",
              "    </tr>\n",
              "    <tr>\n",
              "      <th>2</th>\n",
              "      <td>00RL8Z82B2Z1</td>\n",
              "      <td>aff3928535f48</td>\n",
              "      <td>1541037522</td>\n",
              "      <td>3</td>\n",
              "      <td>interaction item image</td>\n",
              "      <td>666856</td>\n",
              "      <td>AU</td>\n",
              "      <td>Sydney, Australia</td>\n",
              "      <td>mobile</td>\n",
              "      <td>NaN</td>\n",
              "      <td>NaN</td>\n",
              "      <td>NaN</td>\n",
              "    </tr>\n",
              "    <tr>\n",
              "      <th>3</th>\n",
              "      <td>00RL8Z82B2Z1</td>\n",
              "      <td>aff3928535f48</td>\n",
              "      <td>1541037532</td>\n",
              "      <td>4</td>\n",
              "      <td>interaction item image</td>\n",
              "      <td>666856</td>\n",
              "      <td>AU</td>\n",
              "      <td>Sydney, Australia</td>\n",
              "      <td>mobile</td>\n",
              "      <td>NaN</td>\n",
              "      <td>NaN</td>\n",
              "      <td>NaN</td>\n",
              "    </tr>\n",
              "    <tr>\n",
              "      <th>4</th>\n",
              "      <td>00RL8Z82B2Z1</td>\n",
              "      <td>aff3928535f48</td>\n",
              "      <td>1541037532</td>\n",
              "      <td>5</td>\n",
              "      <td>interaction item image</td>\n",
              "      <td>109038</td>\n",
              "      <td>AU</td>\n",
              "      <td>Sydney, Australia</td>\n",
              "      <td>mobile</td>\n",
              "      <td>NaN</td>\n",
              "      <td>NaN</td>\n",
              "      <td>NaN</td>\n",
              "    </tr>\n",
              "  </tbody>\n",
              "</table>\n",
              "</div>"
            ],
            "text/plain": [
              "        user_id     session_id   timestamp  ...  current_filters impressions prices\n",
              "0  00RL8Z82B2Z1  aff3928535f48  1541037460  ...              NaN         NaN    NaN\n",
              "1  00RL8Z82B2Z1  aff3928535f48  1541037522  ...              NaN         NaN    NaN\n",
              "2  00RL8Z82B2Z1  aff3928535f48  1541037522  ...              NaN         NaN    NaN\n",
              "3  00RL8Z82B2Z1  aff3928535f48  1541037532  ...              NaN         NaN    NaN\n",
              "4  00RL8Z82B2Z1  aff3928535f48  1541037532  ...              NaN         NaN    NaN\n",
              "\n",
              "[5 rows x 12 columns]"
            ]
          },
          "metadata": {
            "tags": []
          },
          "execution_count": 41
        }
      ]
    },
    {
      "cell_type": "code",
      "metadata": {
        "id": "w6EWyMrZRYsP",
        "colab_type": "code",
        "colab": {
          "base_uri": "https://localhost:8080/",
          "height": 35
        },
        "outputId": "e2664717-44fd-486d-bcd1-55ece84b7a75"
      },
      "source": [
        "t1 = datetime.now()\n",
        "x = transform_data(trainlet)\n",
        "t2 = datetime.now()\n",
        "time = t2 - t1\n",
        "time"
      ],
      "execution_count": 35,
      "outputs": [
        {
          "output_type": "execute_result",
          "data": {
            "text/plain": [
              "datetime.timedelta(0, 22, 7652)"
            ]
          },
          "metadata": {
            "tags": []
          },
          "execution_count": 35
        }
      ]
    },
    {
      "cell_type": "code",
      "metadata": {
        "id": "9p6uSBxd-KK0",
        "colab_type": "code",
        "colab": {
          "base_uri": "https://localhost:8080/",
          "height": 427
        },
        "outputId": "cf05f462-4c74-45ca-b21b-be727882cdac"
      },
      "source": [
        "x"
      ],
      "execution_count": 36,
      "outputs": [
        {
          "output_type": "execute_result",
          "data": {
            "text/html": [
              "<div>\n",
              "<style scoped>\n",
              "    .dataframe tbody tr th:only-of-type {\n",
              "        vertical-align: middle;\n",
              "    }\n",
              "\n",
              "    .dataframe tbody tr th {\n",
              "        vertical-align: top;\n",
              "    }\n",
              "\n",
              "    .dataframe thead th {\n",
              "        text-align: right;\n",
              "    }\n",
              "</style>\n",
              "<table border=\"1\" class=\"dataframe\">\n",
              "  <thead>\n",
              "    <tr style=\"text-align: right;\">\n",
              "      <th></th>\n",
              "      <th>item_id</th>\n",
              "      <th>rank</th>\n",
              "      <th>price</th>\n",
              "      <th>price_rank</th>\n",
              "      <th>clickout</th>\n",
              "      <th>session_duration</th>\n",
              "      <th>item_duration</th>\n",
              "      <th>item_session_duration</th>\n",
              "      <th>item_interactions</th>\n",
              "      <th>maximum_step</th>\n",
              "      <th>top_list</th>\n",
              "    </tr>\n",
              "  </thead>\n",
              "  <tbody>\n",
              "    <tr>\n",
              "      <th>0</th>\n",
              "      <td>55109</td>\n",
              "      <td>1</td>\n",
              "      <td>162</td>\n",
              "      <td>8</td>\n",
              "      <td>0.0</td>\n",
              "      <td>1025</td>\n",
              "      <td>0.0</td>\n",
              "      <td>0.0</td>\n",
              "      <td>0.0</td>\n",
              "      <td>16</td>\n",
              "      <td>1.0</td>\n",
              "    </tr>\n",
              "    <tr>\n",
              "      <th>1</th>\n",
              "      <td>129343</td>\n",
              "      <td>2</td>\n",
              "      <td>25</td>\n",
              "      <td>1</td>\n",
              "      <td>0.0</td>\n",
              "      <td>1025</td>\n",
              "      <td>0.0</td>\n",
              "      <td>0.0</td>\n",
              "      <td>0.0</td>\n",
              "      <td>16</td>\n",
              "      <td>1.0</td>\n",
              "    </tr>\n",
              "    <tr>\n",
              "      <th>2</th>\n",
              "      <td>54824</td>\n",
              "      <td>3</td>\n",
              "      <td>150</td>\n",
              "      <td>15</td>\n",
              "      <td>0.0</td>\n",
              "      <td>1025</td>\n",
              "      <td>0.0</td>\n",
              "      <td>0.0</td>\n",
              "      <td>0.0</td>\n",
              "      <td>16</td>\n",
              "      <td>1.0</td>\n",
              "    </tr>\n",
              "    <tr>\n",
              "      <th>3</th>\n",
              "      <td>2297972</td>\n",
              "      <td>4</td>\n",
              "      <td>143</td>\n",
              "      <td>5</td>\n",
              "      <td>0.0</td>\n",
              "      <td>1025</td>\n",
              "      <td>0.0</td>\n",
              "      <td>0.0</td>\n",
              "      <td>0.0</td>\n",
              "      <td>16</td>\n",
              "      <td>1.0</td>\n",
              "    </tr>\n",
              "    <tr>\n",
              "      <th>4</th>\n",
              "      <td>109014</td>\n",
              "      <td>5</td>\n",
              "      <td>101</td>\n",
              "      <td>12</td>\n",
              "      <td>0.0</td>\n",
              "      <td>1025</td>\n",
              "      <td>0.0</td>\n",
              "      <td>0.0</td>\n",
              "      <td>0.0</td>\n",
              "      <td>16</td>\n",
              "      <td>1.0</td>\n",
              "    </tr>\n",
              "    <tr>\n",
              "      <th>...</th>\n",
              "      <td>...</td>\n",
              "      <td>...</td>\n",
              "      <td>...</td>\n",
              "      <td>...</td>\n",
              "      <td>...</td>\n",
              "      <td>...</td>\n",
              "      <td>...</td>\n",
              "      <td>...</td>\n",
              "      <td>...</td>\n",
              "      <td>...</td>\n",
              "      <td>...</td>\n",
              "    </tr>\n",
              "    <tr>\n",
              "      <th>20</th>\n",
              "      <td>747401</td>\n",
              "      <td>21</td>\n",
              "      <td>101</td>\n",
              "      <td>6</td>\n",
              "      <td>0.0</td>\n",
              "      <td>194</td>\n",
              "      <td>0.0</td>\n",
              "      <td>0.0</td>\n",
              "      <td>0.0</td>\n",
              "      <td>3</td>\n",
              "      <td>0.0</td>\n",
              "    </tr>\n",
              "    <tr>\n",
              "      <th>21</th>\n",
              "      <td>239591</td>\n",
              "      <td>22</td>\n",
              "      <td>107</td>\n",
              "      <td>15</td>\n",
              "      <td>0.0</td>\n",
              "      <td>194</td>\n",
              "      <td>0.0</td>\n",
              "      <td>0.0</td>\n",
              "      <td>0.0</td>\n",
              "      <td>3</td>\n",
              "      <td>0.0</td>\n",
              "    </tr>\n",
              "    <tr>\n",
              "      <th>22</th>\n",
              "      <td>2788070</td>\n",
              "      <td>23</td>\n",
              "      <td>76</td>\n",
              "      <td>13</td>\n",
              "      <td>0.0</td>\n",
              "      <td>194</td>\n",
              "      <td>0.0</td>\n",
              "      <td>0.0</td>\n",
              "      <td>0.0</td>\n",
              "      <td>3</td>\n",
              "      <td>0.0</td>\n",
              "    </tr>\n",
              "    <tr>\n",
              "      <th>23</th>\n",
              "      <td>129853</td>\n",
              "      <td>24</td>\n",
              "      <td>140</td>\n",
              "      <td>14</td>\n",
              "      <td>0.0</td>\n",
              "      <td>194</td>\n",
              "      <td>0.0</td>\n",
              "      <td>0.0</td>\n",
              "      <td>0.0</td>\n",
              "      <td>3</td>\n",
              "      <td>0.0</td>\n",
              "    </tr>\n",
              "    <tr>\n",
              "      <th>24</th>\n",
              "      <td>208571</td>\n",
              "      <td>25</td>\n",
              "      <td>114</td>\n",
              "      <td>17</td>\n",
              "      <td>0.0</td>\n",
              "      <td>194</td>\n",
              "      <td>0.0</td>\n",
              "      <td>0.0</td>\n",
              "      <td>0.0</td>\n",
              "      <td>3</td>\n",
              "      <td>0.0</td>\n",
              "    </tr>\n",
              "  </tbody>\n",
              "</table>\n",
              "<p>12033 rows × 11 columns</p>\n",
              "</div>"
            ],
            "text/plain": [
              "    item_id  rank  price  ...  item_interactions  maximum_step  top_list\n",
              "0     55109     1    162  ...                0.0            16       1.0\n",
              "1    129343     2     25  ...                0.0            16       1.0\n",
              "2     54824     3    150  ...                0.0            16       1.0\n",
              "3   2297972     4    143  ...                0.0            16       1.0\n",
              "4    109014     5    101  ...                0.0            16       1.0\n",
              "..      ...   ...    ...  ...                ...           ...       ...\n",
              "20   747401    21    101  ...                0.0             3       0.0\n",
              "21   239591    22    107  ...                0.0             3       0.0\n",
              "22  2788070    23     76  ...                0.0             3       0.0\n",
              "23   129853    24    140  ...                0.0             3       0.0\n",
              "24   208571    25    114  ...                0.0             3       0.0\n",
              "\n",
              "[12033 rows x 11 columns]"
            ]
          },
          "metadata": {
            "tags": []
          },
          "execution_count": 36
        }
      ]
    },
    {
      "cell_type": "code",
      "metadata": {
        "id": "ULoJ7rg6X3os",
        "colab_type": "code",
        "colab": {
          "base_uri": "https://localhost:8080/",
          "height": 35
        },
        "outputId": "ddba2e45-9daa-4eea-dbf1-8498f0df091d"
      },
      "source": [
        "train.session_id.nunique(), trainlet.session_id.nunique()"
      ],
      "execution_count": 22,
      "outputs": [
        {
          "output_type": "execute_result",
          "data": {
            "text/plain": [
              "(745755, 581)"
            ]
          },
          "metadata": {
            "tags": []
          },
          "execution_count": 22
        }
      ]
    },
    {
      "cell_type": "markdown",
      "metadata": {
        "id": "kBy1uWDiYWfU",
        "colab_type": "text"
      },
      "source": [
        "## Data Transformation"
      ]
    },
    {
      "cell_type": "code",
      "metadata": {
        "id": "1HgjiL7fYaxt",
        "colab_type": "code",
        "colab": {}
      },
      "source": [
        "t1 = datetime.now()\n",
        "Data = transform_data(train)\n",
        "t2 = datetime.now()\n",
        "time = t2 - t1\n",
        "time"
      ],
      "execution_count": 0,
      "outputs": []
    },
    {
      "cell_type": "code",
      "metadata": {
        "id": "XVRh9fblY-HZ",
        "colab_type": "code",
        "colab": {}
      },
      "source": [
        "Data.to_csv('TrainData.csv', index=False)"
      ],
      "execution_count": 0,
      "outputs": []
    }
  ]
}