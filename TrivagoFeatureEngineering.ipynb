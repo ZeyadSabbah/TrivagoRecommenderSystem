{
  "nbformat": 4,
  "nbformat_minor": 0,
  "metadata": {
    "colab": {
      "name": "TrivagoFeatureEngineering.ipynb",
      "provenance": [],
      "toc_visible": true,
      "machine_shape": "hm",
      "include_colab_link": true
    },
    "kernelspec": {
      "name": "python3",
      "display_name": "Python 3"
    },
    "language_info": {
      "codemirror_mode": {
        "name": "ipython",
        "version": 3
      },
      "file_extension": ".py",
      "mimetype": "text/x-python",
      "name": "python",
      "nbconvert_exporter": "python",
      "pygments_lexer": "ipython3",
      "version": "3.7.3"
    },
    "accelerator": "GPU"
  },
  "cells": [
    {
      "cell_type": "markdown",
      "metadata": {
        "id": "view-in-github",
        "colab_type": "text"
      },
      "source": [
        "<a href=\"https://colab.research.google.com/github/ZeyadSabbah/TrivagoRecommenderSystem/blob/master/TrivagoFeatureEngineering.ipynb\" target=\"_parent\"><img src=\"https://colab.research.google.com/assets/colab-badge.svg\" alt=\"Open In Colab\"/></a>"
      ]
    },
    {
      "cell_type": "markdown",
      "metadata": {
        "id": "t9xOcTOs-egL",
        "colab_type": "text"
      },
      "source": [
        "# Feature Engineering"
      ]
    },
    {
      "cell_type": "markdown",
      "metadata": {
        "id": "v69U4HIGKMAw",
        "colab_type": "text"
      },
      "source": [
        "## Mounting to Drive"
      ]
    },
    {
      "cell_type": "code",
      "metadata": {
        "id": "qKOJSxSSKU2s",
        "colab_type": "code",
        "colab": {
          "base_uri": "https://localhost:8080/",
          "height": 128
        },
        "outputId": "5f575fcf-d465-45c9-d88d-44f896988373"
      },
      "source": [
        "from google.colab import drive\n",
        "drive.mount('/content/drive')"
      ],
      "execution_count": 1,
      "outputs": [
        {
          "output_type": "stream",
          "text": [
            "Go to this URL in a browser: https://accounts.google.com/o/oauth2/auth?client_id=947318989803-6bn6qk8qdgf4n4g3pfee6491hc0brc4i.apps.googleusercontent.com&redirect_uri=urn%3aietf%3awg%3aoauth%3a2.0%3aoob&response_type=code&scope=email%20https%3a%2f%2fwww.googleapis.com%2fauth%2fdocs.test%20https%3a%2f%2fwww.googleapis.com%2fauth%2fdrive%20https%3a%2f%2fwww.googleapis.com%2fauth%2fdrive.photos.readonly%20https%3a%2f%2fwww.googleapis.com%2fauth%2fpeopleapi.readonly\n",
            "\n",
            "Enter your authorization code:\n",
            "··········\n",
            "Mounted at /content/drive\n"
          ],
          "name": "stdout"
        }
      ]
    },
    {
      "cell_type": "code",
      "metadata": {
        "id": "MuIGFI6lWj4z",
        "colab_type": "code",
        "colab": {
          "base_uri": "https://localhost:8080/",
          "height": 35
        },
        "outputId": "cd58b3dc-6d0a-4fe3-9aec-ebf5a22529bf"
      },
      "source": [
        "%cd /content/drive/My Drive/Trivago/Project/TrivagoRecommenderSystem"
      ],
      "execution_count": 2,
      "outputs": [
        {
          "output_type": "stream",
          "text": [
            "/content/drive/My Drive/Trivago/Project/TrivagoRecommenderSystem\n"
          ],
          "name": "stdout"
        }
      ]
    },
    {
      "cell_type": "markdown",
      "metadata": {
        "id": "erJzSzQAKI_E",
        "colab_type": "text"
      },
      "source": [
        "## Loading Libraries & Datasets"
      ]
    },
    {
      "cell_type": "code",
      "metadata": {
        "id": "4W-Uu4f8Wqb2",
        "colab_type": "code",
        "colab": {
          "base_uri": "https://localhost:8080/",
          "height": 254
        },
        "outputId": "1ff211b1-cda5-4fda-9295-709d8b5b3c9a"
      },
      "source": [
        "!pip install cudf-cuda100\n",
        "!cp /usr/local/lib/python3.6/dist-packages/librmm.so .\n",
        "import os  \n",
        "os.environ['NUMBAPRO_NVVM']='/usr/local/cuda-10.0/nvvm/lib64/libnvvm.so'  \n",
        "os.environ['NUMBAPRO_LIBDEVICE']='/usr/local/cuda-10.0/nvvm/libdevice'"
      ],
      "execution_count": 3,
      "outputs": [
        {
          "output_type": "stream",
          "text": [
            "Requirement already satisfied: cudf-cuda100 in /usr/local/lib/python3.6/dist-packages (0.6.1)\n",
            "Requirement already satisfied: nvstrings-cuda100 in /usr/local/lib/python3.6/dist-packages (from cudf-cuda100) (0.3.0.post1)\n",
            "Requirement already satisfied: pycparser==2.19 in /usr/local/lib/python3.6/dist-packages (from cudf-cuda100) (2.19)\n",
            "Requirement already satisfied: cffi>=1.0.0 in /usr/local/lib/python3.6/dist-packages (from cudf-cuda100) (1.14.0)\n",
            "Requirement already satisfied: pandas>=0.23.4 in /usr/local/lib/python3.6/dist-packages (from cudf-cuda100) (0.25.3)\n",
            "Requirement already satisfied: numba<0.42,>=0.40.0 in /usr/local/lib/python3.6/dist-packages (from cudf-cuda100) (0.41.0)\n",
            "Requirement already satisfied: pyarrow==0.12.1 in /usr/local/lib/python3.6/dist-packages (from cudf-cuda100) (0.12.1)\n",
            "Requirement already satisfied: cython<0.30,>=0.29 in /usr/local/lib/python3.6/dist-packages (from cudf-cuda100) (0.29.15)\n",
            "Requirement already satisfied: numpy>=1.14 in /usr/local/lib/python3.6/dist-packages (from cudf-cuda100) (1.17.5)\n",
            "Requirement already satisfied: python-dateutil>=2.6.1 in /usr/local/lib/python3.6/dist-packages (from pandas>=0.23.4->cudf-cuda100) (2.6.1)\n",
            "Requirement already satisfied: pytz>=2017.2 in /usr/local/lib/python3.6/dist-packages (from pandas>=0.23.4->cudf-cuda100) (2018.9)\n",
            "Requirement already satisfied: llvmlite>=0.26.0dev0 in /usr/local/lib/python3.6/dist-packages (from numba<0.42,>=0.40.0->cudf-cuda100) (0.31.0)\n",
            "Requirement already satisfied: six>=1.0.0 in /usr/local/lib/python3.6/dist-packages (from pyarrow==0.12.1->cudf-cuda100) (1.12.0)\n"
          ],
          "name": "stdout"
        }
      ]
    },
    {
      "cell_type": "code",
      "metadata": {
        "id": "9Zp_jIpNFgiF",
        "colab_type": "code",
        "colab": {}
      },
      "source": [
        "# import cudf \n",
        "import pandas as pd\n",
        "import numpy as np\n",
        "from datetime import datetime\n",
        "from datetime import timedelta\n",
        "import math\n",
        "import matplotlib.pyplot as plt\n",
        "from datetime import datetime\n",
        "import re\n",
        "import random\n",
        "from sklearn.preprocessing import OneHotEncoder\n",
        "from sklearn.metrics.pairwise import cosine_similarity\n",
        "from collections import Counter\n",
        "from sklearn.preprocessing import MultiLabelBinarizer"
      ],
      "execution_count": 0,
      "outputs": []
    },
    {
      "cell_type": "code",
      "metadata": {
        "id": "7YcDzyEZFgiS",
        "colab_type": "code",
        "colab": {}
      },
      "source": [
        "item_metadata_filepath = '../../Datasets/raw_data/item_metadata.csv'\n",
        "item_metadata = pd.read_csv(item_metadata_filepath)\n",
        "\n",
        "train_filepath = '../../Datasets/clean_data/train.csv'\n",
        "train = pd.read_csv(train_filepath)"
      ],
      "execution_count": 0,
      "outputs": []
    },
    {
      "cell_type": "markdown",
      "metadata": {
        "id": "fHwyV10cPz9S",
        "colab_type": "text"
      },
      "source": [
        "## Important Dataframes Preparation"
      ]
    },
    {
      "cell_type": "markdown",
      "metadata": {
        "id": "laMcu0RZQBOV",
        "colab_type": "text"
      },
      "source": [
        "In engineer global features from the train dataset, which will be most of the cases around either clickouts or final click out examples (instances), two dataframes of them will be created."
      ]
    },
    {
      "cell_type": "markdown",
      "metadata": {
        "id": "Y1XiWUXTQ8nc",
        "colab_type": "text"
      },
      "source": [
        "In order to get representative global values to the items, duplicated  must be removed. Rows would not all be duplicated because of some attributes such as timestamp, reference, and step."
      ]
    },
    {
      "cell_type": "code",
      "metadata": {
        "id": "KWDB-RD4FgjK",
        "colab_type": "code",
        "colab": {}
      },
      "source": [
        "train.drop('Unnamed: 0', axis=1, inplace=True)\n",
        "ClickoutDF = train[train.action_type=='clickout item']\n",
        "FinalClickoutDF = train[train.action_type=='clickout item'].groupby('session_id').tail(1)\n",
        "ClickoutUniqueDF = ClickoutDF.drop_duplicates(subset=['session_id', 'impressions'], keep='first')"
      ],
      "execution_count": 0,
      "outputs": []
    },
    {
      "cell_type": "markdown",
      "metadata": {
        "id": "F7aOzD-qFgib",
        "colab_type": "text"
      },
      "source": [
        "## Item Global Features\n",
        "### Number of Properties"
      ]
    },
    {
      "cell_type": "code",
      "metadata": {
        "id": "uKawZ83AFgif",
        "colab_type": "code",
        "colab": {},
        "outputId": "83d58b87-dfec-410b-fc13-161d91ca15a3"
      },
      "source": [
        "item_metadata.properties = item_metadata.properties.apply(lambda x: x.split('|'))\n",
        "item_metadata['NumberOfProperties'] = item_metadata.properties.apply(lambda x: len(x))\n",
        "item_metadata.head()"
      ],
      "execution_count": 0,
      "outputs": [
        {
          "output_type": "execute_result",
          "data": {
            "text/html": [
              "<div>\n",
              "<style scoped>\n",
              "    .dataframe tbody tr th:only-of-type {\n",
              "        vertical-align: middle;\n",
              "    }\n",
              "\n",
              "    .dataframe tbody tr th {\n",
              "        vertical-align: top;\n",
              "    }\n",
              "\n",
              "    .dataframe thead th {\n",
              "        text-align: right;\n",
              "    }\n",
              "</style>\n",
              "<table border=\"1\" class=\"dataframe\">\n",
              "  <thead>\n",
              "    <tr style=\"text-align: right;\">\n",
              "      <th></th>\n",
              "      <th>item_id</th>\n",
              "      <th>properties</th>\n",
              "      <th>NumberOfProperties</th>\n",
              "    </tr>\n",
              "  </thead>\n",
              "  <tbody>\n",
              "    <tr>\n",
              "      <th>0</th>\n",
              "      <td>5101</td>\n",
              "      <td>[Satellite TV, Golf Course, Airport Shuttle, C...</td>\n",
              "      <td>62</td>\n",
              "    </tr>\n",
              "    <tr>\n",
              "      <th>1</th>\n",
              "      <td>5416</td>\n",
              "      <td>[Satellite TV, Cosmetic Mirror, Safe (Hotel), ...</td>\n",
              "      <td>46</td>\n",
              "    </tr>\n",
              "    <tr>\n",
              "      <th>2</th>\n",
              "      <td>5834</td>\n",
              "      <td>[Satellite TV, Cosmetic Mirror, Safe (Hotel), ...</td>\n",
              "      <td>40</td>\n",
              "    </tr>\n",
              "    <tr>\n",
              "      <th>3</th>\n",
              "      <td>5910</td>\n",
              "      <td>[Satellite TV, Sailing, Cosmetic Mirror, Telep...</td>\n",
              "      <td>41</td>\n",
              "    </tr>\n",
              "    <tr>\n",
              "      <th>4</th>\n",
              "      <td>6066</td>\n",
              "      <td>[Satellite TV, Sailing, Diving, Cosmetic Mirro...</td>\n",
              "      <td>85</td>\n",
              "    </tr>\n",
              "  </tbody>\n",
              "</table>\n",
              "</div>"
            ],
            "text/plain": [
              "   item_id                                         properties  \\\n",
              "0     5101  [Satellite TV, Golf Course, Airport Shuttle, C...   \n",
              "1     5416  [Satellite TV, Cosmetic Mirror, Safe (Hotel), ...   \n",
              "2     5834  [Satellite TV, Cosmetic Mirror, Safe (Hotel), ...   \n",
              "3     5910  [Satellite TV, Sailing, Cosmetic Mirror, Telep...   \n",
              "4     6066  [Satellite TV, Sailing, Diving, Cosmetic Mirro...   \n",
              "\n",
              "   NumberOfProperties  \n",
              "0                  62  \n",
              "1                  46  \n",
              "2                  40  \n",
              "3                  41  \n",
              "4                  85  "
            ]
          },
          "metadata": {
            "tags": []
          },
          "execution_count": 3
        }
      ]
    },
    {
      "cell_type": "code",
      "metadata": {
        "id": "_KEWtPQTFgir",
        "colab_type": "code",
        "colab": {},
        "outputId": "4fb04564-e3c9-48b7-8b09-2f7695cf0ef6"
      },
      "source": [
        "#getting total number of unique properties across all items\n",
        "AllPropertiesList = item_metadata.properties.tolist()\n",
        "\n",
        "AllPropertiesFlatList = []\n",
        "for sublist in AllPropertiesList:\n",
        "    for item in sublist:\n",
        "        AllPropertiesFlatList.append(item)\n",
        "        \n",
        "print('Number of unique properties is', len(set(AllPropertiesFlatList)))"
      ],
      "execution_count": 0,
      "outputs": [
        {
          "output_type": "stream",
          "text": [
            "Number of unique properties is 157\n"
          ],
          "name": "stdout"
        }
      ]
    },
    {
      "cell_type": "markdown",
      "metadata": {
        "id": "jic5BPFfFgiy",
        "colab_type": "text"
      },
      "source": [
        "### Items Properties Similarities\n",
        "The purpose is to get cosine similarity between items. The maximum 25 items out of the list can be extracted as a dataframe and cosine similarity can be obtained in order to get the similar items to the ones the user had interacted with to be listed on the top of the list.  "
      ]
    },
    {
      "cell_type": "code",
      "metadata": {
        "scrolled": true,
        "id": "upvpoHnMFgi1",
        "colab_type": "code",
        "colab": {},
        "outputId": "54b35a30-8620-4d70-af08-ae1a0cde0ee8"
      },
      "source": [
        "item_metadata.properties = item_metadata.properties.apply(lambda x: tuple(x))\n",
        "\n",
        "one_hot = MultiLabelBinarizer()\n",
        "\n",
        "properties_encoded = one_hot.fit_transform(item_metadata.properties.values.tolist())\n",
        "\n",
        "properties_encodedDF = pd.DataFrame(properties_encoded)\n",
        "\n",
        "#changing column names\n",
        "properties_list = one_hot.classes_.tolist()\n",
        "for i in range(len(properties_list)):\n",
        "    properties_encodedDF = properties_encodedDF.rename(columns={i:properties_list[i]})\n",
        "\n",
        "#creating a column of the item id to get the similarity between items\n",
        "item_metadata.item_id = item_metadata.item_id.apply(lambda x: str(x))\n",
        "properties_encodedDF['item_id'] = item_metadata.item_id\n",
        "\n",
        "properties_encodedDF.head()"
      ],
      "execution_count": 0,
      "outputs": [
        {
          "output_type": "execute_result",
          "data": {
            "text/html": [
              "<div>\n",
              "<style scoped>\n",
              "    .dataframe tbody tr th:only-of-type {\n",
              "        vertical-align: middle;\n",
              "    }\n",
              "\n",
              "    .dataframe tbody tr th {\n",
              "        vertical-align: top;\n",
              "    }\n",
              "\n",
              "    .dataframe thead th {\n",
              "        text-align: right;\n",
              "    }\n",
              "</style>\n",
              "<table border=\"1\" class=\"dataframe\">\n",
              "  <thead>\n",
              "    <tr style=\"text-align: right;\">\n",
              "      <th></th>\n",
              "      <th>1 Star</th>\n",
              "      <th>2 Star</th>\n",
              "      <th>3 Star</th>\n",
              "      <th>4 Star</th>\n",
              "      <th>5 Star</th>\n",
              "      <th>Accessible Hotel</th>\n",
              "      <th>Accessible Parking</th>\n",
              "      <th>Adults Only</th>\n",
              "      <th>Air Conditioning</th>\n",
              "      <th>Airport Hotel</th>\n",
              "      <th>...</th>\n",
              "      <th>Terrace (Hotel)</th>\n",
              "      <th>Theme Hotel</th>\n",
              "      <th>Towels</th>\n",
              "      <th>Very Good Rating</th>\n",
              "      <th>Volleyball</th>\n",
              "      <th>Washing Machine</th>\n",
              "      <th>Water Slide</th>\n",
              "      <th>Wheelchair Accessible</th>\n",
              "      <th>WiFi (Public Areas)</th>\n",
              "      <th>WiFi (Rooms)</th>\n",
              "    </tr>\n",
              "  </thead>\n",
              "  <tbody>\n",
              "    <tr>\n",
              "      <th>0</th>\n",
              "      <td>0</td>\n",
              "      <td>0</td>\n",
              "      <td>0</td>\n",
              "      <td>1</td>\n",
              "      <td>0</td>\n",
              "      <td>1</td>\n",
              "      <td>1</td>\n",
              "      <td>0</td>\n",
              "      <td>1</td>\n",
              "      <td>0</td>\n",
              "      <td>...</td>\n",
              "      <td>1</td>\n",
              "      <td>0</td>\n",
              "      <td>0</td>\n",
              "      <td>0</td>\n",
              "      <td>0</td>\n",
              "      <td>0</td>\n",
              "      <td>0</td>\n",
              "      <td>0</td>\n",
              "      <td>1</td>\n",
              "      <td>1</td>\n",
              "    </tr>\n",
              "    <tr>\n",
              "      <th>1</th>\n",
              "      <td>0</td>\n",
              "      <td>0</td>\n",
              "      <td>0</td>\n",
              "      <td>1</td>\n",
              "      <td>0</td>\n",
              "      <td>0</td>\n",
              "      <td>0</td>\n",
              "      <td>0</td>\n",
              "      <td>0</td>\n",
              "      <td>0</td>\n",
              "      <td>...</td>\n",
              "      <td>1</td>\n",
              "      <td>0</td>\n",
              "      <td>0</td>\n",
              "      <td>1</td>\n",
              "      <td>0</td>\n",
              "      <td>0</td>\n",
              "      <td>0</td>\n",
              "      <td>1</td>\n",
              "      <td>1</td>\n",
              "      <td>1</td>\n",
              "    </tr>\n",
              "    <tr>\n",
              "      <th>2</th>\n",
              "      <td>0</td>\n",
              "      <td>0</td>\n",
              "      <td>1</td>\n",
              "      <td>0</td>\n",
              "      <td>0</td>\n",
              "      <td>0</td>\n",
              "      <td>0</td>\n",
              "      <td>0</td>\n",
              "      <td>0</td>\n",
              "      <td>0</td>\n",
              "      <td>...</td>\n",
              "      <td>1</td>\n",
              "      <td>0</td>\n",
              "      <td>0</td>\n",
              "      <td>1</td>\n",
              "      <td>0</td>\n",
              "      <td>0</td>\n",
              "      <td>0</td>\n",
              "      <td>0</td>\n",
              "      <td>1</td>\n",
              "      <td>1</td>\n",
              "    </tr>\n",
              "    <tr>\n",
              "      <th>3</th>\n",
              "      <td>0</td>\n",
              "      <td>0</td>\n",
              "      <td>0</td>\n",
              "      <td>1</td>\n",
              "      <td>0</td>\n",
              "      <td>0</td>\n",
              "      <td>0</td>\n",
              "      <td>0</td>\n",
              "      <td>0</td>\n",
              "      <td>0</td>\n",
              "      <td>...</td>\n",
              "      <td>1</td>\n",
              "      <td>0</td>\n",
              "      <td>0</td>\n",
              "      <td>0</td>\n",
              "      <td>0</td>\n",
              "      <td>0</td>\n",
              "      <td>0</td>\n",
              "      <td>0</td>\n",
              "      <td>1</td>\n",
              "      <td>0</td>\n",
              "    </tr>\n",
              "    <tr>\n",
              "      <th>4</th>\n",
              "      <td>0</td>\n",
              "      <td>0</td>\n",
              "      <td>0</td>\n",
              "      <td>1</td>\n",
              "      <td>0</td>\n",
              "      <td>1</td>\n",
              "      <td>1</td>\n",
              "      <td>0</td>\n",
              "      <td>0</td>\n",
              "      <td>0</td>\n",
              "      <td>...</td>\n",
              "      <td>1</td>\n",
              "      <td>0</td>\n",
              "      <td>1</td>\n",
              "      <td>0</td>\n",
              "      <td>1</td>\n",
              "      <td>0</td>\n",
              "      <td>0</td>\n",
              "      <td>1</td>\n",
              "      <td>1</td>\n",
              "      <td>1</td>\n",
              "    </tr>\n",
              "  </tbody>\n",
              "</table>\n",
              "<p>5 rows × 157 columns</p>\n",
              "</div>"
            ],
            "text/plain": [
              "   1 Star  2 Star  3 Star  4 Star  5 Star  Accessible Hotel  \\\n",
              "0       0       0       0       1       0                 1   \n",
              "1       0       0       0       1       0                 0   \n",
              "2       0       0       1       0       0                 0   \n",
              "3       0       0       0       1       0                 0   \n",
              "4       0       0       0       1       0                 1   \n",
              "\n",
              "   Accessible Parking  Adults Only  Air Conditioning  Airport Hotel  ...  \\\n",
              "0                   1            0                 1              0  ...   \n",
              "1                   0            0                 0              0  ...   \n",
              "2                   0            0                 0              0  ...   \n",
              "3                   0            0                 0              0  ...   \n",
              "4                   1            0                 0              0  ...   \n",
              "\n",
              "   Terrace (Hotel)  Theme Hotel  Towels  Very Good Rating  Volleyball  \\\n",
              "0                1            0       0                 0           0   \n",
              "1                1            0       0                 1           0   \n",
              "2                1            0       0                 1           0   \n",
              "3                1            0       0                 0           0   \n",
              "4                1            0       1                 0           1   \n",
              "\n",
              "   Washing Machine  Water Slide  Wheelchair Accessible  WiFi (Public Areas)  \\\n",
              "0                0            0                      0                    1   \n",
              "1                0            0                      1                    1   \n",
              "2                0            0                      0                    1   \n",
              "3                0            0                      0                    1   \n",
              "4                0            0                      1                    1   \n",
              "\n",
              "   WiFi (Rooms)  \n",
              "0             1  \n",
              "1             1  \n",
              "2             1  \n",
              "3             0  \n",
              "4             1  \n",
              "\n",
              "[5 rows x 157 columns]"
            ]
          },
          "metadata": {
            "tags": []
          },
          "execution_count": 6
        }
      ]
    },
    {
      "cell_type": "code",
      "metadata": {
        "id": "55-zbqmpFgi_",
        "colab_type": "code",
        "colab": {},
        "outputId": "ec571a05-02c2-44dc-df69-ecceedd872f1"
      },
      "source": [
        "cosine_similarity(properties_encodedDF.set_index('item_id').iloc[0:25])[0]"
      ],
      "execution_count": 0,
      "outputs": [
        {
          "output_type": "execute_result",
          "data": {
            "text/plain": [
              "array([1.        , 0.69283044, 0.6024145 , 0.69419307, 0.74385528,\n",
              "       0.62604751, 0.7220817 , 0.75202407, 0.72586619, 0.77491695,\n",
              "       0.68469194, 0.56796183, 0.65036141, 0.7573052 , 0.68861713,\n",
              "       0.73636183, 0.5528638 , 0.66628253, 0.65991202, 0.68250015,\n",
              "       0.74691014, 0.756971  , 0.57473697, 0.61833711, 0.5265603 ])"
            ]
          },
          "metadata": {
            "tags": []
          },
          "execution_count": 137
        }
      ]
    },
    {
      "cell_type": "markdown",
      "metadata": {
        "id": "J8kcaIOEFgjH",
        "colab_type": "text"
      },
      "source": [
        "It needs to be discussed for further implementation."
      ]
    },
    {
      "cell_type": "markdown",
      "metadata": {
        "id": "a3_zkXYmFgjJ",
        "colab_type": "text"
      },
      "source": [
        "## Number of Times in Impressions\n",
        "The purpose of this feature is to check how many times an item had been shown to users in the list."
      ]
    },
    {
      "cell_type": "markdown",
      "metadata": {
        "id": "2a0n6qeSFgjd",
        "colab_type": "text"
      },
      "source": [
        "Finding number of times an item has been mentioned in a list."
      ]
    },
    {
      "cell_type": "code",
      "metadata": {
        "id": "hqDgSatzFgj0",
        "colab_type": "code",
        "colab": {},
        "outputId": "451cf685-d771-4573-fcd0-c946cdee33cf"
      },
      "source": [
        "AllImpressionsList = ClickoutUniqueDF.impressions.apply(lambda x:x.split('|'))\n",
        "\n",
        "AllImpressionsFlatList = []\n",
        "for sublist in AllImpressionsList:\n",
        "    for item in sublist:\n",
        "        AllImpressionsFlatList.append(item)\n",
        "\n",
        "InImpressionsCounter = Counter(AllImpressionsFlatList)\n",
        "InImpressionsDF = pd.DataFrame.from_dict(InImpressionsCounter, orient='index').reset_index()\\\n",
        "                              .rename(columns={'index':'item_id', 0:'NumberInImpressions'})\n",
        "InImpressionsDF.head()"
      ],
      "execution_count": 0,
      "outputs": [
        {
          "output_type": "execute_result",
          "data": {
            "text/html": [
              "<div>\n",
              "<style scoped>\n",
              "    .dataframe tbody tr th:only-of-type {\n",
              "        vertical-align: middle;\n",
              "    }\n",
              "\n",
              "    .dataframe tbody tr th {\n",
              "        vertical-align: top;\n",
              "    }\n",
              "\n",
              "    .dataframe thead th {\n",
              "        text-align: right;\n",
              "    }\n",
              "</style>\n",
              "<table border=\"1\" class=\"dataframe\">\n",
              "  <thead>\n",
              "    <tr style=\"text-align: right;\">\n",
              "      <th></th>\n",
              "      <th>item_id</th>\n",
              "      <th>NumberInImpressions</th>\n",
              "    </tr>\n",
              "  </thead>\n",
              "  <tbody>\n",
              "    <tr>\n",
              "      <th>0</th>\n",
              "      <td>3400638</td>\n",
              "      <td>492</td>\n",
              "    </tr>\n",
              "    <tr>\n",
              "      <th>1</th>\n",
              "      <td>1253714</td>\n",
              "      <td>84</td>\n",
              "    </tr>\n",
              "    <tr>\n",
              "      <th>2</th>\n",
              "      <td>3367857</td>\n",
              "      <td>161</td>\n",
              "    </tr>\n",
              "    <tr>\n",
              "      <th>3</th>\n",
              "      <td>5100540</td>\n",
              "      <td>179</td>\n",
              "    </tr>\n",
              "    <tr>\n",
              "      <th>4</th>\n",
              "      <td>1088584</td>\n",
              "      <td>147</td>\n",
              "    </tr>\n",
              "  </tbody>\n",
              "</table>\n",
              "</div>"
            ],
            "text/plain": [
              "   item_id  NumberInImpressions\n",
              "0  3400638                  492\n",
              "1  1253714                   84\n",
              "2  3367857                  161\n",
              "3  5100540                  179\n",
              "4  1088584                  147"
            ]
          },
          "metadata": {
            "tags": []
          },
          "execution_count": 10
        }
      ]
    },
    {
      "cell_type": "code",
      "metadata": {
        "id": "MilO4jYIFgj5",
        "colab_type": "code",
        "colab": {},
        "outputId": "7eb31dea-0fa1-4837-88af-bef89104afa0"
      },
      "source": [
        "InImpressionsDF.item_id.nunique(), len(InImpressionsDF), item_metadata.item_id.nunique()"
      ],
      "execution_count": 0,
      "outputs": [
        {
          "output_type": "execute_result",
          "data": {
            "text/plain": [
              "(815092, 815092, 927142)"
            ]
          },
          "metadata": {
            "tags": []
          },
          "execution_count": 11
        }
      ]
    },
    {
      "cell_type": "markdown",
      "metadata": {
        "id": "h8aULpmpFgkA",
        "colab_type": "text"
      },
      "source": [
        "Number of items in this dataframe is less than the number of items in item_metadata, that's because some of the items had not been mentioned in the impressions list."
      ]
    },
    {
      "cell_type": "code",
      "metadata": {
        "scrolled": true,
        "id": "WRayg1swFgkD",
        "colab_type": "code",
        "colab": {},
        "outputId": "04de715c-edf4-4dd9-b96c-4a4924435241"
      },
      "source": [
        "#left joining\n",
        "item_metadata = item_metadata.merge(InImpressionsDF, on='item_id', how='left')\n",
        "\n",
        "#filling NaN values with zeros\n",
        "item_metadata.NoInImpressions = item_metadata.NumberInImpressions.fillna(0)\n",
        "\n",
        "item_metadata.head()"
      ],
      "execution_count": 0,
      "outputs": [
        {
          "output_type": "execute_result",
          "data": {
            "text/html": [
              "<div>\n",
              "<style scoped>\n",
              "    .dataframe tbody tr th:only-of-type {\n",
              "        vertical-align: middle;\n",
              "    }\n",
              "\n",
              "    .dataframe tbody tr th {\n",
              "        vertical-align: top;\n",
              "    }\n",
              "\n",
              "    .dataframe thead th {\n",
              "        text-align: right;\n",
              "    }\n",
              "</style>\n",
              "<table border=\"1\" class=\"dataframe\">\n",
              "  <thead>\n",
              "    <tr style=\"text-align: right;\">\n",
              "      <th></th>\n",
              "      <th>item_id</th>\n",
              "      <th>properties</th>\n",
              "      <th>NumberOfProperties</th>\n",
              "      <th>NumberInImpressions</th>\n",
              "    </tr>\n",
              "  </thead>\n",
              "  <tbody>\n",
              "    <tr>\n",
              "      <th>0</th>\n",
              "      <td>5101</td>\n",
              "      <td>(Satellite TV, Golf Course, Airport Shuttle, C...</td>\n",
              "      <td>62</td>\n",
              "      <td>89.0</td>\n",
              "    </tr>\n",
              "    <tr>\n",
              "      <th>1</th>\n",
              "      <td>5416</td>\n",
              "      <td>(Satellite TV, Cosmetic Mirror, Safe (Hotel), ...</td>\n",
              "      <td>46</td>\n",
              "      <td>63.0</td>\n",
              "    </tr>\n",
              "    <tr>\n",
              "      <th>2</th>\n",
              "      <td>5834</td>\n",
              "      <td>(Satellite TV, Cosmetic Mirror, Safe (Hotel), ...</td>\n",
              "      <td>40</td>\n",
              "      <td>157.0</td>\n",
              "    </tr>\n",
              "    <tr>\n",
              "      <th>3</th>\n",
              "      <td>5910</td>\n",
              "      <td>(Satellite TV, Sailing, Cosmetic Mirror, Telep...</td>\n",
              "      <td>41</td>\n",
              "      <td>112.0</td>\n",
              "    </tr>\n",
              "    <tr>\n",
              "      <th>4</th>\n",
              "      <td>6066</td>\n",
              "      <td>(Satellite TV, Sailing, Diving, Cosmetic Mirro...</td>\n",
              "      <td>85</td>\n",
              "      <td>54.0</td>\n",
              "    </tr>\n",
              "  </tbody>\n",
              "</table>\n",
              "</div>"
            ],
            "text/plain": [
              "  item_id                                         properties  \\\n",
              "0    5101  (Satellite TV, Golf Course, Airport Shuttle, C...   \n",
              "1    5416  (Satellite TV, Cosmetic Mirror, Safe (Hotel), ...   \n",
              "2    5834  (Satellite TV, Cosmetic Mirror, Safe (Hotel), ...   \n",
              "3    5910  (Satellite TV, Sailing, Cosmetic Mirror, Telep...   \n",
              "4    6066  (Satellite TV, Sailing, Diving, Cosmetic Mirro...   \n",
              "\n",
              "   NumberOfProperties  NumberInImpressions  \n",
              "0                  62                 89.0  \n",
              "1                  46                 63.0  \n",
              "2                  40                157.0  \n",
              "3                  41                112.0  \n",
              "4                  85                 54.0  "
            ]
          },
          "metadata": {
            "tags": []
          },
          "execution_count": 12
        }
      ]
    },
    {
      "cell_type": "markdown",
      "metadata": {
        "id": "ae_M8pVzFgkI",
        "colab_type": "text"
      },
      "source": [
        "## Number of Times in Reference\n",
        "The purpose of this feature is to check how many times an item has been mentioned in the Reference attribute in the whole train set. "
      ]
    },
    {
      "cell_type": "code",
      "metadata": {
        "id": "8bk3WxlYFgkK",
        "colab_type": "code",
        "colab": {},
        "outputId": "f616713e-1d4c-485a-a33b-22a51ce34e2a"
      },
      "source": [
        "InReferencesCounter = Counter(train.reference.values.tolist())\n",
        "InReferencesDF = pd.DataFrame.from_dict(InReferencesCounter, orient='index').reset_index()\\\n",
        "                              .rename(columns={'index':'item_id', 0:'NumberInReferences'})\n",
        "\n",
        "InReferencesDF.head()"
      ],
      "execution_count": 0,
      "outputs": [
        {
          "output_type": "execute_result",
          "data": {
            "text/html": [
              "<div>\n",
              "<style scoped>\n",
              "    .dataframe tbody tr th:only-of-type {\n",
              "        vertical-align: middle;\n",
              "    }\n",
              "\n",
              "    .dataframe tbody tr th {\n",
              "        vertical-align: top;\n",
              "    }\n",
              "\n",
              "    .dataframe thead th {\n",
              "        text-align: right;\n",
              "    }\n",
              "</style>\n",
              "<table border=\"1\" class=\"dataframe\">\n",
              "  <thead>\n",
              "    <tr style=\"text-align: right;\">\n",
              "      <th></th>\n",
              "      <th>item_id</th>\n",
              "      <th>NumberInReferences</th>\n",
              "    </tr>\n",
              "  </thead>\n",
              "  <tbody>\n",
              "    <tr>\n",
              "      <th>0</th>\n",
              "      <td>Newtown</td>\n",
              "      <td>16</td>\n",
              "    </tr>\n",
              "    <tr>\n",
              "      <th>1</th>\n",
              "      <td>666856</td>\n",
              "      <td>26</td>\n",
              "    </tr>\n",
              "    <tr>\n",
              "      <th>2</th>\n",
              "      <td>109038</td>\n",
              "      <td>253</td>\n",
              "    </tr>\n",
              "    <tr>\n",
              "      <th>3</th>\n",
              "      <td>Surry Hills</td>\n",
              "      <td>21</td>\n",
              "    </tr>\n",
              "    <tr>\n",
              "      <th>4</th>\n",
              "      <td>1257342</td>\n",
              "      <td>74</td>\n",
              "    </tr>\n",
              "  </tbody>\n",
              "</table>\n",
              "</div>"
            ],
            "text/plain": [
              "       item_id  NumberInReferences\n",
              "0      Newtown                  16\n",
              "1       666856                  26\n",
              "2       109038                 253\n",
              "3  Surry Hills                  21\n",
              "4      1257342                  74"
            ]
          },
          "metadata": {
            "tags": []
          },
          "execution_count": 15
        }
      ]
    },
    {
      "cell_type": "code",
      "metadata": {
        "id": "7tPSDS_fFgkS",
        "colab_type": "code",
        "colab": {},
        "outputId": "052638cd-f191-49bc-f158-f5e117068640"
      },
      "source": [
        "#left joining\n",
        "item_metadata = item_metadata.merge(InReferencesDF, on='item_id', how='left')\n",
        "\n",
        "#filling NaN values with zeros\n",
        "item_metadata.NumberInReferences = item_metadata.NumberInReferences.fillna(0)\n",
        "\n",
        "item_metadata.head()"
      ],
      "execution_count": 0,
      "outputs": [
        {
          "output_type": "execute_result",
          "data": {
            "text/html": [
              "<div>\n",
              "<style scoped>\n",
              "    .dataframe tbody tr th:only-of-type {\n",
              "        vertical-align: middle;\n",
              "    }\n",
              "\n",
              "    .dataframe tbody tr th {\n",
              "        vertical-align: top;\n",
              "    }\n",
              "\n",
              "    .dataframe thead th {\n",
              "        text-align: right;\n",
              "    }\n",
              "</style>\n",
              "<table border=\"1\" class=\"dataframe\">\n",
              "  <thead>\n",
              "    <tr style=\"text-align: right;\">\n",
              "      <th></th>\n",
              "      <th>item_id</th>\n",
              "      <th>properties</th>\n",
              "      <th>NumberOfProperties</th>\n",
              "      <th>NumberInImpressions</th>\n",
              "      <th>NumberInReferences</th>\n",
              "    </tr>\n",
              "  </thead>\n",
              "  <tbody>\n",
              "    <tr>\n",
              "      <th>0</th>\n",
              "      <td>5101</td>\n",
              "      <td>(Satellite TV, Golf Course, Airport Shuttle, C...</td>\n",
              "      <td>62</td>\n",
              "      <td>89.0</td>\n",
              "      <td>14.0</td>\n",
              "    </tr>\n",
              "    <tr>\n",
              "      <th>1</th>\n",
              "      <td>5416</td>\n",
              "      <td>(Satellite TV, Cosmetic Mirror, Safe (Hotel), ...</td>\n",
              "      <td>46</td>\n",
              "      <td>63.0</td>\n",
              "      <td>43.0</td>\n",
              "    </tr>\n",
              "    <tr>\n",
              "      <th>2</th>\n",
              "      <td>5834</td>\n",
              "      <td>(Satellite TV, Cosmetic Mirror, Safe (Hotel), ...</td>\n",
              "      <td>40</td>\n",
              "      <td>157.0</td>\n",
              "      <td>102.0</td>\n",
              "    </tr>\n",
              "    <tr>\n",
              "      <th>3</th>\n",
              "      <td>5910</td>\n",
              "      <td>(Satellite TV, Sailing, Cosmetic Mirror, Telep...</td>\n",
              "      <td>41</td>\n",
              "      <td>112.0</td>\n",
              "      <td>96.0</td>\n",
              "    </tr>\n",
              "    <tr>\n",
              "      <th>4</th>\n",
              "      <td>6066</td>\n",
              "      <td>(Satellite TV, Sailing, Diving, Cosmetic Mirro...</td>\n",
              "      <td>85</td>\n",
              "      <td>54.0</td>\n",
              "      <td>47.0</td>\n",
              "    </tr>\n",
              "  </tbody>\n",
              "</table>\n",
              "</div>"
            ],
            "text/plain": [
              "  item_id                                         properties  \\\n",
              "0    5101  (Satellite TV, Golf Course, Airport Shuttle, C...   \n",
              "1    5416  (Satellite TV, Cosmetic Mirror, Safe (Hotel), ...   \n",
              "2    5834  (Satellite TV, Cosmetic Mirror, Safe (Hotel), ...   \n",
              "3    5910  (Satellite TV, Sailing, Cosmetic Mirror, Telep...   \n",
              "4    6066  (Satellite TV, Sailing, Diving, Cosmetic Mirro...   \n",
              "\n",
              "   NumberOfProperties  NumberInImpressions  NumberInReferences  \n",
              "0                  62                 89.0                14.0  \n",
              "1                  46                 63.0                43.0  \n",
              "2                  40                157.0               102.0  \n",
              "3                  41                112.0                96.0  \n",
              "4                  85                 54.0                47.0  "
            ]
          },
          "metadata": {
            "tags": []
          },
          "execution_count": 17
        }
      ]
    },
    {
      "cell_type": "markdown",
      "metadata": {
        "id": "zoVGRxYHFgkZ",
        "colab_type": "text"
      },
      "source": [
        "## Number of Times in Clickout\n",
        "The purpose of this feature is to check how many times an item has been clicked out"
      ]
    },
    {
      "cell_type": "code",
      "metadata": {
        "id": "90brQsHdFgkb",
        "colab_type": "code",
        "colab": {},
        "outputId": "7992257f-3e2c-4f72-aa20-c3cc0751af67"
      },
      "source": [
        "InClickoutCounter = Counter(ClickoutDF.reference.values.tolist())\n",
        "InClickoutDF = pd.DataFrame.from_dict(InClickoutCounter, orient='index').reset_index()\\\n",
        "                              .rename(columns={'index':'item_id', 0:'NumberAsClickout'})\n",
        "\n",
        "InClickoutDF.head()"
      ],
      "execution_count": 0,
      "outputs": [
        {
          "output_type": "execute_result",
          "data": {
            "text/html": [
              "<div>\n",
              "<style scoped>\n",
              "    .dataframe tbody tr th:only-of-type {\n",
              "        vertical-align: middle;\n",
              "    }\n",
              "\n",
              "    .dataframe tbody tr th {\n",
              "        vertical-align: top;\n",
              "    }\n",
              "\n",
              "    .dataframe thead th {\n",
              "        text-align: right;\n",
              "    }\n",
              "</style>\n",
              "<table border=\"1\" class=\"dataframe\">\n",
              "  <thead>\n",
              "    <tr style=\"text-align: right;\">\n",
              "      <th></th>\n",
              "      <th>item_id</th>\n",
              "      <th>NumberInClickout</th>\n",
              "    </tr>\n",
              "  </thead>\n",
              "  <tbody>\n",
              "    <tr>\n",
              "      <th>0</th>\n",
              "      <td>109038</td>\n",
              "      <td>53</td>\n",
              "    </tr>\n",
              "    <tr>\n",
              "      <th>1</th>\n",
              "      <td>1257342</td>\n",
              "      <td>20</td>\n",
              "    </tr>\n",
              "    <tr>\n",
              "      <th>2</th>\n",
              "      <td>2795374</td>\n",
              "      <td>42</td>\n",
              "    </tr>\n",
              "    <tr>\n",
              "      <th>3</th>\n",
              "      <td>1032816</td>\n",
              "      <td>4</td>\n",
              "    </tr>\n",
              "    <tr>\n",
              "      <th>4</th>\n",
              "      <td>65685</td>\n",
              "      <td>3</td>\n",
              "    </tr>\n",
              "  </tbody>\n",
              "</table>\n",
              "</div>"
            ],
            "text/plain": [
              "   item_id  NumberInClickout\n",
              "0   109038                53\n",
              "1  1257342                20\n",
              "2  2795374                42\n",
              "3  1032816                 4\n",
              "4    65685                 3"
            ]
          },
          "metadata": {
            "tags": []
          },
          "execution_count": 19
        }
      ]
    },
    {
      "cell_type": "code",
      "metadata": {
        "id": "V3mWF_azFgkf",
        "colab_type": "code",
        "colab": {},
        "outputId": "84f710ce-f798-436f-9536-26a924eaa559"
      },
      "source": [
        "#left joining\n",
        "item_metadata = item_metadata.merge(InClickoutDF, on='item_id', how='left')\n",
        "\n",
        "#filling NaN values with zeros\n",
        "item_metadata.NumberInClickout = item_metadata.NumberInClickout.fillna(0)\n",
        "\n",
        "item_metadata.head()"
      ],
      "execution_count": 0,
      "outputs": [
        {
          "output_type": "execute_result",
          "data": {
            "text/html": [
              "<div>\n",
              "<style scoped>\n",
              "    .dataframe tbody tr th:only-of-type {\n",
              "        vertical-align: middle;\n",
              "    }\n",
              "\n",
              "    .dataframe tbody tr th {\n",
              "        vertical-align: top;\n",
              "    }\n",
              "\n",
              "    .dataframe thead th {\n",
              "        text-align: right;\n",
              "    }\n",
              "</style>\n",
              "<table border=\"1\" class=\"dataframe\">\n",
              "  <thead>\n",
              "    <tr style=\"text-align: right;\">\n",
              "      <th></th>\n",
              "      <th>item_id</th>\n",
              "      <th>properties</th>\n",
              "      <th>NumberOfProperties</th>\n",
              "      <th>NumberInImpressions</th>\n",
              "      <th>NumberInReferences</th>\n",
              "      <th>NumberInClickout</th>\n",
              "    </tr>\n",
              "  </thead>\n",
              "  <tbody>\n",
              "    <tr>\n",
              "      <th>0</th>\n",
              "      <td>5101</td>\n",
              "      <td>(Satellite TV, Golf Course, Airport Shuttle, C...</td>\n",
              "      <td>62</td>\n",
              "      <td>89.0</td>\n",
              "      <td>14.0</td>\n",
              "      <td>7.0</td>\n",
              "    </tr>\n",
              "    <tr>\n",
              "      <th>1</th>\n",
              "      <td>5416</td>\n",
              "      <td>(Satellite TV, Cosmetic Mirror, Safe (Hotel), ...</td>\n",
              "      <td>46</td>\n",
              "      <td>63.0</td>\n",
              "      <td>43.0</td>\n",
              "      <td>6.0</td>\n",
              "    </tr>\n",
              "    <tr>\n",
              "      <th>2</th>\n",
              "      <td>5834</td>\n",
              "      <td>(Satellite TV, Cosmetic Mirror, Safe (Hotel), ...</td>\n",
              "      <td>40</td>\n",
              "      <td>157.0</td>\n",
              "      <td>102.0</td>\n",
              "      <td>12.0</td>\n",
              "    </tr>\n",
              "    <tr>\n",
              "      <th>3</th>\n",
              "      <td>5910</td>\n",
              "      <td>(Satellite TV, Sailing, Cosmetic Mirror, Telep...</td>\n",
              "      <td>41</td>\n",
              "      <td>112.0</td>\n",
              "      <td>96.0</td>\n",
              "      <td>5.0</td>\n",
              "    </tr>\n",
              "    <tr>\n",
              "      <th>4</th>\n",
              "      <td>6066</td>\n",
              "      <td>(Satellite TV, Sailing, Diving, Cosmetic Mirro...</td>\n",
              "      <td>85</td>\n",
              "      <td>54.0</td>\n",
              "      <td>47.0</td>\n",
              "      <td>8.0</td>\n",
              "    </tr>\n",
              "  </tbody>\n",
              "</table>\n",
              "</div>"
            ],
            "text/plain": [
              "  item_id                                         properties  \\\n",
              "0    5101  (Satellite TV, Golf Course, Airport Shuttle, C...   \n",
              "1    5416  (Satellite TV, Cosmetic Mirror, Safe (Hotel), ...   \n",
              "2    5834  (Satellite TV, Cosmetic Mirror, Safe (Hotel), ...   \n",
              "3    5910  (Satellite TV, Sailing, Cosmetic Mirror, Telep...   \n",
              "4    6066  (Satellite TV, Sailing, Diving, Cosmetic Mirro...   \n",
              "\n",
              "   NumberOfProperties  NumberInImpressions  NumberInReferences  \\\n",
              "0                  62                 89.0                14.0   \n",
              "1                  46                 63.0                43.0   \n",
              "2                  40                157.0               102.0   \n",
              "3                  41                112.0                96.0   \n",
              "4                  85                 54.0                47.0   \n",
              "\n",
              "   NumberInClickout  \n",
              "0               7.0  \n",
              "1               6.0  \n",
              "2              12.0  \n",
              "3               5.0  \n",
              "4               8.0  "
            ]
          },
          "metadata": {
            "tags": []
          },
          "execution_count": 20
        }
      ]
    },
    {
      "cell_type": "markdown",
      "metadata": {
        "id": "t-ZSBJIxFgkj",
        "colab_type": "text"
      },
      "source": [
        "## Number of Time in Final Clickout\n",
        "The purpose of this feature is to get the number of times an item had been mentioned as a final clickout."
      ]
    },
    {
      "cell_type": "code",
      "metadata": {
        "id": "g5sMoSRZFgkm",
        "colab_type": "code",
        "colab": {},
        "outputId": "dd859726-5a02-4525-9677-1051d40eae04"
      },
      "source": [
        "FinalClickoutDF\n",
        "InFinalClickoutCounter = Counter(FinalClickoutDF.reference.values.tolist())\n",
        "InFinalClickoutDF = pd.DataFrame.from_dict(InFinalClickoutCounter, orient='index').reset_index()\\\n",
        "                              .rename(columns={'index':'item_id', 0:'NumberAsFinalClickout'})\n",
        "\n",
        "InFinalClickoutDF.head()"
      ],
      "execution_count": 0,
      "outputs": [
        {
          "output_type": "execute_result",
          "data": {
            "text/html": [
              "<div>\n",
              "<style scoped>\n",
              "    .dataframe tbody tr th:only-of-type {\n",
              "        vertical-align: middle;\n",
              "    }\n",
              "\n",
              "    .dataframe tbody tr th {\n",
              "        vertical-align: top;\n",
              "    }\n",
              "\n",
              "    .dataframe thead th {\n",
              "        text-align: right;\n",
              "    }\n",
              "</style>\n",
              "<table border=\"1\" class=\"dataframe\">\n",
              "  <thead>\n",
              "    <tr style=\"text-align: right;\">\n",
              "      <th></th>\n",
              "      <th>item_id</th>\n",
              "      <th>NumberAsFinalClickout</th>\n",
              "    </tr>\n",
              "  </thead>\n",
              "  <tbody>\n",
              "    <tr>\n",
              "      <th>0</th>\n",
              "      <td>1257342</td>\n",
              "      <td>7</td>\n",
              "    </tr>\n",
              "    <tr>\n",
              "      <th>1</th>\n",
              "      <td>2795374</td>\n",
              "      <td>18</td>\n",
              "    </tr>\n",
              "    <tr>\n",
              "      <th>2</th>\n",
              "      <td>1032816</td>\n",
              "      <td>1</td>\n",
              "    </tr>\n",
              "    <tr>\n",
              "      <th>3</th>\n",
              "      <td>1320460</td>\n",
              "      <td>1</td>\n",
              "    </tr>\n",
              "    <tr>\n",
              "      <th>4</th>\n",
              "      <td>3143258</td>\n",
              "      <td>11</td>\n",
              "    </tr>\n",
              "  </tbody>\n",
              "</table>\n",
              "</div>"
            ],
            "text/plain": [
              "   item_id  NumberAsFinalClickout\n",
              "0  1257342                      7\n",
              "1  2795374                     18\n",
              "2  1032816                      1\n",
              "3  1320460                      1\n",
              "4  3143258                     11"
            ]
          },
          "metadata": {
            "tags": []
          },
          "execution_count": 24
        }
      ]
    },
    {
      "cell_type": "code",
      "metadata": {
        "id": "KD_vcoWPFgky",
        "colab_type": "code",
        "colab": {},
        "outputId": "c89ada06-dcb7-4642-a337-a7a44631b51c"
      },
      "source": [
        "#left joining\n",
        "item_metadata = item_metadata.merge(InFinalClickoutDF, on='item_id', how='left')\n",
        "\n",
        "#filling NaN values with zeros\n",
        "item_metadata.NumberAsFinalClickout = item_metadata.NumberAsFinalClickout.fillna(0)\n",
        "\n",
        "item_metadata.head()"
      ],
      "execution_count": 0,
      "outputs": [
        {
          "output_type": "execute_result",
          "data": {
            "text/html": [
              "<div>\n",
              "<style scoped>\n",
              "    .dataframe tbody tr th:only-of-type {\n",
              "        vertical-align: middle;\n",
              "    }\n",
              "\n",
              "    .dataframe tbody tr th {\n",
              "        vertical-align: top;\n",
              "    }\n",
              "\n",
              "    .dataframe thead th {\n",
              "        text-align: right;\n",
              "    }\n",
              "</style>\n",
              "<table border=\"1\" class=\"dataframe\">\n",
              "  <thead>\n",
              "    <tr style=\"text-align: right;\">\n",
              "      <th></th>\n",
              "      <th>item_id</th>\n",
              "      <th>properties</th>\n",
              "      <th>NumberOfProperties</th>\n",
              "      <th>NumberInImpressions</th>\n",
              "      <th>NumberInReferences</th>\n",
              "      <th>NumberInClickout</th>\n",
              "      <th>NumberInFinalClickout</th>\n",
              "      <th>NumberAsFinalClickout</th>\n",
              "    </tr>\n",
              "  </thead>\n",
              "  <tbody>\n",
              "    <tr>\n",
              "      <th>0</th>\n",
              "      <td>5101</td>\n",
              "      <td>(Satellite TV, Golf Course, Airport Shuttle, C...</td>\n",
              "      <td>62</td>\n",
              "      <td>89.0</td>\n",
              "      <td>14.0</td>\n",
              "      <td>7.0</td>\n",
              "      <td>4.0</td>\n",
              "      <td>4.0</td>\n",
              "    </tr>\n",
              "    <tr>\n",
              "      <th>1</th>\n",
              "      <td>5416</td>\n",
              "      <td>(Satellite TV, Cosmetic Mirror, Safe (Hotel), ...</td>\n",
              "      <td>46</td>\n",
              "      <td>63.0</td>\n",
              "      <td>43.0</td>\n",
              "      <td>6.0</td>\n",
              "      <td>2.0</td>\n",
              "      <td>2.0</td>\n",
              "    </tr>\n",
              "    <tr>\n",
              "      <th>2</th>\n",
              "      <td>5834</td>\n",
              "      <td>(Satellite TV, Cosmetic Mirror, Safe (Hotel), ...</td>\n",
              "      <td>40</td>\n",
              "      <td>157.0</td>\n",
              "      <td>102.0</td>\n",
              "      <td>12.0</td>\n",
              "      <td>1.0</td>\n",
              "      <td>1.0</td>\n",
              "    </tr>\n",
              "    <tr>\n",
              "      <th>3</th>\n",
              "      <td>5910</td>\n",
              "      <td>(Satellite TV, Sailing, Cosmetic Mirror, Telep...</td>\n",
              "      <td>41</td>\n",
              "      <td>112.0</td>\n",
              "      <td>96.0</td>\n",
              "      <td>5.0</td>\n",
              "      <td>3.0</td>\n",
              "      <td>3.0</td>\n",
              "    </tr>\n",
              "    <tr>\n",
              "      <th>4</th>\n",
              "      <td>6066</td>\n",
              "      <td>(Satellite TV, Sailing, Diving, Cosmetic Mirro...</td>\n",
              "      <td>85</td>\n",
              "      <td>54.0</td>\n",
              "      <td>47.0</td>\n",
              "      <td>8.0</td>\n",
              "      <td>6.0</td>\n",
              "      <td>6.0</td>\n",
              "    </tr>\n",
              "  </tbody>\n",
              "</table>\n",
              "</div>"
            ],
            "text/plain": [
              "  item_id                                         properties  \\\n",
              "0    5101  (Satellite TV, Golf Course, Airport Shuttle, C...   \n",
              "1    5416  (Satellite TV, Cosmetic Mirror, Safe (Hotel), ...   \n",
              "2    5834  (Satellite TV, Cosmetic Mirror, Safe (Hotel), ...   \n",
              "3    5910  (Satellite TV, Sailing, Cosmetic Mirror, Telep...   \n",
              "4    6066  (Satellite TV, Sailing, Diving, Cosmetic Mirro...   \n",
              "\n",
              "   NumberOfProperties  NumberInImpressions  NumberInReferences  \\\n",
              "0                  62                 89.0                14.0   \n",
              "1                  46                 63.0                43.0   \n",
              "2                  40                157.0               102.0   \n",
              "3                  41                112.0                96.0   \n",
              "4                  85                 54.0                47.0   \n",
              "\n",
              "   NumberInClickout  NumberInFinalClickout  NumberAsFinalClickout  \n",
              "0               7.0                    4.0                    4.0  \n",
              "1               6.0                    2.0                    2.0  \n",
              "2              12.0                    1.0                    1.0  \n",
              "3               5.0                    3.0                    3.0  \n",
              "4               8.0                    6.0                    6.0  "
            ]
          },
          "metadata": {
            "tags": []
          },
          "execution_count": 25
        }
      ]
    },
    {
      "cell_type": "code",
      "metadata": {
        "id": "xD8ZuRZRFgk4",
        "colab_type": "code",
        "colab": {},
        "outputId": "99b02620-1d64-4dbd-eb3b-025fd90d92af"
      },
      "source": [
        "item_metadata.head()"
      ],
      "execution_count": 0,
      "outputs": [
        {
          "output_type": "execute_result",
          "data": {
            "text/html": [
              "<div>\n",
              "<style scoped>\n",
              "    .dataframe tbody tr th:only-of-type {\n",
              "        vertical-align: middle;\n",
              "    }\n",
              "\n",
              "    .dataframe tbody tr th {\n",
              "        vertical-align: top;\n",
              "    }\n",
              "\n",
              "    .dataframe thead th {\n",
              "        text-align: right;\n",
              "    }\n",
              "</style>\n",
              "<table border=\"1\" class=\"dataframe\">\n",
              "  <thead>\n",
              "    <tr style=\"text-align: right;\">\n",
              "      <th></th>\n",
              "      <th>item_id</th>\n",
              "      <th>properties</th>\n",
              "      <th>NumberOfProperties</th>\n",
              "      <th>NumberInImpressions</th>\n",
              "      <th>NumberInReferences</th>\n",
              "      <th>NumberInClickout</th>\n",
              "      <th>NumberAsFinalClickout</th>\n",
              "    </tr>\n",
              "  </thead>\n",
              "  <tbody>\n",
              "    <tr>\n",
              "      <th>0</th>\n",
              "      <td>5101</td>\n",
              "      <td>(Satellite TV, Golf Course, Airport Shuttle, C...</td>\n",
              "      <td>62</td>\n",
              "      <td>89.0</td>\n",
              "      <td>14.0</td>\n",
              "      <td>7.0</td>\n",
              "      <td>4.0</td>\n",
              "    </tr>\n",
              "    <tr>\n",
              "      <th>1</th>\n",
              "      <td>5416</td>\n",
              "      <td>(Satellite TV, Cosmetic Mirror, Safe (Hotel), ...</td>\n",
              "      <td>46</td>\n",
              "      <td>63.0</td>\n",
              "      <td>43.0</td>\n",
              "      <td>6.0</td>\n",
              "      <td>2.0</td>\n",
              "    </tr>\n",
              "    <tr>\n",
              "      <th>2</th>\n",
              "      <td>5834</td>\n",
              "      <td>(Satellite TV, Cosmetic Mirror, Safe (Hotel), ...</td>\n",
              "      <td>40</td>\n",
              "      <td>157.0</td>\n",
              "      <td>102.0</td>\n",
              "      <td>12.0</td>\n",
              "      <td>1.0</td>\n",
              "    </tr>\n",
              "    <tr>\n",
              "      <th>3</th>\n",
              "      <td>5910</td>\n",
              "      <td>(Satellite TV, Sailing, Cosmetic Mirror, Telep...</td>\n",
              "      <td>41</td>\n",
              "      <td>112.0</td>\n",
              "      <td>96.0</td>\n",
              "      <td>5.0</td>\n",
              "      <td>3.0</td>\n",
              "    </tr>\n",
              "    <tr>\n",
              "      <th>4</th>\n",
              "      <td>6066</td>\n",
              "      <td>(Satellite TV, Sailing, Diving, Cosmetic Mirro...</td>\n",
              "      <td>85</td>\n",
              "      <td>54.0</td>\n",
              "      <td>47.0</td>\n",
              "      <td>8.0</td>\n",
              "      <td>6.0</td>\n",
              "    </tr>\n",
              "  </tbody>\n",
              "</table>\n",
              "</div>"
            ],
            "text/plain": [
              "  item_id                                         properties  \\\n",
              "0    5101  (Satellite TV, Golf Course, Airport Shuttle, C...   \n",
              "1    5416  (Satellite TV, Cosmetic Mirror, Safe (Hotel), ...   \n",
              "2    5834  (Satellite TV, Cosmetic Mirror, Safe (Hotel), ...   \n",
              "3    5910  (Satellite TV, Sailing, Cosmetic Mirror, Telep...   \n",
              "4    6066  (Satellite TV, Sailing, Diving, Cosmetic Mirro...   \n",
              "\n",
              "   NumberOfProperties  NumberInImpressions  NumberInReferences  \\\n",
              "0                  62                 89.0                14.0   \n",
              "1                  46                 63.0                43.0   \n",
              "2                  40                157.0               102.0   \n",
              "3                  41                112.0                96.0   \n",
              "4                  85                 54.0                47.0   \n",
              "\n",
              "   NumberInClickout  NumberAsFinalClickout  \n",
              "0               7.0                    4.0  \n",
              "1               6.0                    2.0  \n",
              "2              12.0                    1.0  \n",
              "3               5.0                    3.0  \n",
              "4               8.0                    6.0  "
            ]
          },
          "metadata": {
            "tags": []
          },
          "execution_count": 27
        }
      ]
    },
    {
      "cell_type": "markdown",
      "metadata": {
        "id": "9LWxefutFgk_",
        "colab_type": "text"
      },
      "source": [
        "The next step would be dividing the NumberAsFinalClickout by the other 3, in order to get FinalClickout Relativity"
      ]
    },
    {
      "cell_type": "markdown",
      "metadata": {
        "id": "EO0SubJ-FglA",
        "colab_type": "text"
      },
      "source": [
        "## Final Clickout To Impressions\n",
        "The purpose of this feature is to get item's rate of clicking out when listed to the user."
      ]
    },
    {
      "cell_type": "code",
      "metadata": {
        "id": "ZDHJPlJvFglB",
        "colab_type": "code",
        "colab": {},
        "outputId": "7820fdca-0bca-4c1b-b5b1-5f72d66b689a"
      },
      "source": [
        "FClickoutToImpressions = item_metadata.NumberAsFinalClickout/item_metadata.NumberInImpressions\n",
        "FClickoutToImpressions.head()"
      ],
      "execution_count": 0,
      "outputs": [
        {
          "output_type": "execute_result",
          "data": {
            "text/plain": [
              "0    0.044944\n",
              "1    0.031746\n",
              "2    0.006369\n",
              "3    0.026786\n",
              "4    0.111111\n",
              "dtype: float64"
            ]
          },
          "metadata": {
            "tags": []
          },
          "execution_count": 32
        }
      ]
    },
    {
      "cell_type": "code",
      "metadata": {
        "id": "clMCXWXaFglI",
        "colab_type": "code",
        "colab": {},
        "outputId": "31f5cf2e-0307-4f8d-d79c-ce70c715c464"
      },
      "source": [
        "#adding attribute\n",
        "item_metadata['FClickoutToImpressions'] = FClickoutToImpressions\n",
        "item_metadata.head(1)"
      ],
      "execution_count": 0,
      "outputs": [
        {
          "output_type": "execute_result",
          "data": {
            "text/html": [
              "<div>\n",
              "<style scoped>\n",
              "    .dataframe tbody tr th:only-of-type {\n",
              "        vertical-align: middle;\n",
              "    }\n",
              "\n",
              "    .dataframe tbody tr th {\n",
              "        vertical-align: top;\n",
              "    }\n",
              "\n",
              "    .dataframe thead th {\n",
              "        text-align: right;\n",
              "    }\n",
              "</style>\n",
              "<table border=\"1\" class=\"dataframe\">\n",
              "  <thead>\n",
              "    <tr style=\"text-align: right;\">\n",
              "      <th></th>\n",
              "      <th>item_id</th>\n",
              "      <th>properties</th>\n",
              "      <th>NumberOfProperties</th>\n",
              "      <th>NumberInImpressions</th>\n",
              "      <th>NumberInReferences</th>\n",
              "      <th>NumberInClickout</th>\n",
              "      <th>NumberAsFinalClickout</th>\n",
              "      <th>FClickoutToImpressions</th>\n",
              "    </tr>\n",
              "  </thead>\n",
              "  <tbody>\n",
              "    <tr>\n",
              "      <th>0</th>\n",
              "      <td>5101</td>\n",
              "      <td>(Satellite TV, Golf Course, Airport Shuttle, C...</td>\n",
              "      <td>62</td>\n",
              "      <td>89.0</td>\n",
              "      <td>14.0</td>\n",
              "      <td>7.0</td>\n",
              "      <td>4.0</td>\n",
              "      <td>0.044944</td>\n",
              "    </tr>\n",
              "  </tbody>\n",
              "</table>\n",
              "</div>"
            ],
            "text/plain": [
              "  item_id                                         properties  \\\n",
              "0    5101  (Satellite TV, Golf Course, Airport Shuttle, C...   \n",
              "\n",
              "   NumberOfProperties  NumberInImpressions  NumberInReferences  \\\n",
              "0                  62                 89.0                14.0   \n",
              "\n",
              "   NumberInClickout  NumberAsFinalClickout  FClickoutToImpressions  \n",
              "0               7.0                    4.0                0.044944  "
            ]
          },
          "metadata": {
            "tags": []
          },
          "execution_count": 34
        }
      ]
    },
    {
      "cell_type": "markdown",
      "metadata": {
        "id": "Zr0TO-QQFglP",
        "colab_type": "text"
      },
      "source": [
        "## Final Clickout To References\n",
        "The purpose of this feature is to get item's rate of clicking out when it was interacted with."
      ]
    },
    {
      "cell_type": "code",
      "metadata": {
        "id": "G-tMA8gvFglQ",
        "colab_type": "code",
        "colab": {},
        "outputId": "5981d7bf-6382-46eb-e0a1-b7852b36263b"
      },
      "source": [
        "FClickoutToReferences = item_metadata.NumberAsFinalClickout/item_metadata.NumberInReferences\n",
        "FClickoutToReferences.head()"
      ],
      "execution_count": 0,
      "outputs": [
        {
          "output_type": "execute_result",
          "data": {
            "text/plain": [
              "0    0.285714\n",
              "1    0.046512\n",
              "2    0.009804\n",
              "3    0.031250\n",
              "4    0.127660\n",
              "dtype: float64"
            ]
          },
          "metadata": {
            "tags": []
          },
          "execution_count": 35
        }
      ]
    },
    {
      "cell_type": "code",
      "metadata": {
        "id": "pZcwFvwxFglW",
        "colab_type": "code",
        "colab": {},
        "outputId": "4dfa809d-feee-49e3-ea22-e2c78a6112ab"
      },
      "source": [
        "#adding attribute\n",
        "item_metadata['FClickoutToReferences'] = FClickoutToReferences\n",
        "item_metadata.head(1)"
      ],
      "execution_count": 0,
      "outputs": [
        {
          "output_type": "execute_result",
          "data": {
            "text/html": [
              "<div>\n",
              "<style scoped>\n",
              "    .dataframe tbody tr th:only-of-type {\n",
              "        vertical-align: middle;\n",
              "    }\n",
              "\n",
              "    .dataframe tbody tr th {\n",
              "        vertical-align: top;\n",
              "    }\n",
              "\n",
              "    .dataframe thead th {\n",
              "        text-align: right;\n",
              "    }\n",
              "</style>\n",
              "<table border=\"1\" class=\"dataframe\">\n",
              "  <thead>\n",
              "    <tr style=\"text-align: right;\">\n",
              "      <th></th>\n",
              "      <th>item_id</th>\n",
              "      <th>properties</th>\n",
              "      <th>NumberOfProperties</th>\n",
              "      <th>NumberInImpressions</th>\n",
              "      <th>NumberInReferences</th>\n",
              "      <th>NumberInClickout</th>\n",
              "      <th>NumberAsFinalClickout</th>\n",
              "      <th>FClickoutToImpressions</th>\n",
              "      <th>FClickoutToReferences</th>\n",
              "    </tr>\n",
              "  </thead>\n",
              "  <tbody>\n",
              "    <tr>\n",
              "      <th>0</th>\n",
              "      <td>5101</td>\n",
              "      <td>(Satellite TV, Golf Course, Airport Shuttle, C...</td>\n",
              "      <td>62</td>\n",
              "      <td>89.0</td>\n",
              "      <td>14.0</td>\n",
              "      <td>7.0</td>\n",
              "      <td>4.0</td>\n",
              "      <td>0.044944</td>\n",
              "      <td>0.285714</td>\n",
              "    </tr>\n",
              "  </tbody>\n",
              "</table>\n",
              "</div>"
            ],
            "text/plain": [
              "  item_id                                         properties  \\\n",
              "0    5101  (Satellite TV, Golf Course, Airport Shuttle, C...   \n",
              "\n",
              "   NumberOfProperties  NumberInImpressions  NumberInReferences  \\\n",
              "0                  62                 89.0                14.0   \n",
              "\n",
              "   NumberInClickout  NumberAsFinalClickout  FClickoutToImpressions  \\\n",
              "0               7.0                    4.0                0.044944   \n",
              "\n",
              "   FClickoutToReferences  \n",
              "0               0.285714  "
            ]
          },
          "metadata": {
            "tags": []
          },
          "execution_count": 36
        }
      ]
    },
    {
      "cell_type": "markdown",
      "metadata": {
        "id": "ay5eOy6kFgla",
        "colab_type": "text"
      },
      "source": [
        "## Final Clickout To Clickout\n",
        "The purpose of this feature is to get item's rate of clickout when it was clicked out before."
      ]
    },
    {
      "cell_type": "code",
      "metadata": {
        "id": "heNu3JTCFglb",
        "colab_type": "code",
        "colab": {},
        "outputId": "9385d614-67ef-4689-d679-b0c85284ce3a"
      },
      "source": [
        "FClickoutToClickout = item_metadata.NumberAsFinalClickout/item_metadata.NumberInClickout\n",
        "FClickoutToClickout.head()"
      ],
      "execution_count": 0,
      "outputs": [
        {
          "output_type": "execute_result",
          "data": {
            "text/plain": [
              "0    0.571429\n",
              "1    0.333333\n",
              "2    0.083333\n",
              "3    0.600000\n",
              "4    0.750000\n",
              "dtype: float64"
            ]
          },
          "metadata": {
            "tags": []
          },
          "execution_count": 37
        }
      ]
    },
    {
      "cell_type": "code",
      "metadata": {
        "id": "2eU8ik8aFgle",
        "colab_type": "code",
        "colab": {},
        "outputId": "db051de5-b64f-4f1c-b568-e091ca80b491"
      },
      "source": [
        "#adding attribute\n",
        "item_metadata['FClickoutToClickout'] = FClickoutToClickout\n",
        "item_metadata.head(1)"
      ],
      "execution_count": 0,
      "outputs": [
        {
          "output_type": "execute_result",
          "data": {
            "text/html": [
              "<div>\n",
              "<style scoped>\n",
              "    .dataframe tbody tr th:only-of-type {\n",
              "        vertical-align: middle;\n",
              "    }\n",
              "\n",
              "    .dataframe tbody tr th {\n",
              "        vertical-align: top;\n",
              "    }\n",
              "\n",
              "    .dataframe thead th {\n",
              "        text-align: right;\n",
              "    }\n",
              "</style>\n",
              "<table border=\"1\" class=\"dataframe\">\n",
              "  <thead>\n",
              "    <tr style=\"text-align: right;\">\n",
              "      <th></th>\n",
              "      <th>item_id</th>\n",
              "      <th>properties</th>\n",
              "      <th>NumberOfProperties</th>\n",
              "      <th>NumberInImpressions</th>\n",
              "      <th>NumberInReferences</th>\n",
              "      <th>NumberInClickout</th>\n",
              "      <th>NumberAsFinalClickout</th>\n",
              "      <th>FClickoutToImpressions</th>\n",
              "      <th>FClickoutToReferences</th>\n",
              "      <th>FClickoutToClickout</th>\n",
              "    </tr>\n",
              "  </thead>\n",
              "  <tbody>\n",
              "    <tr>\n",
              "      <th>0</th>\n",
              "      <td>5101</td>\n",
              "      <td>(Satellite TV, Golf Course, Airport Shuttle, C...</td>\n",
              "      <td>62</td>\n",
              "      <td>89.0</td>\n",
              "      <td>14.0</td>\n",
              "      <td>7.0</td>\n",
              "      <td>4.0</td>\n",
              "      <td>0.044944</td>\n",
              "      <td>0.285714</td>\n",
              "      <td>0.571429</td>\n",
              "    </tr>\n",
              "  </tbody>\n",
              "</table>\n",
              "</div>"
            ],
            "text/plain": [
              "  item_id                                         properties  \\\n",
              "0    5101  (Satellite TV, Golf Course, Airport Shuttle, C...   \n",
              "\n",
              "   NumberOfProperties  NumberInImpressions  NumberInReferences  \\\n",
              "0                  62                 89.0                14.0   \n",
              "\n",
              "   NumberInClickout  NumberAsFinalClickout  FClickoutToImpressions  \\\n",
              "0               7.0                    4.0                0.044944   \n",
              "\n",
              "   FClickoutToReferences  FClickoutToClickout  \n",
              "0               0.285714             0.571429  "
            ]
          },
          "metadata": {
            "tags": []
          },
          "execution_count": 38
        }
      ]
    },
    {
      "cell_type": "markdown",
      "metadata": {
        "id": "Yh-EGsV-Fgln",
        "colab_type": "text"
      },
      "source": [
        "## Item's Average Rank\n",
        "The purpose of this feature is to get item's position in the list provided to the user across the train set.  \n",
        "Since the purpose is to get the average rank across the lists shown to users, an important notice which is that some sessions have different reference and click outs, which provides the same impression list. Duplicated impressions lists in each session should be dropped. (Same thing applies to price as well.)"
      ]
    },
    {
      "cell_type": "code",
      "metadata": {
        "id": "YmoIpqsrFglp",
        "colab_type": "code",
        "colab": {
          "base_uri": "https://localhost:8080/",
          "height": 115
        },
        "outputId": "78f77824-93cf-4170-c02f-a1490f386445"
      },
      "source": [
        "# using All Clickout dataframe, but the one with the unique impressions for each session for this feature\n",
        "ClickoutUniqueDF.head(1)"
      ],
      "execution_count": 7,
      "outputs": [
        {
          "output_type": "execute_result",
          "data": {
            "text/html": [
              "<div>\n",
              "<style scoped>\n",
              "    .dataframe tbody tr th:only-of-type {\n",
              "        vertical-align: middle;\n",
              "    }\n",
              "\n",
              "    .dataframe tbody tr th {\n",
              "        vertical-align: top;\n",
              "    }\n",
              "\n",
              "    .dataframe thead th {\n",
              "        text-align: right;\n",
              "    }\n",
              "</style>\n",
              "<table border=\"1\" class=\"dataframe\">\n",
              "  <thead>\n",
              "    <tr style=\"text-align: right;\">\n",
              "      <th></th>\n",
              "      <th>user_id</th>\n",
              "      <th>session_id</th>\n",
              "      <th>timestamp</th>\n",
              "      <th>step</th>\n",
              "      <th>action_type</th>\n",
              "      <th>reference</th>\n",
              "      <th>platform</th>\n",
              "      <th>city</th>\n",
              "      <th>device</th>\n",
              "      <th>current_filters</th>\n",
              "      <th>impressions</th>\n",
              "      <th>prices</th>\n",
              "    </tr>\n",
              "  </thead>\n",
              "  <tbody>\n",
              "    <tr>\n",
              "      <th>13</th>\n",
              "      <td>00RL8Z82B2Z1</td>\n",
              "      <td>aff3928535f48</td>\n",
              "      <td>1541037543</td>\n",
              "      <td>14</td>\n",
              "      <td>clickout item</td>\n",
              "      <td>109038</td>\n",
              "      <td>AU</td>\n",
              "      <td>Sydney, Australia</td>\n",
              "      <td>mobile</td>\n",
              "      <td>NaN</td>\n",
              "      <td>3400638|1253714|3367857|5100540|1088584|666916...</td>\n",
              "      <td>95|66|501|112|95|100|101|72|82|56|56|143|70|25...</td>\n",
              "    </tr>\n",
              "  </tbody>\n",
              "</table>\n",
              "</div>"
            ],
            "text/plain": [
              "         user_id  ...                                             prices\n",
              "13  00RL8Z82B2Z1  ...  95|66|501|112|95|100|101|72|82|56|56|143|70|25...\n",
              "\n",
              "[1 rows x 12 columns]"
            ]
          },
          "metadata": {
            "tags": []
          },
          "execution_count": 7
        }
      ]
    },
    {
      "cell_type": "markdown",
      "metadata": {
        "id": "NSSIoDdeut-L",
        "colab_type": "text"
      },
      "source": [
        "Making sure that the length of each impressions list is as the same length of the prices list."
      ]
    },
    {
      "cell_type": "code",
      "metadata": {
        "id": "sGvOT_bVutyK",
        "colab_type": "code",
        "colab": {
          "base_uri": "https://localhost:8080/",
          "height": 35
        },
        "outputId": "a7ba4d2c-2bcf-434b-efd6-b06e4e27a16a"
      },
      "source": [
        "ImpressionsLength = ClickoutUniqueDF.impressions.apply(lambda x: x.split('|')).apply(lambda x: len(x))\n",
        "PricesLength = ClickoutUniqueDF.prices.apply(lambda x: x.split('|')).apply(lambda x: len(x))\n",
        "ImpressionsLength.equals(PricesLength)"
      ],
      "execution_count": 53,
      "outputs": [
        {
          "output_type": "execute_result",
          "data": {
            "text/plain": [
              "True"
            ]
          },
          "metadata": {
            "tags": []
          },
          "execution_count": 53
        }
      ]
    },
    {
      "cell_type": "code",
      "metadata": {
        "id": "IHEIpKxHTKZL",
        "colab_type": "code",
        "colab": {
          "base_uri": "https://localhost:8080/",
          "height": 181
        },
        "outputId": "baa63fd2-55d0-4e82-cf1b-fe5037147e82"
      },
      "source": [
        "SessionImpressionsDF = ClickoutUniqueDF[['session_id', 'impressions']]\n",
        "SessionImpressionsDF.impressions = SessionImpressionsDF.impressions.apply(lambda x: x.split('|'))\n",
        "SessionImpressionsDF.impressions.head(2)"
      ],
      "execution_count": 6,
      "outputs": [
        {
          "output_type": "stream",
          "text": [
            "/usr/local/lib/python3.6/dist-packages/pandas/core/generic.py:5208: SettingWithCopyWarning: \n",
            "A value is trying to be set on a copy of a slice from a DataFrame.\n",
            "Try using .loc[row_indexer,col_indexer] = value instead\n",
            "\n",
            "See the caveats in the documentation: http://pandas.pydata.org/pandas-docs/stable/user_guide/indexing.html#returning-a-view-versus-a-copy\n",
            "  self[name] = value\n"
          ],
          "name": "stderr"
        },
        {
          "output_type": "execute_result",
          "data": {
            "text/plain": [
              "13    [3400638, 1253714, 3367857, 5100540, 1088584, ...\n",
              "15    [55109, 129343, 54824, 2297972, 109014, 125734...\n",
              "Name: impressions, dtype: object"
            ]
          },
          "metadata": {
            "tags": []
          },
          "execution_count": 6
        }
      ]
    },
    {
      "cell_type": "code",
      "metadata": {
        "id": "Om9vkpU_OGw2",
        "colab_type": "code",
        "colab": {
          "base_uri": "https://localhost:8080/",
          "height": 187
        },
        "outputId": "8bdf0abf-10b0-4e12-b469-cfbc1ee82ef0"
      },
      "source": [
        "SessionImpressionsDF['ImpressionsLength'] = SessionImpressionsDF.impressions.apply(lambda x: len(x))\n",
        "SessionImpressionsDF.head(1)"
      ],
      "execution_count": 36,
      "outputs": [
        {
          "output_type": "stream",
          "text": [
            "/usr/local/lib/python3.6/dist-packages/ipykernel_launcher.py:1: SettingWithCopyWarning: \n",
            "A value is trying to be set on a copy of a slice from a DataFrame.\n",
            "Try using .loc[row_indexer,col_indexer] = value instead\n",
            "\n",
            "See the caveats in the documentation: http://pandas.pydata.org/pandas-docs/stable/user_guide/indexing.html#returning-a-view-versus-a-copy\n",
            "  \"\"\"Entry point for launching an IPython kernel.\n"
          ],
          "name": "stderr"
        },
        {
          "output_type": "execute_result",
          "data": {
            "text/html": [
              "<div>\n",
              "<style scoped>\n",
              "    .dataframe tbody tr th:only-of-type {\n",
              "        vertical-align: middle;\n",
              "    }\n",
              "\n",
              "    .dataframe tbody tr th {\n",
              "        vertical-align: top;\n",
              "    }\n",
              "\n",
              "    .dataframe thead th {\n",
              "        text-align: right;\n",
              "    }\n",
              "</style>\n",
              "<table border=\"1\" class=\"dataframe\">\n",
              "  <thead>\n",
              "    <tr style=\"text-align: right;\">\n",
              "      <th></th>\n",
              "      <th>session_id</th>\n",
              "      <th>impressions</th>\n",
              "      <th>ImpressionsLength</th>\n",
              "    </tr>\n",
              "  </thead>\n",
              "  <tbody>\n",
              "    <tr>\n",
              "      <th>13</th>\n",
              "      <td>aff3928535f48</td>\n",
              "      <td>[3400638, 1253714, 3367857, 5100540, 1088584, ...</td>\n",
              "      <td>25</td>\n",
              "    </tr>\n",
              "  </tbody>\n",
              "</table>\n",
              "</div>"
            ],
            "text/plain": [
              "       session_id  ... ImpressionsLength\n",
              "13  aff3928535f48  ...                25\n",
              "\n",
              "[1 rows x 3 columns]"
            ]
          },
          "metadata": {
            "tags": []
          },
          "execution_count": 36
        }
      ]
    },
    {
      "cell_type": "code",
      "metadata": {
        "id": "qd5V9dRlO08V",
        "colab_type": "code",
        "colab": {
          "base_uri": "https://localhost:8080/",
          "height": 72
        },
        "outputId": "8a3e662b-2836-45a2-dabb-2c0013f0d3cc"
      },
      "source": [
        "SessionsNumberToRepeat = SessionImpressionsDF.groupby('session_id', sort=False).ImpressionsLength.sum()\n",
        "SessionsNumberToRepeat.head(1)"
      ],
      "execution_count": 37,
      "outputs": [
        {
          "output_type": "execute_result",
          "data": {
            "text/plain": [
              "session_id\n",
              "aff3928535f48    50\n",
              "Name: ImpressionsLength, dtype: int64"
            ]
          },
          "metadata": {
            "tags": []
          },
          "execution_count": 37
        }
      ]
    },
    {
      "cell_type": "code",
      "metadata": {
        "id": "eKZ4zE0VXo-G",
        "colab_type": "code",
        "colab": {
          "base_uri": "https://localhost:8080/",
          "height": 235
        },
        "outputId": "f23961ba-1def-4467-b9ab-9df1a92d602e"
      },
      "source": [
        "SessionImpressionsDF.ImpressionsLength"
      ],
      "execution_count": 58,
      "outputs": [
        {
          "output_type": "execute_result",
          "data": {
            "text/plain": [
              "13          25\n",
              "15          25\n",
              "115         25\n",
              "121         25\n",
              "176         25\n",
              "            ..\n",
              "13019503    25\n",
              "13019508    25\n",
              "13019530    25\n",
              "13019534    25\n",
              "13019552    25\n",
              "Name: ImpressionsLength, Length: 882072, dtype: int64"
            ]
          },
          "metadata": {
            "tags": []
          },
          "execution_count": 58
        }
      ]
    },
    {
      "cell_type": "markdown",
      "metadata": {
        "id": "v98KnBp_cjaY",
        "colab_type": "text"
      },
      "source": [
        "This cell is taking too long, it needs to be done differently."
      ]
    },
    {
      "cell_type": "code",
      "metadata": {
        "id": "k1ZYXqFVPvAH",
        "colab_type": "code",
        "colab": {
          "base_uri": "https://localhost:8080/",
          "height": 244
        },
        "outputId": "78b930e7-7a68-4bfe-f647-1c806f5c76d4"
      },
      "source": [
        "SessionsToRepeatList = SessionsNumberToRepeat.index.tolist()\n",
        "NumberToRepeat = SessionsNumberToRepeat.values.tolist()\n",
        "\n",
        "SessionsList = []\n",
        "count = 0\n",
        "for session in SessionImpressionsDF.session_id.values.tolist():\n",
        "  i = 0\n",
        "  for i in range(SessionImpressionsDF.ImpressionsLength.values.tolist()[count]):\n",
        "    SessionsList.append((session, (i + 1)))\n",
        "  count = count + 1"
      ],
      "execution_count": 59,
      "outputs": [
        {
          "output_type": "error",
          "ename": "KeyboardInterrupt",
          "evalue": "ignored",
          "traceback": [
            "\u001b[0;31m---------------------------------------------------------------------------\u001b[0m",
            "\u001b[0;31mKeyboardInterrupt\u001b[0m                         Traceback (most recent call last)",
            "\u001b[0;32m<ipython-input-59-8a2d83408c42>\u001b[0m in \u001b[0;36m<module>\u001b[0;34m()\u001b[0m\n\u001b[1;32m      6\u001b[0m \u001b[0;32mfor\u001b[0m \u001b[0msession\u001b[0m \u001b[0;32min\u001b[0m \u001b[0mSessionImpressionsDF\u001b[0m\u001b[0;34m.\u001b[0m\u001b[0msession_id\u001b[0m\u001b[0;34m.\u001b[0m\u001b[0mvalues\u001b[0m\u001b[0;34m.\u001b[0m\u001b[0mtolist\u001b[0m\u001b[0;34m(\u001b[0m\u001b[0;34m)\u001b[0m\u001b[0;34m:\u001b[0m\u001b[0;34m\u001b[0m\u001b[0;34m\u001b[0m\u001b[0m\n\u001b[1;32m      7\u001b[0m   \u001b[0mi\u001b[0m \u001b[0;34m=\u001b[0m \u001b[0;36m0\u001b[0m\u001b[0;34m\u001b[0m\u001b[0;34m\u001b[0m\u001b[0m\n\u001b[0;32m----> 8\u001b[0;31m   \u001b[0;32mfor\u001b[0m \u001b[0mi\u001b[0m \u001b[0;32min\u001b[0m \u001b[0mrange\u001b[0m\u001b[0;34m(\u001b[0m\u001b[0mSessionImpressionsDF\u001b[0m\u001b[0;34m.\u001b[0m\u001b[0mImpressionsLength\u001b[0m\u001b[0;34m.\u001b[0m\u001b[0mvalues\u001b[0m\u001b[0;34m.\u001b[0m\u001b[0mtolist\u001b[0m\u001b[0;34m(\u001b[0m\u001b[0;34m)\u001b[0m\u001b[0;34m[\u001b[0m\u001b[0mcount\u001b[0m\u001b[0;34m]\u001b[0m\u001b[0;34m)\u001b[0m\u001b[0;34m:\u001b[0m\u001b[0;34m\u001b[0m\u001b[0;34m\u001b[0m\u001b[0m\n\u001b[0m\u001b[1;32m      9\u001b[0m     \u001b[0mSessionsList\u001b[0m\u001b[0;34m.\u001b[0m\u001b[0mappend\u001b[0m\u001b[0;34m(\u001b[0m\u001b[0;34m(\u001b[0m\u001b[0msession\u001b[0m\u001b[0;34m,\u001b[0m \u001b[0;34m(\u001b[0m\u001b[0mi\u001b[0m \u001b[0;34m+\u001b[0m \u001b[0;36m1\u001b[0m\u001b[0;34m)\u001b[0m\u001b[0;34m)\u001b[0m\u001b[0;34m)\u001b[0m\u001b[0;34m\u001b[0m\u001b[0;34m\u001b[0m\u001b[0m\n\u001b[1;32m     10\u001b[0m   \u001b[0mcount\u001b[0m \u001b[0;34m=\u001b[0m \u001b[0mcount\u001b[0m \u001b[0;34m+\u001b[0m \u001b[0;36m1\u001b[0m\u001b[0;34m\u001b[0m\u001b[0;34m\u001b[0m\u001b[0m\n",
            "\u001b[0;31mKeyboardInterrupt\u001b[0m: "
          ]
        }
      ]
    },
    {
      "cell_type": "code",
      "metadata": {
        "id": "JKgY_fwOR_a-",
        "colab_type": "code",
        "colab": {
          "base_uri": "https://localhost:8080/",
          "height": 35
        },
        "outputId": "16509827-52d3-447a-c4eb-c427110056a3"
      },
      "source": [
        "len(SessionsList), SessionsNumberToRepeat.sum()"
      ],
      "execution_count": 53,
      "outputs": [
        {
          "output_type": "execute_result",
          "data": {
            "text/plain": [
              "(20153197, 20153197)"
            ]
          },
          "metadata": {
            "tags": []
          },
          "execution_count": 53
        }
      ]
    },
    {
      "cell_type": "code",
      "metadata": {
        "id": "Ie8mk7t0W-cN",
        "colab_type": "code",
        "colab": {
          "base_uri": "https://localhost:8080/",
          "height": 1000
        },
        "outputId": "685d6775-c331-46fa-856e-21adff58c966"
      },
      "source": [
        "SessionsList"
      ],
      "execution_count": 54,
      "outputs": [
        {
          "output_type": "execute_result",
          "data": {
            "text/plain": [
              "[('aff3928535f48', 1),\n",
              " ('aff3928535f48', 2),\n",
              " ('aff3928535f48', 3),\n",
              " ('aff3928535f48', 4),\n",
              " ('aff3928535f48', 5),\n",
              " ('aff3928535f48', 6),\n",
              " ('aff3928535f48', 7),\n",
              " ('aff3928535f48', 8),\n",
              " ('aff3928535f48', 9),\n",
              " ('aff3928535f48', 10),\n",
              " ('aff3928535f48', 11),\n",
              " ('aff3928535f48', 12),\n",
              " ('aff3928535f48', 13),\n",
              " ('aff3928535f48', 14),\n",
              " ('aff3928535f48', 15),\n",
              " ('aff3928535f48', 16),\n",
              " ('aff3928535f48', 17),\n",
              " ('aff3928535f48', 18),\n",
              " ('aff3928535f48', 19),\n",
              " ('aff3928535f48', 20),\n",
              " ('aff3928535f48', 21),\n",
              " ('aff3928535f48', 22),\n",
              " ('aff3928535f48', 23),\n",
              " ('aff3928535f48', 24),\n",
              " ('aff3928535f48', 25),\n",
              " ('aff3928535f48', 26),\n",
              " ('aff3928535f48', 27),\n",
              " ('aff3928535f48', 28),\n",
              " ('aff3928535f48', 29),\n",
              " ('aff3928535f48', 30),\n",
              " ('aff3928535f48', 31),\n",
              " ('aff3928535f48', 32),\n",
              " ('aff3928535f48', 33),\n",
              " ('aff3928535f48', 34),\n",
              " ('aff3928535f48', 35),\n",
              " ('aff3928535f48', 36),\n",
              " ('aff3928535f48', 37),\n",
              " ('aff3928535f48', 38),\n",
              " ('aff3928535f48', 39),\n",
              " ('aff3928535f48', 40),\n",
              " ('aff3928535f48', 41),\n",
              " ('aff3928535f48', 42),\n",
              " ('aff3928535f48', 43),\n",
              " ('aff3928535f48', 44),\n",
              " ('aff3928535f48', 45),\n",
              " ('aff3928535f48', 46),\n",
              " ('aff3928535f48', 47),\n",
              " ('aff3928535f48', 48),\n",
              " ('aff3928535f48', 49),\n",
              " ('aff3928535f48', 50),\n",
              " ('3599a6f709eab', 1),\n",
              " ('3599a6f709eab', 2),\n",
              " ('3599a6f709eab', 3),\n",
              " ('3599a6f709eab', 4),\n",
              " ('3599a6f709eab', 5),\n",
              " ('3599a6f709eab', 6),\n",
              " ('3599a6f709eab', 7),\n",
              " ('3599a6f709eab', 8),\n",
              " ('3599a6f709eab', 9),\n",
              " ('3599a6f709eab', 10),\n",
              " ('3599a6f709eab', 11),\n",
              " ('3599a6f709eab', 12),\n",
              " ('3599a6f709eab', 13),\n",
              " ('3599a6f709eab', 14),\n",
              " ('3599a6f709eab', 15),\n",
              " ('3599a6f709eab', 16),\n",
              " ('3599a6f709eab', 17),\n",
              " ('3599a6f709eab', 18),\n",
              " ('3599a6f709eab', 19),\n",
              " ('3599a6f709eab', 20),\n",
              " ('3599a6f709eab', 21),\n",
              " ('3599a6f709eab', 22),\n",
              " ('3599a6f709eab', 23),\n",
              " ('3599a6f709eab', 24),\n",
              " ('3599a6f709eab', 25),\n",
              " ('ec139e10b9238', 1),\n",
              " ('ec139e10b9238', 2),\n",
              " ('ec139e10b9238', 3),\n",
              " ('ec139e10b9238', 4),\n",
              " ('ec139e10b9238', 5),\n",
              " ('ec139e10b9238', 6),\n",
              " ('ec139e10b9238', 7),\n",
              " ('ec139e10b9238', 8),\n",
              " ('ec139e10b9238', 9),\n",
              " ('ec139e10b9238', 10),\n",
              " ('ec139e10b9238', 11),\n",
              " ('ec139e10b9238', 12),\n",
              " ('ec139e10b9238', 13),\n",
              " ('ec139e10b9238', 14),\n",
              " ('ec139e10b9238', 15),\n",
              " ('ec139e10b9238', 16),\n",
              " ('ec139e10b9238', 17),\n",
              " ('ec139e10b9238', 18),\n",
              " ('ec139e10b9238', 19),\n",
              " ('ec139e10b9238', 20),\n",
              " ('ec139e10b9238', 21),\n",
              " ('ec139e10b9238', 22),\n",
              " ('ec139e10b9238', 23),\n",
              " ('ec139e10b9238', 24),\n",
              " ('ec139e10b9238', 25),\n",
              " ('325fafb5fa450', 1),\n",
              " ('325fafb5fa450', 2),\n",
              " ('325fafb5fa450', 3),\n",
              " ('325fafb5fa450', 4),\n",
              " ('325fafb5fa450', 5),\n",
              " ('325fafb5fa450', 6),\n",
              " ('325fafb5fa450', 7),\n",
              " ('325fafb5fa450', 8),\n",
              " ('325fafb5fa450', 9),\n",
              " ('325fafb5fa450', 10),\n",
              " ('325fafb5fa450', 11),\n",
              " ('325fafb5fa450', 12),\n",
              " ('325fafb5fa450', 13),\n",
              " ('325fafb5fa450', 14),\n",
              " ('325fafb5fa450', 15),\n",
              " ('325fafb5fa450', 16),\n",
              " ('325fafb5fa450', 17),\n",
              " ('325fafb5fa450', 18),\n",
              " ('325fafb5fa450', 19),\n",
              " ('325fafb5fa450', 20),\n",
              " ('325fafb5fa450', 21),\n",
              " ('325fafb5fa450', 22),\n",
              " ('325fafb5fa450', 23),\n",
              " ('325fafb5fa450', 24),\n",
              " ('325fafb5fa450', 25),\n",
              " ('bcc452f3350eb', 1),\n",
              " ('bcc452f3350eb', 2),\n",
              " ('bcc452f3350eb', 3),\n",
              " ('bcc452f3350eb', 4),\n",
              " ('bcc452f3350eb', 5),\n",
              " ('bcc452f3350eb', 6),\n",
              " ('bcc452f3350eb', 7),\n",
              " ('bcc452f3350eb', 8),\n",
              " ('bcc452f3350eb', 9),\n",
              " ('bcc452f3350eb', 10),\n",
              " ('bcc452f3350eb', 11),\n",
              " ('bcc452f3350eb', 12),\n",
              " ('bcc452f3350eb', 13),\n",
              " ('bcc452f3350eb', 14),\n",
              " ('bcc452f3350eb', 15),\n",
              " ('bcc452f3350eb', 16),\n",
              " ('bcc452f3350eb', 17),\n",
              " ('bcc452f3350eb', 18),\n",
              " ('bcc452f3350eb', 19),\n",
              " ('bcc452f3350eb', 20),\n",
              " ('bcc452f3350eb', 21),\n",
              " ('bcc452f3350eb', 22),\n",
              " ('bcc452f3350eb', 23),\n",
              " ('bcc452f3350eb', 24),\n",
              " ('bcc452f3350eb', 25),\n",
              " ('7157899be2839', 1),\n",
              " ('7157899be2839', 2),\n",
              " ('7157899be2839', 3),\n",
              " ('7157899be2839', 4),\n",
              " ('7157899be2839', 5),\n",
              " ('7157899be2839', 6),\n",
              " ('7157899be2839', 7),\n",
              " ('7157899be2839', 8),\n",
              " ('7157899be2839', 9),\n",
              " ('7157899be2839', 10),\n",
              " ('7157899be2839', 11),\n",
              " ('7157899be2839', 12),\n",
              " ('7157899be2839', 13),\n",
              " ('7157899be2839', 14),\n",
              " ('7157899be2839', 15),\n",
              " ('7157899be2839', 16),\n",
              " ('7157899be2839', 17),\n",
              " ('7157899be2839', 18),\n",
              " ('7157899be2839', 19),\n",
              " ('7157899be2839', 20),\n",
              " ('7157899be2839', 21),\n",
              " ('7157899be2839', 22),\n",
              " ('7157899be2839', 23),\n",
              " ('7157899be2839', 24),\n",
              " ('7157899be2839', 25),\n",
              " ('22b9deb2da8f7', 1),\n",
              " ('22b9deb2da8f7', 2),\n",
              " ('22b9deb2da8f7', 3),\n",
              " ('22b9deb2da8f7', 4),\n",
              " ('22b9deb2da8f7', 5),\n",
              " ('22b9deb2da8f7', 6),\n",
              " ('22b9deb2da8f7', 7),\n",
              " ('22b9deb2da8f7', 8),\n",
              " ('22b9deb2da8f7', 9),\n",
              " ('22b9deb2da8f7', 10),\n",
              " ('22b9deb2da8f7', 11),\n",
              " ('22b9deb2da8f7', 12),\n",
              " ('22b9deb2da8f7', 13),\n",
              " ('22b9deb2da8f7', 14),\n",
              " ('22b9deb2da8f7', 15),\n",
              " ('22b9deb2da8f7', 16),\n",
              " ('22b9deb2da8f7', 17),\n",
              " ('22b9deb2da8f7', 18),\n",
              " ('22b9deb2da8f7', 19),\n",
              " ('22b9deb2da8f7', 20),\n",
              " ('22b9deb2da8f7', 21),\n",
              " ('22b9deb2da8f7', 22),\n",
              " ('22b9deb2da8f7', 23),\n",
              " ('22b9deb2da8f7', 24),\n",
              " ('22b9deb2da8f7', 25),\n",
              " ('4c6062d7cefe4', 1),\n",
              " ('4c6062d7cefe4', 2),\n",
              " ('4c6062d7cefe4', 3),\n",
              " ('4c6062d7cefe4', 4),\n",
              " ('4c6062d7cefe4', 5),\n",
              " ('4c6062d7cefe4', 6),\n",
              " ('4c6062d7cefe4', 7),\n",
              " ('4c6062d7cefe4', 8),\n",
              " ('4c6062d7cefe4', 9),\n",
              " ('4c6062d7cefe4', 10),\n",
              " ('4c6062d7cefe4', 11),\n",
              " ('4c6062d7cefe4', 12),\n",
              " ('4c6062d7cefe4', 13),\n",
              " ('4c6062d7cefe4', 14),\n",
              " ('4c6062d7cefe4', 15),\n",
              " ('4c6062d7cefe4', 16),\n",
              " ('4c6062d7cefe4', 17),\n",
              " ('4c6062d7cefe4', 18),\n",
              " ('4c6062d7cefe4', 19),\n",
              " ('4c6062d7cefe4', 20),\n",
              " ('4c6062d7cefe4', 21),\n",
              " ('4c6062d7cefe4', 22),\n",
              " ('4c6062d7cefe4', 23),\n",
              " ('4c6062d7cefe4', 24),\n",
              " ('4c6062d7cefe4', 25),\n",
              " ('489f31ee6fca9', 1),\n",
              " ('489f31ee6fca9', 2),\n",
              " ('489f31ee6fca9', 3),\n",
              " ('489f31ee6fca9', 4),\n",
              " ('489f31ee6fca9', 5),\n",
              " ('489f31ee6fca9', 6),\n",
              " ('489f31ee6fca9', 7),\n",
              " ('489f31ee6fca9', 8),\n",
              " ('489f31ee6fca9', 9),\n",
              " ('489f31ee6fca9', 10),\n",
              " ('489f31ee6fca9', 11),\n",
              " ('489f31ee6fca9', 12),\n",
              " ('489f31ee6fca9', 13),\n",
              " ('489f31ee6fca9', 14),\n",
              " ('489f31ee6fca9', 15),\n",
              " ('489f31ee6fca9', 16),\n",
              " ('489f31ee6fca9', 17),\n",
              " ('489f31ee6fca9', 18),\n",
              " ('489f31ee6fca9', 19),\n",
              " ('489f31ee6fca9', 20),\n",
              " ('489f31ee6fca9', 21),\n",
              " ('489f31ee6fca9', 22),\n",
              " ('489f31ee6fca9', 23),\n",
              " ('489f31ee6fca9', 24),\n",
              " ('489f31ee6fca9', 25),\n",
              " ('91de23da01b00', 1),\n",
              " ('91de23da01b00', 2),\n",
              " ('91de23da01b00', 3),\n",
              " ('91de23da01b00', 4),\n",
              " ('91de23da01b00', 5),\n",
              " ('91de23da01b00', 6),\n",
              " ('91de23da01b00', 7),\n",
              " ('91de23da01b00', 8),\n",
              " ('91de23da01b00', 9),\n",
              " ('91de23da01b00', 10),\n",
              " ('91de23da01b00', 11),\n",
              " ('91de23da01b00', 12),\n",
              " ('91de23da01b00', 13),\n",
              " ('91de23da01b00', 14),\n",
              " ('91de23da01b00', 15),\n",
              " ('91de23da01b00', 16),\n",
              " ('91de23da01b00', 17),\n",
              " ('91de23da01b00', 18),\n",
              " ('91de23da01b00', 19),\n",
              " ('91de23da01b00', 20),\n",
              " ('91de23da01b00', 21),\n",
              " ('91de23da01b00', 22),\n",
              " ('91de23da01b00', 23),\n",
              " ('91de23da01b00', 24),\n",
              " ('91de23da01b00', 25),\n",
              " ('dbe408c81daf3', 1),\n",
              " ('dbe408c81daf3', 2),\n",
              " ('dbe408c81daf3', 3),\n",
              " ('dbe408c81daf3', 4),\n",
              " ('dbe408c81daf3', 5),\n",
              " ('dbe408c81daf3', 6),\n",
              " ('dbe408c81daf3', 7),\n",
              " ('dbe408c81daf3', 8),\n",
              " ('dbe408c81daf3', 9),\n",
              " ('dbe408c81daf3', 10),\n",
              " ('dbe408c81daf3', 11),\n",
              " ('dbe408c81daf3', 12),\n",
              " ('dbe408c81daf3', 13),\n",
              " ('dbe408c81daf3', 14),\n",
              " ('dbe408c81daf3', 15),\n",
              " ('dbe408c81daf3', 16),\n",
              " ('dbe408c81daf3', 17),\n",
              " ('dbe408c81daf3', 18),\n",
              " ('dbe408c81daf3', 19),\n",
              " ('dbe408c81daf3', 20),\n",
              " ('dbe408c81daf3', 21),\n",
              " ('dbe408c81daf3', 22),\n",
              " ('dbe408c81daf3', 23),\n",
              " ('dbe408c81daf3', 24),\n",
              " ('dbe408c81daf3', 25),\n",
              " ('698c0975e6ffe', 1),\n",
              " ('698c0975e6ffe', 2),\n",
              " ('698c0975e6ffe', 3),\n",
              " ('698c0975e6ffe', 4),\n",
              " ('698c0975e6ffe', 5),\n",
              " ('698c0975e6ffe', 6),\n",
              " ('698c0975e6ffe', 7),\n",
              " ('698c0975e6ffe', 8),\n",
              " ('698c0975e6ffe', 9),\n",
              " ('698c0975e6ffe', 10),\n",
              " ('698c0975e6ffe', 11),\n",
              " ('698c0975e6ffe', 12),\n",
              " ('698c0975e6ffe', 13),\n",
              " ('698c0975e6ffe', 14),\n",
              " ('698c0975e6ffe', 15),\n",
              " ('698c0975e6ffe', 16),\n",
              " ('698c0975e6ffe', 17),\n",
              " ('698c0975e6ffe', 18),\n",
              " ('698c0975e6ffe', 19),\n",
              " ('698c0975e6ffe', 20),\n",
              " ('698c0975e6ffe', 21),\n",
              " ('698c0975e6ffe', 22),\n",
              " ('698c0975e6ffe', 23),\n",
              " ('698c0975e6ffe', 24),\n",
              " ('698c0975e6ffe', 25),\n",
              " ('554392be66854', 1),\n",
              " ('554392be66854', 2),\n",
              " ('554392be66854', 3),\n",
              " ('554392be66854', 4),\n",
              " ('b1eabf1f2e155', 1),\n",
              " ('b1eabf1f2e155', 2),\n",
              " ('b1eabf1f2e155', 3),\n",
              " ('b1eabf1f2e155', 4),\n",
              " ('b1eabf1f2e155', 5),\n",
              " ('b1eabf1f2e155', 6),\n",
              " ('b1eabf1f2e155', 7),\n",
              " ('b1eabf1f2e155', 8),\n",
              " ('b1eabf1f2e155', 9),\n",
              " ('b1eabf1f2e155', 10),\n",
              " ('b1eabf1f2e155', 11),\n",
              " ('b1eabf1f2e155', 12),\n",
              " ('b1eabf1f2e155', 13),\n",
              " ('b1eabf1f2e155', 14),\n",
              " ('b1eabf1f2e155', 15),\n",
              " ('b1eabf1f2e155', 16),\n",
              " ('b1eabf1f2e155', 17),\n",
              " ('b1eabf1f2e155', 18),\n",
              " ('b1eabf1f2e155', 19),\n",
              " ('b1eabf1f2e155', 20),\n",
              " ('b1eabf1f2e155', 21),\n",
              " ('b1eabf1f2e155', 22),\n",
              " ('b1eabf1f2e155', 23),\n",
              " ('b1eabf1f2e155', 24),\n",
              " ('b1eabf1f2e155', 25),\n",
              " ('e665b2c1e8040', 1),\n",
              " ('e665b2c1e8040', 2),\n",
              " ('e665b2c1e8040', 3),\n",
              " ('e665b2c1e8040', 4),\n",
              " ('e665b2c1e8040', 5),\n",
              " ('e665b2c1e8040', 6),\n",
              " ('e665b2c1e8040', 7),\n",
              " ('e665b2c1e8040', 8),\n",
              " ('e665b2c1e8040', 9),\n",
              " ('e665b2c1e8040', 10),\n",
              " ('e665b2c1e8040', 11),\n",
              " ('e665b2c1e8040', 12),\n",
              " ('e665b2c1e8040', 13),\n",
              " ('e665b2c1e8040', 14),\n",
              " ('e665b2c1e8040', 15),\n",
              " ('e665b2c1e8040', 16),\n",
              " ('e665b2c1e8040', 17),\n",
              " ('e665b2c1e8040', 18),\n",
              " ('e665b2c1e8040', 19),\n",
              " ('e665b2c1e8040', 20),\n",
              " ('e665b2c1e8040', 21),\n",
              " ('e665b2c1e8040', 22),\n",
              " ('e665b2c1e8040', 23),\n",
              " ('e665b2c1e8040', 24),\n",
              " ('e665b2c1e8040', 25),\n",
              " ('ae1026cd27f7e', 1),\n",
              " ('ae1026cd27f7e', 2),\n",
              " ('ae1026cd27f7e', 3),\n",
              " ('ae1026cd27f7e', 4),\n",
              " ('ae1026cd27f7e', 5),\n",
              " ('ae1026cd27f7e', 6),\n",
              " ('ae1026cd27f7e', 7),\n",
              " ('ae1026cd27f7e', 8),\n",
              " ('ae1026cd27f7e', 9),\n",
              " ('ae1026cd27f7e', 10),\n",
              " ('ae1026cd27f7e', 11),\n",
              " ('ae1026cd27f7e', 12),\n",
              " ('3737c2c0740b5', 1),\n",
              " ('3737c2c0740b5', 2),\n",
              " ('3737c2c0740b5', 3),\n",
              " ('3737c2c0740b5', 4),\n",
              " ('3737c2c0740b5', 5),\n",
              " ('3737c2c0740b5', 6),\n",
              " ('3737c2c0740b5', 7),\n",
              " ('3737c2c0740b5', 8),\n",
              " ('3737c2c0740b5', 9),\n",
              " ('3737c2c0740b5', 10),\n",
              " ('3737c2c0740b5', 11),\n",
              " ('3737c2c0740b5', 12),\n",
              " ('3737c2c0740b5', 13),\n",
              " ('3737c2c0740b5', 14),\n",
              " ('3737c2c0740b5', 15),\n",
              " ('3737c2c0740b5', 16),\n",
              " ('3737c2c0740b5', 17),\n",
              " ('3737c2c0740b5', 18),\n",
              " ('3737c2c0740b5', 19),\n",
              " ('3737c2c0740b5', 20),\n",
              " ('3737c2c0740b5', 21),\n",
              " ('3737c2c0740b5', 22),\n",
              " ('3737c2c0740b5', 23),\n",
              " ('3737c2c0740b5', 24),\n",
              " ('3737c2c0740b5', 25),\n",
              " ('3737c2c0740b5', 26),\n",
              " ('3737c2c0740b5', 27),\n",
              " ('3737c2c0740b5', 28),\n",
              " ('3737c2c0740b5', 29),\n",
              " ('3737c2c0740b5', 30),\n",
              " ('3737c2c0740b5', 31),\n",
              " ('3737c2c0740b5', 32),\n",
              " ('3737c2c0740b5', 33),\n",
              " ('3737c2c0740b5', 34),\n",
              " ('3737c2c0740b5', 35),\n",
              " ('3737c2c0740b5', 36),\n",
              " ('3737c2c0740b5', 37),\n",
              " ('3737c2c0740b5', 38),\n",
              " ('3737c2c0740b5', 39),\n",
              " ('3737c2c0740b5', 40),\n",
              " ('3737c2c0740b5', 41),\n",
              " ('3737c2c0740b5', 42),\n",
              " ('3737c2c0740b5', 43),\n",
              " ('3737c2c0740b5', 44),\n",
              " ('3737c2c0740b5', 45),\n",
              " ('3737c2c0740b5', 46),\n",
              " ('3737c2c0740b5', 47),\n",
              " ('3737c2c0740b5', 48),\n",
              " ('3737c2c0740b5', 49),\n",
              " ('3737c2c0740b5', 50),\n",
              " ('3737c2c0740b5', 51),\n",
              " ('3737c2c0740b5', 52),\n",
              " ('3737c2c0740b5', 53),\n",
              " ('3737c2c0740b5', 54),\n",
              " ('3737c2c0740b5', 55),\n",
              " ('3737c2c0740b5', 56),\n",
              " ('3737c2c0740b5', 57),\n",
              " ('3737c2c0740b5', 58),\n",
              " ('3737c2c0740b5', 59),\n",
              " ('3737c2c0740b5', 60),\n",
              " ('3737c2c0740b5', 61),\n",
              " ('3737c2c0740b5', 62),\n",
              " ('3737c2c0740b5', 63),\n",
              " ('3737c2c0740b5', 64),\n",
              " ('3737c2c0740b5', 65),\n",
              " ('3737c2c0740b5', 66),\n",
              " ('3737c2c0740b5', 67),\n",
              " ('3737c2c0740b5', 68),\n",
              " ('3737c2c0740b5', 69),\n",
              " ('3737c2c0740b5', 70),\n",
              " ('3737c2c0740b5', 71),\n",
              " ('3737c2c0740b5', 72),\n",
              " ('3737c2c0740b5', 73),\n",
              " ('3737c2c0740b5', 74),\n",
              " ('3737c2c0740b5', 75),\n",
              " ('336d9a46b826f', 1),\n",
              " ('336d9a46b826f', 2),\n",
              " ('336d9a46b826f', 3),\n",
              " ('336d9a46b826f', 4),\n",
              " ('336d9a46b826f', 5),\n",
              " ('336d9a46b826f', 6),\n",
              " ('336d9a46b826f', 7),\n",
              " ('336d9a46b826f', 8),\n",
              " ('336d9a46b826f', 9),\n",
              " ('336d9a46b826f', 10),\n",
              " ('336d9a46b826f', 11),\n",
              " ('336d9a46b826f', 12),\n",
              " ('336d9a46b826f', 13),\n",
              " ('336d9a46b826f', 14),\n",
              " ('336d9a46b826f', 15),\n",
              " ('336d9a46b826f', 16),\n",
              " ('336d9a46b826f', 17),\n",
              " ('336d9a46b826f', 18),\n",
              " ('336d9a46b826f', 19),\n",
              " ('336d9a46b826f', 20),\n",
              " ('336d9a46b826f', 21),\n",
              " ('336d9a46b826f', 22),\n",
              " ('336d9a46b826f', 23),\n",
              " ('336d9a46b826f', 24),\n",
              " ('336d9a46b826f', 25),\n",
              " ('84316dcbfb8e3', 1),\n",
              " ('84316dcbfb8e3', 2),\n",
              " ('84316dcbfb8e3', 3),\n",
              " ('84316dcbfb8e3', 4),\n",
              " ('84316dcbfb8e3', 5),\n",
              " ('84316dcbfb8e3', 6),\n",
              " ('84316dcbfb8e3', 7),\n",
              " ('84316dcbfb8e3', 8),\n",
              " ('84316dcbfb8e3', 9),\n",
              " ('84316dcbfb8e3', 10),\n",
              " ('84316dcbfb8e3', 11),\n",
              " ('84316dcbfb8e3', 12),\n",
              " ('84316dcbfb8e3', 13),\n",
              " ('84316dcbfb8e3', 14),\n",
              " ('84316dcbfb8e3', 15),\n",
              " ('84316dcbfb8e3', 16),\n",
              " ('84316dcbfb8e3', 17),\n",
              " ('84316dcbfb8e3', 18),\n",
              " ('84316dcbfb8e3', 19),\n",
              " ('84316dcbfb8e3', 20),\n",
              " ('84316dcbfb8e3', 21),\n",
              " ('84316dcbfb8e3', 22),\n",
              " ('84316dcbfb8e3', 23),\n",
              " ('84316dcbfb8e3', 24),\n",
              " ('84316dcbfb8e3', 25),\n",
              " ('af793494b5f84', 1),\n",
              " ('af793494b5f84', 2),\n",
              " ('af793494b5f84', 3),\n",
              " ('af793494b5f84', 4),\n",
              " ('af793494b5f84', 5),\n",
              " ('af793494b5f84', 6),\n",
              " ('af793494b5f84', 7),\n",
              " ('af793494b5f84', 8),\n",
              " ('af793494b5f84', 9),\n",
              " ('af793494b5f84', 10),\n",
              " ('af793494b5f84', 11),\n",
              " ('af793494b5f84', 12),\n",
              " ('af793494b5f84', 13),\n",
              " ('af793494b5f84', 14),\n",
              " ('af793494b5f84', 15),\n",
              " ('af793494b5f84', 16),\n",
              " ('af793494b5f84', 17),\n",
              " ('af793494b5f84', 18),\n",
              " ('af793494b5f84', 19),\n",
              " ('af793494b5f84', 20),\n",
              " ('af793494b5f84', 21),\n",
              " ('af793494b5f84', 22),\n",
              " ('af793494b5f84', 23),\n",
              " ('af793494b5f84', 24),\n",
              " ('af793494b5f84', 25),\n",
              " ('2423aea8cde50', 1),\n",
              " ('2423aea8cde50', 2),\n",
              " ('2423aea8cde50', 3),\n",
              " ('2423aea8cde50', 4),\n",
              " ('2423aea8cde50', 5),\n",
              " ('2423aea8cde50', 6),\n",
              " ('2423aea8cde50', 7),\n",
              " ('2423aea8cde50', 8),\n",
              " ('2423aea8cde50', 9),\n",
              " ('2423aea8cde50', 10),\n",
              " ('2423aea8cde50', 11),\n",
              " ('2423aea8cde50', 12),\n",
              " ('2423aea8cde50', 13),\n",
              " ('2423aea8cde50', 14),\n",
              " ('2423aea8cde50', 15),\n",
              " ('2423aea8cde50', 16),\n",
              " ('2423aea8cde50', 17),\n",
              " ('2423aea8cde50', 18),\n",
              " ('2423aea8cde50', 19),\n",
              " ('2423aea8cde50', 20),\n",
              " ('2423aea8cde50', 21),\n",
              " ('2423aea8cde50', 22),\n",
              " ('2423aea8cde50', 23),\n",
              " ('2423aea8cde50', 24),\n",
              " ('2423aea8cde50', 25),\n",
              " ('2423aea8cde50', 26),\n",
              " ('2423aea8cde50', 27),\n",
              " ('2423aea8cde50', 28),\n",
              " ('2423aea8cde50', 29),\n",
              " ('2423aea8cde50', 30),\n",
              " ('2423aea8cde50', 31),\n",
              " ('2423aea8cde50', 32),\n",
              " ('2423aea8cde50', 33),\n",
              " ('2423aea8cde50', 34),\n",
              " ('2423aea8cde50', 35),\n",
              " ('2423aea8cde50', 36),\n",
              " ('2423aea8cde50', 37),\n",
              " ('2423aea8cde50', 38),\n",
              " ('2423aea8cde50', 39),\n",
              " ('2423aea8cde50', 40),\n",
              " ('2423aea8cde50', 41),\n",
              " ('2423aea8cde50', 42),\n",
              " ('2423aea8cde50', 43),\n",
              " ('2423aea8cde50', 44),\n",
              " ('2423aea8cde50', 45),\n",
              " ('2423aea8cde50', 46),\n",
              " ('2423aea8cde50', 47),\n",
              " ('2423aea8cde50', 48),\n",
              " ('2423aea8cde50', 49),\n",
              " ('2423aea8cde50', 50),\n",
              " ('641a409c90fac', 1),\n",
              " ('641a409c90fac', 2),\n",
              " ('641a409c90fac', 3),\n",
              " ('641a409c90fac', 4),\n",
              " ('641a409c90fac', 5),\n",
              " ('641a409c90fac', 6),\n",
              " ('641a409c90fac', 7),\n",
              " ('641a409c90fac', 8),\n",
              " ('641a409c90fac', 9),\n",
              " ('641a409c90fac', 10),\n",
              " ('641a409c90fac', 11),\n",
              " ('641a409c90fac', 12),\n",
              " ('641a409c90fac', 13),\n",
              " ('641a409c90fac', 14),\n",
              " ('641a409c90fac', 15),\n",
              " ('641a409c90fac', 16),\n",
              " ('641a409c90fac', 17),\n",
              " ('641a409c90fac', 18),\n",
              " ('641a409c90fac', 19),\n",
              " ('641a409c90fac', 20),\n",
              " ('641a409c90fac', 21),\n",
              " ('641a409c90fac', 22),\n",
              " ('641a409c90fac', 23),\n",
              " ('641a409c90fac', 24),\n",
              " ('641a409c90fac', 25),\n",
              " ('641a409c90fac', 26),\n",
              " ('641a409c90fac', 27),\n",
              " ('641a409c90fac', 28),\n",
              " ('641a409c90fac', 29),\n",
              " ('641a409c90fac', 30),\n",
              " ('641a409c90fac', 31),\n",
              " ('641a409c90fac', 32),\n",
              " ('641a409c90fac', 33),\n",
              " ('641a409c90fac', 34),\n",
              " ('641a409c90fac', 35),\n",
              " ('641a409c90fac', 36),\n",
              " ('641a409c90fac', 37),\n",
              " ('641a409c90fac', 38),\n",
              " ('641a409c90fac', 39),\n",
              " ('641a409c90fac', 40),\n",
              " ('641a409c90fac', 41),\n",
              " ('641a409c90fac', 42),\n",
              " ('641a409c90fac', 43),\n",
              " ('641a409c90fac', 44),\n",
              " ('641a409c90fac', 45),\n",
              " ('641a409c90fac', 46),\n",
              " ('641a409c90fac', 47),\n",
              " ('641a409c90fac', 48),\n",
              " ('641a409c90fac', 49),\n",
              " ('641a409c90fac', 50),\n",
              " ('a4927e71aa80e', 1),\n",
              " ('a4927e71aa80e', 2),\n",
              " ('a4927e71aa80e', 3),\n",
              " ('a4927e71aa80e', 4),\n",
              " ('a4927e71aa80e', 5),\n",
              " ('a4927e71aa80e', 6),\n",
              " ('a4927e71aa80e', 7),\n",
              " ('a4927e71aa80e', 8),\n",
              " ('a4927e71aa80e', 9),\n",
              " ('a4927e71aa80e', 10),\n",
              " ('a4927e71aa80e', 11),\n",
              " ('a4927e71aa80e', 12),\n",
              " ('a4927e71aa80e', 13),\n",
              " ('a4927e71aa80e', 14),\n",
              " ('a4927e71aa80e', 15),\n",
              " ('a4927e71aa80e', 16),\n",
              " ('a4927e71aa80e', 17),\n",
              " ('a4927e71aa80e', 18),\n",
              " ('a4927e71aa80e', 19),\n",
              " ('a4927e71aa80e', 20),\n",
              " ('a4927e71aa80e', 21),\n",
              " ('a4927e71aa80e', 22),\n",
              " ('a4927e71aa80e', 23),\n",
              " ('a4927e71aa80e', 24),\n",
              " ('a4927e71aa80e', 25),\n",
              " ('571988c5366eb', 1),\n",
              " ('571988c5366eb', 2),\n",
              " ('571988c5366eb', 3),\n",
              " ('571988c5366eb', 4),\n",
              " ('571988c5366eb', 5),\n",
              " ('571988c5366eb', 6),\n",
              " ('571988c5366eb', 7),\n",
              " ('571988c5366eb', 8),\n",
              " ('571988c5366eb', 9),\n",
              " ('571988c5366eb', 10),\n",
              " ('571988c5366eb', 11),\n",
              " ('571988c5366eb', 12),\n",
              " ('571988c5366eb', 13),\n",
              " ('571988c5366eb', 14),\n",
              " ('571988c5366eb', 15),\n",
              " ('571988c5366eb', 16),\n",
              " ('571988c5366eb', 17),\n",
              " ('571988c5366eb', 18),\n",
              " ('571988c5366eb', 19),\n",
              " ('571988c5366eb', 20),\n",
              " ('571988c5366eb', 21),\n",
              " ('571988c5366eb', 22),\n",
              " ('571988c5366eb', 23),\n",
              " ('571988c5366eb', 24),\n",
              " ('571988c5366eb', 25),\n",
              " ('7ddbbad580025', 1),\n",
              " ('7ddbbad580025', 2),\n",
              " ('7ddbbad580025', 3),\n",
              " ('7ddbbad580025', 4),\n",
              " ('7ddbbad580025', 5),\n",
              " ('7ddbbad580025', 6),\n",
              " ('7ddbbad580025', 7),\n",
              " ('7ddbbad580025', 8),\n",
              " ('7ddbbad580025', 9),\n",
              " ('7ddbbad580025', 10),\n",
              " ('7ddbbad580025', 11),\n",
              " ('7ddbbad580025', 12),\n",
              " ('7ddbbad580025', 13),\n",
              " ('7ddbbad580025', 14),\n",
              " ('7ddbbad580025', 15),\n",
              " ('7ddbbad580025', 16),\n",
              " ('7ddbbad580025', 17),\n",
              " ('7ddbbad580025', 18),\n",
              " ('7ddbbad580025', 19),\n",
              " ('7ddbbad580025', 20),\n",
              " ('7ddbbad580025', 21),\n",
              " ('7ddbbad580025', 22),\n",
              " ('7ddbbad580025', 23),\n",
              " ('7ddbbad580025', 24),\n",
              " ('7ddbbad580025', 25),\n",
              " ('9eb4da70d5ccd', 1),\n",
              " ('9eb4da70d5ccd', 2),\n",
              " ('9eb4da70d5ccd', 3),\n",
              " ('9eb4da70d5ccd', 4),\n",
              " ('9eb4da70d5ccd', 5),\n",
              " ('9eb4da70d5ccd', 6),\n",
              " ('9eb4da70d5ccd', 7),\n",
              " ('9eb4da70d5ccd', 8),\n",
              " ('9eb4da70d5ccd', 9),\n",
              " ('9eb4da70d5ccd', 10),\n",
              " ('9eb4da70d5ccd', 11),\n",
              " ('9eb4da70d5ccd', 12),\n",
              " ('9eb4da70d5ccd', 13),\n",
              " ('9eb4da70d5ccd', 14),\n",
              " ('9eb4da70d5ccd', 15),\n",
              " ('9eb4da70d5ccd', 16),\n",
              " ('9eb4da70d5ccd', 17),\n",
              " ('9eb4da70d5ccd', 18),\n",
              " ('9eb4da70d5ccd', 19),\n",
              " ('9eb4da70d5ccd', 20),\n",
              " ('9eb4da70d5ccd', 21),\n",
              " ('9eb4da70d5ccd', 22),\n",
              " ('9eb4da70d5ccd', 23),\n",
              " ('9eb4da70d5ccd', 24),\n",
              " ('9eb4da70d5ccd', 25),\n",
              " ('7643893620070', 1),\n",
              " ('7643893620070', 2),\n",
              " ('7643893620070', 3),\n",
              " ('7643893620070', 4),\n",
              " ('7643893620070', 5),\n",
              " ('7643893620070', 6),\n",
              " ('7643893620070', 7),\n",
              " ('7643893620070', 8),\n",
              " ('7643893620070', 9),\n",
              " ('7643893620070', 10),\n",
              " ('7643893620070', 11),\n",
              " ('7643893620070', 12),\n",
              " ('7643893620070', 13),\n",
              " ('7643893620070', 14),\n",
              " ('7643893620070', 15),\n",
              " ('7643893620070', 16),\n",
              " ('7643893620070', 17),\n",
              " ('7643893620070', 18),\n",
              " ('7643893620070', 19),\n",
              " ('7643893620070', 20),\n",
              " ('7643893620070', 21),\n",
              " ('7643893620070', 22),\n",
              " ('7643893620070', 23),\n",
              " ('7643893620070', 24),\n",
              " ('7643893620070', 25),\n",
              " ('7643893620070', 26),\n",
              " ('7643893620070', 27),\n",
              " ('7643893620070', 28),\n",
              " ('7643893620070', 29),\n",
              " ('7643893620070', 30),\n",
              " ('7643893620070', 31),\n",
              " ('7643893620070', 32),\n",
              " ('0c086494b8b9b', 1),\n",
              " ('0c086494b8b9b', 2),\n",
              " ('0c086494b8b9b', 3),\n",
              " ('0c086494b8b9b', 4),\n",
              " ('0c086494b8b9b', 5),\n",
              " ('0c086494b8b9b', 6),\n",
              " ('0c086494b8b9b', 7),\n",
              " ('0c086494b8b9b', 8),\n",
              " ('0c086494b8b9b', 9),\n",
              " ('0c086494b8b9b', 10),\n",
              " ('0c086494b8b9b', 11),\n",
              " ('0c086494b8b9b', 12),\n",
              " ('0c086494b8b9b', 13),\n",
              " ('0c086494b8b9b', 14),\n",
              " ('0c086494b8b9b', 15),\n",
              " ('0c086494b8b9b', 16),\n",
              " ('0c086494b8b9b', 17),\n",
              " ('0c086494b8b9b', 18),\n",
              " ('0c086494b8b9b', 19),\n",
              " ('0c086494b8b9b', 20),\n",
              " ('0c086494b8b9b', 21),\n",
              " ('0c086494b8b9b', 22),\n",
              " ('0c086494b8b9b', 23),\n",
              " ('0c086494b8b9b', 24),\n",
              " ('0c086494b8b9b', 25),\n",
              " ('6d809cf3198b1', 1),\n",
              " ('6d809cf3198b1', 2),\n",
              " ('6d809cf3198b1', 3),\n",
              " ('6d809cf3198b1', 4),\n",
              " ('6d809cf3198b1', 5),\n",
              " ('6d809cf3198b1', 6),\n",
              " ('6d809cf3198b1', 7),\n",
              " ('6d809cf3198b1', 8),\n",
              " ('6d809cf3198b1', 9),\n",
              " ('6d809cf3198b1', 10),\n",
              " ('6d809cf3198b1', 11),\n",
              " ('6d809cf3198b1', 12),\n",
              " ('6d809cf3198b1', 13),\n",
              " ('6d809cf3198b1', 14),\n",
              " ('6d809cf3198b1', 15),\n",
              " ('6d809cf3198b1', 16),\n",
              " ('6d809cf3198b1', 17),\n",
              " ('6d809cf3198b1', 18),\n",
              " ('6d809cf3198b1', 19),\n",
              " ('6d809cf3198b1', 20),\n",
              " ('6d809cf3198b1', 21),\n",
              " ('6d809cf3198b1', 22),\n",
              " ('6d809cf3198b1', 23),\n",
              " ('6d809cf3198b1', 24),\n",
              " ('6d809cf3198b1', 25),\n",
              " ('c0cdade1ed014', 1),\n",
              " ('c0cdade1ed014', 2),\n",
              " ('c0cdade1ed014', 3),\n",
              " ('c0cdade1ed014', 4),\n",
              " ('c0cdade1ed014', 5),\n",
              " ('c0cdade1ed014', 6),\n",
              " ('c0cdade1ed014', 7),\n",
              " ('c0cdade1ed014', 8),\n",
              " ('c0cdade1ed014', 9),\n",
              " ('c0cdade1ed014', 10),\n",
              " ('c0cdade1ed014', 11),\n",
              " ('c0cdade1ed014', 12),\n",
              " ('c0cdade1ed014', 13),\n",
              " ('c0cdade1ed014', 14),\n",
              " ('c0cdade1ed014', 15),\n",
              " ('c0cdade1ed014', 16),\n",
              " ('c0cdade1ed014', 17),\n",
              " ('c0cdade1ed014', 18),\n",
              " ('c0cdade1ed014', 19),\n",
              " ('c0cdade1ed014', 20),\n",
              " ('c0cdade1ed014', 21),\n",
              " ('c0cdade1ed014', 22),\n",
              " ('c0cdade1ed014', 23),\n",
              " ('c0cdade1ed014', 24),\n",
              " ('c0cdade1ed014', 25),\n",
              " ('0c5572e8d19a3', 1),\n",
              " ('0c5572e8d19a3', 2),\n",
              " ('0c5572e8d19a3', 3),\n",
              " ('0c5572e8d19a3', 4),\n",
              " ('0c5572e8d19a3', 5),\n",
              " ('0c5572e8d19a3', 6),\n",
              " ('0c5572e8d19a3', 7),\n",
              " ('0c5572e8d19a3', 8),\n",
              " ('0c5572e8d19a3', 9),\n",
              " ('0c5572e8d19a3', 10),\n",
              " ('0c5572e8d19a3', 11),\n",
              " ('0c5572e8d19a3', 12),\n",
              " ('0c5572e8d19a3', 13),\n",
              " ('0c5572e8d19a3', 14),\n",
              " ('0c5572e8d19a3', 15),\n",
              " ('0c5572e8d19a3', 16),\n",
              " ('0c5572e8d19a3', 17),\n",
              " ('0c5572e8d19a3', 18),\n",
              " ('0c5572e8d19a3', 19),\n",
              " ('0c5572e8d19a3', 20),\n",
              " ('0c5572e8d19a3', 21),\n",
              " ('0c5572e8d19a3', 22),\n",
              " ('0c5572e8d19a3', 23),\n",
              " ('0c5572e8d19a3', 24),\n",
              " ('0c5572e8d19a3', 25),\n",
              " ('3f58ea40a07dd', 1),\n",
              " ('3f58ea40a07dd', 2),\n",
              " ('3f58ea40a07dd', 3),\n",
              " ('3f58ea40a07dd', 4),\n",
              " ('3f58ea40a07dd', 5),\n",
              " ('3f58ea40a07dd', 6),\n",
              " ('3f58ea40a07dd', 7),\n",
              " ('3f58ea40a07dd', 8),\n",
              " ('3f58ea40a07dd', 9),\n",
              " ('3f58ea40a07dd', 10),\n",
              " ('3f58ea40a07dd', 11),\n",
              " ('3f58ea40a07dd', 12),\n",
              " ('3f58ea40a07dd', 13),\n",
              " ('3f58ea40a07dd', 14),\n",
              " ('3f58ea40a07dd', 15),\n",
              " ('3f58ea40a07dd', 16),\n",
              " ('3f58ea40a07dd', 17),\n",
              " ('3f58ea40a07dd', 18),\n",
              " ('3f58ea40a07dd', 19),\n",
              " ('3f58ea40a07dd', 20),\n",
              " ('3f58ea40a07dd', 21),\n",
              " ('3f58ea40a07dd', 22),\n",
              " ('3f58ea40a07dd', 23),\n",
              " ('3f58ea40a07dd', 24),\n",
              " ('3f58ea40a07dd', 25),\n",
              " ('7f82f1d1f7e3d', 1),\n",
              " ('7f82f1d1f7e3d', 2),\n",
              " ('7f82f1d1f7e3d', 3),\n",
              " ('7f82f1d1f7e3d', 4),\n",
              " ('7f82f1d1f7e3d', 5),\n",
              " ('7f82f1d1f7e3d', 6),\n",
              " ('7f82f1d1f7e3d', 7),\n",
              " ('7f82f1d1f7e3d', 8),\n",
              " ('7f82f1d1f7e3d', 9),\n",
              " ('7f82f1d1f7e3d', 10),\n",
              " ('7f82f1d1f7e3d', 11),\n",
              " ('7f82f1d1f7e3d', 12),\n",
              " ('7f82f1d1f7e3d', 13),\n",
              " ('7f82f1d1f7e3d', 14),\n",
              " ('7f82f1d1f7e3d', 15),\n",
              " ('7f82f1d1f7e3d', 16),\n",
              " ('7f82f1d1f7e3d', 17),\n",
              " ('7f82f1d1f7e3d', 18),\n",
              " ('7f82f1d1f7e3d', 19),\n",
              " ('7f82f1d1f7e3d', 20),\n",
              " ('7f82f1d1f7e3d', 21),\n",
              " ('7f82f1d1f7e3d', 22),\n",
              " ('7f82f1d1f7e3d', 23),\n",
              " ('7f82f1d1f7e3d', 24),\n",
              " ('7f82f1d1f7e3d', 25),\n",
              " ('7b3142824a139', 1),\n",
              " ('7b3142824a139', 2),\n",
              " ('7b3142824a139', 3),\n",
              " ('7b3142824a139', 4),\n",
              " ('7b3142824a139', 5),\n",
              " ('7b3142824a139', 6),\n",
              " ('7b3142824a139', 7),\n",
              " ('7b3142824a139', 8),\n",
              " ('7b3142824a139', 9),\n",
              " ('7b3142824a139', 10),\n",
              " ('7b3142824a139', 11),\n",
              " ('7b3142824a139', 12),\n",
              " ('7b3142824a139', 13),\n",
              " ('7b3142824a139', 14),\n",
              " ('7b3142824a139', 15),\n",
              " ('7b3142824a139', 16),\n",
              " ('7b3142824a139', 17),\n",
              " ('7b3142824a139', 18),\n",
              " ('7b3142824a139', 19),\n",
              " ('7b3142824a139', 20),\n",
              " ('7b3142824a139', 21),\n",
              " ('7b3142824a139', 22),\n",
              " ('7b3142824a139', 23),\n",
              " ('7b3142824a139', 24),\n",
              " ('7b3142824a139', 25),\n",
              " ('c948ef282ca37', 1),\n",
              " ('c948ef282ca37', 2),\n",
              " ('c948ef282ca37', 3),\n",
              " ('c948ef282ca37', 4),\n",
              " ('c948ef282ca37', 5),\n",
              " ('c948ef282ca37', 6),\n",
              " ('c948ef282ca37', 7),\n",
              " ('c948ef282ca37', 8),\n",
              " ('c948ef282ca37', 9),\n",
              " ('c948ef282ca37', 10),\n",
              " ('c948ef282ca37', 11),\n",
              " ('c948ef282ca37', 12),\n",
              " ('c948ef282ca37', 13),\n",
              " ('c948ef282ca37', 14),\n",
              " ('c948ef282ca37', 15),\n",
              " ('c948ef282ca37', 16),\n",
              " ('c948ef282ca37', 17),\n",
              " ('c948ef282ca37', 18),\n",
              " ('c948ef282ca37', 19),\n",
              " ('c948ef282ca37', 20),\n",
              " ('c948ef282ca37', 21),\n",
              " ('c948ef282ca37', 22),\n",
              " ('c948ef282ca37', 23),\n",
              " ('c948ef282ca37', 24),\n",
              " ('c948ef282ca37', 25),\n",
              " ('d99a14c61fdf3', 1),\n",
              " ('d99a14c61fdf3', 2),\n",
              " ('d99a14c61fdf3', 3),\n",
              " ('d99a14c61fdf3', 4),\n",
              " ('d99a14c61fdf3', 5),\n",
              " ('d99a14c61fdf3', 6),\n",
              " ('d99a14c61fdf3', 7),\n",
              " ('d99a14c61fdf3', 8),\n",
              " ('d99a14c61fdf3', 9),\n",
              " ('d99a14c61fdf3', 10),\n",
              " ('d99a14c61fdf3', 11),\n",
              " ('d99a14c61fdf3', 12),\n",
              " ('d99a14c61fdf3', 13),\n",
              " ('d99a14c61fdf3', 14),\n",
              " ('d99a14c61fdf3', 15),\n",
              " ('d99a14c61fdf3', 16),\n",
              " ('d99a14c61fdf3', 17),\n",
              " ('d99a14c61fdf3', 18),\n",
              " ('d99a14c61fdf3', 19),\n",
              " ('d99a14c61fdf3', 20),\n",
              " ('d99a14c61fdf3', 21),\n",
              " ('d99a14c61fdf3', 22),\n",
              " ('d99a14c61fdf3', 23),\n",
              " ('d99a14c61fdf3', 24),\n",
              " ('d99a14c61fdf3', 25),\n",
              " ('b8895e6aa7a2a', 1),\n",
              " ('b8895e6aa7a2a', 2),\n",
              " ...]"
            ]
          },
          "metadata": {
            "tags": []
          },
          "execution_count": 54
        }
      ]
    },
    {
      "cell_type": "code",
      "metadata": {
        "id": "uVuFldEjST93",
        "colab_type": "code",
        "colab": {
          "base_uri": "https://localhost:8080/",
          "height": 35
        },
        "outputId": "e461f603-1419-4d04-e76b-b1fa4730aa89"
      },
      "source": [
        "from collections import Counter\n",
        "\n",
        "CounterSessionSeries = pd.DataFrame.from_dict(Counter(SessionsList), orient='index').reset_index()\\\n",
        "                                   .rename(columns={'index':'session_id', 0:'NumberToRepeat'})\\\n",
        "                                   .groupby('session_id', sort=False).NumberToRepeat.sum()\n",
        "\n",
        "#checking if the two series are equal\n",
        "SessionsNumberToRepeat.equals(CounterSessionSeries)"
      ],
      "execution_count": 32,
      "outputs": [
        {
          "output_type": "execute_result",
          "data": {
            "text/plain": [
              "True"
            ]
          },
          "metadata": {
            "tags": []
          },
          "execution_count": 32
        }
      ]
    },
    {
      "cell_type": "markdown",
      "metadata": {
        "id": "cCPDYJv3T0-X",
        "colab_type": "text"
      },
      "source": [
        "Now that we have SessionsList of all sessions exploded, it's time to flatten out all the items in impressions."
      ]
    },
    {
      "cell_type": "code",
      "metadata": {
        "id": "nGYS9oCCUNRa",
        "colab_type": "code",
        "colab": {}
      },
      "source": [
        "ItemsListOfLists = SessionImpressionsDF.impressions.values.tolist()\n",
        "ItemsList = []\n",
        "for sublist in ItemsListOfLists:\n",
        "    for item in sublist:\n",
        "        ItemsList.append(item)"
      ],
      "execution_count": 0,
      "outputs": []
    },
    {
      "cell_type": "code",
      "metadata": {
        "id": "Bhvx4stUVCHZ",
        "colab_type": "code",
        "colab": {}
      },
      "source": [
        ""
      ],
      "execution_count": 0,
      "outputs": []
    },
    {
      "cell_type": "code",
      "metadata": {
        "id": "gAmeYNtPPRSb",
        "colab_type": "code",
        "colab": {}
      },
      "source": [
        "SessionsList = []\n",
        "for session, length in SessionsNumberToRepeat:\n",
        "    for "
      ],
      "execution_count": 0,
      "outputs": []
    },
    {
      "cell_type": "code",
      "metadata": {
        "id": "Kvif40BSo0jM",
        "colab_type": "code",
        "colab": {}
      },
      "source": [
        "t1 = datetime.now()\n",
        "SessionItem = pd.DataFrame({'session_id':SessionImpressionsDF.session_id.repeat(SessionImpressionsDF.impressions.str.len()),\n",
        "                            'item_id':SessionImpressionsDF.impressions.sum()})\n",
        "t2 = datetime.now()\n",
        "print(t2 - t1)"
      ],
      "execution_count": 0,
      "outputs": []
    },
    {
      "cell_type": "code",
      "metadata": {
        "id": "FT6vSh_c1Fyf",
        "colab_type": "code",
        "colab": {}
      },
      "source": [
        "SessionItem.to_csv('SessionItem.csv')"
      ],
      "execution_count": 0,
      "outputs": []
    },
    {
      "cell_type": "code",
      "metadata": {
        "id": "zhzCh2axm3Dd",
        "colab_type": "code",
        "colab": {}
      },
      "source": [
        "Flatten out the prices list"
      ],
      "execution_count": 0,
      "outputs": []
    },
    {
      "cell_type": "code",
      "metadata": {
        "id": "tHGJ3xAxFgmA",
        "colab_type": "code",
        "colab": {},
        "outputId": "4a71ded5-0bc7-47fe-c03c-3d04ca0dbccd"
      },
      "source": [
        "pd.DataFrame({'session_id':ClickoutUniqueDF[['session_id', 'impressions']].impressions.apply(lambda x: x.split('|'))"
      ],
      "execution_count": 0,
      "outputs": [
        {
          "output_type": "execute_result",
          "data": {
            "text/plain": [
              "13          [3400638, 1253714, 3367857, 5100540, 1088584, ...\n",
              "15          [55109, 129343, 54824, 2297972, 109014, 125734...\n",
              "115         [2795374, 5582964, 1088390, 2781070, 1258068, ...\n",
              "121         [12693, 46363, 81657, 18448, 47687, 152913, 18...\n",
              "176         [1306936, 56482, 2842358, 6881276, 65685, 6325...\n",
              "180         [1258184, 3866722, 8929970, 2315702, 116619, 1...\n",
              "181         [2349076, 2552514, 7159866, 3898458, 1846017, ...\n",
              "184         [6721, 6724, 40109, 147227, 80983, 6719, 40718...\n",
              "188         [22953, 22951, 22947, 22949, 8774118, 45527, 8...\n",
              "196         [129881, 36161, 36249, 464421, 302607, 36401, ...\n",
              "230         [8561, 8564, 8568, 8586, 8588, 102080, 8613, 5...\n",
              "236         [2603858, 1765201, 1844107, 99445, 99438, 2219...\n",
              "237         [921237, 147262, 42194, 9051714, 42109, 42125,...\n",
              "240                      [2035675, 4095738, 4933410, 9167996]\n",
              "260         [104499, 104710, 104724, 164677, 960133, 58165...\n",
              "264         [9172186, 6816668, 4497388, 1827505, 2066390, ...\n",
              "280         [47767, 959737, 3191226, 1362528, 1950827, 150...\n",
              "281         [43007, 42365, 42884, 349051, 489031, 488961, ...\n",
              "284         [42365, 42407, 42884, 42964, 43007, 349026, 34...\n",
              "312         [43007, 42884, 932627, 3496252, 488961, 42365,...\n",
              "429         [1045290, 3135752, 1372961, 1369024, 3384308, ...\n",
              "452         [9164598, 1400686, 2216204, 2817576, 4775794, ...\n",
              "471         [69086, 8533, 925367, 58949, 61049, 8581, 8517...\n",
              "475         [8621, 77124, 8624, 2851635, 488501, 1810141, ...\n",
              "479         [8602, 8568, 8621, 8561, 57049, 8564, 8586, 85...\n",
              "523         [2303306, 4041114, 5830856, 111534, 109353, 57...\n",
              "526         [5016850, 2068758, 1771981, 2303306, 2733700, ...\n",
              "534         [1236209, 131152, 1322948, 7500, 439106, 7499,...\n",
              "548         [327111, 2217612, 492491, 505751, 5101488, 206...\n",
              "577         [6924590, 43910, 101019, 44160, 44872, 44350, ...\n",
              "                                  ...                        \n",
              "13019248    [86359, 4573624, 51479, 7818446, 9726252, 1034...\n",
              "13019249    [811761, 4794432, 2893183, 2932846, 2261580, 7...\n",
              "13019251    [4834976, 97645, 1265311, 4695574, 4245112, 12...\n",
              "13019304    [1265311, 4834976, 5443562, 38940, 4821722, 39...\n",
              "13019307    [2298560, 45471, 45152, 4906236, 925345, 93160...\n",
              "13019308    [80170, 5952196, 1570171, 4050638, 1965785, 20...\n",
              "13019311    [1490755, 1137717, 1488093, 9310, 15927, 67239...\n",
              "13019312    [103600, 2150816, 103555, 2111996, 980293, 103...\n",
              "13019315    [3875176, 40779, 7348344, 40719, 755331, 10948...\n",
              "13019328    [95794, 109339, 3148916, 97505, 104706, 434201...\n",
              "13019329    [95794, 109339, 3148916, 2924213, 1668389, 104...\n",
              "13019340    [1108295, 6623552, 1236111, 34550, 34556, 3455...\n",
              "13019344    [1398634, 10907042, 10218812, 10276592, 101608...\n",
              "13019352    [54859, 1182740, 55077, 105079, 1320172, 35051...\n",
              "13019362    [3505194, 1320172, 55134, 8114588, 14848, 5494...\n",
              "13019370    [54878, 54884, 54939, 2174602, 4646574, 450601...\n",
              "13019389    [8312, 2767604, 7345350, 4341420, 8317, 8320, ...\n",
              "13019396    [693841, 2402030, 8153130, 6276246, 3755330, 3...\n",
              "13019426    [2199498, 2258162, 1826617, 1771183, 1771251, ...\n",
              "13019428    [1710093, 1819803, 894301, 155829, 429456, 253...\n",
              "13019483    [1700901, 6675008, 5681204, 7012304, 8916, 273...\n",
              "13019484    [8898, 5742368, 9226924, 897635, 3217130, 8906...\n",
              "13019485    [2713516, 203851, 203861, 203951, 320736, 3207...\n",
              "13019490    [996355, 191826, 40377, 201066, 951795, 914561...\n",
              "13019500    [3137008, 74152, 3741160, 77251, 3478738, 6356...\n",
              "13019503    [356281, 66787, 59205, 1390544, 73104, 4944066...\n",
              "13019508    [3133696, 50220, 207081, 50584, 48487, 82196, ...\n",
              "13019530    [3811156, 2337580, 8787688, 9920906, 1553743, ...\n",
              "13019534    [8640, 8816, 8791, 2298566, 1811137, 8708, 674...\n",
              "13019552    [6617798, 1263420, 9567886, 1161323, 149768, 1...\n",
              "Name: impressions, Length: 882072, dtype: object"
            ]
          },
          "metadata": {
            "tags": []
          },
          "execution_count": 50
        }
      ]
    },
    {
      "cell_type": "markdown",
      "metadata": {
        "id": "YnQxWbO_FgmH",
        "colab_type": "text"
      },
      "source": [
        "## Item's Average Price Final Clickout\n",
        "The purpose of this feature is to get item's average price accross the train set."
      ]
    },
    {
      "cell_type": "code",
      "metadata": {
        "id": "M2lacun2FgmJ",
        "colab_type": "code",
        "colab": {}
      },
      "source": [
        ""
      ],
      "execution_count": 0,
      "outputs": []
    },
    {
      "cell_type": "markdown",
      "metadata": {
        "id": "AsfTBIjSFgmP",
        "colab_type": "text"
      },
      "source": [
        "**Unkown cells"
      ]
    },
    {
      "cell_type": "code",
      "metadata": {
        "id": "eMo3pY4LFgmQ",
        "colab_type": "code",
        "colab": {}
      },
      "source": [
        "#loading train set\n",
        "ReferenceTrain = pd.read_csv('/content/drive/My Drive/Trivago/Clean Dataset/train.csv')\n",
        "ReferenceTrain = ReferenceTrain.drop(columns='Unnamed: 0')\n",
        "\n",
        "#converting words values in referenc into NaN\n",
        "ReferenceTrain.reference = ReferenceTrain.reference.apply(lambda x: pd.to_numeric(x, errors='coerce')).dropna().astype(int).apply(lambda x: str(x))\n",
        "\n",
        "#dropping NaN in reference\n",
        "ReferenceTrain = ReferenceTrain.drop(ReferenceTrain[ReferenceTrain.reference.isna()].index.tolist())\n",
        "\n",
        "#what I meant by the previous step\n",
        "train.reference, ReferenceTrain.reference"
      ],
      "execution_count": 0,
      "outputs": []
    },
    {
      "cell_type": "code",
      "metadata": {
        "id": "hBKD85KMFgmX",
        "colab_type": "code",
        "colab": {}
      },
      "source": [
        "ReferenceTimeSpent = (ReferenceTrain.groupby(['session_id', 'reference']).timestamp.max() \n",
        "                      - ReferenceTrain.groupby(['session_id', 'reference']).timestamp.min())\n",
        "ReferenceTimeSpent"
      ],
      "execution_count": 0,
      "outputs": []
    },
    {
      "cell_type": "code",
      "metadata": {
        "id": "8UW7wePMFgme",
        "colab_type": "code",
        "colab": {}
      },
      "source": [
        "ReferenceTrain.to_csv('train_ref.csv')                  #DO NOT RUN BEFORE INVESTIGATING FOR THE BEST PRACTICES\n",
        "!cp train_ref.csv '/content/drive/My Drive/Trivago/Clean Dataset/'"
      ],
      "execution_count": 0,
      "outputs": []
    },
    {
      "cell_type": "markdown",
      "metadata": {
        "id": "25qls0N8Fgmk",
        "colab_type": "text"
      },
      "source": [
        "##Feature Engineering"
      ]
    },
    {
      "cell_type": "markdown",
      "metadata": {
        "id": "bIifGEnkFgmm",
        "colab_type": "text"
      },
      "source": [
        "###Items Interacted With & Number of Interactions"
      ]
    },
    {
      "cell_type": "markdown",
      "metadata": {
        "id": "mdnX4ZYPFgmo",
        "colab_type": "text"
      },
      "source": [
        "Taking a sample of the training set to perform trials"
      ]
    },
    {
      "cell_type": "code",
      "metadata": {
        "id": "7nt5b5MVFgmq",
        "colab_type": "code",
        "colab": {}
      },
      "source": [
        "trainlet = train.iloc[0:10000]\n",
        "\n",
        "#getting session_id with no clickouts\n",
        "session_idNoClickouts = list(set(trainlet.session_id.unique()) - set(trainlet[trainlet.action_type == 'clickout item'].session_id.unique()))\n",
        "\n",
        "#dropping sessions with no clickouts\n",
        "trainlet = trainlet[~trainlet.session_id.isin(session_idNoClickouts)].drop(columns='Unnamed: 0')\n",
        "\n",
        "#will be working on a grouped by sample, having the count of steps for each reference got interacted with\n",
        "trainlet1 = trainlet.groupby(['session_id', 'reference'], sort=False).step.count().to_frame()\n",
        "\n",
        "#converting an session_id as index into a column\n",
        "trainlet1.reset_index(level=0, inplace=True)\n",
        "\n",
        "#converting an reference as index into a column\n",
        "trainlet1.reset_index(level=0, inplace=True)\n",
        "\n",
        "#changing order of columns\n",
        "trainlet1 = trainlet1[['session_id', 'reference','step']]\n",
        "\n",
        "#takng a look\n",
        "trainlet1.reference.head(10)"
      ],
      "execution_count": 0,
      "outputs": []
    },
    {
      "cell_type": "code",
      "metadata": {
        "id": "56dECI6DFgm1",
        "colab_type": "code",
        "colab": {}
      },
      "source": [
        "#converting alphabetic values in reference attribute into NaN by converting all values into numeric, then again converting values into string\n",
        "trainlet1.reference = trainlet1.reference.apply(lambda x: pd.to_numeric(x, errors='coerce')).dropna().astype(int).apply(lambda x: str(x))\n",
        "\n",
        "#taking a look\n",
        "trainlet1.reference.head(10)"
      ],
      "execution_count": 0,
      "outputs": []
    },
    {
      "cell_type": "code",
      "metadata": {
        "id": "Dov1tG2kFgm-",
        "colab_type": "code",
        "colab": {}
      },
      "source": [
        "#for the sake of comparison creating another version of trainlet by repeating the previous steps\n",
        "trainlet0 = trainlet.groupby(['session_id', 'reference'], sort=False).step.count().to_frame()\n",
        "trainlet0.reset_index(level=0, inplace=True)\n",
        "trainlet0.reset_index(level=0, inplace=True)\n",
        "trainlet0 = trainlet0[['session_id', 'reference','step']]\n",
        "\n",
        "#taking a look\n",
        "trainlet0"
      ],
      "execution_count": 0,
      "outputs": []
    },
    {
      "cell_type": "code",
      "metadata": {
        "id": "Q4PmpWqoFgnD",
        "colab_type": "code",
        "colab": {}
      },
      "source": [
        "#changing the name of attribute step into NumberOfInteractions\n",
        "trainlet0 = trainlet0.rename(columns = {'step':'NumberOfInteractions'})\n",
        "trainlet1 = trainlet1.rename(columns = {'step':'NumberOfInteractions'})\n",
        "\n",
        "#taking a look\n",
        "trainlet1"
      ],
      "execution_count": 0,
      "outputs": []
    },
    {
      "cell_type": "code",
      "metadata": {
        "id": "r-781fUOFgnI",
        "colab_type": "code",
        "colab": {}
      },
      "source": [
        "#for future use before dropping the NaN values, getting the indeces of the word values in reference attribute\n",
        "#getting the index of words values in reference attribute\n",
        "WordsInReferenceIndex = list(pd.isnull(trainlet1).any(1).nonzero())[0].tolist()\n",
        "\n",
        "#getting reference with words dataframe\n",
        "ReferenceWordsDF = trainlet0.iloc[WordsInReferenceIndex, :]  #for future**"
      ],
      "execution_count": 0,
      "outputs": []
    },
    {
      "cell_type": "code",
      "metadata": {
        "id": "gfMUcdj8FgnX",
        "colab_type": "code",
        "colab": {}
      },
      "source": [
        "#dropping NaN values(rows)\n",
        "trainlet1 = trainlet1.dropna()\n",
        "\n",
        "#taking a look\n",
        "trainlet1"
      ],
      "execution_count": 0,
      "outputs": []
    },
    {
      "cell_type": "code",
      "metadata": {
        "id": "l2PfIW5pFgnf",
        "colab_type": "code",
        "colab": {}
      },
      "source": [
        "#getting reference and Number of interactions lists\n",
        "InteractedWithItems = trainlet1.groupby('session_id', sort=False)['reference'].apply(list)\n",
        "NumberOfInteractions = trainlet1.groupby('session_id', sort=False)['NumberOfInteractions'].apply(list)\n",
        "\n",
        "#taking a look\n",
        "InteractedWithItems, NumberOfInteractions"
      ],
      "execution_count": 0,
      "outputs": []
    },
    {
      "cell_type": "code",
      "metadata": {
        "id": "sqwy_m9fFgnn",
        "colab_type": "code",
        "colab": {}
      },
      "source": [
        "#converting series into lists\n",
        "InteractedWithItems = InteractedWithItems.tolist()\n",
        "NumberOfInteractions = NumberOfInteractions.tolist()"
      ],
      "execution_count": 0,
      "outputs": []
    },
    {
      "cell_type": "markdown",
      "metadata": {
        "id": "TGS_WCcoFgns",
        "colab_type": "text"
      },
      "source": [
        "Adding the two attributes to trainlet"
      ]
    },
    {
      "cell_type": "code",
      "metadata": {
        "id": "itQadgjrFgnu",
        "colab_type": "code",
        "colab": {}
      },
      "source": [
        "#getting a list of indeces InteractedWithItems and NumberOfInteractions should be left joined to\n",
        "FinalClickoutIndex = trainlet[trainlet.action_type=='clickout item'].groupby('session_id').tail(1).index.tolist()\n",
        "\n",
        "#creating InteractedWithItems dataframe\n",
        "InteractedWithItemsDF = pd.DataFrame({'FinalClickoutIndex':FinalClickoutIndex, 'InteractedWitItems':InteractedWithItems,\n",
        "                                      'NumberOfInteractions':NumberOfInteractions}).set_index('FinalClickoutIndex')\n",
        "\n",
        "#left join on dataset\n",
        "trainlet = trainlet.join(InteractedWithItemsDF)\n",
        "trainlet"
      ],
      "execution_count": 0,
      "outputs": []
    },
    {
      "cell_type": "markdown",
      "metadata": {
        "id": "yxdRVfECFgn0",
        "colab_type": "text"
      },
      "source": [
        "###Time Spent"
      ]
    },
    {
      "cell_type": "markdown",
      "metadata": {
        "id": "EDhWpPMkFgn2",
        "colab_type": "text"
      },
      "source": [
        "Creating a time spent attribute for each reference within a session."
      ]
    },
    {
      "cell_type": "code",
      "metadata": {
        "id": "-nqvMGVRFgn3",
        "colab_type": "code",
        "colab": {}
      },
      "source": [
        "#This should be a seperate function\n",
        "\n",
        "#getting session_id with no clickouts\n",
        "session_idNoClickouts = list(set(trainlet.session_id.unique()) - set(trainlet[trainlet.action_type == 'clickout item'].session_id.unique()))\n",
        "\n",
        "#dropping sessions with no clickouts\n",
        "trainlet = trainlet[~trainlet.session_id.isin(session_idNoClickouts)].drop(columns='Unnamed: 0')\n",
        "\n",
        "#obtaining the seconds spent on a reference by subtracting the time started viewing the item till the time of last interaction with the item\n",
        "time_spent = trainlet.groupby(['session_id', 'reference'], sort=False).timestamp.apply(lambda x:(x.max() - x.min())).to_frame()\n",
        "\n",
        "#converting an session_id as index into a column\n",
        "time_spent.reset_index(level=0, inplace=True)\n",
        "\n",
        "#converting an reference as index into a column\n",
        "time_spent.reset_index(level=0, inplace=True)\n",
        "\n",
        "#changing order of columns\n",
        "time_spent = time_spent[['session_id', 'reference','timestamp']]\n",
        "\n",
        "#changing the timestamp into SecondsSpent\n",
        "time_spent = time_spent.rename(columns = {'timestamp':'SecondsSpent'})\n",
        "\n",
        "#converting alphabetic values in reference attribute into NaN by converting all values into numeric, then again converting values into string\n",
        "time_spent.reference = time_spent.reference.apply(lambda x: pd.to_numeric(x, errors='coerce')).dropna().astype(int).apply(lambda x: str(x))\n",
        "\n",
        "#dropping NaN values(rows)\n",
        "time_spent = time_spent.dropna()\n",
        "\n",
        "#getting time spent of interactions lists\n",
        "SecondsSpent = time_spent.groupby('session_id', sort=False)['SecondsSpent'].apply(list)\n",
        "\n",
        "#converting into list\n",
        "SecondsSpent = SecondsSpent.tolist()\n",
        "\n",
        "#getting a list of indeces SecondsSpent to be left joined\n",
        "FinalClickoutIndex = trainlet[trainlet.action_type=='clickout item'].groupby('session_id').tail(1).index.tolist()\n",
        "\n",
        "#creating Seconds dataframe\n",
        "SecondsSpentDF = pd.DataFrame({'FinalClickoutIndex':FinalClickoutIndex, 'SecondsSpent':SecondsSpent}).set_index('FinalClickoutIndex')\n",
        "\n",
        "#left join on dataset\n",
        "trainlet = trainlet.join(SecondsSpentDF)\n",
        "trainlet"
      ],
      "execution_count": 0,
      "outputs": []
    },
    {
      "cell_type": "code",
      "metadata": {
        "id": "erR0HMspFgn9",
        "colab_type": "code",
        "colab": {}
      },
      "source": [
        "time_spent.groupby('session_id', sort=False)['SecondsSpent'].apply(list)"
      ],
      "execution_count": 0,
      "outputs": []
    },
    {
      "cell_type": "code",
      "metadata": {
        "id": "prVNR-dVFgoD",
        "colab_type": "code",
        "colab": {}
      },
      "source": [
        "SecondsSpent = time_spent.groupby('session_id', sort=False)['SecondsSpent'].apply(list)"
      ],
      "execution_count": 0,
      "outputs": []
    },
    {
      "cell_type": "code",
      "metadata": {
        "id": "zKy7tnFRFgoL",
        "colab_type": "code",
        "colab": {}
      },
      "source": [
        "#creating a function\n",
        "def SecondsSpent(dataset):\n",
        "  #getting session_id with no clickouts\n",
        "  session_idNoClickouts = list(set(dataset.session_id.unique()) - set(dataset[dataset.action_type == 'clickout item'].session_id.unique()))\n",
        "\n",
        "  #dropping sessions with no clickouts\n",
        "  dataset = dataset[~dataset.session_id.isin(session_idNoClickouts)].drop(columns='Unnamed: 0')\n",
        "\n",
        "  #obtaining the seconds spent on a reference by subtracting the time started viewing the item till the time of last interaction with the item\n",
        "  time_spent = dataset.groupby(['session_id', 'reference'], sort=False).timestamp.apply(lambda x:(x.max() - x.min())).to_frame()\n",
        "\n",
        "  #converting an session_id as index into a column\n",
        "  time_spent.reset_index(level=0, inplace=True)\n",
        "\n",
        "  #converting an reference as index into a column\n",
        "  time_spent.reset_index(level=0, inplace=True)\n",
        "\n",
        "  #changing order of columns\n",
        "  time_spent = time_spent[['session_id', 'reference','timestamp']]\n",
        "\n",
        "  #changing the timestamp into SecondsSpent\n",
        "  time_spent = time_spent.rename(columns = {'timestamp':'SecondsSpent'})\n",
        "\n",
        "  #converting alphabetic values in reference attribute into NaN by converting all values into numeric, then again converting values into string\n",
        "  time_spent.reference = time_spent.reference.apply(lambda x: pd.to_numeric(x, errors='coerce')).dropna().astype(int).apply(lambda x: str(x))\n",
        "\n",
        "  #dropping NaN values(rows)\n",
        "  time_spent = time_spent.dropna()\n",
        "\n",
        "  #getting time spent of interactions lists\n",
        "  SecondsSpent = time_spent.groupby('session_id', sort=False)['SecondsSpent'].apply(list)\n",
        "\n",
        "  #converting into list\n",
        "  SecondsSpent = SecondsSpent.tolist()\n",
        "\n",
        "  #getting a list of indeces SecondsSpent to be left joined\n",
        "  FinalClickoutIndex = dataset[dataset.action_type=='clickout item'].groupby('session_id').tail(1).index.tolist()\n",
        "\n",
        "  #creating Seconds dataframe\n",
        "  SecondsSpentDF = pd.DataFrame({'FinalClickoutIndex':FinalClickoutIndex, 'SecondsSpent':SecondsSpent}).set_index('FinalClickoutIndex')\n",
        "\n",
        "  #left join on dataset\n",
        "  dataset = dataset.join(SecondsSpentDF)\n",
        "return dataset"
      ],
      "execution_count": 0,
      "outputs": []
    },
    {
      "cell_type": "code",
      "metadata": {
        "id": "1sy799iTFgoR",
        "colab_type": "code",
        "colab": {}
      },
      "source": [
        "trainlet2 = train.iloc[0:10000]\n",
        "trainlet2.head()"
      ],
      "execution_count": 0,
      "outputs": []
    },
    {
      "cell_type": "code",
      "metadata": {
        "id": "1NijoKPmFgoV",
        "colab_type": "code",
        "colab": {}
      },
      "source": [
        "SecondsSpent(trainlet2)"
      ],
      "execution_count": 0,
      "outputs": []
    },
    {
      "cell_type": "code",
      "metadata": {
        "id": "3kSjtE3sFgof",
        "colab_type": "code",
        "colab": {}
      },
      "source": [
        "pd.DataFrame({'FinalClickoutIndex':FinalClickoutIndex, 'SecondsSpent':SecondsSpent}).set_index('FinalClickoutIndex')"
      ],
      "execution_count": 0,
      "outputs": []
    },
    {
      "cell_type": "code",
      "metadata": {
        "id": "n1ulcMSRFgok",
        "colab_type": "code",
        "colab": {}
      },
      "source": [
        "trainlet[trainlet.action_type=='clickout item'].groupby('session_id').tail(1).index.tolist()"
      ],
      "execution_count": 0,
      "outputs": []
    },
    {
      "cell_type": "code",
      "metadata": {
        "id": "wsier5JMFgon",
        "colab_type": "code",
        "colab": {}
      },
      "source": [
        "#dropping NaN values(rows)\n",
        "trainlet1 = trainlet1.dropna()\n",
        "\n",
        "#taking a look\n",
        "trainlet1"
      ],
      "execution_count": 0,
      "outputs": []
    },
    {
      "cell_type": "code",
      "metadata": {
        "id": "Ny4clytHFgoq",
        "colab_type": "code",
        "colab": {}
      },
      "source": [
        "#getting a list of values of time spent on each reference in a session\n",
        "time_spent_values = time_spent.values\n",
        "\n",
        "#getting the index of the time_spent_values in dataset\n",
        "index = trainlet.groupby(['session_id', 'reference'], sort=False).tail(1).index\n",
        "\n",
        "#creating a dataframe for a left join on train set\n",
        "time_spent_df = pd.DataFrame({'index':index, 'seconds_spent':time_spent_values})\n",
        "time_spent_df.head(2)"
      ],
      "execution_count": 0,
      "outputs": []
    },
    {
      "cell_type": "code",
      "metadata": {
        "id": "3Ao5fdAyFgot",
        "colab_type": "code",
        "colab": {}
      },
      "source": [
        "#making the index column as the index for dataframe\n",
        "time_spent_df = time_spent_df.set_index('index')\n",
        "\n",
        "#left join to train set on index\n",
        "train = train.join(time_spent_df)\n",
        "train.head(15)"
      ],
      "execution_count": 0,
      "outputs": []
    },
    {
      "cell_type": "code",
      "metadata": {
        "id": "fSEu2nsXFgo0",
        "colab_type": "code",
        "colab": {}
      },
      "source": [
        "#exporting dataframe to Google drive  DO NOT RUN THIS CELL UNLESS MODIFIED\n",
        "train.to_csv('train.csv')"
      ],
      "execution_count": 0,
      "outputs": []
    },
    {
      "cell_type": "code",
      "metadata": {
        "id": "KXa9VqDJFgo6",
        "colab_type": "code",
        "colab": {}
      },
      "source": [
        "#loading file                         DO NOT RUN THIS CELL UNLESS MODIFIED (SEARCH FOR BEST PRACTICES IN THIS CASE)   \n",
        "train = pd.read_csv('/content/drive/My Drive/Trivago/Clean Dataset/train.csv')\n",
        "train.head(15)"
      ],
      "execution_count": 0,
      "outputs": []
    },
    {
      "cell_type": "markdown",
      "metadata": {
        "id": "Wy6apT9fFgo_",
        "colab_type": "text"
      },
      "source": [
        "###Price"
      ]
    },
    {
      "cell_type": "code",
      "metadata": {
        "id": "tVcm1qAjFgpB",
        "colab_type": "code",
        "colab": {}
      },
      "source": [
        "Taking a session as an example, if there are three unique references. If we had the ones that have the same impressions which are the first two, and we get a table out of the impressions and prices, we will find that they have the same price exactly.\n",
        "By proceeding with the KNN on this table(features can later on be added, and analysis on how different properties matter), we can have a list of 5 items at least(which are the most important) and go from there.\t"
      ],
      "execution_count": 0,
      "outputs": []
    },
    {
      "cell_type": "code",
      "metadata": {
        "id": "IoUGTQHCFgpE",
        "colab_type": "code",
        "colab": {}
      },
      "source": [
        "len(train[train.session_id == 'aff3928535f48'][train.action_type == 'clickout item'].tail(1).impressions.values[0].split('|'))"
      ],
      "execution_count": 0,
      "outputs": []
    },
    {
      "cell_type": "code",
      "metadata": {
        "id": "3UFS_QaFFgpP",
        "colab_type": "code",
        "colab": {}
      },
      "source": [
        "items = train[train.session_id == 'aff3928535f48'][train.action_type == 'clickout item'].tail(1).impressions.values[0].split('|')"
      ],
      "execution_count": 0,
      "outputs": []
    },
    {
      "cell_type": "code",
      "metadata": {
        "id": "H07RrUU2FgpT",
        "colab_type": "code",
        "colab": {}
      },
      "source": [
        "all_interacted_with_items = train[train.session_id == 'aff3928535f48'].reference.unique().tolist()\n",
        "interacted_with_items = []\n",
        "interacted_with_items_prices = []\n",
        "for item in all_interacted_with_items:\n",
        "  for i in range(len(impression)):\n",
        "    if item == impression[i]:\n",
        "        interacted_with_items.append(item)\n",
        "        print(item)\n",
        "        interacted_with_items_prices.append(price[i])\n",
        "        print(price[i])"
      ],
      "execution_count": 0,
      "outputs": []
    },
    {
      "cell_type": "code",
      "metadata": {
        "id": "HFFBL8OVFgpe",
        "colab_type": "code",
        "colab": {}
      },
      "source": [
        "for item in all_interacted_with_items:\n",
        "  for i in range(len(impression)):\n",
        "    if item == impression[i]:\n",
        "      print(item)"
      ],
      "execution_count": 0,
      "outputs": []
    },
    {
      "cell_type": "code",
      "metadata": {
        "id": "udHTZrPNFgpo",
        "colab_type": "code",
        "colab": {}
      },
      "source": [
        "all_interacted_with_items"
      ],
      "execution_count": 0,
      "outputs": []
    },
    {
      "cell_type": "code",
      "metadata": {
        "id": "xuyRm-cGFgpw",
        "colab_type": "code",
        "colab": {}
      },
      "source": [
        "def impression_price(session_id):               #the isssue with this function is that ignores the first clickouts\n",
        "                                                #(there are valuable infromation that can be extracted)\n",
        "  try:                                          #some of the functions don't apply on the some sessions\n",
        "    impression = train[train.session_id == session_id][train.action_type == 'clickout item'].tail(1).impressions.values[0].split('|')\n",
        "    price = train[train.session_id == session_id][train.action_type == 'clickout item'].tail(1).prices.values[0].split('|')\n",
        "    price = list(map(int, price))               #converting list of strings into integers\n",
        "    clickout_item = train[train.session_id == session_id][train.action_type == 'clickout item'].tail(1).reference.values[0]\n",
        "    all_interacted_with_items = train[train.session_id == session_id].reference.unique().tolist()\n",
        "    for i in range(len(impression)):            #getting the clickout item\n",
        "      if clickout_item == impression[i]:\n",
        "        rank = i\n",
        "    interacted_with_items = []\n",
        "    interacted_with_items_prices = []\n",
        "    for item in all_interacted_with_items:      #getting interacted with items\n",
        "      for i in range(len(impression)):\n",
        "        if item == impression[i]:\n",
        "          interacted_with_items.append(item)\n",
        "          interacted_with_items_prices.append(price[i])\n",
        "    plt.figure(figsize=(10,8))\n",
        "    plt.title('Impressions and Prices', fontsize=30)\n",
        "    plt.xlabel('Impressions', fontsize=20)\n",
        "    plt.ylabel('Price', fontsize=20)\n",
        "    plt.xticks(rotation=90)\n",
        "    plt.plot(impression, price, 'o')\n",
        "    plt.plot(interacted_with_items, interacted_with_items_prices, 'o', color='red')\n",
        "    plt.plot(clickout_item, price[rank] , 'o', color='black')\n",
        "  except:\n",
        "    pass\n",
        "\n",
        "listOfSessions = random.choices(train.session_id.unique(), k=10)\n",
        "for session_id in listOfSessions:\n",
        "  impression_price(session_id)\n"
      ],
      "execution_count": 0,
      "outputs": []
    },
    {
      "cell_type": "markdown",
      "metadata": {
        "id": "fYBM5wirFgp4",
        "colab_type": "text"
      },
      "source": [
        "TRY \\ to have a the code running normally in a well organized shape"
      ]
    },
    {
      "cell_type": "code",
      "metadata": {
        "id": "mITnJTBaFgp8",
        "colab_type": "code",
        "colab": {}
      },
      "source": [
        "listOfSessions = train.session_id.unique()[0:100]\n",
        "for session_id in listOfSessions:\n",
        "  impression_price(session_id)"
      ],
      "execution_count": 0,
      "outputs": []
    },
    {
      "cell_type": "markdown",
      "metadata": {
        "id": "msHzx4rfFgqE",
        "colab_type": "text"
      },
      "source": [
        "Impressions shown on the graphs are put in a order of the rank provided by Trivago last list. After taking a quick look at the graphs (sample), I can see a pattern of having the black dot (clickout item) somewhere close to the red dots, at least not very far away. \n",
        "I'll need to validate that the features prices and ranks play an important role of user choice eventually."
      ]
    }
  ]
}