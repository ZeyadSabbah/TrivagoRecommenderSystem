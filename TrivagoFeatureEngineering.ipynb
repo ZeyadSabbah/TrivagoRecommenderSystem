{
  "nbformat": 4,
  "nbformat_minor": 0,
  "metadata": {
    "colab": {
      "name": "TrivagoFeatureEngineering.ipynb",
      "provenance": [],
      "toc_visible": true,
      "machine_shape": "hm",
      "include_colab_link": true
    },
    "kernelspec": {
      "name": "python3",
      "display_name": "Python 3"
    },
    "language_info": {
      "codemirror_mode": {
        "name": "ipython",
        "version": 3
      },
      "file_extension": ".py",
      "mimetype": "text/x-python",
      "name": "python",
      "nbconvert_exporter": "python",
      "pygments_lexer": "ipython3",
      "version": "3.7.3"
    }
  },
  "cells": [
    {
      "cell_type": "markdown",
      "metadata": {
        "id": "view-in-github",
        "colab_type": "text"
      },
      "source": [
        "<a href=\"https://colab.research.google.com/github/ZeyadSabbah/TrivagoRecommenderSystem/blob/master/TrivagoFeatureEngineering.ipynb\" target=\"_parent\"><img src=\"https://colab.research.google.com/assets/colab-badge.svg\" alt=\"Open In Colab\"/></a>"
      ]
    },
    {
      "cell_type": "markdown",
      "metadata": {
        "id": "t9xOcTOs-egL",
        "colab_type": "text"
      },
      "source": [
        "# Feature Engineering"
      ]
    },
    {
      "cell_type": "markdown",
      "metadata": {
        "id": "v69U4HIGKMAw",
        "colab_type": "text"
      },
      "source": [
        "## Mounting to Drive"
      ]
    },
    {
      "cell_type": "code",
      "metadata": {
        "id": "qKOJSxSSKU2s",
        "colab_type": "code",
        "colab": {}
      },
      "source": [
        "from google.colab import drive\n",
        "drive.mount('/content/drive')"
      ],
      "execution_count": 0,
      "outputs": []
    },
    {
      "cell_type": "code",
      "metadata": {
        "id": "MuIGFI6lWj4z",
        "colab_type": "code",
        "colab": {}
      },
      "source": [
        "%cd /content/drive/My Drive/Trivago/Project/TrivagoRecommenderSystem"
      ],
      "execution_count": 0,
      "outputs": []
    },
    {
      "cell_type": "markdown",
      "metadata": {
        "id": "erJzSzQAKI_E",
        "colab_type": "text"
      },
      "source": [
        "## Loading Libraries & Datasets"
      ]
    },
    {
      "cell_type": "code",
      "metadata": {
        "id": "9Zp_jIpNFgiF",
        "colab_type": "code",
        "colab": {}
      },
      "source": [
        "import pandas as pd\n",
        "import numpy as np\n",
        "from datetime import datetime\n",
        "from datetime import timedelta\n",
        "import math\n",
        "import matplotlib.pyplot as plt\n",
        "from datetime import datetime\n",
        "import re\n",
        "import random\n",
        "from sklearn.preprocessing import OneHotEncoder\n",
        "from sklearn.metrics.pairwise import cosine_similarity\n",
        "from collections import Counter\n",
        "from sklearn.preprocessing import MultiLabelBinarizer\n",
        "from sklearn.decomposition import PCA"
      ],
      "execution_count": 0,
      "outputs": []
    },
    {
      "cell_type": "code",
      "metadata": {
        "id": "7YcDzyEZFgiS",
        "colab_type": "code",
        "colab": {}
      },
      "source": [
        "item_metadata_filepath = './Datasets/raw_data/item_metadata.csv'\n",
        "item_metadata = pd.read_csv(item_metadata_filepath)\n",
        "\n",
        "train_filepath = './Datasets/raw_data/Sets/train.csv'\n",
        "train = pd.read_csv(train_filepath)"
      ],
      "execution_count": 0,
      "outputs": []
    },
    {
      "cell_type": "code",
      "metadata": {
        "id": "e-HEbG5FDbDN",
        "colab_type": "code",
        "outputId": "e2028d0c-6e5c-4770-be19-9b5a6dea2b0d",
        "colab": {
          "base_uri": "https://localhost:8080/",
          "height": 204
        }
      },
      "source": [
        "train.head()"
      ],
      "execution_count": 5,
      "outputs": [
        {
          "output_type": "execute_result",
          "data": {
            "text/html": [
              "<div>\n",
              "<style scoped>\n",
              "    .dataframe tbody tr th:only-of-type {\n",
              "        vertical-align: middle;\n",
              "    }\n",
              "\n",
              "    .dataframe tbody tr th {\n",
              "        vertical-align: top;\n",
              "    }\n",
              "\n",
              "    .dataframe thead th {\n",
              "        text-align: right;\n",
              "    }\n",
              "</style>\n",
              "<table border=\"1\" class=\"dataframe\">\n",
              "  <thead>\n",
              "    <tr style=\"text-align: right;\">\n",
              "      <th></th>\n",
              "      <th>user_id</th>\n",
              "      <th>session_id</th>\n",
              "      <th>timestamp</th>\n",
              "      <th>step</th>\n",
              "      <th>action_type</th>\n",
              "      <th>reference</th>\n",
              "      <th>platform</th>\n",
              "      <th>city</th>\n",
              "      <th>device</th>\n",
              "      <th>current_filters</th>\n",
              "      <th>impressions</th>\n",
              "      <th>prices</th>\n",
              "    </tr>\n",
              "  </thead>\n",
              "  <tbody>\n",
              "    <tr>\n",
              "      <th>0</th>\n",
              "      <td>00RL8Z82B2Z1</td>\n",
              "      <td>aff3928535f48</td>\n",
              "      <td>1541037460</td>\n",
              "      <td>1</td>\n",
              "      <td>search for poi</td>\n",
              "      <td>Newtown</td>\n",
              "      <td>AU</td>\n",
              "      <td>Sydney, Australia</td>\n",
              "      <td>mobile</td>\n",
              "      <td>NaN</td>\n",
              "      <td>NaN</td>\n",
              "      <td>NaN</td>\n",
              "    </tr>\n",
              "    <tr>\n",
              "      <th>1</th>\n",
              "      <td>00RL8Z82B2Z1</td>\n",
              "      <td>aff3928535f48</td>\n",
              "      <td>1541037522</td>\n",
              "      <td>2</td>\n",
              "      <td>interaction item image</td>\n",
              "      <td>666856</td>\n",
              "      <td>AU</td>\n",
              "      <td>Sydney, Australia</td>\n",
              "      <td>mobile</td>\n",
              "      <td>NaN</td>\n",
              "      <td>NaN</td>\n",
              "      <td>NaN</td>\n",
              "    </tr>\n",
              "    <tr>\n",
              "      <th>2</th>\n",
              "      <td>00RL8Z82B2Z1</td>\n",
              "      <td>aff3928535f48</td>\n",
              "      <td>1541037522</td>\n",
              "      <td>3</td>\n",
              "      <td>interaction item image</td>\n",
              "      <td>666856</td>\n",
              "      <td>AU</td>\n",
              "      <td>Sydney, Australia</td>\n",
              "      <td>mobile</td>\n",
              "      <td>NaN</td>\n",
              "      <td>NaN</td>\n",
              "      <td>NaN</td>\n",
              "    </tr>\n",
              "    <tr>\n",
              "      <th>3</th>\n",
              "      <td>00RL8Z82B2Z1</td>\n",
              "      <td>aff3928535f48</td>\n",
              "      <td>1541037532</td>\n",
              "      <td>4</td>\n",
              "      <td>interaction item image</td>\n",
              "      <td>666856</td>\n",
              "      <td>AU</td>\n",
              "      <td>Sydney, Australia</td>\n",
              "      <td>mobile</td>\n",
              "      <td>NaN</td>\n",
              "      <td>NaN</td>\n",
              "      <td>NaN</td>\n",
              "    </tr>\n",
              "    <tr>\n",
              "      <th>4</th>\n",
              "      <td>00RL8Z82B2Z1</td>\n",
              "      <td>aff3928535f48</td>\n",
              "      <td>1541037532</td>\n",
              "      <td>5</td>\n",
              "      <td>interaction item image</td>\n",
              "      <td>109038</td>\n",
              "      <td>AU</td>\n",
              "      <td>Sydney, Australia</td>\n",
              "      <td>mobile</td>\n",
              "      <td>NaN</td>\n",
              "      <td>NaN</td>\n",
              "      <td>NaN</td>\n",
              "    </tr>\n",
              "  </tbody>\n",
              "</table>\n",
              "</div>"
            ],
            "text/plain": [
              "        user_id     session_id   timestamp  ...  current_filters impressions prices\n",
              "0  00RL8Z82B2Z1  aff3928535f48  1541037460  ...              NaN         NaN    NaN\n",
              "1  00RL8Z82B2Z1  aff3928535f48  1541037522  ...              NaN         NaN    NaN\n",
              "2  00RL8Z82B2Z1  aff3928535f48  1541037522  ...              NaN         NaN    NaN\n",
              "3  00RL8Z82B2Z1  aff3928535f48  1541037532  ...              NaN         NaN    NaN\n",
              "4  00RL8Z82B2Z1  aff3928535f48  1541037532  ...              NaN         NaN    NaN\n",
              "\n",
              "[5 rows x 12 columns]"
            ]
          },
          "metadata": {
            "tags": []
          },
          "execution_count": 5
        }
      ]
    },
    {
      "cell_type": "markdown",
      "metadata": {
        "id": "fHwyV10cPz9S",
        "colab_type": "text"
      },
      "source": [
        "## Important Dataframes Preparation"
      ]
    },
    {
      "cell_type": "markdown",
      "metadata": {
        "id": "laMcu0RZQBOV",
        "colab_type": "text"
      },
      "source": [
        "In engineer global features from the train dataset, which will be most of the cases around either clickouts or final click out examples (instances), two dataframes of them will be created."
      ]
    },
    {
      "cell_type": "markdown",
      "metadata": {
        "id": "Y1XiWUXTQ8nc",
        "colab_type": "text"
      },
      "source": [
        "In order to get representative global values to the items, duplications must be removed. Rows would not all be duplicated because of some attributes such as timestamp, reference, and step."
      ]
    },
    {
      "cell_type": "code",
      "metadata": {
        "id": "KWDB-RD4FgjK",
        "colab_type": "code",
        "colab": {}
      },
      "source": [
        "ClickoutDF = train[train.action_type=='clickout item']\n",
        "FinalClickoutDF = train[train.action_type=='clickout item'].groupby('session_id').tail(1)\n",
        "ClickoutUniqueDF = ClickoutDF.drop_duplicates(subset=['session_id', 'impressions'], keep='first')"
      ],
      "execution_count": 0,
      "outputs": []
    },
    {
      "cell_type": "markdown",
      "metadata": {
        "id": "F7aOzD-qFgib",
        "colab_type": "text"
      },
      "source": [
        "## Item Global Features\n",
        "### Number of Properties"
      ]
    },
    {
      "cell_type": "code",
      "metadata": {
        "id": "uKawZ83AFgif",
        "colab_type": "code",
        "outputId": "2307f88f-35da-4acb-f9f8-22d477adc018",
        "colab": {
          "base_uri": "https://localhost:8080/",
          "height": 111
        }
      },
      "source": [
        "item_metadata.properties = item_metadata.properties.apply(lambda x: x.split('|'))\n",
        "item_metadata['NumberOfProperties'] = item_metadata.properties.apply(lambda x: len(x))\n",
        "item_metadata.head(2)"
      ],
      "execution_count": 7,
      "outputs": [
        {
          "output_type": "execute_result",
          "data": {
            "text/html": [
              "<div>\n",
              "<style scoped>\n",
              "    .dataframe tbody tr th:only-of-type {\n",
              "        vertical-align: middle;\n",
              "    }\n",
              "\n",
              "    .dataframe tbody tr th {\n",
              "        vertical-align: top;\n",
              "    }\n",
              "\n",
              "    .dataframe thead th {\n",
              "        text-align: right;\n",
              "    }\n",
              "</style>\n",
              "<table border=\"1\" class=\"dataframe\">\n",
              "  <thead>\n",
              "    <tr style=\"text-align: right;\">\n",
              "      <th></th>\n",
              "      <th>item_id</th>\n",
              "      <th>properties</th>\n",
              "      <th>NumberOfProperties</th>\n",
              "    </tr>\n",
              "  </thead>\n",
              "  <tbody>\n",
              "    <tr>\n",
              "      <th>0</th>\n",
              "      <td>5101</td>\n",
              "      <td>[Satellite TV, Golf Course, Airport Shuttle, C...</td>\n",
              "      <td>62</td>\n",
              "    </tr>\n",
              "    <tr>\n",
              "      <th>1</th>\n",
              "      <td>5416</td>\n",
              "      <td>[Satellite TV, Cosmetic Mirror, Safe (Hotel), ...</td>\n",
              "      <td>46</td>\n",
              "    </tr>\n",
              "  </tbody>\n",
              "</table>\n",
              "</div>"
            ],
            "text/plain": [
              "   item_id  ... NumberOfProperties\n",
              "0     5101  ...                 62\n",
              "1     5416  ...                 46\n",
              "\n",
              "[2 rows x 3 columns]"
            ]
          },
          "metadata": {
            "tags": []
          },
          "execution_count": 7
        }
      ]
    },
    {
      "cell_type": "code",
      "metadata": {
        "id": "_KEWtPQTFgir",
        "colab_type": "code",
        "outputId": "d0a43400-6509-466d-b0c0-9d67d6fe1856",
        "colab": {
          "base_uri": "https://localhost:8080/",
          "height": 34
        }
      },
      "source": [
        "#getting total number of unique properties across all items\n",
        "AllPropertiesList = item_metadata.properties.tolist()\n",
        "\n",
        "AllPropertiesFlatList = []\n",
        "for sublist in AllPropertiesList:\n",
        "    for item in sublist:\n",
        "        AllPropertiesFlatList.append(item)\n",
        "        \n",
        "print('Number of unique properties is', len(set(AllPropertiesFlatList)))"
      ],
      "execution_count": 8,
      "outputs": [
        {
          "output_type": "stream",
          "text": [
            "Number of unique properties is 157\n"
          ],
          "name": "stdout"
        }
      ]
    },
    {
      "cell_type": "markdown",
      "metadata": {
        "id": "jic5BPFfFgiy",
        "colab_type": "text"
      },
      "source": [
        "### Items Properties Similarities\n",
        "The purpose is to get cosine similarity between items. The maximum 25 items out of the list can be extracted as a dataframe and cosine similarity can be obtained in order to get the similar items to the ones the user had interacted with to be listed on the top of the list.  "
      ]
    },
    {
      "cell_type": "code",
      "metadata": {
        "scrolled": true,
        "id": "upvpoHnMFgi1",
        "colab_type": "code",
        "outputId": "e9850a6d-2dbd-4157-f48c-d9200a034dc8",
        "colab": {
          "base_uri": "https://localhost:8080/",
          "height": 304
        }
      },
      "source": [
        "item_metadata.properties = item_metadata.properties.apply(lambda x: tuple(x))\n",
        "\n",
        "one_hot = MultiLabelBinarizer()\n",
        "properties_encoded = one_hot.fit_transform(item_metadata.properties.values.tolist())\n",
        "properties_encodedDF = pd.DataFrame(properties_encoded)\n",
        "\n",
        "#changing column names\n",
        "properties_list = one_hot.classes_.tolist()\n",
        "for i in range(len(properties_list)):\n",
        "    properties_encodedDF = properties_encodedDF.rename(columns={i:properties_list[i]})\n",
        "\n",
        "#creating a column of the item id to get the similarity between items\n",
        "item_metadata.item_id = item_metadata.item_id.apply(lambda x: str(x))\n",
        "properties_encodedDF['item_id'] = item_metadata.item_id\n",
        "\n",
        "properties_encodedDF.head()"
      ],
      "execution_count": 9,
      "outputs": [
        {
          "output_type": "execute_result",
          "data": {
            "text/html": [
              "<div>\n",
              "<style scoped>\n",
              "    .dataframe tbody tr th:only-of-type {\n",
              "        vertical-align: middle;\n",
              "    }\n",
              "\n",
              "    .dataframe tbody tr th {\n",
              "        vertical-align: top;\n",
              "    }\n",
              "\n",
              "    .dataframe thead th {\n",
              "        text-align: right;\n",
              "    }\n",
              "</style>\n",
              "<table border=\"1\" class=\"dataframe\">\n",
              "  <thead>\n",
              "    <tr style=\"text-align: right;\">\n",
              "      <th></th>\n",
              "      <th>1 Star</th>\n",
              "      <th>2 Star</th>\n",
              "      <th>3 Star</th>\n",
              "      <th>4 Star</th>\n",
              "      <th>5 Star</th>\n",
              "      <th>Accessible Hotel</th>\n",
              "      <th>Accessible Parking</th>\n",
              "      <th>Adults Only</th>\n",
              "      <th>Air Conditioning</th>\n",
              "      <th>Airport Hotel</th>\n",
              "      <th>Airport Shuttle</th>\n",
              "      <th>All Inclusive (Upon Inquiry)</th>\n",
              "      <th>Balcony</th>\n",
              "      <th>Bathtub</th>\n",
              "      <th>Beach</th>\n",
              "      <th>Beach Bar</th>\n",
              "      <th>Beauty Salon</th>\n",
              "      <th>Bed &amp; Breakfast</th>\n",
              "      <th>Bike Rental</th>\n",
              "      <th>Boat Rental</th>\n",
              "      <th>Body Treatments</th>\n",
              "      <th>Boutique Hotel</th>\n",
              "      <th>Bowling</th>\n",
              "      <th>Bungalows</th>\n",
              "      <th>Business Centre</th>\n",
              "      <th>Business Hotel</th>\n",
              "      <th>Cable TV</th>\n",
              "      <th>Camping Site</th>\n",
              "      <th>Car Park</th>\n",
              "      <th>Casa Rural (ES)</th>\n",
              "      <th>Casino (Hotel)</th>\n",
              "      <th>Central Heating</th>\n",
              "      <th>Childcare</th>\n",
              "      <th>Club Hotel</th>\n",
              "      <th>Computer with Internet</th>\n",
              "      <th>Concierge</th>\n",
              "      <th>Conference Rooms</th>\n",
              "      <th>Convenience Store</th>\n",
              "      <th>Convention Hotel</th>\n",
              "      <th>Cosmetic Mirror</th>\n",
              "      <th>...</th>\n",
              "      <th>Satellite TV</th>\n",
              "      <th>Satisfactory Rating</th>\n",
              "      <th>Sauna</th>\n",
              "      <th>Self Catering</th>\n",
              "      <th>Senior Travellers</th>\n",
              "      <th>Serviced Apartment</th>\n",
              "      <th>Shooting Sports</th>\n",
              "      <th>Shower</th>\n",
              "      <th>Singles</th>\n",
              "      <th>Sitting Area (Rooms)</th>\n",
              "      <th>Ski Resort</th>\n",
              "      <th>Skiing</th>\n",
              "      <th>Solarium</th>\n",
              "      <th>Spa (Wellness Facility)</th>\n",
              "      <th>Spa Hotel</th>\n",
              "      <th>Steam Room</th>\n",
              "      <th>Sun Umbrellas</th>\n",
              "      <th>Surfing</th>\n",
              "      <th>Swimming Pool (Bar)</th>\n",
              "      <th>Swimming Pool (Combined Filter)</th>\n",
              "      <th>Swimming Pool (Indoor)</th>\n",
              "      <th>Swimming Pool (Outdoor)</th>\n",
              "      <th>Szep Kartya</th>\n",
              "      <th>Table Tennis</th>\n",
              "      <th>Telephone</th>\n",
              "      <th>Teleprinter</th>\n",
              "      <th>Television</th>\n",
              "      <th>Tennis Court</th>\n",
              "      <th>Tennis Court (Indoor)</th>\n",
              "      <th>Terrace (Hotel)</th>\n",
              "      <th>Theme Hotel</th>\n",
              "      <th>Towels</th>\n",
              "      <th>Very Good Rating</th>\n",
              "      <th>Volleyball</th>\n",
              "      <th>Washing Machine</th>\n",
              "      <th>Water Slide</th>\n",
              "      <th>Wheelchair Accessible</th>\n",
              "      <th>WiFi (Public Areas)</th>\n",
              "      <th>WiFi (Rooms)</th>\n",
              "      <th>item_id</th>\n",
              "    </tr>\n",
              "  </thead>\n",
              "  <tbody>\n",
              "    <tr>\n",
              "      <th>0</th>\n",
              "      <td>0</td>\n",
              "      <td>0</td>\n",
              "      <td>0</td>\n",
              "      <td>1</td>\n",
              "      <td>0</td>\n",
              "      <td>1</td>\n",
              "      <td>1</td>\n",
              "      <td>0</td>\n",
              "      <td>1</td>\n",
              "      <td>0</td>\n",
              "      <td>1</td>\n",
              "      <td>0</td>\n",
              "      <td>1</td>\n",
              "      <td>1</td>\n",
              "      <td>0</td>\n",
              "      <td>0</td>\n",
              "      <td>0</td>\n",
              "      <td>0</td>\n",
              "      <td>1</td>\n",
              "      <td>0</td>\n",
              "      <td>0</td>\n",
              "      <td>0</td>\n",
              "      <td>1</td>\n",
              "      <td>0</td>\n",
              "      <td>1</td>\n",
              "      <td>1</td>\n",
              "      <td>1</td>\n",
              "      <td>0</td>\n",
              "      <td>1</td>\n",
              "      <td>0</td>\n",
              "      <td>0</td>\n",
              "      <td>1</td>\n",
              "      <td>0</td>\n",
              "      <td>0</td>\n",
              "      <td>1</td>\n",
              "      <td>0</td>\n",
              "      <td>1</td>\n",
              "      <td>0</td>\n",
              "      <td>0</td>\n",
              "      <td>1</td>\n",
              "      <td>...</td>\n",
              "      <td>1</td>\n",
              "      <td>1</td>\n",
              "      <td>0</td>\n",
              "      <td>0</td>\n",
              "      <td>0</td>\n",
              "      <td>0</td>\n",
              "      <td>0</td>\n",
              "      <td>1</td>\n",
              "      <td>0</td>\n",
              "      <td>1</td>\n",
              "      <td>0</td>\n",
              "      <td>0</td>\n",
              "      <td>0</td>\n",
              "      <td>0</td>\n",
              "      <td>0</td>\n",
              "      <td>0</td>\n",
              "      <td>0</td>\n",
              "      <td>0</td>\n",
              "      <td>0</td>\n",
              "      <td>0</td>\n",
              "      <td>0</td>\n",
              "      <td>0</td>\n",
              "      <td>0</td>\n",
              "      <td>0</td>\n",
              "      <td>1</td>\n",
              "      <td>0</td>\n",
              "      <td>1</td>\n",
              "      <td>1</td>\n",
              "      <td>1</td>\n",
              "      <td>1</td>\n",
              "      <td>0</td>\n",
              "      <td>0</td>\n",
              "      <td>0</td>\n",
              "      <td>0</td>\n",
              "      <td>0</td>\n",
              "      <td>0</td>\n",
              "      <td>0</td>\n",
              "      <td>1</td>\n",
              "      <td>1</td>\n",
              "      <td>5101</td>\n",
              "    </tr>\n",
              "    <tr>\n",
              "      <th>1</th>\n",
              "      <td>0</td>\n",
              "      <td>0</td>\n",
              "      <td>0</td>\n",
              "      <td>1</td>\n",
              "      <td>0</td>\n",
              "      <td>0</td>\n",
              "      <td>0</td>\n",
              "      <td>0</td>\n",
              "      <td>0</td>\n",
              "      <td>0</td>\n",
              "      <td>0</td>\n",
              "      <td>0</td>\n",
              "      <td>0</td>\n",
              "      <td>1</td>\n",
              "      <td>0</td>\n",
              "      <td>0</td>\n",
              "      <td>0</td>\n",
              "      <td>0</td>\n",
              "      <td>1</td>\n",
              "      <td>0</td>\n",
              "      <td>0</td>\n",
              "      <td>0</td>\n",
              "      <td>0</td>\n",
              "      <td>0</td>\n",
              "      <td>0</td>\n",
              "      <td>1</td>\n",
              "      <td>0</td>\n",
              "      <td>0</td>\n",
              "      <td>1</td>\n",
              "      <td>0</td>\n",
              "      <td>0</td>\n",
              "      <td>0</td>\n",
              "      <td>0</td>\n",
              "      <td>0</td>\n",
              "      <td>1</td>\n",
              "      <td>0</td>\n",
              "      <td>1</td>\n",
              "      <td>0</td>\n",
              "      <td>0</td>\n",
              "      <td>1</td>\n",
              "      <td>...</td>\n",
              "      <td>1</td>\n",
              "      <td>1</td>\n",
              "      <td>1</td>\n",
              "      <td>0</td>\n",
              "      <td>0</td>\n",
              "      <td>0</td>\n",
              "      <td>0</td>\n",
              "      <td>1</td>\n",
              "      <td>0</td>\n",
              "      <td>1</td>\n",
              "      <td>0</td>\n",
              "      <td>0</td>\n",
              "      <td>0</td>\n",
              "      <td>1</td>\n",
              "      <td>0</td>\n",
              "      <td>0</td>\n",
              "      <td>0</td>\n",
              "      <td>0</td>\n",
              "      <td>0</td>\n",
              "      <td>0</td>\n",
              "      <td>0</td>\n",
              "      <td>0</td>\n",
              "      <td>0</td>\n",
              "      <td>0</td>\n",
              "      <td>1</td>\n",
              "      <td>0</td>\n",
              "      <td>1</td>\n",
              "      <td>0</td>\n",
              "      <td>0</td>\n",
              "      <td>1</td>\n",
              "      <td>0</td>\n",
              "      <td>0</td>\n",
              "      <td>1</td>\n",
              "      <td>0</td>\n",
              "      <td>0</td>\n",
              "      <td>0</td>\n",
              "      <td>1</td>\n",
              "      <td>1</td>\n",
              "      <td>1</td>\n",
              "      <td>5416</td>\n",
              "    </tr>\n",
              "    <tr>\n",
              "      <th>2</th>\n",
              "      <td>0</td>\n",
              "      <td>0</td>\n",
              "      <td>1</td>\n",
              "      <td>0</td>\n",
              "      <td>0</td>\n",
              "      <td>0</td>\n",
              "      <td>0</td>\n",
              "      <td>0</td>\n",
              "      <td>0</td>\n",
              "      <td>0</td>\n",
              "      <td>0</td>\n",
              "      <td>0</td>\n",
              "      <td>0</td>\n",
              "      <td>0</td>\n",
              "      <td>1</td>\n",
              "      <td>0</td>\n",
              "      <td>0</td>\n",
              "      <td>0</td>\n",
              "      <td>0</td>\n",
              "      <td>1</td>\n",
              "      <td>0</td>\n",
              "      <td>0</td>\n",
              "      <td>1</td>\n",
              "      <td>0</td>\n",
              "      <td>0</td>\n",
              "      <td>1</td>\n",
              "      <td>0</td>\n",
              "      <td>0</td>\n",
              "      <td>1</td>\n",
              "      <td>0</td>\n",
              "      <td>0</td>\n",
              "      <td>1</td>\n",
              "      <td>0</td>\n",
              "      <td>0</td>\n",
              "      <td>1</td>\n",
              "      <td>0</td>\n",
              "      <td>0</td>\n",
              "      <td>0</td>\n",
              "      <td>0</td>\n",
              "      <td>1</td>\n",
              "      <td>...</td>\n",
              "      <td>1</td>\n",
              "      <td>1</td>\n",
              "      <td>0</td>\n",
              "      <td>0</td>\n",
              "      <td>0</td>\n",
              "      <td>0</td>\n",
              "      <td>0</td>\n",
              "      <td>1</td>\n",
              "      <td>1</td>\n",
              "      <td>0</td>\n",
              "      <td>0</td>\n",
              "      <td>0</td>\n",
              "      <td>0</td>\n",
              "      <td>0</td>\n",
              "      <td>0</td>\n",
              "      <td>0</td>\n",
              "      <td>0</td>\n",
              "      <td>0</td>\n",
              "      <td>0</td>\n",
              "      <td>0</td>\n",
              "      <td>0</td>\n",
              "      <td>0</td>\n",
              "      <td>0</td>\n",
              "      <td>0</td>\n",
              "      <td>1</td>\n",
              "      <td>0</td>\n",
              "      <td>0</td>\n",
              "      <td>0</td>\n",
              "      <td>0</td>\n",
              "      <td>1</td>\n",
              "      <td>0</td>\n",
              "      <td>0</td>\n",
              "      <td>1</td>\n",
              "      <td>0</td>\n",
              "      <td>0</td>\n",
              "      <td>0</td>\n",
              "      <td>0</td>\n",
              "      <td>1</td>\n",
              "      <td>1</td>\n",
              "      <td>5834</td>\n",
              "    </tr>\n",
              "    <tr>\n",
              "      <th>3</th>\n",
              "      <td>0</td>\n",
              "      <td>0</td>\n",
              "      <td>0</td>\n",
              "      <td>1</td>\n",
              "      <td>0</td>\n",
              "      <td>0</td>\n",
              "      <td>0</td>\n",
              "      <td>0</td>\n",
              "      <td>0</td>\n",
              "      <td>0</td>\n",
              "      <td>0</td>\n",
              "      <td>0</td>\n",
              "      <td>0</td>\n",
              "      <td>1</td>\n",
              "      <td>0</td>\n",
              "      <td>0</td>\n",
              "      <td>0</td>\n",
              "      <td>0</td>\n",
              "      <td>1</td>\n",
              "      <td>0</td>\n",
              "      <td>0</td>\n",
              "      <td>0</td>\n",
              "      <td>0</td>\n",
              "      <td>0</td>\n",
              "      <td>0</td>\n",
              "      <td>1</td>\n",
              "      <td>1</td>\n",
              "      <td>0</td>\n",
              "      <td>1</td>\n",
              "      <td>0</td>\n",
              "      <td>0</td>\n",
              "      <td>1</td>\n",
              "      <td>0</td>\n",
              "      <td>0</td>\n",
              "      <td>1</td>\n",
              "      <td>1</td>\n",
              "      <td>1</td>\n",
              "      <td>0</td>\n",
              "      <td>0</td>\n",
              "      <td>1</td>\n",
              "      <td>...</td>\n",
              "      <td>1</td>\n",
              "      <td>1</td>\n",
              "      <td>0</td>\n",
              "      <td>0</td>\n",
              "      <td>0</td>\n",
              "      <td>0</td>\n",
              "      <td>0</td>\n",
              "      <td>1</td>\n",
              "      <td>0</td>\n",
              "      <td>0</td>\n",
              "      <td>0</td>\n",
              "      <td>0</td>\n",
              "      <td>1</td>\n",
              "      <td>0</td>\n",
              "      <td>0</td>\n",
              "      <td>0</td>\n",
              "      <td>0</td>\n",
              "      <td>0</td>\n",
              "      <td>0</td>\n",
              "      <td>0</td>\n",
              "      <td>0</td>\n",
              "      <td>0</td>\n",
              "      <td>0</td>\n",
              "      <td>0</td>\n",
              "      <td>1</td>\n",
              "      <td>0</td>\n",
              "      <td>1</td>\n",
              "      <td>1</td>\n",
              "      <td>1</td>\n",
              "      <td>1</td>\n",
              "      <td>0</td>\n",
              "      <td>0</td>\n",
              "      <td>0</td>\n",
              "      <td>0</td>\n",
              "      <td>0</td>\n",
              "      <td>0</td>\n",
              "      <td>0</td>\n",
              "      <td>1</td>\n",
              "      <td>0</td>\n",
              "      <td>5910</td>\n",
              "    </tr>\n",
              "    <tr>\n",
              "      <th>4</th>\n",
              "      <td>0</td>\n",
              "      <td>0</td>\n",
              "      <td>0</td>\n",
              "      <td>1</td>\n",
              "      <td>0</td>\n",
              "      <td>1</td>\n",
              "      <td>1</td>\n",
              "      <td>0</td>\n",
              "      <td>0</td>\n",
              "      <td>0</td>\n",
              "      <td>0</td>\n",
              "      <td>0</td>\n",
              "      <td>1</td>\n",
              "      <td>1</td>\n",
              "      <td>1</td>\n",
              "      <td>0</td>\n",
              "      <td>1</td>\n",
              "      <td>0</td>\n",
              "      <td>1</td>\n",
              "      <td>1</td>\n",
              "      <td>1</td>\n",
              "      <td>0</td>\n",
              "      <td>1</td>\n",
              "      <td>0</td>\n",
              "      <td>1</td>\n",
              "      <td>1</td>\n",
              "      <td>1</td>\n",
              "      <td>0</td>\n",
              "      <td>1</td>\n",
              "      <td>0</td>\n",
              "      <td>0</td>\n",
              "      <td>1</td>\n",
              "      <td>0</td>\n",
              "      <td>0</td>\n",
              "      <td>1</td>\n",
              "      <td>0</td>\n",
              "      <td>1</td>\n",
              "      <td>0</td>\n",
              "      <td>1</td>\n",
              "      <td>1</td>\n",
              "      <td>...</td>\n",
              "      <td>1</td>\n",
              "      <td>1</td>\n",
              "      <td>1</td>\n",
              "      <td>0</td>\n",
              "      <td>0</td>\n",
              "      <td>0</td>\n",
              "      <td>0</td>\n",
              "      <td>1</td>\n",
              "      <td>0</td>\n",
              "      <td>1</td>\n",
              "      <td>0</td>\n",
              "      <td>0</td>\n",
              "      <td>1</td>\n",
              "      <td>1</td>\n",
              "      <td>1</td>\n",
              "      <td>1</td>\n",
              "      <td>0</td>\n",
              "      <td>1</td>\n",
              "      <td>0</td>\n",
              "      <td>1</td>\n",
              "      <td>1</td>\n",
              "      <td>1</td>\n",
              "      <td>0</td>\n",
              "      <td>1</td>\n",
              "      <td>1</td>\n",
              "      <td>0</td>\n",
              "      <td>1</td>\n",
              "      <td>1</td>\n",
              "      <td>1</td>\n",
              "      <td>1</td>\n",
              "      <td>0</td>\n",
              "      <td>1</td>\n",
              "      <td>0</td>\n",
              "      <td>1</td>\n",
              "      <td>0</td>\n",
              "      <td>0</td>\n",
              "      <td>1</td>\n",
              "      <td>1</td>\n",
              "      <td>1</td>\n",
              "      <td>6066</td>\n",
              "    </tr>\n",
              "  </tbody>\n",
              "</table>\n",
              "<p>5 rows × 158 columns</p>\n",
              "</div>"
            ],
            "text/plain": [
              "   1 Star  2 Star  3 Star  ...  WiFi (Public Areas)  WiFi (Rooms)  item_id\n",
              "0       0       0       0  ...                    1             1     5101\n",
              "1       0       0       0  ...                    1             1     5416\n",
              "2       0       0       1  ...                    1             1     5834\n",
              "3       0       0       0  ...                    1             0     5910\n",
              "4       0       0       0  ...                    1             1     6066\n",
              "\n",
              "[5 rows x 158 columns]"
            ]
          },
          "metadata": {
            "tags": []
          },
          "execution_count": 9
        }
      ]
    },
    {
      "cell_type": "markdown",
      "metadata": {
        "id": "J8kcaIOEFgjH",
        "colab_type": "text"
      },
      "source": [
        "#### K-means"
      ]
    },
    {
      "cell_type": "code",
      "metadata": {
        "id": "HMp_6Anu5RlR",
        "colab_type": "code",
        "outputId": "8cf37cf5-185a-4117-8058-e3edc52af6ce",
        "colab": {
          "base_uri": "https://localhost:8080/",
          "height": 34
        }
      },
      "source": [
        "from sklearn.cluster import KMeans\n",
        "\n",
        "X = properties_encodedDF.drop(columns='item_id')\n",
        "X = X.values\n",
        "kmeans = KMeans(n_clusters=5, random_state=0).fit(X)\n",
        "kmeans.labels_"
      ],
      "execution_count": 13,
      "outputs": [
        {
          "output_type": "execute_result",
          "data": {
            "text/plain": [
              "array([0, 0, 0, ..., 1, 1, 2], dtype=int32)"
            ]
          },
          "metadata": {
            "tags": []
          },
          "execution_count": 13
        }
      ]
    },
    {
      "cell_type": "code",
      "metadata": {
        "id": "2H-cqsu2C31f",
        "colab_type": "code",
        "colab": {}
      },
      "source": [
        "PropertiesClustersDF = pd.DataFrame({'item_id':properties_encodedDF.item_id.values.tolist(),\n",
        "                                     'cluster':kmeans.labels_.tolist()})\n",
        "PropertiesClustersDF.cluster = PropertiesClustersDF.cluster.replace([0, 1, 2, 3, 4], ['A', 'B', 'C', 'D', 'E'])"
      ],
      "execution_count": 0,
      "outputs": []
    },
    {
      "cell_type": "code",
      "metadata": {
        "id": "gUJx4D0EFcGu",
        "colab_type": "code",
        "outputId": "2799adb5-aea2-438d-f69f-79b1ada93e15",
        "colab": {
          "base_uri": "https://localhost:8080/",
          "height": 204
        }
      },
      "source": [
        "ClusterDF = pd.get_dummies(PropertiesClustersDF.cluster)\n",
        "ClusterDF['item'] = PropertiesClustersDF.item_id.values.tolist()\n",
        "ClusterDF.head()"
      ],
      "execution_count": 15,
      "outputs": [
        {
          "output_type": "execute_result",
          "data": {
            "text/html": [
              "<div>\n",
              "<style scoped>\n",
              "    .dataframe tbody tr th:only-of-type {\n",
              "        vertical-align: middle;\n",
              "    }\n",
              "\n",
              "    .dataframe tbody tr th {\n",
              "        vertical-align: top;\n",
              "    }\n",
              "\n",
              "    .dataframe thead th {\n",
              "        text-align: right;\n",
              "    }\n",
              "</style>\n",
              "<table border=\"1\" class=\"dataframe\">\n",
              "  <thead>\n",
              "    <tr style=\"text-align: right;\">\n",
              "      <th></th>\n",
              "      <th>A</th>\n",
              "      <th>B</th>\n",
              "      <th>C</th>\n",
              "      <th>D</th>\n",
              "      <th>E</th>\n",
              "      <th>item</th>\n",
              "    </tr>\n",
              "  </thead>\n",
              "  <tbody>\n",
              "    <tr>\n",
              "      <th>0</th>\n",
              "      <td>1</td>\n",
              "      <td>0</td>\n",
              "      <td>0</td>\n",
              "      <td>0</td>\n",
              "      <td>0</td>\n",
              "      <td>5101</td>\n",
              "    </tr>\n",
              "    <tr>\n",
              "      <th>1</th>\n",
              "      <td>1</td>\n",
              "      <td>0</td>\n",
              "      <td>0</td>\n",
              "      <td>0</td>\n",
              "      <td>0</td>\n",
              "      <td>5416</td>\n",
              "    </tr>\n",
              "    <tr>\n",
              "      <th>2</th>\n",
              "      <td>1</td>\n",
              "      <td>0</td>\n",
              "      <td>0</td>\n",
              "      <td>0</td>\n",
              "      <td>0</td>\n",
              "      <td>5834</td>\n",
              "    </tr>\n",
              "    <tr>\n",
              "      <th>3</th>\n",
              "      <td>1</td>\n",
              "      <td>0</td>\n",
              "      <td>0</td>\n",
              "      <td>0</td>\n",
              "      <td>0</td>\n",
              "      <td>5910</td>\n",
              "    </tr>\n",
              "    <tr>\n",
              "      <th>4</th>\n",
              "      <td>1</td>\n",
              "      <td>0</td>\n",
              "      <td>0</td>\n",
              "      <td>0</td>\n",
              "      <td>0</td>\n",
              "      <td>6066</td>\n",
              "    </tr>\n",
              "  </tbody>\n",
              "</table>\n",
              "</div>"
            ],
            "text/plain": [
              "   A  B  C  D  E  item\n",
              "0  1  0  0  0  0  5101\n",
              "1  1  0  0  0  0  5416\n",
              "2  1  0  0  0  0  5834\n",
              "3  1  0  0  0  0  5910\n",
              "4  1  0  0  0  0  6066"
            ]
          },
          "metadata": {
            "tags": []
          },
          "execution_count": 15
        }
      ]
    },
    {
      "cell_type": "code",
      "metadata": {
        "id": "vobSW2x--Hed",
        "colab_type": "code",
        "colab": {}
      },
      "source": [
        "ClusterDF.to_csv('./Datasets/clean_data/ItemsPropertiesSimilarities.csv', index=False)"
      ],
      "execution_count": 0,
      "outputs": []
    },
    {
      "cell_type": "markdown",
      "metadata": {
        "id": "376HDex_KT0r",
        "colab_type": "text"
      },
      "source": [
        "#### PCA"
      ]
    },
    {
      "cell_type": "code",
      "metadata": {
        "id": "CJBp0_hf5XRH",
        "colab_type": "code",
        "colab": {
          "base_uri": "https://localhost:8080/",
          "height": 204
        },
        "outputId": "1b1d1796-5706-4a9c-e274-2be3743ca6b8"
      },
      "source": [
        "pca = PCA(n_components=5)\n",
        "X = properties_encodedDF.drop(columns='item_id')\n",
        "properties = pca.fit_transform(X)\n",
        "propertiesDF = pd.DataFrame(data = properties, columns=['A', 'B', 'C', 'D', 'E'])\n",
        "propertiesDF['item_id'] = properties_encodedDF.item_id.values.tolist()\n",
        "\n",
        "propertiesDF.head()"
      ],
      "execution_count": 18,
      "outputs": [
        {
          "output_type": "execute_result",
          "data": {
            "text/html": [
              "<div>\n",
              "<style scoped>\n",
              "    .dataframe tbody tr th:only-of-type {\n",
              "        vertical-align: middle;\n",
              "    }\n",
              "\n",
              "    .dataframe tbody tr th {\n",
              "        vertical-align: top;\n",
              "    }\n",
              "\n",
              "    .dataframe thead th {\n",
              "        text-align: right;\n",
              "    }\n",
              "</style>\n",
              "<table border=\"1\" class=\"dataframe\">\n",
              "  <thead>\n",
              "    <tr style=\"text-align: right;\">\n",
              "      <th></th>\n",
              "      <th>A</th>\n",
              "      <th>B</th>\n",
              "      <th>C</th>\n",
              "      <th>D</th>\n",
              "      <th>E</th>\n",
              "      <th>item_id</th>\n",
              "    </tr>\n",
              "  </thead>\n",
              "  <tbody>\n",
              "    <tr>\n",
              "      <th>0</th>\n",
              "      <td>-2.622219</td>\n",
              "      <td>-0.902672</td>\n",
              "      <td>-0.723547</td>\n",
              "      <td>0.297539</td>\n",
              "      <td>-0.097791</td>\n",
              "      <td>5101</td>\n",
              "    </tr>\n",
              "    <tr>\n",
              "      <th>1</th>\n",
              "      <td>-2.526538</td>\n",
              "      <td>-0.790910</td>\n",
              "      <td>-0.666546</td>\n",
              "      <td>0.287467</td>\n",
              "      <td>0.253292</td>\n",
              "      <td>5416</td>\n",
              "    </tr>\n",
              "    <tr>\n",
              "      <th>2</th>\n",
              "      <td>-2.214742</td>\n",
              "      <td>-0.727124</td>\n",
              "      <td>-0.685831</td>\n",
              "      <td>0.305293</td>\n",
              "      <td>0.629916</td>\n",
              "      <td>5834</td>\n",
              "    </tr>\n",
              "    <tr>\n",
              "      <th>3</th>\n",
              "      <td>-2.115618</td>\n",
              "      <td>-0.536262</td>\n",
              "      <td>0.169221</td>\n",
              "      <td>0.105751</td>\n",
              "      <td>0.301906</td>\n",
              "      <td>5910</td>\n",
              "    </tr>\n",
              "    <tr>\n",
              "      <th>4</th>\n",
              "      <td>-2.463044</td>\n",
              "      <td>-0.854214</td>\n",
              "      <td>-0.718518</td>\n",
              "      <td>0.179768</td>\n",
              "      <td>0.615274</td>\n",
              "      <td>6066</td>\n",
              "    </tr>\n",
              "  </tbody>\n",
              "</table>\n",
              "</div>"
            ],
            "text/plain": [
              "          A         B         C         D         E item_id\n",
              "0 -2.622219 -0.902672 -0.723547  0.297539 -0.097791    5101\n",
              "1 -2.526538 -0.790910 -0.666546  0.287467  0.253292    5416\n",
              "2 -2.214742 -0.727124 -0.685831  0.305293  0.629916    5834\n",
              "3 -2.115618 -0.536262  0.169221  0.105751  0.301906    5910\n",
              "4 -2.463044 -0.854214 -0.718518  0.179768  0.615274    6066"
            ]
          },
          "metadata": {
            "tags": []
          },
          "execution_count": 18
        }
      ]
    },
    {
      "cell_type": "code",
      "metadata": {
        "id": "ahlwzC4f-jQC",
        "colab_type": "code",
        "colab": {}
      },
      "source": [
        "propertiesDF.to_csv('./Datasets/clean_data/ItemsPropertiesSimilarities/PCA_Properties.csv')"
      ],
      "execution_count": 0,
      "outputs": []
    },
    {
      "cell_type": "markdown",
      "metadata": {
        "id": "a3_zkXYmFgjJ",
        "colab_type": "text"
      },
      "source": [
        "### Number of Times in Impressions\n",
        "The purpose of this feature is to check how many times an item had been shown to users in the list."
      ]
    },
    {
      "cell_type": "markdown",
      "metadata": {
        "id": "2a0n6qeSFgjd",
        "colab_type": "text"
      },
      "source": [
        "Finding number of times an item has been mentioned in a list."
      ]
    },
    {
      "cell_type": "code",
      "metadata": {
        "id": "hqDgSatzFgj0",
        "colab_type": "code",
        "outputId": "042d2147-8a17-41b8-8392-2cb80eaf56de",
        "colab": {
          "base_uri": "https://localhost:8080/",
          "height": 111
        }
      },
      "source": [
        "AllImpressionsList = ClickoutUniqueDF.impressions.apply(lambda x:x.split('|'))\n",
        "\n",
        "AllImpressionsFlatList = []\n",
        "for sublist in AllImpressionsList:\n",
        "    for item in sublist:\n",
        "        AllImpressionsFlatList.append(item)\n",
        "\n",
        "InImpressionsCounter = Counter(AllImpressionsFlatList)\n",
        "InImpressionsDF = pd.DataFrame.from_dict(InImpressionsCounter, orient='index').reset_index()\\\n",
        "                              .rename(columns={'index':'item_id', 0:'NumberInImpressions'})\n",
        "InImpressionsDF.head(2)"
      ],
      "execution_count": 0,
      "outputs": [
        {
          "output_type": "execute_result",
          "data": {
            "text/html": [
              "<div>\n",
              "<style scoped>\n",
              "    .dataframe tbody tr th:only-of-type {\n",
              "        vertical-align: middle;\n",
              "    }\n",
              "\n",
              "    .dataframe tbody tr th {\n",
              "        vertical-align: top;\n",
              "    }\n",
              "\n",
              "    .dataframe thead th {\n",
              "        text-align: right;\n",
              "    }\n",
              "</style>\n",
              "<table border=\"1\" class=\"dataframe\">\n",
              "  <thead>\n",
              "    <tr style=\"text-align: right;\">\n",
              "      <th></th>\n",
              "      <th>item_id</th>\n",
              "      <th>NumberInImpressions</th>\n",
              "    </tr>\n",
              "  </thead>\n",
              "  <tbody>\n",
              "    <tr>\n",
              "      <th>0</th>\n",
              "      <td>3400638</td>\n",
              "      <td>394</td>\n",
              "    </tr>\n",
              "    <tr>\n",
              "      <th>1</th>\n",
              "      <td>1253714</td>\n",
              "      <td>74</td>\n",
              "    </tr>\n",
              "  </tbody>\n",
              "</table>\n",
              "</div>"
            ],
            "text/plain": [
              "   item_id  NumberInImpressions\n",
              "0  3400638                  394\n",
              "1  1253714                   74"
            ]
          },
          "metadata": {
            "tags": []
          },
          "execution_count": 9
        }
      ]
    },
    {
      "cell_type": "code",
      "metadata": {
        "id": "MilO4jYIFgj5",
        "colab_type": "code",
        "outputId": "b6a96cb1-e930-430c-b304-d49d4bd4deeb",
        "colab": {
          "base_uri": "https://localhost:8080/",
          "height": 34
        }
      },
      "source": [
        "InImpressionsDF.item_id.nunique(), len(InImpressionsDF), item_metadata.item_id.nunique()"
      ],
      "execution_count": 0,
      "outputs": [
        {
          "output_type": "execute_result",
          "data": {
            "text/plain": [
              "(777243, 777243, 927142)"
            ]
          },
          "metadata": {
            "tags": []
          },
          "execution_count": 14
        }
      ]
    },
    {
      "cell_type": "markdown",
      "metadata": {
        "id": "h8aULpmpFgkA",
        "colab_type": "text"
      },
      "source": [
        "Number of items in this dataframe is less than the number of items in item_metadata, that's because some of the items had not been mentioned in the impressions list."
      ]
    },
    {
      "cell_type": "code",
      "metadata": {
        "scrolled": true,
        "id": "WRayg1swFgkD",
        "colab_type": "code",
        "outputId": "496f6e2e-1ff8-4a0d-c843-7851afbe933c",
        "colab": {
          "base_uri": "https://localhost:8080/",
          "height": 111
        }
      },
      "source": [
        "item_metadata.item_id = item_metadata.item_id.apply(lambda x: str(x))\n",
        "item_metadata.drop(columns='properties', inplace=True)\n",
        "\n",
        "#left joining\n",
        "item_metadata = item_metadata.merge(InImpressionsDF, on='item_id', how='left')\n",
        "item_metadata.head(2)"
      ],
      "execution_count": 0,
      "outputs": [
        {
          "output_type": "execute_result",
          "data": {
            "text/html": [
              "<div>\n",
              "<style scoped>\n",
              "    .dataframe tbody tr th:only-of-type {\n",
              "        vertical-align: middle;\n",
              "    }\n",
              "\n",
              "    .dataframe tbody tr th {\n",
              "        vertical-align: top;\n",
              "    }\n",
              "\n",
              "    .dataframe thead th {\n",
              "        text-align: right;\n",
              "    }\n",
              "</style>\n",
              "<table border=\"1\" class=\"dataframe\">\n",
              "  <thead>\n",
              "    <tr style=\"text-align: right;\">\n",
              "      <th></th>\n",
              "      <th>item_id</th>\n",
              "      <th>NumberOfProperties</th>\n",
              "      <th>NumberInImpressions</th>\n",
              "    </tr>\n",
              "  </thead>\n",
              "  <tbody>\n",
              "    <tr>\n",
              "      <th>0</th>\n",
              "      <td>5101</td>\n",
              "      <td>62</td>\n",
              "      <td>68.0</td>\n",
              "    </tr>\n",
              "    <tr>\n",
              "      <th>1</th>\n",
              "      <td>5416</td>\n",
              "      <td>46</td>\n",
              "      <td>58.0</td>\n",
              "    </tr>\n",
              "  </tbody>\n",
              "</table>\n",
              "</div>"
            ],
            "text/plain": [
              "  item_id  NumberOfProperties  NumberInImpressions\n",
              "0    5101                  62                 68.0\n",
              "1    5416                  46                 58.0"
            ]
          },
          "metadata": {
            "tags": []
          },
          "execution_count": 10
        }
      ]
    },
    {
      "cell_type": "markdown",
      "metadata": {
        "id": "ae_M8pVzFgkI",
        "colab_type": "text"
      },
      "source": [
        "### Number of Times in Reference\n",
        "The purpose of this feature is to check how many times an item has been mentioned in the Reference attribute in the whole train set. "
      ]
    },
    {
      "cell_type": "code",
      "metadata": {
        "id": "8bk3WxlYFgkK",
        "colab_type": "code",
        "outputId": "f81ae697-9c43-4a6d-816d-6b7fadb29d63",
        "colab": {
          "base_uri": "https://localhost:8080/",
          "height": 111
        }
      },
      "source": [
        "InReferencesCounter = Counter(train.reference.values.tolist())\n",
        "InReferencesDF = pd.DataFrame.from_dict(InReferencesCounter, orient='index').reset_index()\\\n",
        "                              .rename(columns={'index':'item_id', 0:'NumberInReferences'})\n",
        "\n",
        "InReferencesDF.head(2)"
      ],
      "execution_count": 0,
      "outputs": [
        {
          "output_type": "execute_result",
          "data": {
            "text/html": [
              "<div>\n",
              "<style scoped>\n",
              "    .dataframe tbody tr th:only-of-type {\n",
              "        vertical-align: middle;\n",
              "    }\n",
              "\n",
              "    .dataframe tbody tr th {\n",
              "        vertical-align: top;\n",
              "    }\n",
              "\n",
              "    .dataframe thead th {\n",
              "        text-align: right;\n",
              "    }\n",
              "</style>\n",
              "<table border=\"1\" class=\"dataframe\">\n",
              "  <thead>\n",
              "    <tr style=\"text-align: right;\">\n",
              "      <th></th>\n",
              "      <th>item_id</th>\n",
              "      <th>NumberInReferences</th>\n",
              "    </tr>\n",
              "  </thead>\n",
              "  <tbody>\n",
              "    <tr>\n",
              "      <th>0</th>\n",
              "      <td>Newtown</td>\n",
              "      <td>13</td>\n",
              "    </tr>\n",
              "    <tr>\n",
              "      <th>1</th>\n",
              "      <td>666856</td>\n",
              "      <td>23</td>\n",
              "    </tr>\n",
              "  </tbody>\n",
              "</table>\n",
              "</div>"
            ],
            "text/plain": [
              "   item_id  NumberInReferences\n",
              "0  Newtown                  13\n",
              "1   666856                  23"
            ]
          },
          "metadata": {
            "tags": []
          },
          "execution_count": 11
        }
      ]
    },
    {
      "cell_type": "code",
      "metadata": {
        "id": "7tPSDS_fFgkS",
        "colab_type": "code",
        "outputId": "5ce1040a-144d-4ce4-98cb-0ad7f9a7c278",
        "colab": {
          "base_uri": "https://localhost:8080/",
          "height": 111
        }
      },
      "source": [
        "#left joining\n",
        "item_metadata = item_metadata.merge(InReferencesDF, on='item_id', how='left')\n",
        "item_metadata.head(2)"
      ],
      "execution_count": 0,
      "outputs": [
        {
          "output_type": "execute_result",
          "data": {
            "text/html": [
              "<div>\n",
              "<style scoped>\n",
              "    .dataframe tbody tr th:only-of-type {\n",
              "        vertical-align: middle;\n",
              "    }\n",
              "\n",
              "    .dataframe tbody tr th {\n",
              "        vertical-align: top;\n",
              "    }\n",
              "\n",
              "    .dataframe thead th {\n",
              "        text-align: right;\n",
              "    }\n",
              "</style>\n",
              "<table border=\"1\" class=\"dataframe\">\n",
              "  <thead>\n",
              "    <tr style=\"text-align: right;\">\n",
              "      <th></th>\n",
              "      <th>item_id</th>\n",
              "      <th>NumberOfProperties</th>\n",
              "      <th>NumberInImpressions</th>\n",
              "      <th>NumberInReferences</th>\n",
              "    </tr>\n",
              "  </thead>\n",
              "  <tbody>\n",
              "    <tr>\n",
              "      <th>0</th>\n",
              "      <td>5101</td>\n",
              "      <td>62</td>\n",
              "      <td>68.0</td>\n",
              "      <td>9.0</td>\n",
              "    </tr>\n",
              "    <tr>\n",
              "      <th>1</th>\n",
              "      <td>5416</td>\n",
              "      <td>46</td>\n",
              "      <td>58.0</td>\n",
              "      <td>41.0</td>\n",
              "    </tr>\n",
              "  </tbody>\n",
              "</table>\n",
              "</div>"
            ],
            "text/plain": [
              "  item_id  NumberOfProperties  NumberInImpressions  NumberInReferences\n",
              "0    5101                  62                 68.0                 9.0\n",
              "1    5416                  46                 58.0                41.0"
            ]
          },
          "metadata": {
            "tags": []
          },
          "execution_count": 12
        }
      ]
    },
    {
      "cell_type": "markdown",
      "metadata": {
        "id": "zoVGRxYHFgkZ",
        "colab_type": "text"
      },
      "source": [
        "### Number of Times in Clickout\n",
        "The purpose of this feature is to check how many times an item has been clicked out"
      ]
    },
    {
      "cell_type": "code",
      "metadata": {
        "id": "90brQsHdFgkb",
        "colab_type": "code",
        "outputId": "43fd566c-0c89-493e-eaf7-ca1b153bf56b",
        "colab": {
          "base_uri": "https://localhost:8080/",
          "height": 111
        }
      },
      "source": [
        "InClickoutCounter = Counter(ClickoutDF.reference.values.tolist())\n",
        "InClickoutDF = pd.DataFrame.from_dict(InClickoutCounter, orient='index').reset_index()\\\n",
        "                              .rename(columns={'index':'item_id', 0:'NumberAsClickout'})\n",
        "InClickoutDF.head(2)"
      ],
      "execution_count": 0,
      "outputs": [
        {
          "output_type": "execute_result",
          "data": {
            "text/html": [
              "<div>\n",
              "<style scoped>\n",
              "    .dataframe tbody tr th:only-of-type {\n",
              "        vertical-align: middle;\n",
              "    }\n",
              "\n",
              "    .dataframe tbody tr th {\n",
              "        vertical-align: top;\n",
              "    }\n",
              "\n",
              "    .dataframe thead th {\n",
              "        text-align: right;\n",
              "    }\n",
              "</style>\n",
              "<table border=\"1\" class=\"dataframe\">\n",
              "  <thead>\n",
              "    <tr style=\"text-align: right;\">\n",
              "      <th></th>\n",
              "      <th>item_id</th>\n",
              "      <th>NumberAsClickout</th>\n",
              "    </tr>\n",
              "  </thead>\n",
              "  <tbody>\n",
              "    <tr>\n",
              "      <th>0</th>\n",
              "      <td>109038</td>\n",
              "      <td>45</td>\n",
              "    </tr>\n",
              "    <tr>\n",
              "      <th>1</th>\n",
              "      <td>1257342</td>\n",
              "      <td>19</td>\n",
              "    </tr>\n",
              "  </tbody>\n",
              "</table>\n",
              "</div>"
            ],
            "text/plain": [
              "   item_id  NumberAsClickout\n",
              "0   109038                45\n",
              "1  1257342                19"
            ]
          },
          "metadata": {
            "tags": []
          },
          "execution_count": 13
        }
      ]
    },
    {
      "cell_type": "code",
      "metadata": {
        "id": "V3mWF_azFgkf",
        "colab_type": "code",
        "outputId": "c817a812-74c5-48ab-ec59-8a0bc390b109",
        "colab": {
          "base_uri": "https://localhost:8080/",
          "height": 111
        }
      },
      "source": [
        "#left joining\n",
        "item_metadata = item_metadata.merge(InClickoutDF, on='item_id', how='left')\n",
        "item_metadata.head(2)"
      ],
      "execution_count": 0,
      "outputs": [
        {
          "output_type": "execute_result",
          "data": {
            "text/html": [
              "<div>\n",
              "<style scoped>\n",
              "    .dataframe tbody tr th:only-of-type {\n",
              "        vertical-align: middle;\n",
              "    }\n",
              "\n",
              "    .dataframe tbody tr th {\n",
              "        vertical-align: top;\n",
              "    }\n",
              "\n",
              "    .dataframe thead th {\n",
              "        text-align: right;\n",
              "    }\n",
              "</style>\n",
              "<table border=\"1\" class=\"dataframe\">\n",
              "  <thead>\n",
              "    <tr style=\"text-align: right;\">\n",
              "      <th></th>\n",
              "      <th>item_id</th>\n",
              "      <th>NumberOfProperties</th>\n",
              "      <th>NumberInImpressions</th>\n",
              "      <th>NumberInReferences</th>\n",
              "      <th>NumberAsClickout</th>\n",
              "    </tr>\n",
              "  </thead>\n",
              "  <tbody>\n",
              "    <tr>\n",
              "      <th>0</th>\n",
              "      <td>5101</td>\n",
              "      <td>62</td>\n",
              "      <td>68.0</td>\n",
              "      <td>9.0</td>\n",
              "      <td>4.0</td>\n",
              "    </tr>\n",
              "    <tr>\n",
              "      <th>1</th>\n",
              "      <td>5416</td>\n",
              "      <td>46</td>\n",
              "      <td>58.0</td>\n",
              "      <td>41.0</td>\n",
              "      <td>6.0</td>\n",
              "    </tr>\n",
              "  </tbody>\n",
              "</table>\n",
              "</div>"
            ],
            "text/plain": [
              "  item_id  NumberOfProperties  ...  NumberInReferences  NumberAsClickout\n",
              "0    5101                  62  ...                 9.0               4.0\n",
              "1    5416                  46  ...                41.0               6.0\n",
              "\n",
              "[2 rows x 5 columns]"
            ]
          },
          "metadata": {
            "tags": []
          },
          "execution_count": 19
        }
      ]
    },
    {
      "cell_type": "markdown",
      "metadata": {
        "id": "t-ZSBJIxFgkj",
        "colab_type": "text"
      },
      "source": [
        "### Number of Time in Final Clickout\n",
        "The purpose of this feature is to get the number of times an item had been mentioned as a final clickout."
      ]
    },
    {
      "cell_type": "code",
      "metadata": {
        "id": "g5sMoSRZFgkm",
        "colab_type": "code",
        "outputId": "ded33bc4-71e6-439e-be69-c8ea802585d8",
        "colab": {
          "base_uri": "https://localhost:8080/",
          "height": 111
        }
      },
      "source": [
        "InFinalClickoutCounter = Counter(FinalClickoutDF.reference.values.tolist())\n",
        "InFinalClickoutDF = pd.DataFrame.from_dict(InFinalClickoutCounter, orient='index').reset_index()\\\n",
        "                              .rename(columns={'index':'item_id', 0:'NumberAsFinalClickout'})\n",
        "InFinalClickoutDF.head(2)"
      ],
      "execution_count": 0,
      "outputs": [
        {
          "output_type": "execute_result",
          "data": {
            "text/html": [
              "<div>\n",
              "<style scoped>\n",
              "    .dataframe tbody tr th:only-of-type {\n",
              "        vertical-align: middle;\n",
              "    }\n",
              "\n",
              "    .dataframe tbody tr th {\n",
              "        vertical-align: top;\n",
              "    }\n",
              "\n",
              "    .dataframe thead th {\n",
              "        text-align: right;\n",
              "    }\n",
              "</style>\n",
              "<table border=\"1\" class=\"dataframe\">\n",
              "  <thead>\n",
              "    <tr style=\"text-align: right;\">\n",
              "      <th></th>\n",
              "      <th>item_id</th>\n",
              "      <th>NumberAsFinalClickout</th>\n",
              "    </tr>\n",
              "  </thead>\n",
              "  <tbody>\n",
              "    <tr>\n",
              "      <th>0</th>\n",
              "      <td>1257342</td>\n",
              "      <td>6</td>\n",
              "    </tr>\n",
              "    <tr>\n",
              "      <th>1</th>\n",
              "      <td>2795374</td>\n",
              "      <td>15</td>\n",
              "    </tr>\n",
              "  </tbody>\n",
              "</table>\n",
              "</div>"
            ],
            "text/plain": [
              "   item_id  NumberAsFinalClickout\n",
              "0  1257342                      6\n",
              "1  2795374                     15"
            ]
          },
          "metadata": {
            "tags": []
          },
          "execution_count": 14
        }
      ]
    },
    {
      "cell_type": "code",
      "metadata": {
        "id": "KD_vcoWPFgky",
        "colab_type": "code",
        "outputId": "a05657ad-25b3-4369-b8c1-2e79d05bff78",
        "colab": {
          "base_uri": "https://localhost:8080/",
          "height": 111
        }
      },
      "source": [
        "#left joining\n",
        "item_metadata = item_metadata.merge(InFinalClickoutDF, on='item_id', how='left')\n",
        "item_metadata.head(2)"
      ],
      "execution_count": 0,
      "outputs": [
        {
          "output_type": "execute_result",
          "data": {
            "text/html": [
              "<div>\n",
              "<style scoped>\n",
              "    .dataframe tbody tr th:only-of-type {\n",
              "        vertical-align: middle;\n",
              "    }\n",
              "\n",
              "    .dataframe tbody tr th {\n",
              "        vertical-align: top;\n",
              "    }\n",
              "\n",
              "    .dataframe thead th {\n",
              "        text-align: right;\n",
              "    }\n",
              "</style>\n",
              "<table border=\"1\" class=\"dataframe\">\n",
              "  <thead>\n",
              "    <tr style=\"text-align: right;\">\n",
              "      <th></th>\n",
              "      <th>item_id</th>\n",
              "      <th>NumberOfProperties</th>\n",
              "      <th>NumberInImpressions</th>\n",
              "      <th>NumberInReferences</th>\n",
              "      <th>NumberAsFinalClickout</th>\n",
              "    </tr>\n",
              "  </thead>\n",
              "  <tbody>\n",
              "    <tr>\n",
              "      <th>0</th>\n",
              "      <td>5101</td>\n",
              "      <td>62</td>\n",
              "      <td>68.0</td>\n",
              "      <td>9.0</td>\n",
              "      <td>2.0</td>\n",
              "    </tr>\n",
              "    <tr>\n",
              "      <th>1</th>\n",
              "      <td>5416</td>\n",
              "      <td>46</td>\n",
              "      <td>58.0</td>\n",
              "      <td>41.0</td>\n",
              "      <td>2.0</td>\n",
              "    </tr>\n",
              "  </tbody>\n",
              "</table>\n",
              "</div>"
            ],
            "text/plain": [
              "  item_id  NumberOfProperties  ...  NumberInReferences  NumberAsFinalClickout\n",
              "0    5101                  62  ...                 9.0                    2.0\n",
              "1    5416                  46  ...                41.0                    2.0\n",
              "\n",
              "[2 rows x 5 columns]"
            ]
          },
          "metadata": {
            "tags": []
          },
          "execution_count": 15
        }
      ]
    },
    {
      "cell_type": "markdown",
      "metadata": {
        "id": "9LWxefutFgk_",
        "colab_type": "text"
      },
      "source": [
        "The next step would be dividing the NumberAsFinalClickout by the other 3, in order to get FinalClickout Relativity"
      ]
    },
    {
      "cell_type": "markdown",
      "metadata": {
        "id": "EO0SubJ-FglA",
        "colab_type": "text"
      },
      "source": [
        "### Final Clickout To Impressions\n",
        "The purpose of this feature is to get item's rate of clicking out when listed to the user."
      ]
    },
    {
      "cell_type": "code",
      "metadata": {
        "id": "ZDHJPlJvFglB",
        "colab_type": "code",
        "outputId": "68630d5d-5420-4695-d37d-7c769f52cb1a",
        "colab": {
          "base_uri": "https://localhost:8080/",
          "height": 68
        }
      },
      "source": [
        "FClickoutToImpressions = item_metadata.NumberAsFinalClickout/item_metadata.NumberInImpressions\n",
        "FClickoutToImpressions.head(2)"
      ],
      "execution_count": 0,
      "outputs": [
        {
          "output_type": "execute_result",
          "data": {
            "text/plain": [
              "0    0.029412\n",
              "1    0.034483\n",
              "dtype: float64"
            ]
          },
          "metadata": {
            "tags": []
          },
          "execution_count": 16
        }
      ]
    },
    {
      "cell_type": "code",
      "metadata": {
        "id": "clMCXWXaFglI",
        "colab_type": "code",
        "outputId": "06aa1c97-0af4-48ab-93a0-a7809f8bd5c9",
        "colab": {
          "base_uri": "https://localhost:8080/",
          "height": 111
        }
      },
      "source": [
        "#adding attribute\n",
        "item_metadata['FClickoutToImpressions'] = FClickoutToImpressions\n",
        "item_metadata.head(2)"
      ],
      "execution_count": 0,
      "outputs": [
        {
          "output_type": "execute_result",
          "data": {
            "text/html": [
              "<div>\n",
              "<style scoped>\n",
              "    .dataframe tbody tr th:only-of-type {\n",
              "        vertical-align: middle;\n",
              "    }\n",
              "\n",
              "    .dataframe tbody tr th {\n",
              "        vertical-align: top;\n",
              "    }\n",
              "\n",
              "    .dataframe thead th {\n",
              "        text-align: right;\n",
              "    }\n",
              "</style>\n",
              "<table border=\"1\" class=\"dataframe\">\n",
              "  <thead>\n",
              "    <tr style=\"text-align: right;\">\n",
              "      <th></th>\n",
              "      <th>item_id</th>\n",
              "      <th>NumberOfProperties</th>\n",
              "      <th>NumberInImpressions</th>\n",
              "      <th>NumberInReferences</th>\n",
              "      <th>NumberAsFinalClickout</th>\n",
              "      <th>FClickoutToImpressions</th>\n",
              "    </tr>\n",
              "  </thead>\n",
              "  <tbody>\n",
              "    <tr>\n",
              "      <th>0</th>\n",
              "      <td>5101</td>\n",
              "      <td>62</td>\n",
              "      <td>68.0</td>\n",
              "      <td>9.0</td>\n",
              "      <td>2.0</td>\n",
              "      <td>0.029412</td>\n",
              "    </tr>\n",
              "    <tr>\n",
              "      <th>1</th>\n",
              "      <td>5416</td>\n",
              "      <td>46</td>\n",
              "      <td>58.0</td>\n",
              "      <td>41.0</td>\n",
              "      <td>2.0</td>\n",
              "      <td>0.034483</td>\n",
              "    </tr>\n",
              "  </tbody>\n",
              "</table>\n",
              "</div>"
            ],
            "text/plain": [
              "  item_id  NumberOfProperties  ...  NumberAsFinalClickout  FClickoutToImpressions\n",
              "0    5101                  62  ...                    2.0                0.029412\n",
              "1    5416                  46  ...                    2.0                0.034483\n",
              "\n",
              "[2 rows x 6 columns]"
            ]
          },
          "metadata": {
            "tags": []
          },
          "execution_count": 17
        }
      ]
    },
    {
      "cell_type": "markdown",
      "metadata": {
        "id": "Zr0TO-QQFglP",
        "colab_type": "text"
      },
      "source": [
        "### Final Clickout To References\n",
        "The purpose of this feature is to get item's rate of clicking out when it was interacted with."
      ]
    },
    {
      "cell_type": "code",
      "metadata": {
        "id": "G-tMA8gvFglQ",
        "colab_type": "code",
        "outputId": "0a6e3865-5c01-4adb-b19e-9f66ed0851a3",
        "colab": {
          "base_uri": "https://localhost:8080/",
          "height": 68
        }
      },
      "source": [
        "FClickoutToReferences = item_metadata.NumberAsFinalClickout/item_metadata.NumberInReferences\n",
        "FClickoutToReferences.head(2)"
      ],
      "execution_count": 0,
      "outputs": [
        {
          "output_type": "execute_result",
          "data": {
            "text/plain": [
              "0    0.222222\n",
              "1    0.048780\n",
              "dtype: float64"
            ]
          },
          "metadata": {
            "tags": []
          },
          "execution_count": 18
        }
      ]
    },
    {
      "cell_type": "code",
      "metadata": {
        "id": "pZcwFvwxFglW",
        "colab_type": "code",
        "outputId": "6f4995ab-4c6f-4dc5-917b-270a2b2e7e51",
        "colab": {
          "base_uri": "https://localhost:8080/",
          "height": 111
        }
      },
      "source": [
        "#adding attribute\n",
        "item_metadata['FClickoutToReferences'] = FClickoutToReferences\n",
        "item_metadata.head(2)"
      ],
      "execution_count": 0,
      "outputs": [
        {
          "output_type": "execute_result",
          "data": {
            "text/html": [
              "<div>\n",
              "<style scoped>\n",
              "    .dataframe tbody tr th:only-of-type {\n",
              "        vertical-align: middle;\n",
              "    }\n",
              "\n",
              "    .dataframe tbody tr th {\n",
              "        vertical-align: top;\n",
              "    }\n",
              "\n",
              "    .dataframe thead th {\n",
              "        text-align: right;\n",
              "    }\n",
              "</style>\n",
              "<table border=\"1\" class=\"dataframe\">\n",
              "  <thead>\n",
              "    <tr style=\"text-align: right;\">\n",
              "      <th></th>\n",
              "      <th>item_id</th>\n",
              "      <th>NumberOfProperties</th>\n",
              "      <th>NumberInImpressions</th>\n",
              "      <th>NumberInReferences</th>\n",
              "      <th>NumberAsFinalClickout</th>\n",
              "      <th>FClickoutToImpressions</th>\n",
              "      <th>FClickoutToReferences</th>\n",
              "    </tr>\n",
              "  </thead>\n",
              "  <tbody>\n",
              "    <tr>\n",
              "      <th>0</th>\n",
              "      <td>5101</td>\n",
              "      <td>62</td>\n",
              "      <td>68.0</td>\n",
              "      <td>9.0</td>\n",
              "      <td>2.0</td>\n",
              "      <td>0.029412</td>\n",
              "      <td>0.222222</td>\n",
              "    </tr>\n",
              "    <tr>\n",
              "      <th>1</th>\n",
              "      <td>5416</td>\n",
              "      <td>46</td>\n",
              "      <td>58.0</td>\n",
              "      <td>41.0</td>\n",
              "      <td>2.0</td>\n",
              "      <td>0.034483</td>\n",
              "      <td>0.048780</td>\n",
              "    </tr>\n",
              "  </tbody>\n",
              "</table>\n",
              "</div>"
            ],
            "text/plain": [
              "  item_id  NumberOfProperties  ...  FClickoutToImpressions  FClickoutToReferences\n",
              "0    5101                  62  ...                0.029412               0.222222\n",
              "1    5416                  46  ...                0.034483               0.048780\n",
              "\n",
              "[2 rows x 7 columns]"
            ]
          },
          "metadata": {
            "tags": []
          },
          "execution_count": 19
        }
      ]
    },
    {
      "cell_type": "markdown",
      "metadata": {
        "id": "ay5eOy6kFgla",
        "colab_type": "text"
      },
      "source": [
        "### Final Clickout To Clickout\n",
        "The purpose of this feature is to get item's rate of clickout when it was clicked out before."
      ]
    },
    {
      "cell_type": "code",
      "metadata": {
        "id": "heNu3JTCFglb",
        "colab_type": "code",
        "colab": {}
      },
      "source": [
        "FClickoutToClickout = item_metadata.NumberAsFinalClickout/item_metadata.NumberAsClickout\n",
        "FClickoutToClickout.head(2)"
      ],
      "execution_count": 0,
      "outputs": []
    },
    {
      "cell_type": "code",
      "metadata": {
        "id": "2eU8ik8aFgle",
        "colab_type": "code",
        "colab": {}
      },
      "source": [
        "#adding attribute\n",
        "item_metadata['FClickoutToClickout'] = FClickoutToClickout\n",
        "item_metadata.head(2)"
      ],
      "execution_count": 0,
      "outputs": []
    },
    {
      "cell_type": "markdown",
      "metadata": {
        "id": "Yh-EGsV-Fgln",
        "colab_type": "text"
      },
      "source": [
        "### Item's Average Rank\n",
        "The purpose of this feature is to get item's position in the list provided to the user across the train set.  \n",
        "Since the purpose is to get the average rank across the lists shown to users, an important notice which is that some sessions have different reference and click outs, which provides the same impression list. Duplicated impressions lists in each session should be dropped. (Same thing applies to price as well.)"
      ]
    },
    {
      "cell_type": "code",
      "metadata": {
        "id": "YmoIpqsrFglp",
        "colab_type": "code",
        "colab": {}
      },
      "source": [
        "# using All Clickout dataframe, but the one with the unique impressions for each session for this feature\n",
        "ClickoutUniqueDF.head(1)"
      ],
      "execution_count": 0,
      "outputs": []
    },
    {
      "cell_type": "code",
      "metadata": {
        "id": "IHEIpKxHTKZL",
        "colab_type": "code",
        "colab": {}
      },
      "source": [
        "SessionImpressionsDF = ClickoutUniqueDF[['session_id', 'impressions']]\n",
        "SessionImpressionsDF.impressions = SessionImpressionsDF.impressions.apply(lambda x: x.split('|'))\n",
        "SessionImpressionsDF.impressions.head(2)"
      ],
      "execution_count": 0,
      "outputs": []
    },
    {
      "cell_type": "code",
      "metadata": {
        "id": "bDpKw30nosmQ",
        "colab_type": "code",
        "colab": {}
      },
      "source": [
        "SessionImpressionsDF_exploded = SessionImpressionsDF.explode('impressions')\n",
        "SessionImpressionsDF_exploded = SessionImpressionsDF_exploded.rename(columns={'impressions':'item_id'})\n",
        "SessionImpressionsDF_exploded.head(2)"
      ],
      "execution_count": 0,
      "outputs": []
    },
    {
      "cell_type": "code",
      "metadata": {
        "id": "IZuqLq_5pUA_",
        "colab_type": "code",
        "colab": {}
      },
      "source": [
        "#creating a rank column\n",
        "rank = SessionImpressionsDF.impressions.apply(lambda x: list(range(1, (len(x) + 1))))\n",
        "SessionRankDF = pd.concat([SessionImpressionsDF.session_id, rank], axis=1)\n",
        "SessionRankDF = SessionRankDF.rename(columns={'impressions':'rank'})\n",
        "SessionRankDF_exploded = SessionRankDF.explode('rank')\n",
        "SessionRankDF_exploded.head(2)"
      ],
      "execution_count": 0,
      "outputs": []
    },
    {
      "cell_type": "code",
      "metadata": {
        "id": "Uynfac9SvYED",
        "colab_type": "code",
        "colab": {}
      },
      "source": [
        "#creating dataframe that combines both items and rank\n",
        "ItemRankDF = pd.DataFrame({'item_id':SessionImpressionsDF_exploded['item_id'].values.tolist(),\n",
        "                            'rank':SessionRankDF_exploded['rank'].values.tolist()})\n",
        "ItemRankDF.head(2)"
      ],
      "execution_count": 0,
      "outputs": []
    },
    {
      "cell_type": "code",
      "metadata": {
        "id": "YMxa1LwPt5Xz",
        "colab_type": "code",
        "colab": {}
      },
      "source": [
        "#getting the mean of ranks for each item\n",
        "ItemAverageRank = ItemRankDF.groupby('item_id', sort=False)['rank'].mean().to_frame().reset_index()\n",
        "ItemAverageRank = ItemAverageRank.rename(columns={'rank':'MeanRank'})\n",
        "ItemAverageRank.head(2)"
      ],
      "execution_count": 0,
      "outputs": []
    },
    {
      "cell_type": "code",
      "metadata": {
        "id": "bSAFmNwzq8TT",
        "colab_type": "code",
        "colab": {}
      },
      "source": [
        "#left joining\n",
        "item_metadata = item_metadata.merge(ItemAverageRank, on='item_id', how='left')\n",
        "item_metadata.head(2)"
      ],
      "execution_count": 0,
      "outputs": []
    },
    {
      "cell_type": "markdown",
      "metadata": {
        "id": "YnQxWbO_FgmH",
        "colab_type": "text"
      },
      "source": [
        "### Item's Average Price\n",
        "The purpose of this feature is to get item's average price accross the train set.  \n",
        "Making sure that the length of each impressions list is as the same length of the prices list."
      ]
    },
    {
      "cell_type": "code",
      "metadata": {
        "id": "sGvOT_bVutyK",
        "colab_type": "code",
        "colab": {}
      },
      "source": [
        "ImpressionsLength = ClickoutUniqueDF.impressions.apply(lambda x: x.split('|')).apply(lambda x: len(x))\n",
        "PricesLength = ClickoutUniqueDF.prices.apply(lambda x: x.split('|')).apply(lambda x: len(x))\n",
        "ImpressionsLength.equals(PricesLength)"
      ],
      "execution_count": 0,
      "outputs": []
    },
    {
      "cell_type": "code",
      "metadata": {
        "id": "M2lacun2FgmJ",
        "colab_type": "code",
        "colab": {}
      },
      "source": [
        "SessionPricesDF = ClickoutUniqueDF[['session_id', 'prices']]\n",
        "SessionPricesDF.prices = SessionPricesDF.prices.apply(lambda x: x.split('|'))\n",
        "SessionPricesDF_exploded = SessionPricesDF.explode('prices')\n",
        "ItemPriceDF = pd.DataFrame({'item_id':SessionImpressionsDF_exploded.item_id.values.tolist(),\n",
        "                            'price':SessionPricesDF_exploded.prices.values.tolist()})\n",
        "ItemPriceDF.head(2)"
      ],
      "execution_count": 0,
      "outputs": []
    },
    {
      "cell_type": "code",
      "metadata": {
        "id": "MNE730GV7jFJ",
        "colab_type": "code",
        "colab": {}
      },
      "source": [
        "ItemPriceDF.price = ItemPriceDF.price.apply(lambda x: int(x))\n",
        "ItemAveragePriceDF = ItemPriceDF.groupby('item_id', sort=False)['price'].mean().to_frame().reset_index()\n",
        "ItemAveragePriceDF = ItemAveragePriceDF.rename(columns={'price':'MeanPrice'})\n",
        "ItemAveragePriceDF.head(2)"
      ],
      "execution_count": 0,
      "outputs": []
    },
    {
      "cell_type": "code",
      "metadata": {
        "id": "fN4Heb10r7mU",
        "colab_type": "code",
        "outputId": "2dea6594-2fd3-429e-bc09-2502b812f5d2",
        "colab": {
          "base_uri": "https://localhost:8080/",
          "height": 131
        }
      },
      "source": [
        "item_metadata = item_metadata.merge(ItemAveragePriceDF, on='item_id', how='left')\n",
        "item_metadata.head(2)"
      ],
      "execution_count": 0,
      "outputs": [
        {
          "output_type": "execute_result",
          "data": {
            "text/html": [
              "<div>\n",
              "<style scoped>\n",
              "    .dataframe tbody tr th:only-of-type {\n",
              "        vertical-align: middle;\n",
              "    }\n",
              "\n",
              "    .dataframe tbody tr th {\n",
              "        vertical-align: top;\n",
              "    }\n",
              "\n",
              "    .dataframe thead th {\n",
              "        text-align: right;\n",
              "    }\n",
              "</style>\n",
              "<table border=\"1\" class=\"dataframe\">\n",
              "  <thead>\n",
              "    <tr style=\"text-align: right;\">\n",
              "      <th></th>\n",
              "      <th>item_id</th>\n",
              "      <th>NumberOfProperties</th>\n",
              "      <th>NumberInImpressions</th>\n",
              "      <th>NumberInReferences</th>\n",
              "      <th>NumberAsClickout</th>\n",
              "      <th>NumberAsFinalClickout</th>\n",
              "      <th>FClickoutToImpressions</th>\n",
              "      <th>FClickoutToReferences</th>\n",
              "      <th>FClickoutToClickout</th>\n",
              "      <th>MeanRank</th>\n",
              "      <th>MeanPrice</th>\n",
              "    </tr>\n",
              "  </thead>\n",
              "  <tbody>\n",
              "    <tr>\n",
              "      <th>0</th>\n",
              "      <td>5101</td>\n",
              "      <td>62</td>\n",
              "      <td>68.0</td>\n",
              "      <td>9.0</td>\n",
              "      <td>4.0</td>\n",
              "      <td>2.0</td>\n",
              "      <td>0.029412</td>\n",
              "      <td>0.222222</td>\n",
              "      <td>0.500000</td>\n",
              "      <td>13.235294</td>\n",
              "      <td>121.617647</td>\n",
              "    </tr>\n",
              "    <tr>\n",
              "      <th>1</th>\n",
              "      <td>5416</td>\n",
              "      <td>46</td>\n",
              "      <td>58.0</td>\n",
              "      <td>41.0</td>\n",
              "      <td>6.0</td>\n",
              "      <td>2.0</td>\n",
              "      <td>0.034483</td>\n",
              "      <td>0.048780</td>\n",
              "      <td>0.333333</td>\n",
              "      <td>10.431034</td>\n",
              "      <td>102.913793</td>\n",
              "    </tr>\n",
              "  </tbody>\n",
              "</table>\n",
              "</div>"
            ],
            "text/plain": [
              "  item_id  NumberOfProperties  ...   MeanRank   MeanPrice\n",
              "0    5101                  62  ...  13.235294  121.617647\n",
              "1    5416                  46  ...  10.431034  102.913793\n",
              "\n",
              "[2 rows x 11 columns]"
            ]
          },
          "metadata": {
            "tags": []
          },
          "execution_count": 38
        }
      ]
    },
    {
      "cell_type": "markdown",
      "metadata": {
        "id": "-hej7ZoXFY9c",
        "colab_type": "text"
      },
      "source": [
        "### Item's Maximum Price"
      ]
    },
    {
      "cell_type": "code",
      "metadata": {
        "id": "gVuwak6lFfnA",
        "colab_type": "code",
        "outputId": "38adec3f-df51-4786-bffc-50345117646e",
        "colab": {
          "base_uri": "https://localhost:8080/",
          "height": 111
        }
      },
      "source": [
        "ItemMaximumPriceDF = ItemPriceDF.groupby('item_id', sort=False)['price'].max().to_frame().reset_index()\n",
        "ItemMaximumPriceDF = ItemMaximumPriceDF.rename(columns={'price':'MaxPrice'})\n",
        "ItemMaximumPriceDF.head(2)"
      ],
      "execution_count": 0,
      "outputs": [
        {
          "output_type": "execute_result",
          "data": {
            "text/html": [
              "<div>\n",
              "<style scoped>\n",
              "    .dataframe tbody tr th:only-of-type {\n",
              "        vertical-align: middle;\n",
              "    }\n",
              "\n",
              "    .dataframe tbody tr th {\n",
              "        vertical-align: top;\n",
              "    }\n",
              "\n",
              "    .dataframe thead th {\n",
              "        text-align: right;\n",
              "    }\n",
              "</style>\n",
              "<table border=\"1\" class=\"dataframe\">\n",
              "  <thead>\n",
              "    <tr style=\"text-align: right;\">\n",
              "      <th></th>\n",
              "      <th>item_id</th>\n",
              "      <th>MaxPrice</th>\n",
              "    </tr>\n",
              "  </thead>\n",
              "  <tbody>\n",
              "    <tr>\n",
              "      <th>0</th>\n",
              "      <td>3400638</td>\n",
              "      <td>2523</td>\n",
              "    </tr>\n",
              "    <tr>\n",
              "      <th>1</th>\n",
              "      <td>1253714</td>\n",
              "      <td>248</td>\n",
              "    </tr>\n",
              "  </tbody>\n",
              "</table>\n",
              "</div>"
            ],
            "text/plain": [
              "   item_id  MaxPrice\n",
              "0  3400638      2523\n",
              "1  1253714       248"
            ]
          },
          "metadata": {
            "tags": []
          },
          "execution_count": 39
        }
      ]
    },
    {
      "cell_type": "code",
      "metadata": {
        "id": "2_VVMBuRGHW6",
        "colab_type": "code",
        "outputId": "c2b3dc79-0fc1-4804-8599-4fa0f2ee3c4d",
        "colab": {
          "base_uri": "https://localhost:8080/",
          "height": 131
        }
      },
      "source": [
        "#left joining\n",
        "item_metadata = item_metadata.merge(ItemMaximumPriceDF, on='item_id', how='left')\n",
        "item_metadata.head(2)"
      ],
      "execution_count": 0,
      "outputs": [
        {
          "output_type": "execute_result",
          "data": {
            "text/html": [
              "<div>\n",
              "<style scoped>\n",
              "    .dataframe tbody tr th:only-of-type {\n",
              "        vertical-align: middle;\n",
              "    }\n",
              "\n",
              "    .dataframe tbody tr th {\n",
              "        vertical-align: top;\n",
              "    }\n",
              "\n",
              "    .dataframe thead th {\n",
              "        text-align: right;\n",
              "    }\n",
              "</style>\n",
              "<table border=\"1\" class=\"dataframe\">\n",
              "  <thead>\n",
              "    <tr style=\"text-align: right;\">\n",
              "      <th></th>\n",
              "      <th>item_id</th>\n",
              "      <th>NumberOfProperties</th>\n",
              "      <th>NumberInImpressions</th>\n",
              "      <th>NumberInReferences</th>\n",
              "      <th>NumberAsClickout</th>\n",
              "      <th>NumberAsFinalClickout</th>\n",
              "      <th>FClickoutToImpressions</th>\n",
              "      <th>FClickoutToReferences</th>\n",
              "      <th>FClickoutToClickout</th>\n",
              "      <th>MeanRank</th>\n",
              "      <th>MeanPrice</th>\n",
              "      <th>MaxPrice</th>\n",
              "    </tr>\n",
              "  </thead>\n",
              "  <tbody>\n",
              "    <tr>\n",
              "      <th>0</th>\n",
              "      <td>5101</td>\n",
              "      <td>62</td>\n",
              "      <td>68.0</td>\n",
              "      <td>9.0</td>\n",
              "      <td>4.0</td>\n",
              "      <td>2.0</td>\n",
              "      <td>0.029412</td>\n",
              "      <td>0.222222</td>\n",
              "      <td>0.500000</td>\n",
              "      <td>13.235294</td>\n",
              "      <td>121.617647</td>\n",
              "      <td>241.0</td>\n",
              "    </tr>\n",
              "    <tr>\n",
              "      <th>1</th>\n",
              "      <td>5416</td>\n",
              "      <td>46</td>\n",
              "      <td>58.0</td>\n",
              "      <td>41.0</td>\n",
              "      <td>6.0</td>\n",
              "      <td>2.0</td>\n",
              "      <td>0.034483</td>\n",
              "      <td>0.048780</td>\n",
              "      <td>0.333333</td>\n",
              "      <td>10.431034</td>\n",
              "      <td>102.913793</td>\n",
              "      <td>270.0</td>\n",
              "    </tr>\n",
              "  </tbody>\n",
              "</table>\n",
              "</div>"
            ],
            "text/plain": [
              "  item_id  NumberOfProperties  ...   MeanPrice  MaxPrice\n",
              "0    5101                  62  ...  121.617647     241.0\n",
              "1    5416                  46  ...  102.913793     270.0\n",
              "\n",
              "[2 rows x 12 columns]"
            ]
          },
          "metadata": {
            "tags": []
          },
          "execution_count": 40
        }
      ]
    },
    {
      "cell_type": "markdown",
      "metadata": {
        "id": "7r1ySxGRF7gS",
        "colab_type": "text"
      },
      "source": [
        "### Item's Minimum Price"
      ]
    },
    {
      "cell_type": "code",
      "metadata": {
        "id": "ztqmLL9NF_KC",
        "colab_type": "code",
        "outputId": "ed16d921-50e5-4e7f-ef35-6faca0014b10",
        "colab": {
          "base_uri": "https://localhost:8080/",
          "height": 111
        }
      },
      "source": [
        "ItemMinimumPriceDF = ItemPriceDF.groupby('item_id', sort=False)['price'].min().to_frame().reset_index()\n",
        "ItemMinimumPriceDF = ItemMinimumPriceDF.rename(columns={'price':'MinPrice'})\n",
        "ItemMinimumPriceDF.head(2)"
      ],
      "execution_count": 0,
      "outputs": [
        {
          "output_type": "execute_result",
          "data": {
            "text/html": [
              "<div>\n",
              "<style scoped>\n",
              "    .dataframe tbody tr th:only-of-type {\n",
              "        vertical-align: middle;\n",
              "    }\n",
              "\n",
              "    .dataframe tbody tr th {\n",
              "        vertical-align: top;\n",
              "    }\n",
              "\n",
              "    .dataframe thead th {\n",
              "        text-align: right;\n",
              "    }\n",
              "</style>\n",
              "<table border=\"1\" class=\"dataframe\">\n",
              "  <thead>\n",
              "    <tr style=\"text-align: right;\">\n",
              "      <th></th>\n",
              "      <th>item_id</th>\n",
              "      <th>MinPrice</th>\n",
              "    </tr>\n",
              "  </thead>\n",
              "  <tbody>\n",
              "    <tr>\n",
              "      <th>0</th>\n",
              "      <td>3400638</td>\n",
              "      <td>68</td>\n",
              "    </tr>\n",
              "    <tr>\n",
              "      <th>1</th>\n",
              "      <td>1253714</td>\n",
              "      <td>50</td>\n",
              "    </tr>\n",
              "  </tbody>\n",
              "</table>\n",
              "</div>"
            ],
            "text/plain": [
              "   item_id  MinPrice\n",
              "0  3400638        68\n",
              "1  1253714        50"
            ]
          },
          "metadata": {
            "tags": []
          },
          "execution_count": 41
        }
      ]
    },
    {
      "cell_type": "code",
      "metadata": {
        "id": "ADr72YESGUmO",
        "colab_type": "code",
        "outputId": "c0b6cfb2-37ba-4633-dda9-8a7f9a68714f",
        "colab": {
          "base_uri": "https://localhost:8080/",
          "height": 131
        }
      },
      "source": [
        "#left joining\n",
        "item_metadata = item_metadata.merge(ItemMinimumPriceDF, on='item_id', how='left')\n",
        "item_metadata.head(2)"
      ],
      "execution_count": 0,
      "outputs": [
        {
          "output_type": "execute_result",
          "data": {
            "text/html": [
              "<div>\n",
              "<style scoped>\n",
              "    .dataframe tbody tr th:only-of-type {\n",
              "        vertical-align: middle;\n",
              "    }\n",
              "\n",
              "    .dataframe tbody tr th {\n",
              "        vertical-align: top;\n",
              "    }\n",
              "\n",
              "    .dataframe thead th {\n",
              "        text-align: right;\n",
              "    }\n",
              "</style>\n",
              "<table border=\"1\" class=\"dataframe\">\n",
              "  <thead>\n",
              "    <tr style=\"text-align: right;\">\n",
              "      <th></th>\n",
              "      <th>item_id</th>\n",
              "      <th>NumberOfProperties</th>\n",
              "      <th>NumberInImpressions</th>\n",
              "      <th>NumberInReferences</th>\n",
              "      <th>NumberAsClickout</th>\n",
              "      <th>NumberAsFinalClickout</th>\n",
              "      <th>FClickoutToImpressions</th>\n",
              "      <th>FClickoutToReferences</th>\n",
              "      <th>FClickoutToClickout</th>\n",
              "      <th>MeanRank</th>\n",
              "      <th>MeanPrice</th>\n",
              "      <th>MaxPrice</th>\n",
              "      <th>MinPrice</th>\n",
              "    </tr>\n",
              "  </thead>\n",
              "  <tbody>\n",
              "    <tr>\n",
              "      <th>0</th>\n",
              "      <td>5101</td>\n",
              "      <td>62</td>\n",
              "      <td>68.0</td>\n",
              "      <td>9.0</td>\n",
              "      <td>4.0</td>\n",
              "      <td>2.0</td>\n",
              "      <td>0.029412</td>\n",
              "      <td>0.222222</td>\n",
              "      <td>0.500000</td>\n",
              "      <td>13.235294</td>\n",
              "      <td>121.617647</td>\n",
              "      <td>241.0</td>\n",
              "      <td>64.0</td>\n",
              "    </tr>\n",
              "    <tr>\n",
              "      <th>1</th>\n",
              "      <td>5416</td>\n",
              "      <td>46</td>\n",
              "      <td>58.0</td>\n",
              "      <td>41.0</td>\n",
              "      <td>6.0</td>\n",
              "      <td>2.0</td>\n",
              "      <td>0.034483</td>\n",
              "      <td>0.048780</td>\n",
              "      <td>0.333333</td>\n",
              "      <td>10.431034</td>\n",
              "      <td>102.913793</td>\n",
              "      <td>270.0</td>\n",
              "      <td>59.0</td>\n",
              "    </tr>\n",
              "  </tbody>\n",
              "</table>\n",
              "</div>"
            ],
            "text/plain": [
              "  item_id  NumberOfProperties  ...  MaxPrice  MinPrice\n",
              "0    5101                  62  ...     241.0      64.0\n",
              "1    5416                  46  ...     270.0      59.0\n",
              "\n",
              "[2 rows x 13 columns]"
            ]
          },
          "metadata": {
            "tags": []
          },
          "execution_count": 42
        }
      ]
    },
    {
      "cell_type": "markdown",
      "metadata": {
        "id": "yh3IoM-F9ajs",
        "colab_type": "text"
      },
      "source": [
        "### Price Rank\n",
        "The purpose of this feature is to get the average price rank of an item across the train set. Sorting the items not by what is being showed to the user, but by the items' prices, getting the average price rank for each item across the whole train. It shows where an item stands from its peers.  \n",
        "By using the argsort function, the price rank can be feature can be engineered."
      ]
    },
    {
      "cell_type": "code",
      "metadata": {
        "id": "DHCRq7taR5NL",
        "colab_type": "code",
        "outputId": "ce1d7a20-8d1f-44af-b371-0db6d8f7e527",
        "colab": {
          "base_uri": "https://localhost:8080/",
          "height": 35
        }
      },
      "source": [
        "ClickoutDF.prices[13]"
      ],
      "execution_count": 0,
      "outputs": [
        {
          "output_type": "execute_result",
          "data": {
            "text/plain": [
              "'95|66|501|112|95|100|101|72|82|56|56|143|70|25|71|162|73|143|188|118|77|131|143|49|165'"
            ]
          },
          "metadata": {
            "tags": []
          },
          "execution_count": 40
        }
      ]
    },
    {
      "cell_type": "code",
      "metadata": {
        "id": "ooGKQokEQou7",
        "colab_type": "code",
        "outputId": "cc232cf5-1600-4cef-e4e5-34fdf65dce10",
        "colab": {
          "base_uri": "https://localhost:8080/",
          "height": 54
        }
      },
      "source": [
        "np.argsort(list(map(int, ClickoutDF.prices[13].split('|'))))"
      ],
      "execution_count": 0,
      "outputs": [
        {
          "output_type": "execute_result",
          "data": {
            "text/plain": [
              "array([13, 23,  9, 10,  1, 12, 14,  7, 16, 20,  8,  0,  4,  5,  6,  3, 19,\n",
              "       21, 17, 22, 11, 15, 24, 18,  2])"
            ]
          },
          "metadata": {
            "tags": []
          },
          "execution_count": 41
        }
      ]
    },
    {
      "cell_type": "code",
      "metadata": {
        "id": "QEELRtTeR97r",
        "colab_type": "code",
        "outputId": "64dcc27f-3d48-43ec-a2c8-ca3879ad26c9",
        "colab": {
          "base_uri": "https://localhost:8080/",
          "height": 213
        }
      },
      "source": [
        "SessionPricesDF['PriceRank'] = SessionPricesDF.prices.apply(lambda x: (list(map(int, x))))\\\n",
        "                                                     .apply(lambda x: np.argsort(x))\n",
        "SessionPricesDF.head(2)"
      ],
      "execution_count": 0,
      "outputs": [
        {
          "output_type": "stream",
          "text": [
            "/usr/local/lib/python3.6/dist-packages/ipykernel_launcher.py:1: SettingWithCopyWarning: \n",
            "A value is trying to be set on a copy of a slice from a DataFrame.\n",
            "Try using .loc[row_indexer,col_indexer] = value instead\n",
            "\n",
            "See the caveats in the documentation: http://pandas.pydata.org/pandas-docs/stable/user_guide/indexing.html#returning-a-view-versus-a-copy\n",
            "  \"\"\"Entry point for launching an IPython kernel.\n"
          ],
          "name": "stderr"
        },
        {
          "output_type": "execute_result",
          "data": {
            "text/html": [
              "<div>\n",
              "<style scoped>\n",
              "    .dataframe tbody tr th:only-of-type {\n",
              "        vertical-align: middle;\n",
              "    }\n",
              "\n",
              "    .dataframe tbody tr th {\n",
              "        vertical-align: top;\n",
              "    }\n",
              "\n",
              "    .dataframe thead th {\n",
              "        text-align: right;\n",
              "    }\n",
              "</style>\n",
              "<table border=\"1\" class=\"dataframe\">\n",
              "  <thead>\n",
              "    <tr style=\"text-align: right;\">\n",
              "      <th></th>\n",
              "      <th>session_id</th>\n",
              "      <th>prices</th>\n",
              "      <th>PriceRank</th>\n",
              "    </tr>\n",
              "  </thead>\n",
              "  <tbody>\n",
              "    <tr>\n",
              "      <th>13</th>\n",
              "      <td>aff3928535f48</td>\n",
              "      <td>[95, 66, 501, 112, 95, 100, 101, 72, 82, 56, 5...</td>\n",
              "      <td>[13, 23, 9, 10, 1, 12, 14, 7, 16, 20, 8, 0, 4,...</td>\n",
              "    </tr>\n",
              "    <tr>\n",
              "      <th>15</th>\n",
              "      <td>aff3928535f48</td>\n",
              "      <td>[162, 25, 150, 143, 101, 49, 118, 131, 18, 100...</td>\n",
              "      <td>[8, 1, 15, 5, 12, 16, 20, 9, 4, 10, 23, 24, 6,...</td>\n",
              "    </tr>\n",
              "  </tbody>\n",
              "</table>\n",
              "</div>"
            ],
            "text/plain": [
              "       session_id  ...                                          PriceRank\n",
              "13  aff3928535f48  ...  [13, 23, 9, 10, 1, 12, 14, 7, 16, 20, 8, 0, 4,...\n",
              "15  aff3928535f48  ...  [8, 1, 15, 5, 12, 16, 20, 9, 4, 10, 23, 24, 6,...\n",
              "\n",
              "[2 rows x 3 columns]"
            ]
          },
          "metadata": {
            "tags": []
          },
          "execution_count": 43
        }
      ]
    },
    {
      "cell_type": "code",
      "metadata": {
        "id": "6n1xgaMeUQAd",
        "colab_type": "code",
        "outputId": "fe77e4af-12e1-46a7-d1c6-f2c721dff06f",
        "colab": {
          "base_uri": "https://localhost:8080/",
          "height": 111
        }
      },
      "source": [
        "SessionPricesRankDF = SessionPricesDF[['session_id', 'PriceRank']].explode('PriceRank')\n",
        "SessionPricesRankDF.head(2)"
      ],
      "execution_count": 0,
      "outputs": [
        {
          "output_type": "execute_result",
          "data": {
            "text/html": [
              "<div>\n",
              "<style scoped>\n",
              "    .dataframe tbody tr th:only-of-type {\n",
              "        vertical-align: middle;\n",
              "    }\n",
              "\n",
              "    .dataframe tbody tr th {\n",
              "        vertical-align: top;\n",
              "    }\n",
              "\n",
              "    .dataframe thead th {\n",
              "        text-align: right;\n",
              "    }\n",
              "</style>\n",
              "<table border=\"1\" class=\"dataframe\">\n",
              "  <thead>\n",
              "    <tr style=\"text-align: right;\">\n",
              "      <th></th>\n",
              "      <th>session_id</th>\n",
              "      <th>PriceRank</th>\n",
              "    </tr>\n",
              "  </thead>\n",
              "  <tbody>\n",
              "    <tr>\n",
              "      <th>13</th>\n",
              "      <td>aff3928535f48</td>\n",
              "      <td>13</td>\n",
              "    </tr>\n",
              "    <tr>\n",
              "      <th>13</th>\n",
              "      <td>aff3928535f48</td>\n",
              "      <td>23</td>\n",
              "    </tr>\n",
              "  </tbody>\n",
              "</table>\n",
              "</div>"
            ],
            "text/plain": [
              "       session_id PriceRank\n",
              "13  aff3928535f48        13\n",
              "13  aff3928535f48        23"
            ]
          },
          "metadata": {
            "tags": []
          },
          "execution_count": 44
        }
      ]
    },
    {
      "cell_type": "code",
      "metadata": {
        "id": "B0LmDwFUV-g-",
        "colab_type": "code",
        "outputId": "63859a00-3069-4df7-b815-c283609d4af3",
        "colab": {
          "base_uri": "https://localhost:8080/",
          "height": 111
        }
      },
      "source": [
        "ItemPriceRankDF = pd.DataFrame({'item_id':SessionImpressionsDF_exploded.item_id.values.tolist(),\n",
        "                            'PriceRank':SessionPricesRankDF.PriceRank.values.tolist()})\n",
        "ItemPriceRankDF.head(2)"
      ],
      "execution_count": 0,
      "outputs": [
        {
          "output_type": "execute_result",
          "data": {
            "text/html": [
              "<div>\n",
              "<style scoped>\n",
              "    .dataframe tbody tr th:only-of-type {\n",
              "        vertical-align: middle;\n",
              "    }\n",
              "\n",
              "    .dataframe tbody tr th {\n",
              "        vertical-align: top;\n",
              "    }\n",
              "\n",
              "    .dataframe thead th {\n",
              "        text-align: right;\n",
              "    }\n",
              "</style>\n",
              "<table border=\"1\" class=\"dataframe\">\n",
              "  <thead>\n",
              "    <tr style=\"text-align: right;\">\n",
              "      <th></th>\n",
              "      <th>item_id</th>\n",
              "      <th>PriceRank</th>\n",
              "    </tr>\n",
              "  </thead>\n",
              "  <tbody>\n",
              "    <tr>\n",
              "      <th>0</th>\n",
              "      <td>3400638</td>\n",
              "      <td>13</td>\n",
              "    </tr>\n",
              "    <tr>\n",
              "      <th>1</th>\n",
              "      <td>1253714</td>\n",
              "      <td>23</td>\n",
              "    </tr>\n",
              "  </tbody>\n",
              "</table>\n",
              "</div>"
            ],
            "text/plain": [
              "   item_id  PriceRank\n",
              "0  3400638         13\n",
              "1  1253714         23"
            ]
          },
          "metadata": {
            "tags": []
          },
          "execution_count": 45
        }
      ]
    },
    {
      "cell_type": "code",
      "metadata": {
        "id": "O-K_oWItNq7u",
        "colab_type": "code",
        "outputId": "5e7a2efd-1322-4702-df12-e1a88152a2e4",
        "colab": {
          "base_uri": "https://localhost:8080/",
          "height": 111
        }
      },
      "source": [
        "#getting the average price rank of each item\n",
        "ItemAveragePriceRankDF = ItemPriceRankDF.groupby('item_id', sort=False).PriceRank.mean().to_frame().reset_index()\n",
        "ItemAveragePriceRankDF = ItemAveragePriceRankDF.rename(columns={'PriceRank':'AveragePriceRank'})\n",
        "ItemAveragePriceRankDF.head(2)"
      ],
      "execution_count": 0,
      "outputs": [
        {
          "output_type": "execute_result",
          "data": {
            "text/html": [
              "<div>\n",
              "<style scoped>\n",
              "    .dataframe tbody tr th:only-of-type {\n",
              "        vertical-align: middle;\n",
              "    }\n",
              "\n",
              "    .dataframe tbody tr th {\n",
              "        vertical-align: top;\n",
              "    }\n",
              "\n",
              "    .dataframe thead th {\n",
              "        text-align: right;\n",
              "    }\n",
              "</style>\n",
              "<table border=\"1\" class=\"dataframe\">\n",
              "  <thead>\n",
              "    <tr style=\"text-align: right;\">\n",
              "      <th></th>\n",
              "      <th>item_id</th>\n",
              "      <th>AveragePriceRank</th>\n",
              "    </tr>\n",
              "  </thead>\n",
              "  <tbody>\n",
              "    <tr>\n",
              "      <th>0</th>\n",
              "      <td>3400638</td>\n",
              "      <td>11.901015</td>\n",
              "    </tr>\n",
              "    <tr>\n",
              "      <th>1</th>\n",
              "      <td>1253714</td>\n",
              "      <td>10.770270</td>\n",
              "    </tr>\n",
              "  </tbody>\n",
              "</table>\n",
              "</div>"
            ],
            "text/plain": [
              "   item_id  AveragePriceRank\n",
              "0  3400638         11.901015\n",
              "1  1253714         10.770270"
            ]
          },
          "metadata": {
            "tags": []
          },
          "execution_count": 46
        }
      ]
    },
    {
      "cell_type": "code",
      "metadata": {
        "id": "Z5NotIQJtPsn",
        "colab_type": "code",
        "outputId": "d9244137-9fcc-4c02-a7fa-c96b9f9f3bb1",
        "colab": {
          "base_uri": "https://localhost:8080/",
          "height": 131
        }
      },
      "source": [
        "# left joining\n",
        "item_metadata = item_metadata.merge(ItemAveragePriceRankDF, on='item_id', how='left')\n",
        "item_metadata.head(2)"
      ],
      "execution_count": 0,
      "outputs": [
        {
          "output_type": "execute_result",
          "data": {
            "text/html": [
              "<div>\n",
              "<style scoped>\n",
              "    .dataframe tbody tr th:only-of-type {\n",
              "        vertical-align: middle;\n",
              "    }\n",
              "\n",
              "    .dataframe tbody tr th {\n",
              "        vertical-align: top;\n",
              "    }\n",
              "\n",
              "    .dataframe thead th {\n",
              "        text-align: right;\n",
              "    }\n",
              "</style>\n",
              "<table border=\"1\" class=\"dataframe\">\n",
              "  <thead>\n",
              "    <tr style=\"text-align: right;\">\n",
              "      <th></th>\n",
              "      <th>item_id</th>\n",
              "      <th>NumberOfProperties</th>\n",
              "      <th>NumberInImpressions</th>\n",
              "      <th>NumberInReferences</th>\n",
              "      <th>NumberAsClickout</th>\n",
              "      <th>NumberAsFinalClickout</th>\n",
              "      <th>FClickoutToImpressions</th>\n",
              "      <th>FClickoutToReferences</th>\n",
              "      <th>FClickoutToClickout</th>\n",
              "      <th>MeanRank</th>\n",
              "      <th>MeanPrice</th>\n",
              "      <th>MaxPrice</th>\n",
              "      <th>MinPrice</th>\n",
              "      <th>AveragePriceRank</th>\n",
              "    </tr>\n",
              "  </thead>\n",
              "  <tbody>\n",
              "    <tr>\n",
              "      <th>0</th>\n",
              "      <td>5101</td>\n",
              "      <td>62</td>\n",
              "      <td>68.0</td>\n",
              "      <td>9.0</td>\n",
              "      <td>4.0</td>\n",
              "      <td>2.0</td>\n",
              "      <td>0.029412</td>\n",
              "      <td>0.222222</td>\n",
              "      <td>0.500000</td>\n",
              "      <td>13.235294</td>\n",
              "      <td>121.617647</td>\n",
              "      <td>241.0</td>\n",
              "      <td>64.0</td>\n",
              "      <td>12.985294</td>\n",
              "    </tr>\n",
              "    <tr>\n",
              "      <th>1</th>\n",
              "      <td>5416</td>\n",
              "      <td>46</td>\n",
              "      <td>58.0</td>\n",
              "      <td>41.0</td>\n",
              "      <td>6.0</td>\n",
              "      <td>2.0</td>\n",
              "      <td>0.034483</td>\n",
              "      <td>0.048780</td>\n",
              "      <td>0.333333</td>\n",
              "      <td>10.431034</td>\n",
              "      <td>102.913793</td>\n",
              "      <td>270.0</td>\n",
              "      <td>59.0</td>\n",
              "      <td>11.327586</td>\n",
              "    </tr>\n",
              "  </tbody>\n",
              "</table>\n",
              "</div>"
            ],
            "text/plain": [
              "  item_id  NumberOfProperties  ...  MinPrice  AveragePriceRank\n",
              "0    5101                  62  ...      64.0         12.985294\n",
              "1    5416                  46  ...      59.0         11.327586\n",
              "\n",
              "[2 rows x 14 columns]"
            ]
          },
          "metadata": {
            "tags": []
          },
          "execution_count": 47
        }
      ]
    },
    {
      "cell_type": "code",
      "metadata": {
        "id": "8BnMPJ-pwdbZ",
        "colab_type": "code",
        "outputId": "a65d4e70-d656-4c30-cdd9-b893d8f326be",
        "colab": {
          "base_uri": "https://localhost:8080/",
          "height": 211
        }
      },
      "source": [
        "#filling NaN values with zeros\n",
        "item_metadata = item_metadata.fillna(0)\n",
        "\n",
        "GlobalItemFeatures = item_metadata.merge(properties_encodedDF, on='item_id', how='left')\n",
        "GlobalItemFeatures.head(2)"
      ],
      "execution_count": 0,
      "outputs": [
        {
          "output_type": "execute_result",
          "data": {
            "text/html": [
              "<div>\n",
              "<style scoped>\n",
              "    .dataframe tbody tr th:only-of-type {\n",
              "        vertical-align: middle;\n",
              "    }\n",
              "\n",
              "    .dataframe tbody tr th {\n",
              "        vertical-align: top;\n",
              "    }\n",
              "\n",
              "    .dataframe thead th {\n",
              "        text-align: right;\n",
              "    }\n",
              "</style>\n",
              "<table border=\"1\" class=\"dataframe\">\n",
              "  <thead>\n",
              "    <tr style=\"text-align: right;\">\n",
              "      <th></th>\n",
              "      <th>item_id</th>\n",
              "      <th>NumberOfProperties</th>\n",
              "      <th>NumberInImpressions</th>\n",
              "      <th>NumberInReferences</th>\n",
              "      <th>NumberAsClickout</th>\n",
              "      <th>NumberAsFinalClickout</th>\n",
              "      <th>FClickoutToImpressions</th>\n",
              "      <th>FClickoutToReferences</th>\n",
              "      <th>FClickoutToClickout</th>\n",
              "      <th>MeanRank</th>\n",
              "      <th>MeanPrice</th>\n",
              "      <th>MaxPrice</th>\n",
              "      <th>MinPrice</th>\n",
              "      <th>AveragePriceRank</th>\n",
              "      <th>1 Star</th>\n",
              "      <th>2 Star</th>\n",
              "      <th>3 Star</th>\n",
              "      <th>4 Star</th>\n",
              "      <th>5 Star</th>\n",
              "      <th>Accessible Hotel</th>\n",
              "      <th>Accessible Parking</th>\n",
              "      <th>Adults Only</th>\n",
              "      <th>Air Conditioning</th>\n",
              "      <th>Airport Hotel</th>\n",
              "      <th>Airport Shuttle</th>\n",
              "      <th>All Inclusive (Upon Inquiry)</th>\n",
              "      <th>Balcony</th>\n",
              "      <th>Bathtub</th>\n",
              "      <th>Beach</th>\n",
              "      <th>Beach Bar</th>\n",
              "      <th>Beauty Salon</th>\n",
              "      <th>Bed &amp; Breakfast</th>\n",
              "      <th>Bike Rental</th>\n",
              "      <th>Boat Rental</th>\n",
              "      <th>Body Treatments</th>\n",
              "      <th>Boutique Hotel</th>\n",
              "      <th>Bowling</th>\n",
              "      <th>Bungalows</th>\n",
              "      <th>Business Centre</th>\n",
              "      <th>Business Hotel</th>\n",
              "      <th>...</th>\n",
              "      <th>Sailing</th>\n",
              "      <th>Satellite TV</th>\n",
              "      <th>Satisfactory Rating</th>\n",
              "      <th>Sauna</th>\n",
              "      <th>Self Catering</th>\n",
              "      <th>Senior Travellers</th>\n",
              "      <th>Serviced Apartment</th>\n",
              "      <th>Shooting Sports</th>\n",
              "      <th>Shower</th>\n",
              "      <th>Singles</th>\n",
              "      <th>Sitting Area (Rooms)</th>\n",
              "      <th>Ski Resort</th>\n",
              "      <th>Skiing</th>\n",
              "      <th>Solarium</th>\n",
              "      <th>Spa (Wellness Facility)</th>\n",
              "      <th>Spa Hotel</th>\n",
              "      <th>Steam Room</th>\n",
              "      <th>Sun Umbrellas</th>\n",
              "      <th>Surfing</th>\n",
              "      <th>Swimming Pool (Bar)</th>\n",
              "      <th>Swimming Pool (Combined Filter)</th>\n",
              "      <th>Swimming Pool (Indoor)</th>\n",
              "      <th>Swimming Pool (Outdoor)</th>\n",
              "      <th>Szep Kartya</th>\n",
              "      <th>Table Tennis</th>\n",
              "      <th>Telephone</th>\n",
              "      <th>Teleprinter</th>\n",
              "      <th>Television</th>\n",
              "      <th>Tennis Court</th>\n",
              "      <th>Tennis Court (Indoor)</th>\n",
              "      <th>Terrace (Hotel)</th>\n",
              "      <th>Theme Hotel</th>\n",
              "      <th>Towels</th>\n",
              "      <th>Very Good Rating</th>\n",
              "      <th>Volleyball</th>\n",
              "      <th>Washing Machine</th>\n",
              "      <th>Water Slide</th>\n",
              "      <th>Wheelchair Accessible</th>\n",
              "      <th>WiFi (Public Areas)</th>\n",
              "      <th>WiFi (Rooms)</th>\n",
              "    </tr>\n",
              "  </thead>\n",
              "  <tbody>\n",
              "    <tr>\n",
              "      <th>0</th>\n",
              "      <td>5101</td>\n",
              "      <td>62</td>\n",
              "      <td>68.0</td>\n",
              "      <td>9.0</td>\n",
              "      <td>4.0</td>\n",
              "      <td>2.0</td>\n",
              "      <td>0.029412</td>\n",
              "      <td>0.222222</td>\n",
              "      <td>0.500000</td>\n",
              "      <td>13.235294</td>\n",
              "      <td>121.617647</td>\n",
              "      <td>241.0</td>\n",
              "      <td>64.0</td>\n",
              "      <td>12.985294</td>\n",
              "      <td>0</td>\n",
              "      <td>0</td>\n",
              "      <td>0</td>\n",
              "      <td>1</td>\n",
              "      <td>0</td>\n",
              "      <td>1</td>\n",
              "      <td>1</td>\n",
              "      <td>0</td>\n",
              "      <td>1</td>\n",
              "      <td>0</td>\n",
              "      <td>1</td>\n",
              "      <td>0</td>\n",
              "      <td>1</td>\n",
              "      <td>1</td>\n",
              "      <td>0</td>\n",
              "      <td>0</td>\n",
              "      <td>0</td>\n",
              "      <td>0</td>\n",
              "      <td>1</td>\n",
              "      <td>0</td>\n",
              "      <td>0</td>\n",
              "      <td>0</td>\n",
              "      <td>1</td>\n",
              "      <td>0</td>\n",
              "      <td>1</td>\n",
              "      <td>1</td>\n",
              "      <td>...</td>\n",
              "      <td>0</td>\n",
              "      <td>1</td>\n",
              "      <td>1</td>\n",
              "      <td>0</td>\n",
              "      <td>0</td>\n",
              "      <td>0</td>\n",
              "      <td>0</td>\n",
              "      <td>0</td>\n",
              "      <td>1</td>\n",
              "      <td>0</td>\n",
              "      <td>1</td>\n",
              "      <td>0</td>\n",
              "      <td>0</td>\n",
              "      <td>0</td>\n",
              "      <td>0</td>\n",
              "      <td>0</td>\n",
              "      <td>0</td>\n",
              "      <td>0</td>\n",
              "      <td>0</td>\n",
              "      <td>0</td>\n",
              "      <td>0</td>\n",
              "      <td>0</td>\n",
              "      <td>0</td>\n",
              "      <td>0</td>\n",
              "      <td>0</td>\n",
              "      <td>1</td>\n",
              "      <td>0</td>\n",
              "      <td>1</td>\n",
              "      <td>1</td>\n",
              "      <td>1</td>\n",
              "      <td>1</td>\n",
              "      <td>0</td>\n",
              "      <td>0</td>\n",
              "      <td>0</td>\n",
              "      <td>0</td>\n",
              "      <td>0</td>\n",
              "      <td>0</td>\n",
              "      <td>0</td>\n",
              "      <td>1</td>\n",
              "      <td>1</td>\n",
              "    </tr>\n",
              "    <tr>\n",
              "      <th>1</th>\n",
              "      <td>5416</td>\n",
              "      <td>46</td>\n",
              "      <td>58.0</td>\n",
              "      <td>41.0</td>\n",
              "      <td>6.0</td>\n",
              "      <td>2.0</td>\n",
              "      <td>0.034483</td>\n",
              "      <td>0.048780</td>\n",
              "      <td>0.333333</td>\n",
              "      <td>10.431034</td>\n",
              "      <td>102.913793</td>\n",
              "      <td>270.0</td>\n",
              "      <td>59.0</td>\n",
              "      <td>11.327586</td>\n",
              "      <td>0</td>\n",
              "      <td>0</td>\n",
              "      <td>0</td>\n",
              "      <td>1</td>\n",
              "      <td>0</td>\n",
              "      <td>0</td>\n",
              "      <td>0</td>\n",
              "      <td>0</td>\n",
              "      <td>0</td>\n",
              "      <td>0</td>\n",
              "      <td>0</td>\n",
              "      <td>0</td>\n",
              "      <td>0</td>\n",
              "      <td>1</td>\n",
              "      <td>0</td>\n",
              "      <td>0</td>\n",
              "      <td>0</td>\n",
              "      <td>0</td>\n",
              "      <td>1</td>\n",
              "      <td>0</td>\n",
              "      <td>0</td>\n",
              "      <td>0</td>\n",
              "      <td>0</td>\n",
              "      <td>0</td>\n",
              "      <td>0</td>\n",
              "      <td>1</td>\n",
              "      <td>...</td>\n",
              "      <td>0</td>\n",
              "      <td>1</td>\n",
              "      <td>1</td>\n",
              "      <td>1</td>\n",
              "      <td>0</td>\n",
              "      <td>0</td>\n",
              "      <td>0</td>\n",
              "      <td>0</td>\n",
              "      <td>1</td>\n",
              "      <td>0</td>\n",
              "      <td>1</td>\n",
              "      <td>0</td>\n",
              "      <td>0</td>\n",
              "      <td>0</td>\n",
              "      <td>1</td>\n",
              "      <td>0</td>\n",
              "      <td>0</td>\n",
              "      <td>0</td>\n",
              "      <td>0</td>\n",
              "      <td>0</td>\n",
              "      <td>0</td>\n",
              "      <td>0</td>\n",
              "      <td>0</td>\n",
              "      <td>0</td>\n",
              "      <td>0</td>\n",
              "      <td>1</td>\n",
              "      <td>0</td>\n",
              "      <td>1</td>\n",
              "      <td>0</td>\n",
              "      <td>0</td>\n",
              "      <td>1</td>\n",
              "      <td>0</td>\n",
              "      <td>0</td>\n",
              "      <td>1</td>\n",
              "      <td>0</td>\n",
              "      <td>0</td>\n",
              "      <td>0</td>\n",
              "      <td>1</td>\n",
              "      <td>1</td>\n",
              "      <td>1</td>\n",
              "    </tr>\n",
              "  </tbody>\n",
              "</table>\n",
              "<p>2 rows × 171 columns</p>\n",
              "</div>"
            ],
            "text/plain": [
              "  item_id  NumberOfProperties  ...  WiFi (Public Areas)  WiFi (Rooms)\n",
              "0    5101                  62  ...                    1             1\n",
              "1    5416                  46  ...                    1             1\n",
              "\n",
              "[2 rows x 171 columns]"
            ]
          },
          "metadata": {
            "tags": []
          },
          "execution_count": 48
        }
      ]
    },
    {
      "cell_type": "markdown",
      "metadata": {
        "id": "25qls0N8Fgmk",
        "colab_type": "text"
      },
      "source": [
        "## Item Local Features"
      ]
    },
    {
      "cell_type": "markdown",
      "metadata": {
        "id": "jwSZID8E_-OF",
        "colab_type": "text"
      },
      "source": [
        "### General Features"
      ]
    },
    {
      "cell_type": "code",
      "metadata": {
        "id": "SoQmAtN15eYl",
        "colab_type": "code",
        "outputId": "67f11260-b619-4735-f1ed-035048e20ed3",
        "colab": {
          "base_uri": "https://localhost:8080/",
          "height": 34
        }
      },
      "source": [
        "session_gb = train.groupby('session_id', sort=False)\n",
        "train.session_id.nunique()"
      ],
      "execution_count": 0,
      "outputs": [
        {
          "output_type": "execute_result",
          "data": {
            "text/plain": [
              "610596"
            ]
          },
          "metadata": {
            "tags": []
          },
          "execution_count": 5
        }
      ]
    },
    {
      "cell_type": "markdown",
      "metadata": {
        "id": "ehP298jqqaFU",
        "colab_type": "text"
      },
      "source": [
        "#### item_id"
      ]
    },
    {
      "cell_type": "code",
      "metadata": {
        "id": "Ts9wGRoSasrx",
        "colab_type": "code",
        "colab": {}
      },
      "source": [
        "def get_data_clickout(data):\n",
        "  data_clickout = data[data['action_type']=='clickout item'].groupby('session_id').tail(1)\n",
        "  return data_clickout\n",
        "\n",
        "def get_item_id(data_clickout):\n",
        "  item_id = data_clickout[['session_id', 'impressions']]\n",
        "  item_id['impressions'] = item_id['impressions'].apply(lambda x: x.split('|'))\n",
        "  item_id = item_id.explode('impressions')\n",
        "  item_id = item_id.rename(columns={'impressions':'item_id'})\n",
        "  item_id = item_id.reset_index(drop=True)\n",
        "  return item_id"
      ],
      "execution_count": 0,
      "outputs": []
    },
    {
      "cell_type": "code",
      "metadata": {
        "id": "b7Pq7m4dcTpt",
        "colab_type": "code",
        "outputId": "2bb1eeeb-edeb-41aa-fb1f-df22e49d9145",
        "colab": {
          "base_uri": "https://localhost:8080/",
          "height": 521
        }
      },
      "source": [
        "FinalClickoutDF = get_data_clickout(train)\n",
        "item_id = get_item_id(FinalClickoutDF)\n",
        "item_id"
      ],
      "execution_count": 0,
      "outputs": [
        {
          "output_type": "stream",
          "text": [
            "/usr/local/lib/python3.6/dist-packages/ipykernel_launcher.py:7: SettingWithCopyWarning: \n",
            "A value is trying to be set on a copy of a slice from a DataFrame.\n",
            "Try using .loc[row_indexer,col_indexer] = value instead\n",
            "\n",
            "See the caveats in the documentation: http://pandas.pydata.org/pandas-docs/stable/user_guide/indexing.html#returning-a-view-versus-a-copy\n",
            "  import sys\n"
          ],
          "name": "stderr"
        },
        {
          "output_type": "execute_result",
          "data": {
            "text/html": [
              "<div>\n",
              "<style scoped>\n",
              "    .dataframe tbody tr th:only-of-type {\n",
              "        vertical-align: middle;\n",
              "    }\n",
              "\n",
              "    .dataframe tbody tr th {\n",
              "        vertical-align: top;\n",
              "    }\n",
              "\n",
              "    .dataframe thead th {\n",
              "        text-align: right;\n",
              "    }\n",
              "</style>\n",
              "<table border=\"1\" class=\"dataframe\">\n",
              "  <thead>\n",
              "    <tr style=\"text-align: right;\">\n",
              "      <th></th>\n",
              "      <th>session_id</th>\n",
              "      <th>item_id</th>\n",
              "    </tr>\n",
              "  </thead>\n",
              "  <tbody>\n",
              "    <tr>\n",
              "      <th>0</th>\n",
              "      <td>aff3928535f48</td>\n",
              "      <td>55109</td>\n",
              "    </tr>\n",
              "    <tr>\n",
              "      <th>1</th>\n",
              "      <td>aff3928535f48</td>\n",
              "      <td>129343</td>\n",
              "    </tr>\n",
              "    <tr>\n",
              "      <th>2</th>\n",
              "      <td>aff3928535f48</td>\n",
              "      <td>54824</td>\n",
              "    </tr>\n",
              "    <tr>\n",
              "      <th>3</th>\n",
              "      <td>aff3928535f48</td>\n",
              "      <td>2297972</td>\n",
              "    </tr>\n",
              "    <tr>\n",
              "      <th>4</th>\n",
              "      <td>aff3928535f48</td>\n",
              "      <td>109014</td>\n",
              "    </tr>\n",
              "    <tr>\n",
              "      <th>...</th>\n",
              "      <td>...</td>\n",
              "      <td>...</td>\n",
              "    </tr>\n",
              "    <tr>\n",
              "      <th>12586682</th>\n",
              "      <td>62728015bec05</td>\n",
              "      <td>2712342</td>\n",
              "    </tr>\n",
              "    <tr>\n",
              "      <th>12586683</th>\n",
              "      <td>62728015bec05</td>\n",
              "      <td>48497</td>\n",
              "    </tr>\n",
              "    <tr>\n",
              "      <th>12586684</th>\n",
              "      <td>62728015bec05</td>\n",
              "      <td>11933</td>\n",
              "    </tr>\n",
              "    <tr>\n",
              "      <th>12586685</th>\n",
              "      <td>62728015bec05</td>\n",
              "      <td>1714483</td>\n",
              "    </tr>\n",
              "    <tr>\n",
              "      <th>12586686</th>\n",
              "      <td>62728015bec05</td>\n",
              "      <td>1236687</td>\n",
              "    </tr>\n",
              "  </tbody>\n",
              "</table>\n",
              "<p>12586687 rows × 2 columns</p>\n",
              "</div>"
            ],
            "text/plain": [
              "             session_id  item_id\n",
              "0         aff3928535f48    55109\n",
              "1         aff3928535f48   129343\n",
              "2         aff3928535f48    54824\n",
              "3         aff3928535f48  2297972\n",
              "4         aff3928535f48   109014\n",
              "...                 ...      ...\n",
              "12586682  62728015bec05  2712342\n",
              "12586683  62728015bec05    48497\n",
              "12586684  62728015bec05    11933\n",
              "12586685  62728015bec05  1714483\n",
              "12586686  62728015bec05  1236687\n",
              "\n",
              "[12586687 rows x 2 columns]"
            ]
          },
          "metadata": {
            "tags": []
          },
          "execution_count": 119
        }
      ]
    },
    {
      "cell_type": "markdown",
      "metadata": {
        "id": "6ujfSNl5qvtV",
        "colab_type": "text"
      },
      "source": [
        "#### clickout"
      ]
    },
    {
      "cell_type": "code",
      "metadata": {
        "id": "f351Df6jiNkx",
        "colab_type": "code",
        "colab": {}
      },
      "source": [
        "def get_clickout(data, data_clickout, item_id):\n",
        "    clickout = data_clickout[['session_id','reference']]\n",
        "    clickout = item_id.merge(clickout, on='session_id', how='left')\n",
        "    clickout['clickout'] = clickout.apply(lambda x: 1 if x['item_id'] == x['reference'] else 0, axis=1)\n",
        "    clickout.drop(columns='reference', inplace=True)\n",
        "    clickout = clickout.reset_index(drop=True)\n",
        "    IndexToNan = data_clickout.reference.index.values.tolist()\n",
        "    data.loc[IndexToNan, 'reference'] = np.nan\n",
        "    return clickout, data"
      ],
      "execution_count": 0,
      "outputs": []
    },
    {
      "cell_type": "code",
      "metadata": {
        "id": "l8WrWpvanUA0",
        "colab_type": "code",
        "outputId": "4504d441-b558-490a-f624-486ac0e7c8e9",
        "colab": {
          "base_uri": "https://localhost:8080/",
          "height": 359
        }
      },
      "source": [
        "clickout, train = get_clickout(train, FinalClickoutDF, item_id)\n",
        "clickout.head(10)"
      ],
      "execution_count": 0,
      "outputs": [
        {
          "output_type": "execute_result",
          "data": {
            "text/html": [
              "<div>\n",
              "<style scoped>\n",
              "    .dataframe tbody tr th:only-of-type {\n",
              "        vertical-align: middle;\n",
              "    }\n",
              "\n",
              "    .dataframe tbody tr th {\n",
              "        vertical-align: top;\n",
              "    }\n",
              "\n",
              "    .dataframe thead th {\n",
              "        text-align: right;\n",
              "    }\n",
              "</style>\n",
              "<table border=\"1\" class=\"dataframe\">\n",
              "  <thead>\n",
              "    <tr style=\"text-align: right;\">\n",
              "      <th></th>\n",
              "      <th>session_id</th>\n",
              "      <th>item_id</th>\n",
              "      <th>clickout</th>\n",
              "    </tr>\n",
              "  </thead>\n",
              "  <tbody>\n",
              "    <tr>\n",
              "      <th>0</th>\n",
              "      <td>aff3928535f48</td>\n",
              "      <td>55109</td>\n",
              "      <td>0</td>\n",
              "    </tr>\n",
              "    <tr>\n",
              "      <th>1</th>\n",
              "      <td>aff3928535f48</td>\n",
              "      <td>129343</td>\n",
              "      <td>0</td>\n",
              "    </tr>\n",
              "    <tr>\n",
              "      <th>2</th>\n",
              "      <td>aff3928535f48</td>\n",
              "      <td>54824</td>\n",
              "      <td>0</td>\n",
              "    </tr>\n",
              "    <tr>\n",
              "      <th>3</th>\n",
              "      <td>aff3928535f48</td>\n",
              "      <td>2297972</td>\n",
              "      <td>0</td>\n",
              "    </tr>\n",
              "    <tr>\n",
              "      <th>4</th>\n",
              "      <td>aff3928535f48</td>\n",
              "      <td>109014</td>\n",
              "      <td>0</td>\n",
              "    </tr>\n",
              "    <tr>\n",
              "      <th>5</th>\n",
              "      <td>aff3928535f48</td>\n",
              "      <td>1257342</td>\n",
              "      <td>1</td>\n",
              "    </tr>\n",
              "    <tr>\n",
              "      <th>6</th>\n",
              "      <td>aff3928535f48</td>\n",
              "      <td>1031578</td>\n",
              "      <td>0</td>\n",
              "    </tr>\n",
              "    <tr>\n",
              "      <th>7</th>\n",
              "      <td>aff3928535f48</td>\n",
              "      <td>109018</td>\n",
              "      <td>0</td>\n",
              "    </tr>\n",
              "    <tr>\n",
              "      <th>8</th>\n",
              "      <td>aff3928535f48</td>\n",
              "      <td>1332971</td>\n",
              "      <td>0</td>\n",
              "    </tr>\n",
              "    <tr>\n",
              "      <th>9</th>\n",
              "      <td>aff3928535f48</td>\n",
              "      <td>666916</td>\n",
              "      <td>0</td>\n",
              "    </tr>\n",
              "  </tbody>\n",
              "</table>\n",
              "</div>"
            ],
            "text/plain": [
              "      session_id  item_id  clickout\n",
              "0  aff3928535f48    55109         0\n",
              "1  aff3928535f48   129343         0\n",
              "2  aff3928535f48    54824         0\n",
              "3  aff3928535f48  2297972         0\n",
              "4  aff3928535f48   109014         0\n",
              "5  aff3928535f48  1257342         1\n",
              "6  aff3928535f48  1031578         0\n",
              "7  aff3928535f48   109018         0\n",
              "8  aff3928535f48  1332971         0\n",
              "9  aff3928535f48   666916         0"
            ]
          },
          "metadata": {
            "tags": []
          },
          "execution_count": 109
        }
      ]
    },
    {
      "cell_type": "markdown",
      "metadata": {
        "id": "galeQ-YOqeqc",
        "colab_type": "text"
      },
      "source": [
        "#### price"
      ]
    },
    {
      "cell_type": "code",
      "metadata": {
        "id": "svQ2015zcyRK",
        "colab_type": "code",
        "colab": {}
      },
      "source": [
        "def get_price(data_clickout):\n",
        "  price = data_clickout[['session_id', 'prices']]\n",
        "  price['prices'] = price['prices'].apply(lambda x: x.split('|'))\n",
        "  price = price.explode('prices')\n",
        "  price['prices'] = price['prices'].apply(lambda x: int(x))\n",
        "  price = price.rename(columns={'prices':'price'})\n",
        "  price = price.reset_index(drop=True)\n",
        "  return price"
      ],
      "execution_count": 0,
      "outputs": []
    },
    {
      "cell_type": "code",
      "metadata": {
        "id": "ADkVMPd1dMz6",
        "colab_type": "code",
        "outputId": "1bae5cb1-fe1a-4ba9-fee4-886d1a3c91c2",
        "colab": {
          "base_uri": "https://localhost:8080/",
          "height": 521
        }
      },
      "source": [
        "price = get_price(FinalClickoutDF)\n",
        "price"
      ],
      "execution_count": 0,
      "outputs": [
        {
          "output_type": "stream",
          "text": [
            "/usr/local/lib/python3.6/dist-packages/ipykernel_launcher.py:3: SettingWithCopyWarning: \n",
            "A value is trying to be set on a copy of a slice from a DataFrame.\n",
            "Try using .loc[row_indexer,col_indexer] = value instead\n",
            "\n",
            "See the caveats in the documentation: http://pandas.pydata.org/pandas-docs/stable/user_guide/indexing.html#returning-a-view-versus-a-copy\n",
            "  This is separate from the ipykernel package so we can avoid doing imports until\n"
          ],
          "name": "stderr"
        },
        {
          "output_type": "execute_result",
          "data": {
            "text/html": [
              "<div>\n",
              "<style scoped>\n",
              "    .dataframe tbody tr th:only-of-type {\n",
              "        vertical-align: middle;\n",
              "    }\n",
              "\n",
              "    .dataframe tbody tr th {\n",
              "        vertical-align: top;\n",
              "    }\n",
              "\n",
              "    .dataframe thead th {\n",
              "        text-align: right;\n",
              "    }\n",
              "</style>\n",
              "<table border=\"1\" class=\"dataframe\">\n",
              "  <thead>\n",
              "    <tr style=\"text-align: right;\">\n",
              "      <th></th>\n",
              "      <th>session_id</th>\n",
              "      <th>price</th>\n",
              "    </tr>\n",
              "  </thead>\n",
              "  <tbody>\n",
              "    <tr>\n",
              "      <th>0</th>\n",
              "      <td>aff3928535f48</td>\n",
              "      <td>162</td>\n",
              "    </tr>\n",
              "    <tr>\n",
              "      <th>1</th>\n",
              "      <td>aff3928535f48</td>\n",
              "      <td>25</td>\n",
              "    </tr>\n",
              "    <tr>\n",
              "      <th>2</th>\n",
              "      <td>aff3928535f48</td>\n",
              "      <td>150</td>\n",
              "    </tr>\n",
              "    <tr>\n",
              "      <th>3</th>\n",
              "      <td>aff3928535f48</td>\n",
              "      <td>143</td>\n",
              "    </tr>\n",
              "    <tr>\n",
              "      <th>4</th>\n",
              "      <td>aff3928535f48</td>\n",
              "      <td>101</td>\n",
              "    </tr>\n",
              "    <tr>\n",
              "      <th>...</th>\n",
              "      <td>...</td>\n",
              "      <td>...</td>\n",
              "    </tr>\n",
              "    <tr>\n",
              "      <th>12586682</th>\n",
              "      <td>62728015bec05</td>\n",
              "      <td>73</td>\n",
              "    </tr>\n",
              "    <tr>\n",
              "      <th>12586683</th>\n",
              "      <td>62728015bec05</td>\n",
              "      <td>169</td>\n",
              "    </tr>\n",
              "    <tr>\n",
              "      <th>12586684</th>\n",
              "      <td>62728015bec05</td>\n",
              "      <td>87</td>\n",
              "    </tr>\n",
              "    <tr>\n",
              "      <th>12586685</th>\n",
              "      <td>62728015bec05</td>\n",
              "      <td>485</td>\n",
              "    </tr>\n",
              "    <tr>\n",
              "      <th>12586686</th>\n",
              "      <td>62728015bec05</td>\n",
              "      <td>171</td>\n",
              "    </tr>\n",
              "  </tbody>\n",
              "</table>\n",
              "<p>12586687 rows × 2 columns</p>\n",
              "</div>"
            ],
            "text/plain": [
              "             session_id  price\n",
              "0         aff3928535f48    162\n",
              "1         aff3928535f48     25\n",
              "2         aff3928535f48    150\n",
              "3         aff3928535f48    143\n",
              "4         aff3928535f48    101\n",
              "...                 ...    ...\n",
              "12586682  62728015bec05     73\n",
              "12586683  62728015bec05    169\n",
              "12586684  62728015bec05     87\n",
              "12586685  62728015bec05    485\n",
              "12586686  62728015bec05    171\n",
              "\n",
              "[12586687 rows x 2 columns]"
            ]
          },
          "metadata": {
            "tags": []
          },
          "execution_count": 53
        }
      ]
    },
    {
      "cell_type": "markdown",
      "metadata": {
        "id": "P8cSs5b3ql94",
        "colab_type": "text"
      },
      "source": [
        "#### item_rank"
      ]
    },
    {
      "cell_type": "code",
      "metadata": {
        "id": "_keb01DRdlB3",
        "colab_type": "code",
        "colab": {}
      },
      "source": [
        "def get_item_rank(data_clickout):\n",
        "  item_rank = data_clickout[['session_id', 'impressions']]\n",
        "  item_rank['impressions'] = item_rank['impressions'].apply(lambda x: x.split('|'))\n",
        "  item_rank['impressions'] = item_rank['impressions'].apply(lambda x: list(range(1, len(x) + 1)))\n",
        "  item_rank = item_rank.explode('impressions')\n",
        "  item_rank['impressions'] = item_rank['impressions'].apply(lambda x: int(x))\n",
        "  item_rank = item_rank.rename(columns={'impressions':'item_rank'})\n",
        "  item_rank = item_rank.reset_index(drop=True)\n",
        "  return item_rank"
      ],
      "execution_count": 0,
      "outputs": []
    },
    {
      "cell_type": "code",
      "metadata": {
        "id": "-J2EgZIneGZ9",
        "colab_type": "code",
        "outputId": "3d4ecafc-3e72-409d-c055-73d281ba52bc",
        "colab": {
          "base_uri": "https://localhost:8080/",
          "height": 623
        }
      },
      "source": [
        "item_rank = get_item_rank(FinalClickoutDF)\n",
        "item_rank"
      ],
      "execution_count": 0,
      "outputs": [
        {
          "output_type": "stream",
          "text": [
            "/usr/local/lib/python3.6/dist-packages/ipykernel_launcher.py:3: SettingWithCopyWarning: \n",
            "A value is trying to be set on a copy of a slice from a DataFrame.\n",
            "Try using .loc[row_indexer,col_indexer] = value instead\n",
            "\n",
            "See the caveats in the documentation: http://pandas.pydata.org/pandas-docs/stable/user_guide/indexing.html#returning-a-view-versus-a-copy\n",
            "  This is separate from the ipykernel package so we can avoid doing imports until\n",
            "/usr/local/lib/python3.6/dist-packages/ipykernel_launcher.py:4: SettingWithCopyWarning: \n",
            "A value is trying to be set on a copy of a slice from a DataFrame.\n",
            "Try using .loc[row_indexer,col_indexer] = value instead\n",
            "\n",
            "See the caveats in the documentation: http://pandas.pydata.org/pandas-docs/stable/user_guide/indexing.html#returning-a-view-versus-a-copy\n",
            "  after removing the cwd from sys.path.\n"
          ],
          "name": "stderr"
        },
        {
          "output_type": "execute_result",
          "data": {
            "text/html": [
              "<div>\n",
              "<style scoped>\n",
              "    .dataframe tbody tr th:only-of-type {\n",
              "        vertical-align: middle;\n",
              "    }\n",
              "\n",
              "    .dataframe tbody tr th {\n",
              "        vertical-align: top;\n",
              "    }\n",
              "\n",
              "    .dataframe thead th {\n",
              "        text-align: right;\n",
              "    }\n",
              "</style>\n",
              "<table border=\"1\" class=\"dataframe\">\n",
              "  <thead>\n",
              "    <tr style=\"text-align: right;\">\n",
              "      <th></th>\n",
              "      <th>session_id</th>\n",
              "      <th>item_rank</th>\n",
              "    </tr>\n",
              "  </thead>\n",
              "  <tbody>\n",
              "    <tr>\n",
              "      <th>0</th>\n",
              "      <td>aff3928535f48</td>\n",
              "      <td>1</td>\n",
              "    </tr>\n",
              "    <tr>\n",
              "      <th>1</th>\n",
              "      <td>aff3928535f48</td>\n",
              "      <td>2</td>\n",
              "    </tr>\n",
              "    <tr>\n",
              "      <th>2</th>\n",
              "      <td>aff3928535f48</td>\n",
              "      <td>3</td>\n",
              "    </tr>\n",
              "    <tr>\n",
              "      <th>3</th>\n",
              "      <td>aff3928535f48</td>\n",
              "      <td>4</td>\n",
              "    </tr>\n",
              "    <tr>\n",
              "      <th>4</th>\n",
              "      <td>aff3928535f48</td>\n",
              "      <td>5</td>\n",
              "    </tr>\n",
              "    <tr>\n",
              "      <th>...</th>\n",
              "      <td>...</td>\n",
              "      <td>...</td>\n",
              "    </tr>\n",
              "    <tr>\n",
              "      <th>12586682</th>\n",
              "      <td>62728015bec05</td>\n",
              "      <td>21</td>\n",
              "    </tr>\n",
              "    <tr>\n",
              "      <th>12586683</th>\n",
              "      <td>62728015bec05</td>\n",
              "      <td>22</td>\n",
              "    </tr>\n",
              "    <tr>\n",
              "      <th>12586684</th>\n",
              "      <td>62728015bec05</td>\n",
              "      <td>23</td>\n",
              "    </tr>\n",
              "    <tr>\n",
              "      <th>12586685</th>\n",
              "      <td>62728015bec05</td>\n",
              "      <td>24</td>\n",
              "    </tr>\n",
              "    <tr>\n",
              "      <th>12586686</th>\n",
              "      <td>62728015bec05</td>\n",
              "      <td>25</td>\n",
              "    </tr>\n",
              "  </tbody>\n",
              "</table>\n",
              "<p>12586687 rows × 2 columns</p>\n",
              "</div>"
            ],
            "text/plain": [
              "             session_id  item_rank\n",
              "0         aff3928535f48          1\n",
              "1         aff3928535f48          2\n",
              "2         aff3928535f48          3\n",
              "3         aff3928535f48          4\n",
              "4         aff3928535f48          5\n",
              "...                 ...        ...\n",
              "12586682  62728015bec05         21\n",
              "12586683  62728015bec05         22\n",
              "12586684  62728015bec05         23\n",
              "12586685  62728015bec05         24\n",
              "12586686  62728015bec05         25\n",
              "\n",
              "[12586687 rows x 2 columns]"
            ]
          },
          "metadata": {
            "tags": []
          },
          "execution_count": 55
        }
      ]
    },
    {
      "cell_type": "markdown",
      "metadata": {
        "id": "N4GvFMRjqsM7",
        "colab_type": "text"
      },
      "source": [
        "#### price_rank"
      ]
    },
    {
      "cell_type": "code",
      "metadata": {
        "id": "rQ8i_xKamcyA",
        "colab_type": "code",
        "colab": {}
      },
      "source": [
        "def get_price_rank(data):\n",
        "  price_rank = data.groupby('session_id', sort=False).price.apply(lambda x: x.values).to_frame().reset_index().rename(columns={'price':'price_list'})\n",
        "  price_rank.price_list = price_rank.price_list.apply(lambda x: np.argsort(x))\n",
        "  price_rank = price_rank.rename(columns={'price_list':'price_rank'})\n",
        "  price_rank = price_rank.explode('price_rank')\n",
        "  price_rank = price_rank.reset_index(drop=True)\n",
        "  return price_rank"
      ],
      "execution_count": 0,
      "outputs": []
    },
    {
      "cell_type": "code",
      "metadata": {
        "id": "ypqAeBc1mrlm",
        "colab_type": "code",
        "outputId": "dc281593-0932-40f0-efc3-455df04c015d",
        "colab": {
          "base_uri": "https://localhost:8080/",
          "height": 419
        }
      },
      "source": [
        "price_rank = get_price_rank(price)\n",
        "price_rank"
      ],
      "execution_count": 0,
      "outputs": [
        {
          "output_type": "execute_result",
          "data": {
            "text/html": [
              "<div>\n",
              "<style scoped>\n",
              "    .dataframe tbody tr th:only-of-type {\n",
              "        vertical-align: middle;\n",
              "    }\n",
              "\n",
              "    .dataframe tbody tr th {\n",
              "        vertical-align: top;\n",
              "    }\n",
              "\n",
              "    .dataframe thead th {\n",
              "        text-align: right;\n",
              "    }\n",
              "</style>\n",
              "<table border=\"1\" class=\"dataframe\">\n",
              "  <thead>\n",
              "    <tr style=\"text-align: right;\">\n",
              "      <th></th>\n",
              "      <th>session_id</th>\n",
              "      <th>price_rank</th>\n",
              "    </tr>\n",
              "  </thead>\n",
              "  <tbody>\n",
              "    <tr>\n",
              "      <th>0</th>\n",
              "      <td>aff3928535f48</td>\n",
              "      <td>8</td>\n",
              "    </tr>\n",
              "    <tr>\n",
              "      <th>1</th>\n",
              "      <td>aff3928535f48</td>\n",
              "      <td>1</td>\n",
              "    </tr>\n",
              "    <tr>\n",
              "      <th>2</th>\n",
              "      <td>aff3928535f48</td>\n",
              "      <td>15</td>\n",
              "    </tr>\n",
              "    <tr>\n",
              "      <th>3</th>\n",
              "      <td>aff3928535f48</td>\n",
              "      <td>5</td>\n",
              "    </tr>\n",
              "    <tr>\n",
              "      <th>4</th>\n",
              "      <td>aff3928535f48</td>\n",
              "      <td>12</td>\n",
              "    </tr>\n",
              "    <tr>\n",
              "      <th>...</th>\n",
              "      <td>...</td>\n",
              "      <td>...</td>\n",
              "    </tr>\n",
              "    <tr>\n",
              "      <th>15373343</th>\n",
              "      <td>62728015bec05</td>\n",
              "      <td>6</td>\n",
              "    </tr>\n",
              "    <tr>\n",
              "      <th>15373344</th>\n",
              "      <td>62728015bec05</td>\n",
              "      <td>19</td>\n",
              "    </tr>\n",
              "    <tr>\n",
              "      <th>15373345</th>\n",
              "      <td>62728015bec05</td>\n",
              "      <td>10</td>\n",
              "    </tr>\n",
              "    <tr>\n",
              "      <th>15373346</th>\n",
              "      <td>62728015bec05</td>\n",
              "      <td>23</td>\n",
              "    </tr>\n",
              "    <tr>\n",
              "      <th>15373347</th>\n",
              "      <td>62728015bec05</td>\n",
              "      <td>16</td>\n",
              "    </tr>\n",
              "  </tbody>\n",
              "</table>\n",
              "<p>15373348 rows × 2 columns</p>\n",
              "</div>"
            ],
            "text/plain": [
              "             session_id price_rank\n",
              "0         aff3928535f48          8\n",
              "1         aff3928535f48          1\n",
              "2         aff3928535f48         15\n",
              "3         aff3928535f48          5\n",
              "4         aff3928535f48         12\n",
              "...                 ...        ...\n",
              "15373343  62728015bec05          6\n",
              "15373344  62728015bec05         19\n",
              "15373345  62728015bec05         10\n",
              "15373346  62728015bec05         23\n",
              "15373347  62728015bec05         16\n",
              "\n",
              "[15373348 rows x 2 columns]"
            ]
          },
          "metadata": {
            "tags": []
          },
          "execution_count": 40
        }
      ]
    },
    {
      "cell_type": "markdown",
      "metadata": {
        "id": "eKxvi_QrqzcD",
        "colab_type": "text"
      },
      "source": [
        "#### session_duration"
      ]
    },
    {
      "cell_type": "code",
      "metadata": {
        "id": "l3rZPTmOnjij",
        "colab_type": "code",
        "colab": {}
      },
      "source": [
        "def get_session_duration(data, item_id):\n",
        "  session_duration = data.groupby('session_id', sort=False).timestamp.max() - data.groupby('session_id', sort=False).timestamp.min()\n",
        "  session_duration = session_duration.to_frame().rename(columns={'timestamp':'session_duration'})\n",
        "  session_duration = item_id.merge(session_duration, on='session_id', how='left')\n",
        "  session_duration.drop(columns='item_id', inplace=True)\n",
        "  session_duration = session_duration.reset_index(drop=True)\n",
        "  return session_duration"
      ],
      "execution_count": 0,
      "outputs": []
    },
    {
      "cell_type": "code",
      "metadata": {
        "id": "Bf7Kvb2qoCrQ",
        "colab_type": "code",
        "outputId": "5c96f00d-8b37-4e40-bac8-0ab3b44307c7",
        "colab": {
          "base_uri": "https://localhost:8080/",
          "height": 419
        }
      },
      "source": [
        "session_duration = get_session_duration(train, item_id)\n",
        "session_duration"
      ],
      "execution_count": 0,
      "outputs": [
        {
          "output_type": "execute_result",
          "data": {
            "text/html": [
              "<div>\n",
              "<style scoped>\n",
              "    .dataframe tbody tr th:only-of-type {\n",
              "        vertical-align: middle;\n",
              "    }\n",
              "\n",
              "    .dataframe tbody tr th {\n",
              "        vertical-align: top;\n",
              "    }\n",
              "\n",
              "    .dataframe thead th {\n",
              "        text-align: right;\n",
              "    }\n",
              "</style>\n",
              "<table border=\"1\" class=\"dataframe\">\n",
              "  <thead>\n",
              "    <tr style=\"text-align: right;\">\n",
              "      <th></th>\n",
              "      <th>session_id</th>\n",
              "      <th>session_duration</th>\n",
              "    </tr>\n",
              "  </thead>\n",
              "  <tbody>\n",
              "    <tr>\n",
              "      <th>0</th>\n",
              "      <td>aff3928535f48</td>\n",
              "      <td>1025</td>\n",
              "    </tr>\n",
              "    <tr>\n",
              "      <th>1</th>\n",
              "      <td>aff3928535f48</td>\n",
              "      <td>1025</td>\n",
              "    </tr>\n",
              "    <tr>\n",
              "      <th>2</th>\n",
              "      <td>aff3928535f48</td>\n",
              "      <td>1025</td>\n",
              "    </tr>\n",
              "    <tr>\n",
              "      <th>3</th>\n",
              "      <td>aff3928535f48</td>\n",
              "      <td>1025</td>\n",
              "    </tr>\n",
              "    <tr>\n",
              "      <th>4</th>\n",
              "      <td>aff3928535f48</td>\n",
              "      <td>1025</td>\n",
              "    </tr>\n",
              "    <tr>\n",
              "      <th>...</th>\n",
              "      <td>...</td>\n",
              "      <td>...</td>\n",
              "    </tr>\n",
              "    <tr>\n",
              "      <th>15373343</th>\n",
              "      <td>62728015bec05</td>\n",
              "      <td>571</td>\n",
              "    </tr>\n",
              "    <tr>\n",
              "      <th>15373344</th>\n",
              "      <td>62728015bec05</td>\n",
              "      <td>571</td>\n",
              "    </tr>\n",
              "    <tr>\n",
              "      <th>15373345</th>\n",
              "      <td>62728015bec05</td>\n",
              "      <td>571</td>\n",
              "    </tr>\n",
              "    <tr>\n",
              "      <th>15373346</th>\n",
              "      <td>62728015bec05</td>\n",
              "      <td>571</td>\n",
              "    </tr>\n",
              "    <tr>\n",
              "      <th>15373347</th>\n",
              "      <td>62728015bec05</td>\n",
              "      <td>571</td>\n",
              "    </tr>\n",
              "  </tbody>\n",
              "</table>\n",
              "<p>15373348 rows × 2 columns</p>\n",
              "</div>"
            ],
            "text/plain": [
              "             session_id  session_duration\n",
              "0         aff3928535f48              1025\n",
              "1         aff3928535f48              1025\n",
              "2         aff3928535f48              1025\n",
              "3         aff3928535f48              1025\n",
              "4         aff3928535f48              1025\n",
              "...                 ...               ...\n",
              "15373343  62728015bec05               571\n",
              "15373344  62728015bec05               571\n",
              "15373345  62728015bec05               571\n",
              "15373346  62728015bec05               571\n",
              "15373347  62728015bec05               571\n",
              "\n",
              "[15373348 rows x 2 columns]"
            ]
          },
          "metadata": {
            "tags": []
          },
          "execution_count": 44
        }
      ]
    },
    {
      "cell_type": "markdown",
      "metadata": {
        "id": "PbW4Txkfq3Pl",
        "colab_type": "text"
      },
      "source": [
        "#### item_duration"
      ]
    },
    {
      "cell_type": "code",
      "metadata": {
        "id": "xD6nFfV1oNIA",
        "colab_type": "code",
        "colab": {}
      },
      "source": [
        "def get_item_duration(data, item_id):\n",
        "  item_duration = data.groupby(['session_id', 'reference'], sort=False).timestamp.max() - data.groupby(['session_id', 'reference'], sort=False).timestamp.min()\n",
        "  item_duration = item_duration.reset_index().rename(columns={'reference':'item_id', 'timestamp':'item_duration'})\n",
        "  item_duration = item_id.merge(item_duration, left_on=['session_id', 'item_id'], right_on=['session_id', 'item_id'], how='left')\n",
        "  item_duration = item_duration.fillna(0)\n",
        "  item_duration = item_duration.reset_index(drop=True)\n",
        "  return item_duration"
      ],
      "execution_count": 0,
      "outputs": []
    },
    {
      "cell_type": "code",
      "metadata": {
        "id": "Qh1ps6sOoiwE",
        "colab_type": "code",
        "outputId": "4c55746f-57a8-4d55-ab01-74866e879cce",
        "colab": {
          "base_uri": "https://localhost:8080/",
          "height": 419
        }
      },
      "source": [
        "item_duration = get_item_duration(train, item_id)\n",
        "item_duration[item_duration.item_duration>0]"
      ],
      "execution_count": 0,
      "outputs": [
        {
          "output_type": "execute_result",
          "data": {
            "text/html": [
              "<div>\n",
              "<style scoped>\n",
              "    .dataframe tbody tr th:only-of-type {\n",
              "        vertical-align: middle;\n",
              "    }\n",
              "\n",
              "    .dataframe tbody tr th {\n",
              "        vertical-align: top;\n",
              "    }\n",
              "\n",
              "    .dataframe thead th {\n",
              "        text-align: right;\n",
              "    }\n",
              "</style>\n",
              "<table border=\"1\" class=\"dataframe\">\n",
              "  <thead>\n",
              "    <tr style=\"text-align: right;\">\n",
              "      <th></th>\n",
              "      <th>session_id</th>\n",
              "      <th>item_id</th>\n",
              "      <th>item_duration</th>\n",
              "    </tr>\n",
              "  </thead>\n",
              "  <tbody>\n",
              "    <tr>\n",
              "      <th>25</th>\n",
              "      <td>3599a6f709eab</td>\n",
              "      <td>2795374</td>\n",
              "      <td>134.0</td>\n",
              "    </tr>\n",
              "    <tr>\n",
              "      <th>65</th>\n",
              "      <td>ec139e10b9238</td>\n",
              "      <td>1032816</td>\n",
              "      <td>338.0</td>\n",
              "    </tr>\n",
              "    <tr>\n",
              "      <th>79</th>\n",
              "      <td>325fafb5fa450</td>\n",
              "      <td>65685</td>\n",
              "      <td>65.0</td>\n",
              "    </tr>\n",
              "    <tr>\n",
              "      <th>126</th>\n",
              "      <td>7157899be2839</td>\n",
              "      <td>2552514</td>\n",
              "      <td>3.0</td>\n",
              "    </tr>\n",
              "    <tr>\n",
              "      <th>185</th>\n",
              "      <td>4c6062d7cefe4</td>\n",
              "      <td>138930</td>\n",
              "      <td>10.0</td>\n",
              "    </tr>\n",
              "    <tr>\n",
              "      <th>...</th>\n",
              "      <td>...</td>\n",
              "      <td>...</td>\n",
              "      <td>...</td>\n",
              "    </tr>\n",
              "    <tr>\n",
              "      <th>15373250</th>\n",
              "      <td>92b7ab1287edf</td>\n",
              "      <td>207081</td>\n",
              "      <td>14.0</td>\n",
              "    </tr>\n",
              "    <tr>\n",
              "      <th>15373251</th>\n",
              "      <td>92b7ab1287edf</td>\n",
              "      <td>50584</td>\n",
              "      <td>82.0</td>\n",
              "    </tr>\n",
              "    <tr>\n",
              "      <th>15373273</th>\n",
              "      <td>6b66cb0cfb518</td>\n",
              "      <td>3811156</td>\n",
              "      <td>3.0</td>\n",
              "    </tr>\n",
              "    <tr>\n",
              "      <th>15373274</th>\n",
              "      <td>6b66cb0cfb518</td>\n",
              "      <td>2337580</td>\n",
              "      <td>10.0</td>\n",
              "    </tr>\n",
              "    <tr>\n",
              "      <th>15373323</th>\n",
              "      <td>62728015bec05</td>\n",
              "      <td>6617798</td>\n",
              "      <td>21.0</td>\n",
              "    </tr>\n",
              "  </tbody>\n",
              "</table>\n",
              "<p>530222 rows × 3 columns</p>\n",
              "</div>"
            ],
            "text/plain": [
              "             session_id  item_id  item_duration\n",
              "25        3599a6f709eab  2795374          134.0\n",
              "65        ec139e10b9238  1032816          338.0\n",
              "79        325fafb5fa450    65685           65.0\n",
              "126       7157899be2839  2552514            3.0\n",
              "185       4c6062d7cefe4   138930           10.0\n",
              "...                 ...      ...            ...\n",
              "15373250  92b7ab1287edf   207081           14.0\n",
              "15373251  92b7ab1287edf    50584           82.0\n",
              "15373273  6b66cb0cfb518  3811156            3.0\n",
              "15373274  6b66cb0cfb518  2337580           10.0\n",
              "15373323  62728015bec05  6617798           21.0\n",
              "\n",
              "[530222 rows x 3 columns]"
            ]
          },
          "metadata": {
            "tags": []
          },
          "execution_count": 46
        }
      ]
    },
    {
      "cell_type": "markdown",
      "metadata": {
        "id": "0P_PDLv4sJAE",
        "colab_type": "text"
      },
      "source": [
        "#### item_session_duration"
      ]
    },
    {
      "cell_type": "code",
      "metadata": {
        "id": "2fqjU3BdouEQ",
        "colab_type": "code",
        "colab": {}
      },
      "source": [
        "def get_item_session_duration(item_duration, session_duration):\n",
        "  item_duration['item_session_duration'] = item_duration.item_duration/session_duration.session_duration\n",
        "  item_session_duration = item_duration[['session_id', 'item_id', 'item_session_duration']]\n",
        "  item_duration = item_duration[['session_id', 'item_id', 'item_duration']]\n",
        "  item_session_duration = item_session_duration.fillna(0)\n",
        "  item_session_druation = item_session_duration.reset_index(drop=True)\n",
        "  return item_session_duration"
      ],
      "execution_count": 0,
      "outputs": []
    },
    {
      "cell_type": "code",
      "metadata": {
        "id": "laSQsznppiVC",
        "colab_type": "code",
        "outputId": "d0a7a044-579e-48ed-9afd-e9acaf9e6084",
        "colab": {
          "base_uri": "https://localhost:8080/",
          "height": 419
        }
      },
      "source": [
        "item_session_duration = get_item_session_duration(item_duration, session_duration)\n",
        "item_session_duration[item_session_duration.item_session_duration>0]"
      ],
      "execution_count": 0,
      "outputs": [
        {
          "output_type": "execute_result",
          "data": {
            "text/html": [
              "<div>\n",
              "<style scoped>\n",
              "    .dataframe tbody tr th:only-of-type {\n",
              "        vertical-align: middle;\n",
              "    }\n",
              "\n",
              "    .dataframe tbody tr th {\n",
              "        vertical-align: top;\n",
              "    }\n",
              "\n",
              "    .dataframe thead th {\n",
              "        text-align: right;\n",
              "    }\n",
              "</style>\n",
              "<table border=\"1\" class=\"dataframe\">\n",
              "  <thead>\n",
              "    <tr style=\"text-align: right;\">\n",
              "      <th></th>\n",
              "      <th>session_id</th>\n",
              "      <th>item_id</th>\n",
              "      <th>item_session_duration</th>\n",
              "    </tr>\n",
              "  </thead>\n",
              "  <tbody>\n",
              "    <tr>\n",
              "      <th>25</th>\n",
              "      <td>3599a6f709eab</td>\n",
              "      <td>2795374</td>\n",
              "      <td>1.000000</td>\n",
              "    </tr>\n",
              "    <tr>\n",
              "      <th>65</th>\n",
              "      <td>ec139e10b9238</td>\n",
              "      <td>1032816</td>\n",
              "      <td>0.550489</td>\n",
              "    </tr>\n",
              "    <tr>\n",
              "      <th>79</th>\n",
              "      <td>325fafb5fa450</td>\n",
              "      <td>65685</td>\n",
              "      <td>0.256917</td>\n",
              "    </tr>\n",
              "    <tr>\n",
              "      <th>126</th>\n",
              "      <td>7157899be2839</td>\n",
              "      <td>2552514</td>\n",
              "      <td>1.000000</td>\n",
              "    </tr>\n",
              "    <tr>\n",
              "      <th>185</th>\n",
              "      <td>4c6062d7cefe4</td>\n",
              "      <td>138930</td>\n",
              "      <td>0.080645</td>\n",
              "    </tr>\n",
              "    <tr>\n",
              "      <th>...</th>\n",
              "      <td>...</td>\n",
              "      <td>...</td>\n",
              "      <td>...</td>\n",
              "    </tr>\n",
              "    <tr>\n",
              "      <th>15373250</th>\n",
              "      <td>92b7ab1287edf</td>\n",
              "      <td>207081</td>\n",
              "      <td>0.009609</td>\n",
              "    </tr>\n",
              "    <tr>\n",
              "      <th>15373251</th>\n",
              "      <td>92b7ab1287edf</td>\n",
              "      <td>50584</td>\n",
              "      <td>0.056280</td>\n",
              "    </tr>\n",
              "    <tr>\n",
              "      <th>15373273</th>\n",
              "      <td>6b66cb0cfb518</td>\n",
              "      <td>3811156</td>\n",
              "      <td>0.230769</td>\n",
              "    </tr>\n",
              "    <tr>\n",
              "      <th>15373274</th>\n",
              "      <td>6b66cb0cfb518</td>\n",
              "      <td>2337580</td>\n",
              "      <td>0.769231</td>\n",
              "    </tr>\n",
              "    <tr>\n",
              "      <th>15373323</th>\n",
              "      <td>62728015bec05</td>\n",
              "      <td>6617798</td>\n",
              "      <td>0.036778</td>\n",
              "    </tr>\n",
              "  </tbody>\n",
              "</table>\n",
              "<p>530222 rows × 3 columns</p>\n",
              "</div>"
            ],
            "text/plain": [
              "             session_id  item_id  item_session_duration\n",
              "25        3599a6f709eab  2795374               1.000000\n",
              "65        ec139e10b9238  1032816               0.550489\n",
              "79        325fafb5fa450    65685               0.256917\n",
              "126       7157899be2839  2552514               1.000000\n",
              "185       4c6062d7cefe4   138930               0.080645\n",
              "...                 ...      ...                    ...\n",
              "15373250  92b7ab1287edf   207081               0.009609\n",
              "15373251  92b7ab1287edf    50584               0.056280\n",
              "15373273  6b66cb0cfb518  3811156               0.230769\n",
              "15373274  6b66cb0cfb518  2337580               0.769231\n",
              "15373323  62728015bec05  6617798               0.036778\n",
              "\n",
              "[530222 rows x 3 columns]"
            ]
          },
          "metadata": {
            "tags": []
          },
          "execution_count": 59
        }
      ]
    },
    {
      "cell_type": "markdown",
      "metadata": {
        "id": "kaQkVrcRsnab",
        "colab_type": "text"
      },
      "source": [
        "#### item_interactions"
      ]
    },
    {
      "cell_type": "code",
      "metadata": {
        "id": "wW58-BbIpwuN",
        "colab_type": "code",
        "colab": {}
      },
      "source": [
        "def get_item_interactions(data, item_id):\n",
        "  item_interactions = data.groupby(['session_id', 'reference']).step.count().to_frame().reset_index()\n",
        "  item_interactions = item_interactions.rename(columns={'reference':'item_id', 'step':'item_interactions'})\n",
        "  item_interactions = item_id.merge(item_interactions, left_on=['session_id', 'item_id'], right_on=['session_id', 'item_id'], how='left')\n",
        "  item_interactions = item_interactions.fillna(0)\n",
        "  item_interactions = item_interactions.reset_index(drop=True)\n",
        "  return item_interactions"
      ],
      "execution_count": 0,
      "outputs": []
    },
    {
      "cell_type": "code",
      "metadata": {
        "id": "QbK8rY1Gp_xh",
        "colab_type": "code",
        "outputId": "916d6e58-39bb-4c22-98ff-2c3813eaed73",
        "colab": {
          "base_uri": "https://localhost:8080/",
          "height": 419
        }
      },
      "source": [
        "item_interactions = get_item_interactions(train, item_id)\n",
        "item_interactions[item_interactions.item_interactions>0]"
      ],
      "execution_count": 0,
      "outputs": [
        {
          "output_type": "execute_result",
          "data": {
            "text/html": [
              "<div>\n",
              "<style scoped>\n",
              "    .dataframe tbody tr th:only-of-type {\n",
              "        vertical-align: middle;\n",
              "    }\n",
              "\n",
              "    .dataframe tbody tr th {\n",
              "        vertical-align: top;\n",
              "    }\n",
              "\n",
              "    .dataframe thead th {\n",
              "        text-align: right;\n",
              "    }\n",
              "</style>\n",
              "<table border=\"1\" class=\"dataframe\">\n",
              "  <thead>\n",
              "    <tr style=\"text-align: right;\">\n",
              "      <th></th>\n",
              "      <th>session_id</th>\n",
              "      <th>item_id</th>\n",
              "      <th>item_interactions</th>\n",
              "    </tr>\n",
              "  </thead>\n",
              "  <tbody>\n",
              "    <tr>\n",
              "      <th>5</th>\n",
              "      <td>aff3928535f48</td>\n",
              "      <td>1257342</td>\n",
              "      <td>1.0</td>\n",
              "    </tr>\n",
              "    <tr>\n",
              "      <th>25</th>\n",
              "      <td>3599a6f709eab</td>\n",
              "      <td>2795374</td>\n",
              "      <td>35.0</td>\n",
              "    </tr>\n",
              "    <tr>\n",
              "      <th>65</th>\n",
              "      <td>ec139e10b9238</td>\n",
              "      <td>1032816</td>\n",
              "      <td>4.0</td>\n",
              "    </tr>\n",
              "    <tr>\n",
              "      <th>79</th>\n",
              "      <td>325fafb5fa450</td>\n",
              "      <td>65685</td>\n",
              "      <td>38.0</td>\n",
              "    </tr>\n",
              "    <tr>\n",
              "      <th>82</th>\n",
              "      <td>325fafb5fa450</td>\n",
              "      <td>1320460</td>\n",
              "      <td>1.0</td>\n",
              "    </tr>\n",
              "    <tr>\n",
              "      <th>...</th>\n",
              "      <td>...</td>\n",
              "      <td>...</td>\n",
              "      <td>...</td>\n",
              "    </tr>\n",
              "    <tr>\n",
              "      <th>15373274</th>\n",
              "      <td>6b66cb0cfb518</td>\n",
              "      <td>2337580</td>\n",
              "      <td>8.0</td>\n",
              "    </tr>\n",
              "    <tr>\n",
              "      <th>15373318</th>\n",
              "      <td>e7916050980d9</td>\n",
              "      <td>8985292</td>\n",
              "      <td>1.0</td>\n",
              "    </tr>\n",
              "    <tr>\n",
              "      <th>15373323</th>\n",
              "      <td>62728015bec05</td>\n",
              "      <td>6617798</td>\n",
              "      <td>15.0</td>\n",
              "    </tr>\n",
              "    <tr>\n",
              "      <th>15373326</th>\n",
              "      <td>62728015bec05</td>\n",
              "      <td>1161323</td>\n",
              "      <td>1.0</td>\n",
              "    </tr>\n",
              "    <tr>\n",
              "      <th>15373343</th>\n",
              "      <td>62728015bec05</td>\n",
              "      <td>2712342</td>\n",
              "      <td>1.0</td>\n",
              "    </tr>\n",
              "  </tbody>\n",
              "</table>\n",
              "<p>1168107 rows × 3 columns</p>\n",
              "</div>"
            ],
            "text/plain": [
              "             session_id  item_id  item_interactions\n",
              "5         aff3928535f48  1257342                1.0\n",
              "25        3599a6f709eab  2795374               35.0\n",
              "65        ec139e10b9238  1032816                4.0\n",
              "79        325fafb5fa450    65685               38.0\n",
              "82        325fafb5fa450  1320460                1.0\n",
              "...                 ...      ...                ...\n",
              "15373274  6b66cb0cfb518  2337580                8.0\n",
              "15373318  e7916050980d9  8985292                1.0\n",
              "15373323  62728015bec05  6617798               15.0\n",
              "15373326  62728015bec05  1161323                1.0\n",
              "15373343  62728015bec05  2712342                1.0\n",
              "\n",
              "[1168107 rows x 3 columns]"
            ]
          },
          "metadata": {
            "tags": []
          },
          "execution_count": 49
        }
      ]
    },
    {
      "cell_type": "markdown",
      "metadata": {
        "id": "st6WmlVWub6P",
        "colab_type": "text"
      },
      "source": [
        "#### maximum_step"
      ]
    },
    {
      "cell_type": "code",
      "metadata": {
        "id": "NH83lXBEqk3p",
        "colab_type": "code",
        "colab": {}
      },
      "source": [
        "def get_maximum_step(data, item_id):\n",
        "  maximum_step = data.groupby('session_id', sort=False).step.max().to_frame().reset_index()\n",
        "  maximum_step = maximum_step.rename(columns={'step':'maximum_step'})\n",
        "  maximum_step = item_id.merge(maximum_step, on='session_id', how='left')\n",
        "  maximum_step = maximum_step.reset_index(drop=True)\n",
        "  return maximum_step"
      ],
      "execution_count": 0,
      "outputs": []
    },
    {
      "cell_type": "code",
      "metadata": {
        "id": "l_0U5_usqvVR",
        "colab_type": "code",
        "outputId": "246fd9bf-e70e-4a22-e61a-ccd65add1070",
        "colab": {
          "base_uri": "https://localhost:8080/",
          "height": 419
        }
      },
      "source": [
        "maximum_step = get_maximum_step(train, item_id)\n",
        "maximum_step"
      ],
      "execution_count": 0,
      "outputs": [
        {
          "output_type": "execute_result",
          "data": {
            "text/html": [
              "<div>\n",
              "<style scoped>\n",
              "    .dataframe tbody tr th:only-of-type {\n",
              "        vertical-align: middle;\n",
              "    }\n",
              "\n",
              "    .dataframe tbody tr th {\n",
              "        vertical-align: top;\n",
              "    }\n",
              "\n",
              "    .dataframe thead th {\n",
              "        text-align: right;\n",
              "    }\n",
              "</style>\n",
              "<table border=\"1\" class=\"dataframe\">\n",
              "  <thead>\n",
              "    <tr style=\"text-align: right;\">\n",
              "      <th></th>\n",
              "      <th>session_id</th>\n",
              "      <th>item_id</th>\n",
              "      <th>maximum_step</th>\n",
              "    </tr>\n",
              "  </thead>\n",
              "  <tbody>\n",
              "    <tr>\n",
              "      <th>0</th>\n",
              "      <td>aff3928535f48</td>\n",
              "      <td>55109</td>\n",
              "      <td>16</td>\n",
              "    </tr>\n",
              "    <tr>\n",
              "      <th>1</th>\n",
              "      <td>aff3928535f48</td>\n",
              "      <td>129343</td>\n",
              "      <td>16</td>\n",
              "    </tr>\n",
              "    <tr>\n",
              "      <th>2</th>\n",
              "      <td>aff3928535f48</td>\n",
              "      <td>54824</td>\n",
              "      <td>16</td>\n",
              "    </tr>\n",
              "    <tr>\n",
              "      <th>3</th>\n",
              "      <td>aff3928535f48</td>\n",
              "      <td>2297972</td>\n",
              "      <td>16</td>\n",
              "    </tr>\n",
              "    <tr>\n",
              "      <th>4</th>\n",
              "      <td>aff3928535f48</td>\n",
              "      <td>109014</td>\n",
              "      <td>16</td>\n",
              "    </tr>\n",
              "    <tr>\n",
              "      <th>...</th>\n",
              "      <td>...</td>\n",
              "      <td>...</td>\n",
              "      <td>...</td>\n",
              "    </tr>\n",
              "    <tr>\n",
              "      <th>15373343</th>\n",
              "      <td>62728015bec05</td>\n",
              "      <td>2712342</td>\n",
              "      <td>19</td>\n",
              "    </tr>\n",
              "    <tr>\n",
              "      <th>15373344</th>\n",
              "      <td>62728015bec05</td>\n",
              "      <td>48497</td>\n",
              "      <td>19</td>\n",
              "    </tr>\n",
              "    <tr>\n",
              "      <th>15373345</th>\n",
              "      <td>62728015bec05</td>\n",
              "      <td>11933</td>\n",
              "      <td>19</td>\n",
              "    </tr>\n",
              "    <tr>\n",
              "      <th>15373346</th>\n",
              "      <td>62728015bec05</td>\n",
              "      <td>1714483</td>\n",
              "      <td>19</td>\n",
              "    </tr>\n",
              "    <tr>\n",
              "      <th>15373347</th>\n",
              "      <td>62728015bec05</td>\n",
              "      <td>1236687</td>\n",
              "      <td>19</td>\n",
              "    </tr>\n",
              "  </tbody>\n",
              "</table>\n",
              "<p>15373348 rows × 3 columns</p>\n",
              "</div>"
            ],
            "text/plain": [
              "             session_id  item_id  maximum_step\n",
              "0         aff3928535f48    55109            16\n",
              "1         aff3928535f48   129343            16\n",
              "2         aff3928535f48    54824            16\n",
              "3         aff3928535f48  2297972            16\n",
              "4         aff3928535f48   109014            16\n",
              "...                 ...      ...           ...\n",
              "15373343  62728015bec05  2712342            19\n",
              "15373344  62728015bec05    48497            19\n",
              "15373345  62728015bec05    11933            19\n",
              "15373346  62728015bec05  1714483            19\n",
              "15373347  62728015bec05  1236687            19\n",
              "\n",
              "[15373348 rows x 3 columns]"
            ]
          },
          "metadata": {
            "tags": []
          },
          "execution_count": 52
        }
      ]
    },
    {
      "cell_type": "markdown",
      "metadata": {
        "id": "c-OFCqPW4rYs",
        "colab_type": "text"
      },
      "source": [
        "#### top_list"
      ]
    },
    {
      "cell_type": "code",
      "metadata": {
        "id": "UmTNzjdorFrH",
        "colab_type": "code",
        "colab": {}
      },
      "source": [
        "def get_top_list(item_rank):\n",
        "  top_list = item_rank[['session_id', 'item_rank']]\n",
        "  top_list['top_list'] = top_list.apply(lambda x: 1 if x['item_rank'] < 6 else 0, axis=1)\n",
        "  top_list = top_list.reset_index(drop=True)\n",
        "  return top_list"
      ],
      "execution_count": 0,
      "outputs": []
    },
    {
      "cell_type": "code",
      "metadata": {
        "id": "yzJuclCnrPv7",
        "colab_type": "code",
        "outputId": "9aa64f91-ccad-4a11-a6c8-6d96cdcc4eef",
        "colab": {
          "base_uri": "https://localhost:8080/",
          "height": 419
        }
      },
      "source": [
        "top_list = get_top_list(item_rank)\n",
        "top_list"
      ],
      "execution_count": 0,
      "outputs": [
        {
          "output_type": "execute_result",
          "data": {
            "text/html": [
              "<div>\n",
              "<style scoped>\n",
              "    .dataframe tbody tr th:only-of-type {\n",
              "        vertical-align: middle;\n",
              "    }\n",
              "\n",
              "    .dataframe tbody tr th {\n",
              "        vertical-align: top;\n",
              "    }\n",
              "\n",
              "    .dataframe thead th {\n",
              "        text-align: right;\n",
              "    }\n",
              "</style>\n",
              "<table border=\"1\" class=\"dataframe\">\n",
              "  <thead>\n",
              "    <tr style=\"text-align: right;\">\n",
              "      <th></th>\n",
              "      <th>session_id</th>\n",
              "      <th>item_rank</th>\n",
              "      <th>top_list</th>\n",
              "    </tr>\n",
              "  </thead>\n",
              "  <tbody>\n",
              "    <tr>\n",
              "      <th>0</th>\n",
              "      <td>aff3928535f48</td>\n",
              "      <td>1</td>\n",
              "      <td>1</td>\n",
              "    </tr>\n",
              "    <tr>\n",
              "      <th>1</th>\n",
              "      <td>aff3928535f48</td>\n",
              "      <td>2</td>\n",
              "      <td>1</td>\n",
              "    </tr>\n",
              "    <tr>\n",
              "      <th>2</th>\n",
              "      <td>aff3928535f48</td>\n",
              "      <td>3</td>\n",
              "      <td>1</td>\n",
              "    </tr>\n",
              "    <tr>\n",
              "      <th>3</th>\n",
              "      <td>aff3928535f48</td>\n",
              "      <td>4</td>\n",
              "      <td>1</td>\n",
              "    </tr>\n",
              "    <tr>\n",
              "      <th>4</th>\n",
              "      <td>aff3928535f48</td>\n",
              "      <td>5</td>\n",
              "      <td>1</td>\n",
              "    </tr>\n",
              "    <tr>\n",
              "      <th>...</th>\n",
              "      <td>...</td>\n",
              "      <td>...</td>\n",
              "      <td>...</td>\n",
              "    </tr>\n",
              "    <tr>\n",
              "      <th>15373343</th>\n",
              "      <td>62728015bec05</td>\n",
              "      <td>21</td>\n",
              "      <td>0</td>\n",
              "    </tr>\n",
              "    <tr>\n",
              "      <th>15373344</th>\n",
              "      <td>62728015bec05</td>\n",
              "      <td>22</td>\n",
              "      <td>0</td>\n",
              "    </tr>\n",
              "    <tr>\n",
              "      <th>15373345</th>\n",
              "      <td>62728015bec05</td>\n",
              "      <td>23</td>\n",
              "      <td>0</td>\n",
              "    </tr>\n",
              "    <tr>\n",
              "      <th>15373346</th>\n",
              "      <td>62728015bec05</td>\n",
              "      <td>24</td>\n",
              "      <td>0</td>\n",
              "    </tr>\n",
              "    <tr>\n",
              "      <th>15373347</th>\n",
              "      <td>62728015bec05</td>\n",
              "      <td>25</td>\n",
              "      <td>0</td>\n",
              "    </tr>\n",
              "  </tbody>\n",
              "</table>\n",
              "<p>15373348 rows × 3 columns</p>\n",
              "</div>"
            ],
            "text/plain": [
              "             session_id  item_rank  top_list\n",
              "0         aff3928535f48          1         1\n",
              "1         aff3928535f48          2         1\n",
              "2         aff3928535f48          3         1\n",
              "3         aff3928535f48          4         1\n",
              "4         aff3928535f48          5         1\n",
              "...                 ...        ...       ...\n",
              "15373343  62728015bec05         21         0\n",
              "15373344  62728015bec05         22         0\n",
              "15373345  62728015bec05         23         0\n",
              "15373346  62728015bec05         24         0\n",
              "15373347  62728015bec05         25         0\n",
              "\n",
              "[15373348 rows x 3 columns]"
            ]
          },
          "metadata": {
            "tags": []
          },
          "execution_count": 65
        }
      ]
    },
    {
      "cell_type": "code",
      "metadata": {
        "id": "msv7fz0K7bAc",
        "colab_type": "code",
        "outputId": "4d3846db-a649-4c96-b0a7-8cdfb2d51a45",
        "colab": {
          "base_uri": "https://localhost:8080/",
          "height": 153
        }
      },
      "source": [
        "dataframes = [item_id, price, item_rank, price_rank, clickout, session_duration, item_duration, item_session_duration, item_interactions, maximum_step, top_list]\n",
        "local_data = pd.concat(dataframes)\n",
        "local_data"
      ],
      "execution_count": 0,
      "outputs": [
        {
          "output_type": "stream",
          "text": [
            "/usr/local/lib/python3.6/dist-packages/ipykernel_launcher.py:2: FutureWarning: Sorting because non-concatenation axis is not aligned. A future version\n",
            "of pandas will change to not sort by default.\n",
            "\n",
            "To accept the future behavior, pass 'sort=False'.\n",
            "\n",
            "To retain the current behavior and silence the warning, pass 'sort=True'.\n",
            "\n",
            "  \n"
          ],
          "name": "stderr"
        }
      ]
    },
    {
      "cell_type": "markdown",
      "metadata": {
        "id": "uArkTUTNSFlN",
        "colab_type": "text"
      },
      "source": [
        "## Merging Global Features to Local Feautres"
      ]
    },
    {
      "cell_type": "code",
      "metadata": {
        "id": "KxqGl5cZS_2b",
        "colab_type": "code",
        "colab": {}
      },
      "source": [
        "GlobalPath = './Datasets/clean_data/ItemsFeatures/item_global.csv'\n",
        "LocalPath = './Datasets/clean_data/ItemsFeatures/item_local.csv'\n",
        "\n",
        "GlobalData = pd.read_csv(GlobalPath)\n",
        "LocalData = pd.read_csv(LocalPath)\n",
        "\n",
        "TrainData = LocalData.merge(GlobalData, on='item_id', how='left')\n",
        "TrainData"
      ],
      "execution_count": 0,
      "outputs": []
    },
    {
      "cell_type": "code",
      "metadata": {
        "id": "_gtzDmCjpLga",
        "colab_type": "code",
        "colab": {}
      },
      "source": [
        "TrainData[TrainData.MeanRank.isnull()]"
      ],
      "execution_count": 0,
      "outputs": []
    },
    {
      "cell_type": "code",
      "metadata": {
        "id": "tapKHRPMplWj",
        "colab_type": "code",
        "colab": {}
      },
      "source": [
        "TrainData.item_id.nunique(), item_metadata.item_id.nunique()"
      ],
      "execution_count": 0,
      "outputs": []
    },
    {
      "cell_type": "code",
      "metadata": {
        "id": "xv9iTU78qNdp",
        "colab_type": "code",
        "outputId": "759822fb-aff4-4e35-a05e-b880977e5ef5",
        "colab": {
          "base_uri": "https://localhost:8080/",
          "height": 34
        }
      },
      "source": [
        "len(set(TrainData.item_id.unique()) - set(item_metadata.item_id.unique()))"
      ],
      "execution_count": 0,
      "outputs": [
        {
          "output_type": "execute_result",
          "data": {
            "text/plain": [
              "706"
            ]
          },
          "metadata": {
            "tags": []
          },
          "execution_count": 22
        }
      ]
    },
    {
      "cell_type": "markdown",
      "metadata": {
        "id": "fN5Rg6sNqD1Z",
        "colab_type": "text"
      },
      "source": [
        "Although item_metadata should have all the items in the training set, 706 of the items don't exits in item_metadata dataset. NaN values will be filled with mean value of each attribute."
      ]
    },
    {
      "cell_type": "code",
      "metadata": {
        "id": "2gKxo200rP8x",
        "colab_type": "code",
        "outputId": "feec632f-26cf-460c-c2d6-dffb5a63bf60",
        "colab": {
          "base_uri": "https://localhost:8080/",
          "height": 69
        }
      },
      "source": [
        "TrainData.drop(columns=['Unnamed: 0', 'properties'], inplace=True)\n",
        "NaNcolumns = ['NumberOfProperties', 'NumberInImpressions', 'NumberInReferences', 'NumberAsClickout', 'NumberAsFinalClickout',\n",
        "              'FClickoutToImpressions', 'FClickoutToReferences', 'FClickoutToClickout', 'MeanPrice', 'AveragePriceRank']\n",
        "for column in NaNcolumns:\n",
        "  MeanValue = TrainData[column].mean()\n",
        "  TrainData[column] =  TrainData[column].fillna(MeanValue)"
      ],
      "execution_count": 0,
      "outputs": [
        {
          "output_type": "execute_result",
          "data": {
            "text/html": [
              "<div>\n",
              "<style scoped>\n",
              "    .dataframe tbody tr th:only-of-type {\n",
              "        vertical-align: middle;\n",
              "    }\n",
              "\n",
              "    .dataframe tbody tr th {\n",
              "        vertical-align: top;\n",
              "    }\n",
              "\n",
              "    .dataframe thead th {\n",
              "        text-align: right;\n",
              "    }\n",
              "</style>\n",
              "<table border=\"1\" class=\"dataframe\">\n",
              "  <thead>\n",
              "    <tr style=\"text-align: right;\">\n",
              "      <th></th>\n",
              "      <th>session_id</th>\n",
              "      <th>item_id</th>\n",
              "      <th>price</th>\n",
              "      <th>item_rank</th>\n",
              "      <th>price_rank</th>\n",
              "      <th>clickout</th>\n",
              "      <th>session_duration</th>\n",
              "      <th>item_duration</th>\n",
              "      <th>item_session_duration</th>\n",
              "      <th>item_interactions</th>\n",
              "      <th>maximum_step</th>\n",
              "      <th>top_list</th>\n",
              "      <th>NumberOfProperties</th>\n",
              "      <th>NumberInImpressions</th>\n",
              "      <th>NumberInReferences</th>\n",
              "      <th>NumberAsClickout</th>\n",
              "      <th>NumberAsFinalClickout</th>\n",
              "      <th>FClickoutToImpressions</th>\n",
              "      <th>FClickoutToReferences</th>\n",
              "      <th>FClickoutToClickout</th>\n",
              "      <th>MeanPrice</th>\n",
              "      <th>AveragePriceRank</th>\n",
              "    </tr>\n",
              "  </thead>\n",
              "  <tbody>\n",
              "  </tbody>\n",
              "</table>\n",
              "</div>"
            ],
            "text/plain": [
              "Empty DataFrame\n",
              "Columns: [session_id, item_id, price, item_rank, price_rank, clickout, session_duration, item_duration, item_session_duration, item_interactions, maximum_step, top_list, NumberOfProperties, NumberInImpressions, NumberInReferences, NumberAsClickout, NumberAsFinalClickout, FClickoutToImpressions, FClickoutToReferences, FClickoutToClickout, MeanPrice, AveragePriceRank]\n",
              "Index: []"
            ]
          },
          "metadata": {
            "tags": []
          },
          "execution_count": 7
        }
      ]
    },
    {
      "cell_type": "markdown",
      "metadata": {
        "id": "2Gd-jWx5AgkB",
        "colab_type": "text"
      },
      "source": [
        "All above functions in the above cells are defined in one function in a class in order to make the code reusable for validation and test sets. The class is called data_transformation, and the main function in the class is transform_data(data), and takes only the Pandas Dataframe as an input, and gives the ready data for standardizing and then processing."
      ]
    },
    {
      "cell_type": "markdown",
      "metadata": {
        "id": "lQ_vp7PyCFQW",
        "colab_type": "text"
      },
      "source": [
        "## Applying transform_data Function"
      ]
    },
    {
      "cell_type": "markdown",
      "metadata": {
        "id": "77_KVo7sh-qj",
        "colab_type": "text"
      },
      "source": [
        "All the functions are saved in a class that can be imported and apply the function in just one line."
      ]
    },
    {
      "cell_type": "code",
      "metadata": {
        "id": "MimuqvGbiEfX",
        "colab_type": "code",
        "outputId": "d0b9734c-af7a-433f-ce64-3f7c21315de7",
        "colab": {
          "base_uri": "https://localhost:8080/",
          "height": 847
        }
      },
      "source": [
        "from data_transformation import data_transformation\n",
        "\n",
        "TrainData = data_transformation.transform_data(train)\n",
        "TrainData"
      ],
      "execution_count": 0,
      "outputs": [
        {
          "output_type": "stream",
          "text": [
            "/content/drive/My Drive/Trivago/Project/TrivagoRecommenderSystem/data_transformation.py:17: SettingWithCopyWarning: \n",
            "A value is trying to be set on a copy of a slice from a DataFrame.\n",
            "Try using .loc[row_indexer,col_indexer] = value instead\n",
            "\n",
            "See the caveats in the documentation: http://pandas.pydata.org/pandas-docs/stable/user_guide/indexing.html#returning-a-view-versus-a-copy\n",
            "  item_id['impressions'] = item_id['impressions'].apply(lambda x: x.split('|'))\n",
            "/content/drive/My Drive/Trivago/Project/TrivagoRecommenderSystem/data_transformation.py:35: SettingWithCopyWarning: \n",
            "A value is trying to be set on a copy of a slice from a DataFrame.\n",
            "Try using .loc[row_indexer,col_indexer] = value instead\n",
            "\n",
            "See the caveats in the documentation: http://pandas.pydata.org/pandas-docs/stable/user_guide/indexing.html#returning-a-view-versus-a-copy\n",
            "  price['prices'] = price['prices'].apply(lambda x: x.split('|'))\n",
            "/content/drive/My Drive/Trivago/Project/TrivagoRecommenderSystem/data_transformation.py:44: SettingWithCopyWarning: \n",
            "A value is trying to be set on a copy of a slice from a DataFrame.\n",
            "Try using .loc[row_indexer,col_indexer] = value instead\n",
            "\n",
            "See the caveats in the documentation: http://pandas.pydata.org/pandas-docs/stable/user_guide/indexing.html#returning-a-view-versus-a-copy\n",
            "  item_rank['impressions'] = item_rank['impressions'].apply(lambda x: x.split('|'))\n",
            "/content/drive/My Drive/Trivago/Project/TrivagoRecommenderSystem/data_transformation.py:45: SettingWithCopyWarning: \n",
            "A value is trying to be set on a copy of a slice from a DataFrame.\n",
            "Try using .loc[row_indexer,col_indexer] = value instead\n",
            "\n",
            "See the caveats in the documentation: http://pandas.pydata.org/pandas-docs/stable/user_guide/indexing.html#returning-a-view-versus-a-copy\n",
            "  item_rank['impressions'] = item_rank['impressions'].apply(lambda x: list(range(1, len(x) + 1)))\n"
          ],
          "name": "stderr"
        },
        {
          "output_type": "execute_result",
          "data": {
            "text/html": [
              "<div>\n",
              "<style scoped>\n",
              "    .dataframe tbody tr th:only-of-type {\n",
              "        vertical-align: middle;\n",
              "    }\n",
              "\n",
              "    .dataframe tbody tr th {\n",
              "        vertical-align: top;\n",
              "    }\n",
              "\n",
              "    .dataframe thead th {\n",
              "        text-align: right;\n",
              "    }\n",
              "</style>\n",
              "<table border=\"1\" class=\"dataframe\">\n",
              "  <thead>\n",
              "    <tr style=\"text-align: right;\">\n",
              "      <th></th>\n",
              "      <th>session_id</th>\n",
              "      <th>item_id</th>\n",
              "      <th>price</th>\n",
              "      <th>item_rank</th>\n",
              "      <th>price_rank</th>\n",
              "      <th>clickout</th>\n",
              "      <th>session_duration</th>\n",
              "      <th>item_duration</th>\n",
              "      <th>item_session_duration</th>\n",
              "      <th>item_interactions</th>\n",
              "      <th>maximum_step</th>\n",
              "      <th>top_list</th>\n",
              "      <th>NumberOfProperties</th>\n",
              "      <th>NumberInImpressions</th>\n",
              "      <th>NumberInReferences</th>\n",
              "      <th>NumberAsClickout</th>\n",
              "      <th>NumberAsFinalClickout</th>\n",
              "      <th>FClickoutToImpressions</th>\n",
              "      <th>FClickoutToReferences</th>\n",
              "      <th>FClickoutToClickout</th>\n",
              "      <th>MeanRank</th>\n",
              "      <th>MeanPrice</th>\n",
              "      <th>MaxPrice</th>\n",
              "      <th>MinPrice</th>\n",
              "      <th>AveragePriceRank</th>\n",
              "    </tr>\n",
              "  </thead>\n",
              "  <tbody>\n",
              "    <tr>\n",
              "      <th>0</th>\n",
              "      <td>aff3928535f48</td>\n",
              "      <td>55109</td>\n",
              "      <td>162</td>\n",
              "      <td>1</td>\n",
              "      <td>8</td>\n",
              "      <td>0</td>\n",
              "      <td>1025</td>\n",
              "      <td>0.0</td>\n",
              "      <td>0.0</td>\n",
              "      <td>0.0</td>\n",
              "      <td>16</td>\n",
              "      <td>1</td>\n",
              "      <td>58.0</td>\n",
              "      <td>584.0</td>\n",
              "      <td>479.0</td>\n",
              "      <td>25.0</td>\n",
              "      <td>11.0</td>\n",
              "      <td>0.018836</td>\n",
              "      <td>0.022965</td>\n",
              "      <td>0.440000</td>\n",
              "      <td>12.239726</td>\n",
              "      <td>194.595890</td>\n",
              "      <td>1905.0</td>\n",
              "      <td>65.0</td>\n",
              "      <td>11.840753</td>\n",
              "    </tr>\n",
              "    <tr>\n",
              "      <th>1</th>\n",
              "      <td>aff3928535f48</td>\n",
              "      <td>129343</td>\n",
              "      <td>25</td>\n",
              "      <td>2</td>\n",
              "      <td>1</td>\n",
              "      <td>0</td>\n",
              "      <td>1025</td>\n",
              "      <td>0.0</td>\n",
              "      <td>0.0</td>\n",
              "      <td>0.0</td>\n",
              "      <td>16</td>\n",
              "      <td>1</td>\n",
              "      <td>26.0</td>\n",
              "      <td>108.0</td>\n",
              "      <td>69.0</td>\n",
              "      <td>9.0</td>\n",
              "      <td>4.0</td>\n",
              "      <td>0.037037</td>\n",
              "      <td>0.057971</td>\n",
              "      <td>0.444444</td>\n",
              "      <td>11.083333</td>\n",
              "      <td>72.259259</td>\n",
              "      <td>388.0</td>\n",
              "      <td>18.0</td>\n",
              "      <td>10.166667</td>\n",
              "    </tr>\n",
              "    <tr>\n",
              "      <th>2</th>\n",
              "      <td>aff3928535f48</td>\n",
              "      <td>54824</td>\n",
              "      <td>150</td>\n",
              "      <td>3</td>\n",
              "      <td>15</td>\n",
              "      <td>0</td>\n",
              "      <td>1025</td>\n",
              "      <td>0.0</td>\n",
              "      <td>0.0</td>\n",
              "      <td>0.0</td>\n",
              "      <td>16</td>\n",
              "      <td>1</td>\n",
              "      <td>42.0</td>\n",
              "      <td>443.0</td>\n",
              "      <td>386.0</td>\n",
              "      <td>61.0</td>\n",
              "      <td>32.0</td>\n",
              "      <td>0.072235</td>\n",
              "      <td>0.082902</td>\n",
              "      <td>0.524590</td>\n",
              "      <td>11.627540</td>\n",
              "      <td>107.672686</td>\n",
              "      <td>408.0</td>\n",
              "      <td>42.0</td>\n",
              "      <td>11.291196</td>\n",
              "    </tr>\n",
              "    <tr>\n",
              "      <th>3</th>\n",
              "      <td>aff3928535f48</td>\n",
              "      <td>2297972</td>\n",
              "      <td>143</td>\n",
              "      <td>4</td>\n",
              "      <td>5</td>\n",
              "      <td>0</td>\n",
              "      <td>1025</td>\n",
              "      <td>0.0</td>\n",
              "      <td>0.0</td>\n",
              "      <td>0.0</td>\n",
              "      <td>16</td>\n",
              "      <td>1</td>\n",
              "      <td>38.0</td>\n",
              "      <td>17.0</td>\n",
              "      <td>23.0</td>\n",
              "      <td>2.0</td>\n",
              "      <td>0.0</td>\n",
              "      <td>0.000000</td>\n",
              "      <td>0.000000</td>\n",
              "      <td>0.000000</td>\n",
              "      <td>13.294118</td>\n",
              "      <td>136.000000</td>\n",
              "      <td>183.0</td>\n",
              "      <td>101.0</td>\n",
              "      <td>9.647059</td>\n",
              "    </tr>\n",
              "    <tr>\n",
              "      <th>4</th>\n",
              "      <td>aff3928535f48</td>\n",
              "      <td>109014</td>\n",
              "      <td>101</td>\n",
              "      <td>5</td>\n",
              "      <td>12</td>\n",
              "      <td>0</td>\n",
              "      <td>1025</td>\n",
              "      <td>0.0</td>\n",
              "      <td>0.0</td>\n",
              "      <td>0.0</td>\n",
              "      <td>16</td>\n",
              "      <td>1</td>\n",
              "      <td>60.0</td>\n",
              "      <td>194.0</td>\n",
              "      <td>268.0</td>\n",
              "      <td>18.0</td>\n",
              "      <td>9.0</td>\n",
              "      <td>0.046392</td>\n",
              "      <td>0.033582</td>\n",
              "      <td>0.500000</td>\n",
              "      <td>14.443299</td>\n",
              "      <td>149.329897</td>\n",
              "      <td>628.0</td>\n",
              "      <td>70.0</td>\n",
              "      <td>11.262887</td>\n",
              "    </tr>\n",
              "    <tr>\n",
              "      <th>...</th>\n",
              "      <td>...</td>\n",
              "      <td>...</td>\n",
              "      <td>...</td>\n",
              "      <td>...</td>\n",
              "      <td>...</td>\n",
              "      <td>...</td>\n",
              "      <td>...</td>\n",
              "      <td>...</td>\n",
              "      <td>...</td>\n",
              "      <td>...</td>\n",
              "      <td>...</td>\n",
              "      <td>...</td>\n",
              "      <td>...</td>\n",
              "      <td>...</td>\n",
              "      <td>...</td>\n",
              "      <td>...</td>\n",
              "      <td>...</td>\n",
              "      <td>...</td>\n",
              "      <td>...</td>\n",
              "      <td>...</td>\n",
              "      <td>...</td>\n",
              "      <td>...</td>\n",
              "      <td>...</td>\n",
              "      <td>...</td>\n",
              "      <td>...</td>\n",
              "    </tr>\n",
              "    <tr>\n",
              "      <th>12586682</th>\n",
              "      <td>62728015bec05</td>\n",
              "      <td>2712342</td>\n",
              "      <td>73</td>\n",
              "      <td>21</td>\n",
              "      <td>6</td>\n",
              "      <td>0</td>\n",
              "      <td>571</td>\n",
              "      <td>0.0</td>\n",
              "      <td>0.0</td>\n",
              "      <td>1.0</td>\n",
              "      <td>19</td>\n",
              "      <td>0</td>\n",
              "      <td>33.0</td>\n",
              "      <td>40.0</td>\n",
              "      <td>20.0</td>\n",
              "      <td>2.0</td>\n",
              "      <td>0.0</td>\n",
              "      <td>0.000000</td>\n",
              "      <td>0.000000</td>\n",
              "      <td>0.000000</td>\n",
              "      <td>15.550000</td>\n",
              "      <td>129.525000</td>\n",
              "      <td>881.0</td>\n",
              "      <td>54.0</td>\n",
              "      <td>12.950000</td>\n",
              "    </tr>\n",
              "    <tr>\n",
              "      <th>12586683</th>\n",
              "      <td>62728015bec05</td>\n",
              "      <td>48497</td>\n",
              "      <td>169</td>\n",
              "      <td>22</td>\n",
              "      <td>19</td>\n",
              "      <td>0</td>\n",
              "      <td>571</td>\n",
              "      <td>0.0</td>\n",
              "      <td>0.0</td>\n",
              "      <td>0.0</td>\n",
              "      <td>19</td>\n",
              "      <td>0</td>\n",
              "      <td>46.0</td>\n",
              "      <td>101.0</td>\n",
              "      <td>63.0</td>\n",
              "      <td>6.0</td>\n",
              "      <td>2.0</td>\n",
              "      <td>0.019802</td>\n",
              "      <td>0.031746</td>\n",
              "      <td>0.333333</td>\n",
              "      <td>15.049505</td>\n",
              "      <td>141.386139</td>\n",
              "      <td>253.0</td>\n",
              "      <td>99.0</td>\n",
              "      <td>11.940594</td>\n",
              "    </tr>\n",
              "    <tr>\n",
              "      <th>12586684</th>\n",
              "      <td>62728015bec05</td>\n",
              "      <td>11933</td>\n",
              "      <td>87</td>\n",
              "      <td>23</td>\n",
              "      <td>10</td>\n",
              "      <td>0</td>\n",
              "      <td>571</td>\n",
              "      <td>0.0</td>\n",
              "      <td>0.0</td>\n",
              "      <td>0.0</td>\n",
              "      <td>19</td>\n",
              "      <td>0</td>\n",
              "      <td>46.0</td>\n",
              "      <td>282.0</td>\n",
              "      <td>269.0</td>\n",
              "      <td>15.0</td>\n",
              "      <td>6.0</td>\n",
              "      <td>0.021277</td>\n",
              "      <td>0.022305</td>\n",
              "      <td>0.400000</td>\n",
              "      <td>14.003546</td>\n",
              "      <td>107.453901</td>\n",
              "      <td>311.0</td>\n",
              "      <td>69.0</td>\n",
              "      <td>12.262411</td>\n",
              "    </tr>\n",
              "    <tr>\n",
              "      <th>12586685</th>\n",
              "      <td>62728015bec05</td>\n",
              "      <td>1714483</td>\n",
              "      <td>485</td>\n",
              "      <td>24</td>\n",
              "      <td>23</td>\n",
              "      <td>0</td>\n",
              "      <td>571</td>\n",
              "      <td>0.0</td>\n",
              "      <td>0.0</td>\n",
              "      <td>0.0</td>\n",
              "      <td>19</td>\n",
              "      <td>0</td>\n",
              "      <td>37.0</td>\n",
              "      <td>49.0</td>\n",
              "      <td>7.0</td>\n",
              "      <td>1.0</td>\n",
              "      <td>0.0</td>\n",
              "      <td>0.000000</td>\n",
              "      <td>0.000000</td>\n",
              "      <td>0.000000</td>\n",
              "      <td>15.612245</td>\n",
              "      <td>287.734694</td>\n",
              "      <td>586.0</td>\n",
              "      <td>141.0</td>\n",
              "      <td>12.510204</td>\n",
              "    </tr>\n",
              "    <tr>\n",
              "      <th>12586686</th>\n",
              "      <td>62728015bec05</td>\n",
              "      <td>1236687</td>\n",
              "      <td>171</td>\n",
              "      <td>25</td>\n",
              "      <td>16</td>\n",
              "      <td>0</td>\n",
              "      <td>571</td>\n",
              "      <td>0.0</td>\n",
              "      <td>0.0</td>\n",
              "      <td>0.0</td>\n",
              "      <td>19</td>\n",
              "      <td>0</td>\n",
              "      <td>37.0</td>\n",
              "      <td>240.0</td>\n",
              "      <td>78.0</td>\n",
              "      <td>4.0</td>\n",
              "      <td>3.0</td>\n",
              "      <td>0.012500</td>\n",
              "      <td>0.038462</td>\n",
              "      <td>0.750000</td>\n",
              "      <td>12.433333</td>\n",
              "      <td>180.412500</td>\n",
              "      <td>500.0</td>\n",
              "      <td>113.0</td>\n",
              "      <td>12.191667</td>\n",
              "    </tr>\n",
              "  </tbody>\n",
              "</table>\n",
              "<p>12586687 rows × 25 columns</p>\n",
              "</div>"
            ],
            "text/plain": [
              "             session_id  item_id  price  ... MaxPrice MinPrice  AveragePriceRank\n",
              "0         aff3928535f48    55109    162  ...   1905.0     65.0         11.840753\n",
              "1         aff3928535f48   129343     25  ...    388.0     18.0         10.166667\n",
              "2         aff3928535f48    54824    150  ...    408.0     42.0         11.291196\n",
              "3         aff3928535f48  2297972    143  ...    183.0    101.0          9.647059\n",
              "4         aff3928535f48   109014    101  ...    628.0     70.0         11.262887\n",
              "...                 ...      ...    ...  ...      ...      ...               ...\n",
              "12586682  62728015bec05  2712342     73  ...    881.0     54.0         12.950000\n",
              "12586683  62728015bec05    48497    169  ...    253.0     99.0         11.940594\n",
              "12586684  62728015bec05    11933     87  ...    311.0     69.0         12.262411\n",
              "12586685  62728015bec05  1714483    485  ...    586.0    141.0         12.510204\n",
              "12586686  62728015bec05  1236687    171  ...    500.0    113.0         12.191667\n",
              "\n",
              "[12586687 rows x 25 columns]"
            ]
          },
          "metadata": {
            "tags": []
          },
          "execution_count": 5
        }
      ]
    },
    {
      "cell_type": "code",
      "metadata": {
        "id": "F_NG_gsK3Unu",
        "colab_type": "code",
        "colab": {}
      },
      "source": [
        "TrainData.to_csv('./Datasets/clean_data/Sets/train.csv', index=False)"
      ],
      "execution_count": 0,
      "outputs": []
    },
    {
      "cell_type": "markdown",
      "metadata": {
        "id": "9QhtauOOqgnA",
        "colab_type": "text"
      },
      "source": [
        "Merging properties to the TrainData as it carries valuable information such as rating, but at the same time because the dataset will be huge and session crashes, further step needs to be taken."
      ]
    },
    {
      "cell_type": "code",
      "metadata": {
        "id": "FQ7D6yC_qebu",
        "colab_type": "code",
        "colab": {}
      },
      "source": [
        "# TrainData.item_id = TrainData.item_id.apply(lambda x: str(x))\n",
        "# TrainData.merge(properties_encodedDF, on='item_id', how='left')"
      ],
      "execution_count": 0,
      "outputs": []
    }
  ]
}