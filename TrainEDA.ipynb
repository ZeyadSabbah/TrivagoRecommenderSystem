{
  "nbformat": 4,
  "nbformat_minor": 0,
  "metadata": {
    "kernelspec": {
      "display_name": "Python 3",
      "language": "python",
      "name": "python3"
    },
    "language_info": {
      "codemirror_mode": {
        "name": "ipython",
        "version": 3
      },
      "file_extension": ".py",
      "mimetype": "text/x-python",
      "name": "python",
      "nbconvert_exporter": "python",
      "pygments_lexer": "ipython3",
      "version": "3.7.3"
    },
    "colab": {
      "name": "Train EDA.ipynb",
      "provenance": [],
      "collapsed_sections": [
        "WLIIE51ok0gK",
        "P2IS4M63k0g5",
        "lkz4HV6Ik0g-",
        "QCOzb_dOk0hN",
        "tTi-vGjAk0hW",
        "DBjNiZmyk0hs",
        "06Yw26d_k0hw",
        "v3sFEO93k0iE",
        "7S8HKGyak0iI",
        "gVOgk0fxk0io",
        "SrtukAYmk0ix",
        "XdCjmXdnk0i8",
        "DVyvPaqUk0jb",
        "30lp5puEk0jl"
      ],
      "include_colab_link": true
    }
  },
  "cells": [
    {
      "cell_type": "markdown",
      "metadata": {
        "id": "view-in-github",
        "colab_type": "text"
      },
      "source": [
        "<a href=\"https://colab.research.google.com/github/ZeyadSabbah/TrivagoRecommenderSystem/blob/master/Train_EDA.ipynb\" target=\"_parent\"><img src=\"https://colab.research.google.com/assets/colab-badge.svg\" alt=\"Open In Colab\"/></a>"
      ]
    },
    {
      "cell_type": "markdown",
      "metadata": {
        "id": "RFRH1N8mk0er",
        "colab_type": "text"
      },
      "source": [
        "# Train Data Exploration Analysis"
      ]
    },
    {
      "cell_type": "markdown",
      "metadata": {
        "id": "PuvNUwkuk0ex",
        "colab_type": "text"
      },
      "source": [
        "Since the challenge is already finished, and there is no submission, the test set mentioned in the TrivagoEDA is not available, test set had to be a subset from the train set, as well as the validation set. The purpose from this notebook is to explore the train data (without validation or test sets), so there is no bias or data leakage.\n",
        "## Mounting to Drive"
      ]
    },
    {
      "cell_type": "code",
      "metadata": {
        "id": "bYQkUpaSwF6W",
        "colab_type": "code",
        "colab": {
          "base_uri": "https://localhost:8080/",
          "height": 128
        },
        "outputId": "7390c38b-d397-4061-974f-c64e1cacecac"
      },
      "source": [
        "from google.colab import drive\n",
        "drive.mount('/content/drive')"
      ],
      "execution_count": 1,
      "outputs": [
        {
          "output_type": "stream",
          "text": [
            "Go to this URL in a browser: https://accounts.google.com/o/oauth2/auth?client_id=947318989803-6bn6qk8qdgf4n4g3pfee6491hc0brc4i.apps.googleusercontent.com&redirect_uri=urn%3aietf%3awg%3aoauth%3a2.0%3aoob&response_type=code&scope=email%20https%3a%2f%2fwww.googleapis.com%2fauth%2fdocs.test%20https%3a%2f%2fwww.googleapis.com%2fauth%2fdrive%20https%3a%2f%2fwww.googleapis.com%2fauth%2fdrive.photos.readonly%20https%3a%2f%2fwww.googleapis.com%2fauth%2fpeopleapi.readonly\n",
            "\n",
            "Enter your authorization code:\n",
            "··········\n",
            "Mounted at /content/drive\n"
          ],
          "name": "stdout"
        }
      ]
    },
    {
      "cell_type": "code",
      "metadata": {
        "id": "jLbth62DwI6Q",
        "colab_type": "code",
        "colab": {
          "base_uri": "https://localhost:8080/",
          "height": 35
        },
        "outputId": "d3772cf6-8fc1-49d3-98e3-4bd88555ff3e"
      },
      "source": [
        "%cd /content/drive/My Drive/Trivago/Project/TrivagoRecommenderSystem"
      ],
      "execution_count": 2,
      "outputs": [
        {
          "output_type": "stream",
          "text": [
            "/content/drive/My Drive/Trivago/Project/TrivagoRecommenderSystem\n"
          ],
          "name": "stdout"
        }
      ]
    },
    {
      "cell_type": "markdown",
      "metadata": {
        "id": "XBqdiKrSk0e0",
        "colab_type": "text"
      },
      "source": [
        "## Loading Libraries & Training Dataset"
      ]
    },
    {
      "cell_type": "code",
      "metadata": {
        "id": "1rQNalfYk0e2",
        "colab_type": "code",
        "colab": {}
      },
      "source": [
        "import pandas as pd\n",
        "import numpy as np\n",
        "from datetime import datetime\n",
        "from datetime import timedelta\n",
        "import math\n",
        "import matplotlib.pyplot as plt\n",
        "from datetime import datetime\n",
        "import re\n",
        "import random"
      ],
      "execution_count": 0,
      "outputs": []
    },
    {
      "cell_type": "code",
      "metadata": {
        "id": "fRUvOstSk0e7",
        "colab_type": "code",
        "outputId": "dbdb4782-3da3-4957-e2a5-43f1cdeeb306",
        "colab": {
          "base_uri": "https://localhost:8080/",
          "height": 198
        }
      },
      "source": [
        "filepath_item_metadata = '../../Datasets/raw_data/item_metadata.csv'\n",
        "item_metadata = pd.read_csv(filepath_item_metadata)\n",
        "item_metadata.head()"
      ],
      "execution_count": 4,
      "outputs": [
        {
          "output_type": "execute_result",
          "data": {
            "text/html": [
              "<div>\n",
              "<style scoped>\n",
              "    .dataframe tbody tr th:only-of-type {\n",
              "        vertical-align: middle;\n",
              "    }\n",
              "\n",
              "    .dataframe tbody tr th {\n",
              "        vertical-align: top;\n",
              "    }\n",
              "\n",
              "    .dataframe thead th {\n",
              "        text-align: right;\n",
              "    }\n",
              "</style>\n",
              "<table border=\"1\" class=\"dataframe\">\n",
              "  <thead>\n",
              "    <tr style=\"text-align: right;\">\n",
              "      <th></th>\n",
              "      <th>item_id</th>\n",
              "      <th>properties</th>\n",
              "    </tr>\n",
              "  </thead>\n",
              "  <tbody>\n",
              "    <tr>\n",
              "      <th>0</th>\n",
              "      <td>5101</td>\n",
              "      <td>Satellite TV|Golf Course|Airport Shuttle|Cosme...</td>\n",
              "    </tr>\n",
              "    <tr>\n",
              "      <th>1</th>\n",
              "      <td>5416</td>\n",
              "      <td>Satellite TV|Cosmetic Mirror|Safe (Hotel)|Tele...</td>\n",
              "    </tr>\n",
              "    <tr>\n",
              "      <th>2</th>\n",
              "      <td>5834</td>\n",
              "      <td>Satellite TV|Cosmetic Mirror|Safe (Hotel)|Tele...</td>\n",
              "    </tr>\n",
              "    <tr>\n",
              "      <th>3</th>\n",
              "      <td>5910</td>\n",
              "      <td>Satellite TV|Sailing|Cosmetic Mirror|Telephone...</td>\n",
              "    </tr>\n",
              "    <tr>\n",
              "      <th>4</th>\n",
              "      <td>6066</td>\n",
              "      <td>Satellite TV|Sailing|Diving|Cosmetic Mirror|Sa...</td>\n",
              "    </tr>\n",
              "  </tbody>\n",
              "</table>\n",
              "</div>"
            ],
            "text/plain": [
              "   item_id                                         properties\n",
              "0     5101  Satellite TV|Golf Course|Airport Shuttle|Cosme...\n",
              "1     5416  Satellite TV|Cosmetic Mirror|Safe (Hotel)|Tele...\n",
              "2     5834  Satellite TV|Cosmetic Mirror|Safe (Hotel)|Tele...\n",
              "3     5910  Satellite TV|Sailing|Cosmetic Mirror|Telephone...\n",
              "4     6066  Satellite TV|Sailing|Diving|Cosmetic Mirror|Sa..."
            ]
          },
          "metadata": {
            "tags": []
          },
          "execution_count": 4
        }
      ]
    },
    {
      "cell_type": "code",
      "metadata": {
        "id": "DKQ5wQDnk0fB",
        "colab_type": "code",
        "outputId": "cf27d42f-e920-46a5-c319-5c7e41c38875",
        "colab": {}
      },
      "source": [
        "item_metadata.properties[0]"
      ],
      "execution_count": 0,
      "outputs": [
        {
          "output_type": "execute_result",
          "data": {
            "text/plain": [
              "'Satellite TV|Golf Course|Airport Shuttle|Cosmetic Mirror|Safe (Hotel)|Telephone|Hotel|Sitting Area (Rooms)|Reception (24/7)|Air Conditioning|Hypoallergenic Rooms|Cable TV|Hotel Bar|Pool Table|Bathtub|Satisfactory Rating|Room Service|Luxury Hotel|Terrace (Hotel)|Television|Minigolf|Business Hotel|Shower|Cot|Gym|Hairdryer|Hypoallergenic Bedding|Accessible Parking|From 3 Stars|Good Rating|Radio|4 Star|From 4 Stars|Family Friendly|Desk|Tennis Court (Indoor)|Balcony|WiFi (Public Areas)|Openable Windows|Express Check-In / Check-Out|Restaurant|Laundry Service|Ironing Board|Tennis Court|From 2 Stars|Business Centre|Bowling|Conference Rooms|Electric Kettle|Accessible Hotel|Porter|Bike Rental|Non-Smoking Rooms|Car Park|Safe (Rooms)|Fitness|Fan|Flatscreen TV|Computer with Internet|WiFi (Rooms)|Lift|Central Heating'"
            ]
          },
          "metadata": {
            "tags": []
          },
          "execution_count": 5
        }
      ]
    },
    {
      "cell_type": "code",
      "metadata": {
        "id": "an-qoablk0fK",
        "colab_type": "code",
        "outputId": "40433122-3b63-4360-fece-b9ecf0804536",
        "colab": {
          "base_uri": "https://localhost:8080/",
          "height": 198
        }
      },
      "source": [
        "filepath_train = '../../Datasets/clean_data/train.csv'\n",
        "train = pd.read_csv(filepath_train)\n",
        "train = train.drop(columns='Unnamed: 0')\n",
        "train.head()"
      ],
      "execution_count": 5,
      "outputs": [
        {
          "output_type": "execute_result",
          "data": {
            "text/html": [
              "<div>\n",
              "<style scoped>\n",
              "    .dataframe tbody tr th:only-of-type {\n",
              "        vertical-align: middle;\n",
              "    }\n",
              "\n",
              "    .dataframe tbody tr th {\n",
              "        vertical-align: top;\n",
              "    }\n",
              "\n",
              "    .dataframe thead th {\n",
              "        text-align: right;\n",
              "    }\n",
              "</style>\n",
              "<table border=\"1\" class=\"dataframe\">\n",
              "  <thead>\n",
              "    <tr style=\"text-align: right;\">\n",
              "      <th></th>\n",
              "      <th>user_id</th>\n",
              "      <th>session_id</th>\n",
              "      <th>timestamp</th>\n",
              "      <th>step</th>\n",
              "      <th>action_type</th>\n",
              "      <th>reference</th>\n",
              "      <th>platform</th>\n",
              "      <th>city</th>\n",
              "      <th>device</th>\n",
              "      <th>current_filters</th>\n",
              "      <th>impressions</th>\n",
              "      <th>prices</th>\n",
              "    </tr>\n",
              "  </thead>\n",
              "  <tbody>\n",
              "    <tr>\n",
              "      <th>0</th>\n",
              "      <td>00RL8Z82B2Z1</td>\n",
              "      <td>aff3928535f48</td>\n",
              "      <td>1541037460</td>\n",
              "      <td>1</td>\n",
              "      <td>search for poi</td>\n",
              "      <td>Newtown</td>\n",
              "      <td>AU</td>\n",
              "      <td>Sydney, Australia</td>\n",
              "      <td>mobile</td>\n",
              "      <td>NaN</td>\n",
              "      <td>NaN</td>\n",
              "      <td>NaN</td>\n",
              "    </tr>\n",
              "    <tr>\n",
              "      <th>1</th>\n",
              "      <td>00RL8Z82B2Z1</td>\n",
              "      <td>aff3928535f48</td>\n",
              "      <td>1541037522</td>\n",
              "      <td>2</td>\n",
              "      <td>interaction item image</td>\n",
              "      <td>666856</td>\n",
              "      <td>AU</td>\n",
              "      <td>Sydney, Australia</td>\n",
              "      <td>mobile</td>\n",
              "      <td>NaN</td>\n",
              "      <td>NaN</td>\n",
              "      <td>NaN</td>\n",
              "    </tr>\n",
              "    <tr>\n",
              "      <th>2</th>\n",
              "      <td>00RL8Z82B2Z1</td>\n",
              "      <td>aff3928535f48</td>\n",
              "      <td>1541037522</td>\n",
              "      <td>3</td>\n",
              "      <td>interaction item image</td>\n",
              "      <td>666856</td>\n",
              "      <td>AU</td>\n",
              "      <td>Sydney, Australia</td>\n",
              "      <td>mobile</td>\n",
              "      <td>NaN</td>\n",
              "      <td>NaN</td>\n",
              "      <td>NaN</td>\n",
              "    </tr>\n",
              "    <tr>\n",
              "      <th>3</th>\n",
              "      <td>00RL8Z82B2Z1</td>\n",
              "      <td>aff3928535f48</td>\n",
              "      <td>1541037532</td>\n",
              "      <td>4</td>\n",
              "      <td>interaction item image</td>\n",
              "      <td>666856</td>\n",
              "      <td>AU</td>\n",
              "      <td>Sydney, Australia</td>\n",
              "      <td>mobile</td>\n",
              "      <td>NaN</td>\n",
              "      <td>NaN</td>\n",
              "      <td>NaN</td>\n",
              "    </tr>\n",
              "    <tr>\n",
              "      <th>4</th>\n",
              "      <td>00RL8Z82B2Z1</td>\n",
              "      <td>aff3928535f48</td>\n",
              "      <td>1541037532</td>\n",
              "      <td>5</td>\n",
              "      <td>interaction item image</td>\n",
              "      <td>109038</td>\n",
              "      <td>AU</td>\n",
              "      <td>Sydney, Australia</td>\n",
              "      <td>mobile</td>\n",
              "      <td>NaN</td>\n",
              "      <td>NaN</td>\n",
              "      <td>NaN</td>\n",
              "    </tr>\n",
              "  </tbody>\n",
              "</table>\n",
              "</div>"
            ],
            "text/plain": [
              "        user_id     session_id   timestamp  ...  current_filters impressions prices\n",
              "0  00RL8Z82B2Z1  aff3928535f48  1541037460  ...              NaN         NaN    NaN\n",
              "1  00RL8Z82B2Z1  aff3928535f48  1541037522  ...              NaN         NaN    NaN\n",
              "2  00RL8Z82B2Z1  aff3928535f48  1541037522  ...              NaN         NaN    NaN\n",
              "3  00RL8Z82B2Z1  aff3928535f48  1541037532  ...              NaN         NaN    NaN\n",
              "4  00RL8Z82B2Z1  aff3928535f48  1541037532  ...              NaN         NaN    NaN\n",
              "\n",
              "[5 rows x 12 columns]"
            ]
          },
          "metadata": {
            "tags": []
          },
          "execution_count": 5
        }
      ]
    },
    {
      "cell_type": "markdown",
      "metadata": {
        "id": "_B99s2fYk0fX",
        "colab_type": "text"
      },
      "source": [
        "Final Clickout is the main concert of this project, a dataframe for it specifically will be beneficial."
      ]
    },
    {
      "cell_type": "code",
      "metadata": {
        "id": "YmJhZv19k0fa",
        "colab_type": "code",
        "colab": {
          "base_uri": "https://localhost:8080/",
          "height": 339
        },
        "outputId": "12e3cacf-2cfa-4242-927f-46985ca8f86a"
      },
      "source": [
        "FinalClickoutDF = train[train.action_type=='clickout item'].groupby('session_id').tail(1)\n",
        "FinalClickoutDF.head()"
      ],
      "execution_count": 6,
      "outputs": [
        {
          "output_type": "execute_result",
          "data": {
            "text/html": [
              "<div>\n",
              "<style scoped>\n",
              "    .dataframe tbody tr th:only-of-type {\n",
              "        vertical-align: middle;\n",
              "    }\n",
              "\n",
              "    .dataframe tbody tr th {\n",
              "        vertical-align: top;\n",
              "    }\n",
              "\n",
              "    .dataframe thead th {\n",
              "        text-align: right;\n",
              "    }\n",
              "</style>\n",
              "<table border=\"1\" class=\"dataframe\">\n",
              "  <thead>\n",
              "    <tr style=\"text-align: right;\">\n",
              "      <th></th>\n",
              "      <th>user_id</th>\n",
              "      <th>session_id</th>\n",
              "      <th>timestamp</th>\n",
              "      <th>step</th>\n",
              "      <th>action_type</th>\n",
              "      <th>reference</th>\n",
              "      <th>platform</th>\n",
              "      <th>city</th>\n",
              "      <th>device</th>\n",
              "      <th>current_filters</th>\n",
              "      <th>impressions</th>\n",
              "      <th>prices</th>\n",
              "    </tr>\n",
              "  </thead>\n",
              "  <tbody>\n",
              "    <tr>\n",
              "      <th>15</th>\n",
              "      <td>00RL8Z82B2Z1</td>\n",
              "      <td>aff3928535f48</td>\n",
              "      <td>1541038485</td>\n",
              "      <td>16</td>\n",
              "      <td>clickout item</td>\n",
              "      <td>1257342</td>\n",
              "      <td>AU</td>\n",
              "      <td>Sydney, Australia</td>\n",
              "      <td>mobile</td>\n",
              "      <td>NaN</td>\n",
              "      <td>55109|129343|54824|2297972|109014|1257342|1031...</td>\n",
              "      <td>162|25|150|143|101|49|118|131|18|100|101|143|5...</td>\n",
              "    </tr>\n",
              "    <tr>\n",
              "      <th>115</th>\n",
              "      <td>02SRUT1NQYH1</td>\n",
              "      <td>3599a6f709eab</td>\n",
              "      <td>1541063864</td>\n",
              "      <td>35</td>\n",
              "      <td>clickout item</td>\n",
              "      <td>2795374</td>\n",
              "      <td>FI</td>\n",
              "      <td>Krakow, Poland</td>\n",
              "      <td>mobile</td>\n",
              "      <td>NaN</td>\n",
              "      <td>2795374|5582964|1088390|2781070|1258068|127196...</td>\n",
              "      <td>64|54|36|121|76|81|92|40|73|52|98|104|56|414|6...</td>\n",
              "    </tr>\n",
              "    <tr>\n",
              "      <th>122</th>\n",
              "      <td>03K8AXBL4BX2</td>\n",
              "      <td>ec139e10b9238</td>\n",
              "      <td>1541100652</td>\n",
              "      <td>7</td>\n",
              "      <td>clickout item</td>\n",
              "      <td>1032816</td>\n",
              "      <td>UK</td>\n",
              "      <td>London, United Kingdom</td>\n",
              "      <td>desktop</td>\n",
              "      <td>NaN</td>\n",
              "      <td>12693|46363|81657|18448|47687|152913|18417|927...</td>\n",
              "      <td>104|92|100|103|102|104|72|85|81|75|107|86|98|8...</td>\n",
              "    </tr>\n",
              "    <tr>\n",
              "      <th>177</th>\n",
              "      <td>03P4VFKK12UO</td>\n",
              "      <td>325fafb5fa450</td>\n",
              "      <td>1541107538</td>\n",
              "      <td>55</td>\n",
              "      <td>clickout item</td>\n",
              "      <td>1320460</td>\n",
              "      <td>US</td>\n",
              "      <td>Bakersfield, USA</td>\n",
              "      <td>desktop</td>\n",
              "      <td>Very Good Rating|5 Star|4 Star|Hotel|Motel|Res...</td>\n",
              "      <td>1306936|56482|2842358|6881276|65685|63259|6539...</td>\n",
              "      <td>178|104|110|94|57|96|46|61|48|35|50|38|59|44|5...</td>\n",
              "    </tr>\n",
              "    <tr>\n",
              "      <th>180</th>\n",
              "      <td>0473FZ8UNXRS</td>\n",
              "      <td>bcc452f3350eb</td>\n",
              "      <td>1541062532</td>\n",
              "      <td>3</td>\n",
              "      <td>clickout item</td>\n",
              "      <td>3143258</td>\n",
              "      <td>AU</td>\n",
              "      <td>Legian, Indonesia</td>\n",
              "      <td>desktop</td>\n",
              "      <td>NaN</td>\n",
              "      <td>1258184|3866722|8929970|2315702|116619|1511641...</td>\n",
              "      <td>51|43|69|49|62|50|55|42|87|46|43|114|194|50|19...</td>\n",
              "    </tr>\n",
              "  </tbody>\n",
              "</table>\n",
              "</div>"
            ],
            "text/plain": [
              "          user_id  ...                                             prices\n",
              "15   00RL8Z82B2Z1  ...  162|25|150|143|101|49|118|131|18|100|101|143|5...\n",
              "115  02SRUT1NQYH1  ...  64|54|36|121|76|81|92|40|73|52|98|104|56|414|6...\n",
              "122  03K8AXBL4BX2  ...  104|92|100|103|102|104|72|85|81|75|107|86|98|8...\n",
              "177  03P4VFKK12UO  ...  178|104|110|94|57|96|46|61|48|35|50|38|59|44|5...\n",
              "180  0473FZ8UNXRS  ...  51|43|69|49|62|50|55|42|87|46|43|114|194|50|19...\n",
              "\n",
              "[5 rows x 12 columns]"
            ]
          },
          "metadata": {
            "tags": []
          },
          "execution_count": 6
        }
      ]
    },
    {
      "cell_type": "markdown",
      "metadata": {
        "id": "NwgBejlok0fm",
        "colab_type": "text"
      },
      "source": [
        "## Attributes Exploration"
      ]
    },
    {
      "cell_type": "markdown",
      "metadata": {
        "id": "2LFUZQEok0fq",
        "colab_type": "text"
      },
      "source": [
        "### User_id and Session_id Attributes"
      ]
    },
    {
      "cell_type": "code",
      "metadata": {
        "scrolled": true,
        "id": "xV8oKqebk0fu",
        "colab_type": "code",
        "outputId": "aef2bd1b-a93b-4b5f-cd8e-5510f4d45db3",
        "colab": {}
      },
      "source": [
        "print('number of unique users :', train.user_id.nunique())\n",
        "print('number of unique sessions :', train.session_id.nunique())"
      ],
      "execution_count": 0,
      "outputs": [
        {
          "output_type": "stream",
          "text": [
            "number of unique users : 617354\n",
            "number of unique sessions : 745755\n"
          ],
          "name": "stdout"
        }
      ]
    },
    {
      "cell_type": "markdown",
      "metadata": {
        "id": "HlVPxhTBk0f9",
        "colab_type": "text"
      },
      "source": [
        "### Timestamp Attribute"
      ]
    },
    {
      "cell_type": "code",
      "metadata": {
        "id": "4NRltQ3pk0gA",
        "colab_type": "code",
        "outputId": "10b79342-2b18-4284-d191-0aa0a4042c1e",
        "colab": {}
      },
      "source": [
        "train.timestamp.head(1)"
      ],
      "execution_count": 0,
      "outputs": [
        {
          "output_type": "execute_result",
          "data": {
            "text/plain": [
              "0    1541037460\n",
              "Name: timestamp, dtype: int64"
            ]
          },
          "metadata": {
            "tags": []
          },
          "execution_count": 51
        }
      ]
    },
    {
      "cell_type": "markdown",
      "metadata": {
        "id": "4oyDD0lWk0gH",
        "colab_type": "text"
      },
      "source": [
        "unix timestamp for each step by the user."
      ]
    },
    {
      "cell_type": "markdown",
      "metadata": {
        "id": "WLIIE51ok0gK",
        "colab_type": "text"
      },
      "source": [
        "### Step Attribute"
      ]
    },
    {
      "cell_type": "code",
      "metadata": {
        "id": "KikF7fwMk0gN",
        "colab_type": "code",
        "outputId": "120d86aa-f406-4316-c415-484d5cd049bf",
        "colab": {}
      },
      "source": [
        "train.step.head(5)"
      ],
      "execution_count": 0,
      "outputs": [
        {
          "output_type": "execute_result",
          "data": {
            "text/plain": [
              "0    1\n",
              "1    2\n",
              "2    3\n",
              "3    4\n",
              "4    5\n",
              "Name: step, dtype: int64"
            ]
          },
          "metadata": {
            "tags": []
          },
          "execution_count": 52
        }
      ]
    },
    {
      "cell_type": "markdown",
      "metadata": {
        "id": "67DdjXDWk0gT",
        "colab_type": "text"
      },
      "source": [
        "Each step number is recorded which step is taken by the user."
      ]
    },
    {
      "cell_type": "code",
      "metadata": {
        "scrolled": false,
        "id": "MN1KD8Xpk0gV",
        "colab_type": "code",
        "outputId": "bd728025-051a-4a43-9dc3-19a447664bc3",
        "colab": {}
      },
      "source": [
        "plt.figure(figsize=(10,8))\n",
        "plt.title('Steps Per Session', fontsize=20)\n",
        "plt.xlabel('Session', fontsize=15)\n",
        "plt.ylabel('Number of Steps', fontsize=15)\n",
        "plt.boxplot(train.groupby('session_id').step.max().values)"
      ],
      "execution_count": 0,
      "outputs": [
        {
          "output_type": "execute_result",
          "data": {
            "text/plain": [
              "{'whiskers': [<matplotlib.lines.Line2D at 0x15e16cbcf28>,\n",
              "  <matplotlib.lines.Line2D at 0x15e16ccf588>],\n",
              " 'caps': [<matplotlib.lines.Line2D at 0x15e16ccf8d0>,\n",
              "  <matplotlib.lines.Line2D at 0x15e16ccfc18>],\n",
              " 'boxes': [<matplotlib.lines.Line2D at 0x15e16cbcdd8>],\n",
              " 'medians': [<matplotlib.lines.Line2D at 0x15e16ccff60>],\n",
              " 'fliers': [<matplotlib.lines.Line2D at 0x15e16ccfeb8>],\n",
              " 'means': []}"
            ]
          },
          "metadata": {
            "tags": []
          },
          "execution_count": 6
        },
        {
          "output_type": "display_data",
          "data": {
            "image/png": "[encoded data removed]",
            "text/plain": [
              "<Figure size 720x576 with 1 Axes>"
            ]
          },
          "metadata": {
            "tags": [],
            "needs_background": "light"
          }
        }
      ]
    },
    {
      "cell_type": "code",
      "metadata": {
        "scrolled": true,
        "id": "fOC9LH7Qk0gi",
        "colab_type": "code",
        "outputId": "f391e314-3200-4ed8-ce7a-fc162d436aa8",
        "colab": {}
      },
      "source": [
        "#just for the sake of clarification\n",
        "plt.figure(figsize=(10,8))\n",
        "plt.title('Steps Per Session', fontsize=20)\n",
        "plt.xlabel('Session', fontsize=15)\n",
        "plt.ylabel('Number of Steps', fontsize=15)\n",
        "plt.ylim([0, 100])\n",
        "plt.boxplot(train.groupby('session_id').step.max().values)"
      ],
      "execution_count": 0,
      "outputs": [
        {
          "output_type": "execute_result",
          "data": {
            "text/plain": [
              "{'whiskers': [<matplotlib.lines.Line2D at 0x15e16f10f28>,\n",
              "  <matplotlib.lines.Line2D at 0x15e17339cc0>],\n",
              " 'caps': [<matplotlib.lines.Line2D at 0x15e17339dd8>,\n",
              "  <matplotlib.lines.Line2D at 0x15e17342390>],\n",
              " 'boxes': [<matplotlib.lines.Line2D at 0x15e17339630>],\n",
              " 'medians': [<matplotlib.lines.Line2D at 0x15e173426d8>],\n",
              " 'fliers': [<matplotlib.lines.Line2D at 0x15e17342a20>],\n",
              " 'means': []}"
            ]
          },
          "metadata": {
            "tags": []
          },
          "execution_count": 12
        },
        {
          "output_type": "display_data",
          "data": {
            "image/png": "[encoded data removed]",
            "text/plain": [
              "<Figure size 720x576 with 1 Axes>"
            ]
          },
          "metadata": {
            "tags": [],
            "needs_background": "light"
          }
        }
      ]
    },
    {
      "cell_type": "markdown",
      "metadata": {
        "id": "RyVViPPYk0gm",
        "colab_type": "text"
      },
      "source": [
        "It seems that the maximum is 25 steps per session, so to see the percentage of outliers"
      ]
    },
    {
      "cell_type": "code",
      "metadata": {
        "id": "9_jMNSDPk0gn",
        "colab_type": "code",
        "outputId": "6420c990-d97c-4d22-ce32-9a6bf3ef3a5a",
        "colab": {}
      },
      "source": [
        "TotalNumberOfSessions = len(train.groupby('session_id').step.max().values)\n",
        "NumberOfSessionsStepOver200 = (train.groupby('session_id').step.max().values > 200).sum()\n",
        "PercentageOfStepOver200 = NumberOfSessionsStepOver200/TotalNumberOfSessions\n",
        "print('Percentage of sessions with maximum step value more than 200 is', round(PercentageOfStepOver200, 2)*100, '%.')"
      ],
      "execution_count": 0,
      "outputs": [
        {
          "output_type": "stream",
          "text": [
            "Percentage of sessions with maximum step value more than 200 is 1.0 %.\n"
          ],
          "name": "stdout"
        }
      ]
    },
    {
      "cell_type": "code",
      "metadata": {
        "scrolled": true,
        "id": "yUpiqAHik0gq",
        "colab_type": "code",
        "outputId": "299dc85f-ea60-457e-a65a-1add8d8719ea",
        "colab": {}
      },
      "source": [
        "#In other words\n",
        "plt.figure(figsize=(10,8))\n",
        "plt.title('Frequency for Steps', fontsize=20)\n",
        "plt.xlabel('Steps', fontsize=15)\n",
        "plt.ylabel('Frequency', fontsize=15)\n",
        "plt.xlim([0, 100])\n",
        "plt.hist(train.groupby('session_id').step.max().values, bins=1000);"
      ],
      "execution_count": 0,
      "outputs": [
        {
          "output_type": "display_data",
          "data": {
            "image/png": "[encoded data removed]",
            "text/plain": [
              "<Figure size 720x576 with 1 Axes>"
            ]
          },
          "metadata": {
            "tags": [],
            "needs_background": "light"
          }
        }
      ]
    },
    {
      "cell_type": "markdown",
      "metadata": {
        "id": "0ErkX0Wok0gv",
        "colab_type": "text"
      },
      "source": [
        "Sessions that are high in steps are computational overhead and don't have valuable information.\n",
        "One of the outliers has around 3500 steps in just one session.\n",
        "\n",
        "A preprocessing function of removing sessions with high number of steps is needed."
      ]
    },
    {
      "cell_type": "code",
      "metadata": {
        "scrolled": true,
        "id": "ScTEY6wUk0gw",
        "colab_type": "code",
        "outputId": "56e75518-a9c0-489f-c60b-b529383efab2",
        "colab": {}
      },
      "source": [
        "#investigating further this type of sessions\n",
        "train[train.step > 3000].tail(1)"
      ],
      "execution_count": 0,
      "outputs": [
        {
          "output_type": "execute_result",
          "data": {
            "text/html": [
              "<div>\n",
              "<style scoped>\n",
              "    .dataframe tbody tr th:only-of-type {\n",
              "        vertical-align: middle;\n",
              "    }\n",
              "\n",
              "    .dataframe tbody tr th {\n",
              "        vertical-align: top;\n",
              "    }\n",
              "\n",
              "    .dataframe thead th {\n",
              "        text-align: right;\n",
              "    }\n",
              "</style>\n",
              "<table border=\"1\" class=\"dataframe\">\n",
              "  <thead>\n",
              "    <tr style=\"text-align: right;\">\n",
              "      <th></th>\n",
              "      <th>Unnamed: 0</th>\n",
              "      <th>user_id</th>\n",
              "      <th>session_id</th>\n",
              "      <th>timestamp</th>\n",
              "      <th>step</th>\n",
              "      <th>action_type</th>\n",
              "      <th>reference</th>\n",
              "      <th>platform</th>\n",
              "      <th>city</th>\n",
              "      <th>device</th>\n",
              "      <th>current_filters</th>\n",
              "      <th>impressions</th>\n",
              "      <th>prices</th>\n",
              "    </tr>\n",
              "  </thead>\n",
              "  <tbody>\n",
              "    <tr>\n",
              "      <th>7729607</th>\n",
              "      <td>9447211</td>\n",
              "      <td>6JWWFFNUMY6Y</td>\n",
              "      <td>3167404ed3197</td>\n",
              "      <td>1541368776</td>\n",
              "      <td>3522</td>\n",
              "      <td>interaction item rating</td>\n",
              "      <td>36455</td>\n",
              "      <td>TR</td>\n",
              "      <td>Ankara, Turkey</td>\n",
              "      <td>mobile</td>\n",
              "      <td>NaN</td>\n",
              "      <td>NaN</td>\n",
              "      <td>NaN</td>\n",
              "    </tr>\n",
              "  </tbody>\n",
              "</table>\n",
              "</div>"
            ],
            "text/plain": [
              "         Unnamed: 0       user_id     session_id   timestamp  step  \\\n",
              "7729607     9447211  6JWWFFNUMY6Y  3167404ed3197  1541368776  3522   \n",
              "\n",
              "                     action_type reference platform            city  device  \\\n",
              "7729607  interaction item rating     36455       TR  Ankara, Turkey  mobile   \n",
              "\n",
              "        current_filters impressions prices  \n",
              "7729607             NaN         NaN    NaN  "
            ]
          },
          "metadata": {
            "tags": []
          },
          "execution_count": 7
        }
      ]
    },
    {
      "cell_type": "markdown",
      "metadata": {
        "scrolled": true,
        "id": "rsPOjJdZk0g0",
        "colab_type": "text"
      },
      "source": [
        "train[train.session_id == '3167404ed3197'][train.action_type == 'clickout item']"
      ]
    },
    {
      "cell_type": "code",
      "metadata": {
        "scrolled": true,
        "id": "3r7MR31Pk0g1",
        "colab_type": "code",
        "colab": {}
      },
      "source": [
        "#dropping sessions with more than 200 steps\n",
        "SessionsOver200Steps = train[train.step > 200].session_id.values.tolist()\n",
        "train = train[~train['session_id'].isin(SessionsOver200Steps)]"
      ],
      "execution_count": 0,
      "outputs": []
    },
    {
      "cell_type": "markdown",
      "metadata": {
        "id": "P2IS4M63k0g5",
        "colab_type": "text"
      },
      "source": [
        "### Action_type Attribute"
      ]
    },
    {
      "cell_type": "code",
      "metadata": {
        "id": "rAyqoMU8k0g6",
        "colab_type": "code",
        "outputId": "0856a549-9f1a-4e55-c084-d7c9a21863d6",
        "colab": {}
      },
      "source": [
        "train.action_type.unique(), train.action_type.nunique()"
      ],
      "execution_count": 0,
      "outputs": [
        {
          "output_type": "execute_result",
          "data": {
            "text/plain": [
              "(array(['search for poi', 'interaction item image', 'clickout item',\n",
              "        'interaction item info', 'search for destination',\n",
              "        'filter selection', 'interaction item rating', 'search for item',\n",
              "        'change of sort order', 'interaction item deals'], dtype=object), 10)"
            ]
          },
          "metadata": {
            "tags": []
          },
          "execution_count": 53
        }
      ]
    },
    {
      "cell_type": "markdown",
      "metadata": {
        "id": "DIhaGhNlk0g9",
        "colab_type": "text"
      },
      "source": [
        "The 'clickout item' is the value of which can be a sign of if the row does have the label or not. It is the most valuable value."
      ]
    },
    {
      "cell_type": "markdown",
      "metadata": {
        "id": "lkz4HV6Ik0g-",
        "colab_type": "text"
      },
      "source": [
        "### Reference Attribute"
      ]
    },
    {
      "cell_type": "code",
      "metadata": {
        "id": "ypXkaCtbk0g_",
        "colab_type": "code",
        "outputId": "e769f4fb-d186-4bf6-aa1c-8acfa3eb13b0",
        "colab": {}
      },
      "source": [
        "train.reference.dropna().head(1)"
      ],
      "execution_count": 0,
      "outputs": [
        {
          "output_type": "execute_result",
          "data": {
            "text/plain": [
              "1    666856\n",
              "Name: reference, dtype: object"
            ]
          },
          "metadata": {
            "tags": []
          },
          "execution_count": 54
        }
      ]
    },
    {
      "cell_type": "markdown",
      "metadata": {
        "id": "uSiH0hcRk0hD",
        "colab_type": "text"
      },
      "source": [
        "The reference value is the item's id which the user has selected to proceed item's website, if this is the final clickout item in the session (as a session can have more than one clickout item in the action_type attribute), then that's an indication that the user is happy with this item.\n",
        "If this is not a clickout item, then the user is just interacting with the item in a way or another, like checking rating, reviews, point of interest, and so on."
      ]
    },
    {
      "cell_type": "code",
      "metadata": {
        "id": "7xvepIBWk0hE",
        "colab_type": "code",
        "outputId": "68736ca1-265e-4191-abcb-2d96842a00f9",
        "colab": {}
      },
      "source": [
        "train.reference.dropna().nunique()"
      ],
      "execution_count": 0,
      "outputs": [
        {
          "output_type": "execute_result",
          "data": {
            "text/plain": [
              "314611"
            ]
          },
          "metadata": {
            "tags": []
          },
          "execution_count": 55
        }
      ]
    },
    {
      "cell_type": "markdown",
      "metadata": {
        "id": "FoCRdpf3k0hI",
        "colab_type": "text"
      },
      "source": [
        "There are 314,611 unique items in the reference attribute."
      ]
    },
    {
      "cell_type": "code",
      "metadata": {
        "id": "ZYJ17c-nk0hJ",
        "colab_type": "code",
        "outputId": "122d8b41-70ea-457b-e876-a0111bc83079",
        "colab": {}
      },
      "source": [
        "FinalClickoutDF.reference.dropna().nunique()"
      ],
      "execution_count": 0,
      "outputs": [
        {
          "output_type": "execute_result",
          "data": {
            "text/plain": [
              "207596"
            ]
          },
          "metadata": {
            "tags": []
          },
          "execution_count": 56
        }
      ]
    },
    {
      "cell_type": "markdown",
      "metadata": {
        "id": "Yxc1lOSsk0hM",
        "colab_type": "text"
      },
      "source": [
        "There are only 207,596 unique items have been selected as final clickout item. "
      ]
    },
    {
      "cell_type": "markdown",
      "metadata": {
        "id": "QCOzb_dOk0hN",
        "colab_type": "text"
      },
      "source": [
        "### Platrform Attribute"
      ]
    },
    {
      "cell_type": "code",
      "metadata": {
        "scrolled": true,
        "id": "JumVWY8Lk0hO",
        "colab_type": "code",
        "outputId": "20f62464-6189-4822-eda1-ea264c827405",
        "colab": {}
      },
      "source": [
        "train.platform.unique(), train.platform.nunique()"
      ],
      "execution_count": 0,
      "outputs": [
        {
          "output_type": "execute_result",
          "data": {
            "text/plain": [
              "(array(['AU', 'BR', 'FI', 'UK', 'US', 'MX', 'FR', 'IT', 'AT', 'HK', 'RU',\n",
              "        'IN', 'CO', 'ES', 'CL', 'CH', 'BE', 'AR', 'NL', 'CA', 'JP', 'SE',\n",
              "        'DE', 'MY', 'HU', 'PH', 'ZA', 'PE', 'ID', 'NZ', 'CZ', 'BG', 'DK',\n",
              "        'TH', 'HR', 'TR', 'IE', 'IL', 'SG', 'EC', 'SK', 'NO', 'AA', 'TW',\n",
              "        'PT', 'RO', 'PL', 'UY', 'GR', 'RS', 'KR', 'AE', 'SI', 'CN', 'VN'],\n",
              "       dtype=object), 55)"
            ]
          },
          "metadata": {
            "tags": []
          },
          "execution_count": 124
        }
      ]
    },
    {
      "cell_type": "code",
      "metadata": {
        "id": "GVA5L89mk0hS",
        "colab_type": "code",
        "outputId": "8b7bf99b-4380-4673-fb44-83dbd1432929",
        "colab": {}
      },
      "source": [
        "plt.figure(figsize=(15,12))\n",
        "plt.title('Platforms In Sessions', fontsize=20)\n",
        "plt.xlabel('Platform', fontsize=15)\n",
        "plt.ylabel('Count', fontsize=15)\n",
        "plt.xticks(rotation=90)\n",
        "x = FinalClickoutDF.groupby('platform').platform.count().index.tolist()\n",
        "y = FinalClickoutDF.groupby('platform').platform.count().values.tolist()\n",
        "\n",
        "plt.bar(x, y);"
      ],
      "execution_count": 0,
      "outputs": [
        {
          "output_type": "display_data",
          "data": {
            "image/png": "[encoded data removed]",
            "text/plain": [
              "<Figure size 1080x864 with 1 Axes>"
            ]
          },
          "metadata": {
            "tags": [],
            "needs_background": "light"
          }
        }
      ]
    },
    {
      "cell_type": "markdown",
      "metadata": {
        "id": "sOwH3GXJk0hV",
        "colab_type": "text"
      },
      "source": [
        "The platform the user using can be an important feature (cluster) to the users using the same platform."
      ]
    },
    {
      "cell_type": "markdown",
      "metadata": {
        "id": "tTi-vGjAk0hW",
        "colab_type": "text"
      },
      "source": [
        "### City Attribute"
      ]
    },
    {
      "cell_type": "code",
      "metadata": {
        "id": "GfklvSa7k0hX",
        "colab_type": "code",
        "outputId": "98ffb865-f5ae-40f0-f534-a3d27920c8b7",
        "colab": {}
      },
      "source": [
        "#city in the whole training set\n",
        "train.city.head(2), train.city.nunique()"
      ],
      "execution_count": 0,
      "outputs": [
        {
          "output_type": "execute_result",
          "data": {
            "text/plain": [
              "(0    Sydney, Australia\n",
              " 1    Sydney, Australia\n",
              " Name: city, dtype: object, 31609)"
            ]
          },
          "metadata": {
            "tags": []
          },
          "execution_count": 18
        }
      ]
    },
    {
      "cell_type": "markdown",
      "metadata": {
        "id": "g1-OKOKrk0hb",
        "colab_type": "text"
      },
      "source": [
        "Sessions vary in their steps, and the value city can be determined multiple times in a session, so it would be misleading if it was not taken relative to the final clickout."
      ]
    },
    {
      "cell_type": "code",
      "metadata": {
        "id": "uSzH-rq2k0hc",
        "colab_type": "code",
        "outputId": "857c78d6-ce84-4cf5-9c81-fcfe0d00de17",
        "colab": {}
      },
      "source": [
        "#city in the final in each session\n",
        "FinalClickoutDF.city.nunique()"
      ],
      "execution_count": 0,
      "outputs": [
        {
          "output_type": "execute_result",
          "data": {
            "text/plain": [
              "27859"
            ]
          },
          "metadata": {
            "tags": []
          },
          "execution_count": 18
        }
      ]
    },
    {
      "cell_type": "markdown",
      "metadata": {
        "id": "Z7InimnKk0hh",
        "colab_type": "text"
      },
      "source": [
        "*There are more than 31,609 unique cities.*  \n",
        "**Note:** The rule of thumbs for embedding size is to be maximum 50.  \n",
        "\n",
        "Ways to go for this attribute in Feature Preprocessing:  \n",
        "1) Embeddings for all 31,609 cities with embedding size equals 50.  \n",
        "2) converting them into countries assuming that the same country can carry most of the same features of all cities. it is an important categorical feature, but still it will be with the same embedding size. (Lose information, no point in that.)  \n",
        "3) Not going with embeddings at all, and convert cities into continents, and use one-hot-encoding.  \n",
        "4) Dividing the cities into ranges based on how many times each city has been mentioned. Number of categories is flexible.\n",
        "\n",
        "Personally, I would prefer the first option. (To be discussed)"
      ]
    },
    {
      "cell_type": "code",
      "metadata": {
        "scrolled": true,
        "id": "86ux0fRIk0hi",
        "colab_type": "code",
        "outputId": "e4c79b9e-3f8c-47ee-d4c8-575d93378e0c",
        "colab": {}
      },
      "source": [
        "#converting cities into countries\n",
        "train.city.apply(lambda x: x.split(', ')[1]).head(2), train.city.apply(lambda x: x.split(', ')[1]).nunique()"
      ],
      "execution_count": 0,
      "outputs": [
        {
          "output_type": "execute_result",
          "data": {
            "text/plain": [
              "(0    Australia\n",
              " 1    Australia\n",
              " Name: city, dtype: object, 217)"
            ]
          },
          "metadata": {
            "tags": []
          },
          "execution_count": 10
        }
      ]
    },
    {
      "cell_type": "markdown",
      "metadata": {
        "id": "hX5A79fgk0hl",
        "colab_type": "text"
      },
      "source": [
        "*There are 217 countries.*"
      ]
    },
    {
      "cell_type": "code",
      "metadata": {
        "scrolled": true,
        "id": "9FYBBq8fk0hm",
        "colab_type": "code",
        "outputId": "b99a37cd-078e-4405-f054-251549493faf",
        "colab": {
          "base_uri": "https://localhost:8080/",
          "height": 217
        }
      },
      "source": [
        "countries = train.city.apply(lambda x: x.split(', ')[1])\n",
        "countries.value_counts()[0:10]"
      ],
      "execution_count": 7,
      "outputs": [
        {
          "output_type": "execute_result",
          "data": {
            "text/plain": [
              "Brazil            2023436\n",
              "USA               1355776\n",
              "Mexico             811561\n",
              "Turkey             612928\n",
              "United Kingdom     594269\n",
              "Spain              571270\n",
              "Germany            551038\n",
              "India              526065\n",
              "Italy              508695\n",
              "Japan              506671\n",
              "Name: city, dtype: int64"
            ]
          },
          "metadata": {
            "tags": []
          },
          "execution_count": 7
        }
      ]
    },
    {
      "cell_type": "markdown",
      "metadata": {
        "id": "DBjNiZmyk0hs",
        "colab_type": "text"
      },
      "source": [
        "### Device Attribute"
      ]
    },
    {
      "cell_type": "code",
      "metadata": {
        "id": "ad7_Co3Gk0ht",
        "colab_type": "code",
        "outputId": "5d6737ad-9814-4cf7-baed-6b5e4f82f912",
        "colab": {}
      },
      "source": [
        "plt.figure(figsize=(10,8))\n",
        "plt.title('Devices In Sessions', fontsize=20)\n",
        "plt.xlabel('Device', fontsize=15)\n",
        "plt.ylabel('Count', fontsize=15)\n",
        "plt.xticks(rotation=90)\n",
        "x = FinalClickoutDF.groupby('device').device.count().index.tolist()\n",
        "y = FinalClickoutDF.groupby('device').device.count().values.tolist()\n",
        "plt.bar(x, y);"
      ],
      "execution_count": 0,
      "outputs": [
        {
          "output_type": "display_data",
          "data": {
            "image/png": "[encoded data removed]",
            "text/plain": [
              "<Figure size 720x576 with 1 Axes>"
            ]
          },
          "metadata": {
            "tags": [],
            "needs_background": "light"
          }
        }
      ]
    },
    {
      "cell_type": "markdown",
      "metadata": {
        "id": "ChaeEHqQk0hw",
        "colab_type": "text"
      },
      "source": [
        "Should be One hot encoded in the feautres."
      ]
    },
    {
      "cell_type": "markdown",
      "metadata": {
        "id": "06Yw26d_k0hw",
        "colab_type": "text"
      },
      "source": [
        "### Current_filters Attribute"
      ]
    },
    {
      "cell_type": "code",
      "metadata": {
        "id": "wh7ZKLMdk0hx",
        "colab_type": "code",
        "outputId": "2fd6629d-3b66-4aeb-f6e4-1feea2ab3834",
        "colab": {}
      },
      "source": [
        "train[train.current_filters.notnull()].tail(10)"
      ],
      "execution_count": 0,
      "outputs": [
        {
          "output_type": "execute_result",
          "data": {
            "text/html": [
              "<div>\n",
              "<style scoped>\n",
              "    .dataframe tbody tr th:only-of-type {\n",
              "        vertical-align: middle;\n",
              "    }\n",
              "\n",
              "    .dataframe tbody tr th {\n",
              "        vertical-align: top;\n",
              "    }\n",
              "\n",
              "    .dataframe thead th {\n",
              "        text-align: right;\n",
              "    }\n",
              "</style>\n",
              "<table border=\"1\" class=\"dataframe\">\n",
              "  <thead>\n",
              "    <tr style=\"text-align: right;\">\n",
              "      <th></th>\n",
              "      <th>user_id</th>\n",
              "      <th>session_id</th>\n",
              "      <th>timestamp</th>\n",
              "      <th>step</th>\n",
              "      <th>action_type</th>\n",
              "      <th>reference</th>\n",
              "      <th>platform</th>\n",
              "      <th>city</th>\n",
              "      <th>device</th>\n",
              "      <th>current_filters</th>\n",
              "      <th>impressions</th>\n",
              "      <th>prices</th>\n",
              "    </tr>\n",
              "  </thead>\n",
              "  <tbody>\n",
              "    <tr>\n",
              "      <th>13019474</th>\n",
              "      <td>ZF0LUA90W6N5</td>\n",
              "      <td>a1ef4ebfc1d4e</td>\n",
              "      <td>1541536755</td>\n",
              "      <td>36</td>\n",
              "      <td>filter selection</td>\n",
              "      <td>NaN</td>\n",
              "      <td>RU</td>\n",
              "      <td>Dubai, United Arab Emirates</td>\n",
              "      <td>mobile</td>\n",
              "      <td>Breakfast Included</td>\n",
              "      <td>NaN</td>\n",
              "      <td>NaN</td>\n",
              "    </tr>\n",
              "    <tr>\n",
              "      <th>13019483</th>\n",
              "      <td>ZF0LUA90W6N5</td>\n",
              "      <td>a1ef4ebfc1d4e</td>\n",
              "      <td>1541536915</td>\n",
              "      <td>45</td>\n",
              "      <td>clickout item</td>\n",
              "      <td>8898</td>\n",
              "      <td>RU</td>\n",
              "      <td>Dubai, United Arab Emirates</td>\n",
              "      <td>mobile</td>\n",
              "      <td>Breakfast Included</td>\n",
              "      <td>1700901|6675008|5681204|7012304|8916|2735957|3...</td>\n",
              "      <td>433|920|963|805|1460|583|465|438|416|324|730|4...</td>\n",
              "    </tr>\n",
              "    <tr>\n",
              "      <th>13019484</th>\n",
              "      <td>ZF0LUA90W6N5</td>\n",
              "      <td>a1ef4ebfc1d4e</td>\n",
              "      <td>1541537054</td>\n",
              "      <td>46</td>\n",
              "      <td>clickout item</td>\n",
              "      <td>8906</td>\n",
              "      <td>RU</td>\n",
              "      <td>Dubai, United Arab Emirates</td>\n",
              "      <td>mobile</td>\n",
              "      <td>Breakfast Included</td>\n",
              "      <td>8898|5742368|9226924|897635|3217130|8906|43253...</td>\n",
              "      <td>145|146|145|86|129|144|131|128|65|129|113|117|...</td>\n",
              "    </tr>\n",
              "    <tr>\n",
              "      <th>13019489</th>\n",
              "      <td>ZJDL3D3ON4FT</td>\n",
              "      <td>64dd4819d10e4</td>\n",
              "      <td>1541536687</td>\n",
              "      <td>4</td>\n",
              "      <td>filter selection</td>\n",
              "      <td>NaN</td>\n",
              "      <td>ES</td>\n",
              "      <td>Almeria, Spain</td>\n",
              "      <td>mobile</td>\n",
              "      <td>Sort by Price</td>\n",
              "      <td>NaN</td>\n",
              "      <td>NaN</td>\n",
              "    </tr>\n",
              "    <tr>\n",
              "      <th>13019490</th>\n",
              "      <td>ZJDL3D3ON4FT</td>\n",
              "      <td>64dd4819d10e4</td>\n",
              "      <td>1541536712</td>\n",
              "      <td>5</td>\n",
              "      <td>clickout item</td>\n",
              "      <td>914561</td>\n",
              "      <td>ES</td>\n",
              "      <td>Almeria, Spain</td>\n",
              "      <td>mobile</td>\n",
              "      <td>Sort by Price</td>\n",
              "      <td>996355|191826|40377|201066|951795|914561|59229...</td>\n",
              "      <td>32|33|36|36|36|37|37|40|41|42|42|42|44|46|46|4...</td>\n",
              "    </tr>\n",
              "    <tr>\n",
              "      <th>13019493</th>\n",
              "      <td>ZJDL3D3ON4FT</td>\n",
              "      <td>64dd4819d10e4</td>\n",
              "      <td>1541537148</td>\n",
              "      <td>8</td>\n",
              "      <td>clickout item</td>\n",
              "      <td>914561</td>\n",
              "      <td>ES</td>\n",
              "      <td>Almeria, Spain</td>\n",
              "      <td>mobile</td>\n",
              "      <td>Sort by Price</td>\n",
              "      <td>996355|191826|40377|201066|951795|914561|59229...</td>\n",
              "      <td>32|33|36|36|36|37|37|40|41|42|42|42|44|46|46|4...</td>\n",
              "    </tr>\n",
              "    <tr>\n",
              "      <th>13019494</th>\n",
              "      <td>ZJDL3D3ON4FT</td>\n",
              "      <td>64dd4819d10e4</td>\n",
              "      <td>1541537274</td>\n",
              "      <td>9</td>\n",
              "      <td>clickout item</td>\n",
              "      <td>40215</td>\n",
              "      <td>ES</td>\n",
              "      <td>Almeria, Spain</td>\n",
              "      <td>mobile</td>\n",
              "      <td>Sort by Price</td>\n",
              "      <td>996355|191826|40377|201066|951795|914561|59229...</td>\n",
              "      <td>32|33|36|36|36|37|37|40|41|42|42|42|44|46|46|4...</td>\n",
              "    </tr>\n",
              "    <tr>\n",
              "      <th>13019552</th>\n",
              "      <td>ZYNMLE3MV3LK</td>\n",
              "      <td>62728015bec05</td>\n",
              "      <td>1541544491</td>\n",
              "      <td>16</td>\n",
              "      <td>clickout item</td>\n",
              "      <td>6617798</td>\n",
              "      <td>PT</td>\n",
              "      <td>Paris, France</td>\n",
              "      <td>desktop</td>\n",
              "      <td>Focus on Distance</td>\n",
              "      <td>6617798|1263420|9567886|1161323|149768|1890735...</td>\n",
              "      <td>58|96|55|75|90|60|233|104|150|145|328|207|150|...</td>\n",
              "    </tr>\n",
              "    <tr>\n",
              "      <th>13019553</th>\n",
              "      <td>ZYNMLE3MV3LK</td>\n",
              "      <td>62728015bec05</td>\n",
              "      <td>1541544540</td>\n",
              "      <td>17</td>\n",
              "      <td>clickout item</td>\n",
              "      <td>2712342</td>\n",
              "      <td>PT</td>\n",
              "      <td>Paris, France</td>\n",
              "      <td>desktop</td>\n",
              "      <td>Focus on Distance</td>\n",
              "      <td>6617798|1263420|9567886|1161323|149768|1890735...</td>\n",
              "      <td>58|96|55|75|90|60|233|104|150|145|328|207|150|...</td>\n",
              "    </tr>\n",
              "    <tr>\n",
              "      <th>13019555</th>\n",
              "      <td>ZYNMLE3MV3LK</td>\n",
              "      <td>62728015bec05</td>\n",
              "      <td>1541544973</td>\n",
              "      <td>19</td>\n",
              "      <td>clickout item</td>\n",
              "      <td>1161323</td>\n",
              "      <td>PT</td>\n",
              "      <td>Paris, France</td>\n",
              "      <td>desktop</td>\n",
              "      <td>Focus on Distance</td>\n",
              "      <td>6617798|1263420|9567886|1161323|149768|1890735...</td>\n",
              "      <td>58|96|55|75|90|60|233|104|150|145|328|207|150|...</td>\n",
              "    </tr>\n",
              "  </tbody>\n",
              "</table>\n",
              "</div>"
            ],
            "text/plain": [
              "               user_id     session_id   timestamp  step       action_type  \\\n",
              "13019474  ZF0LUA90W6N5  a1ef4ebfc1d4e  1541536755    36  filter selection   \n",
              "13019483  ZF0LUA90W6N5  a1ef4ebfc1d4e  1541536915    45     clickout item   \n",
              "13019484  ZF0LUA90W6N5  a1ef4ebfc1d4e  1541537054    46     clickout item   \n",
              "13019489  ZJDL3D3ON4FT  64dd4819d10e4  1541536687     4  filter selection   \n",
              "13019490  ZJDL3D3ON4FT  64dd4819d10e4  1541536712     5     clickout item   \n",
              "13019493  ZJDL3D3ON4FT  64dd4819d10e4  1541537148     8     clickout item   \n",
              "13019494  ZJDL3D3ON4FT  64dd4819d10e4  1541537274     9     clickout item   \n",
              "13019552  ZYNMLE3MV3LK  62728015bec05  1541544491    16     clickout item   \n",
              "13019553  ZYNMLE3MV3LK  62728015bec05  1541544540    17     clickout item   \n",
              "13019555  ZYNMLE3MV3LK  62728015bec05  1541544973    19     clickout item   \n",
              "\n",
              "         reference platform                         city   device  \\\n",
              "13019474       NaN       RU  Dubai, United Arab Emirates   mobile   \n",
              "13019483      8898       RU  Dubai, United Arab Emirates   mobile   \n",
              "13019484      8906       RU  Dubai, United Arab Emirates   mobile   \n",
              "13019489       NaN       ES               Almeria, Spain   mobile   \n",
              "13019490    914561       ES               Almeria, Spain   mobile   \n",
              "13019493    914561       ES               Almeria, Spain   mobile   \n",
              "13019494     40215       ES               Almeria, Spain   mobile   \n",
              "13019552   6617798       PT                Paris, France  desktop   \n",
              "13019553   2712342       PT                Paris, France  desktop   \n",
              "13019555   1161323       PT                Paris, France  desktop   \n",
              "\n",
              "             current_filters  \\\n",
              "13019474  Breakfast Included   \n",
              "13019483  Breakfast Included   \n",
              "13019484  Breakfast Included   \n",
              "13019489       Sort by Price   \n",
              "13019490       Sort by Price   \n",
              "13019493       Sort by Price   \n",
              "13019494       Sort by Price   \n",
              "13019552   Focus on Distance   \n",
              "13019553   Focus on Distance   \n",
              "13019555   Focus on Distance   \n",
              "\n",
              "                                                impressions  \\\n",
              "13019474                                                NaN   \n",
              "13019483  1700901|6675008|5681204|7012304|8916|2735957|3...   \n",
              "13019484  8898|5742368|9226924|897635|3217130|8906|43253...   \n",
              "13019489                                                NaN   \n",
              "13019490  996355|191826|40377|201066|951795|914561|59229...   \n",
              "13019493  996355|191826|40377|201066|951795|914561|59229...   \n",
              "13019494  996355|191826|40377|201066|951795|914561|59229...   \n",
              "13019552  6617798|1263420|9567886|1161323|149768|1890735...   \n",
              "13019553  6617798|1263420|9567886|1161323|149768|1890735...   \n",
              "13019555  6617798|1263420|9567886|1161323|149768|1890735...   \n",
              "\n",
              "                                                     prices  \n",
              "13019474                                                NaN  \n",
              "13019483  433|920|963|805|1460|583|465|438|416|324|730|4...  \n",
              "13019484  145|146|145|86|129|144|131|128|65|129|113|117|...  \n",
              "13019489                                                NaN  \n",
              "13019490  32|33|36|36|36|37|37|40|41|42|42|42|44|46|46|4...  \n",
              "13019493  32|33|36|36|36|37|37|40|41|42|42|42|44|46|46|4...  \n",
              "13019494  32|33|36|36|36|37|37|40|41|42|42|42|44|46|46|4...  \n",
              "13019552  58|96|55|75|90|60|233|104|150|145|328|207|150|...  \n",
              "13019553  58|96|55|75|90|60|233|104|150|145|328|207|150|...  \n",
              "13019555  58|96|55|75|90|60|233|104|150|145|328|207|150|...  "
            ]
          },
          "metadata": {
            "tags": []
          },
          "execution_count": 40
        }
      ]
    },
    {
      "cell_type": "markdown",
      "metadata": {
        "id": "tAcCam3Ok0h0",
        "colab_type": "text"
      },
      "source": [
        "The filter is criteria on how the user wants the list to be shown to them."
      ]
    },
    {
      "cell_type": "code",
      "metadata": {
        "id": "P_prQSD4k0h0",
        "colab_type": "code",
        "outputId": "668acc68-8074-4321-c7ba-7310ff4a2d8b",
        "colab": {}
      },
      "source": [
        "train.current_filters.unique(), train.current_filters.nunique()"
      ],
      "execution_count": 0,
      "outputs": [
        {
          "output_type": "execute_result",
          "data": {
            "text/plain": [
              "(array([nan, 'Very Good Rating',\n",
              "        'Very Good Rating|5 Star|4 Star|Hotel|Motel|Resort|Hostal (ES)',\n",
              "        ...,\n",
              "        'Very Good Rating|Hotel|Resort|4 Star|5 Star|Free WiFi (Combined)|Air Conditioning',\n",
              "        'Very Good Rating|Hotel|Resort|4 Star|5 Star|Free WiFi (Combined)|Air Conditioning|Best Value',\n",
              "        'Hotel Chain|Bed & Breakfast'], dtype=object), 44618)"
            ]
          },
          "metadata": {
            "tags": []
          },
          "execution_count": 41
        }
      ]
    },
    {
      "cell_type": "markdown",
      "metadata": {
        "id": "y_Ryy2RFk0h5",
        "colab_type": "text"
      },
      "source": [
        "The unique values of the current_filters are not right, as the information is given as string."
      ]
    },
    {
      "cell_type": "code",
      "metadata": {
        "id": "HBcDbJgXk0h6",
        "colab_type": "code",
        "outputId": "376f2938-f7ea-4d75-9d0e-8aba778d9e03",
        "colab": {}
      },
      "source": [
        "current_filtersList = []\n",
        "\n",
        "current_filtersAllValues = train.current_filters.dropna().apply(lambda x: x.split('|')).tolist()\n",
        "for sublist in current_filtersAllValues:\n",
        "    for item in sublist:\n",
        "        current_filtersList.append(item)\n",
        "\n",
        "current_filtersList = set(current_filtersList)\n",
        "current_filtersList, len(current_filtersList)"
      ],
      "execution_count": 0,
      "outputs": [
        {
          "output_type": "execute_result",
          "data": {
            "text/plain": [
              "({'1 Night',\n",
              "  '1 Star',\n",
              "  '2 Nights',\n",
              "  '2 Star',\n",
              "  '3 Nights',\n",
              "  '3 Star',\n",
              "  '4 Star',\n",
              "  '5 Nights',\n",
              "  '5 Star',\n",
              "  'Accessible Hotel',\n",
              "  'Accessible Parking',\n",
              "  'Adults Only',\n",
              "  'Air Conditioning',\n",
              "  'Airport Hotel',\n",
              "  'Airport Shuttle',\n",
              "  'All Inclusive (Upon Inquiry)',\n",
              "  'Balcony',\n",
              "  'Bathtub',\n",
              "  'Beach',\n",
              "  'Beach Bar',\n",
              "  'Beauty Salon',\n",
              "  'Bed & Breakfast',\n",
              "  'Best Rates',\n",
              "  'Best Value',\n",
              "  'Bike Rental',\n",
              "  'Boat Rental',\n",
              "  'Body Treatments',\n",
              "  'Boutique Hotel',\n",
              "  'Bowling',\n",
              "  'Breakfast Included',\n",
              "  'Bungalows',\n",
              "  'Business Centre',\n",
              "  'Business Hotel',\n",
              "  'Cable TV',\n",
              "  'Camping Site',\n",
              "  'Car Park',\n",
              "  'Casa Rural (ES)',\n",
              "  'Casino (Hotel)',\n",
              "  'Central Heating',\n",
              "  'Cheap',\n",
              "  'Childcare',\n",
              "  'Club Hotel',\n",
              "  'Computer with Internet',\n",
              "  'Concierge',\n",
              "  'Conference Rooms',\n",
              "  'Convenience Store',\n",
              "  'Convention Hotel',\n",
              "  'Cosmetic Mirror',\n",
              "  'Cot',\n",
              "  'Country Hotel',\n",
              "  'Deals + Beach (AR)',\n",
              "  'Deals + Beach (DE)',\n",
              "  'Deals + Beach (DK)',\n",
              "  'Deals + Beach (GR)',\n",
              "  'Deals + Beach (IT)',\n",
              "  'Deals + Beach (MX)',\n",
              "  'Deals + Beach (NL/BE)',\n",
              "  'Deals + Beach (PT)',\n",
              "  'Deals + Beach (TR)',\n",
              "  'Deck Chairs',\n",
              "  'Design Hotel',\n",
              "  'Desk',\n",
              "  'Direct beach access',\n",
              "  'Disneyland',\n",
              "  'Disneyland Paris',\n",
              "  'Diving',\n",
              "  'Doctor On-Site',\n",
              "  'Eco-Friendly hotel',\n",
              "  'Electric Kettle',\n",
              "  'Excellent Rating',\n",
              "  'Express Check-In / Check-Out',\n",
              "  'Family Friendly',\n",
              "  'Fan',\n",
              "  'Farmstay',\n",
              "  'Fitness',\n",
              "  'Flatscreen TV',\n",
              "  'Focus on Distance',\n",
              "  'Focus on Rating',\n",
              "  'Free WiFi (Combined)',\n",
              "  'Free WiFi (Public Areas)',\n",
              "  'Free WiFi (Rooms)',\n",
              "  'Fridge',\n",
              "  'From 2 Stars',\n",
              "  'From 3 Stars',\n",
              "  'From 4 Stars',\n",
              "  'Gay Friendly',\n",
              "  'Golf Course',\n",
              "  'Good Rating',\n",
              "  'Guest House',\n",
              "  'Gym',\n",
              "  'Hairdresser',\n",
              "  'Hairdryer',\n",
              "  'Halal Food',\n",
              "  'Hammam',\n",
              "  'Health Retreat',\n",
              "  'Hiking Trail',\n",
              "  'Holiday',\n",
              "  'Honeymoon',\n",
              "  'Horse Riding',\n",
              "  'Hostal (ES)',\n",
              "  'Hostel',\n",
              "  'Hot Stone Massage',\n",
              "  'Hotel',\n",
              "  'Hotel Bar',\n",
              "  'Hotel Chain',\n",
              "  'House / Apartment',\n",
              "  'Hydrotherapy',\n",
              "  'Hypoallergenic Bedding',\n",
              "  'Hypoallergenic Rooms',\n",
              "  'Internet (Rooms)',\n",
              "  'Ironing Board',\n",
              "  'Jacuzzi (Hotel)',\n",
              "  \"Kids' Club\",\n",
              "  'Kitchen',\n",
              "  'Kosher Food',\n",
              "  'Large Groups',\n",
              "  'Laundry Service',\n",
              "  'Lift',\n",
              "  'Luxury Hotel',\n",
              "  'Massage',\n",
              "  'Microwave',\n",
              "  'Mid-Size Hotel',\n",
              "  'Minigolf',\n",
              "  'Motel',\n",
              "  'Next Saturday',\n",
              "  'Next Sunday',\n",
              "  'Next Weekend',\n",
              "  'Nightclub',\n",
              "  'Non-Smoking Rooms',\n",
              "  'OFF - Rating Good',\n",
              "  'OFF - Rating Very Good',\n",
              "  'Onsen',\n",
              "  'Openable Windows',\n",
              "  'Organised Activities',\n",
              "  'Pet Friendly',\n",
              "  'Playground',\n",
              "  'Pool Table',\n",
              "  'Porter',\n",
              "  'Pousada (BR)',\n",
              "  'Reception (24/7)',\n",
              "  'Resort',\n",
              "  'Restaurant',\n",
              "  'Romantic',\n",
              "  'Room Service',\n",
              "  'Room Service (24/7)',\n",
              "  'Safe (Hotel)',\n",
              "  'Safe (Rooms)',\n",
              "  'Sailing',\n",
              "  'Satellite TV',\n",
              "  'Satisfactory Rating',\n",
              "  'Sauna',\n",
              "  'Self Catering',\n",
              "  'Senior Travellers',\n",
              "  'Serviced Apartment',\n",
              "  'Shooting Sports',\n",
              "  'Shower',\n",
              "  'Singles',\n",
              "  'Sitting Area (Rooms)',\n",
              "  'Ski Resort',\n",
              "  'Skiing',\n",
              "  'Small Hotel',\n",
              "  'Solarium',\n",
              "  'Sort By Distance',\n",
              "  'Sort By Popularity',\n",
              "  'Sort By Rating',\n",
              "  'Sort by Price',\n",
              "  'Spa (Wellness Facility)',\n",
              "  'Spa Hotel',\n",
              "  'Steam Room',\n",
              "  'Sun Umbrellas',\n",
              "  'Surfing',\n",
              "  'Swimming Pool (Bar)',\n",
              "  'Swimming Pool (Combined Filter)',\n",
              "  'Swimming Pool (Indoor)',\n",
              "  'Swimming Pool (Outdoor)',\n",
              "  'Szep Kartya',\n",
              "  'Table Tennis',\n",
              "  'Telephone',\n",
              "  'Teleprinter',\n",
              "  'Television',\n",
              "  'Tennis Court',\n",
              "  'Tennis Court (Indoor)',\n",
              "  'Terrace (Hotel)',\n",
              "  'Theme Hotel',\n",
              "  'This Monday',\n",
              "  'This Weekend',\n",
              "  'Today',\n",
              "  'Tomorrow',\n",
              "  'Top Deals',\n",
              "  'Towels',\n",
              "  'Very Good Rating',\n",
              "  'Washing Machine',\n",
              "  'Water Slide',\n",
              "  'Wheelchair Accessible',\n",
              "  'WiFi (Rooms)'},\n",
              " 195)"
            ]
          },
          "metadata": {
            "tags": []
          },
          "execution_count": 47
        }
      ]
    },
    {
      "cell_type": "markdown",
      "metadata": {
        "id": "tCTr8gGmk0h_",
        "colab_type": "text"
      },
      "source": [
        "After checking the item_metadata file, embeddings of matching filters to the impressions list can be applied, so that the filter with the model can learn which items are stronger than others. (The more filters can be applied on, the stronger the item.)"
      ]
    },
    {
      "cell_type": "code",
      "metadata": {
        "id": "7ESFMT8mk0iA",
        "colab_type": "code",
        "outputId": "f047a33f-0f6e-47c5-9bf0-41067108379a",
        "colab": {
          "base_uri": "https://localhost:8080/",
          "height": 339
        }
      },
      "source": [
        "train[(train.action_type=='clickout item') & (train.current_filters.isna())].head()"
      ],
      "execution_count": 8,
      "outputs": [
        {
          "output_type": "execute_result",
          "data": {
            "text/html": [
              "<div>\n",
              "<style scoped>\n",
              "    .dataframe tbody tr th:only-of-type {\n",
              "        vertical-align: middle;\n",
              "    }\n",
              "\n",
              "    .dataframe tbody tr th {\n",
              "        vertical-align: top;\n",
              "    }\n",
              "\n",
              "    .dataframe thead th {\n",
              "        text-align: right;\n",
              "    }\n",
              "</style>\n",
              "<table border=\"1\" class=\"dataframe\">\n",
              "  <thead>\n",
              "    <tr style=\"text-align: right;\">\n",
              "      <th></th>\n",
              "      <th>user_id</th>\n",
              "      <th>session_id</th>\n",
              "      <th>timestamp</th>\n",
              "      <th>step</th>\n",
              "      <th>action_type</th>\n",
              "      <th>reference</th>\n",
              "      <th>platform</th>\n",
              "      <th>city</th>\n",
              "      <th>device</th>\n",
              "      <th>current_filters</th>\n",
              "      <th>impressions</th>\n",
              "      <th>prices</th>\n",
              "    </tr>\n",
              "  </thead>\n",
              "  <tbody>\n",
              "    <tr>\n",
              "      <th>13</th>\n",
              "      <td>00RL8Z82B2Z1</td>\n",
              "      <td>aff3928535f48</td>\n",
              "      <td>1541037543</td>\n",
              "      <td>14</td>\n",
              "      <td>clickout item</td>\n",
              "      <td>109038</td>\n",
              "      <td>AU</td>\n",
              "      <td>Sydney, Australia</td>\n",
              "      <td>mobile</td>\n",
              "      <td>NaN</td>\n",
              "      <td>3400638|1253714|3367857|5100540|1088584|666916...</td>\n",
              "      <td>95|66|501|112|95|100|101|72|82|56|56|143|70|25...</td>\n",
              "    </tr>\n",
              "    <tr>\n",
              "      <th>15</th>\n",
              "      <td>00RL8Z82B2Z1</td>\n",
              "      <td>aff3928535f48</td>\n",
              "      <td>1541038485</td>\n",
              "      <td>16</td>\n",
              "      <td>clickout item</td>\n",
              "      <td>1257342</td>\n",
              "      <td>AU</td>\n",
              "      <td>Sydney, Australia</td>\n",
              "      <td>mobile</td>\n",
              "      <td>NaN</td>\n",
              "      <td>55109|129343|54824|2297972|109014|1257342|1031...</td>\n",
              "      <td>162|25|150|143|101|49|118|131|18|100|101|143|5...</td>\n",
              "    </tr>\n",
              "    <tr>\n",
              "      <th>115</th>\n",
              "      <td>02SRUT1NQYH1</td>\n",
              "      <td>3599a6f709eab</td>\n",
              "      <td>1541063864</td>\n",
              "      <td>35</td>\n",
              "      <td>clickout item</td>\n",
              "      <td>2795374</td>\n",
              "      <td>FI</td>\n",
              "      <td>Krakow, Poland</td>\n",
              "      <td>mobile</td>\n",
              "      <td>NaN</td>\n",
              "      <td>2795374|5582964|1088390|2781070|1258068|127196...</td>\n",
              "      <td>64|54|36|121|76|81|92|40|73|52|98|104|56|414|6...</td>\n",
              "    </tr>\n",
              "    <tr>\n",
              "      <th>121</th>\n",
              "      <td>03K8AXBL4BX2</td>\n",
              "      <td>ec139e10b9238</td>\n",
              "      <td>1541100322</td>\n",
              "      <td>6</td>\n",
              "      <td>clickout item</td>\n",
              "      <td>1032816</td>\n",
              "      <td>UK</td>\n",
              "      <td>London, United Kingdom</td>\n",
              "      <td>desktop</td>\n",
              "      <td>NaN</td>\n",
              "      <td>12693|46363|81657|18448|47687|152913|18417|927...</td>\n",
              "      <td>104|92|100|103|102|104|72|85|81|75|107|86|98|8...</td>\n",
              "    </tr>\n",
              "    <tr>\n",
              "      <th>122</th>\n",
              "      <td>03K8AXBL4BX2</td>\n",
              "      <td>ec139e10b9238</td>\n",
              "      <td>1541100652</td>\n",
              "      <td>7</td>\n",
              "      <td>clickout item</td>\n",
              "      <td>1032816</td>\n",
              "      <td>UK</td>\n",
              "      <td>London, United Kingdom</td>\n",
              "      <td>desktop</td>\n",
              "      <td>NaN</td>\n",
              "      <td>12693|46363|81657|18448|47687|152913|18417|927...</td>\n",
              "      <td>104|92|100|103|102|104|72|85|81|75|107|86|98|8...</td>\n",
              "    </tr>\n",
              "  </tbody>\n",
              "</table>\n",
              "</div>"
            ],
            "text/plain": [
              "          user_id  ...                                             prices\n",
              "13   00RL8Z82B2Z1  ...  95|66|501|112|95|100|101|72|82|56|56|143|70|25...\n",
              "15   00RL8Z82B2Z1  ...  162|25|150|143|101|49|118|131|18|100|101|143|5...\n",
              "115  02SRUT1NQYH1  ...  64|54|36|121|76|81|92|40|73|52|98|104|56|414|6...\n",
              "121  03K8AXBL4BX2  ...  104|92|100|103|102|104|72|85|81|75|107|86|98|8...\n",
              "122  03K8AXBL4BX2  ...  104|92|100|103|102|104|72|85|81|75|107|86|98|8...\n",
              "\n",
              "[5 rows x 12 columns]"
            ]
          },
          "metadata": {
            "tags": []
          },
          "execution_count": 8
        }
      ]
    },
    {
      "cell_type": "markdown",
      "metadata": {
        "id": "ylYru4Y6k0iD",
        "colab_type": "text"
      },
      "source": [
        "It is not essential that the user can have filter in a clickout."
      ]
    },
    {
      "cell_type": "markdown",
      "metadata": {
        "id": "v3sFEO93k0iE",
        "colab_type": "text"
      },
      "source": [
        "### Impressions Attribute\n",
        "\n",
        "List of maximum 25 items given to the user in order by trivago recommender system. The list is not given in this dataset unless the user has decided to proceed to the item's website (action_type=='clickout item')."
      ]
    },
    {
      "cell_type": "code",
      "metadata": {
        "scrolled": true,
        "id": "D9WMiQoQk0iF",
        "colab_type": "code",
        "outputId": "3ec5b85c-fe80-4fc0-ce55-c5f2e8a7a47d",
        "colab": {}
      },
      "source": [
        "train.impressions.dropna().head(2)"
      ],
      "execution_count": 0,
      "outputs": [
        {
          "output_type": "execute_result",
          "data": {
            "text/plain": [
              "13    3400638|1253714|3367857|5100540|1088584|666916...\n",
              "15    55109|129343|54824|2297972|109014|1257342|1031...\n",
              "Name: impressions, dtype: object"
            ]
          },
          "metadata": {
            "tags": []
          },
          "execution_count": 49
        }
      ]
    },
    {
      "cell_type": "markdown",
      "metadata": {
        "id": "7S8HKGyak0iI",
        "colab_type": "text"
      },
      "source": [
        "### Prices Attribute\n",
        "\n",
        "List of maximum 25 prices of the items given respectively. The list is not given in this dataset unless the user has decided to proceed forward to the item's (action_type=='clickout item')."
      ]
    },
    {
      "cell_type": "code",
      "metadata": {
        "id": "s91o1Wypk0iL",
        "colab_type": "code",
        "outputId": "310d9e46-3a43-4857-df10-b3c5d07a545e",
        "colab": {}
      },
      "source": [
        "train.impressions.dropna().head(2)"
      ],
      "execution_count": 0,
      "outputs": [
        {
          "output_type": "execute_result",
          "data": {
            "text/plain": [
              "13    3400638|1253714|3367857|5100540|1088584|666916...\n",
              "15    55109|129343|54824|2297972|109014|1257342|1031...\n",
              "Name: impressions, dtype: object"
            ]
          },
          "metadata": {
            "tags": []
          },
          "execution_count": 50
        }
      ]
    },
    {
      "cell_type": "markdown",
      "metadata": {
        "id": "0zbe1mnek0iS",
        "colab_type": "text"
      },
      "source": [
        "## Extended EDA\n",
        "\n",
        "### Number of Clickouts per Session"
      ]
    },
    {
      "cell_type": "code",
      "metadata": {
        "id": "E4_kD0Ysk0ib",
        "colab_type": "code",
        "outputId": "4edc5cdc-0157-47a2-f186-01b570a55cd4",
        "colab": {}
      },
      "source": [
        "NClickoutSession = train[train.action_type=='clickout item'].groupby('session_id', sort=False).action_type.count()\n",
        "\n",
        "#creating a dataframe of session_id and NumberOfClickouts\n",
        "NClickoutSessionDF = NClickoutSession.to_frame()\n",
        "NClickoutSessionDF.reset_index(level=0, inplace=True)\n",
        "NClickoutSessionDF = NClickoutSessionDF.rename(columns={'action_type':'NumberOfClickouts'})\n",
        "\n",
        "#removing sessions with more than 9 clickouts to have number of clickouts histogram\n",
        "plt.figure(figsize=(10, 8))\n",
        "plt.title('Clickouts Frequency')\n",
        "plt.xlabel('Number of Clickouts')\n",
        "plt.ylabel('Frequency')\n",
        "plt.hist(NClickoutSessionDF[NClickoutSessionDF.NumberOfClickouts<10].NumberOfClickouts, bins=9);"
      ],
      "execution_count": 0,
      "outputs": [
        {
          "output_type": "display_data",
          "data": {
            "image/png": "[encoded data removed]",
            "text/plain": [
              "<Figure size 720x576 with 1 Axes>"
            ]
          },
          "metadata": {
            "tags": [],
            "needs_background": "light"
          }
        }
      ]
    },
    {
      "cell_type": "markdown",
      "metadata": {
        "id": "Sjsk-7s9k0im",
        "colab_type": "text"
      },
      "source": [
        "Sessions with just one clickout is the majority. All papers were only interested in the final clickout which makes all sessions as just on clickout. My question that I want to answer, what if I consider the clickouts before the final clickout in training, would it be better for the model in performance or worse?"
      ]
    },
    {
      "cell_type": "markdown",
      "metadata": {
        "id": "gVOgk0fxk0io",
        "colab_type": "text"
      },
      "source": [
        "### Sessions without Clickouts"
      ]
    },
    {
      "cell_type": "markdown",
      "metadata": {
        "id": "0GPoYD6rk0ip",
        "colab_type": "text"
      },
      "source": [
        "Some sessions don't even have a clickout, these sessions have no use as they don't actually have labels.\n",
        "These sessions should be removed."
      ]
    },
    {
      "cell_type": "code",
      "metadata": {
        "id": "63CrbNjvk0it",
        "colab_type": "code",
        "outputId": "a64821aa-acc6-4491-fbc7-b06a859f6cc4",
        "colab": {}
      },
      "source": [
        "AllSessions = set(train.session_id.tolist())\n",
        "SessionsClickout = set(train[train.action_type=='clickout item'].session_id.tolist())\n",
        "SessionsNoClickout = AllSessions - SessionsClickout\n",
        "\n",
        "print(\"Number of sessions that don't have even one clickout is\", len(SessionsNoClickout), \", and it's percentage to all sessions is\"\n",
        "     , round(len(SessionsNoClickout)/len(AllSessions), 2)*100, '%.')\n",
        "\n",
        "#dropping Sessions without Clickouts\n",
        "train = train[~train['session_id'].isin(list(SessionsNoClickout))]"
      ],
      "execution_count": 0,
      "outputs": [
        {
          "output_type": "stream",
          "text": [
            "Number of sessions that don't have even one clickout is 67817 , and it's percentage to all sessions is 9.0 %.\n"
          ],
          "name": "stdout"
        }
      ]
    },
    {
      "cell_type": "markdown",
      "metadata": {
        "id": "SrtukAYmk0ix",
        "colab_type": "text"
      },
      "source": [
        "### Impressions-Prices"
      ]
    },
    {
      "cell_type": "markdown",
      "metadata": {
        "id": "vFv3Ca8Ck0iy",
        "colab_type": "text"
      },
      "source": [
        "A function that converts impressions into a list of items, and prices into a list of integers that represent prices of these items.\n",
        "\n",
        "The list of items is in order of the ranks given by Trivago, and the same applies to the prices."
      ]
    },
    {
      "cell_type": "code",
      "metadata": {
        "id": "nHUTTMFWk0iz",
        "colab_type": "code",
        "colab": {}
      },
      "source": [
        "def plot_impression_price(session_id):\n",
        "  '''\n",
        "  Desc: Functions that gets a plot of the impressions and the prices of them that visualize what the interacted with items are\n",
        "        and what the behaviour of the user is in this session checking all the items in the lis.\n",
        "        \n",
        "  Input: session_id: String with the session id that needs to be checked\n",
        "  \n",
        "  Output: Scatter plot with color visualization\n",
        "  '''  \n",
        "  try:                                          \n",
        "    impression = train[train.session_id == session_id][train.action_type == 'clickout item'].tail(1).impressions.values[0].split('|')\n",
        "    price = train[train.session_id == session_id][train.action_type == 'clickout item'].tail(1).prices.values[0].split('|')\n",
        "    price = list(map(int, price))               #converting list of strings into integers\n",
        "    clickout_item = train[train.session_id == session_id][train.action_type == 'clickout item'].tail(1).reference.values[0]\n",
        "    all_interacted_with_items = train[train.session_id == session_id].reference.unique().tolist()\n",
        "    \n",
        "    for i in range(len(impression)):            #getting the clickout item\n",
        "      if clickout_item == impression[i]:\n",
        "        rank = i\n",
        "    \n",
        "    interacted_with_items = []\n",
        "    interacted_with_items_prices = []\n",
        "    for item in all_interacted_with_items:      #getting interacted with items\n",
        "      for i in range(len(impression)):\n",
        "        if item == impression[i]:\n",
        "          interacted_with_items.append(item)\n",
        "          interacted_with_items_prices.append(price[i])\n",
        "                                                #plotting the output\n",
        "    plt.figure(figsize=(10,8))\n",
        "    plt.title('Impressions and Prices', fontsize=30)\n",
        "    plt.xlabel('Impressions', fontsize=20)\n",
        "    plt.ylabel('Price', fontsize=20)\n",
        "    plt.xticks(rotation=90)                     #Interacted with items are in red points\n",
        "    plt.plot(impression, price, 'o')            #Final clickout item is in black\n",
        "    plt.plot(interacted_with_items, interacted_with_items_prices, 'o', color='red')\n",
        "    plt.plot(clickout_item, price[rank] , 'o', color='black')\n",
        "  except:\n",
        "    pass  "
      ],
      "execution_count": 0,
      "outputs": []
    },
    {
      "cell_type": "markdown",
      "metadata": {
        "id": "OvnECae0k0i4",
        "colab_type": "text"
      },
      "source": [
        "Red dots mean that the user interacted with these items, black dot means that this is the item the user has chosen.\n",
        "On the x-axis, lie the items that appear to the user in order, from left is the top of the list to the right which is the bottom of the list. While on the y-axis, lie the prices of each item."
      ]
    },
    {
      "cell_type": "code",
      "metadata": {
        "scrolled": false,
        "id": "6_rAaU5bk0i5",
        "colab_type": "code",
        "outputId": "2fd2c02c-da4e-4f1a-936a-bb2beee764c9",
        "colab": {}
      },
      "source": [
        "#getting a random plots for the interactions between the user and items\n",
        "random.seed(0)\n",
        "listOfSessions = random.choices(train.session_id.unique(), k=10)\n",
        "for session_id in listOfSessions:\n",
        "  plot_impression_price(session_id)"
      ],
      "execution_count": 0,
      "outputs": [
        {
          "output_type": "stream",
          "text": [
            "C:\\Users\\zeyad_000\\Anaconda3\\lib\\site-packages\\ipykernel_launcher.py:11: UserWarning: Boolean Series key will be reindexed to match DataFrame index.\n",
            "  # This is added back by InteractiveShellApp.init_path()\n",
            "C:\\Users\\zeyad_000\\Anaconda3\\lib\\site-packages\\ipykernel_launcher.py:12: UserWarning: Boolean Series key will be reindexed to match DataFrame index.\n",
            "  if sys.path[0] == '':\n",
            "C:\\Users\\zeyad_000\\Anaconda3\\lib\\site-packages\\ipykernel_launcher.py:14: UserWarning: Boolean Series key will be reindexed to match DataFrame index.\n",
            "  \n"
          ],
          "name": "stderr"
        },
        {
          "output_type": "display_data",
          "data": {
            "image/png": "[encoded data removed]",
            "text/plain": [
              "<Figure size 720x576 with 1 Axes>"
            ]
          },
          "metadata": {
            "tags": [],
            "needs_background": "light"
          }
        },
        {
          "output_type": "display_data",
          "data": {
            "image/png": "[encoded data removed]",
            "text/plain": [
              "<Figure size 720x576 with 1 Axes>"
            ]
          },
          "metadata": {
            "tags": [],
            "needs_background": "light"
          }
        },
        {
          "output_type": "display_data",
          "data": {
            "image/png": "[encoded data removed]",
            "text/plain": [
              "<Figure size 720x576 with 1 Axes>"
            ]
          },
          "metadata": {
            "tags": [],
            "needs_background": "light"
          }
        },
        {
          "output_type": "display_data",
          "data": {
            "image/png": "[encoded data removed]",
            "text/plain": [
              "<Figure size 720x576 with 1 Axes>"
            ]
          },
          "metadata": {
            "tags": [],
            "needs_background": "light"
          }
        },
        {
          "output_type": "display_data",
          "data": {
            "image/png": "[encoded data removed]",
            "text/plain": [
              "<Figure size 720x576 with 1 Axes>"
            ]
          },
          "metadata": {
            "tags": [],
            "needs_background": "light"
          }
        },
        {
          "output_type": "display_data",
          "data": {
            "image/png": "[encoded data removed]",
            "text/plain": [
              "<Figure size 720x576 with 1 Axes>"
            ]
          },
          "metadata": {
            "tags": [],
            "needs_background": "light"
          }
        },
        {
          "output_type": "display_data",
          "data": {
            "image/png": "[encoded data removed]",
            "text/plain": [
              "<Figure size 720x576 with 1 Axes>"
            ]
          },
          "metadata": {
            "tags": [],
            "needs_background": "light"
          }
        },
        {
          "output_type": "display_data",
          "data": {
            "image/png": "[encoded data removed]",
            "text/plain": [
              "<Figure size 720x576 with 1 Axes>"
            ]
          },
          "metadata": {
            "tags": [],
            "needs_background": "light"
          }
        },
        {
          "output_type": "display_data",
          "data": {
            "image/png": "[encoded data removed]",
            "text/plain": [
              "<Figure size 720x576 with 1 Axes>"
            ]
          },
          "metadata": {
            "tags": [],
            "needs_background": "light"
          }
        },
        {
          "output_type": "display_data",
          "data": {
            "image/png": "[encoded data removed]",
            "text/plain": [
              "<Figure size 720x576 with 1 Axes>"
            ]
          },
          "metadata": {
            "tags": [],
            "needs_background": "light"
          }
        }
      ]
    },
    {
      "cell_type": "markdown",
      "metadata": {
        "id": "A_EFD9Omk0i7",
        "colab_type": "text"
      },
      "source": [
        "Two clear things can be noticed, the first is that many of the plots have the black and red dots in the left side of the plot, which means that the user prefer the items on the top of the list. The second thing is, that the black point is little bit close to the horizontal level of the red point, which means that the user prefers the same range of price."
      ]
    },
    {
      "cell_type": "markdown",
      "metadata": {
        "id": "XdCjmXdnk0i8",
        "colab_type": "text"
      },
      "source": [
        "### Total Time Spent"
      ]
    },
    {
      "cell_type": "code",
      "metadata": {
        "scrolled": true,
        "id": "0BZ8bnmDk0i-",
        "colab_type": "code",
        "outputId": "e875b451-abd9-49b4-e7bb-e536d608a99a",
        "colab": {}
      },
      "source": [
        "#getting the time spent in each session in seconds\n",
        "TotalTimeSpentPerSession = train.groupby('session_id').timestamp.last() - train.groupby('session_id').timestamp.first()\n",
        "TotalTimeSpentPerSession.head()"
      ],
      "execution_count": 0,
      "outputs": [
        {
          "output_type": "execute_result",
          "data": {
            "text/plain": [
              "session_id\n",
              "00000510f1adc      0\n",
              "00003f3b20954      0\n",
              "000056cd97ce2    255\n",
              "000066611146f     25\n",
              "0000c0fb51e11     51\n",
              "Name: timestamp, dtype: int64"
            ]
          },
          "metadata": {
            "tags": []
          },
          "execution_count": 6
        }
      ]
    },
    {
      "cell_type": "code",
      "metadata": {
        "id": "CSXPnZKok0jB",
        "colab_type": "code",
        "outputId": "9ea08277-d2ac-4bfd-b290-ad2e4083a29b",
        "colab": {}
      },
      "source": [
        "#checking for the values\n",
        "TotalTimeSpentPerSession.min()"
      ],
      "execution_count": 0,
      "outputs": [
        {
          "output_type": "execute_result",
          "data": {
            "text/plain": [
              "-270818"
            ]
          },
          "metadata": {
            "tags": []
          },
          "execution_count": 40
        }
      ]
    },
    {
      "cell_type": "markdown",
      "metadata": {
        "id": "xg-ME88dk0jE",
        "colab_type": "text"
      },
      "source": [
        "The minimum value should be 0 (since it is time spent). That shows that something is not consistent in the dataset. The sessions steps are not put in order for some sessions.\n",
        "Another functions will be used to get through this."
      ]
    },
    {
      "cell_type": "code",
      "metadata": {
        "id": "HJc7VHOdk0jG",
        "colab_type": "code",
        "outputId": "5fdd0cae-9cdb-43b6-dc72-5639cae8bca5",
        "colab": {}
      },
      "source": [
        "train[train.session_id=='8c41f0b873b0b'].head(2)"
      ],
      "execution_count": 0,
      "outputs": [
        {
          "output_type": "execute_result",
          "data": {
            "text/html": [
              "<div>\n",
              "<style scoped>\n",
              "    .dataframe tbody tr th:only-of-type {\n",
              "        vertical-align: middle;\n",
              "    }\n",
              "\n",
              "    .dataframe tbody tr th {\n",
              "        vertical-align: top;\n",
              "    }\n",
              "\n",
              "    .dataframe thead th {\n",
              "        text-align: right;\n",
              "    }\n",
              "</style>\n",
              "<table border=\"1\" class=\"dataframe\">\n",
              "  <thead>\n",
              "    <tr style=\"text-align: right;\">\n",
              "      <th></th>\n",
              "      <th>Unnamed: 0</th>\n",
              "      <th>user_id</th>\n",
              "      <th>session_id</th>\n",
              "      <th>timestamp</th>\n",
              "      <th>step</th>\n",
              "      <th>action_type</th>\n",
              "      <th>reference</th>\n",
              "      <th>platform</th>\n",
              "      <th>city</th>\n",
              "      <th>device</th>\n",
              "      <th>current_filters</th>\n",
              "      <th>impressions</th>\n",
              "      <th>prices</th>\n",
              "    </tr>\n",
              "  </thead>\n",
              "  <tbody>\n",
              "    <tr>\n",
              "      <th>975662</th>\n",
              "      <td>1190260</td>\n",
              "      <td>PBIZWRQOUBVE</td>\n",
              "      <td>8c41f0b873b0b</td>\n",
              "      <td>1541544799</td>\n",
              "      <td>1</td>\n",
              "      <td>clickout item</td>\n",
              "      <td>928649</td>\n",
              "      <td>TR</td>\n",
              "      <td>Istanbul, Turkey</td>\n",
              "      <td>desktop</td>\n",
              "      <td>NaN</td>\n",
              "      <td>928649|2786846|927845|2631584|4414636|37539|98...</td>\n",
              "      <td>129|87|111|167|42|116|71|36|45|80|71|40|45|50|...</td>\n",
              "    </tr>\n",
              "    <tr>\n",
              "      <th>8432290</th>\n",
              "      <td>10308397</td>\n",
              "      <td>PBIZWRQOUBVE</td>\n",
              "      <td>8c41f0b873b0b</td>\n",
              "      <td>1541273844</td>\n",
              "      <td>1</td>\n",
              "      <td>interaction item image</td>\n",
              "      <td>4584962</td>\n",
              "      <td>TR</td>\n",
              "      <td>Istanbul, Turkey</td>\n",
              "      <td>desktop</td>\n",
              "      <td>NaN</td>\n",
              "      <td>NaN</td>\n",
              "      <td>NaN</td>\n",
              "    </tr>\n",
              "  </tbody>\n",
              "</table>\n",
              "</div>"
            ],
            "text/plain": [
              "         Unnamed: 0       user_id     session_id   timestamp  step  \\\n",
              "975662      1190260  PBIZWRQOUBVE  8c41f0b873b0b  1541544799     1   \n",
              "8432290    10308397  PBIZWRQOUBVE  8c41f0b873b0b  1541273844     1   \n",
              "\n",
              "                    action_type reference platform              city   device  \\\n",
              "975662            clickout item    928649       TR  Istanbul, Turkey  desktop   \n",
              "8432290  interaction item image   4584962       TR  Istanbul, Turkey  desktop   \n",
              "\n",
              "        current_filters                                        impressions  \\\n",
              "975662              NaN  928649|2786846|927845|2631584|4414636|37539|98...   \n",
              "8432290             NaN                                                NaN   \n",
              "\n",
              "                                                    prices  \n",
              "975662   129|87|111|167|42|116|71|36|45|80|71|40|45|50|...  \n",
              "8432290                                                NaN  "
            ]
          },
          "metadata": {
            "tags": []
          },
          "execution_count": 17
        }
      ]
    },
    {
      "cell_type": "code",
      "metadata": {
        "id": "Gn9pXZJ1k0jJ",
        "colab_type": "code",
        "outputId": "a3b00c87-166a-469b-dbc6-6132d91cb40e",
        "colab": {}
      },
      "source": [
        "#using max and min functions instead of last and min functions\n",
        "TotalTimeSpentPerSession = train.groupby('session_id').timestamp.max() - train.groupby('session_id').timestamp.min()\n",
        "TotalTimeSpentPerSession.min(), TotalTimeSpentPerSession.max()"
      ],
      "execution_count": 0,
      "outputs": [
        {
          "output_type": "execute_result",
          "data": {
            "text/plain": [
              "(0, 404403)"
            ]
          },
          "metadata": {
            "tags": []
          },
          "execution_count": 37
        }
      ]
    },
    {
      "cell_type": "code",
      "metadata": {
        "id": "WgCwsiL9k0jP",
        "colab_type": "code",
        "outputId": "875c16d9-7290-4b4c-f968-2e550a1390bb",
        "colab": {}
      },
      "source": [
        "plt.figure(figsize=(10,8))\n",
        "plt.title('Seconds Spent Per Session', fontsize=20)\n",
        "plt.xlabel('Session', fontsize=15)\n",
        "plt.ylabel('Seconds', fontsize=15)\n",
        "plt.ylim(0, 2000)\n",
        "plt.boxplot(TotalTimeSpentPerSession);"
      ],
      "execution_count": 0,
      "outputs": [
        {
          "output_type": "display_data",
          "data": {
            "image/png": "[encoded data removed]",
            "text/plain": [
              "<Figure size 720x576 with 1 Axes>"
            ]
          },
          "metadata": {
            "tags": [],
            "needs_background": "light"
          }
        }
      ]
    },
    {
      "cell_type": "code",
      "metadata": {
        "scrolled": true,
        "id": "1csvtxW8k0jU",
        "colab_type": "code",
        "outputId": "2273c270-0175-4f10-9e2d-65b4023004c8",
        "colab": {}
      },
      "source": [
        "#percentage of time spent more than the maximum\n",
        "round((TotalTimeSpentPerSession[TotalTimeSpentPerSession>1140].count()/TotalTimeSpentPerSession.count())*100,2)"
      ],
      "execution_count": 0,
      "outputs": [
        {
          "output_type": "execute_result",
          "data": {
            "text/plain": [
              "11.38"
            ]
          },
          "metadata": {
            "tags": []
          },
          "execution_count": 53
        }
      ]
    },
    {
      "cell_type": "markdown",
      "metadata": {
        "id": "DVyvPaqUk0jb",
        "colab_type": "text"
      },
      "source": [
        "TotalSecondsSpent should be a feature as more features can be obtained from it.\n",
        "\n",
        "### ReferenceTimeSpent\n",
        "\n",
        "The time spent for each item the user has interacted with."
      ]
    },
    {
      "cell_type": "code",
      "metadata": {
        "id": "Se3Cjj3Fk0jc",
        "colab_type": "code",
        "colab": {}
      },
      "source": [
        "# function to remove words from the attribute\n",
        "def RemoveNonItemsReference(data, column):\n",
        "    '''\n",
        "    Desc: function to remove Non-Items (words) from the attribute\n",
        "    \n",
        "    Input: data: Pandas DataFrame with the dataset to remove Non-Items from attribute\n",
        "           column: String with the name of the attribute\n",
        "           \n",
        "    Output: NonItemRefSer: Pandas Series with the Item references only\n",
        "    '''\n",
        "    \n",
        "    NonItemRefSer = data[column].apply(lambda x: pd.to_numeric(x, errors='coerce'))\\\n",
        "                                 .dropna().astype(int).apply(lambda x: str(x))\n",
        "    return NonItemRefSer"
      ],
      "execution_count": 0,
      "outputs": []
    },
    {
      "cell_type": "code",
      "metadata": {
        "id": "GL92-TNEk0jg",
        "colab_type": "code",
        "outputId": "a94c6ddb-ecca-47e1-b220-34f5990c97b0",
        "colab": {}
      },
      "source": [
        "train.reference = RemoveNonItemsReference(train, 'reference')\n",
        "train.head(2)"
      ],
      "execution_count": 0,
      "outputs": [
        {
          "output_type": "execute_result",
          "data": {
            "text/html": [
              "<div>\n",
              "<style scoped>\n",
              "    .dataframe tbody tr th:only-of-type {\n",
              "        vertical-align: middle;\n",
              "    }\n",
              "\n",
              "    .dataframe tbody tr th {\n",
              "        vertical-align: top;\n",
              "    }\n",
              "\n",
              "    .dataframe thead th {\n",
              "        text-align: right;\n",
              "    }\n",
              "</style>\n",
              "<table border=\"1\" class=\"dataframe\">\n",
              "  <thead>\n",
              "    <tr style=\"text-align: right;\">\n",
              "      <th></th>\n",
              "      <th>user_id</th>\n",
              "      <th>session_id</th>\n",
              "      <th>timestamp</th>\n",
              "      <th>step</th>\n",
              "      <th>action_type</th>\n",
              "      <th>reference</th>\n",
              "      <th>platform</th>\n",
              "      <th>city</th>\n",
              "      <th>device</th>\n",
              "      <th>current_filters</th>\n",
              "      <th>impressions</th>\n",
              "      <th>prices</th>\n",
              "    </tr>\n",
              "  </thead>\n",
              "  <tbody>\n",
              "    <tr>\n",
              "      <th>0</th>\n",
              "      <td>00RL8Z82B2Z1</td>\n",
              "      <td>aff3928535f48</td>\n",
              "      <td>1541037460</td>\n",
              "      <td>1</td>\n",
              "      <td>search for poi</td>\n",
              "      <td>NaN</td>\n",
              "      <td>AU</td>\n",
              "      <td>Sydney, Australia</td>\n",
              "      <td>mobile</td>\n",
              "      <td>NaN</td>\n",
              "      <td>NaN</td>\n",
              "      <td>NaN</td>\n",
              "    </tr>\n",
              "    <tr>\n",
              "      <th>1</th>\n",
              "      <td>00RL8Z82B2Z1</td>\n",
              "      <td>aff3928535f48</td>\n",
              "      <td>1541037522</td>\n",
              "      <td>2</td>\n",
              "      <td>interaction item image</td>\n",
              "      <td>666856</td>\n",
              "      <td>AU</td>\n",
              "      <td>Sydney, Australia</td>\n",
              "      <td>mobile</td>\n",
              "      <td>NaN</td>\n",
              "      <td>NaN</td>\n",
              "      <td>NaN</td>\n",
              "    </tr>\n",
              "  </tbody>\n",
              "</table>\n",
              "</div>"
            ],
            "text/plain": [
              "        user_id     session_id   timestamp  step             action_type  \\\n",
              "0  00RL8Z82B2Z1  aff3928535f48  1541037460     1          search for poi   \n",
              "1  00RL8Z82B2Z1  aff3928535f48  1541037522     2  interaction item image   \n",
              "\n",
              "  reference platform               city  device current_filters impressions  \\\n",
              "0       NaN       AU  Sydney, Australia  mobile             NaN         NaN   \n",
              "1    666856       AU  Sydney, Australia  mobile             NaN         NaN   \n",
              "\n",
              "  prices  \n",
              "0    NaN  \n",
              "1    NaN  "
            ]
          },
          "metadata": {
            "tags": []
          },
          "execution_count": 7
        }
      ]
    },
    {
      "cell_type": "code",
      "metadata": {
        "id": "kElpZl2Gk0jj",
        "colab_type": "code",
        "outputId": "df395e47-3475-4226-996a-d7338c7cc763",
        "colab": {}
      },
      "source": [
        "ReferencesSpentSeconds = train.groupby(['session_id', 'reference']).timestamp.max()\\\n",
        "                        - train.groupby(['session_id', 'reference']).timestamp.min()\n",
        "plt.figure(figsize=(10,8))\n",
        "plt.title('Time Spent Per Each Item', fontsize=20)\n",
        "plt.xlabel('Seconds', fontsize=15)\n",
        "plt.ylabel('NumberOfTimes', fontsize=15)\n",
        "plt.xlim([0, 200])\n",
        "plt.hist(ReferencesSpentSeconds.values, bins = 100000);"
      ],
      "execution_count": 0,
      "outputs": [
        {
          "output_type": "display_data",
          "data": {
            "image/png": "[encoded data removed]",
            "text/plain": [
              "<Figure size 720x576 with 1 Axes>"
            ]
          },
          "metadata": {
            "tags": [],
            "needs_background": "light"
          }
        }
      ]
    },
    {
      "cell_type": "markdown",
      "metadata": {
        "id": "QP9AGlYyk0jl",
        "colab_type": "text"
      },
      "source": [
        "Time spent on each item refers to how much the user may like the item. This can be a feature, and the relative time spent on a feature to the total time spent in a session can be another feature."
      ]
    },
    {
      "cell_type": "markdown",
      "metadata": {
        "id": "30lp5puEk0jl",
        "colab_type": "text"
      },
      "source": [
        "### Clickout item in Impression List"
      ]
    },
    {
      "cell_type": "markdown",
      "metadata": {
        "id": "kzRKTKZfk0jm",
        "colab_type": "text"
      },
      "source": [
        "Checking that reference in the final click out is actually an item from the list provided in the impressions list, making sure that this label is right, otherwise it should be dropped from the training set."
      ]
    },
    {
      "cell_type": "code",
      "metadata": {
        "id": "uRrwz5FHk0jn",
        "colab_type": "code",
        "colab": {}
      },
      "source": [
        "ReferenceItem = train[train.action_type == 'clickout item'].groupby('session_id').tail(1).reference\n",
        "\n",
        "ImpressionsList = train[train.action_type == 'clickout item'].groupby('session_id').tail(1).impressions\\\n",
        "                                                             .apply(lambda x: x.split('|'))\n",
        "\n",
        "#Extracting the indeces of the clickout item that is not in the impressions list\n",
        "ClickoutNotInImpressionListIndex = []\n",
        "\n",
        "for index in ImpressionsList.index.tolist():\n",
        "    if str(ReferenceItem[index] in ImpressionsList[index]) == 'False':\n",
        "        ClickoutNotInImpressionListIndex.append(index)"
      ],
      "execution_count": 0,
      "outputs": []
    },
    {
      "cell_type": "markdown",
      "metadata": {
        "id": "bB0tW-rSk0jp",
        "colab_type": "text"
      },
      "source": [
        "For example"
      ]
    },
    {
      "cell_type": "code",
      "metadata": {
        "id": "wL5lF4pRk0jq",
        "colab_type": "code",
        "outputId": "17880479-48c5-46f8-999e-ae84d0451e8f",
        "colab": {
          "base_uri": "https://localhost:8080/",
          "height": 151
        }
      },
      "source": [
        "print('Number of sessions that have a clickout item that is not in the impressions list',\n",
        "      len(ClickoutNotInImpressionListIndex), '.')\n",
        "train[train.index==10027960]"
      ],
      "execution_count": 10,
      "outputs": [
        {
          "output_type": "stream",
          "text": [
            "Number of sessions that have a clickout item that is not in the impressions list 281 .\n"
          ],
          "name": "stdout"
        },
        {
          "output_type": "execute_result",
          "data": {
            "text/html": [
              "<div>\n",
              "<style scoped>\n",
              "    .dataframe tbody tr th:only-of-type {\n",
              "        vertical-align: middle;\n",
              "    }\n",
              "\n",
              "    .dataframe tbody tr th {\n",
              "        vertical-align: top;\n",
              "    }\n",
              "\n",
              "    .dataframe thead th {\n",
              "        text-align: right;\n",
              "    }\n",
              "</style>\n",
              "<table border=\"1\" class=\"dataframe\">\n",
              "  <thead>\n",
              "    <tr style=\"text-align: right;\">\n",
              "      <th></th>\n",
              "      <th>user_id</th>\n",
              "      <th>session_id</th>\n",
              "      <th>timestamp</th>\n",
              "      <th>step</th>\n",
              "      <th>action_type</th>\n",
              "      <th>reference</th>\n",
              "      <th>platform</th>\n",
              "      <th>city</th>\n",
              "      <th>device</th>\n",
              "      <th>current_filters</th>\n",
              "      <th>impressions</th>\n",
              "      <th>prices</th>\n",
              "    </tr>\n",
              "  </thead>\n",
              "  <tbody>\n",
              "    <tr>\n",
              "      <th>10027960</th>\n",
              "      <td>51V9OE5PL3P6</td>\n",
              "      <td>c987c56bf4071</td>\n",
              "      <td>1541430127</td>\n",
              "      <td>14</td>\n",
              "      <td>clickout item</td>\n",
              "      <td>128515</td>\n",
              "      <td>AR</td>\n",
              "      <td>Foz do Iguaçu, Brazil</td>\n",
              "      <td>desktop</td>\n",
              "      <td>NaN</td>\n",
              "      <td>478776|106946|9170040|991597|478861|323956|107...</td>\n",
              "      <td>135|223|45|57|79|96|206|51|120|110|112|51|90|1...</td>\n",
              "    </tr>\n",
              "  </tbody>\n",
              "</table>\n",
              "</div>"
            ],
            "text/plain": [
              "               user_id  ...                                             prices\n",
              "10027960  51V9OE5PL3P6  ...  135|223|45|57|79|96|206|51|120|110|112|51|90|1...\n",
              "\n",
              "[1 rows x 12 columns]"
            ]
          },
          "metadata": {
            "tags": []
          },
          "execution_count": 10
        }
      ]
    },
    {
      "cell_type": "code",
      "metadata": {
        "collapsed": true,
        "id": "N67afEw_k0jx",
        "colab_type": "code",
        "outputId": "c7c2f69a-8ba2-4a66-8f40-d04e4ad3c362",
        "colab": {
          "base_uri": "https://localhost:8080/",
          "height": 35
        }
      },
      "source": [
        "#Is the value in reference in the impressions list?\n",
        "'128515' in train[train.index==10027960].impressions[10027960].split('|')"
      ],
      "execution_count": 11,
      "outputs": [
        {
          "output_type": "execute_result",
          "data": {
            "text/plain": [
              "False"
            ]
          },
          "metadata": {
            "tags": []
          },
          "execution_count": 11
        }
      ]
    },
    {
      "cell_type": "code",
      "metadata": {
        "id": "N6Cmu-ptk0j0",
        "colab_type": "code",
        "colab": {}
      },
      "source": [
        "#dropping sessions with a final clickout item not in the impressions list\n",
        "SessionsClickoutNotInImpressionList = train[train.index.isin(ClickoutNotInImpressionListIndex)].session_id.tolist()\n",
        "train = train[~train.session_id.isin(SessionsClickoutNotInImpressionList)]"
      ],
      "execution_count": 0,
      "outputs": []
    }
  ]
}