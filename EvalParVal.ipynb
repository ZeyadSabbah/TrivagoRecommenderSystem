{
  "nbformat": 4,
  "nbformat_minor": 0,
  "metadata": {
    "colab": {
      "name": "EvalParVal.ipynb",
      "provenance": [],
      "collapsed_sections": [],
      "toc_visible": true,
      "machine_shape": "hm",
      "authorship_tag": "ABX9TyMFVtly8aYxucPIQUMqV1ty",
      "include_colab_link": true
    },
    "kernelspec": {
      "name": "python3",
      "display_name": "Python 3"
    }
  },
  "cells": [
    {
      "cell_type": "markdown",
      "metadata": {
        "id": "view-in-github",
        "colab_type": "text"
      },
      "source": [
        "<a href=\"https://colab.research.google.com/github/ZeyadSabbah/TrivagoRecommenderSystem/blob/master/EvalParVal.ipynb\" target=\"_parent\"><img src=\"https://colab.research.google.com/assets/colab-badge.svg\" alt=\"Open In Colab\"/></a>"
      ]
    },
    {
      "cell_type": "markdown",
      "metadata": {
        "id": "Cr51e1l72qbP",
        "colab_type": "text"
      },
      "source": [
        "# Evaluating Baseline Models\n",
        "Evaluating many baseline models that had been created on the validation set in order to get the best hyper-parameters to be proceeded with."
      ]
    },
    {
      "cell_type": "markdown",
      "metadata": {
        "id": "sspURwLywppN",
        "colab_type": "text"
      },
      "source": [
        "## Mounting Drive"
      ]
    },
    {
      "cell_type": "code",
      "metadata": {
        "id": "Iub6c1H2sYoz",
        "colab_type": "code",
        "colab": {}
      },
      "source": [
        "from google.colab import drive\n",
        "drive.mount('/content/drive')"
      ],
      "execution_count": 0,
      "outputs": []
    },
    {
      "cell_type": "code",
      "metadata": {
        "id": "sYhABAowsZ49",
        "colab_type": "code",
        "outputId": "da98f22b-2d89-413e-d3b7-c08724ab0a0c",
        "colab": {
          "base_uri": "https://localhost:8080/",
          "height": 35
        }
      },
      "source": [
        "%cd /content/drive/My Drive/Trivago/Project/TrivagoRecommenderSystem"
      ],
      "execution_count": 0,
      "outputs": [
        {
          "output_type": "stream",
          "text": [
            "/content/drive/My Drive/Trivago/Project/TrivagoRecommenderSystem\n"
          ],
          "name": "stdout"
        }
      ]
    },
    {
      "cell_type": "markdown",
      "metadata": {
        "id": "Pp6mufSj25wO",
        "colab_type": "text"
      },
      "source": [
        "## Loading Libraries & Datasets"
      ]
    },
    {
      "cell_type": "code",
      "metadata": {
        "id": "RvIc037-tx2O",
        "colab_type": "code",
        "colab": {}
      },
      "source": [
        "import pandas as pd\n",
        "import numpy as np\n",
        "import joblib\n",
        "from collections import Counter\n",
        "from tqdm import tqdm_notebook as tqdm\n",
        "from sklearn.feature_selection import SelectKBest\n",
        "from sklearn.feature_selection import chi2\n",
        "from sklearn.linear_model import LogisticRegression\n",
        "from sklearn import preprocessing\n",
        "from sklearn.metrics import classification_report\n",
        "from sklearn.metrics import confusion_matrix\n",
        "import warnings\n",
        "warnings.filterwarnings('ignore', category=FutureWarning)\n",
        "warnings.filterwarnings('ignore', category=DeprecationWarning)\n",
        "pd.set_option('mode.chained_assignment', None)"
      ],
      "execution_count": 0,
      "outputs": []
    },
    {
      "cell_type": "code",
      "metadata": {
        "id": "XD665TzttzXG",
        "colab_type": "code",
        "colab": {}
      },
      "source": [
        "TrainDataFilepath = './Datasets/clean_data/Sets/train.csv'\n",
        "valFilepath = './Datasets/clean_data/Sets/val.csv'\n",
        "testFilepath = './Datasets/clean_data/Sets/test.csv'\n",
        "\n",
        "TrainData = pd.read_csv(TrainDataFilepath)\n",
        "valData = pd.read_csv(valFilepath)\n",
        "testData = pd.read_csv(testFilepath)"
      ],
      "execution_count": 0,
      "outputs": []
    },
    {
      "cell_type": "markdown",
      "metadata": {
        "id": "YyUDPJcZ6JHK",
        "colab_type": "text"
      },
      "source": [
        "## Validation & Test sets' Transformation & Scaling"
      ]
    },
    {
      "cell_type": "markdown",
      "metadata": {
        "id": "4r9lqBI700W2",
        "colab_type": "text"
      },
      "source": [
        "### Preparation"
      ]
    },
    {
      "cell_type": "code",
      "metadata": {
        "id": "ZYdrMMb5t2dK",
        "colab_type": "code",
        "colab": {}
      },
      "source": [
        "#declaring features and label\n",
        "features = TrainData.drop(columns=['session_id', 'item_id', 'clickout']).columns.tolist()\n",
        "label = ['clickout']\n",
        "\n",
        "#dropping highly correlated features\n",
        "FeaturesToDrop = ['NumberInImpressions', 'NumberInReferences', 'MeanPrice', 'MinPrice']\n",
        "for feature in FeaturesToDrop:\n",
        "  features.remove(feature)\n",
        "\n",
        "X_train = TrainData[features]\n",
        "y_train = TrainData[label]\n",
        "\n",
        "valData_sessions_item = valData[['session_id', 'item_id', 'clickout']]\n",
        "X_val = valData[features]\n",
        "y_val = valData[label]\n",
        "\n",
        "testData_sessions_item = testData[['session_id', 'item_id', 'clickout']]\n",
        "X_test = testData[features]\n",
        "y_test  = testData[label]"
      ],
      "execution_count": 0,
      "outputs": []
    },
    {
      "cell_type": "markdown",
      "metadata": {
        "id": "7mwDTmto1W6M",
        "colab_type": "text"
      },
      "source": [
        "### Scaling"
      ]
    },
    {
      "cell_type": "code",
      "metadata": {
        "id": "r_xDcgECn9cZ",
        "colab_type": "code",
        "colab": {}
      },
      "source": [
        "from sklearn.pipeline import Pipeline\n",
        "from sklearn.preprocessing import StandardScaler\n",
        "from sklearn.impute import SimpleImputer\n",
        "\n",
        "features = ['item_duration','item_interactions','NumberAsClickout','NumberAsFinalClickout','item_rank','price',\n",
        "            'item_session_duration','top_list']\n",
        "            \n",
        "num_pipeline = Pipeline([\n",
        "('imputer', SimpleImputer(strategy=\"median\")),\n",
        "('std_scaler', StandardScaler()),\n",
        "])\n",
        "\n",
        "from sklearn.compose import ColumnTransformer\n",
        "full_pipeline = ColumnTransformer([\n",
        "(\"num\", num_pipeline, list(X_train[features]))\n",
        "])\n",
        "\n",
        "# training set scaling\n",
        "X_train_scaled = full_pipeline.fit_transform(X_train[features])\n",
        "\n",
        "# validation set scaling\n",
        "X_val_scaled = full_pipeline.transform(X_val[features])\n",
        "\n",
        "# test set scaling\n",
        "X_test_scaled = full_pipeline.transform(X_test[features])"
      ],
      "execution_count": 0,
      "outputs": []
    },
    {
      "cell_type": "markdown",
      "metadata": {
        "id": "gXYC4rqrlW_H",
        "colab_type": "text"
      },
      "source": [
        "## Helper Functions"
      ]
    },
    {
      "cell_type": "code",
      "metadata": {
        "id": "dFduu6DBEmzv",
        "colab_type": "code",
        "colab": {}
      },
      "source": [
        "#function is from this repo https://gist.github.com/bwhite/3726239\n",
        "def mean_reciprocal_rank(rs):\n",
        "  \"\"\"Score is reciprocal of the rank of the first relevant item\n",
        "  First element is 'rank 1'.  Relevance is binary (nonzero is relevant).\n",
        "  Example from http://en.wikipedia.org/wiki/Mean_reciprocal_rank\n",
        "  >>> rs = [[0, 0, 1], [0, 1, 0], [1, 0, 0]]\n",
        "  >>> mean_reciprocal_rank(rs)\n",
        "  0.61111111111111105\n",
        "  >>> rs = np.array([[0, 0, 0], [0, 1, 0], [1, 0, 0]])\n",
        "  >>> mean_reciprocal_rank(rs)\n",
        "  0.5\n",
        "  >>> rs = [[0, 0, 0, 1], [1, 0, 0], [1, 0, 0]]\n",
        "  >>> mean_reciprocal_rank(rs)\n",
        "  0.75\n",
        "  Args:\n",
        "      rs: Iterator of relevance scores (list or numpy) in rank order\n",
        "          (first element is the first item)\n",
        "  Returns:\n",
        "      Mean reciprocal rank\n",
        "  \"\"\"\n",
        "  rs = (np.asarray(r).nonzero()[0] for r in rs)\n",
        "  return np.mean([1. / (r[0] + 1) if r.size else 0. for r in rs])\n",
        "\n",
        "def get_probabilities(model_path, X, session_item_dataset):\n",
        "  global clickout_rank, RecommendationsDF\n",
        "  '''\n",
        "  Desc: function that gets the probability of each item being selected by the user, rerank the items in the session based on the probabilites\n",
        "\n",
        "  Input: model_path: String with the name of the stored model\n",
        "         X: array of scaled features of the dataset\n",
        "         session_item_dataset: Pandas Dataframe with the sessions, items, and clickout\n",
        "        \n",
        "  Output: clickout_rank: List of lists that carries which item was selected in which rank\n",
        "          RecommendationsDF: Pandas Dataframe to be transformed and merged to the Clickout Dataframe\n",
        "  '''\n",
        "  model = joblib.load(model_path)\n",
        "  BothProbabilities = model.predict_proba(X)\n",
        "  Probabilities = [Probability[1] for Probability in BothProbabilities]\n",
        "  session_item_dataset['probability'] = Probabilities\n",
        "  RecommendationsDF = session_item_dataset.groupby(['session_id'], sort=False).apply(lambda x: (x.sort_values('probability', ascending=False)))\n",
        "  clickout_rank = RecommendationsDF.clickout\n",
        "  clickout_rank = clickout_rank.reset_index().groupby('session_id').clickout.apply(list).values.tolist()\n",
        "  return clickout_rank, RecommendationsDF\n",
        "  \n",
        "def ClassifReport(model_path, X, y):\n",
        "  global y_pred\n",
        "  model = joblib.load(model_path)\n",
        "  y_pred = model.predict(X)\n",
        "  return classification_report(y, y_pred)\n",
        "\n",
        "def PrintMetrics(model_path, X, y, session_item_dataset):\n",
        "  clickout_rank, RecommendationsDF = get_probabilities(model_path, X, session_item_dataset)\n",
        "  MeanReciprocalRank = mean_reciprocal_rank(clickout_rank)\n",
        "  print('Mean Reciprocal Rank : ', MeanReciprocalRank)\n",
        "  print('=================================================')\n",
        "  ClassificationReport = ClassifReport(model_path, X, y)\n",
        "  print('Classification Report')\n",
        "  print('=================================================')\n",
        "  print(ClassificationReport)\n",
        "  ConfMatrix = confusion_matrix(y, y_pred, labels=[1, 0])\n",
        "  print('Confusion Matrix')\n",
        "  print('================================================')\n",
        "  print(ConfMatrix)\n",
        "  return\n",
        "\n",
        "def reshape(data, y):\n",
        "  id_dict = Counter(data.session_id.values)\n",
        "  id = []\n",
        "  i = 0\n",
        "  for session in data.session_id.unique():\n",
        "    for j in range(id_dict.get(session)):\n",
        "      id.append(i)\n",
        "    i = i + 1\n",
        "\n",
        "  y_reshaped = y.clickout.values.reshape((len(y), 1))\n",
        "  gp_reshaped = np.array(id).reshape(len(id), 1)\n",
        "  y_gp_reshaped = np.hstack((y_reshaped, gp_reshaped))\n",
        "  return y_gp_reshaped\n",
        "\n",
        "def MRR1(model_path, X, y):\n",
        "    '''\n",
        "    Works only for hyper-parameter tuning using validation set.\n",
        "    '''\n",
        "    \n",
        "    estimator = joblib.load(model_path)\n",
        "    probability = estimator.predict_proba(X)[:,1]\n",
        "    df = pd.DataFrame(y, columns=['clickout', 'session_id'])\n",
        "    df['probability'] = probability\n",
        "    RecommendationsDF = df.groupby('session_id', sort=False).apply(lambda x: (x.sort_values('probability', ascending=False)))\n",
        "    clickout_rank = RecommendationsDF.clickout\n",
        "    clickout_rank = clickout_rank.reset_index().groupby('session_id', sort=False).clickout.apply(list).values.tolist()\n",
        "    return mean_reciprocal_rank(clickout_rank)"
      ],
      "execution_count": 0,
      "outputs": []
    },
    {
      "cell_type": "markdown",
      "metadata": {
        "id": "KrO2Nr0VtiQr",
        "colab_type": "text"
      },
      "source": [
        "## Reshaping Validation and Test Sets"
      ]
    },
    {
      "cell_type": "code",
      "metadata": {
        "id": "cf-YoV9uuzWv",
        "colab_type": "code",
        "colab": {}
      },
      "source": [
        "y_val_reshaped = reshape(valData, y_val)\n",
        "y_test_reshaped = reshape(testData, y_test)"
      ],
      "execution_count": 0,
      "outputs": []
    },
    {
      "cell_type": "markdown",
      "metadata": {
        "id": "i8XWgfDcufnb",
        "colab_type": "text"
      },
      "source": [
        "## Evaluation"
      ]
    },
    {
      "cell_type": "markdown",
      "metadata": {
        "id": "nJ2RBEtOlhzx",
        "colab_type": "text"
      },
      "source": [
        "### Without Resampling"
      ]
    },
    {
      "cell_type": "markdown",
      "metadata": {
        "id": "nOjtFcDrFiNO",
        "colab_type": "text"
      },
      "source": [
        "#### Logistic Regression"
      ]
    },
    {
      "cell_type": "code",
      "metadata": {
        "id": "ao49IZYvpVpN",
        "colab_type": "code",
        "outputId": "b6829a11-53b1-4ecf-d07e-ef703b092eb1",
        "colab": {
          "base_uri": "https://localhost:8080/",
          "height": 308
        }
      },
      "source": [
        "C_list = [0.001, 0.01, 0.1, 1, 10]\n",
        "MRRlist = []\n",
        "\n",
        "for C in C_list:\n",
        "  print('C equals ', C)\n",
        "  MeanRecipRank = MRR1('./modelsNew/LR_modelC{}.pkl'.format(C), X_val_scaled, y_val_reshaped)\n",
        "  MRRlist.append(MeanRecipRank)\n",
        "  print('MRR equals ', MeanRecipRank)\n",
        "  print('=============================================================================================================')\n",
        "\n",
        "MaxIndex = MRRlist.index(max(MRRlist))\n",
        "print(C_list[MaxIndex], 'is the best parameter.')"
      ],
      "execution_count": 0,
      "outputs": [
        {
          "output_type": "stream",
          "text": [
            "C equals  0.001\n",
            "MRR equals  0.5318410105953008\n",
            "=============================================================================================================\n",
            "C equals  0.01\n",
            "MRR equals  0.5306751365918466\n",
            "=============================================================================================================\n",
            "C equals  0.1\n",
            "MRR equals  0.5304636523505768\n",
            "=============================================================================================================\n",
            "C equals  1\n",
            "MRR equals  0.5304455279884333\n",
            "=============================================================================================================\n",
            "C equals  10\n",
            "MRR equals  0.5304451940584785\n",
            "=============================================================================================================\n",
            "0.001 is the best parameter.\n"
          ],
          "name": "stdout"
        }
      ]
    },
    {
      "cell_type": "markdown",
      "metadata": {
        "id": "VUXvrnUxFltP",
        "colab_type": "text"
      },
      "source": [
        "#### Random Forest"
      ]
    },
    {
      "cell_type": "code",
      "metadata": {
        "id": "cp4Qau9nqaaT",
        "colab_type": "code",
        "outputId": "84305bc2-8fca-4e79-990c-b0a6e78be189",
        "colab": {
          "base_uri": "https://localhost:8080/",
          "height": 690
        }
      },
      "source": [
        "n_estimators = [50, 100, 150, 200]\n",
        "max_depth = [1, 3, 5]\n",
        "parameters = []\n",
        "MRRlist = []\n",
        "\n",
        "for depth in max_depth:\n",
        "  for n_estimator in n_estimators:\n",
        "    params = [depth, n_estimator]\n",
        "    parameters.append(params)\n",
        "    print('max_depth equals {} and n_estimators equals {}'.format(depth, n_estimator))\n",
        "    MeanRecipRank = MRR1('./modelsNew/RF_modelDepth{}N{}.pkl'.format(depth, n_estimator), X_val_scaled, y_val_reshaped)\n",
        "    MRRlist.append(MeanRecipRank)\n",
        "    print('MRR equals ', MeanRecipRank)\n",
        "    print('=============================================================================================================')\n",
        "\n",
        "MaxIndex = MRRlist.index(max(MRRlist))\n",
        "print(parameters[MaxIndex], 'are the best parameters.')"
      ],
      "execution_count": 0,
      "outputs": [
        {
          "output_type": "stream",
          "text": [
            "max_depth equals 1 and n_estimators equals 50\n",
            "MRR equals  0.611747973269104\n",
            "=============================================================================================================\n",
            "max_depth equals 1 and n_estimators equals 100\n",
            "MRR equals  0.6117671328141076\n",
            "=============================================================================================================\n",
            "max_depth equals 1 and n_estimators equals 150\n",
            "MRR equals  0.6122438852852569\n",
            "=============================================================================================================\n",
            "max_depth equals 1 and n_estimators equals 200\n",
            "MRR equals  0.6118195583587548\n",
            "=============================================================================================================\n",
            "max_depth equals 3 and n_estimators equals 50\n",
            "MRR equals  0.5927865421547103\n",
            "=============================================================================================================\n",
            "max_depth equals 3 and n_estimators equals 100\n",
            "MRR equals  0.5991117102435418\n",
            "=============================================================================================================\n",
            "max_depth equals 3 and n_estimators equals 150\n",
            "MRR equals  0.5975274725887917\n",
            "=============================================================================================================\n",
            "max_depth equals 3 and n_estimators equals 200\n",
            "MRR equals  0.5936963104398567\n",
            "=============================================================================================================\n",
            "max_depth equals 5 and n_estimators equals 50\n",
            "MRR equals  0.5671153015802382\n",
            "=============================================================================================================\n",
            "max_depth equals 5 and n_estimators equals 100\n",
            "MRR equals  0.5694231303643901\n",
            "=============================================================================================================\n",
            "max_depth equals 5 and n_estimators equals 150\n",
            "MRR equals  0.5760390538438077\n",
            "=============================================================================================================\n",
            "max_depth equals 5 and n_estimators equals 200\n",
            "MRR equals  0.5694129771450702\n",
            "=============================================================================================================\n",
            "[1, 150] are the best parameters.\n"
          ],
          "name": "stdout"
        }
      ]
    },
    {
      "cell_type": "markdown",
      "metadata": {
        "id": "NCsZ7_ohF5jB",
        "colab_type": "text"
      },
      "source": [
        "####XGBoost"
      ]
    },
    {
      "cell_type": "code",
      "metadata": {
        "id": "dHAeUNhp1YpN",
        "colab_type": "code",
        "outputId": "7c412865-8ea9-49db-b6d4-6a82ecec11b2",
        "colab": {
          "base_uri": "https://localhost:8080/",
          "height": 1000
        }
      },
      "source": [
        "n_estimators = [50, 100, 150, 200]\n",
        "max_depth = [1, 3, 5]\n",
        "learning_rate = [0.01, 0.1, 1]\n",
        "parameters = []\n",
        "MRRlist = []\n",
        "\n",
        "for depth in max_depth:\n",
        "  for l_rate in learning_rate:\n",
        "    for n_estimator in n_estimators:\n",
        "      params = [depth, n_estimator, l_rate]\n",
        "      parameters.append(params)\n",
        "      print('max_depth equals {}, n_estimators equals {}, and learning_rate equals {}'.format(depth, n_estimator, l_rate))\n",
        "      MeanRecipRank = MRR1('./modelsNew/XGB_modelDepth{}N{}Lrate{}.pkl'.format(depth, n_estimator, l_rate),  X_val_scaled, y_val_reshaped)\n",
        "      MRRlist.append(MeanRecipRank)\n",
        "      print('MRR equals ', MeanRecipRank)\n",
        "      print('=============================================================================================================')\n",
        "\n",
        "\n",
        "MaxIndex = MRRlist.index(max(MRRlist))\n",
        "print(parameters[MaxIndex], 'are the best parameters.')"
      ],
      "execution_count": 0,
      "outputs": [
        {
          "output_type": "stream",
          "text": [
            "max_depth equals 1, n_estimators equals 50, and learning_rate equals 0.01\n",
            "MRR equals  0.6110881854054147\n",
            "=============================================================================================================\n",
            "max_depth equals 1, n_estimators equals 100, and learning_rate equals 0.01\n",
            "MRR equals  0.5862393040404837\n",
            "=============================================================================================================\n",
            "max_depth equals 1, n_estimators equals 150, and learning_rate equals 0.01\n",
            "MRR equals  0.5833116363622134\n",
            "=============================================================================================================\n",
            "max_depth equals 1, n_estimators equals 200, and learning_rate equals 0.01\n",
            "MRR equals  0.5980052611133977\n",
            "=============================================================================================================\n",
            "max_depth equals 1, n_estimators equals 50, and learning_rate equals 0.1\n",
            "MRR equals  0.5888656732646322\n",
            "=============================================================================================================\n",
            "max_depth equals 1, n_estimators equals 100, and learning_rate equals 0.1\n",
            "MRR equals  0.5739418775305741\n",
            "=============================================================================================================\n",
            "max_depth equals 1, n_estimators equals 150, and learning_rate equals 0.1\n",
            "MRR equals  0.5754199781650972\n",
            "=============================================================================================================\n",
            "max_depth equals 1, n_estimators equals 200, and learning_rate equals 0.1\n",
            "MRR equals  0.5703137581674497\n",
            "=============================================================================================================\n",
            "max_depth equals 1, n_estimators equals 50, and learning_rate equals 1\n",
            "MRR equals  0.3119403803738658\n",
            "=============================================================================================================\n",
            "max_depth equals 1, n_estimators equals 100, and learning_rate equals 1\n",
            "MRR equals  0.5106857087564758\n",
            "=============================================================================================================\n",
            "max_depth equals 1, n_estimators equals 150, and learning_rate equals 1\n",
            "MRR equals  0.37447481240289826\n",
            "=============================================================================================================\n",
            "max_depth equals 1, n_estimators equals 200, and learning_rate equals 1\n",
            "MRR equals  0.4619403687620113\n",
            "=============================================================================================================\n",
            "max_depth equals 3, n_estimators equals 50, and learning_rate equals 0.01\n",
            "MRR equals  0.5861650165009317\n",
            "=============================================================================================================\n",
            "max_depth equals 3, n_estimators equals 100, and learning_rate equals 0.01\n",
            "MRR equals  0.5734357564655677\n",
            "=============================================================================================================\n",
            "max_depth equals 3, n_estimators equals 150, and learning_rate equals 0.01\n",
            "MRR equals  0.576933158752314\n",
            "=============================================================================================================\n",
            "max_depth equals 3, n_estimators equals 200, and learning_rate equals 0.01\n",
            "MRR equals  0.5678393120945278\n",
            "=============================================================================================================\n",
            "max_depth equals 3, n_estimators equals 50, and learning_rate equals 0.1\n",
            "MRR equals  0.5560739041340038\n",
            "=============================================================================================================\n",
            "max_depth equals 3, n_estimators equals 100, and learning_rate equals 0.1\n",
            "MRR equals  0.5502922857215504\n",
            "=============================================================================================================\n",
            "max_depth equals 3, n_estimators equals 150, and learning_rate equals 0.1\n",
            "MRR equals  0.5513215207489398\n",
            "=============================================================================================================\n",
            "max_depth equals 3, n_estimators equals 200, and learning_rate equals 0.1\n",
            "MRR equals  0.5508945211534606\n",
            "=============================================================================================================\n",
            "max_depth equals 3, n_estimators equals 50, and learning_rate equals 1\n",
            "MRR equals  0.1939199086039389\n",
            "=============================================================================================================\n",
            "max_depth equals 3, n_estimators equals 100, and learning_rate equals 1\n",
            "MRR equals  0.45575882818447827\n",
            "=============================================================================================================\n",
            "max_depth equals 3, n_estimators equals 150, and learning_rate equals 1\n",
            "MRR equals  0.47074941612604737\n",
            "=============================================================================================================\n",
            "max_depth equals 3, n_estimators equals 200, and learning_rate equals 1\n",
            "MRR equals  0.1344648196431213\n",
            "=============================================================================================================\n",
            "max_depth equals 5, n_estimators equals 50, and learning_rate equals 0.01\n",
            "MRR equals  0.5537505800514264\n",
            "=============================================================================================================\n",
            "max_depth equals 5, n_estimators equals 100, and learning_rate equals 0.01\n",
            "MRR equals  0.553843876590794\n",
            "=============================================================================================================\n",
            "max_depth equals 5, n_estimators equals 150, and learning_rate equals 0.01\n",
            "MRR equals  0.5487391768929858\n",
            "=============================================================================================================\n",
            "max_depth equals 5, n_estimators equals 200, and learning_rate equals 0.01\n",
            "MRR equals  0.5488111767350395\n",
            "=============================================================================================================\n",
            "max_depth equals 5, n_estimators equals 50, and learning_rate equals 0.1\n",
            "MRR equals  0.550780720121698\n",
            "=============================================================================================================\n",
            "max_depth equals 5, n_estimators equals 100, and learning_rate equals 0.1\n",
            "MRR equals  0.5494573622722907\n",
            "=============================================================================================================\n",
            "max_depth equals 5, n_estimators equals 150, and learning_rate equals 0.1\n",
            "MRR equals  0.5503935750412858\n",
            "=============================================================================================================\n",
            "max_depth equals 5, n_estimators equals 200, and learning_rate equals 0.1\n",
            "MRR equals  0.5501688001361559\n",
            "=============================================================================================================\n",
            "max_depth equals 5, n_estimators equals 50, and learning_rate equals 1\n",
            "MRR equals  0.40893882758977185\n",
            "=============================================================================================================\n",
            "max_depth equals 5, n_estimators equals 100, and learning_rate equals 1\n",
            "MRR equals  0.2888383482222489\n",
            "=============================================================================================================\n",
            "max_depth equals 5, n_estimators equals 150, and learning_rate equals 1\n",
            "MRR equals  0.36802015755618744\n",
            "=============================================================================================================\n",
            "max_depth equals 5, n_estimators equals 200, and learning_rate equals 1\n",
            "MRR equals  0.4009600850600738\n",
            "=============================================================================================================\n",
            "[1, 50, 0.01] are the best parameters.\n"
          ],
          "name": "stdout"
        }
      ]
    },
    {
      "cell_type": "markdown",
      "metadata": {
        "colab_type": "text",
        "id": "a0133nsl1H6_"
      },
      "source": [
        "### With SMOTE"
      ]
    },
    {
      "cell_type": "markdown",
      "metadata": {
        "colab_type": "text",
        "id": "COrEh8l31H6-"
      },
      "source": [
        "####Logistic Regression"
      ]
    },
    {
      "cell_type": "code",
      "metadata": {
        "id": "z9jUnAotAhAG",
        "colab_type": "code",
        "outputId": "01432d7c-0b0a-4119-aaa3-5031692211ee",
        "colab": {
          "base_uri": "https://localhost:8080/",
          "height": 308
        }
      },
      "source": [
        "C_list = [0.001, 0.01, 0.1, 1, 10]\n",
        "MRRlist = []\n",
        "\n",
        "for C in C_list:\n",
        "  print('C equals ', C)\n",
        "  MeanRecipRank = MRR1('./modelsNew/LR_ SMOTE_C{}.pkl'.format(C), X_val_scaled, y_val_reshaped)\n",
        "  MRRlist.append(MeanRecipRank)\n",
        "  print('MRR equals ', MeanRecipRank)\n",
        "  print('=============================================================================================================')\n",
        "\n",
        "MaxIndex = MRRlist.index(max(MRRlist))\n",
        "print(C_list[MaxIndex], 'is the best parameter.')"
      ],
      "execution_count": 0,
      "outputs": [
        {
          "output_type": "stream",
          "text": [
            "C equals  0.001\n",
            "MRR equals  0.5328501467903882\n",
            "=============================================================================================================\n",
            "C equals  0.01\n",
            "MRR equals  0.5324270788816763\n",
            "=============================================================================================================\n",
            "C equals  0.1\n",
            "MRR equals  0.5323699178810473\n",
            "=============================================================================================================\n",
            "C equals  1\n",
            "MRR equals  0.532366528708843\n",
            "=============================================================================================================\n",
            "C equals  10\n",
            "MRR equals  0.5323661947788882\n",
            "=============================================================================================================\n",
            "0.001 is the best parameter.\n"
          ],
          "name": "stdout"
        }
      ]
    },
    {
      "cell_type": "markdown",
      "metadata": {
        "colab_type": "text",
        "id": "y5tdujLq1H64"
      },
      "source": [
        "#### Random Forest"
      ]
    },
    {
      "cell_type": "code",
      "metadata": {
        "id": "Ld9Hf-E9QAOf",
        "colab_type": "code",
        "outputId": "b1fd2448-f4dd-4de3-ee19-48aabc22beca",
        "colab": {
          "base_uri": "https://localhost:8080/",
          "height": 690
        }
      },
      "source": [
        "n_estimators = [50, 100, 150, 200]\n",
        "max_depth = [1, 3, 5]\n",
        "parameters = []\n",
        "MRRlist = []\n",
        "\n",
        "for depth in max_depth:\n",
        "  for n_estimator in n_estimators:\n",
        "    params = [depth, n_estimator]\n",
        "    parameters.append(params)\n",
        "    print('max_depth equals {} and n_estimators equals {}'.format(depth, n_estimator))\n",
        "    MeanRecipRank = MRR1('./modelsNew/RF_SMOTEDepth{}N{}.pkl'.format(depth, n_estimator), X_val_scaled, y_val_reshaped)\n",
        "    MRRlist.append(MeanRecipRank)\n",
        "    print('MRR equals ', MeanRecipRank)\n",
        "    print('=============================================================================================================')\n",
        "\n",
        "MaxIndex = MRRlist.index(max(MRRlist))\n",
        "print(parameters[MaxIndex], 'are the best parameters.')"
      ],
      "execution_count": 0,
      "outputs": [
        {
          "output_type": "stream",
          "text": [
            "max_depth equals 1 and n_estimators equals 50\n",
            "MRR equals  0.5856364029778319\n",
            "=============================================================================================================\n",
            "max_depth equals 1 and n_estimators equals 100\n",
            "MRR equals  0.6076981288711684\n",
            "=============================================================================================================\n",
            "max_depth equals 1 and n_estimators equals 150\n",
            "MRR equals  0.587638927961783\n",
            "=============================================================================================================\n",
            "max_depth equals 1 and n_estimators equals 200\n",
            "MRR equals  0.6039257767788645\n",
            "=============================================================================================================\n",
            "max_depth equals 3 and n_estimators equals 50\n",
            "MRR equals  0.5623632325865033\n",
            "=============================================================================================================\n",
            "max_depth equals 3 and n_estimators equals 100\n",
            "MRR equals  0.5700822787258082\n",
            "=============================================================================================================\n",
            "max_depth equals 3 and n_estimators equals 150\n",
            "MRR equals  0.5636586769680847\n",
            "=============================================================================================================\n",
            "max_depth equals 3 and n_estimators equals 200\n",
            "MRR equals  0.5652971824128564\n",
            "=============================================================================================================\n",
            "max_depth equals 5 and n_estimators equals 50\n",
            "MRR equals  0.5472226918247024\n",
            "=============================================================================================================\n",
            "max_depth equals 5 and n_estimators equals 100\n",
            "MRR equals  0.5484396099283035\n",
            "=============================================================================================================\n",
            "max_depth equals 5 and n_estimators equals 150\n",
            "MRR equals  0.5454754620080117\n",
            "=============================================================================================================\n",
            "max_depth equals 5 and n_estimators equals 200\n",
            "MRR equals  0.5521173636990838\n",
            "=============================================================================================================\n",
            "[1, 100] are the best parameters.\n"
          ],
          "name": "stdout"
        }
      ]
    },
    {
      "cell_type": "markdown",
      "metadata": {
        "colab_type": "text",
        "id": "Sg0poPvl1H6z"
      },
      "source": [
        "#### XGBoost"
      ]
    },
    {
      "cell_type": "code",
      "metadata": {
        "colab_type": "code",
        "id": "Zqdu6jMI1H6v",
        "outputId": "c511d5de-9c9c-47da-c5e9-af42a641eaf7",
        "colab": {
          "base_uri": "https://localhost:8080/",
          "height": 1000
        }
      },
      "source": [
        "n_estimators = [50, 100, 150, 200]\n",
        "max_depth = [1, 3, 5]\n",
        "learning_rate = [0.01, 0.1]\n",
        "parameters = []\n",
        "MRRlist = []\n",
        "\n",
        "for depth in max_depth:\n",
        "  for l_rate in learning_rate:\n",
        "    for n_estimator in n_estimators:\n",
        "      params = [depth, n_estimator, l_rate]\n",
        "      parameters.append(params)\n",
        "      print('max_depth equals {}, n_estimators equals {}, and learning_rate equals {}'.format(depth, n_estimator, l_rate))\n",
        "      MeanRecipRank = MRR1('./modelsNew/XGB_SMOTEDepth{}N{}Lrate{}.pkl'.format(depth, n_estimator, l_rate),  X_val_scaled, y_val_reshaped)\n",
        "      MRRlist.append(MeanRecipRank)\n",
        "      print('MRR equals ', MeanRecipRank)\n",
        "      print('=============================================================================================================')\n",
        "\n",
        "MaxIndex = MRRlist.index(max(MRRlist))\n",
        "print(parameters[MaxIndex], 'are the best parameters.')"
      ],
      "execution_count": 0,
      "outputs": [
        {
          "output_type": "stream",
          "text": [
            "max_depth equals 1, n_estimators equals 50, and learning_rate equals 0.01\n",
            "MRR equals  0.5804530125214199\n",
            "=============================================================================================================\n",
            "max_depth equals 1, n_estimators equals 100, and learning_rate equals 0.01\n",
            "MRR equals  0.5839781772171048\n",
            "=============================================================================================================\n",
            "max_depth equals 1, n_estimators equals 150, and learning_rate equals 0.01\n",
            "MRR equals  0.5840628285541019\n",
            "=============================================================================================================\n",
            "max_depth equals 1, n_estimators equals 200, and learning_rate equals 0.01\n",
            "MRR equals  0.5993176217470989\n",
            "=============================================================================================================\n",
            "max_depth equals 1, n_estimators equals 50, and learning_rate equals 0.1\n",
            "MRR equals  0.5897393712829533\n",
            "=============================================================================================================\n",
            "max_depth equals 1, n_estimators equals 100, and learning_rate equals 0.1\n",
            "MRR equals  0.5747752643548094\n",
            "=============================================================================================================\n",
            "max_depth equals 1, n_estimators equals 150, and learning_rate equals 0.1\n",
            "MRR equals  0.5758605340206633\n",
            "=============================================================================================================\n",
            "max_depth equals 1, n_estimators equals 200, and learning_rate equals 0.1\n",
            "MRR equals  0.5699296847629534\n",
            "=============================================================================================================\n",
            "max_depth equals 3, n_estimators equals 50, and learning_rate equals 0.01\n",
            "MRR equals  0.5898522451692539\n",
            "=============================================================================================================\n",
            "max_depth equals 3, n_estimators equals 100, and learning_rate equals 0.01\n",
            "MRR equals  0.5800913605113187\n",
            "=============================================================================================================\n",
            "max_depth equals 3, n_estimators equals 150, and learning_rate equals 0.01\n",
            "MRR equals  0.5735154587290651\n",
            "=============================================================================================================\n",
            "max_depth equals 3, n_estimators equals 200, and learning_rate equals 0.01\n",
            "MRR equals  0.5664459699625439\n",
            "=============================================================================================================\n",
            "max_depth equals 3, n_estimators equals 50, and learning_rate equals 0.1\n",
            "MRR equals  0.5529487123886637\n",
            "=============================================================================================================\n",
            "max_depth equals 3, n_estimators equals 100, and learning_rate equals 0.1\n",
            "MRR equals  0.5515770084134526\n",
            "=============================================================================================================\n",
            "max_depth equals 3, n_estimators equals 150, and learning_rate equals 0.1\n",
            "MRR equals  0.5525172096423601\n",
            "=============================================================================================================\n",
            "max_depth equals 3, n_estimators equals 200, and learning_rate equals 0.1\n",
            "MRR equals  0.5502051527132288\n",
            "=============================================================================================================\n",
            "max_depth equals 5, n_estimators equals 50, and learning_rate equals 0.01\n",
            "MRR equals  0.5578454235619449\n",
            "=============================================================================================================\n",
            "max_depth equals 5, n_estimators equals 100, and learning_rate equals 0.01\n",
            "MRR equals  0.5514753457228598\n",
            "=============================================================================================================\n",
            "max_depth equals 5, n_estimators equals 150, and learning_rate equals 0.01\n",
            "MRR equals  0.5504203440885812\n",
            "=============================================================================================================\n",
            "max_depth equals 5, n_estimators equals 200, and learning_rate equals 0.01\n",
            "MRR equals  0.5490036372650908\n",
            "=============================================================================================================\n",
            "max_depth equals 5, n_estimators equals 50, and learning_rate equals 0.1\n",
            "MRR equals  0.5509452593856308\n",
            "=============================================================================================================\n",
            "max_depth equals 5, n_estimators equals 100, and learning_rate equals 0.1\n",
            "MRR equals  0.5507435107773399\n",
            "=============================================================================================================\n",
            "max_depth equals 5, n_estimators equals 150, and learning_rate equals 0.1\n",
            "MRR equals  0.5509998972062004\n",
            "=============================================================================================================\n",
            "max_depth equals 5, n_estimators equals 200, and learning_rate equals 0.1\n",
            "MRR equals  0.5516369163025004\n",
            "=============================================================================================================\n",
            "[1, [50, 100, 150, 200], 0.01] are the best parameters.\n"
          ],
          "name": "stdout"
        }
      ]
    },
    {
      "cell_type": "markdown",
      "metadata": {
        "colab_type": "text",
        "id": "TERryzW01HY8"
      },
      "source": [
        "### With Undersampling"
      ]
    },
    {
      "cell_type": "markdown",
      "metadata": {
        "colab_type": "text",
        "id": "PnWCxATC1HY4"
      },
      "source": [
        "#### Logistic Regression"
      ]
    },
    {
      "cell_type": "code",
      "metadata": {
        "colab_type": "code",
        "id": "hLh7mUn51HYc",
        "outputId": "dac98974-8d32-445e-ae66-865353689424",
        "colab": {
          "base_uri": "https://localhost:8080/",
          "height": 308
        }
      },
      "source": [
        "C_list = [0.001, 0.01, 0.1, 1, 10]\n",
        "MRRlist = []\n",
        "\n",
        "for C in C_list:\n",
        "  print('C equals ', C)\n",
        "  MeanRecipRank = MRR1('./modelsNew/LR_Usample_C{}.pkl'.format(C), X_val_scaled, y_val_reshaped)\n",
        "  MRRlist.append(MeanRecipRank)\n",
        "  print('MRR equals ', MeanRecipRank)\n",
        "  print('=============================================================================================================')\n",
        "\n",
        "MaxIndex = MRRlist.index(max(MRRlist))\n",
        "print(C_list[MaxIndex], 'is the best parameter.')"
      ],
      "execution_count": 0,
      "outputs": [
        {
          "output_type": "stream",
          "text": [
            "C equals  0.001\n",
            "MRR equals  0.46363420524700205\n",
            "=============================================================================================================\n",
            "C equals  0.01\n",
            "MRR equals  0.47960528443635314\n",
            "=============================================================================================================\n",
            "C equals  0.1\n",
            "MRR equals  0.4847673909822967\n",
            "=============================================================================================================\n",
            "C equals  1\n",
            "MRR equals  0.4867548034671563\n",
            "=============================================================================================================\n",
            "C equals  10\n",
            "MRR equals  0.4874620608041104\n",
            "=============================================================================================================\n",
            "10 is the best parameter.\n"
          ],
          "name": "stdout"
        }
      ]
    },
    {
      "cell_type": "markdown",
      "metadata": {
        "colab_type": "text",
        "id": "2mKDUhLq1HYY"
      },
      "source": [
        "#### Random Forest"
      ]
    },
    {
      "cell_type": "code",
      "metadata": {
        "colab_type": "code",
        "id": "WfhxTVOK1HYD",
        "outputId": "1d3d42b3-c52b-4684-b3f3-8dae0b444035",
        "colab": {
          "base_uri": "https://localhost:8080/",
          "height": 690
        }
      },
      "source": [
        "n_estimators = [50, 100, 150, 200]\n",
        "max_depth = [1, 3, 5]\n",
        "parameters = []\n",
        "MRRlist = []\n",
        "\n",
        "for depth in max_depth:\n",
        "  for n_estimator in n_estimators:\n",
        "    params = [depth, n_estimator]\n",
        "    parameters.append(params)\n",
        "    print('max_depth equals {} and n_estimators equals {}'.format(depth, n_estimator))\n",
        "    MeanRecipRank = MRR1('./modelsNew/RF_UsampleDepth{}N{}.pkl'.format(depth, n_estimator), X_val_scaled, y_val_reshaped)\n",
        "    MRRlist.append(MeanRecipRank)\n",
        "    print('MRR equals ', MeanRecipRank)\n",
        "    print('=============================================================================================================')\n",
        "\n",
        "MaxIndex = MRRlist.index(max(MRRlist))\n",
        "print(parameters[MaxIndex], 'are the best parameters.')"
      ],
      "execution_count": 0,
      "outputs": [
        {
          "output_type": "stream",
          "text": [
            "max_depth equals 1 and n_estimators equals 50\n",
            "MRR equals  0.4943476224502757\n",
            "=============================================================================================================\n",
            "max_depth equals 1 and n_estimators equals 100\n",
            "MRR equals  0.4890958044937044\n",
            "=============================================================================================================\n",
            "max_depth equals 1 and n_estimators equals 150\n",
            "MRR equals  0.49756807636010514\n",
            "=============================================================================================================\n",
            "max_depth equals 1 and n_estimators equals 200\n",
            "MRR equals  0.49346429872679504\n",
            "=============================================================================================================\n",
            "max_depth equals 3 and n_estimators equals 50\n",
            "MRR equals  0.4725754459420281\n",
            "=============================================================================================================\n",
            "max_depth equals 3 and n_estimators equals 100\n",
            "MRR equals  0.45667041156421473\n",
            "=============================================================================================================\n",
            "max_depth equals 3 and n_estimators equals 150\n",
            "MRR equals  0.4673428149298242\n",
            "=============================================================================================================\n",
            "max_depth equals 3 and n_estimators equals 200\n",
            "MRR equals  0.491201029921567\n",
            "=============================================================================================================\n",
            "max_depth equals 5 and n_estimators equals 50\n",
            "MRR equals  0.4307510975578249\n",
            "=============================================================================================================\n",
            "max_depth equals 5 and n_estimators equals 100\n",
            "MRR equals  0.4465253361037403\n",
            "=============================================================================================================\n",
            "max_depth equals 5 and n_estimators equals 150\n",
            "MRR equals  0.43807166119628893\n",
            "=============================================================================================================\n",
            "max_depth equals 5 and n_estimators equals 200\n",
            "MRR equals  0.4377866955721171\n",
            "=============================================================================================================\n",
            "[1, 150] are the best parameters.\n"
          ],
          "name": "stdout"
        }
      ]
    },
    {
      "cell_type": "markdown",
      "metadata": {
        "colab_type": "text",
        "id": "TRjSIkGC1HX_"
      },
      "source": [
        "#### XGBoost"
      ]
    },
    {
      "cell_type": "code",
      "metadata": {
        "colab_type": "code",
        "id": "Wto1BAmb1HXq",
        "outputId": "d74f996f-f6b0-46df-9ea2-1ce5cea8c9c2",
        "colab": {
          "base_uri": "https://localhost:8080/",
          "height": 1000
        }
      },
      "source": [
        "n_estimators = [50, 100, 150, 200]\n",
        "max_depth = [1, 3, 5]\n",
        "learning_rate = [0.01, 0.1, 1]\n",
        "parameters = []\n",
        "MRRlist = []\n",
        "\n",
        "for depth in max_depth:\n",
        "  for l_rate in learning_rate:\n",
        "    for n_estimator in n_estimators:\n",
        "      params = [depth, n_estimator, l_rate]\n",
        "      parameters.append(params)\n",
        "      print('max_depth equals {}, n_estimators equals {}, and learning_rate equals {}'.format(depth, n_estimator, l_rate))\n",
        "      MeanRecipRank = MRR1('./modelsNew/XGB_UsampleDepth{}N{}Lrate{}.pkl'.format(depth, n_estimator, l_rate),  X_val_scaled, y_val_reshaped)\n",
        "      MRRlist.append(MeanRecipRank)\n",
        "      print('MRR equals ', MeanRecipRank)\n",
        "      print('=============================================================================================================')\n",
        "\n",
        "MaxIndex = MRRlist.index(max(MRRlist))\n",
        "print(parameters[MaxIndex], 'are the best parameters.')"
      ],
      "execution_count": 0,
      "outputs": [
        {
          "output_type": "stream",
          "text": [
            "max_depth equals 1, n_estimators equals 50, and learning_rate equals 0.01\n",
            "MRR equals  0.4762779282479144\n",
            "=============================================================================================================\n",
            "max_depth equals 1, n_estimators equals 100, and learning_rate equals 0.01\n",
            "MRR equals  0.5005629261813699\n",
            "=============================================================================================================\n",
            "max_depth equals 1, n_estimators equals 150, and learning_rate equals 0.01\n",
            "MRR equals  0.502264284227414\n",
            "=============================================================================================================\n",
            "max_depth equals 1, n_estimators equals 200, and learning_rate equals 0.01\n",
            "MRR equals  0.5067744841930498\n",
            "=============================================================================================================\n",
            "max_depth equals 1, n_estimators equals 50, and learning_rate equals 0.1\n",
            "MRR equals  0.5036524803434653\n",
            "=============================================================================================================\n",
            "max_depth equals 1, n_estimators equals 100, and learning_rate equals 0.1\n",
            "MRR equals  0.5074465807309867\n",
            "=============================================================================================================\n",
            "max_depth equals 1, n_estimators equals 150, and learning_rate equals 0.1\n",
            "MRR equals  0.5036193956658606\n",
            "=============================================================================================================\n",
            "max_depth equals 1, n_estimators equals 200, and learning_rate equals 0.1\n",
            "MRR equals  0.5005487520105201\n",
            "=============================================================================================================\n",
            "max_depth equals 1, n_estimators equals 50, and learning_rate equals 1\n",
            "MRR equals  0.49640169288155656\n",
            "=============================================================================================================\n",
            "max_depth equals 1, n_estimators equals 100, and learning_rate equals 1\n",
            "MRR equals  0.49119910981428994\n",
            "=============================================================================================================\n",
            "max_depth equals 1, n_estimators equals 150, and learning_rate equals 1\n",
            "MRR equals  0.48662564760443383\n",
            "=============================================================================================================\n",
            "max_depth equals 1, n_estimators equals 200, and learning_rate equals 1\n",
            "MRR equals  0.4869419574867845\n",
            "=============================================================================================================\n",
            "max_depth equals 3, n_estimators equals 50, and learning_rate equals 0.01\n",
            "MRR equals  0.44973156836375716\n",
            "=============================================================================================================\n",
            "max_depth equals 3, n_estimators equals 100, and learning_rate equals 0.01\n",
            "MRR equals  0.45640848208920803\n",
            "=============================================================================================================\n",
            "max_depth equals 3, n_estimators equals 150, and learning_rate equals 0.01\n",
            "MRR equals  0.45656880167749025\n",
            "=============================================================================================================\n",
            "max_depth equals 3, n_estimators equals 200, and learning_rate equals 0.01\n",
            "MRR equals  0.4580642481729179\n",
            "=============================================================================================================\n",
            "max_depth equals 3, n_estimators equals 50, and learning_rate equals 0.1\n",
            "MRR equals  0.4219473421618703\n",
            "=============================================================================================================\n",
            "max_depth equals 3, n_estimators equals 100, and learning_rate equals 0.1\n",
            "MRR equals  0.4154668902047959\n",
            "=============================================================================================================\n",
            "max_depth equals 3, n_estimators equals 150, and learning_rate equals 0.1\n",
            "MRR equals  0.4048111911221106\n",
            "=============================================================================================================\n",
            "max_depth equals 3, n_estimators equals 200, and learning_rate equals 0.1\n",
            "MRR equals  0.3921070936734605\n",
            "=============================================================================================================\n",
            "max_depth equals 3, n_estimators equals 50, and learning_rate equals 1\n",
            "MRR equals  0.38885226319473687\n",
            "=============================================================================================================\n",
            "max_depth equals 3, n_estimators equals 100, and learning_rate equals 1\n",
            "MRR equals  0.3756452911867663\n",
            "=============================================================================================================\n",
            "max_depth equals 3, n_estimators equals 150, and learning_rate equals 1\n",
            "MRR equals  0.38986749132540155\n",
            "=============================================================================================================\n",
            "max_depth equals 3, n_estimators equals 200, and learning_rate equals 1\n",
            "MRR equals  0.3760871145574939\n",
            "=============================================================================================================\n",
            "max_depth equals 5, n_estimators equals 50, and learning_rate equals 0.01\n",
            "MRR equals  0.4280670726235842\n",
            "=============================================================================================================\n",
            "max_depth equals 5, n_estimators equals 100, and learning_rate equals 0.01\n",
            "MRR equals  0.4319997543717367\n",
            "=============================================================================================================\n",
            "max_depth equals 5, n_estimators equals 150, and learning_rate equals 0.01\n",
            "MRR equals  0.4321230070334276\n",
            "=============================================================================================================\n",
            "max_depth equals 5, n_estimators equals 200, and learning_rate equals 0.01\n",
            "MRR equals  0.41849364341701156\n",
            "=============================================================================================================\n",
            "max_depth equals 5, n_estimators equals 50, and learning_rate equals 0.1\n",
            "MRR equals  0.4003237473298021\n",
            "=============================================================================================================\n",
            "max_depth equals 5, n_estimators equals 100, and learning_rate equals 0.1\n",
            "MRR equals  0.4081128086692335\n",
            "=============================================================================================================\n",
            "max_depth equals 5, n_estimators equals 150, and learning_rate equals 0.1\n",
            "MRR equals  0.3963632228539376\n",
            "=============================================================================================================\n",
            "max_depth equals 5, n_estimators equals 200, and learning_rate equals 0.1\n",
            "MRR equals  0.3922255314064327\n",
            "=============================================================================================================\n",
            "max_depth equals 5, n_estimators equals 50, and learning_rate equals 1\n",
            "MRR equals  0.37971516608824224\n",
            "=============================================================================================================\n",
            "max_depth equals 5, n_estimators equals 100, and learning_rate equals 1\n",
            "MRR equals  0.3823651331799152\n",
            "=============================================================================================================\n",
            "max_depth equals 5, n_estimators equals 150, and learning_rate equals 1\n",
            "MRR equals  0.3664828445475663\n",
            "=============================================================================================================\n",
            "max_depth equals 5, n_estimators equals 200, and learning_rate equals 1\n",
            "MRR equals  0.3943732351064935\n",
            "=============================================================================================================\n",
            "[1, 100, 0.1] are the best parameters.\n"
          ],
          "name": "stdout"
        }
      ]
    },
    {
      "cell_type": "markdown",
      "metadata": {
        "id": "FAWio0Ofo7cM",
        "colab_type": "text"
      },
      "source": [
        "## Conclusion"
      ]
    },
    {
      "cell_type": "markdown",
      "metadata": {
        "id": "IdT4-6Pqo_lo",
        "colab_type": "text"
      },
      "source": [
        "Random Forest has the best performance on the validation set with mean reciprocal rank of 0.61224, beating XGBoost with slight difference. The next step would be adding working more on the data provided."
      ]
    }
  ]
}