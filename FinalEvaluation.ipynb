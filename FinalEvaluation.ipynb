{
  "nbformat": 4,
  "nbformat_minor": 0,
  "metadata": {
    "colab": {
      "name": "FinalEvaluation.ipynb",
      "provenance": [],
      "collapsed_sections": [],
      "toc_visible": true,
      "machine_shape": "hm",
      "authorship_tag": "ABX9TyMJx3v/alfQd/4hL0vu/bmg",
      "include_colab_link": true
    },
    "kernelspec": {
      "name": "python3",
      "display_name": "Python 3"
    }
  },
  "cells": [
    {
      "cell_type": "markdown",
      "metadata": {
        "id": "view-in-github",
        "colab_type": "text"
      },
      "source": [
        "<a href=\"https://colab.research.google.com/github/ZeyadSabbah/TrivagoRecommenderSystem/blob/master/FinalEvaluation.ipynb\" target=\"_parent\"><img src=\"https://colab.research.google.com/assets/colab-badge.svg\" alt=\"Open In Colab\"/></a>"
      ]
    },
    {
      "cell_type": "code",
      "metadata": {
        "id": "eBM8MOp5Ptuy",
        "colab_type": "code",
        "outputId": "d303648b-939a-44f2-b07c-3fb8c1bafee1",
        "colab": {
          "base_uri": "https://localhost:8080/",
          "height": 33
        }
      },
      "source": [
        "from google.colab import drive\n",
        "drive.mount('/content/drive')"
      ],
      "execution_count": 1,
      "outputs": [
        {
          "output_type": "stream",
          "text": [
            "Drive already mounted at /content/drive; to attempt to forcibly remount, call drive.mount(\"/content/drive\", force_remount=True).\n"
          ],
          "name": "stdout"
        }
      ]
    },
    {
      "cell_type": "code",
      "metadata": {
        "id": "saxgv2hzP42n",
        "colab_type": "code",
        "outputId": "09be7225-2192-4f50-f8d6-5bc85a35be62",
        "colab": {
          "base_uri": "https://localhost:8080/",
          "height": 33
        }
      },
      "source": [
        "%cd /content/drive/My Drive/Trivago/Project/TrivagoRecommenderSystem"
      ],
      "execution_count": 2,
      "outputs": [
        {
          "output_type": "stream",
          "text": [
            "/content/drive/My Drive/Trivago/Project/TrivagoRecommenderSystem\n"
          ],
          "name": "stdout"
        }
      ]
    },
    {
      "cell_type": "markdown",
      "metadata": {
        "id": "YSdl1MdGP_6O",
        "colab_type": "text"
      },
      "source": [
        "## Loading Libraries & Datasets"
      ]
    },
    {
      "cell_type": "code",
      "metadata": {
        "id": "3wxLlW6hQAm_",
        "colab_type": "code",
        "colab": {}
      },
      "source": [
        "import pandas as pd\n",
        "import numpy as np\n",
        "from datetime import datetime\n",
        "from datetime import timedelta\n",
        "import math\n",
        "import matplotlib.pyplot as plt\n",
        "from datetime import datetime\n",
        "import joblib\n",
        "from sklearn.feature_selection import SelectKBest\n",
        "from sklearn.feature_selection import chi2\n",
        "from sklearn import preprocessing\n",
        "from sklearn.metrics import classification_report\n",
        "from sklearn.metrics import confusion_matrix\n",
        "import warnings\n",
        "warnings.filterwarnings('ignore', category=FutureWarning)\n",
        "warnings.filterwarnings('ignore', category=DeprecationWarning)"
      ],
      "execution_count": 0,
      "outputs": []
    },
    {
      "cell_type": "code",
      "metadata": {
        "id": "eIYJwRh-QD-U",
        "colab_type": "code",
        "colab": {}
      },
      "source": [
        "TrainMoreDataFilepath = './Datasets/clean_data/Sets/trainMore.csv'\n",
        "valFilepath = './Datasets/clean_data/Sets/val.csv'\n",
        "testFilepath = './Datasets/clean_data/Sets/test.csv'\n",
        "\n",
        "TrainMoreData = pd.read_csv(TrainMoreDataFilepath)\n",
        "valData = pd.read_csv(valFilepath)\n",
        "testData = pd.read_csv(testFilepath)"
      ],
      "execution_count": 0,
      "outputs": []
    },
    {
      "cell_type": "markdown",
      "metadata": {
        "id": "YyUDPJcZ6JHK",
        "colab_type": "text"
      },
      "source": [
        "## Validation & Test sets' Transformation & Scaling"
      ]
    },
    {
      "cell_type": "markdown",
      "metadata": {
        "id": "4r9lqBI700W2",
        "colab_type": "text"
      },
      "source": [
        "### Preparation"
      ]
    },
    {
      "cell_type": "code",
      "metadata": {
        "id": "ZYdrMMb5t2dK",
        "colab_type": "code",
        "colab": {}
      },
      "source": [
        "#declaring features and label\n",
        "features = TrainMoreData.drop(columns=['session_id', 'item_id', 'clickout']).columns.tolist()\n",
        "label = ['clickout']\n",
        "\n",
        "#dropping highly correlated features\n",
        "FeaturesToDrop = ['NumberInImpressions', 'NumberInReferences', 'MeanPrice', 'MinPrice']\n",
        "for feature in FeaturesToDrop:\n",
        "  features.remove(feature)\n",
        "\n",
        "X_train = TrainMoreData[features]\n",
        "y_train = TrainMoreData[label]\n",
        "\n",
        "valData_sessions_item = valData[['session_id', 'item_id', 'clickout']]\n",
        "X_val = valData[features]\n",
        "y_val = valData[label]\n",
        "\n",
        "testData_sessions_item = testData[['session_id', 'item_id', 'clickout']]\n",
        "X_test = testData[features]\n",
        "y_test  = testData[label]"
      ],
      "execution_count": 0,
      "outputs": []
    },
    {
      "cell_type": "markdown",
      "metadata": {
        "id": "NzTung3rRowM",
        "colab_type": "text"
      },
      "source": [
        "### Using SelectKBest"
      ]
    },
    {
      "cell_type": "code",
      "metadata": {
        "id": "GY2StplwRw_w",
        "colab_type": "code",
        "outputId": "329292d4-fd46-45ae-d9f9-94fb7787980d",
        "colab": {
          "base_uri": "https://localhost:8080/",
          "height": 166
        }
      },
      "source": [
        "bestfeatures = SelectKBest(score_func=chi2, k=8)\n",
        "fit = bestfeatures.fit(X_train, y_train)\n",
        "dfscores = pd.DataFrame(fit.scores_)\n",
        "dfcolumns = pd.DataFrame(X_train.columns)\n",
        "\n",
        "#concat two dataframes for better visualization \n",
        "featureScores = pd.concat([dfcolumns, dfscores], axis=1)\n",
        "featureScores.columns = ['Specs', 'Score'] \n",
        "print(featureScores.nlargest(8,'Score'))"
      ],
      "execution_count": 6,
      "outputs": [
        {
          "output_type": "stream",
          "text": [
            "                    Specs         Score\n",
            "4           item_duration  6.554425e+08\n",
            "6       item_interactions  1.329537e+07\n",
            "10       NumberAsClickout  3.149896e+06\n",
            "11  NumberAsFinalClickout  2.388846e+06\n",
            "1               item_rank  2.196057e+06\n",
            "0                   price  7.123832e+05\n",
            "5   item_session_duration  6.273780e+05\n",
            "8                top_list  5.268643e+05\n"
          ],
          "name": "stdout"
        }
      ]
    },
    {
      "cell_type": "markdown",
      "metadata": {
        "id": "lXkO6GJ9SBzV",
        "colab_type": "text"
      },
      "source": [
        "### Scaling"
      ]
    },
    {
      "cell_type": "code",
      "metadata": {
        "id": "G_SAetnMSCZy",
        "colab_type": "code",
        "colab": {}
      },
      "source": [
        "from sklearn.pipeline import Pipeline\n",
        "from sklearn.preprocessing import StandardScaler\n",
        "from sklearn.impute import SimpleImputer\n",
        "\n",
        "#features by SelectKBest\n",
        "features = ['item_duration','item_interactions','NumberAsClickout','NumberAsFinalClickout','item_rank','price','item_session_duration','top_list']\n",
        "num_pipeline = Pipeline([\n",
        "('imputer', SimpleImputer(strategy=\"median\")),\n",
        "('std_scaler', StandardScaler()),\n",
        "])\n",
        "\n",
        "from sklearn.compose import ColumnTransformer\n",
        "full_pipeline = ColumnTransformer([\n",
        "(\"num\", num_pipeline, list(X_train[features]))\n",
        "])\n",
        "\n",
        "# training set scaling\n",
        "X_train_scaled = full_pipeline.fit_transform(X_train[features])\n",
        "\n",
        "# validation set scaling\n",
        "X_val_scaled = full_pipeline.fit_transform(X_val[features])\n",
        "\n",
        "# test set scaling\n",
        "X_test_scaled = full_pipeline.fit_transform(X_test[features])"
      ],
      "execution_count": 0,
      "outputs": []
    },
    {
      "cell_type": "markdown",
      "metadata": {
        "id": "Y9Fa3zfNWBdz",
        "colab_type": "text"
      },
      "source": [
        "## Evaluation"
      ]
    },
    {
      "cell_type": "code",
      "metadata": {
        "id": "JHdjMWJzWHkP",
        "colab_type": "code",
        "colab": {}
      },
      "source": [
        "#function is from this repo https://gist.github.com/bwhite/3726239\n",
        "def mean_reciprocal_rank(rs):\n",
        "    \"\"\"Score is reciprocal of the rank of the first relevant item\n",
        "    First element is 'rank 1'.  Relevance is binary (nonzero is relevant).\n",
        "    Example from http://en.wikipedia.org/wiki/Mean_reciprocal_rank\n",
        "    >>> rs = [[0, 0, 1], [0, 1, 0], [1, 0, 0]]\n",
        "    >>> mean_reciprocal_rank(rs)\n",
        "    0.61111111111111105\n",
        "    >>> rs = np.array([[0, 0, 0], [0, 1, 0], [1, 0, 0]])\n",
        "    >>> mean_reciprocal_rank(rs)\n",
        "    0.5\n",
        "    >>> rs = [[0, 0, 0, 1], [1, 0, 0], [1, 0, 0]]\n",
        "    >>> mean_reciprocal_rank(rs)\n",
        "    0.75\n",
        "    Args:\n",
        "        rs: Iterator of relevance scores (list or numpy) in rank order\n",
        "            (first element is the first item)\n",
        "    Returns:\n",
        "        Mean reciprocal rank\n",
        "    \"\"\"\n",
        "    rs = (np.asarray(r).nonzero()[0] for r in rs)\n",
        "    return np.mean([1. / (r[0] + 1) if r.size else 0. for r in rs])\n",
        "\n",
        "def get_probabilities(model_path, X, session_item_dataset):\n",
        "  '''\n",
        "  Desc: function that gets the probability of each item being selected by the user, rerank the items in the session based on the probabilites\n",
        "\n",
        "  Input: model_path: String with the name of the stored model\n",
        "         X: array of scaled features of the dataset\n",
        "         session_item_dataset: Pandas Dataframe with the sessions, items, and clickout\n",
        "        \n",
        "  Output: clickout_rank: List of lists that carries which item was selected in which rank\n",
        "          RecommendationsDF: Pandas Dataframe to be transformed and merged to the Clickout Dataframe\n",
        "  '''\n",
        "  model = joblib.load(model_path)\n",
        "  BothProbabilities = model.predict_proba(X)\n",
        "  Probabilities = [Probability[1] for Probability in BothProbabilities]\n",
        "  session_item_dataset['probability'] = Probabilities\n",
        "  RecommendationsDF = session_item_dataset.groupby(['session_id'], sort=False).apply(lambda x: (x.sort_values('probability', ascending=False)))\n",
        "  clickout_rank = RecommendationsDF.clickout\n",
        "  clickout_rank = clickout_rank.reset_index().groupby('session_id').clickout.apply(list).values.tolist()\n",
        "  return clickout_rank, RecommendationsDF\n",
        "\n",
        "def ClassifReport(model_path, X, y):\n",
        "  global y_pred\n",
        "  model = joblib.load(model_path)\n",
        "  y_pred = model.predict(X)\n",
        "  return classification_report(y, y_pred)\n",
        "\n",
        "def PrintMetrics(model_path, X, y, session_item_dataset):\n",
        "  clickout_rank, RecommendationsDF = get_probabilities(model_path, X, session_item_dataset)\n",
        "  MeanReciprocalRank = mean_reciprocal_rank(clickout_rank)\n",
        "  print('Mean Reciprocal Rank : ', MeanReciprocalRank)\n",
        "  print('=================================================')\n",
        "  ClassificationReport = ClassifReport(model_path, X, y)\n",
        "  print('Classification Report')\n",
        "  print('=================================================')\n",
        "  print(ClassificationReport)\n",
        "  ConfMatrix = confusion_matrix(y, y_pred, labels=[1, 0])\n",
        "  print('Confusion Matrix')\n",
        "  print('================================================')\n",
        "  print(ConfMatrix)\n",
        "  return"
      ],
      "execution_count": 0,
      "outputs": []
    },
    {
      "cell_type": "code",
      "metadata": {
        "id": "sgUDPlT5UjcB",
        "colab_type": "code",
        "colab": {}
      },
      "source": [
        "def ConcatProperties(data, ClustersOrPCA, X_scaled):\n",
        "  '''\n",
        "  Desc: function that concatenates either clusters or PCA of properties\n",
        "\n",
        "  Input: data: Pandas DataFrame with the data being used to concatenate properties to\n",
        "         ClustersOrPCA: String with which type to be used of properties\n",
        "         X_scaled: numpy array of the features of the dataframe used\n",
        "         \n",
        "  Output: X_scaled_prop: Pandas DataFrame with the properties of different items being concatenated to the features dataframe\n",
        "  '''\n",
        "  if ClustersOrPCA == 'Clusters':\n",
        "    PropertiesFilePath = './Datasets/clean_data/ItemsPropertiesSimilarities/PropertiesClusters.csv'\n",
        "    DF = pd.read_csv(PropertiesFilePath)\n",
        "    DF = DF.rename(columns={'item':'item_id'})\n",
        "  elif ClustersOrPCA == 'PCA':\n",
        "    PropertiesFilePath = './Datasets/clean_data/ItemsPropertiesSimilarities/PCA_Properties.csv'\n",
        "    DF = pd.read_csv(PropertiesFilePath)\n",
        "    DF.drop(columns='Unnamed: 0', inplace=True)\n",
        "  X_scaled = pd.DataFrame(X_scaled, columns=features)\n",
        "  X_scaled['item_id'] = data['item_id'].values.tolist()\n",
        "  X_scaled_prop = X_scaled.merge(DF, on='item_id', how='left')\n",
        "  if ClustersOrPCA == 'Clusters':\n",
        "    X_scaled_prop.fillna(0, inplace=True)\n",
        "  elif ClustersOrPCA == 'PCA':\n",
        "    X_scaled_prop.fillna(X_scaled_prop.mean(), inplace=True)\n",
        "  X_scaled_prop.drop(columns='item_id', inplace=True)\n",
        "  return X_scaled_prop"
      ],
      "execution_count": 0,
      "outputs": []
    },
    {
      "cell_type": "code",
      "metadata": {
        "id": "Qbiz26VfWNZW",
        "colab_type": "code",
        "colab": {}
      },
      "source": [
        "X_val_PCA = ConcatProperties(valData, 'PCA', X_val_scaled)\n",
        "X_test_PCA = ConcatProperties(testData, 'PCA', X_test_scaled)\n",
        "\n",
        "X_val_clust = ConcatProperties(valData, 'Clusters', X_val_scaled)\n",
        "X_test_clust = ConcatProperties(testData, 'Clusters', X_test_scaled)"
      ],
      "execution_count": 0,
      "outputs": []
    },
    {
      "cell_type": "markdown",
      "metadata": {
        "id": "GJEFDghhTL6l",
        "colab_type": "text"
      },
      "source": [
        "### PCA"
      ]
    },
    {
      "cell_type": "code",
      "metadata": {
        "id": "ThZvuE5dU_At",
        "colab_type": "code",
        "outputId": "b36abac9-73b8-4dae-f009-850b6cd46bad",
        "colab": {
          "base_uri": "https://localhost:8080/",
          "height": 391
        }
      },
      "source": [
        "PrintMetrics('./modelsProperties/RF_PCA.pkl', X_val_PCA, y_val, valData_sessions_item)"
      ],
      "execution_count": 0,
      "outputs": [
        {
          "output_type": "stream",
          "text": [
            "/usr/local/lib/python3.6/dist-packages/ipykernel_launcher.py:37: SettingWithCopyWarning: \n",
            "A value is trying to be set on a copy of a slice from a DataFrame.\n",
            "Try using .loc[row_indexer,col_indexer] = value instead\n",
            "\n",
            "See the caveats in the documentation: https://pandas.pydata.org/pandas-docs/stable/user_guide/indexing.html#returning-a-view-versus-a-copy\n"
          ],
          "name": "stderr"
        },
        {
          "output_type": "stream",
          "text": [
            "Mean Reciprocal Rank :  0.6051184239562165\n",
            "=================================================\n",
            "Classification Report\n",
            "=================================================\n",
            "              precision    recall  f1-score   support\n",
            "\n",
            "           0       0.96      1.00      0.98   3249590\n",
            "           1       0.75      0.05      0.09    149676\n",
            "\n",
            "    accuracy                           0.96   3399266\n",
            "   macro avg       0.85      0.52      0.54   3399266\n",
            "weighted avg       0.95      0.96      0.94   3399266\n",
            "\n",
            "Confusion Matrix\n",
            "================================================\n",
            "[[   7329  142347]\n",
            " [   2506 3247084]]\n"
          ],
          "name": "stdout"
        }
      ]
    },
    {
      "cell_type": "markdown",
      "metadata": {
        "id": "jvCJyWm_XOyF",
        "colab_type": "text"
      },
      "source": [
        "### Clusters"
      ]
    },
    {
      "cell_type": "code",
      "metadata": {
        "id": "Cv49U6oGXb8q",
        "colab_type": "code",
        "outputId": "a955fd63-87e9-49f9-ab9c-64d9f2c01f0a",
        "colab": {
          "base_uri": "https://localhost:8080/",
          "height": 391
        }
      },
      "source": [
        "PrintMetrics('./modelsProperties/RF_Clusters.pkl', X_val_clust, y_val, valData_sessions_item)"
      ],
      "execution_count": 0,
      "outputs": [
        {
          "output_type": "stream",
          "text": [
            "/usr/local/lib/python3.6/dist-packages/ipykernel_launcher.py:37: SettingWithCopyWarning: \n",
            "A value is trying to be set on a copy of a slice from a DataFrame.\n",
            "Try using .loc[row_indexer,col_indexer] = value instead\n",
            "\n",
            "See the caveats in the documentation: https://pandas.pydata.org/pandas-docs/stable/user_guide/indexing.html#returning-a-view-versus-a-copy\n"
          ],
          "name": "stderr"
        },
        {
          "output_type": "stream",
          "text": [
            "Mean Reciprocal Rank :  0.5933660964944267\n",
            "=================================================\n",
            "Classification Report\n",
            "=================================================\n",
            "              precision    recall  f1-score   support\n",
            "\n",
            "           0       0.96      1.00      0.98   3249590\n",
            "           1       0.67      0.07      0.13    149676\n",
            "\n",
            "    accuracy                           0.96   3399266\n",
            "   macro avg       0.81      0.54      0.55   3399266\n",
            "weighted avg       0.95      0.96      0.94   3399266\n",
            "\n",
            "Confusion Matrix\n",
            "================================================\n",
            "[[  10754  138922]\n",
            " [   5309 3244281]]\n"
          ],
          "name": "stdout"
        }
      ]
    },
    {
      "cell_type": "markdown",
      "metadata": {
        "id": "U-GNo5-QcLqa",
        "colab_type": "text"
      },
      "source": [
        "## Final Score"
      ]
    },
    {
      "cell_type": "code",
      "metadata": {
        "id": "UVzfhjAIYc1A",
        "colab_type": "code",
        "outputId": "fc3e13cb-2960-4019-9715-71f86db03750",
        "colab": {
          "base_uri": "https://localhost:8080/",
          "height": 383
        }
      },
      "source": [
        "PrintMetrics('./modelsProperties/RF_PCA.pkl', X_test_PCA, y_test, testData_sessions_item)"
      ],
      "execution_count": 12,
      "outputs": [
        {
          "output_type": "stream",
          "text": [
            "/usr/local/lib/python3.6/dist-packages/ipykernel_launcher.py:37: SettingWithCopyWarning: \n",
            "A value is trying to be set on a copy of a slice from a DataFrame.\n",
            "Try using .loc[row_indexer,col_indexer] = value instead\n",
            "\n",
            "See the caveats in the documentation: https://pandas.pydata.org/pandas-docs/stable/user_guide/indexing.html#returning-a-view-versus-a-copy\n"
          ],
          "name": "stderr"
        },
        {
          "output_type": "stream",
          "text": [
            "Mean Reciprocal Rank :  0.609054711589517\n",
            "=================================================\n",
            "Classification Report\n",
            "=================================================\n",
            "              precision    recall  f1-score   support\n",
            "\n",
            "           0       0.96      1.00      0.98   2663846\n",
            "           1       0.75      0.05      0.09    122815\n",
            "\n",
            "    accuracy                           0.96   2786661\n",
            "   macro avg       0.85      0.52      0.53   2786661\n",
            "weighted avg       0.95      0.96      0.94   2786661\n",
            "\n",
            "Confusion Matrix\n",
            "================================================\n",
            "[[   5946  116869]\n",
            " [   1997 2661849]]\n"
          ],
          "name": "stdout"
        }
      ]
    },
    {
      "cell_type": "markdown",
      "metadata": {
        "id": "hk12Lds1ibZv",
        "colab_type": "text"
      },
      "source": [
        "## Submission"
      ]
    },
    {
      "cell_type": "markdown",
      "metadata": {
        "id": "_nTh7w_p1Z87",
        "colab_type": "text"
      },
      "source": [
        "In the future, the challenge might be a public competition, in that case transformation of the output is needed."
      ]
    },
    {
      "cell_type": "code",
      "metadata": {
        "id": "YHLo6Dbictqv",
        "colab_type": "code",
        "outputId": "1d98f03b-82a2-40ef-e6cf-7ec841e41475",
        "colab": {
          "base_uri": "https://localhost:8080/",
          "height": 384
        }
      },
      "source": [
        "test_set_filepath = './Datasets/raw_data/test.csv'\n",
        "test_set = pd.read_csv(test_set_filepath)\n",
        "test_set.head()"
      ],
      "execution_count": 13,
      "outputs": [
        {
          "output_type": "execute_result",
          "data": {
            "text/html": [
              "<div>\n",
              "<style scoped>\n",
              "    .dataframe tbody tr th:only-of-type {\n",
              "        vertical-align: middle;\n",
              "    }\n",
              "\n",
              "    .dataframe tbody tr th {\n",
              "        vertical-align: top;\n",
              "    }\n",
              "\n",
              "    .dataframe thead th {\n",
              "        text-align: right;\n",
              "    }\n",
              "</style>\n",
              "<table border=\"1\" class=\"dataframe\">\n",
              "  <thead>\n",
              "    <tr style=\"text-align: right;\">\n",
              "      <th></th>\n",
              "      <th>user_id</th>\n",
              "      <th>session_id</th>\n",
              "      <th>timestamp</th>\n",
              "      <th>step</th>\n",
              "      <th>action_type</th>\n",
              "      <th>reference</th>\n",
              "      <th>platform</th>\n",
              "      <th>city</th>\n",
              "      <th>device</th>\n",
              "      <th>current_filters</th>\n",
              "      <th>impressions</th>\n",
              "      <th>prices</th>\n",
              "    </tr>\n",
              "  </thead>\n",
              "  <tbody>\n",
              "    <tr>\n",
              "      <th>0</th>\n",
              "      <td>004A07DM0IDW</td>\n",
              "      <td>1d688ec168932</td>\n",
              "      <td>1541555614</td>\n",
              "      <td>1</td>\n",
              "      <td>interaction item image</td>\n",
              "      <td>2059240</td>\n",
              "      <td>CO</td>\n",
              "      <td>Santa Marta, Colombia</td>\n",
              "      <td>mobile</td>\n",
              "      <td>NaN</td>\n",
              "      <td>NaN</td>\n",
              "      <td>NaN</td>\n",
              "    </tr>\n",
              "    <tr>\n",
              "      <th>1</th>\n",
              "      <td>004A07DM0IDW</td>\n",
              "      <td>1d688ec168932</td>\n",
              "      <td>1541555614</td>\n",
              "      <td>2</td>\n",
              "      <td>interaction item image</td>\n",
              "      <td>2059240</td>\n",
              "      <td>CO</td>\n",
              "      <td>Santa Marta, Colombia</td>\n",
              "      <td>mobile</td>\n",
              "      <td>NaN</td>\n",
              "      <td>NaN</td>\n",
              "      <td>NaN</td>\n",
              "    </tr>\n",
              "    <tr>\n",
              "      <th>2</th>\n",
              "      <td>004A07DM0IDW</td>\n",
              "      <td>1d688ec168932</td>\n",
              "      <td>1541555696</td>\n",
              "      <td>3</td>\n",
              "      <td>clickout item</td>\n",
              "      <td>1050068</td>\n",
              "      <td>CO</td>\n",
              "      <td>Santa Marta, Colombia</td>\n",
              "      <td>mobile</td>\n",
              "      <td>NaN</td>\n",
              "      <td>2059240|2033381|1724779|127131|399441|103357|1...</td>\n",
              "      <td>70|46|48|76|65|65|106|66|87|43|52|44|60|61|50|...</td>\n",
              "    </tr>\n",
              "    <tr>\n",
              "      <th>3</th>\n",
              "      <td>004A07DM0IDW</td>\n",
              "      <td>1d688ec168932</td>\n",
              "      <td>1541555707</td>\n",
              "      <td>4</td>\n",
              "      <td>clickout item</td>\n",
              "      <td>1050068</td>\n",
              "      <td>CO</td>\n",
              "      <td>Santa Marta, Colombia</td>\n",
              "      <td>mobile</td>\n",
              "      <td>NaN</td>\n",
              "      <td>2059240|2033381|1724779|127131|399441|103357|1...</td>\n",
              "      <td>70|46|48|76|65|65|106|66|87|43|52|44|60|61|50|...</td>\n",
              "    </tr>\n",
              "    <tr>\n",
              "      <th>4</th>\n",
              "      <td>004A07DM0IDW</td>\n",
              "      <td>1d688ec168932</td>\n",
              "      <td>1541555717</td>\n",
              "      <td>5</td>\n",
              "      <td>clickout item</td>\n",
              "      <td>1050068</td>\n",
              "      <td>CO</td>\n",
              "      <td>Santa Marta, Colombia</td>\n",
              "      <td>mobile</td>\n",
              "      <td>NaN</td>\n",
              "      <td>2059240|2033381|1724779|127131|399441|103357|1...</td>\n",
              "      <td>70|46|48|76|65|65|106|66|87|43|52|44|60|61|50|...</td>\n",
              "    </tr>\n",
              "  </tbody>\n",
              "</table>\n",
              "</div>"
            ],
            "text/plain": [
              "        user_id  ...                                             prices\n",
              "0  004A07DM0IDW  ...                                                NaN\n",
              "1  004A07DM0IDW  ...                                                NaN\n",
              "2  004A07DM0IDW  ...  70|46|48|76|65|65|106|66|87|43|52|44|60|61|50|...\n",
              "3  004A07DM0IDW  ...  70|46|48|76|65|65|106|66|87|43|52|44|60|61|50|...\n",
              "4  004A07DM0IDW  ...  70|46|48|76|65|65|106|66|87|43|52|44|60|61|50|...\n",
              "\n",
              "[5 rows x 12 columns]"
            ]
          },
          "metadata": {
            "tags": []
          },
          "execution_count": 13
        }
      ]
    },
    {
      "cell_type": "code",
      "metadata": {
        "id": "80FSDeydwiBZ",
        "colab_type": "code",
        "colab": {}
      },
      "source": [
        "def transform_Recommendations(clickout_dataframe, RecommendationsDF):\n",
        "  ListOfItems = RecommendationsDF.reset_index(drop=True)[['session_id', 'item_id']].groupby('session_id', sort=False).item_id.apply(pd.Series.tolist).tolist()\n",
        "  SessionsListOfItems = pd.DataFrame({'session_id':RecommendationsDF.session_id.unique().tolist(),\n",
        "                                      'item_recommendations':ListOfItems})\n",
        "  SessionsListOfItems.item_recommendations = SessionsListOfItems.item_recommendations.apply(lambda x: ' '.join(x))\n",
        "  data = clickout_dataframe.merge(SessionsListOfItems, on='session_id', how='left')\n",
        "  return data\n",
        "  \n",
        "def get_probabilities_submission(model_path, X, session_item_dataset):\n",
        "  '''\n",
        "  Desc: function that gets the probability of each item being selected by the user, rerank the items in the session based on the probabilites\n",
        "\n",
        "  Input: model_path: String with the name of the stored model\n",
        "         X: array of scaled features of the dataset\n",
        "         session_item_dataset: Pandas Dataframe with the sessions, items, and clickout\n",
        "        \n",
        "  Output: clickout_rank: List of lists that carries which item was selected in which rank\n",
        "          RecommendationsDF: Pandas Dataframe to be transformed and merged to the Clickout Dataframe\n",
        "  '''\n",
        "  model = joblib.load(model_path)\n",
        "  BothProbabilities = model.predict_proba(X)\n",
        "  Probabilities = [Probability[1] for Probability in BothProbabilities]\n",
        "  session_item_dataset['probability'] = Probabilities\n",
        "  RecommendationsDF = session_item_dataset.groupby(['session_id'], sort=False).apply(lambda x: (x.sort_values('probability', ascending=False)))\n",
        "  return RecommendationsDF"
      ],
      "execution_count": 0,
      "outputs": []
    },
    {
      "cell_type": "code",
      "metadata": {
        "id": "LI14f903Z227",
        "colab_type": "code",
        "colab": {}
      },
      "source": [
        "ListOfItems = Output.reset_index(drop=True)[['session_id', 'item_id']].groupby('session_id', sort=False).item_id.apply(pd.Series.tolist).tolist()\n",
        "SessionsListOfItems = pd.DataFrame({'session_id':Output.session_id.unique().tolist(),\n",
        "                                    'item_recommendations':ListOfItems})\n",
        "SessionsListOfItems.item_recommendations = SessionsListOfItems.item_recommendations.apply(lambda x: ' '.join(x))\n",
        "SessionsListOfItems.head()"
      ],
      "execution_count": 0,
      "outputs": []
    },
    {
      "cell_type": "code",
      "metadata": {
        "id": "9SuznXcD2f78",
        "colab_type": "code",
        "colab": {}
      },
      "source": [
        "from data_transformation import data_transformation\n",
        "\n",
        "test_clickout = test_set[test_set.action_type=='clickout item'].groupby('session_id').tail(1)\n",
        "test_clickout = test_clickout[['user_id', 'session_id', 'timestamp', 'step']]\n",
        "test_set_transformed = data_transformation.transform_data(test_set)\n",
        "test_session_item = test_set_transformed[['session_id', 'item_id']]\n",
        "X_test_submission = test_set_transformed[features]\n",
        "X_test_submission_scaled = full_pipeline.fit_transform(X_test_submission)\n",
        "RecommendationsDF = get_probabilities_submission('./modelsProperties/RF_PCA.pkl', X_test_submission_scaled, test_session_item)\n",
        "SubmissionDF = transform_Recommendations(test_clickout, RecommendationsDF)\n",
        "SubmissionDF.head()"
      ],
      "execution_count": 0,
      "outputs": []
    },
    {
      "cell_type": "code",
      "metadata": {
        "id": "XgxkDjKz_6Rb",
        "colab_type": "code",
        "colab": {
          "base_uri": "https://localhost:8080/",
          "height": 233
        },
        "outputId": "a90b248c-854a-4011-c900-d254d11e4236"
      },
      "source": [
        "ConcatProperties(X_test_submission_scaled)"
      ],
      "execution_count": 38,
      "outputs": [
        {
          "output_type": "execute_result",
          "data": {
            "text/plain": [
              "array([[-0.04855025,  0.63374487, -0.37165291, ..., -0.26967466,\n",
              "        -0.09979741,  1.89355082],\n",
              "       [-0.04855025, -0.11493457,  0.87157867, ..., -0.40391416,\n",
              "        -0.09979741,  1.89355082],\n",
              "       [-0.04855025, -0.11493457,  0.44706057, ..., -0.39272753,\n",
              "        -0.09979741,  1.89355082],\n",
              "       ...,\n",
              "       [-0.04855025, -0.11493457, -0.12907114, ..., -0.17458835,\n",
              "        -0.09979741, -0.52810835],\n",
              "       [-0.04855025, -0.11493457, -0.12907114, ...,  0.20575688,\n",
              "        -0.09979741, -0.52810835],\n",
              "       [-0.04855025, -0.11493457, -0.0684257 , ...,  0.32880975,\n",
              "        -0.09979741, -0.52810835]])"
            ]
          },
          "metadata": {
            "tags": []
          },
          "execution_count": 38
        }
      ]
    },
    {
      "cell_type": "code",
      "metadata": {
        "id": "EE4LgRI0y2RG",
        "colab_type": "code",
        "colab": {}
      },
      "source": [
        "SubmissionDF.to_csv('./Datasets/clean_data/RecommendationsSubmission.csv', index=False)"
      ],
      "execution_count": 0,
      "outputs": []
    }
  ]
}